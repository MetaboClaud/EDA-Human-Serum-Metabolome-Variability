{
 "cells": [
  {
   "cell_type": "markdown",
   "metadata": {},
   "source": [
    "# 1. Importar librerias\n",
    "\n",
    "* Data analysis: Numpy, Pandas\n",
    "* Visualización: matplotlib, matplotlib.pyplot"
   ]
  },
  {
   "cell_type": "code",
   "execution_count": 109,
   "metadata": {},
   "outputs": [
    {
     "data": {
      "text/html": [
       "        <script type=\"text/javascript\">\n",
       "        window.PlotlyConfig = {MathJaxConfig: 'local'};\n",
       "        if (window.MathJax && window.MathJax.Hub && window.MathJax.Hub.Config) {window.MathJax.Hub.Config({SVG: {font: \"STIX-Web\"}});}\n",
       "        if (typeof require !== 'undefined') {\n",
       "        require.undef(\"plotly\");\n",
       "        requirejs.config({\n",
       "            paths: {\n",
       "                'plotly': ['https://cdn.plot.ly/plotly-2.12.1.min']\n",
       "            }\n",
       "        });\n",
       "        require(['plotly'], function(Plotly) {\n",
       "            window._Plotly = Plotly;\n",
       "        });\n",
       "        }\n",
       "        </script>\n",
       "        "
      ]
     },
     "metadata": {},
     "output_type": "display_data"
    }
   ],
   "source": [
    "# Data analysis\n",
    "import numpy as np\n",
    "import pandas as pd\n",
    "import random\n",
    "\n",
    "#Visualización\n",
    "import matplotlib as mpl\n",
    "import matplotlib.pyplot as plt\n",
    "%matplotlib inline\n",
    "import seaborn as sns\n",
    "from sklearn.datasets import load_iris, load_boston\n",
    "\n",
    "\n",
    "# plotly\n",
    "# import plotly.plotly as py\n",
    "from plotly.offline import init_notebook_mode, iplot, plot\n",
    "import plotly as py\n",
    "init_notebook_mode(connected=True)\n",
    "import plotly.graph_objs as go\n",
    "\n",
    "# word cloud library\n",
    "from wordcloud import WordCloud"
   ]
  },
  {
   "cell_type": "code",
   "execution_count": null,
   "metadata": {},
   "outputs": [],
   "source": [
    "#xls = pd.read_excel(\"C:/Users/Claudia/Documents/GitHub/EDA-Human-Serum-Metabolome-Variability/src/data/study_data.xlsx\")\n",
    "#df1 = pd.read_excel(xls, sheet_name= \"data_matrix\")"
   ]
  },
  {
   "cell_type": "markdown",
   "metadata": {},
   "source": [
    "# 2. Cargar datos\n",
    "## 2.1 Dataset informacion general de estudio"
   ]
  },
  {
   "cell_type": "code",
   "execution_count": 49,
   "metadata": {},
   "outputs": [
    {
     "data": {
      "text/html": [
       "<div>\n",
       "<style scoped>\n",
       "    .dataframe tbody tr th:only-of-type {\n",
       "        vertical-align: middle;\n",
       "    }\n",
       "\n",
       "    .dataframe tbody tr th {\n",
       "        vertical-align: top;\n",
       "    }\n",
       "\n",
       "    .dataframe thead th {\n",
       "        text-align: right;\n",
       "    }\n",
       "</style>\n",
       "<table border=\"1\" class=\"dataframe\">\n",
       "  <thead>\n",
       "    <tr style=\"text-align: right;\">\n",
       "      <th></th>\n",
       "      <th>sample_id</th>\n",
       "      <th>sample_id_study</th>\n",
       "      <th>CLIENT_IDENTIFIER</th>\n",
       "      <th>CLIENT_MATRIX</th>\n",
       "      <th>DAY</th>\n",
       "      <th>Health</th>\n",
       "      <th>Time</th>\n",
       "      <th>HEALTH_STATUS</th>\n",
       "      <th>RUN_DAY</th>\n",
       "      <th>SAMPLE_AMT</th>\n",
       "      <th>SUBJECT</th>\n",
       "      <th>Time Point</th>\n",
       "      <th>study_group</th>\n",
       "      <th>sex</th>\n",
       "      <th>BMI</th>\n",
       "      <th>hba1c</th>\n",
       "    </tr>\n",
       "  </thead>\n",
       "  <tbody>\n",
       "    <tr>\n",
       "      <th>0</th>\n",
       "      <td>sample_0001</td>\n",
       "      <td>2904988</td>\n",
       "      <td>101-d2-MMT(-0.5h)-S002</td>\n",
       "      <td>Serum</td>\n",
       "      <td>D2</td>\n",
       "      <td>Healthy</td>\n",
       "      <td>Pre</td>\n",
       "      <td>healthy subjects</td>\n",
       "      <td>1</td>\n",
       "      <td>200 ul</td>\n",
       "      <td>101</td>\n",
       "      <td>pre</td>\n",
       "      <td>Healthy_D2_Pre</td>\n",
       "      <td>f</td>\n",
       "      <td>27.9</td>\n",
       "      <td>5.05</td>\n",
       "    </tr>\n",
       "    <tr>\n",
       "      <th>1</th>\n",
       "      <td>sample_0002</td>\n",
       "      <td>2904989</td>\n",
       "      <td>101-d2-MMT(+1h)-S032</td>\n",
       "      <td>Serum</td>\n",
       "      <td>D2</td>\n",
       "      <td>Healthy</td>\n",
       "      <td>Post</td>\n",
       "      <td>healthy subjects</td>\n",
       "      <td>1</td>\n",
       "      <td>200 ul</td>\n",
       "      <td>101</td>\n",
       "      <td>1h</td>\n",
       "      <td>Healthy_D2_Post</td>\n",
       "      <td>f</td>\n",
       "      <td>27.9</td>\n",
       "      <td>5.05</td>\n",
       "    </tr>\n",
       "    <tr>\n",
       "      <th>2</th>\n",
       "      <td>sample_0003</td>\n",
       "      <td>2904991</td>\n",
       "      <td>101-d14-MMT(-0.5h)-S002</td>\n",
       "      <td>Serum</td>\n",
       "      <td>D14</td>\n",
       "      <td>Healthy</td>\n",
       "      <td>Pre</td>\n",
       "      <td>healthy subjects</td>\n",
       "      <td>1</td>\n",
       "      <td>200 ul</td>\n",
       "      <td>101</td>\n",
       "      <td>pre</td>\n",
       "      <td>Healthy_D14_Pre</td>\n",
       "      <td>f</td>\n",
       "      <td>27.9</td>\n",
       "      <td>5.05</td>\n",
       "    </tr>\n",
       "    <tr>\n",
       "      <th>3</th>\n",
       "      <td>sample_0004</td>\n",
       "      <td>2904992</td>\n",
       "      <td>101-d14-MMT(+1h)-S032</td>\n",
       "      <td>Serum</td>\n",
       "      <td>D14</td>\n",
       "      <td>Healthy</td>\n",
       "      <td>Post</td>\n",
       "      <td>healthy subjects</td>\n",
       "      <td>1</td>\n",
       "      <td>200 ul</td>\n",
       "      <td>101</td>\n",
       "      <td>1h</td>\n",
       "      <td>Healthy_D14_Post</td>\n",
       "      <td>f</td>\n",
       "      <td>27.9</td>\n",
       "      <td>5.05</td>\n",
       "    </tr>\n",
       "    <tr>\n",
       "      <th>4</th>\n",
       "      <td>sample_0005</td>\n",
       "      <td>2904994</td>\n",
       "      <td>101-d28-MMT(-0.5h)-S002</td>\n",
       "      <td>Serum</td>\n",
       "      <td>D28</td>\n",
       "      <td>Healthy</td>\n",
       "      <td>Pre</td>\n",
       "      <td>healthy subjects</td>\n",
       "      <td>1</td>\n",
       "      <td>200 ul</td>\n",
       "      <td>101</td>\n",
       "      <td>pre</td>\n",
       "      <td>Healthy_D28_Pre</td>\n",
       "      <td>f</td>\n",
       "      <td>27.9</td>\n",
       "      <td>5.05</td>\n",
       "    </tr>\n",
       "  </tbody>\n",
       "</table>\n",
       "</div>"
      ],
      "text/plain": [
       "     sample_id  sample_id_study        CLIENT_IDENTIFIER CLIENT_MATRIX  DAY  \\\n",
       "0  sample_0001          2904988   101-d2-MMT(-0.5h)-S002         Serum   D2   \n",
       "1  sample_0002          2904989     101-d2-MMT(+1h)-S032         Serum   D2   \n",
       "2  sample_0003          2904991  101-d14-MMT(-0.5h)-S002         Serum  D14   \n",
       "3  sample_0004          2904992    101-d14-MMT(+1h)-S032         Serum  D14   \n",
       "4  sample_0005          2904994  101-d28-MMT(-0.5h)-S002         Serum  D28   \n",
       "\n",
       "    Health  Time     HEALTH_STATUS  RUN_DAY SAMPLE_AMT  SUBJECT Time Point  \\\n",
       "0  Healthy   Pre  healthy subjects        1     200 ul      101        pre   \n",
       "1  Healthy  Post  healthy subjects        1     200 ul      101         1h   \n",
       "2  Healthy   Pre  healthy subjects        1     200 ul      101        pre   \n",
       "3  Healthy  Post  healthy subjects        1     200 ul      101         1h   \n",
       "4  Healthy   Pre  healthy subjects        1     200 ul      101        pre   \n",
       "\n",
       "        study_group sex   BMI  hba1c  \n",
       "0    Healthy_D2_Pre   f  27.9   5.05  \n",
       "1   Healthy_D2_Post   f  27.9   5.05  \n",
       "2   Healthy_D14_Pre   f  27.9   5.05  \n",
       "3  Healthy_D14_Post   f  27.9   5.05  \n",
       "4   Healthy_D28_Pre   f  27.9   5.05  "
      ]
     },
     "execution_count": 49,
     "metadata": {},
     "output_type": "execute_result"
    }
   ],
   "source": [
    "#Dataset información general del estudio\n",
    "sample_metadata = pd.read_excel(\"C:/Users/Claudia/Documents/GitHub/EDA-Human-Serum-Metabolome-Variability/src/data/sample_metadata.xlsx\")\n",
    "sample_metadata.head()"
   ]
  },
  {
   "cell_type": "code",
   "execution_count": 50,
   "metadata": {},
   "outputs": [
    {
     "data": {
      "text/plain": [
       "Index(['sample_id', 'sample_id_study', 'CLIENT_IDENTIFIER', 'CLIENT_MATRIX',\n",
       "       'DAY', 'Health', 'Time', 'HEALTH_STATUS', 'RUN_DAY', 'SAMPLE_AMT',\n",
       "       'SUBJECT', 'Time Point', 'study_group', 'sex', 'BMI', 'hba1c'],\n",
       "      dtype='object')"
      ]
     },
     "execution_count": 50,
     "metadata": {},
     "output_type": "execute_result"
    }
   ],
   "source": [
    "#Nombre de las columnas\n",
    "sample_metadata.columns"
   ]
  },
  {
   "cell_type": "markdown",
   "metadata": {},
   "source": [
    "***Features***\n",
    "\n",
    "    *sample_id: ID único de muestra\n",
    "    *sample_id_study: \n",
    "    *CLIENT_IDENTIFIER:\n",
    "    *CLIENT_MATRIX: Tipo de muestra extraída:\n",
    "    *DAY:\n",
    "    *Health: \n",
    "    *Time:\n",
    "    *HEALTH_STATUS:\n",
    "    *RUN_DAY:\n",
    "    *SAMPLE_AMT:\n",
    "    *SUBJECT:\n",
    "    *Time Point:\n",
    "    *study_group:\n",
    "    *sex:\n",
    "    *BMI:\n",
    "    *hba1:\n",
    "\n",
    "\n"
   ]
  },
  {
   "cell_type": "code",
   "execution_count": 55,
   "metadata": {},
   "outputs": [
    {
     "name": "stdout",
     "output_type": "stream",
     "text": [
      "<class 'pandas.core.frame.DataFrame'>\n",
      "RangeIndex: 180 entries, 0 to 179\n",
      "Data columns (total 16 columns):\n",
      " #   Column             Non-Null Count  Dtype  \n",
      "---  ------             --------------  -----  \n",
      " 0   sample_id          180 non-null    object \n",
      " 1   sample_id_study    180 non-null    int64  \n",
      " 2   CLIENT_IDENTIFIER  180 non-null    object \n",
      " 3   CLIENT_MATRIX      180 non-null    object \n",
      " 4   DAY                180 non-null    object \n",
      " 5   Health             180 non-null    object \n",
      " 6   Time               180 non-null    object \n",
      " 7   HEALTH_STATUS      180 non-null    object \n",
      " 8   RUN_DAY            180 non-null    int64  \n",
      " 9   SAMPLE_AMT         180 non-null    object \n",
      " 10  SUBJECT            180 non-null    int64  \n",
      " 11  Time Point         180 non-null    object \n",
      " 12  study_group        180 non-null    object \n",
      " 13  sex                180 non-null    object \n",
      " 14  BMI                180 non-null    float64\n",
      " 15  hba1c              180 non-null    float64\n",
      "dtypes: float64(2), int64(3), object(11)\n",
      "memory usage: 22.6+ KB\n"
     ]
    }
   ],
   "source": [
    "#información básica del dataset, tipos de datos y columnas\n",
    "sample_metadata.info()"
   ]
  },
  {
   "cell_type": "markdown",
   "metadata": {},
   "source": [
    "## 2.2 Dataset principal metabolitos encontrados"
   ]
  },
  {
   "cell_type": "code",
   "execution_count": 52,
   "metadata": {},
   "outputs": [
    {
     "data": {
      "text/html": [
       "<div>\n",
       "<style scoped>\n",
       "    .dataframe tbody tr th:only-of-type {\n",
       "        vertical-align: middle;\n",
       "    }\n",
       "\n",
       "    .dataframe tbody tr th {\n",
       "        vertical-align: top;\n",
       "    }\n",
       "\n",
       "    .dataframe thead th {\n",
       "        text-align: right;\n",
       "    }\n",
       "</style>\n",
       "<table border=\"1\" class=\"dataframe\">\n",
       "  <thead>\n",
       "    <tr style=\"text-align: right;\">\n",
       "      <th></th>\n",
       "      <th>HEALTH_STATUS</th>\n",
       "      <th>Sample_id</th>\n",
       "      <th>glycine</th>\n",
       "      <th>N-acetylglycine</th>\n",
       "      <th>sarcosine</th>\n",
       "      <th>dimethylglycine</th>\n",
       "      <th>betaine</th>\n",
       "      <th>serine</th>\n",
       "      <th>N-acetylserine</th>\n",
       "      <th>threonine</th>\n",
       "      <th>...</th>\n",
       "      <th>X - 24542</th>\n",
       "      <th>X - 24546</th>\n",
       "      <th>X - 24549</th>\n",
       "      <th>X - 24559</th>\n",
       "      <th>X - 24585</th>\n",
       "      <th>X - 24699</th>\n",
       "      <th>X - 24728</th>\n",
       "      <th>X - 24738</th>\n",
       "      <th>X - 24748</th>\n",
       "      <th>X - 24766</th>\n",
       "    </tr>\n",
       "  </thead>\n",
       "  <tbody>\n",
       "    <tr>\n",
       "      <th>0</th>\n",
       "      <td>Healthy</td>\n",
       "      <td>sample_0001</td>\n",
       "      <td>0.793620</td>\n",
       "      <td>0.743363</td>\n",
       "      <td>0.360069</td>\n",
       "      <td>0.557168</td>\n",
       "      <td>0.886952</td>\n",
       "      <td>0.698678</td>\n",
       "      <td>0.811203</td>\n",
       "      <td>0.546670</td>\n",
       "      <td>...</td>\n",
       "      <td>0.004096</td>\n",
       "      <td>0.517077</td>\n",
       "      <td>0.661523</td>\n",
       "      <td>0.957021</td>\n",
       "      <td>1.384068</td>\n",
       "      <td>0.690831</td>\n",
       "      <td>0.865679</td>\n",
       "      <td>0.254363</td>\n",
       "      <td>1.369263</td>\n",
       "      <td>0.898327</td>\n",
       "    </tr>\n",
       "    <tr>\n",
       "      <th>1</th>\n",
       "      <td>Healthy</td>\n",
       "      <td>sample_0002</td>\n",
       "      <td>0.713684</td>\n",
       "      <td>0.762673</td>\n",
       "      <td>0.716626</td>\n",
       "      <td>0.739390</td>\n",
       "      <td>0.921852</td>\n",
       "      <td>0.814239</td>\n",
       "      <td>0.858662</td>\n",
       "      <td>0.633751</td>\n",
       "      <td>...</td>\n",
       "      <td>2.576258</td>\n",
       "      <td>0.534857</td>\n",
       "      <td>0.570957</td>\n",
       "      <td>1.111478</td>\n",
       "      <td>1.115342</td>\n",
       "      <td>0.917702</td>\n",
       "      <td>0.371899</td>\n",
       "      <td>0.244953</td>\n",
       "      <td>1.417962</td>\n",
       "      <td>1.023614</td>\n",
       "    </tr>\n",
       "    <tr>\n",
       "      <th>2</th>\n",
       "      <td>Healthy</td>\n",
       "      <td>sample_0003</td>\n",
       "      <td>1.073165</td>\n",
       "      <td>1.184788</td>\n",
       "      <td>0.448938</td>\n",
       "      <td>0.609914</td>\n",
       "      <td>0.861769</td>\n",
       "      <td>1.064785</td>\n",
       "      <td>1.129699</td>\n",
       "      <td>1.094749</td>\n",
       "      <td>...</td>\n",
       "      <td>0.003518</td>\n",
       "      <td>0.858642</td>\n",
       "      <td>0.463791</td>\n",
       "      <td>1.064177</td>\n",
       "      <td>1.036884</td>\n",
       "      <td>0.736977</td>\n",
       "      <td>0.919946</td>\n",
       "      <td>0.209242</td>\n",
       "      <td>1.028140</td>\n",
       "      <td>1.718457</td>\n",
       "    </tr>\n",
       "    <tr>\n",
       "      <th>3</th>\n",
       "      <td>Healthy</td>\n",
       "      <td>sample_0004</td>\n",
       "      <td>1.074977</td>\n",
       "      <td>0.959059</td>\n",
       "      <td>0.695333</td>\n",
       "      <td>0.699223</td>\n",
       "      <td>0.893694</td>\n",
       "      <td>1.294579</td>\n",
       "      <td>1.062554</td>\n",
       "      <td>1.362446</td>\n",
       "      <td>...</td>\n",
       "      <td>2.320197</td>\n",
       "      <td>0.770668</td>\n",
       "      <td>0.628167</td>\n",
       "      <td>1.075152</td>\n",
       "      <td>0.744478</td>\n",
       "      <td>0.750908</td>\n",
       "      <td>0.392298</td>\n",
       "      <td>0.211141</td>\n",
       "      <td>1.126669</td>\n",
       "      <td>2.942013</td>\n",
       "    </tr>\n",
       "    <tr>\n",
       "      <th>4</th>\n",
       "      <td>Healthy</td>\n",
       "      <td>sample_0005</td>\n",
       "      <td>0.903153</td>\n",
       "      <td>0.442795</td>\n",
       "      <td>0.444998</td>\n",
       "      <td>0.668752</td>\n",
       "      <td>0.917792</td>\n",
       "      <td>0.832667</td>\n",
       "      <td>1.031598</td>\n",
       "      <td>0.645060</td>\n",
       "      <td>...</td>\n",
       "      <td>0.001692</td>\n",
       "      <td>0.637424</td>\n",
       "      <td>0.862852</td>\n",
       "      <td>1.147057</td>\n",
       "      <td>1.206461</td>\n",
       "      <td>0.506770</td>\n",
       "      <td>0.651075</td>\n",
       "      <td>0.679437</td>\n",
       "      <td>0.936695</td>\n",
       "      <td>0.993321</td>\n",
       "    </tr>\n",
       "  </tbody>\n",
       "</table>\n",
       "<p>5 rows × 1488 columns</p>\n",
       "</div>"
      ],
      "text/plain": [
       "  HEALTH_STATUS    Sample_id   glycine  N-acetylglycine  sarcosine  \\\n",
       "0       Healthy  sample_0001  0.793620         0.743363   0.360069   \n",
       "1       Healthy  sample_0002  0.713684         0.762673   0.716626   \n",
       "2       Healthy  sample_0003  1.073165         1.184788   0.448938   \n",
       "3       Healthy  sample_0004  1.074977         0.959059   0.695333   \n",
       "4       Healthy  sample_0005  0.903153         0.442795   0.444998   \n",
       "\n",
       "   dimethylglycine   betaine    serine  N-acetylserine  threonine  ...  \\\n",
       "0         0.557168  0.886952  0.698678        0.811203   0.546670  ...   \n",
       "1         0.739390  0.921852  0.814239        0.858662   0.633751  ...   \n",
       "2         0.609914  0.861769  1.064785        1.129699   1.094749  ...   \n",
       "3         0.699223  0.893694  1.294579        1.062554   1.362446  ...   \n",
       "4         0.668752  0.917792  0.832667        1.031598   0.645060  ...   \n",
       "\n",
       "   X - 24542  X - 24546  X - 24549  X - 24559  X - 24585  X - 24699  \\\n",
       "0   0.004096   0.517077   0.661523   0.957021   1.384068   0.690831   \n",
       "1   2.576258   0.534857   0.570957   1.111478   1.115342   0.917702   \n",
       "2   0.003518   0.858642   0.463791   1.064177   1.036884   0.736977   \n",
       "3   2.320197   0.770668   0.628167   1.075152   0.744478   0.750908   \n",
       "4   0.001692   0.637424   0.862852   1.147057   1.206461   0.506770   \n",
       "\n",
       "   X - 24728  X - 24738  X - 24748  X - 24766  \n",
       "0   0.865679   0.254363   1.369263   0.898327  \n",
       "1   0.371899   0.244953   1.417962   1.023614  \n",
       "2   0.919946   0.209242   1.028140   1.718457  \n",
       "3   0.392298   0.211141   1.126669   2.942013  \n",
       "4   0.651075   0.679437   0.936695   0.993321  \n",
       "\n",
       "[5 rows x 1488 columns]"
      ]
     },
     "execution_count": 52,
     "metadata": {},
     "output_type": "execute_result"
    }
   ],
   "source": [
    "#Dataset principal de metabolitos encontrados \n",
    "data_matrix = pd.read_excel(\"C:/Users/Claudia/Documents/GitHub/EDA-Human-Serum-Metabolome-Variability/src/data/test.xlsx\")\n",
    "data_matrix.head()"
   ]
  },
  {
   "cell_type": "markdown",
   "metadata": {},
   "source": [
    "***Features***\n",
    "\n",
    "    -HEALTH_STATUS: \n",
    "    -Sample_id:\n",
    "El resto de columnas corresponden a cada uno de los metabolitos medidos, aquellos que no fueron identificados llevan por nombre  X- número"
   ]
  },
  {
   "cell_type": "code",
   "execution_count": 60,
   "metadata": {},
   "outputs": [
    {
     "name": "stdout",
     "output_type": "stream",
     "text": [
      "El dataset tiene 180 Filas\n",
      "El dataset tiene 1488 Columnas\n"
     ]
    }
   ],
   "source": [
    "# Información del tamaño del dataset\n",
    "print(\"El dataset tiene {0} Filas\".format(data_matrix.shape[0]))\n",
    "print(\"El dataset tiene {0} Columnas\".format(data_matrix.shape[1]))"
   ]
  },
  {
   "cell_type": "code",
   "execution_count": 61,
   "metadata": {},
   "outputs": [
    {
     "data": {
      "text/html": [
       "<div>\n",
       "<style scoped>\n",
       "    .dataframe tbody tr th:only-of-type {\n",
       "        vertical-align: middle;\n",
       "    }\n",
       "\n",
       "    .dataframe tbody tr th {\n",
       "        vertical-align: top;\n",
       "    }\n",
       "\n",
       "    .dataframe thead th {\n",
       "        text-align: right;\n",
       "    }\n",
       "</style>\n",
       "<table border=\"1\" class=\"dataframe\">\n",
       "  <thead>\n",
       "    <tr style=\"text-align: right;\">\n",
       "      <th></th>\n",
       "      <th>HEALTH_STATUS</th>\n",
       "      <th>Sample_id</th>\n",
       "      <th>glycine</th>\n",
       "      <th>N-acetylglycine</th>\n",
       "      <th>sarcosine</th>\n",
       "      <th>dimethylglycine</th>\n",
       "      <th>betaine</th>\n",
       "      <th>serine</th>\n",
       "      <th>N-acetylserine</th>\n",
       "      <th>threonine</th>\n",
       "      <th>...</th>\n",
       "      <th>X - 24542</th>\n",
       "      <th>X - 24546</th>\n",
       "      <th>X - 24549</th>\n",
       "      <th>X - 24559</th>\n",
       "      <th>X - 24585</th>\n",
       "      <th>X - 24699</th>\n",
       "      <th>X - 24728</th>\n",
       "      <th>X - 24738</th>\n",
       "      <th>X - 24748</th>\n",
       "      <th>X - 24766</th>\n",
       "    </tr>\n",
       "  </thead>\n",
       "  <tbody>\n",
       "    <tr>\n",
       "      <th>0</th>\n",
       "      <td>False</td>\n",
       "      <td>False</td>\n",
       "      <td>False</td>\n",
       "      <td>False</td>\n",
       "      <td>False</td>\n",
       "      <td>False</td>\n",
       "      <td>False</td>\n",
       "      <td>False</td>\n",
       "      <td>False</td>\n",
       "      <td>False</td>\n",
       "      <td>...</td>\n",
       "      <td>False</td>\n",
       "      <td>False</td>\n",
       "      <td>False</td>\n",
       "      <td>False</td>\n",
       "      <td>False</td>\n",
       "      <td>False</td>\n",
       "      <td>False</td>\n",
       "      <td>False</td>\n",
       "      <td>False</td>\n",
       "      <td>False</td>\n",
       "    </tr>\n",
       "    <tr>\n",
       "      <th>1</th>\n",
       "      <td>False</td>\n",
       "      <td>False</td>\n",
       "      <td>False</td>\n",
       "      <td>False</td>\n",
       "      <td>False</td>\n",
       "      <td>False</td>\n",
       "      <td>False</td>\n",
       "      <td>False</td>\n",
       "      <td>False</td>\n",
       "      <td>False</td>\n",
       "      <td>...</td>\n",
       "      <td>False</td>\n",
       "      <td>False</td>\n",
       "      <td>False</td>\n",
       "      <td>False</td>\n",
       "      <td>False</td>\n",
       "      <td>False</td>\n",
       "      <td>False</td>\n",
       "      <td>False</td>\n",
       "      <td>False</td>\n",
       "      <td>False</td>\n",
       "    </tr>\n",
       "    <tr>\n",
       "      <th>2</th>\n",
       "      <td>False</td>\n",
       "      <td>False</td>\n",
       "      <td>False</td>\n",
       "      <td>False</td>\n",
       "      <td>False</td>\n",
       "      <td>False</td>\n",
       "      <td>False</td>\n",
       "      <td>False</td>\n",
       "      <td>False</td>\n",
       "      <td>False</td>\n",
       "      <td>...</td>\n",
       "      <td>False</td>\n",
       "      <td>False</td>\n",
       "      <td>False</td>\n",
       "      <td>False</td>\n",
       "      <td>False</td>\n",
       "      <td>False</td>\n",
       "      <td>False</td>\n",
       "      <td>False</td>\n",
       "      <td>False</td>\n",
       "      <td>False</td>\n",
       "    </tr>\n",
       "    <tr>\n",
       "      <th>3</th>\n",
       "      <td>False</td>\n",
       "      <td>False</td>\n",
       "      <td>False</td>\n",
       "      <td>False</td>\n",
       "      <td>False</td>\n",
       "      <td>False</td>\n",
       "      <td>False</td>\n",
       "      <td>False</td>\n",
       "      <td>False</td>\n",
       "      <td>False</td>\n",
       "      <td>...</td>\n",
       "      <td>False</td>\n",
       "      <td>False</td>\n",
       "      <td>False</td>\n",
       "      <td>False</td>\n",
       "      <td>False</td>\n",
       "      <td>False</td>\n",
       "      <td>False</td>\n",
       "      <td>False</td>\n",
       "      <td>False</td>\n",
       "      <td>False</td>\n",
       "    </tr>\n",
       "    <tr>\n",
       "      <th>4</th>\n",
       "      <td>False</td>\n",
       "      <td>False</td>\n",
       "      <td>False</td>\n",
       "      <td>False</td>\n",
       "      <td>False</td>\n",
       "      <td>False</td>\n",
       "      <td>False</td>\n",
       "      <td>False</td>\n",
       "      <td>False</td>\n",
       "      <td>False</td>\n",
       "      <td>...</td>\n",
       "      <td>False</td>\n",
       "      <td>False</td>\n",
       "      <td>False</td>\n",
       "      <td>False</td>\n",
       "      <td>False</td>\n",
       "      <td>False</td>\n",
       "      <td>False</td>\n",
       "      <td>False</td>\n",
       "      <td>False</td>\n",
       "      <td>False</td>\n",
       "    </tr>\n",
       "    <tr>\n",
       "      <th>...</th>\n",
       "      <td>...</td>\n",
       "      <td>...</td>\n",
       "      <td>...</td>\n",
       "      <td>...</td>\n",
       "      <td>...</td>\n",
       "      <td>...</td>\n",
       "      <td>...</td>\n",
       "      <td>...</td>\n",
       "      <td>...</td>\n",
       "      <td>...</td>\n",
       "      <td>...</td>\n",
       "      <td>...</td>\n",
       "      <td>...</td>\n",
       "      <td>...</td>\n",
       "      <td>...</td>\n",
       "      <td>...</td>\n",
       "      <td>...</td>\n",
       "      <td>...</td>\n",
       "      <td>...</td>\n",
       "      <td>...</td>\n",
       "      <td>...</td>\n",
       "    </tr>\n",
       "    <tr>\n",
       "      <th>175</th>\n",
       "      <td>False</td>\n",
       "      <td>False</td>\n",
       "      <td>False</td>\n",
       "      <td>False</td>\n",
       "      <td>False</td>\n",
       "      <td>False</td>\n",
       "      <td>False</td>\n",
       "      <td>False</td>\n",
       "      <td>False</td>\n",
       "      <td>False</td>\n",
       "      <td>...</td>\n",
       "      <td>False</td>\n",
       "      <td>False</td>\n",
       "      <td>False</td>\n",
       "      <td>False</td>\n",
       "      <td>False</td>\n",
       "      <td>False</td>\n",
       "      <td>False</td>\n",
       "      <td>False</td>\n",
       "      <td>False</td>\n",
       "      <td>False</td>\n",
       "    </tr>\n",
       "    <tr>\n",
       "      <th>176</th>\n",
       "      <td>False</td>\n",
       "      <td>False</td>\n",
       "      <td>False</td>\n",
       "      <td>False</td>\n",
       "      <td>False</td>\n",
       "      <td>False</td>\n",
       "      <td>False</td>\n",
       "      <td>False</td>\n",
       "      <td>False</td>\n",
       "      <td>False</td>\n",
       "      <td>...</td>\n",
       "      <td>False</td>\n",
       "      <td>False</td>\n",
       "      <td>False</td>\n",
       "      <td>False</td>\n",
       "      <td>False</td>\n",
       "      <td>False</td>\n",
       "      <td>False</td>\n",
       "      <td>False</td>\n",
       "      <td>False</td>\n",
       "      <td>False</td>\n",
       "    </tr>\n",
       "    <tr>\n",
       "      <th>177</th>\n",
       "      <td>False</td>\n",
       "      <td>False</td>\n",
       "      <td>False</td>\n",
       "      <td>False</td>\n",
       "      <td>False</td>\n",
       "      <td>False</td>\n",
       "      <td>False</td>\n",
       "      <td>False</td>\n",
       "      <td>False</td>\n",
       "      <td>False</td>\n",
       "      <td>...</td>\n",
       "      <td>False</td>\n",
       "      <td>False</td>\n",
       "      <td>False</td>\n",
       "      <td>False</td>\n",
       "      <td>False</td>\n",
       "      <td>False</td>\n",
       "      <td>False</td>\n",
       "      <td>False</td>\n",
       "      <td>False</td>\n",
       "      <td>False</td>\n",
       "    </tr>\n",
       "    <tr>\n",
       "      <th>178</th>\n",
       "      <td>False</td>\n",
       "      <td>False</td>\n",
       "      <td>False</td>\n",
       "      <td>False</td>\n",
       "      <td>False</td>\n",
       "      <td>False</td>\n",
       "      <td>False</td>\n",
       "      <td>False</td>\n",
       "      <td>False</td>\n",
       "      <td>False</td>\n",
       "      <td>...</td>\n",
       "      <td>False</td>\n",
       "      <td>False</td>\n",
       "      <td>False</td>\n",
       "      <td>False</td>\n",
       "      <td>False</td>\n",
       "      <td>False</td>\n",
       "      <td>False</td>\n",
       "      <td>False</td>\n",
       "      <td>False</td>\n",
       "      <td>False</td>\n",
       "    </tr>\n",
       "    <tr>\n",
       "      <th>179</th>\n",
       "      <td>False</td>\n",
       "      <td>False</td>\n",
       "      <td>False</td>\n",
       "      <td>False</td>\n",
       "      <td>False</td>\n",
       "      <td>False</td>\n",
       "      <td>False</td>\n",
       "      <td>False</td>\n",
       "      <td>False</td>\n",
       "      <td>False</td>\n",
       "      <td>...</td>\n",
       "      <td>False</td>\n",
       "      <td>False</td>\n",
       "      <td>False</td>\n",
       "      <td>False</td>\n",
       "      <td>False</td>\n",
       "      <td>False</td>\n",
       "      <td>False</td>\n",
       "      <td>False</td>\n",
       "      <td>False</td>\n",
       "      <td>False</td>\n",
       "    </tr>\n",
       "  </tbody>\n",
       "</table>\n",
       "<p>180 rows × 1488 columns</p>\n",
       "</div>"
      ],
      "text/plain": [
       "     HEALTH_STATUS  Sample_id  glycine  N-acetylglycine  sarcosine  \\\n",
       "0            False      False    False            False      False   \n",
       "1            False      False    False            False      False   \n",
       "2            False      False    False            False      False   \n",
       "3            False      False    False            False      False   \n",
       "4            False      False    False            False      False   \n",
       "..             ...        ...      ...              ...        ...   \n",
       "175          False      False    False            False      False   \n",
       "176          False      False    False            False      False   \n",
       "177          False      False    False            False      False   \n",
       "178          False      False    False            False      False   \n",
       "179          False      False    False            False      False   \n",
       "\n",
       "     dimethylglycine  betaine  serine  N-acetylserine  threonine  ...  \\\n",
       "0              False    False   False           False      False  ...   \n",
       "1              False    False   False           False      False  ...   \n",
       "2              False    False   False           False      False  ...   \n",
       "3              False    False   False           False      False  ...   \n",
       "4              False    False   False           False      False  ...   \n",
       "..               ...      ...     ...             ...        ...  ...   \n",
       "175            False    False   False           False      False  ...   \n",
       "176            False    False   False           False      False  ...   \n",
       "177            False    False   False           False      False  ...   \n",
       "178            False    False   False           False      False  ...   \n",
       "179            False    False   False           False      False  ...   \n",
       "\n",
       "     X - 24542  X - 24546  X - 24549  X - 24559  X - 24585  X - 24699  \\\n",
       "0        False      False      False      False      False      False   \n",
       "1        False      False      False      False      False      False   \n",
       "2        False      False      False      False      False      False   \n",
       "3        False      False      False      False      False      False   \n",
       "4        False      False      False      False      False      False   \n",
       "..         ...        ...        ...        ...        ...        ...   \n",
       "175      False      False      False      False      False      False   \n",
       "176      False      False      False      False      False      False   \n",
       "177      False      False      False      False      False      False   \n",
       "178      False      False      False      False      False      False   \n",
       "179      False      False      False      False      False      False   \n",
       "\n",
       "     X - 24728  X - 24738  X - 24748  X - 24766  \n",
       "0        False      False      False      False  \n",
       "1        False      False      False      False  \n",
       "2        False      False      False      False  \n",
       "3        False      False      False      False  \n",
       "4        False      False      False      False  \n",
       "..         ...        ...        ...        ...  \n",
       "175      False      False      False      False  \n",
       "176      False      False      False      False  \n",
       "177      False      False      False      False  \n",
       "178      False      False      False      False  \n",
       "179      False      False      False      False  \n",
       "\n",
       "[180 rows x 1488 columns]"
      ]
     },
     "execution_count": 61,
     "metadata": {},
     "output_type": "execute_result"
    }
   ],
   "source": [
    "#revisar valores nulos\n",
    "data_matrix.isna()"
   ]
  },
  {
   "cell_type": "code",
   "execution_count": 62,
   "metadata": {},
   "outputs": [
    {
     "data": {
      "text/plain": [
       "HEALTH_STATUS      0\n",
       "Sample_id          0\n",
       "glycine            0\n",
       "N-acetylglycine    0\n",
       "sarcosine          0\n",
       "                  ..\n",
       "X - 24699          0\n",
       "X - 24728          0\n",
       "X - 24738          0\n",
       "X - 24748          0\n",
       "X - 24766          0\n",
       "Length: 1488, dtype: int64"
      ]
     },
     "execution_count": 62,
     "metadata": {},
     "output_type": "execute_result"
    }
   ],
   "source": [
    "np.sum(data_matrix.isna())"
   ]
  },
  {
   "cell_type": "markdown",
   "metadata": {},
   "source": [
    "## 2.3 Dataset clasificación de los compuestos"
   ]
  },
  {
   "cell_type": "code",
   "execution_count": 128,
   "metadata": {},
   "outputs": [
    {
     "data": {
      "text/html": [
       "<div>\n",
       "<style scoped>\n",
       "    .dataframe tbody tr th:only-of-type {\n",
       "        vertical-align: middle;\n",
       "    }\n",
       "\n",
       "    .dataframe tbody tr th {\n",
       "        vertical-align: top;\n",
       "    }\n",
       "\n",
       "    .dataframe thead th {\n",
       "        text-align: right;\n",
       "    }\n",
       "</style>\n",
       "<table border=\"1\" class=\"dataframe\">\n",
       "  <thead>\n",
       "    <tr style=\"text-align: right;\">\n",
       "      <th></th>\n",
       "      <th>compound_id</th>\n",
       "      <th>PATHWAY_SORTORDER</th>\n",
       "      <th>BIOCHEMICAL</th>\n",
       "      <th>SUPER_PATHWAY</th>\n",
       "      <th>SUB_PATHWAY</th>\n",
       "      <th>COMP_ID</th>\n",
       "      <th>PLATFORM</th>\n",
       "      <th>RI</th>\n",
       "      <th>MASS</th>\n",
       "      <th>PUBCHEM</th>\n",
       "      <th>KEGG</th>\n",
       "      <th>HMDB_ID</th>\n",
       "    </tr>\n",
       "  </thead>\n",
       "  <tbody>\n",
       "    <tr>\n",
       "      <th>0</th>\n",
       "      <td>compound_0001</td>\n",
       "      <td>1</td>\n",
       "      <td>glycine</td>\n",
       "      <td>Amino Acid</td>\n",
       "      <td>Glycine, Serine and Threonine Metabolism</td>\n",
       "      <td>58</td>\n",
       "      <td>LC/MS Pos Early</td>\n",
       "      <td>1375</td>\n",
       "      <td>76.0393</td>\n",
       "      <td>750</td>\n",
       "      <td>C00037</td>\n",
       "      <td>HMDB00123</td>\n",
       "    </tr>\n",
       "    <tr>\n",
       "      <th>1</th>\n",
       "      <td>compound_0002</td>\n",
       "      <td>2</td>\n",
       "      <td>N-acetylglycine</td>\n",
       "      <td>Amino Acid</td>\n",
       "      <td>Glycine, Serine and Threonine Metabolism</td>\n",
       "      <td>27710</td>\n",
       "      <td>LC/MS Neg</td>\n",
       "      <td>731</td>\n",
       "      <td>116.0353</td>\n",
       "      <td>10972</td>\n",
       "      <td>NaN</td>\n",
       "      <td>HMDB00532</td>\n",
       "    </tr>\n",
       "    <tr>\n",
       "      <th>2</th>\n",
       "      <td>compound_0003</td>\n",
       "      <td>4</td>\n",
       "      <td>sarcosine</td>\n",
       "      <td>Amino Acid</td>\n",
       "      <td>Glycine, Serine and Threonine Metabolism</td>\n",
       "      <td>1516</td>\n",
       "      <td>LC/MS Pos Early</td>\n",
       "      <td>1280</td>\n",
       "      <td>90.055</td>\n",
       "      <td>1088</td>\n",
       "      <td>C00213</td>\n",
       "      <td>HMDB00271</td>\n",
       "    </tr>\n",
       "    <tr>\n",
       "      <th>3</th>\n",
       "      <td>compound_0004</td>\n",
       "      <td>5</td>\n",
       "      <td>dimethylglycine</td>\n",
       "      <td>Amino Acid</td>\n",
       "      <td>Glycine, Serine and Threonine Metabolism</td>\n",
       "      <td>5086</td>\n",
       "      <td>LC/MS Pos Early</td>\n",
       "      <td>1104</td>\n",
       "      <td>104.0706</td>\n",
       "      <td>673</td>\n",
       "      <td>C01026</td>\n",
       "      <td>HMDB00092</td>\n",
       "    </tr>\n",
       "    <tr>\n",
       "      <th>4</th>\n",
       "      <td>compound_0005</td>\n",
       "      <td>6</td>\n",
       "      <td>betaine</td>\n",
       "      <td>Amino Acid</td>\n",
       "      <td>Glycine, Serine and Threonine Metabolism</td>\n",
       "      <td>3141</td>\n",
       "      <td>LC/MS Pos Early</td>\n",
       "      <td>1064</td>\n",
       "      <td>118.0863</td>\n",
       "      <td>247</td>\n",
       "      <td>C00719</td>\n",
       "      <td>HMDB00043</td>\n",
       "    </tr>\n",
       "  </tbody>\n",
       "</table>\n",
       "</div>"
      ],
      "text/plain": [
       "     compound_id PATHWAY_SORTORDER      BIOCHEMICAL SUPER_PATHWAY  \\\n",
       "0  compound_0001                 1          glycine    Amino Acid   \n",
       "1  compound_0002                 2  N-acetylglycine    Amino Acid   \n",
       "2  compound_0003                 4        sarcosine    Amino Acid   \n",
       "3  compound_0004                 5  dimethylglycine    Amino Acid   \n",
       "4  compound_0005                 6          betaine    Amino Acid   \n",
       "\n",
       "                                SUB_PATHWAY  COMP_ID         PLATFORM    RI  \\\n",
       "0  Glycine, Serine and Threonine Metabolism       58  LC/MS Pos Early  1375   \n",
       "1  Glycine, Serine and Threonine Metabolism    27710        LC/MS Neg   731   \n",
       "2  Glycine, Serine and Threonine Metabolism     1516  LC/MS Pos Early  1280   \n",
       "3  Glycine, Serine and Threonine Metabolism     5086  LC/MS Pos Early  1104   \n",
       "4  Glycine, Serine and Threonine Metabolism     3141  LC/MS Pos Early  1064   \n",
       "\n",
       "       MASS PUBCHEM    KEGG    HMDB_ID  \n",
       "0   76.0393     750  C00037  HMDB00123  \n",
       "1  116.0353   10972     NaN  HMDB00532  \n",
       "2    90.055    1088  C00213  HMDB00271  \n",
       "3  104.0706     673  C01026  HMDB00092  \n",
       "4  118.0863     247  C00719  HMDB00043  "
      ]
     },
     "execution_count": 128,
     "metadata": {},
     "output_type": "execute_result"
    }
   ],
   "source": [
    "data_dictionary = pd.read_excel(\"C:/Users/Claudia/Documents/GitHub/EDA-Human-Serum-Metabolome-Variability/src/data/Data_dictionary.xlsx\")\n",
    "data_dictionary.head()"
   ]
  },
  {
   "cell_type": "code",
   "execution_count": 130,
   "metadata": {},
   "outputs": [
    {
     "data": {
      "text/plain": [
       "Index(['compound_id', 'PATHWAY_SORTORDER', 'BIOCHEMICAL', 'SUPER_PATHWAY',\n",
       "       'SUB_PATHWAY', 'COMP_ID', 'PLATFORM', 'RI', 'MASS', 'PUBCHEM', 'KEGG',\n",
       "       'HMDB_ID'],\n",
       "      dtype='object')"
      ]
     },
     "execution_count": 130,
     "metadata": {},
     "output_type": "execute_result"
    }
   ],
   "source": [
    "data_dictionary.columns"
   ]
  },
  {
   "cell_type": "markdown",
   "metadata": {},
   "source": [
    "# **EDA**"
   ]
  },
  {
   "cell_type": "code",
   "execution_count": 69,
   "metadata": {},
   "outputs": [
    {
     "data": {
      "text/plain": [
       "healthy subjects     60\n",
       "prediabetic          60\n",
       "diabetic subjects    60\n",
       "Name: HEALTH_STATUS, dtype: int64"
      ]
     },
     "execution_count": 69,
     "metadata": {},
     "output_type": "execute_result"
    }
   ],
   "source": [
    "# Grupos de estudio\n",
    "\n",
    "Grupos_de_estudio= sample_metadata['HEALTH_STATUS'].value_counts()\n",
    "Grupos_de_estudio"
   ]
  },
  {
   "cell_type": "code",
   "execution_count": 74,
   "metadata": {},
   "outputs": [
    {
     "data": {
      "text/plain": [
       "['healthy subjects', 'prediabetic', 'diabetic subjects']"
      ]
     },
     "execution_count": 74,
     "metadata": {},
     "output_type": "execute_result"
    }
   ],
   "source": [
    "#Pasar los datos a formato lista para después hacer el gráfico \n",
    "Diagnostico= sample_metadata['HEALTH_STATUS'].unique().tolist()\n",
    "Diagnostico"
   ]
  },
  {
   "cell_type": "code",
   "execution_count": 73,
   "metadata": {},
   "outputs": [
    {
     "data": {
      "image/png": "[encoded data removed]",
      "text/plain": [
       "<Figure size 800x500 with 1 Axes>"
      ]
     },
     "metadata": {
      "needs_background": "light"
     },
     "output_type": "display_data"
    }
   ],
   "source": [
    "plt.figure(figsize=(8,5), dpi=100)\n",
    "plt.bar(Diagnostico, Grupos_de_estudio)\n",
    "plt.show()"
   ]
  },
  {
   "cell_type": "code",
   "execution_count": 97,
   "metadata": {},
   "outputs": [
    {
     "data": {
      "image/png": "[encoded data removed]",
      "text/plain": [
       "<Figure size 864x576 with 1 Axes>"
      ]
     },
     "metadata": {
      "needs_background": "light"
     },
     "output_type": "display_data"
    }
   ],
   "source": [
    "#Evaluar la relación del BMI y hba1c de cada grupo mediante un scatter\n",
    "plt.figure(figsize=(12,8))\n",
    "sns.scatterplot(x = sample_metadata[\"BMI\"],\n",
    "y = sample_metadata[\"hba1c\"],\n",
    "s= 200,   #tamaño de los circulos\n",
    "hue = sample_metadata[\"HEALTH_STATUS\"]);"
   ]
  },
  {
   "cell_type": "code",
   "execution_count": 104,
   "metadata": {},
   "outputs": [
    {
     "data": {
      "text/html": [
       "        <script type=\"text/javascript\">\n",
       "        window.PlotlyConfig = {MathJaxConfig: 'local'};\n",
       "        if (window.MathJax && window.MathJax.Hub && window.MathJax.Hub.Config) {window.MathJax.Hub.Config({SVG: {font: \"STIX-Web\"}});}\n",
       "        if (typeof require !== 'undefined') {\n",
       "        require.undef(\"plotly\");\n",
       "        requirejs.config({\n",
       "            paths: {\n",
       "                'plotly': ['https://cdn.plot.ly/plotly-2.12.1.min']\n",
       "            }\n",
       "        });\n",
       "        require(['plotly'], function(Plotly) {\n",
       "            window._Plotly = Plotly;\n",
       "        });\n",
       "        }\n",
       "        </script>\n",
       "        "
      ]
     },
     "metadata": {},
     "output_type": "display_data"
    }
   ],
   "source": [
    "# plotly\n",
    "# import plotly.plotly as py\n",
    "from plotly.offline import init_notebook_mode, iplot, plot\n",
    "import plotly as py\n",
    "init_notebook_mode(connected=True)\n",
    "import plotly.graph_objs as go\n",
    "\n",
    "# word cloud library\n",
    "from wordcloud import WordCloud\n",
    "\n",
    "# matplotlib\n",
    "import matplotlib.pyplot as plt\n",
    "# Input data files are available in the \"../input/\" directory.\n",
    "# For example, run"
   ]
  },
  {
   "cell_type": "code",
   "execution_count": 121,
   "metadata": {},
   "outputs": [
    {
     "data": {
      "application/vnd.plotly.v1+json": {
       "config": {
        "linkText": "Export to plot.ly",
        "plotlyServerURL": "https://plot.ly",
        "showLink": false
       },
       "data": [
        {
         "marker": {
          "color": "rgba(255, 185, 225, 0.5)"
         },
         "name": "BMI",
         "type": "bar",
         "x": [
          "healthy subjects",
          "healthy subjects",
          "healthy subjects",
          "healthy subjects",
          "healthy subjects",
          "healthy subjects",
          "healthy subjects",
          "healthy subjects",
          "healthy subjects",
          "healthy subjects",
          "healthy subjects",
          "healthy subjects",
          "healthy subjects",
          "healthy subjects",
          "healthy subjects",
          "healthy subjects",
          "healthy subjects",
          "healthy subjects",
          "healthy subjects",
          "healthy subjects",
          "healthy subjects",
          "healthy subjects",
          "healthy subjects",
          "healthy subjects",
          "healthy subjects",
          "healthy subjects",
          "healthy subjects",
          "healthy subjects",
          "healthy subjects",
          "healthy subjects",
          "healthy subjects",
          "healthy subjects",
          "healthy subjects",
          "healthy subjects",
          "healthy subjects",
          "healthy subjects",
          "healthy subjects",
          "healthy subjects",
          "healthy subjects",
          "healthy subjects",
          "healthy subjects",
          "healthy subjects",
          "healthy subjects",
          "healthy subjects",
          "healthy subjects",
          "healthy subjects",
          "healthy subjects",
          "healthy subjects",
          "healthy subjects",
          "healthy subjects",
          "healthy subjects",
          "healthy subjects",
          "healthy subjects",
          "healthy subjects",
          "healthy subjects",
          "healthy subjects",
          "healthy subjects",
          "healthy subjects",
          "healthy subjects",
          "healthy subjects",
          "prediabetic",
          "prediabetic",
          "prediabetic",
          "prediabetic",
          "prediabetic",
          "prediabetic",
          "prediabetic",
          "prediabetic",
          "prediabetic",
          "prediabetic",
          "prediabetic",
          "prediabetic",
          "prediabetic",
          "prediabetic",
          "prediabetic",
          "prediabetic",
          "prediabetic",
          "prediabetic",
          "prediabetic",
          "prediabetic",
          "prediabetic",
          "prediabetic",
          "prediabetic",
          "prediabetic",
          "prediabetic",
          "prediabetic",
          "prediabetic",
          "prediabetic",
          "prediabetic",
          "prediabetic",
          "prediabetic",
          "prediabetic",
          "prediabetic",
          "prediabetic",
          "prediabetic",
          "prediabetic",
          "prediabetic",
          "prediabetic",
          "prediabetic",
          "prediabetic",
          "prediabetic",
          "prediabetic",
          "prediabetic",
          "prediabetic",
          "prediabetic",
          "prediabetic",
          "prediabetic",
          "prediabetic",
          "prediabetic",
          "prediabetic",
          "prediabetic",
          "prediabetic",
          "prediabetic",
          "prediabetic",
          "prediabetic",
          "prediabetic",
          "prediabetic",
          "prediabetic",
          "prediabetic",
          "prediabetic",
          "diabetic subjects",
          "diabetic subjects",
          "diabetic subjects",
          "diabetic subjects",
          "diabetic subjects",
          "diabetic subjects",
          "diabetic subjects",
          "diabetic subjects",
          "diabetic subjects",
          "diabetic subjects",
          "diabetic subjects",
          "diabetic subjects",
          "diabetic subjects",
          "diabetic subjects",
          "diabetic subjects",
          "diabetic subjects",
          "diabetic subjects",
          "diabetic subjects",
          "diabetic subjects",
          "diabetic subjects",
          "diabetic subjects",
          "diabetic subjects",
          "diabetic subjects",
          "diabetic subjects",
          "diabetic subjects",
          "diabetic subjects",
          "diabetic subjects",
          "diabetic subjects",
          "diabetic subjects",
          "diabetic subjects",
          "diabetic subjects",
          "diabetic subjects",
          "diabetic subjects",
          "diabetic subjects",
          "diabetic subjects",
          "diabetic subjects",
          "diabetic subjects",
          "diabetic subjects",
          "diabetic subjects",
          "diabetic subjects",
          "diabetic subjects",
          "diabetic subjects",
          "diabetic subjects",
          "diabetic subjects",
          "diabetic subjects",
          "diabetic subjects",
          "diabetic subjects",
          "diabetic subjects",
          "diabetic subjects",
          "diabetic subjects",
          "diabetic subjects",
          "diabetic subjects",
          "diabetic subjects",
          "diabetic subjects",
          "diabetic subjects",
          "diabetic subjects",
          "diabetic subjects",
          "diabetic subjects",
          "diabetic subjects",
          "diabetic subjects"
         ],
         "y": [
          27.9,
          27.9,
          27.9,
          27.9,
          27.9,
          27.9,
          20.5,
          20.5,
          20.5,
          20.5,
          20.5,
          20.5,
          21.4,
          21.4,
          21.4,
          21.4,
          21.4,
          21.4,
          27.2,
          27.2,
          27.2,
          27.2,
          27.2,
          27.2,
          26.5,
          26.5,
          26.5,
          26.5,
          26.5,
          26.5,
          20.5,
          20.5,
          20.5,
          20.5,
          20.5,
          20.5,
          24.7,
          24.7,
          24.7,
          24.7,
          24.7,
          24.7,
          19.9,
          19.9,
          19.9,
          19.9,
          19.9,
          19.9,
          20.8,
          20.8,
          20.8,
          20.8,
          20.8,
          20.8,
          27.8,
          27.8,
          27.8,
          27.8,
          27.8,
          27.8,
          34.8,
          34.8,
          34.8,
          34.8,
          34.8,
          34.8,
          28.3,
          28.3,
          28.3,
          28.3,
          28.3,
          28.3,
          32.3,
          32.3,
          32.3,
          32.3,
          32.3,
          32.3,
          38.9,
          38.9,
          38.9,
          38.9,
          38.9,
          38.9,
          35.4,
          35.4,
          35.4,
          35.4,
          35.4,
          35.4,
          33.7,
          33.7,
          33.7,
          33.7,
          33.7,
          33.7,
          30,
          30,
          30,
          30,
          30,
          30,
          40.1,
          40.1,
          40.1,
          40.1,
          40.1,
          40.1,
          29.2,
          29.2,
          29.2,
          29.2,
          29.2,
          29.2,
          41.9,
          41.9,
          41.9,
          41.9,
          41.9,
          41.9,
          38.9,
          38.9,
          38.9,
          38.9,
          38.9,
          38.9,
          32.9,
          32.9,
          32.9,
          32.9,
          32.9,
          32.9,
          32.7,
          32.7,
          32.7,
          32.7,
          32.7,
          32.7,
          27.5,
          27.5,
          27.5,
          27.5,
          27.5,
          27.5,
          30.2,
          30.2,
          30.2,
          30.2,
          30.2,
          30.2,
          26.6,
          26.6,
          26.6,
          26.6,
          26.6,
          26.6,
          34.3,
          34.3,
          34.3,
          34.3,
          34.3,
          34.3,
          27,
          27,
          27,
          27,
          27,
          27,
          27.2,
          27.2,
          27.2,
          27.2,
          27.2,
          27.2,
          38.6,
          38.6,
          38.6,
          38.6,
          38.6,
          38.6
         ]
        },
        {
         "marker": {
          "color": "rgba(255, 255, 128, 0.5)"
         },
         "name": "hba1c",
         "type": "bar",
         "x": [
          "healthy subjects",
          "healthy subjects",
          "healthy subjects",
          "healthy subjects",
          "healthy subjects",
          "healthy subjects",
          "healthy subjects",
          "healthy subjects",
          "healthy subjects",
          "healthy subjects",
          "healthy subjects",
          "healthy subjects",
          "healthy subjects",
          "healthy subjects",
          "healthy subjects",
          "healthy subjects",
          "healthy subjects",
          "healthy subjects",
          "healthy subjects",
          "healthy subjects",
          "healthy subjects",
          "healthy subjects",
          "healthy subjects",
          "healthy subjects",
          "healthy subjects",
          "healthy subjects",
          "healthy subjects",
          "healthy subjects",
          "healthy subjects",
          "healthy subjects",
          "healthy subjects",
          "healthy subjects",
          "healthy subjects",
          "healthy subjects",
          "healthy subjects",
          "healthy subjects",
          "healthy subjects",
          "healthy subjects",
          "healthy subjects",
          "healthy subjects",
          "healthy subjects",
          "healthy subjects",
          "healthy subjects",
          "healthy subjects",
          "healthy subjects",
          "healthy subjects",
          "healthy subjects",
          "healthy subjects",
          "healthy subjects",
          "healthy subjects",
          "healthy subjects",
          "healthy subjects",
          "healthy subjects",
          "healthy subjects",
          "healthy subjects",
          "healthy subjects",
          "healthy subjects",
          "healthy subjects",
          "healthy subjects",
          "healthy subjects",
          "prediabetic",
          "prediabetic",
          "prediabetic",
          "prediabetic",
          "prediabetic",
          "prediabetic",
          "prediabetic",
          "prediabetic",
          "prediabetic",
          "prediabetic",
          "prediabetic",
          "prediabetic",
          "prediabetic",
          "prediabetic",
          "prediabetic",
          "prediabetic",
          "prediabetic",
          "prediabetic",
          "prediabetic",
          "prediabetic",
          "prediabetic",
          "prediabetic",
          "prediabetic",
          "prediabetic",
          "prediabetic",
          "prediabetic",
          "prediabetic",
          "prediabetic",
          "prediabetic",
          "prediabetic",
          "prediabetic",
          "prediabetic",
          "prediabetic",
          "prediabetic",
          "prediabetic",
          "prediabetic",
          "prediabetic",
          "prediabetic",
          "prediabetic",
          "prediabetic",
          "prediabetic",
          "prediabetic",
          "prediabetic",
          "prediabetic",
          "prediabetic",
          "prediabetic",
          "prediabetic",
          "prediabetic",
          "prediabetic",
          "prediabetic",
          "prediabetic",
          "prediabetic",
          "prediabetic",
          "prediabetic",
          "prediabetic",
          "prediabetic",
          "prediabetic",
          "prediabetic",
          "prediabetic",
          "prediabetic",
          "diabetic subjects",
          "diabetic subjects",
          "diabetic subjects",
          "diabetic subjects",
          "diabetic subjects",
          "diabetic subjects",
          "diabetic subjects",
          "diabetic subjects",
          "diabetic subjects",
          "diabetic subjects",
          "diabetic subjects",
          "diabetic subjects",
          "diabetic subjects",
          "diabetic subjects",
          "diabetic subjects",
          "diabetic subjects",
          "diabetic subjects",
          "diabetic subjects",
          "diabetic subjects",
          "diabetic subjects",
          "diabetic subjects",
          "diabetic subjects",
          "diabetic subjects",
          "diabetic subjects",
          "diabetic subjects",
          "diabetic subjects",
          "diabetic subjects",
          "diabetic subjects",
          "diabetic subjects",
          "diabetic subjects",
          "diabetic subjects",
          "diabetic subjects",
          "diabetic subjects",
          "diabetic subjects",
          "diabetic subjects",
          "diabetic subjects",
          "diabetic subjects",
          "diabetic subjects",
          "diabetic subjects",
          "diabetic subjects",
          "diabetic subjects",
          "diabetic subjects",
          "diabetic subjects",
          "diabetic subjects",
          "diabetic subjects",
          "diabetic subjects",
          "diabetic subjects",
          "diabetic subjects",
          "diabetic subjects",
          "diabetic subjects",
          "diabetic subjects",
          "diabetic subjects",
          "diabetic subjects",
          "diabetic subjects",
          "diabetic subjects",
          "diabetic subjects",
          "diabetic subjects",
          "diabetic subjects",
          "diabetic subjects",
          "diabetic subjects"
         ],
         "y": [
          5.05,
          5.05,
          5.05,
          5.05,
          5.05,
          5.05,
          5.58,
          5.58,
          5.58,
          5.58,
          5.58,
          5.58,
          5.4,
          5.4,
          5.4,
          5.4,
          5.4,
          5.4,
          5.08,
          5.08,
          5.08,
          5.08,
          5.08,
          5.08,
          5.7,
          5.7,
          5.7,
          5.7,
          5.7,
          5.7,
          5.4,
          5.4,
          5.4,
          5.4,
          5.4,
          5.4,
          5.57,
          5.57,
          5.57,
          5.57,
          5.57,
          5.57,
          5.85,
          5.85,
          5.85,
          5.85,
          5.85,
          5.85,
          5.46,
          5.46,
          5.46,
          5.46,
          5.46,
          5.46,
          4.87,
          4.87,
          4.87,
          4.87,
          4.87,
          4.87,
          5.86,
          5.86,
          5.86,
          5.86,
          5.86,
          5.86,
          6.29,
          6.29,
          6.29,
          6.29,
          6.29,
          6.29,
          5.94,
          5.94,
          5.94,
          5.94,
          5.94,
          5.94,
          6,
          6,
          6,
          6,
          6,
          6,
          5.94,
          5.94,
          5.94,
          5.94,
          5.94,
          5.94,
          6.02,
          6.02,
          6.02,
          6.02,
          6.02,
          6.02,
          5.45,
          5.45,
          5.45,
          5.45,
          5.45,
          5.45,
          6.05,
          6.05,
          6.05,
          6.05,
          6.05,
          6.05,
          5.9,
          5.9,
          5.9,
          5.9,
          5.9,
          5.9,
          5.1,
          5.1,
          5.1,
          5.1,
          5.1,
          5.1,
          7.84,
          7.84,
          7.84,
          7.84,
          7.84,
          7.84,
          7.83,
          7.83,
          7.83,
          7.83,
          7.83,
          7.83,
          6.7,
          6.7,
          6.7,
          6.7,
          6.7,
          6.7,
          6.7,
          6.7,
          6.7,
          6.7,
          6.7,
          6.7,
          7.72,
          7.72,
          7.72,
          7.72,
          7.72,
          7.72,
          7.53,
          7.53,
          7.53,
          7.53,
          7.53,
          7.53,
          8,
          8,
          8,
          8,
          8,
          8,
          6.99,
          6.99,
          6.99,
          6.99,
          6.99,
          6.99,
          6.94,
          6.94,
          6.94,
          6.94,
          6.94,
          6.94,
          9.1,
          9.1,
          9.1,
          9.1,
          9.1,
          9.1
         ]
        }
       ],
       "layout": {
        "barmode": "group",
        "template": {
         "data": {
          "bar": [
           {
            "error_x": {
             "color": "#2a3f5f"
            },
            "error_y": {
             "color": "#2a3f5f"
            },
            "marker": {
             "line": {
              "color": "#E5ECF6",
              "width": 0.5
             },
             "pattern": {
              "fillmode": "overlay",
              "size": 10,
              "solidity": 0.2
             }
            },
            "type": "bar"
           }
          ],
          "barpolar": [
           {
            "marker": {
             "line": {
              "color": "#E5ECF6",
              "width": 0.5
             },
             "pattern": {
              "fillmode": "overlay",
              "size": 10,
              "solidity": 0.2
             }
            },
            "type": "barpolar"
           }
          ],
          "carpet": [
           {
            "aaxis": {
             "endlinecolor": "#2a3f5f",
             "gridcolor": "white",
             "linecolor": "white",
             "minorgridcolor": "white",
             "startlinecolor": "#2a3f5f"
            },
            "baxis": {
             "endlinecolor": "#2a3f5f",
             "gridcolor": "white",
             "linecolor": "white",
             "minorgridcolor": "white",
             "startlinecolor": "#2a3f5f"
            },
            "type": "carpet"
           }
          ],
          "choropleth": [
           {
            "colorbar": {
             "outlinewidth": 0,
             "ticks": ""
            },
            "type": "choropleth"
           }
          ],
          "contour": [
           {
            "colorbar": {
             "outlinewidth": 0,
             "ticks": ""
            },
            "colorscale": [
             [
              0,
              "#0d0887"
             ],
             [
              0.1111111111111111,
              "#46039f"
             ],
             [
              0.2222222222222222,
              "#7201a8"
             ],
             [
              0.3333333333333333,
              "#9c179e"
             ],
             [
              0.4444444444444444,
              "#bd3786"
             ],
             [
              0.5555555555555556,
              "#d8576b"
             ],
             [
              0.6666666666666666,
              "#ed7953"
             ],
             [
              0.7777777777777778,
              "#fb9f3a"
             ],
             [
              0.8888888888888888,
              "#fdca26"
             ],
             [
              1,
              "#f0f921"
             ]
            ],
            "type": "contour"
           }
          ],
          "contourcarpet": [
           {
            "colorbar": {
             "outlinewidth": 0,
             "ticks": ""
            },
            "type": "contourcarpet"
           }
          ],
          "heatmap": [
           {
            "colorbar": {
             "outlinewidth": 0,
             "ticks": ""
            },
            "colorscale": [
             [
              0,
              "#0d0887"
             ],
             [
              0.1111111111111111,
              "#46039f"
             ],
             [
              0.2222222222222222,
              "#7201a8"
             ],
             [
              0.3333333333333333,
              "#9c179e"
             ],
             [
              0.4444444444444444,
              "#bd3786"
             ],
             [
              0.5555555555555556,
              "#d8576b"
             ],
             [
              0.6666666666666666,
              "#ed7953"
             ],
             [
              0.7777777777777778,
              "#fb9f3a"
             ],
             [
              0.8888888888888888,
              "#fdca26"
             ],
             [
              1,
              "#f0f921"
             ]
            ],
            "type": "heatmap"
           }
          ],
          "heatmapgl": [
           {
            "colorbar": {
             "outlinewidth": 0,
             "ticks": ""
            },
            "colorscale": [
             [
              0,
              "#0d0887"
             ],
             [
              0.1111111111111111,
              "#46039f"
             ],
             [
              0.2222222222222222,
              "#7201a8"
             ],
             [
              0.3333333333333333,
              "#9c179e"
             ],
             [
              0.4444444444444444,
              "#bd3786"
             ],
             [
              0.5555555555555556,
              "#d8576b"
             ],
             [
              0.6666666666666666,
              "#ed7953"
             ],
             [
              0.7777777777777778,
              "#fb9f3a"
             ],
             [
              0.8888888888888888,
              "#fdca26"
             ],
             [
              1,
              "#f0f921"
             ]
            ],
            "type": "heatmapgl"
           }
          ],
          "histogram": [
           {
            "marker": {
             "pattern": {
              "fillmode": "overlay",
              "size": 10,
              "solidity": 0.2
             }
            },
            "type": "histogram"
           }
          ],
          "histogram2d": [
           {
            "colorbar": {
             "outlinewidth": 0,
             "ticks": ""
            },
            "colorscale": [
             [
              0,
              "#0d0887"
             ],
             [
              0.1111111111111111,
              "#46039f"
             ],
             [
              0.2222222222222222,
              "#7201a8"
             ],
             [
              0.3333333333333333,
              "#9c179e"
             ],
             [
              0.4444444444444444,
              "#bd3786"
             ],
             [
              0.5555555555555556,
              "#d8576b"
             ],
             [
              0.6666666666666666,
              "#ed7953"
             ],
             [
              0.7777777777777778,
              "#fb9f3a"
             ],
             [
              0.8888888888888888,
              "#fdca26"
             ],
             [
              1,
              "#f0f921"
             ]
            ],
            "type": "histogram2d"
           }
          ],
          "histogram2dcontour": [
           {
            "colorbar": {
             "outlinewidth": 0,
             "ticks": ""
            },
            "colorscale": [
             [
              0,
              "#0d0887"
             ],
             [
              0.1111111111111111,
              "#46039f"
             ],
             [
              0.2222222222222222,
              "#7201a8"
             ],
             [
              0.3333333333333333,
              "#9c179e"
             ],
             [
              0.4444444444444444,
              "#bd3786"
             ],
             [
              0.5555555555555556,
              "#d8576b"
             ],
             [
              0.6666666666666666,
              "#ed7953"
             ],
             [
              0.7777777777777778,
              "#fb9f3a"
             ],
             [
              0.8888888888888888,
              "#fdca26"
             ],
             [
              1,
              "#f0f921"
             ]
            ],
            "type": "histogram2dcontour"
           }
          ],
          "mesh3d": [
           {
            "colorbar": {
             "outlinewidth": 0,
             "ticks": ""
            },
            "type": "mesh3d"
           }
          ],
          "parcoords": [
           {
            "line": {
             "colorbar": {
              "outlinewidth": 0,
              "ticks": ""
             }
            },
            "type": "parcoords"
           }
          ],
          "pie": [
           {
            "automargin": true,
            "type": "pie"
           }
          ],
          "scatter": [
           {
            "fillpattern": {
             "fillmode": "overlay",
             "size": 10,
             "solidity": 0.2
            },
            "type": "scatter"
           }
          ],
          "scatter3d": [
           {
            "line": {
             "colorbar": {
              "outlinewidth": 0,
              "ticks": ""
             }
            },
            "marker": {
             "colorbar": {
              "outlinewidth": 0,
              "ticks": ""
             }
            },
            "type": "scatter3d"
           }
          ],
          "scattercarpet": [
           {
            "marker": {
             "colorbar": {
              "outlinewidth": 0,
              "ticks": ""
             }
            },
            "type": "scattercarpet"
           }
          ],
          "scattergeo": [
           {
            "marker": {
             "colorbar": {
              "outlinewidth": 0,
              "ticks": ""
             }
            },
            "type": "scattergeo"
           }
          ],
          "scattergl": [
           {
            "marker": {
             "colorbar": {
              "outlinewidth": 0,
              "ticks": ""
             }
            },
            "type": "scattergl"
           }
          ],
          "scattermapbox": [
           {
            "marker": {
             "colorbar": {
              "outlinewidth": 0,
              "ticks": ""
             }
            },
            "type": "scattermapbox"
           }
          ],
          "scatterpolar": [
           {
            "marker": {
             "colorbar": {
              "outlinewidth": 0,
              "ticks": ""
             }
            },
            "type": "scatterpolar"
           }
          ],
          "scatterpolargl": [
           {
            "marker": {
             "colorbar": {
              "outlinewidth": 0,
              "ticks": ""
             }
            },
            "type": "scatterpolargl"
           }
          ],
          "scatterternary": [
           {
            "marker": {
             "colorbar": {
              "outlinewidth": 0,
              "ticks": ""
             }
            },
            "type": "scatterternary"
           }
          ],
          "surface": [
           {
            "colorbar": {
             "outlinewidth": 0,
             "ticks": ""
            },
            "colorscale": [
             [
              0,
              "#0d0887"
             ],
             [
              0.1111111111111111,
              "#46039f"
             ],
             [
              0.2222222222222222,
              "#7201a8"
             ],
             [
              0.3333333333333333,
              "#9c179e"
             ],
             [
              0.4444444444444444,
              "#bd3786"
             ],
             [
              0.5555555555555556,
              "#d8576b"
             ],
             [
              0.6666666666666666,
              "#ed7953"
             ],
             [
              0.7777777777777778,
              "#fb9f3a"
             ],
             [
              0.8888888888888888,
              "#fdca26"
             ],
             [
              1,
              "#f0f921"
             ]
            ],
            "type": "surface"
           }
          ],
          "table": [
           {
            "cells": {
             "fill": {
              "color": "#EBF0F8"
             },
             "line": {
              "color": "white"
             }
            },
            "header": {
             "fill": {
              "color": "#C8D4E3"
             },
             "line": {
              "color": "white"
             }
            },
            "type": "table"
           }
          ]
         },
         "layout": {
          "annotationdefaults": {
           "arrowcolor": "#2a3f5f",
           "arrowhead": 0,
           "arrowwidth": 1
          },
          "autotypenumbers": "strict",
          "coloraxis": {
           "colorbar": {
            "outlinewidth": 0,
            "ticks": ""
           }
          },
          "colorscale": {
           "diverging": [
            [
             0,
             "#8e0152"
            ],
            [
             0.1,
             "#c51b7d"
            ],
            [
             0.2,
             "#de77ae"
            ],
            [
             0.3,
             "#f1b6da"
            ],
            [
             0.4,
             "#fde0ef"
            ],
            [
             0.5,
             "#f7f7f7"
            ],
            [
             0.6,
             "#e6f5d0"
            ],
            [
             0.7,
             "#b8e186"
            ],
            [
             0.8,
             "#7fbc41"
            ],
            [
             0.9,
             "#4d9221"
            ],
            [
             1,
             "#276419"
            ]
           ],
           "sequential": [
            [
             0,
             "#0d0887"
            ],
            [
             0.1111111111111111,
             "#46039f"
            ],
            [
             0.2222222222222222,
             "#7201a8"
            ],
            [
             0.3333333333333333,
             "#9c179e"
            ],
            [
             0.4444444444444444,
             "#bd3786"
            ],
            [
             0.5555555555555556,
             "#d8576b"
            ],
            [
             0.6666666666666666,
             "#ed7953"
            ],
            [
             0.7777777777777778,
             "#fb9f3a"
            ],
            [
             0.8888888888888888,
             "#fdca26"
            ],
            [
             1,
             "#f0f921"
            ]
           ],
           "sequentialminus": [
            [
             0,
             "#0d0887"
            ],
            [
             0.1111111111111111,
             "#46039f"
            ],
            [
             0.2222222222222222,
             "#7201a8"
            ],
            [
             0.3333333333333333,
             "#9c179e"
            ],
            [
             0.4444444444444444,
             "#bd3786"
            ],
            [
             0.5555555555555556,
             "#d8576b"
            ],
            [
             0.6666666666666666,
             "#ed7953"
            ],
            [
             0.7777777777777778,
             "#fb9f3a"
            ],
            [
             0.8888888888888888,
             "#fdca26"
            ],
            [
             1,
             "#f0f921"
            ]
           ]
          },
          "colorway": [
           "#636efa",
           "#EF553B",
           "#00cc96",
           "#ab63fa",
           "#FFA15A",
           "#19d3f3",
           "#FF6692",
           "#B6E880",
           "#FF97FF",
           "#FECB52"
          ],
          "font": {
           "color": "#2a3f5f"
          },
          "geo": {
           "bgcolor": "white",
           "lakecolor": "white",
           "landcolor": "#E5ECF6",
           "showlakes": true,
           "showland": true,
           "subunitcolor": "white"
          },
          "hoverlabel": {
           "align": "left"
          },
          "hovermode": "closest",
          "mapbox": {
           "style": "light"
          },
          "paper_bgcolor": "white",
          "plot_bgcolor": "#E5ECF6",
          "polar": {
           "angularaxis": {
            "gridcolor": "white",
            "linecolor": "white",
            "ticks": ""
           },
           "bgcolor": "#E5ECF6",
           "radialaxis": {
            "gridcolor": "white",
            "linecolor": "white",
            "ticks": ""
           }
          },
          "scene": {
           "xaxis": {
            "backgroundcolor": "#E5ECF6",
            "gridcolor": "white",
            "gridwidth": 2,
            "linecolor": "white",
            "showbackground": true,
            "ticks": "",
            "zerolinecolor": "white"
           },
           "yaxis": {
            "backgroundcolor": "#E5ECF6",
            "gridcolor": "white",
            "gridwidth": 2,
            "linecolor": "white",
            "showbackground": true,
            "ticks": "",
            "zerolinecolor": "white"
           },
           "zaxis": {
            "backgroundcolor": "#E5ECF6",
            "gridcolor": "white",
            "gridwidth": 2,
            "linecolor": "white",
            "showbackground": true,
            "ticks": "",
            "zerolinecolor": "white"
           }
          },
          "shapedefaults": {
           "line": {
            "color": "#2a3f5f"
           }
          },
          "ternary": {
           "aaxis": {
            "gridcolor": "white",
            "linecolor": "white",
            "ticks": ""
           },
           "baxis": {
            "gridcolor": "white",
            "linecolor": "white",
            "ticks": ""
           },
           "bgcolor": "#E5ECF6",
           "caxis": {
            "gridcolor": "white",
            "linecolor": "white",
            "ticks": ""
           }
          },
          "title": {
           "x": 0.05
          },
          "xaxis": {
           "automargin": true,
           "gridcolor": "white",
           "linecolor": "white",
           "ticks": "",
           "title": {
            "standoff": 15
           },
           "zerolinecolor": "white",
           "zerolinewidth": 2
          },
          "yaxis": {
           "automargin": true,
           "gridcolor": "white",
           "linecolor": "white",
           "ticks": "",
           "title": {
            "standoff": 15
           },
           "zerolinecolor": "white",
           "zerolinewidth": 2
          }
         }
        }
       }
      },
      "text/html": [
       "<div>                            <div id=\"ed4bb3ca-bd2c-43f8-84e7-2c4391fff8c7\" class=\"plotly-graph-div\" style=\"height:525px; width:100%;\"></div>            <script type=\"text/javascript\">                require([\"plotly\"], function(Plotly) {                    window.PLOTLYENV=window.PLOTLYENV || {};                                    if (document.getElementById(\"ed4bb3ca-bd2c-43f8-84e7-2c4391fff8c7\")) {                    Plotly.newPlot(                        \"ed4bb3ca-bd2c-43f8-84e7-2c4391fff8c7\",                        [{\"marker\":{\"color\":\"rgba(255, 185, 225, 0.5)\"},\"name\":\"BMI\",\"x\":[\"healthy subjects\",\"healthy subjects\",\"healthy subjects\",\"healthy subjects\",\"healthy subjects\",\"healthy subjects\",\"healthy subjects\",\"healthy subjects\",\"healthy subjects\",\"healthy subjects\",\"healthy subjects\",\"healthy subjects\",\"healthy subjects\",\"healthy subjects\",\"healthy subjects\",\"healthy subjects\",\"healthy subjects\",\"healthy subjects\",\"healthy subjects\",\"healthy subjects\",\"healthy subjects\",\"healthy subjects\",\"healthy subjects\",\"healthy subjects\",\"healthy subjects\",\"healthy subjects\",\"healthy subjects\",\"healthy subjects\",\"healthy subjects\",\"healthy subjects\",\"healthy subjects\",\"healthy subjects\",\"healthy subjects\",\"healthy subjects\",\"healthy subjects\",\"healthy subjects\",\"healthy subjects\",\"healthy subjects\",\"healthy subjects\",\"healthy subjects\",\"healthy subjects\",\"healthy subjects\",\"healthy subjects\",\"healthy subjects\",\"healthy subjects\",\"healthy subjects\",\"healthy subjects\",\"healthy subjects\",\"healthy subjects\",\"healthy subjects\",\"healthy subjects\",\"healthy subjects\",\"healthy subjects\",\"healthy subjects\",\"healthy subjects\",\"healthy subjects\",\"healthy subjects\",\"healthy subjects\",\"healthy subjects\",\"healthy subjects\",\"prediabetic\",\"prediabetic\",\"prediabetic\",\"prediabetic\",\"prediabetic\",\"prediabetic\",\"prediabetic\",\"prediabetic\",\"prediabetic\",\"prediabetic\",\"prediabetic\",\"prediabetic\",\"prediabetic\",\"prediabetic\",\"prediabetic\",\"prediabetic\",\"prediabetic\",\"prediabetic\",\"prediabetic\",\"prediabetic\",\"prediabetic\",\"prediabetic\",\"prediabetic\",\"prediabetic\",\"prediabetic\",\"prediabetic\",\"prediabetic\",\"prediabetic\",\"prediabetic\",\"prediabetic\",\"prediabetic\",\"prediabetic\",\"prediabetic\",\"prediabetic\",\"prediabetic\",\"prediabetic\",\"prediabetic\",\"prediabetic\",\"prediabetic\",\"prediabetic\",\"prediabetic\",\"prediabetic\",\"prediabetic\",\"prediabetic\",\"prediabetic\",\"prediabetic\",\"prediabetic\",\"prediabetic\",\"prediabetic\",\"prediabetic\",\"prediabetic\",\"prediabetic\",\"prediabetic\",\"prediabetic\",\"prediabetic\",\"prediabetic\",\"prediabetic\",\"prediabetic\",\"prediabetic\",\"prediabetic\",\"diabetic subjects\",\"diabetic subjects\",\"diabetic subjects\",\"diabetic subjects\",\"diabetic subjects\",\"diabetic subjects\",\"diabetic subjects\",\"diabetic subjects\",\"diabetic subjects\",\"diabetic subjects\",\"diabetic subjects\",\"diabetic subjects\",\"diabetic subjects\",\"diabetic subjects\",\"diabetic subjects\",\"diabetic subjects\",\"diabetic subjects\",\"diabetic subjects\",\"diabetic subjects\",\"diabetic subjects\",\"diabetic subjects\",\"diabetic subjects\",\"diabetic subjects\",\"diabetic subjects\",\"diabetic subjects\",\"diabetic subjects\",\"diabetic subjects\",\"diabetic subjects\",\"diabetic subjects\",\"diabetic subjects\",\"diabetic subjects\",\"diabetic subjects\",\"diabetic subjects\",\"diabetic subjects\",\"diabetic subjects\",\"diabetic subjects\",\"diabetic subjects\",\"diabetic subjects\",\"diabetic subjects\",\"diabetic subjects\",\"diabetic subjects\",\"diabetic subjects\",\"diabetic subjects\",\"diabetic subjects\",\"diabetic subjects\",\"diabetic subjects\",\"diabetic subjects\",\"diabetic subjects\",\"diabetic subjects\",\"diabetic subjects\",\"diabetic subjects\",\"diabetic subjects\",\"diabetic subjects\",\"diabetic subjects\",\"diabetic subjects\",\"diabetic subjects\",\"diabetic subjects\",\"diabetic subjects\",\"diabetic subjects\",\"diabetic subjects\"],\"y\":[27.9,27.9,27.9,27.9,27.9,27.9,20.5,20.5,20.5,20.5,20.5,20.5,21.4,21.4,21.4,21.4,21.4,21.4,27.2,27.2,27.2,27.2,27.2,27.2,26.5,26.5,26.5,26.5,26.5,26.5,20.5,20.5,20.5,20.5,20.5,20.5,24.7,24.7,24.7,24.7,24.7,24.7,19.9,19.9,19.9,19.9,19.9,19.9,20.8,20.8,20.8,20.8,20.8,20.8,27.8,27.8,27.8,27.8,27.8,27.8,34.8,34.8,34.8,34.8,34.8,34.8,28.3,28.3,28.3,28.3,28.3,28.3,32.3,32.3,32.3,32.3,32.3,32.3,38.9,38.9,38.9,38.9,38.9,38.9,35.4,35.4,35.4,35.4,35.4,35.4,33.7,33.7,33.7,33.7,33.7,33.7,30.0,30.0,30.0,30.0,30.0,30.0,40.1,40.1,40.1,40.1,40.1,40.1,29.2,29.2,29.2,29.2,29.2,29.2,41.9,41.9,41.9,41.9,41.9,41.9,38.9,38.9,38.9,38.9,38.9,38.9,32.9,32.9,32.9,32.9,32.9,32.9,32.7,32.7,32.7,32.7,32.7,32.7,27.5,27.5,27.5,27.5,27.5,27.5,30.2,30.2,30.2,30.2,30.2,30.2,26.6,26.6,26.6,26.6,26.6,26.6,34.3,34.3,34.3,34.3,34.3,34.3,27.0,27.0,27.0,27.0,27.0,27.0,27.2,27.2,27.2,27.2,27.2,27.2,38.6,38.6,38.6,38.6,38.6,38.6],\"type\":\"bar\"},{\"marker\":{\"color\":\"rgba(255, 255, 128, 0.5)\"},\"name\":\"hba1c\",\"x\":[\"healthy subjects\",\"healthy subjects\",\"healthy subjects\",\"healthy subjects\",\"healthy subjects\",\"healthy subjects\",\"healthy subjects\",\"healthy subjects\",\"healthy subjects\",\"healthy subjects\",\"healthy subjects\",\"healthy subjects\",\"healthy subjects\",\"healthy subjects\",\"healthy subjects\",\"healthy subjects\",\"healthy subjects\",\"healthy subjects\",\"healthy subjects\",\"healthy subjects\",\"healthy subjects\",\"healthy subjects\",\"healthy subjects\",\"healthy subjects\",\"healthy subjects\",\"healthy subjects\",\"healthy subjects\",\"healthy subjects\",\"healthy subjects\",\"healthy subjects\",\"healthy subjects\",\"healthy subjects\",\"healthy subjects\",\"healthy subjects\",\"healthy subjects\",\"healthy subjects\",\"healthy subjects\",\"healthy subjects\",\"healthy subjects\",\"healthy subjects\",\"healthy subjects\",\"healthy subjects\",\"healthy subjects\",\"healthy subjects\",\"healthy subjects\",\"healthy subjects\",\"healthy subjects\",\"healthy subjects\",\"healthy subjects\",\"healthy subjects\",\"healthy subjects\",\"healthy subjects\",\"healthy subjects\",\"healthy subjects\",\"healthy subjects\",\"healthy subjects\",\"healthy subjects\",\"healthy subjects\",\"healthy subjects\",\"healthy subjects\",\"prediabetic\",\"prediabetic\",\"prediabetic\",\"prediabetic\",\"prediabetic\",\"prediabetic\",\"prediabetic\",\"prediabetic\",\"prediabetic\",\"prediabetic\",\"prediabetic\",\"prediabetic\",\"prediabetic\",\"prediabetic\",\"prediabetic\",\"prediabetic\",\"prediabetic\",\"prediabetic\",\"prediabetic\",\"prediabetic\",\"prediabetic\",\"prediabetic\",\"prediabetic\",\"prediabetic\",\"prediabetic\",\"prediabetic\",\"prediabetic\",\"prediabetic\",\"prediabetic\",\"prediabetic\",\"prediabetic\",\"prediabetic\",\"prediabetic\",\"prediabetic\",\"prediabetic\",\"prediabetic\",\"prediabetic\",\"prediabetic\",\"prediabetic\",\"prediabetic\",\"prediabetic\",\"prediabetic\",\"prediabetic\",\"prediabetic\",\"prediabetic\",\"prediabetic\",\"prediabetic\",\"prediabetic\",\"prediabetic\",\"prediabetic\",\"prediabetic\",\"prediabetic\",\"prediabetic\",\"prediabetic\",\"prediabetic\",\"prediabetic\",\"prediabetic\",\"prediabetic\",\"prediabetic\",\"prediabetic\",\"diabetic subjects\",\"diabetic subjects\",\"diabetic subjects\",\"diabetic subjects\",\"diabetic subjects\",\"diabetic subjects\",\"diabetic subjects\",\"diabetic subjects\",\"diabetic subjects\",\"diabetic subjects\",\"diabetic subjects\",\"diabetic subjects\",\"diabetic subjects\",\"diabetic subjects\",\"diabetic subjects\",\"diabetic subjects\",\"diabetic subjects\",\"diabetic subjects\",\"diabetic subjects\",\"diabetic subjects\",\"diabetic subjects\",\"diabetic subjects\",\"diabetic subjects\",\"diabetic subjects\",\"diabetic subjects\",\"diabetic subjects\",\"diabetic subjects\",\"diabetic subjects\",\"diabetic subjects\",\"diabetic subjects\",\"diabetic subjects\",\"diabetic subjects\",\"diabetic subjects\",\"diabetic subjects\",\"diabetic subjects\",\"diabetic subjects\",\"diabetic subjects\",\"diabetic subjects\",\"diabetic subjects\",\"diabetic subjects\",\"diabetic subjects\",\"diabetic subjects\",\"diabetic subjects\",\"diabetic subjects\",\"diabetic subjects\",\"diabetic subjects\",\"diabetic subjects\",\"diabetic subjects\",\"diabetic subjects\",\"diabetic subjects\",\"diabetic subjects\",\"diabetic subjects\",\"diabetic subjects\",\"diabetic subjects\",\"diabetic subjects\",\"diabetic subjects\",\"diabetic subjects\",\"diabetic subjects\",\"diabetic subjects\",\"diabetic subjects\"],\"y\":[5.05,5.05,5.05,5.05,5.05,5.05,5.58,5.58,5.58,5.58,5.58,5.58,5.4,5.4,5.4,5.4,5.4,5.4,5.08,5.08,5.08,5.08,5.08,5.08,5.7,5.7,5.7,5.7,5.7,5.7,5.4,5.4,5.4,5.4,5.4,5.4,5.57,5.57,5.57,5.57,5.57,5.57,5.85,5.85,5.85,5.85,5.85,5.85,5.46,5.46,5.46,5.46,5.46,5.46,4.87,4.87,4.87,4.87,4.87,4.87,5.86,5.86,5.86,5.86,5.86,5.86,6.29,6.29,6.29,6.29,6.29,6.29,5.94,5.94,5.94,5.94,5.94,5.94,6.0,6.0,6.0,6.0,6.0,6.0,5.94,5.94,5.94,5.94,5.94,5.94,6.02,6.02,6.02,6.02,6.02,6.02,5.45,5.45,5.45,5.45,5.45,5.45,6.05,6.05,6.05,6.05,6.05,6.05,5.9,5.9,5.9,5.9,5.9,5.9,5.1,5.1,5.1,5.1,5.1,5.1,7.84,7.84,7.84,7.84,7.84,7.84,7.83,7.83,7.83,7.83,7.83,7.83,6.7,6.7,6.7,6.7,6.7,6.7,6.7,6.7,6.7,6.7,6.7,6.7,7.72,7.72,7.72,7.72,7.72,7.72,7.53,7.53,7.53,7.53,7.53,7.53,8.0,8.0,8.0,8.0,8.0,8.0,6.99,6.99,6.99,6.99,6.99,6.99,6.94,6.94,6.94,6.94,6.94,6.94,9.1,9.1,9.1,9.1,9.1,9.1],\"type\":\"bar\"}],                        {\"barmode\":\"group\",\"template\":{\"data\":{\"barpolar\":[{\"marker\":{\"line\":{\"color\":\"#E5ECF6\",\"width\":0.5},\"pattern\":{\"fillmode\":\"overlay\",\"size\":10,\"solidity\":0.2}},\"type\":\"barpolar\"}],\"bar\":[{\"error_x\":{\"color\":\"#2a3f5f\"},\"error_y\":{\"color\":\"#2a3f5f\"},\"marker\":{\"line\":{\"color\":\"#E5ECF6\",\"width\":0.5},\"pattern\":{\"fillmode\":\"overlay\",\"size\":10,\"solidity\":0.2}},\"type\":\"bar\"}],\"carpet\":[{\"aaxis\":{\"endlinecolor\":\"#2a3f5f\",\"gridcolor\":\"white\",\"linecolor\":\"white\",\"minorgridcolor\":\"white\",\"startlinecolor\":\"#2a3f5f\"},\"baxis\":{\"endlinecolor\":\"#2a3f5f\",\"gridcolor\":\"white\",\"linecolor\":\"white\",\"minorgridcolor\":\"white\",\"startlinecolor\":\"#2a3f5f\"},\"type\":\"carpet\"}],\"choropleth\":[{\"colorbar\":{\"outlinewidth\":0,\"ticks\":\"\"},\"type\":\"choropleth\"}],\"contourcarpet\":[{\"colorbar\":{\"outlinewidth\":0,\"ticks\":\"\"},\"type\":\"contourcarpet\"}],\"contour\":[{\"colorbar\":{\"outlinewidth\":0,\"ticks\":\"\"},\"colorscale\":[[0.0,\"#0d0887\"],[0.1111111111111111,\"#46039f\"],[0.2222222222222222,\"#7201a8\"],[0.3333333333333333,\"#9c179e\"],[0.4444444444444444,\"#bd3786\"],[0.5555555555555556,\"#d8576b\"],[0.6666666666666666,\"#ed7953\"],[0.7777777777777778,\"#fb9f3a\"],[0.8888888888888888,\"#fdca26\"],[1.0,\"#f0f921\"]],\"type\":\"contour\"}],\"heatmapgl\":[{\"colorbar\":{\"outlinewidth\":0,\"ticks\":\"\"},\"colorscale\":[[0.0,\"#0d0887\"],[0.1111111111111111,\"#46039f\"],[0.2222222222222222,\"#7201a8\"],[0.3333333333333333,\"#9c179e\"],[0.4444444444444444,\"#bd3786\"],[0.5555555555555556,\"#d8576b\"],[0.6666666666666666,\"#ed7953\"],[0.7777777777777778,\"#fb9f3a\"],[0.8888888888888888,\"#fdca26\"],[1.0,\"#f0f921\"]],\"type\":\"heatmapgl\"}],\"heatmap\":[{\"colorbar\":{\"outlinewidth\":0,\"ticks\":\"\"},\"colorscale\":[[0.0,\"#0d0887\"],[0.1111111111111111,\"#46039f\"],[0.2222222222222222,\"#7201a8\"],[0.3333333333333333,\"#9c179e\"],[0.4444444444444444,\"#bd3786\"],[0.5555555555555556,\"#d8576b\"],[0.6666666666666666,\"#ed7953\"],[0.7777777777777778,\"#fb9f3a\"],[0.8888888888888888,\"#fdca26\"],[1.0,\"#f0f921\"]],\"type\":\"heatmap\"}],\"histogram2dcontour\":[{\"colorbar\":{\"outlinewidth\":0,\"ticks\":\"\"},\"colorscale\":[[0.0,\"#0d0887\"],[0.1111111111111111,\"#46039f\"],[0.2222222222222222,\"#7201a8\"],[0.3333333333333333,\"#9c179e\"],[0.4444444444444444,\"#bd3786\"],[0.5555555555555556,\"#d8576b\"],[0.6666666666666666,\"#ed7953\"],[0.7777777777777778,\"#fb9f3a\"],[0.8888888888888888,\"#fdca26\"],[1.0,\"#f0f921\"]],\"type\":\"histogram2dcontour\"}],\"histogram2d\":[{\"colorbar\":{\"outlinewidth\":0,\"ticks\":\"\"},\"colorscale\":[[0.0,\"#0d0887\"],[0.1111111111111111,\"#46039f\"],[0.2222222222222222,\"#7201a8\"],[0.3333333333333333,\"#9c179e\"],[0.4444444444444444,\"#bd3786\"],[0.5555555555555556,\"#d8576b\"],[0.6666666666666666,\"#ed7953\"],[0.7777777777777778,\"#fb9f3a\"],[0.8888888888888888,\"#fdca26\"],[1.0,\"#f0f921\"]],\"type\":\"histogram2d\"}],\"histogram\":[{\"marker\":{\"pattern\":{\"fillmode\":\"overlay\",\"size\":10,\"solidity\":0.2}},\"type\":\"histogram\"}],\"mesh3d\":[{\"colorbar\":{\"outlinewidth\":0,\"ticks\":\"\"},\"type\":\"mesh3d\"}],\"parcoords\":[{\"line\":{\"colorbar\":{\"outlinewidth\":0,\"ticks\":\"\"}},\"type\":\"parcoords\"}],\"pie\":[{\"automargin\":true,\"type\":\"pie\"}],\"scatter3d\":[{\"line\":{\"colorbar\":{\"outlinewidth\":0,\"ticks\":\"\"}},\"marker\":{\"colorbar\":{\"outlinewidth\":0,\"ticks\":\"\"}},\"type\":\"scatter3d\"}],\"scattercarpet\":[{\"marker\":{\"colorbar\":{\"outlinewidth\":0,\"ticks\":\"\"}},\"type\":\"scattercarpet\"}],\"scattergeo\":[{\"marker\":{\"colorbar\":{\"outlinewidth\":0,\"ticks\":\"\"}},\"type\":\"scattergeo\"}],\"scattergl\":[{\"marker\":{\"colorbar\":{\"outlinewidth\":0,\"ticks\":\"\"}},\"type\":\"scattergl\"}],\"scattermapbox\":[{\"marker\":{\"colorbar\":{\"outlinewidth\":0,\"ticks\":\"\"}},\"type\":\"scattermapbox\"}],\"scatterpolargl\":[{\"marker\":{\"colorbar\":{\"outlinewidth\":0,\"ticks\":\"\"}},\"type\":\"scatterpolargl\"}],\"scatterpolar\":[{\"marker\":{\"colorbar\":{\"outlinewidth\":0,\"ticks\":\"\"}},\"type\":\"scatterpolar\"}],\"scatter\":[{\"fillpattern\":{\"fillmode\":\"overlay\",\"size\":10,\"solidity\":0.2},\"type\":\"scatter\"}],\"scatterternary\":[{\"marker\":{\"colorbar\":{\"outlinewidth\":0,\"ticks\":\"\"}},\"type\":\"scatterternary\"}],\"surface\":[{\"colorbar\":{\"outlinewidth\":0,\"ticks\":\"\"},\"colorscale\":[[0.0,\"#0d0887\"],[0.1111111111111111,\"#46039f\"],[0.2222222222222222,\"#7201a8\"],[0.3333333333333333,\"#9c179e\"],[0.4444444444444444,\"#bd3786\"],[0.5555555555555556,\"#d8576b\"],[0.6666666666666666,\"#ed7953\"],[0.7777777777777778,\"#fb9f3a\"],[0.8888888888888888,\"#fdca26\"],[1.0,\"#f0f921\"]],\"type\":\"surface\"}],\"table\":[{\"cells\":{\"fill\":{\"color\":\"#EBF0F8\"},\"line\":{\"color\":\"white\"}},\"header\":{\"fill\":{\"color\":\"#C8D4E3\"},\"line\":{\"color\":\"white\"}},\"type\":\"table\"}]},\"layout\":{\"annotationdefaults\":{\"arrowcolor\":\"#2a3f5f\",\"arrowhead\":0,\"arrowwidth\":1},\"autotypenumbers\":\"strict\",\"coloraxis\":{\"colorbar\":{\"outlinewidth\":0,\"ticks\":\"\"}},\"colorscale\":{\"diverging\":[[0,\"#8e0152\"],[0.1,\"#c51b7d\"],[0.2,\"#de77ae\"],[0.3,\"#f1b6da\"],[0.4,\"#fde0ef\"],[0.5,\"#f7f7f7\"],[0.6,\"#e6f5d0\"],[0.7,\"#b8e186\"],[0.8,\"#7fbc41\"],[0.9,\"#4d9221\"],[1,\"#276419\"]],\"sequential\":[[0.0,\"#0d0887\"],[0.1111111111111111,\"#46039f\"],[0.2222222222222222,\"#7201a8\"],[0.3333333333333333,\"#9c179e\"],[0.4444444444444444,\"#bd3786\"],[0.5555555555555556,\"#d8576b\"],[0.6666666666666666,\"#ed7953\"],[0.7777777777777778,\"#fb9f3a\"],[0.8888888888888888,\"#fdca26\"],[1.0,\"#f0f921\"]],\"sequentialminus\":[[0.0,\"#0d0887\"],[0.1111111111111111,\"#46039f\"],[0.2222222222222222,\"#7201a8\"],[0.3333333333333333,\"#9c179e\"],[0.4444444444444444,\"#bd3786\"],[0.5555555555555556,\"#d8576b\"],[0.6666666666666666,\"#ed7953\"],[0.7777777777777778,\"#fb9f3a\"],[0.8888888888888888,\"#fdca26\"],[1.0,\"#f0f921\"]]},\"colorway\":[\"#636efa\",\"#EF553B\",\"#00cc96\",\"#ab63fa\",\"#FFA15A\",\"#19d3f3\",\"#FF6692\",\"#B6E880\",\"#FF97FF\",\"#FECB52\"],\"font\":{\"color\":\"#2a3f5f\"},\"geo\":{\"bgcolor\":\"white\",\"lakecolor\":\"white\",\"landcolor\":\"#E5ECF6\",\"showlakes\":true,\"showland\":true,\"subunitcolor\":\"white\"},\"hoverlabel\":{\"align\":\"left\"},\"hovermode\":\"closest\",\"mapbox\":{\"style\":\"light\"},\"paper_bgcolor\":\"white\",\"plot_bgcolor\":\"#E5ECF6\",\"polar\":{\"angularaxis\":{\"gridcolor\":\"white\",\"linecolor\":\"white\",\"ticks\":\"\"},\"bgcolor\":\"#E5ECF6\",\"radialaxis\":{\"gridcolor\":\"white\",\"linecolor\":\"white\",\"ticks\":\"\"}},\"scene\":{\"xaxis\":{\"backgroundcolor\":\"#E5ECF6\",\"gridcolor\":\"white\",\"gridwidth\":2,\"linecolor\":\"white\",\"showbackground\":true,\"ticks\":\"\",\"zerolinecolor\":\"white\"},\"yaxis\":{\"backgroundcolor\":\"#E5ECF6\",\"gridcolor\":\"white\",\"gridwidth\":2,\"linecolor\":\"white\",\"showbackground\":true,\"ticks\":\"\",\"zerolinecolor\":\"white\"},\"zaxis\":{\"backgroundcolor\":\"#E5ECF6\",\"gridcolor\":\"white\",\"gridwidth\":2,\"linecolor\":\"white\",\"showbackground\":true,\"ticks\":\"\",\"zerolinecolor\":\"white\"}},\"shapedefaults\":{\"line\":{\"color\":\"#2a3f5f\"}},\"ternary\":{\"aaxis\":{\"gridcolor\":\"white\",\"linecolor\":\"white\",\"ticks\":\"\"},\"baxis\":{\"gridcolor\":\"white\",\"linecolor\":\"white\",\"ticks\":\"\"},\"bgcolor\":\"#E5ECF6\",\"caxis\":{\"gridcolor\":\"white\",\"linecolor\":\"white\",\"ticks\":\"\"}},\"title\":{\"x\":0.05},\"xaxis\":{\"automargin\":true,\"gridcolor\":\"white\",\"linecolor\":\"white\",\"ticks\":\"\",\"title\":{\"standoff\":15},\"zerolinecolor\":\"white\",\"zerolinewidth\":2},\"yaxis\":{\"automargin\":true,\"gridcolor\":\"white\",\"linecolor\":\"white\",\"ticks\":\"\",\"title\":{\"standoff\":15},\"zerolinecolor\":\"white\",\"zerolinewidth\":2}}}},                        {\"responsive\": true}                    ).then(function(){\n",
       "                            \n",
       "var gd = document.getElementById('ed4bb3ca-bd2c-43f8-84e7-2c4391fff8c7');\n",
       "var x = new MutationObserver(function (mutations, observer) {{\n",
       "        var display = window.getComputedStyle(gd).display;\n",
       "        if (!display || display === 'none') {{\n",
       "            console.log([gd, 'removed!']);\n",
       "            Plotly.purge(gd);\n",
       "            observer.disconnect();\n",
       "        }}\n",
       "}});\n",
       "\n",
       "// Listen for the removal of the full notebook cells\n",
       "var notebookContainer = gd.closest('#notebook-container');\n",
       "if (notebookContainer) {{\n",
       "    x.observe(notebookContainer, {childList: true});\n",
       "}}\n",
       "\n",
       "// Listen for the clearing of the current output cell\n",
       "var outputEl = gd.closest('.output');\n",
       "if (outputEl) {{\n",
       "    x.observe(outputEl, {childList: true});\n",
       "}}\n",
       "\n",
       "                        })                };                });            </script>        </div>"
      ]
     },
     "metadata": {},
     "output_type": "display_data"
    }
   ],
   "source": [
    "#Evaluar la relación del BMI y hba1c de cada grupo mediante un gráfico de barras iteractivo\n",
    "\n",
    "trace1 = go.Bar(x = sample_metadata[\"HEALTH_STATUS\"],\n",
    "                y = sample_metadata['BMI'],\n",
    "                name = 'BMI',\n",
    "                marker = dict(color = 'rgba(255, 185, 225, 0.5)'),\n",
    "                )\n",
    "\n",
    "trace2 = go.Bar(x = sample_metadata[\"HEALTH_STATUS\"],\n",
    "               y = sample_metadata['hba1c'],\n",
    "               name = 'hba1c',\n",
    "               marker = dict(color = 'rgba(255, 255, 128, 0.5)'),\n",
    "               )\n",
    "\n",
    "data = [trace1, trace2] \n",
    "\n",
    "layout = go.Layout(barmode = \"group\") \n",
    "\n",
    "fig = go.Figure(data = data, layout = layout)\n",
    "\n",
    "iplot(fig)"
   ]
  },
  {
   "cell_type": "code",
   "execution_count": 123,
   "metadata": {},
   "outputs": [
    {
     "data": {
      "application/vnd.plotly.v1+json": {
       "config": {
        "linkText": "Export to plot.ly",
        "plotlyServerURL": "https://plot.ly",
        "showLink": false
       },
       "data": [
        {
         "name": "BMI",
         "type": "bar",
         "x": [
          "healthy subjects",
          "healthy subjects",
          "healthy subjects",
          "healthy subjects",
          "healthy subjects",
          "healthy subjects",
          "healthy subjects",
          "healthy subjects",
          "healthy subjects",
          "healthy subjects",
          "healthy subjects",
          "healthy subjects",
          "healthy subjects",
          "healthy subjects",
          "healthy subjects",
          "healthy subjects",
          "healthy subjects",
          "healthy subjects",
          "healthy subjects",
          "healthy subjects",
          "healthy subjects",
          "healthy subjects",
          "healthy subjects",
          "healthy subjects",
          "healthy subjects",
          "healthy subjects",
          "healthy subjects",
          "healthy subjects",
          "healthy subjects",
          "healthy subjects",
          "healthy subjects",
          "healthy subjects",
          "healthy subjects",
          "healthy subjects",
          "healthy subjects",
          "healthy subjects",
          "healthy subjects",
          "healthy subjects",
          "healthy subjects",
          "healthy subjects",
          "healthy subjects",
          "healthy subjects",
          "healthy subjects",
          "healthy subjects",
          "healthy subjects",
          "healthy subjects",
          "healthy subjects",
          "healthy subjects",
          "healthy subjects",
          "healthy subjects",
          "healthy subjects",
          "healthy subjects",
          "healthy subjects",
          "healthy subjects",
          "healthy subjects",
          "healthy subjects",
          "healthy subjects",
          "healthy subjects",
          "healthy subjects",
          "healthy subjects",
          "prediabetic",
          "prediabetic",
          "prediabetic",
          "prediabetic",
          "prediabetic",
          "prediabetic",
          "prediabetic",
          "prediabetic",
          "prediabetic",
          "prediabetic",
          "prediabetic",
          "prediabetic",
          "prediabetic",
          "prediabetic",
          "prediabetic",
          "prediabetic",
          "prediabetic",
          "prediabetic",
          "prediabetic",
          "prediabetic",
          "prediabetic",
          "prediabetic",
          "prediabetic",
          "prediabetic",
          "prediabetic",
          "prediabetic",
          "prediabetic",
          "prediabetic",
          "prediabetic",
          "prediabetic",
          "prediabetic",
          "prediabetic",
          "prediabetic",
          "prediabetic",
          "prediabetic",
          "prediabetic",
          "prediabetic",
          "prediabetic",
          "prediabetic",
          "prediabetic",
          "prediabetic",
          "prediabetic",
          "prediabetic",
          "prediabetic",
          "prediabetic",
          "prediabetic",
          "prediabetic",
          "prediabetic",
          "prediabetic",
          "prediabetic",
          "prediabetic",
          "prediabetic",
          "prediabetic",
          "prediabetic",
          "prediabetic",
          "prediabetic",
          "prediabetic",
          "prediabetic",
          "prediabetic",
          "prediabetic",
          "diabetic subjects",
          "diabetic subjects",
          "diabetic subjects",
          "diabetic subjects",
          "diabetic subjects",
          "diabetic subjects",
          "diabetic subjects",
          "diabetic subjects",
          "diabetic subjects",
          "diabetic subjects",
          "diabetic subjects",
          "diabetic subjects",
          "diabetic subjects",
          "diabetic subjects",
          "diabetic subjects",
          "diabetic subjects",
          "diabetic subjects",
          "diabetic subjects",
          "diabetic subjects",
          "diabetic subjects",
          "diabetic subjects",
          "diabetic subjects",
          "diabetic subjects",
          "diabetic subjects",
          "diabetic subjects",
          "diabetic subjects",
          "diabetic subjects",
          "diabetic subjects",
          "diabetic subjects",
          "diabetic subjects",
          "diabetic subjects",
          "diabetic subjects",
          "diabetic subjects",
          "diabetic subjects",
          "diabetic subjects",
          "diabetic subjects",
          "diabetic subjects",
          "diabetic subjects",
          "diabetic subjects",
          "diabetic subjects",
          "diabetic subjects",
          "diabetic subjects",
          "diabetic subjects",
          "diabetic subjects",
          "diabetic subjects",
          "diabetic subjects",
          "diabetic subjects",
          "diabetic subjects",
          "diabetic subjects",
          "diabetic subjects",
          "diabetic subjects",
          "diabetic subjects",
          "diabetic subjects",
          "diabetic subjects",
          "diabetic subjects",
          "diabetic subjects",
          "diabetic subjects",
          "diabetic subjects",
          "diabetic subjects",
          "diabetic subjects"
         ],
         "y": [
          27.9,
          27.9,
          27.9,
          27.9,
          27.9,
          27.9,
          20.5,
          20.5,
          20.5,
          20.5,
          20.5,
          20.5,
          21.4,
          21.4,
          21.4,
          21.4,
          21.4,
          21.4,
          27.2,
          27.2,
          27.2,
          27.2,
          27.2,
          27.2,
          26.5,
          26.5,
          26.5,
          26.5,
          26.5,
          26.5,
          20.5,
          20.5,
          20.5,
          20.5,
          20.5,
          20.5,
          24.7,
          24.7,
          24.7,
          24.7,
          24.7,
          24.7,
          19.9,
          19.9,
          19.9,
          19.9,
          19.9,
          19.9,
          20.8,
          20.8,
          20.8,
          20.8,
          20.8,
          20.8,
          27.8,
          27.8,
          27.8,
          27.8,
          27.8,
          27.8,
          34.8,
          34.8,
          34.8,
          34.8,
          34.8,
          34.8,
          28.3,
          28.3,
          28.3,
          28.3,
          28.3,
          28.3,
          32.3,
          32.3,
          32.3,
          32.3,
          32.3,
          32.3,
          38.9,
          38.9,
          38.9,
          38.9,
          38.9,
          38.9,
          35.4,
          35.4,
          35.4,
          35.4,
          35.4,
          35.4,
          33.7,
          33.7,
          33.7,
          33.7,
          33.7,
          33.7,
          30,
          30,
          30,
          30,
          30,
          30,
          40.1,
          40.1,
          40.1,
          40.1,
          40.1,
          40.1,
          29.2,
          29.2,
          29.2,
          29.2,
          29.2,
          29.2,
          41.9,
          41.9,
          41.9,
          41.9,
          41.9,
          41.9,
          38.9,
          38.9,
          38.9,
          38.9,
          38.9,
          38.9,
          32.9,
          32.9,
          32.9,
          32.9,
          32.9,
          32.9,
          32.7,
          32.7,
          32.7,
          32.7,
          32.7,
          32.7,
          27.5,
          27.5,
          27.5,
          27.5,
          27.5,
          27.5,
          30.2,
          30.2,
          30.2,
          30.2,
          30.2,
          30.2,
          26.6,
          26.6,
          26.6,
          26.6,
          26.6,
          26.6,
          34.3,
          34.3,
          34.3,
          34.3,
          34.3,
          34.3,
          27,
          27,
          27,
          27,
          27,
          27,
          27.2,
          27.2,
          27.2,
          27.2,
          27.2,
          27.2,
          38.6,
          38.6,
          38.6,
          38.6,
          38.6,
          38.6
         ]
        },
        {
         "name": "hba1c",
         "type": "bar",
         "x": [
          "healthy subjects",
          "healthy subjects",
          "healthy subjects",
          "healthy subjects",
          "healthy subjects",
          "healthy subjects",
          "healthy subjects",
          "healthy subjects",
          "healthy subjects",
          "healthy subjects",
          "healthy subjects",
          "healthy subjects",
          "healthy subjects",
          "healthy subjects",
          "healthy subjects",
          "healthy subjects",
          "healthy subjects",
          "healthy subjects",
          "healthy subjects",
          "healthy subjects",
          "healthy subjects",
          "healthy subjects",
          "healthy subjects",
          "healthy subjects",
          "healthy subjects",
          "healthy subjects",
          "healthy subjects",
          "healthy subjects",
          "healthy subjects",
          "healthy subjects",
          "healthy subjects",
          "healthy subjects",
          "healthy subjects",
          "healthy subjects",
          "healthy subjects",
          "healthy subjects",
          "healthy subjects",
          "healthy subjects",
          "healthy subjects",
          "healthy subjects",
          "healthy subjects",
          "healthy subjects",
          "healthy subjects",
          "healthy subjects",
          "healthy subjects",
          "healthy subjects",
          "healthy subjects",
          "healthy subjects",
          "healthy subjects",
          "healthy subjects",
          "healthy subjects",
          "healthy subjects",
          "healthy subjects",
          "healthy subjects",
          "healthy subjects",
          "healthy subjects",
          "healthy subjects",
          "healthy subjects",
          "healthy subjects",
          "healthy subjects",
          "prediabetic",
          "prediabetic",
          "prediabetic",
          "prediabetic",
          "prediabetic",
          "prediabetic",
          "prediabetic",
          "prediabetic",
          "prediabetic",
          "prediabetic",
          "prediabetic",
          "prediabetic",
          "prediabetic",
          "prediabetic",
          "prediabetic",
          "prediabetic",
          "prediabetic",
          "prediabetic",
          "prediabetic",
          "prediabetic",
          "prediabetic",
          "prediabetic",
          "prediabetic",
          "prediabetic",
          "prediabetic",
          "prediabetic",
          "prediabetic",
          "prediabetic",
          "prediabetic",
          "prediabetic",
          "prediabetic",
          "prediabetic",
          "prediabetic",
          "prediabetic",
          "prediabetic",
          "prediabetic",
          "prediabetic",
          "prediabetic",
          "prediabetic",
          "prediabetic",
          "prediabetic",
          "prediabetic",
          "prediabetic",
          "prediabetic",
          "prediabetic",
          "prediabetic",
          "prediabetic",
          "prediabetic",
          "prediabetic",
          "prediabetic",
          "prediabetic",
          "prediabetic",
          "prediabetic",
          "prediabetic",
          "prediabetic",
          "prediabetic",
          "prediabetic",
          "prediabetic",
          "prediabetic",
          "prediabetic",
          "diabetic subjects",
          "diabetic subjects",
          "diabetic subjects",
          "diabetic subjects",
          "diabetic subjects",
          "diabetic subjects",
          "diabetic subjects",
          "diabetic subjects",
          "diabetic subjects",
          "diabetic subjects",
          "diabetic subjects",
          "diabetic subjects",
          "diabetic subjects",
          "diabetic subjects",
          "diabetic subjects",
          "diabetic subjects",
          "diabetic subjects",
          "diabetic subjects",
          "diabetic subjects",
          "diabetic subjects",
          "diabetic subjects",
          "diabetic subjects",
          "diabetic subjects",
          "diabetic subjects",
          "diabetic subjects",
          "diabetic subjects",
          "diabetic subjects",
          "diabetic subjects",
          "diabetic subjects",
          "diabetic subjects",
          "diabetic subjects",
          "diabetic subjects",
          "diabetic subjects",
          "diabetic subjects",
          "diabetic subjects",
          "diabetic subjects",
          "diabetic subjects",
          "diabetic subjects",
          "diabetic subjects",
          "diabetic subjects",
          "diabetic subjects",
          "diabetic subjects",
          "diabetic subjects",
          "diabetic subjects",
          "diabetic subjects",
          "diabetic subjects",
          "diabetic subjects",
          "diabetic subjects",
          "diabetic subjects",
          "diabetic subjects",
          "diabetic subjects",
          "diabetic subjects",
          "diabetic subjects",
          "diabetic subjects",
          "diabetic subjects",
          "diabetic subjects",
          "diabetic subjects",
          "diabetic subjects",
          "diabetic subjects",
          "diabetic subjects"
         ],
         "y": [
          5.05,
          5.05,
          5.05,
          5.05,
          5.05,
          5.05,
          5.58,
          5.58,
          5.58,
          5.58,
          5.58,
          5.58,
          5.4,
          5.4,
          5.4,
          5.4,
          5.4,
          5.4,
          5.08,
          5.08,
          5.08,
          5.08,
          5.08,
          5.08,
          5.7,
          5.7,
          5.7,
          5.7,
          5.7,
          5.7,
          5.4,
          5.4,
          5.4,
          5.4,
          5.4,
          5.4,
          5.57,
          5.57,
          5.57,
          5.57,
          5.57,
          5.57,
          5.85,
          5.85,
          5.85,
          5.85,
          5.85,
          5.85,
          5.46,
          5.46,
          5.46,
          5.46,
          5.46,
          5.46,
          4.87,
          4.87,
          4.87,
          4.87,
          4.87,
          4.87,
          5.86,
          5.86,
          5.86,
          5.86,
          5.86,
          5.86,
          6.29,
          6.29,
          6.29,
          6.29,
          6.29,
          6.29,
          5.94,
          5.94,
          5.94,
          5.94,
          5.94,
          5.94,
          6,
          6,
          6,
          6,
          6,
          6,
          5.94,
          5.94,
          5.94,
          5.94,
          5.94,
          5.94,
          6.02,
          6.02,
          6.02,
          6.02,
          6.02,
          6.02,
          5.45,
          5.45,
          5.45,
          5.45,
          5.45,
          5.45,
          6.05,
          6.05,
          6.05,
          6.05,
          6.05,
          6.05,
          5.9,
          5.9,
          5.9,
          5.9,
          5.9,
          5.9,
          5.1,
          5.1,
          5.1,
          5.1,
          5.1,
          5.1,
          7.84,
          7.84,
          7.84,
          7.84,
          7.84,
          7.84,
          7.83,
          7.83,
          7.83,
          7.83,
          7.83,
          7.83,
          6.7,
          6.7,
          6.7,
          6.7,
          6.7,
          6.7,
          6.7,
          6.7,
          6.7,
          6.7,
          6.7,
          6.7,
          7.72,
          7.72,
          7.72,
          7.72,
          7.72,
          7.72,
          7.53,
          7.53,
          7.53,
          7.53,
          7.53,
          7.53,
          8,
          8,
          8,
          8,
          8,
          8,
          6.99,
          6.99,
          6.99,
          6.99,
          6.99,
          6.99,
          6.94,
          6.94,
          6.94,
          6.94,
          6.94,
          6.94,
          9.1,
          9.1,
          9.1,
          9.1,
          9.1,
          9.1
         ]
        }
       ],
       "layout": {
        "barmode": "group",
        "template": {
         "data": {
          "bar": [
           {
            "error_x": {
             "color": "#2a3f5f"
            },
            "error_y": {
             "color": "#2a3f5f"
            },
            "marker": {
             "line": {
              "color": "#E5ECF6",
              "width": 0.5
             },
             "pattern": {
              "fillmode": "overlay",
              "size": 10,
              "solidity": 0.2
             }
            },
            "type": "bar"
           }
          ],
          "barpolar": [
           {
            "marker": {
             "line": {
              "color": "#E5ECF6",
              "width": 0.5
             },
             "pattern": {
              "fillmode": "overlay",
              "size": 10,
              "solidity": 0.2
             }
            },
            "type": "barpolar"
           }
          ],
          "carpet": [
           {
            "aaxis": {
             "endlinecolor": "#2a3f5f",
             "gridcolor": "white",
             "linecolor": "white",
             "minorgridcolor": "white",
             "startlinecolor": "#2a3f5f"
            },
            "baxis": {
             "endlinecolor": "#2a3f5f",
             "gridcolor": "white",
             "linecolor": "white",
             "minorgridcolor": "white",
             "startlinecolor": "#2a3f5f"
            },
            "type": "carpet"
           }
          ],
          "choropleth": [
           {
            "colorbar": {
             "outlinewidth": 0,
             "ticks": ""
            },
            "type": "choropleth"
           }
          ],
          "contour": [
           {
            "colorbar": {
             "outlinewidth": 0,
             "ticks": ""
            },
            "colorscale": [
             [
              0,
              "#0d0887"
             ],
             [
              0.1111111111111111,
              "#46039f"
             ],
             [
              0.2222222222222222,
              "#7201a8"
             ],
             [
              0.3333333333333333,
              "#9c179e"
             ],
             [
              0.4444444444444444,
              "#bd3786"
             ],
             [
              0.5555555555555556,
              "#d8576b"
             ],
             [
              0.6666666666666666,
              "#ed7953"
             ],
             [
              0.7777777777777778,
              "#fb9f3a"
             ],
             [
              0.8888888888888888,
              "#fdca26"
             ],
             [
              1,
              "#f0f921"
             ]
            ],
            "type": "contour"
           }
          ],
          "contourcarpet": [
           {
            "colorbar": {
             "outlinewidth": 0,
             "ticks": ""
            },
            "type": "contourcarpet"
           }
          ],
          "heatmap": [
           {
            "colorbar": {
             "outlinewidth": 0,
             "ticks": ""
            },
            "colorscale": [
             [
              0,
              "#0d0887"
             ],
             [
              0.1111111111111111,
              "#46039f"
             ],
             [
              0.2222222222222222,
              "#7201a8"
             ],
             [
              0.3333333333333333,
              "#9c179e"
             ],
             [
              0.4444444444444444,
              "#bd3786"
             ],
             [
              0.5555555555555556,
              "#d8576b"
             ],
             [
              0.6666666666666666,
              "#ed7953"
             ],
             [
              0.7777777777777778,
              "#fb9f3a"
             ],
             [
              0.8888888888888888,
              "#fdca26"
             ],
             [
              1,
              "#f0f921"
             ]
            ],
            "type": "heatmap"
           }
          ],
          "heatmapgl": [
           {
            "colorbar": {
             "outlinewidth": 0,
             "ticks": ""
            },
            "colorscale": [
             [
              0,
              "#0d0887"
             ],
             [
              0.1111111111111111,
              "#46039f"
             ],
             [
              0.2222222222222222,
              "#7201a8"
             ],
             [
              0.3333333333333333,
              "#9c179e"
             ],
             [
              0.4444444444444444,
              "#bd3786"
             ],
             [
              0.5555555555555556,
              "#d8576b"
             ],
             [
              0.6666666666666666,
              "#ed7953"
             ],
             [
              0.7777777777777778,
              "#fb9f3a"
             ],
             [
              0.8888888888888888,
              "#fdca26"
             ],
             [
              1,
              "#f0f921"
             ]
            ],
            "type": "heatmapgl"
           }
          ],
          "histogram": [
           {
            "marker": {
             "pattern": {
              "fillmode": "overlay",
              "size": 10,
              "solidity": 0.2
             }
            },
            "type": "histogram"
           }
          ],
          "histogram2d": [
           {
            "colorbar": {
             "outlinewidth": 0,
             "ticks": ""
            },
            "colorscale": [
             [
              0,
              "#0d0887"
             ],
             [
              0.1111111111111111,
              "#46039f"
             ],
             [
              0.2222222222222222,
              "#7201a8"
             ],
             [
              0.3333333333333333,
              "#9c179e"
             ],
             [
              0.4444444444444444,
              "#bd3786"
             ],
             [
              0.5555555555555556,
              "#d8576b"
             ],
             [
              0.6666666666666666,
              "#ed7953"
             ],
             [
              0.7777777777777778,
              "#fb9f3a"
             ],
             [
              0.8888888888888888,
              "#fdca26"
             ],
             [
              1,
              "#f0f921"
             ]
            ],
            "type": "histogram2d"
           }
          ],
          "histogram2dcontour": [
           {
            "colorbar": {
             "outlinewidth": 0,
             "ticks": ""
            },
            "colorscale": [
             [
              0,
              "#0d0887"
             ],
             [
              0.1111111111111111,
              "#46039f"
             ],
             [
              0.2222222222222222,
              "#7201a8"
             ],
             [
              0.3333333333333333,
              "#9c179e"
             ],
             [
              0.4444444444444444,
              "#bd3786"
             ],
             [
              0.5555555555555556,
              "#d8576b"
             ],
             [
              0.6666666666666666,
              "#ed7953"
             ],
             [
              0.7777777777777778,
              "#fb9f3a"
             ],
             [
              0.8888888888888888,
              "#fdca26"
             ],
             [
              1,
              "#f0f921"
             ]
            ],
            "type": "histogram2dcontour"
           }
          ],
          "mesh3d": [
           {
            "colorbar": {
             "outlinewidth": 0,
             "ticks": ""
            },
            "type": "mesh3d"
           }
          ],
          "parcoords": [
           {
            "line": {
             "colorbar": {
              "outlinewidth": 0,
              "ticks": ""
             }
            },
            "type": "parcoords"
           }
          ],
          "pie": [
           {
            "automargin": true,
            "type": "pie"
           }
          ],
          "scatter": [
           {
            "fillpattern": {
             "fillmode": "overlay",
             "size": 10,
             "solidity": 0.2
            },
            "type": "scatter"
           }
          ],
          "scatter3d": [
           {
            "line": {
             "colorbar": {
              "outlinewidth": 0,
              "ticks": ""
             }
            },
            "marker": {
             "colorbar": {
              "outlinewidth": 0,
              "ticks": ""
             }
            },
            "type": "scatter3d"
           }
          ],
          "scattercarpet": [
           {
            "marker": {
             "colorbar": {
              "outlinewidth": 0,
              "ticks": ""
             }
            },
            "type": "scattercarpet"
           }
          ],
          "scattergeo": [
           {
            "marker": {
             "colorbar": {
              "outlinewidth": 0,
              "ticks": ""
             }
            },
            "type": "scattergeo"
           }
          ],
          "scattergl": [
           {
            "marker": {
             "colorbar": {
              "outlinewidth": 0,
              "ticks": ""
             }
            },
            "type": "scattergl"
           }
          ],
          "scattermapbox": [
           {
            "marker": {
             "colorbar": {
              "outlinewidth": 0,
              "ticks": ""
             }
            },
            "type": "scattermapbox"
           }
          ],
          "scatterpolar": [
           {
            "marker": {
             "colorbar": {
              "outlinewidth": 0,
              "ticks": ""
             }
            },
            "type": "scatterpolar"
           }
          ],
          "scatterpolargl": [
           {
            "marker": {
             "colorbar": {
              "outlinewidth": 0,
              "ticks": ""
             }
            },
            "type": "scatterpolargl"
           }
          ],
          "scatterternary": [
           {
            "marker": {
             "colorbar": {
              "outlinewidth": 0,
              "ticks": ""
             }
            },
            "type": "scatterternary"
           }
          ],
          "surface": [
           {
            "colorbar": {
             "outlinewidth": 0,
             "ticks": ""
            },
            "colorscale": [
             [
              0,
              "#0d0887"
             ],
             [
              0.1111111111111111,
              "#46039f"
             ],
             [
              0.2222222222222222,
              "#7201a8"
             ],
             [
              0.3333333333333333,
              "#9c179e"
             ],
             [
              0.4444444444444444,
              "#bd3786"
             ],
             [
              0.5555555555555556,
              "#d8576b"
             ],
             [
              0.6666666666666666,
              "#ed7953"
             ],
             [
              0.7777777777777778,
              "#fb9f3a"
             ],
             [
              0.8888888888888888,
              "#fdca26"
             ],
             [
              1,
              "#f0f921"
             ]
            ],
            "type": "surface"
           }
          ],
          "table": [
           {
            "cells": {
             "fill": {
              "color": "#EBF0F8"
             },
             "line": {
              "color": "white"
             }
            },
            "header": {
             "fill": {
              "color": "#C8D4E3"
             },
             "line": {
              "color": "white"
             }
            },
            "type": "table"
           }
          ]
         },
         "layout": {
          "annotationdefaults": {
           "arrowcolor": "#2a3f5f",
           "arrowhead": 0,
           "arrowwidth": 1
          },
          "autotypenumbers": "strict",
          "coloraxis": {
           "colorbar": {
            "outlinewidth": 0,
            "ticks": ""
           }
          },
          "colorscale": {
           "diverging": [
            [
             0,
             "#8e0152"
            ],
            [
             0.1,
             "#c51b7d"
            ],
            [
             0.2,
             "#de77ae"
            ],
            [
             0.3,
             "#f1b6da"
            ],
            [
             0.4,
             "#fde0ef"
            ],
            [
             0.5,
             "#f7f7f7"
            ],
            [
             0.6,
             "#e6f5d0"
            ],
            [
             0.7,
             "#b8e186"
            ],
            [
             0.8,
             "#7fbc41"
            ],
            [
             0.9,
             "#4d9221"
            ],
            [
             1,
             "#276419"
            ]
           ],
           "sequential": [
            [
             0,
             "#0d0887"
            ],
            [
             0.1111111111111111,
             "#46039f"
            ],
            [
             0.2222222222222222,
             "#7201a8"
            ],
            [
             0.3333333333333333,
             "#9c179e"
            ],
            [
             0.4444444444444444,
             "#bd3786"
            ],
            [
             0.5555555555555556,
             "#d8576b"
            ],
            [
             0.6666666666666666,
             "#ed7953"
            ],
            [
             0.7777777777777778,
             "#fb9f3a"
            ],
            [
             0.8888888888888888,
             "#fdca26"
            ],
            [
             1,
             "#f0f921"
            ]
           ],
           "sequentialminus": [
            [
             0,
             "#0d0887"
            ],
            [
             0.1111111111111111,
             "#46039f"
            ],
            [
             0.2222222222222222,
             "#7201a8"
            ],
            [
             0.3333333333333333,
             "#9c179e"
            ],
            [
             0.4444444444444444,
             "#bd3786"
            ],
            [
             0.5555555555555556,
             "#d8576b"
            ],
            [
             0.6666666666666666,
             "#ed7953"
            ],
            [
             0.7777777777777778,
             "#fb9f3a"
            ],
            [
             0.8888888888888888,
             "#fdca26"
            ],
            [
             1,
             "#f0f921"
            ]
           ]
          },
          "colorway": [
           "#636efa",
           "#EF553B",
           "#00cc96",
           "#ab63fa",
           "#FFA15A",
           "#19d3f3",
           "#FF6692",
           "#B6E880",
           "#FF97FF",
           "#FECB52"
          ],
          "font": {
           "color": "#2a3f5f"
          },
          "geo": {
           "bgcolor": "white",
           "lakecolor": "white",
           "landcolor": "#E5ECF6",
           "showlakes": true,
           "showland": true,
           "subunitcolor": "white"
          },
          "hoverlabel": {
           "align": "left"
          },
          "hovermode": "closest",
          "mapbox": {
           "style": "light"
          },
          "paper_bgcolor": "white",
          "plot_bgcolor": "#E5ECF6",
          "polar": {
           "angularaxis": {
            "gridcolor": "white",
            "linecolor": "white",
            "ticks": ""
           },
           "bgcolor": "#E5ECF6",
           "radialaxis": {
            "gridcolor": "white",
            "linecolor": "white",
            "ticks": ""
           }
          },
          "scene": {
           "xaxis": {
            "backgroundcolor": "#E5ECF6",
            "gridcolor": "white",
            "gridwidth": 2,
            "linecolor": "white",
            "showbackground": true,
            "ticks": "",
            "zerolinecolor": "white"
           },
           "yaxis": {
            "backgroundcolor": "#E5ECF6",
            "gridcolor": "white",
            "gridwidth": 2,
            "linecolor": "white",
            "showbackground": true,
            "ticks": "",
            "zerolinecolor": "white"
           },
           "zaxis": {
            "backgroundcolor": "#E5ECF6",
            "gridcolor": "white",
            "gridwidth": 2,
            "linecolor": "white",
            "showbackground": true,
            "ticks": "",
            "zerolinecolor": "white"
           }
          },
          "shapedefaults": {
           "line": {
            "color": "#2a3f5f"
           }
          },
          "ternary": {
           "aaxis": {
            "gridcolor": "white",
            "linecolor": "white",
            "ticks": ""
           },
           "baxis": {
            "gridcolor": "white",
            "linecolor": "white",
            "ticks": ""
           },
           "bgcolor": "#E5ECF6",
           "caxis": {
            "gridcolor": "white",
            "linecolor": "white",
            "ticks": ""
           }
          },
          "title": {
           "x": 0.05
          },
          "xaxis": {
           "automargin": true,
           "gridcolor": "white",
           "linecolor": "white",
           "ticks": "",
           "title": {
            "standoff": 15
           },
           "zerolinecolor": "white",
           "zerolinewidth": 2
          },
          "yaxis": {
           "automargin": true,
           "gridcolor": "white",
           "linecolor": "white",
           "ticks": "",
           "title": {
            "standoff": 15
           },
           "zerolinecolor": "white",
           "zerolinewidth": 2
          }
         }
        },
        "title": {
         "text": "Relacion entre BMI y hba1c"
        },
        "xaxis": {
         "title": {
          "text": "HEALTH STATUS"
         }
        }
       }
      },
      "text/html": [
       "<div>                            <div id=\"6de6f0c9-4977-46d0-8463-a0f877f06c93\" class=\"plotly-graph-div\" style=\"height:525px; width:100%;\"></div>            <script type=\"text/javascript\">                require([\"plotly\"], function(Plotly) {                    window.PLOTLYENV=window.PLOTLYENV || {};                                    if (document.getElementById(\"6de6f0c9-4977-46d0-8463-a0f877f06c93\")) {                    Plotly.newPlot(                        \"6de6f0c9-4977-46d0-8463-a0f877f06c93\",                        [{\"name\":\"BMI\",\"x\":[\"healthy subjects\",\"healthy subjects\",\"healthy subjects\",\"healthy subjects\",\"healthy subjects\",\"healthy subjects\",\"healthy subjects\",\"healthy subjects\",\"healthy subjects\",\"healthy subjects\",\"healthy subjects\",\"healthy subjects\",\"healthy subjects\",\"healthy subjects\",\"healthy subjects\",\"healthy subjects\",\"healthy subjects\",\"healthy subjects\",\"healthy subjects\",\"healthy subjects\",\"healthy subjects\",\"healthy subjects\",\"healthy subjects\",\"healthy subjects\",\"healthy subjects\",\"healthy subjects\",\"healthy subjects\",\"healthy subjects\",\"healthy subjects\",\"healthy subjects\",\"healthy subjects\",\"healthy subjects\",\"healthy subjects\",\"healthy subjects\",\"healthy subjects\",\"healthy subjects\",\"healthy subjects\",\"healthy subjects\",\"healthy subjects\",\"healthy subjects\",\"healthy subjects\",\"healthy subjects\",\"healthy subjects\",\"healthy subjects\",\"healthy subjects\",\"healthy subjects\",\"healthy subjects\",\"healthy subjects\",\"healthy subjects\",\"healthy subjects\",\"healthy subjects\",\"healthy subjects\",\"healthy subjects\",\"healthy subjects\",\"healthy subjects\",\"healthy subjects\",\"healthy subjects\",\"healthy subjects\",\"healthy subjects\",\"healthy subjects\",\"prediabetic\",\"prediabetic\",\"prediabetic\",\"prediabetic\",\"prediabetic\",\"prediabetic\",\"prediabetic\",\"prediabetic\",\"prediabetic\",\"prediabetic\",\"prediabetic\",\"prediabetic\",\"prediabetic\",\"prediabetic\",\"prediabetic\",\"prediabetic\",\"prediabetic\",\"prediabetic\",\"prediabetic\",\"prediabetic\",\"prediabetic\",\"prediabetic\",\"prediabetic\",\"prediabetic\",\"prediabetic\",\"prediabetic\",\"prediabetic\",\"prediabetic\",\"prediabetic\",\"prediabetic\",\"prediabetic\",\"prediabetic\",\"prediabetic\",\"prediabetic\",\"prediabetic\",\"prediabetic\",\"prediabetic\",\"prediabetic\",\"prediabetic\",\"prediabetic\",\"prediabetic\",\"prediabetic\",\"prediabetic\",\"prediabetic\",\"prediabetic\",\"prediabetic\",\"prediabetic\",\"prediabetic\",\"prediabetic\",\"prediabetic\",\"prediabetic\",\"prediabetic\",\"prediabetic\",\"prediabetic\",\"prediabetic\",\"prediabetic\",\"prediabetic\",\"prediabetic\",\"prediabetic\",\"prediabetic\",\"diabetic subjects\",\"diabetic subjects\",\"diabetic subjects\",\"diabetic subjects\",\"diabetic subjects\",\"diabetic subjects\",\"diabetic subjects\",\"diabetic subjects\",\"diabetic subjects\",\"diabetic subjects\",\"diabetic subjects\",\"diabetic subjects\",\"diabetic subjects\",\"diabetic subjects\",\"diabetic subjects\",\"diabetic subjects\",\"diabetic subjects\",\"diabetic subjects\",\"diabetic subjects\",\"diabetic subjects\",\"diabetic subjects\",\"diabetic subjects\",\"diabetic subjects\",\"diabetic subjects\",\"diabetic subjects\",\"diabetic subjects\",\"diabetic subjects\",\"diabetic subjects\",\"diabetic subjects\",\"diabetic subjects\",\"diabetic subjects\",\"diabetic subjects\",\"diabetic subjects\",\"diabetic subjects\",\"diabetic subjects\",\"diabetic subjects\",\"diabetic subjects\",\"diabetic subjects\",\"diabetic subjects\",\"diabetic subjects\",\"diabetic subjects\",\"diabetic subjects\",\"diabetic subjects\",\"diabetic subjects\",\"diabetic subjects\",\"diabetic subjects\",\"diabetic subjects\",\"diabetic subjects\",\"diabetic subjects\",\"diabetic subjects\",\"diabetic subjects\",\"diabetic subjects\",\"diabetic subjects\",\"diabetic subjects\",\"diabetic subjects\",\"diabetic subjects\",\"diabetic subjects\",\"diabetic subjects\",\"diabetic subjects\",\"diabetic subjects\"],\"y\":[27.9,27.9,27.9,27.9,27.9,27.9,20.5,20.5,20.5,20.5,20.5,20.5,21.4,21.4,21.4,21.4,21.4,21.4,27.2,27.2,27.2,27.2,27.2,27.2,26.5,26.5,26.5,26.5,26.5,26.5,20.5,20.5,20.5,20.5,20.5,20.5,24.7,24.7,24.7,24.7,24.7,24.7,19.9,19.9,19.9,19.9,19.9,19.9,20.8,20.8,20.8,20.8,20.8,20.8,27.8,27.8,27.8,27.8,27.8,27.8,34.8,34.8,34.8,34.8,34.8,34.8,28.3,28.3,28.3,28.3,28.3,28.3,32.3,32.3,32.3,32.3,32.3,32.3,38.9,38.9,38.9,38.9,38.9,38.9,35.4,35.4,35.4,35.4,35.4,35.4,33.7,33.7,33.7,33.7,33.7,33.7,30.0,30.0,30.0,30.0,30.0,30.0,40.1,40.1,40.1,40.1,40.1,40.1,29.2,29.2,29.2,29.2,29.2,29.2,41.9,41.9,41.9,41.9,41.9,41.9,38.9,38.9,38.9,38.9,38.9,38.9,32.9,32.9,32.9,32.9,32.9,32.9,32.7,32.7,32.7,32.7,32.7,32.7,27.5,27.5,27.5,27.5,27.5,27.5,30.2,30.2,30.2,30.2,30.2,30.2,26.6,26.6,26.6,26.6,26.6,26.6,34.3,34.3,34.3,34.3,34.3,34.3,27.0,27.0,27.0,27.0,27.0,27.0,27.2,27.2,27.2,27.2,27.2,27.2,38.6,38.6,38.6,38.6,38.6,38.6],\"type\":\"bar\"},{\"name\":\"hba1c\",\"x\":[\"healthy subjects\",\"healthy subjects\",\"healthy subjects\",\"healthy subjects\",\"healthy subjects\",\"healthy subjects\",\"healthy subjects\",\"healthy subjects\",\"healthy subjects\",\"healthy subjects\",\"healthy subjects\",\"healthy subjects\",\"healthy subjects\",\"healthy subjects\",\"healthy subjects\",\"healthy subjects\",\"healthy subjects\",\"healthy subjects\",\"healthy subjects\",\"healthy subjects\",\"healthy subjects\",\"healthy subjects\",\"healthy subjects\",\"healthy subjects\",\"healthy subjects\",\"healthy subjects\",\"healthy subjects\",\"healthy subjects\",\"healthy subjects\",\"healthy subjects\",\"healthy subjects\",\"healthy subjects\",\"healthy subjects\",\"healthy subjects\",\"healthy subjects\",\"healthy subjects\",\"healthy subjects\",\"healthy subjects\",\"healthy subjects\",\"healthy subjects\",\"healthy subjects\",\"healthy subjects\",\"healthy subjects\",\"healthy subjects\",\"healthy subjects\",\"healthy subjects\",\"healthy subjects\",\"healthy subjects\",\"healthy subjects\",\"healthy subjects\",\"healthy subjects\",\"healthy subjects\",\"healthy subjects\",\"healthy subjects\",\"healthy subjects\",\"healthy subjects\",\"healthy subjects\",\"healthy subjects\",\"healthy subjects\",\"healthy subjects\",\"prediabetic\",\"prediabetic\",\"prediabetic\",\"prediabetic\",\"prediabetic\",\"prediabetic\",\"prediabetic\",\"prediabetic\",\"prediabetic\",\"prediabetic\",\"prediabetic\",\"prediabetic\",\"prediabetic\",\"prediabetic\",\"prediabetic\",\"prediabetic\",\"prediabetic\",\"prediabetic\",\"prediabetic\",\"prediabetic\",\"prediabetic\",\"prediabetic\",\"prediabetic\",\"prediabetic\",\"prediabetic\",\"prediabetic\",\"prediabetic\",\"prediabetic\",\"prediabetic\",\"prediabetic\",\"prediabetic\",\"prediabetic\",\"prediabetic\",\"prediabetic\",\"prediabetic\",\"prediabetic\",\"prediabetic\",\"prediabetic\",\"prediabetic\",\"prediabetic\",\"prediabetic\",\"prediabetic\",\"prediabetic\",\"prediabetic\",\"prediabetic\",\"prediabetic\",\"prediabetic\",\"prediabetic\",\"prediabetic\",\"prediabetic\",\"prediabetic\",\"prediabetic\",\"prediabetic\",\"prediabetic\",\"prediabetic\",\"prediabetic\",\"prediabetic\",\"prediabetic\",\"prediabetic\",\"prediabetic\",\"diabetic subjects\",\"diabetic subjects\",\"diabetic subjects\",\"diabetic subjects\",\"diabetic subjects\",\"diabetic subjects\",\"diabetic subjects\",\"diabetic subjects\",\"diabetic subjects\",\"diabetic subjects\",\"diabetic subjects\",\"diabetic subjects\",\"diabetic subjects\",\"diabetic subjects\",\"diabetic subjects\",\"diabetic subjects\",\"diabetic subjects\",\"diabetic subjects\",\"diabetic subjects\",\"diabetic subjects\",\"diabetic subjects\",\"diabetic subjects\",\"diabetic subjects\",\"diabetic subjects\",\"diabetic subjects\",\"diabetic subjects\",\"diabetic subjects\",\"diabetic subjects\",\"diabetic subjects\",\"diabetic subjects\",\"diabetic subjects\",\"diabetic subjects\",\"diabetic subjects\",\"diabetic subjects\",\"diabetic subjects\",\"diabetic subjects\",\"diabetic subjects\",\"diabetic subjects\",\"diabetic subjects\",\"diabetic subjects\",\"diabetic subjects\",\"diabetic subjects\",\"diabetic subjects\",\"diabetic subjects\",\"diabetic subjects\",\"diabetic subjects\",\"diabetic subjects\",\"diabetic subjects\",\"diabetic subjects\",\"diabetic subjects\",\"diabetic subjects\",\"diabetic subjects\",\"diabetic subjects\",\"diabetic subjects\",\"diabetic subjects\",\"diabetic subjects\",\"diabetic subjects\",\"diabetic subjects\",\"diabetic subjects\",\"diabetic subjects\"],\"y\":[5.05,5.05,5.05,5.05,5.05,5.05,5.58,5.58,5.58,5.58,5.58,5.58,5.4,5.4,5.4,5.4,5.4,5.4,5.08,5.08,5.08,5.08,5.08,5.08,5.7,5.7,5.7,5.7,5.7,5.7,5.4,5.4,5.4,5.4,5.4,5.4,5.57,5.57,5.57,5.57,5.57,5.57,5.85,5.85,5.85,5.85,5.85,5.85,5.46,5.46,5.46,5.46,5.46,5.46,4.87,4.87,4.87,4.87,4.87,4.87,5.86,5.86,5.86,5.86,5.86,5.86,6.29,6.29,6.29,6.29,6.29,6.29,5.94,5.94,5.94,5.94,5.94,5.94,6.0,6.0,6.0,6.0,6.0,6.0,5.94,5.94,5.94,5.94,5.94,5.94,6.02,6.02,6.02,6.02,6.02,6.02,5.45,5.45,5.45,5.45,5.45,5.45,6.05,6.05,6.05,6.05,6.05,6.05,5.9,5.9,5.9,5.9,5.9,5.9,5.1,5.1,5.1,5.1,5.1,5.1,7.84,7.84,7.84,7.84,7.84,7.84,7.83,7.83,7.83,7.83,7.83,7.83,6.7,6.7,6.7,6.7,6.7,6.7,6.7,6.7,6.7,6.7,6.7,6.7,7.72,7.72,7.72,7.72,7.72,7.72,7.53,7.53,7.53,7.53,7.53,7.53,8.0,8.0,8.0,8.0,8.0,8.0,6.99,6.99,6.99,6.99,6.99,6.99,6.94,6.94,6.94,6.94,6.94,6.94,9.1,9.1,9.1,9.1,9.1,9.1],\"type\":\"bar\"}],                        {\"barmode\":\"group\",\"template\":{\"data\":{\"barpolar\":[{\"marker\":{\"line\":{\"color\":\"#E5ECF6\",\"width\":0.5},\"pattern\":{\"fillmode\":\"overlay\",\"size\":10,\"solidity\":0.2}},\"type\":\"barpolar\"}],\"bar\":[{\"error_x\":{\"color\":\"#2a3f5f\"},\"error_y\":{\"color\":\"#2a3f5f\"},\"marker\":{\"line\":{\"color\":\"#E5ECF6\",\"width\":0.5},\"pattern\":{\"fillmode\":\"overlay\",\"size\":10,\"solidity\":0.2}},\"type\":\"bar\"}],\"carpet\":[{\"aaxis\":{\"endlinecolor\":\"#2a3f5f\",\"gridcolor\":\"white\",\"linecolor\":\"white\",\"minorgridcolor\":\"white\",\"startlinecolor\":\"#2a3f5f\"},\"baxis\":{\"endlinecolor\":\"#2a3f5f\",\"gridcolor\":\"white\",\"linecolor\":\"white\",\"minorgridcolor\":\"white\",\"startlinecolor\":\"#2a3f5f\"},\"type\":\"carpet\"}],\"choropleth\":[{\"colorbar\":{\"outlinewidth\":0,\"ticks\":\"\"},\"type\":\"choropleth\"}],\"contourcarpet\":[{\"colorbar\":{\"outlinewidth\":0,\"ticks\":\"\"},\"type\":\"contourcarpet\"}],\"contour\":[{\"colorbar\":{\"outlinewidth\":0,\"ticks\":\"\"},\"colorscale\":[[0.0,\"#0d0887\"],[0.1111111111111111,\"#46039f\"],[0.2222222222222222,\"#7201a8\"],[0.3333333333333333,\"#9c179e\"],[0.4444444444444444,\"#bd3786\"],[0.5555555555555556,\"#d8576b\"],[0.6666666666666666,\"#ed7953\"],[0.7777777777777778,\"#fb9f3a\"],[0.8888888888888888,\"#fdca26\"],[1.0,\"#f0f921\"]],\"type\":\"contour\"}],\"heatmapgl\":[{\"colorbar\":{\"outlinewidth\":0,\"ticks\":\"\"},\"colorscale\":[[0.0,\"#0d0887\"],[0.1111111111111111,\"#46039f\"],[0.2222222222222222,\"#7201a8\"],[0.3333333333333333,\"#9c179e\"],[0.4444444444444444,\"#bd3786\"],[0.5555555555555556,\"#d8576b\"],[0.6666666666666666,\"#ed7953\"],[0.7777777777777778,\"#fb9f3a\"],[0.8888888888888888,\"#fdca26\"],[1.0,\"#f0f921\"]],\"type\":\"heatmapgl\"}],\"heatmap\":[{\"colorbar\":{\"outlinewidth\":0,\"ticks\":\"\"},\"colorscale\":[[0.0,\"#0d0887\"],[0.1111111111111111,\"#46039f\"],[0.2222222222222222,\"#7201a8\"],[0.3333333333333333,\"#9c179e\"],[0.4444444444444444,\"#bd3786\"],[0.5555555555555556,\"#d8576b\"],[0.6666666666666666,\"#ed7953\"],[0.7777777777777778,\"#fb9f3a\"],[0.8888888888888888,\"#fdca26\"],[1.0,\"#f0f921\"]],\"type\":\"heatmap\"}],\"histogram2dcontour\":[{\"colorbar\":{\"outlinewidth\":0,\"ticks\":\"\"},\"colorscale\":[[0.0,\"#0d0887\"],[0.1111111111111111,\"#46039f\"],[0.2222222222222222,\"#7201a8\"],[0.3333333333333333,\"#9c179e\"],[0.4444444444444444,\"#bd3786\"],[0.5555555555555556,\"#d8576b\"],[0.6666666666666666,\"#ed7953\"],[0.7777777777777778,\"#fb9f3a\"],[0.8888888888888888,\"#fdca26\"],[1.0,\"#f0f921\"]],\"type\":\"histogram2dcontour\"}],\"histogram2d\":[{\"colorbar\":{\"outlinewidth\":0,\"ticks\":\"\"},\"colorscale\":[[0.0,\"#0d0887\"],[0.1111111111111111,\"#46039f\"],[0.2222222222222222,\"#7201a8\"],[0.3333333333333333,\"#9c179e\"],[0.4444444444444444,\"#bd3786\"],[0.5555555555555556,\"#d8576b\"],[0.6666666666666666,\"#ed7953\"],[0.7777777777777778,\"#fb9f3a\"],[0.8888888888888888,\"#fdca26\"],[1.0,\"#f0f921\"]],\"type\":\"histogram2d\"}],\"histogram\":[{\"marker\":{\"pattern\":{\"fillmode\":\"overlay\",\"size\":10,\"solidity\":0.2}},\"type\":\"histogram\"}],\"mesh3d\":[{\"colorbar\":{\"outlinewidth\":0,\"ticks\":\"\"},\"type\":\"mesh3d\"}],\"parcoords\":[{\"line\":{\"colorbar\":{\"outlinewidth\":0,\"ticks\":\"\"}},\"type\":\"parcoords\"}],\"pie\":[{\"automargin\":true,\"type\":\"pie\"}],\"scatter3d\":[{\"line\":{\"colorbar\":{\"outlinewidth\":0,\"ticks\":\"\"}},\"marker\":{\"colorbar\":{\"outlinewidth\":0,\"ticks\":\"\"}},\"type\":\"scatter3d\"}],\"scattercarpet\":[{\"marker\":{\"colorbar\":{\"outlinewidth\":0,\"ticks\":\"\"}},\"type\":\"scattercarpet\"}],\"scattergeo\":[{\"marker\":{\"colorbar\":{\"outlinewidth\":0,\"ticks\":\"\"}},\"type\":\"scattergeo\"}],\"scattergl\":[{\"marker\":{\"colorbar\":{\"outlinewidth\":0,\"ticks\":\"\"}},\"type\":\"scattergl\"}],\"scattermapbox\":[{\"marker\":{\"colorbar\":{\"outlinewidth\":0,\"ticks\":\"\"}},\"type\":\"scattermapbox\"}],\"scatterpolargl\":[{\"marker\":{\"colorbar\":{\"outlinewidth\":0,\"ticks\":\"\"}},\"type\":\"scatterpolargl\"}],\"scatterpolar\":[{\"marker\":{\"colorbar\":{\"outlinewidth\":0,\"ticks\":\"\"}},\"type\":\"scatterpolar\"}],\"scatter\":[{\"fillpattern\":{\"fillmode\":\"overlay\",\"size\":10,\"solidity\":0.2},\"type\":\"scatter\"}],\"scatterternary\":[{\"marker\":{\"colorbar\":{\"outlinewidth\":0,\"ticks\":\"\"}},\"type\":\"scatterternary\"}],\"surface\":[{\"colorbar\":{\"outlinewidth\":0,\"ticks\":\"\"},\"colorscale\":[[0.0,\"#0d0887\"],[0.1111111111111111,\"#46039f\"],[0.2222222222222222,\"#7201a8\"],[0.3333333333333333,\"#9c179e\"],[0.4444444444444444,\"#bd3786\"],[0.5555555555555556,\"#d8576b\"],[0.6666666666666666,\"#ed7953\"],[0.7777777777777778,\"#fb9f3a\"],[0.8888888888888888,\"#fdca26\"],[1.0,\"#f0f921\"]],\"type\":\"surface\"}],\"table\":[{\"cells\":{\"fill\":{\"color\":\"#EBF0F8\"},\"line\":{\"color\":\"white\"}},\"header\":{\"fill\":{\"color\":\"#C8D4E3\"},\"line\":{\"color\":\"white\"}},\"type\":\"table\"}]},\"layout\":{\"annotationdefaults\":{\"arrowcolor\":\"#2a3f5f\",\"arrowhead\":0,\"arrowwidth\":1},\"autotypenumbers\":\"strict\",\"coloraxis\":{\"colorbar\":{\"outlinewidth\":0,\"ticks\":\"\"}},\"colorscale\":{\"diverging\":[[0,\"#8e0152\"],[0.1,\"#c51b7d\"],[0.2,\"#de77ae\"],[0.3,\"#f1b6da\"],[0.4,\"#fde0ef\"],[0.5,\"#f7f7f7\"],[0.6,\"#e6f5d0\"],[0.7,\"#b8e186\"],[0.8,\"#7fbc41\"],[0.9,\"#4d9221\"],[1,\"#276419\"]],\"sequential\":[[0.0,\"#0d0887\"],[0.1111111111111111,\"#46039f\"],[0.2222222222222222,\"#7201a8\"],[0.3333333333333333,\"#9c179e\"],[0.4444444444444444,\"#bd3786\"],[0.5555555555555556,\"#d8576b\"],[0.6666666666666666,\"#ed7953\"],[0.7777777777777778,\"#fb9f3a\"],[0.8888888888888888,\"#fdca26\"],[1.0,\"#f0f921\"]],\"sequentialminus\":[[0.0,\"#0d0887\"],[0.1111111111111111,\"#46039f\"],[0.2222222222222222,\"#7201a8\"],[0.3333333333333333,\"#9c179e\"],[0.4444444444444444,\"#bd3786\"],[0.5555555555555556,\"#d8576b\"],[0.6666666666666666,\"#ed7953\"],[0.7777777777777778,\"#fb9f3a\"],[0.8888888888888888,\"#fdca26\"],[1.0,\"#f0f921\"]]},\"colorway\":[\"#636efa\",\"#EF553B\",\"#00cc96\",\"#ab63fa\",\"#FFA15A\",\"#19d3f3\",\"#FF6692\",\"#B6E880\",\"#FF97FF\",\"#FECB52\"],\"font\":{\"color\":\"#2a3f5f\"},\"geo\":{\"bgcolor\":\"white\",\"lakecolor\":\"white\",\"landcolor\":\"#E5ECF6\",\"showlakes\":true,\"showland\":true,\"subunitcolor\":\"white\"},\"hoverlabel\":{\"align\":\"left\"},\"hovermode\":\"closest\",\"mapbox\":{\"style\":\"light\"},\"paper_bgcolor\":\"white\",\"plot_bgcolor\":\"#E5ECF6\",\"polar\":{\"angularaxis\":{\"gridcolor\":\"white\",\"linecolor\":\"white\",\"ticks\":\"\"},\"bgcolor\":\"#E5ECF6\",\"radialaxis\":{\"gridcolor\":\"white\",\"linecolor\":\"white\",\"ticks\":\"\"}},\"scene\":{\"xaxis\":{\"backgroundcolor\":\"#E5ECF6\",\"gridcolor\":\"white\",\"gridwidth\":2,\"linecolor\":\"white\",\"showbackground\":true,\"ticks\":\"\",\"zerolinecolor\":\"white\"},\"yaxis\":{\"backgroundcolor\":\"#E5ECF6\",\"gridcolor\":\"white\",\"gridwidth\":2,\"linecolor\":\"white\",\"showbackground\":true,\"ticks\":\"\",\"zerolinecolor\":\"white\"},\"zaxis\":{\"backgroundcolor\":\"#E5ECF6\",\"gridcolor\":\"white\",\"gridwidth\":2,\"linecolor\":\"white\",\"showbackground\":true,\"ticks\":\"\",\"zerolinecolor\":\"white\"}},\"shapedefaults\":{\"line\":{\"color\":\"#2a3f5f\"}},\"ternary\":{\"aaxis\":{\"gridcolor\":\"white\",\"linecolor\":\"white\",\"ticks\":\"\"},\"baxis\":{\"gridcolor\":\"white\",\"linecolor\":\"white\",\"ticks\":\"\"},\"bgcolor\":\"#E5ECF6\",\"caxis\":{\"gridcolor\":\"white\",\"linecolor\":\"white\",\"ticks\":\"\"}},\"title\":{\"x\":0.05},\"xaxis\":{\"automargin\":true,\"gridcolor\":\"white\",\"linecolor\":\"white\",\"ticks\":\"\",\"title\":{\"standoff\":15},\"zerolinecolor\":\"white\",\"zerolinewidth\":2},\"yaxis\":{\"automargin\":true,\"gridcolor\":\"white\",\"linecolor\":\"white\",\"ticks\":\"\",\"title\":{\"standoff\":15},\"zerolinecolor\":\"white\",\"zerolinewidth\":2}}},\"title\":{\"text\":\"Relacion entre BMI y hba1c\"},\"xaxis\":{\"title\":{\"text\":\"HEALTH STATUS\"}}},                        {\"responsive\": true}                    ).then(function(){\n",
       "                            \n",
       "var gd = document.getElementById('6de6f0c9-4977-46d0-8463-a0f877f06c93');\n",
       "var x = new MutationObserver(function (mutations, observer) {{\n",
       "        var display = window.getComputedStyle(gd).display;\n",
       "        if (!display || display === 'none') {{\n",
       "            console.log([gd, 'removed!']);\n",
       "            Plotly.purge(gd);\n",
       "            observer.disconnect();\n",
       "        }}\n",
       "}});\n",
       "\n",
       "// Listen for the removal of the full notebook cells\n",
       "var notebookContainer = gd.closest('#notebook-container');\n",
       "if (notebookContainer) {{\n",
       "    x.observe(notebookContainer, {childList: true});\n",
       "}}\n",
       "\n",
       "// Listen for the clearing of the current output cell\n",
       "var outputEl = gd.closest('.output');\n",
       "if (outputEl) {{\n",
       "    x.observe(outputEl, {childList: true});\n",
       "}}\n",
       "\n",
       "                        })                };                });            </script>        </div>"
      ]
     },
     "metadata": {},
     "output_type": "display_data"
    }
   ],
   "source": [
    "x = sample_metadata.HEALTH_STATUS\n",
    "\n",
    "trace1 = {\n",
    "    'x': x,\n",
    "    'y': sample_metadata['BMI'],\n",
    "    'name': 'BMI',\n",
    "    'type': 'bar'\n",
    "\n",
    "}\n",
    "\n",
    "trace2 = {\n",
    "    'x': x,\n",
    "    'y': sample_metadata['hba1c'],\n",
    "    'name': 'hba1c',\n",
    "    'type': 'bar'\n",
    "\n",
    "}\n",
    "\n",
    "data = [trace1, trace2]\n",
    "\n",
    "layout  = {\n",
    "    'xaxis': {'title': 'HEALTH STATUS'},\n",
    "    'barmode': 'group',  #agrupa tambien hay la opcion de apilar\n",
    "    'title': 'Relacion entre BMI y hba1c'\n",
    "\n",
    "}\n",
    "\n",
    "\n",
    "fig = go.Figure(data = data, layout = layout)\n",
    "iplot(fig)"
   ]
  },
  {
   "cell_type": "code",
   "execution_count": 124,
   "metadata": {},
   "outputs": [
    {
     "data": {
      "image/png": "[encoded data removed]",
      "text/plain": [
       "<Figure size 864x576 with 1 Axes>"
      ]
     },
     "metadata": {
      "needs_background": "light"
     },
     "output_type": "display_data"
    }
   ],
   "source": [
    "#Evaluar la relación del BMI y hba1c de cada grupo mediante un scatter\n",
    "plt.figure(figsize=(12,8))\n",
    "sns.scatterplot(x = sample_metadata[\"BMI\"],\n",
    "y = sample_metadata[\"hba1c\"],\n",
    "s= 200,   #tamaño de los circulos\n",
    "hue = sample_metadata[\"sex\"]);"
   ]
  },
  {
   "cell_type": "code",
   "execution_count": 126,
   "metadata": {},
   "outputs": [
    {
     "data": {
      "application/vnd.plotly.v1+json": {
       "config": {
        "linkText": "Export to plot.ly",
        "plotlyServerURL": "https://plot.ly",
        "showLink": false
       },
       "data": [
        {
         "name": "BMI",
         "type": "bar",
         "x": [
          "f",
          "f",
          "f",
          "f",
          "f",
          "f",
          "m",
          "m",
          "m",
          "m",
          "m",
          "m",
          "f",
          "f",
          "f",
          "f",
          "f",
          "f",
          "f",
          "f",
          "f",
          "f",
          "f",
          "f",
          "m",
          "m",
          "m",
          "m",
          "m",
          "m",
          "f",
          "f",
          "f",
          "f",
          "f",
          "f",
          "m",
          "m",
          "m",
          "m",
          "m",
          "m",
          "f",
          "f",
          "f",
          "f",
          "f",
          "f",
          "f",
          "f",
          "f",
          "f",
          "f",
          "f",
          "f",
          "f",
          "f",
          "f",
          "f",
          "f",
          "m",
          "m",
          "m",
          "m",
          "m",
          "m",
          "f",
          "f",
          "f",
          "f",
          "f",
          "f",
          "m",
          "m",
          "m",
          "m",
          "m",
          "m",
          "m",
          "m",
          "m",
          "m",
          "m",
          "m",
          "m",
          "m",
          "m",
          "m",
          "m",
          "m",
          "f",
          "f",
          "f",
          "f",
          "f",
          "f",
          "m",
          "m",
          "m",
          "m",
          "m",
          "m",
          "f",
          "f",
          "f",
          "f",
          "f",
          "f",
          "f",
          "f",
          "f",
          "f",
          "f",
          "f",
          "m",
          "m",
          "m",
          "m",
          "m",
          "m",
          "m",
          "m",
          "m",
          "m",
          "m",
          "m",
          "m",
          "m",
          "m",
          "m",
          "m",
          "m",
          "m",
          "m",
          "m",
          "m",
          "m",
          "m",
          "m",
          "m",
          "m",
          "m",
          "m",
          "m",
          "m",
          "m",
          "m",
          "m",
          "m",
          "m",
          "m",
          "m",
          "m",
          "m",
          "m",
          "m",
          "m",
          "m",
          "m",
          "m",
          "m",
          "m",
          "m",
          "m",
          "m",
          "m",
          "m",
          "m",
          "m",
          "m",
          "m",
          "m",
          "m",
          "m",
          "m",
          "m",
          "m",
          "m",
          "m",
          "m"
         ],
         "y": [
          27.9,
          27.9,
          27.9,
          27.9,
          27.9,
          27.9,
          20.5,
          20.5,
          20.5,
          20.5,
          20.5,
          20.5,
          21.4,
          21.4,
          21.4,
          21.4,
          21.4,
          21.4,
          27.2,
          27.2,
          27.2,
          27.2,
          27.2,
          27.2,
          26.5,
          26.5,
          26.5,
          26.5,
          26.5,
          26.5,
          20.5,
          20.5,
          20.5,
          20.5,
          20.5,
          20.5,
          24.7,
          24.7,
          24.7,
          24.7,
          24.7,
          24.7,
          19.9,
          19.9,
          19.9,
          19.9,
          19.9,
          19.9,
          20.8,
          20.8,
          20.8,
          20.8,
          20.8,
          20.8,
          27.8,
          27.8,
          27.8,
          27.8,
          27.8,
          27.8,
          34.8,
          34.8,
          34.8,
          34.8,
          34.8,
          34.8,
          28.3,
          28.3,
          28.3,
          28.3,
          28.3,
          28.3,
          32.3,
          32.3,
          32.3,
          32.3,
          32.3,
          32.3,
          38.9,
          38.9,
          38.9,
          38.9,
          38.9,
          38.9,
          35.4,
          35.4,
          35.4,
          35.4,
          35.4,
          35.4,
          33.7,
          33.7,
          33.7,
          33.7,
          33.7,
          33.7,
          30,
          30,
          30,
          30,
          30,
          30,
          40.1,
          40.1,
          40.1,
          40.1,
          40.1,
          40.1,
          29.2,
          29.2,
          29.2,
          29.2,
          29.2,
          29.2,
          41.9,
          41.9,
          41.9,
          41.9,
          41.9,
          41.9,
          38.9,
          38.9,
          38.9,
          38.9,
          38.9,
          38.9,
          32.9,
          32.9,
          32.9,
          32.9,
          32.9,
          32.9,
          32.7,
          32.7,
          32.7,
          32.7,
          32.7,
          32.7,
          27.5,
          27.5,
          27.5,
          27.5,
          27.5,
          27.5,
          30.2,
          30.2,
          30.2,
          30.2,
          30.2,
          30.2,
          26.6,
          26.6,
          26.6,
          26.6,
          26.6,
          26.6,
          34.3,
          34.3,
          34.3,
          34.3,
          34.3,
          34.3,
          27,
          27,
          27,
          27,
          27,
          27,
          27.2,
          27.2,
          27.2,
          27.2,
          27.2,
          27.2,
          38.6,
          38.6,
          38.6,
          38.6,
          38.6,
          38.6
         ]
        },
        {
         "name": "hba1c",
         "type": "bar",
         "x": [
          "f",
          "f",
          "f",
          "f",
          "f",
          "f",
          "m",
          "m",
          "m",
          "m",
          "m",
          "m",
          "f",
          "f",
          "f",
          "f",
          "f",
          "f",
          "f",
          "f",
          "f",
          "f",
          "f",
          "f",
          "m",
          "m",
          "m",
          "m",
          "m",
          "m",
          "f",
          "f",
          "f",
          "f",
          "f",
          "f",
          "m",
          "m",
          "m",
          "m",
          "m",
          "m",
          "f",
          "f",
          "f",
          "f",
          "f",
          "f",
          "f",
          "f",
          "f",
          "f",
          "f",
          "f",
          "f",
          "f",
          "f",
          "f",
          "f",
          "f",
          "m",
          "m",
          "m",
          "m",
          "m",
          "m",
          "f",
          "f",
          "f",
          "f",
          "f",
          "f",
          "m",
          "m",
          "m",
          "m",
          "m",
          "m",
          "m",
          "m",
          "m",
          "m",
          "m",
          "m",
          "m",
          "m",
          "m",
          "m",
          "m",
          "m",
          "f",
          "f",
          "f",
          "f",
          "f",
          "f",
          "m",
          "m",
          "m",
          "m",
          "m",
          "m",
          "f",
          "f",
          "f",
          "f",
          "f",
          "f",
          "f",
          "f",
          "f",
          "f",
          "f",
          "f",
          "m",
          "m",
          "m",
          "m",
          "m",
          "m",
          "m",
          "m",
          "m",
          "m",
          "m",
          "m",
          "m",
          "m",
          "m",
          "m",
          "m",
          "m",
          "m",
          "m",
          "m",
          "m",
          "m",
          "m",
          "m",
          "m",
          "m",
          "m",
          "m",
          "m",
          "m",
          "m",
          "m",
          "m",
          "m",
          "m",
          "m",
          "m",
          "m",
          "m",
          "m",
          "m",
          "m",
          "m",
          "m",
          "m",
          "m",
          "m",
          "m",
          "m",
          "m",
          "m",
          "m",
          "m",
          "m",
          "m",
          "m",
          "m",
          "m",
          "m",
          "m",
          "m",
          "m",
          "m",
          "m",
          "m"
         ],
         "y": [
          5.05,
          5.05,
          5.05,
          5.05,
          5.05,
          5.05,
          5.58,
          5.58,
          5.58,
          5.58,
          5.58,
          5.58,
          5.4,
          5.4,
          5.4,
          5.4,
          5.4,
          5.4,
          5.08,
          5.08,
          5.08,
          5.08,
          5.08,
          5.08,
          5.7,
          5.7,
          5.7,
          5.7,
          5.7,
          5.7,
          5.4,
          5.4,
          5.4,
          5.4,
          5.4,
          5.4,
          5.57,
          5.57,
          5.57,
          5.57,
          5.57,
          5.57,
          5.85,
          5.85,
          5.85,
          5.85,
          5.85,
          5.85,
          5.46,
          5.46,
          5.46,
          5.46,
          5.46,
          5.46,
          4.87,
          4.87,
          4.87,
          4.87,
          4.87,
          4.87,
          5.86,
          5.86,
          5.86,
          5.86,
          5.86,
          5.86,
          6.29,
          6.29,
          6.29,
          6.29,
          6.29,
          6.29,
          5.94,
          5.94,
          5.94,
          5.94,
          5.94,
          5.94,
          6,
          6,
          6,
          6,
          6,
          6,
          5.94,
          5.94,
          5.94,
          5.94,
          5.94,
          5.94,
          6.02,
          6.02,
          6.02,
          6.02,
          6.02,
          6.02,
          5.45,
          5.45,
          5.45,
          5.45,
          5.45,
          5.45,
          6.05,
          6.05,
          6.05,
          6.05,
          6.05,
          6.05,
          5.9,
          5.9,
          5.9,
          5.9,
          5.9,
          5.9,
          5.1,
          5.1,
          5.1,
          5.1,
          5.1,
          5.1,
          7.84,
          7.84,
          7.84,
          7.84,
          7.84,
          7.84,
          7.83,
          7.83,
          7.83,
          7.83,
          7.83,
          7.83,
          6.7,
          6.7,
          6.7,
          6.7,
          6.7,
          6.7,
          6.7,
          6.7,
          6.7,
          6.7,
          6.7,
          6.7,
          7.72,
          7.72,
          7.72,
          7.72,
          7.72,
          7.72,
          7.53,
          7.53,
          7.53,
          7.53,
          7.53,
          7.53,
          8,
          8,
          8,
          8,
          8,
          8,
          6.99,
          6.99,
          6.99,
          6.99,
          6.99,
          6.99,
          6.94,
          6.94,
          6.94,
          6.94,
          6.94,
          6.94,
          9.1,
          9.1,
          9.1,
          9.1,
          9.1,
          9.1
         ]
        }
       ],
       "layout": {
        "barmode": "group",
        "template": {
         "data": {
          "bar": [
           {
            "error_x": {
             "color": "#2a3f5f"
            },
            "error_y": {
             "color": "#2a3f5f"
            },
            "marker": {
             "line": {
              "color": "#E5ECF6",
              "width": 0.5
             },
             "pattern": {
              "fillmode": "overlay",
              "size": 10,
              "solidity": 0.2
             }
            },
            "type": "bar"
           }
          ],
          "barpolar": [
           {
            "marker": {
             "line": {
              "color": "#E5ECF6",
              "width": 0.5
             },
             "pattern": {
              "fillmode": "overlay",
              "size": 10,
              "solidity": 0.2
             }
            },
            "type": "barpolar"
           }
          ],
          "carpet": [
           {
            "aaxis": {
             "endlinecolor": "#2a3f5f",
             "gridcolor": "white",
             "linecolor": "white",
             "minorgridcolor": "white",
             "startlinecolor": "#2a3f5f"
            },
            "baxis": {
             "endlinecolor": "#2a3f5f",
             "gridcolor": "white",
             "linecolor": "white",
             "minorgridcolor": "white",
             "startlinecolor": "#2a3f5f"
            },
            "type": "carpet"
           }
          ],
          "choropleth": [
           {
            "colorbar": {
             "outlinewidth": 0,
             "ticks": ""
            },
            "type": "choropleth"
           }
          ],
          "contour": [
           {
            "colorbar": {
             "outlinewidth": 0,
             "ticks": ""
            },
            "colorscale": [
             [
              0,
              "#0d0887"
             ],
             [
              0.1111111111111111,
              "#46039f"
             ],
             [
              0.2222222222222222,
              "#7201a8"
             ],
             [
              0.3333333333333333,
              "#9c179e"
             ],
             [
              0.4444444444444444,
              "#bd3786"
             ],
             [
              0.5555555555555556,
              "#d8576b"
             ],
             [
              0.6666666666666666,
              "#ed7953"
             ],
             [
              0.7777777777777778,
              "#fb9f3a"
             ],
             [
              0.8888888888888888,
              "#fdca26"
             ],
             [
              1,
              "#f0f921"
             ]
            ],
            "type": "contour"
           }
          ],
          "contourcarpet": [
           {
            "colorbar": {
             "outlinewidth": 0,
             "ticks": ""
            },
            "type": "contourcarpet"
           }
          ],
          "heatmap": [
           {
            "colorbar": {
             "outlinewidth": 0,
             "ticks": ""
            },
            "colorscale": [
             [
              0,
              "#0d0887"
             ],
             [
              0.1111111111111111,
              "#46039f"
             ],
             [
              0.2222222222222222,
              "#7201a8"
             ],
             [
              0.3333333333333333,
              "#9c179e"
             ],
             [
              0.4444444444444444,
              "#bd3786"
             ],
             [
              0.5555555555555556,
              "#d8576b"
             ],
             [
              0.6666666666666666,
              "#ed7953"
             ],
             [
              0.7777777777777778,
              "#fb9f3a"
             ],
             [
              0.8888888888888888,
              "#fdca26"
             ],
             [
              1,
              "#f0f921"
             ]
            ],
            "type": "heatmap"
           }
          ],
          "heatmapgl": [
           {
            "colorbar": {
             "outlinewidth": 0,
             "ticks": ""
            },
            "colorscale": [
             [
              0,
              "#0d0887"
             ],
             [
              0.1111111111111111,
              "#46039f"
             ],
             [
              0.2222222222222222,
              "#7201a8"
             ],
             [
              0.3333333333333333,
              "#9c179e"
             ],
             [
              0.4444444444444444,
              "#bd3786"
             ],
             [
              0.5555555555555556,
              "#d8576b"
             ],
             [
              0.6666666666666666,
              "#ed7953"
             ],
             [
              0.7777777777777778,
              "#fb9f3a"
             ],
             [
              0.8888888888888888,
              "#fdca26"
             ],
             [
              1,
              "#f0f921"
             ]
            ],
            "type": "heatmapgl"
           }
          ],
          "histogram": [
           {
            "marker": {
             "pattern": {
              "fillmode": "overlay",
              "size": 10,
              "solidity": 0.2
             }
            },
            "type": "histogram"
           }
          ],
          "histogram2d": [
           {
            "colorbar": {
             "outlinewidth": 0,
             "ticks": ""
            },
            "colorscale": [
             [
              0,
              "#0d0887"
             ],
             [
              0.1111111111111111,
              "#46039f"
             ],
             [
              0.2222222222222222,
              "#7201a8"
             ],
             [
              0.3333333333333333,
              "#9c179e"
             ],
             [
              0.4444444444444444,
              "#bd3786"
             ],
             [
              0.5555555555555556,
              "#d8576b"
             ],
             [
              0.6666666666666666,
              "#ed7953"
             ],
             [
              0.7777777777777778,
              "#fb9f3a"
             ],
             [
              0.8888888888888888,
              "#fdca26"
             ],
             [
              1,
              "#f0f921"
             ]
            ],
            "type": "histogram2d"
           }
          ],
          "histogram2dcontour": [
           {
            "colorbar": {
             "outlinewidth": 0,
             "ticks": ""
            },
            "colorscale": [
             [
              0,
              "#0d0887"
             ],
             [
              0.1111111111111111,
              "#46039f"
             ],
             [
              0.2222222222222222,
              "#7201a8"
             ],
             [
              0.3333333333333333,
              "#9c179e"
             ],
             [
              0.4444444444444444,
              "#bd3786"
             ],
             [
              0.5555555555555556,
              "#d8576b"
             ],
             [
              0.6666666666666666,
              "#ed7953"
             ],
             [
              0.7777777777777778,
              "#fb9f3a"
             ],
             [
              0.8888888888888888,
              "#fdca26"
             ],
             [
              1,
              "#f0f921"
             ]
            ],
            "type": "histogram2dcontour"
           }
          ],
          "mesh3d": [
           {
            "colorbar": {
             "outlinewidth": 0,
             "ticks": ""
            },
            "type": "mesh3d"
           }
          ],
          "parcoords": [
           {
            "line": {
             "colorbar": {
              "outlinewidth": 0,
              "ticks": ""
             }
            },
            "type": "parcoords"
           }
          ],
          "pie": [
           {
            "automargin": true,
            "type": "pie"
           }
          ],
          "scatter": [
           {
            "fillpattern": {
             "fillmode": "overlay",
             "size": 10,
             "solidity": 0.2
            },
            "type": "scatter"
           }
          ],
          "scatter3d": [
           {
            "line": {
             "colorbar": {
              "outlinewidth": 0,
              "ticks": ""
             }
            },
            "marker": {
             "colorbar": {
              "outlinewidth": 0,
              "ticks": ""
             }
            },
            "type": "scatter3d"
           }
          ],
          "scattercarpet": [
           {
            "marker": {
             "colorbar": {
              "outlinewidth": 0,
              "ticks": ""
             }
            },
            "type": "scattercarpet"
           }
          ],
          "scattergeo": [
           {
            "marker": {
             "colorbar": {
              "outlinewidth": 0,
              "ticks": ""
             }
            },
            "type": "scattergeo"
           }
          ],
          "scattergl": [
           {
            "marker": {
             "colorbar": {
              "outlinewidth": 0,
              "ticks": ""
             }
            },
            "type": "scattergl"
           }
          ],
          "scattermapbox": [
           {
            "marker": {
             "colorbar": {
              "outlinewidth": 0,
              "ticks": ""
             }
            },
            "type": "scattermapbox"
           }
          ],
          "scatterpolar": [
           {
            "marker": {
             "colorbar": {
              "outlinewidth": 0,
              "ticks": ""
             }
            },
            "type": "scatterpolar"
           }
          ],
          "scatterpolargl": [
           {
            "marker": {
             "colorbar": {
              "outlinewidth": 0,
              "ticks": ""
             }
            },
            "type": "scatterpolargl"
           }
          ],
          "scatterternary": [
           {
            "marker": {
             "colorbar": {
              "outlinewidth": 0,
              "ticks": ""
             }
            },
            "type": "scatterternary"
           }
          ],
          "surface": [
           {
            "colorbar": {
             "outlinewidth": 0,
             "ticks": ""
            },
            "colorscale": [
             [
              0,
              "#0d0887"
             ],
             [
              0.1111111111111111,
              "#46039f"
             ],
             [
              0.2222222222222222,
              "#7201a8"
             ],
             [
              0.3333333333333333,
              "#9c179e"
             ],
             [
              0.4444444444444444,
              "#bd3786"
             ],
             [
              0.5555555555555556,
              "#d8576b"
             ],
             [
              0.6666666666666666,
              "#ed7953"
             ],
             [
              0.7777777777777778,
              "#fb9f3a"
             ],
             [
              0.8888888888888888,
              "#fdca26"
             ],
             [
              1,
              "#f0f921"
             ]
            ],
            "type": "surface"
           }
          ],
          "table": [
           {
            "cells": {
             "fill": {
              "color": "#EBF0F8"
             },
             "line": {
              "color": "white"
             }
            },
            "header": {
             "fill": {
              "color": "#C8D4E3"
             },
             "line": {
              "color": "white"
             }
            },
            "type": "table"
           }
          ]
         },
         "layout": {
          "annotationdefaults": {
           "arrowcolor": "#2a3f5f",
           "arrowhead": 0,
           "arrowwidth": 1
          },
          "autotypenumbers": "strict",
          "coloraxis": {
           "colorbar": {
            "outlinewidth": 0,
            "ticks": ""
           }
          },
          "colorscale": {
           "diverging": [
            [
             0,
             "#8e0152"
            ],
            [
             0.1,
             "#c51b7d"
            ],
            [
             0.2,
             "#de77ae"
            ],
            [
             0.3,
             "#f1b6da"
            ],
            [
             0.4,
             "#fde0ef"
            ],
            [
             0.5,
             "#f7f7f7"
            ],
            [
             0.6,
             "#e6f5d0"
            ],
            [
             0.7,
             "#b8e186"
            ],
            [
             0.8,
             "#7fbc41"
            ],
            [
             0.9,
             "#4d9221"
            ],
            [
             1,
             "#276419"
            ]
           ],
           "sequential": [
            [
             0,
             "#0d0887"
            ],
            [
             0.1111111111111111,
             "#46039f"
            ],
            [
             0.2222222222222222,
             "#7201a8"
            ],
            [
             0.3333333333333333,
             "#9c179e"
            ],
            [
             0.4444444444444444,
             "#bd3786"
            ],
            [
             0.5555555555555556,
             "#d8576b"
            ],
            [
             0.6666666666666666,
             "#ed7953"
            ],
            [
             0.7777777777777778,
             "#fb9f3a"
            ],
            [
             0.8888888888888888,
             "#fdca26"
            ],
            [
             1,
             "#f0f921"
            ]
           ],
           "sequentialminus": [
            [
             0,
             "#0d0887"
            ],
            [
             0.1111111111111111,
             "#46039f"
            ],
            [
             0.2222222222222222,
             "#7201a8"
            ],
            [
             0.3333333333333333,
             "#9c179e"
            ],
            [
             0.4444444444444444,
             "#bd3786"
            ],
            [
             0.5555555555555556,
             "#d8576b"
            ],
            [
             0.6666666666666666,
             "#ed7953"
            ],
            [
             0.7777777777777778,
             "#fb9f3a"
            ],
            [
             0.8888888888888888,
             "#fdca26"
            ],
            [
             1,
             "#f0f921"
            ]
           ]
          },
          "colorway": [
           "#636efa",
           "#EF553B",
           "#00cc96",
           "#ab63fa",
           "#FFA15A",
           "#19d3f3",
           "#FF6692",
           "#B6E880",
           "#FF97FF",
           "#FECB52"
          ],
          "font": {
           "color": "#2a3f5f"
          },
          "geo": {
           "bgcolor": "white",
           "lakecolor": "white",
           "landcolor": "#E5ECF6",
           "showlakes": true,
           "showland": true,
           "subunitcolor": "white"
          },
          "hoverlabel": {
           "align": "left"
          },
          "hovermode": "closest",
          "mapbox": {
           "style": "light"
          },
          "paper_bgcolor": "white",
          "plot_bgcolor": "#E5ECF6",
          "polar": {
           "angularaxis": {
            "gridcolor": "white",
            "linecolor": "white",
            "ticks": ""
           },
           "bgcolor": "#E5ECF6",
           "radialaxis": {
            "gridcolor": "white",
            "linecolor": "white",
            "ticks": ""
           }
          },
          "scene": {
           "xaxis": {
            "backgroundcolor": "#E5ECF6",
            "gridcolor": "white",
            "gridwidth": 2,
            "linecolor": "white",
            "showbackground": true,
            "ticks": "",
            "zerolinecolor": "white"
           },
           "yaxis": {
            "backgroundcolor": "#E5ECF6",
            "gridcolor": "white",
            "gridwidth": 2,
            "linecolor": "white",
            "showbackground": true,
            "ticks": "",
            "zerolinecolor": "white"
           },
           "zaxis": {
            "backgroundcolor": "#E5ECF6",
            "gridcolor": "white",
            "gridwidth": 2,
            "linecolor": "white",
            "showbackground": true,
            "ticks": "",
            "zerolinecolor": "white"
           }
          },
          "shapedefaults": {
           "line": {
            "color": "#2a3f5f"
           }
          },
          "ternary": {
           "aaxis": {
            "gridcolor": "white",
            "linecolor": "white",
            "ticks": ""
           },
           "baxis": {
            "gridcolor": "white",
            "linecolor": "white",
            "ticks": ""
           },
           "bgcolor": "#E5ECF6",
           "caxis": {
            "gridcolor": "white",
            "linecolor": "white",
            "ticks": ""
           }
          },
          "title": {
           "x": 0.05
          },
          "xaxis": {
           "automargin": true,
           "gridcolor": "white",
           "linecolor": "white",
           "ticks": "",
           "title": {
            "standoff": 15
           },
           "zerolinecolor": "white",
           "zerolinewidth": 2
          },
          "yaxis": {
           "automargin": true,
           "gridcolor": "white",
           "linecolor": "white",
           "ticks": "",
           "title": {
            "standoff": 15
           },
           "zerolinecolor": "white",
           "zerolinewidth": 2
          }
         }
        },
        "title": {
         "text": "Relacion entre BMI y hba1c de acuerdo al genero"
        },
        "xaxis": {
         "title": {
          "text": "genero"
         }
        }
       }
      },
      "text/html": [
       "<div>                            <div id=\"e638d981-f63d-4b0d-81db-201e02e847ea\" class=\"plotly-graph-div\" style=\"height:525px; width:100%;\"></div>            <script type=\"text/javascript\">                require([\"plotly\"], function(Plotly) {                    window.PLOTLYENV=window.PLOTLYENV || {};                                    if (document.getElementById(\"e638d981-f63d-4b0d-81db-201e02e847ea\")) {                    Plotly.newPlot(                        \"e638d981-f63d-4b0d-81db-201e02e847ea\",                        [{\"name\":\"BMI\",\"x\":[\"f\",\"f\",\"f\",\"f\",\"f\",\"f\",\"m\",\"m\",\"m\",\"m\",\"m\",\"m\",\"f\",\"f\",\"f\",\"f\",\"f\",\"f\",\"f\",\"f\",\"f\",\"f\",\"f\",\"f\",\"m\",\"m\",\"m\",\"m\",\"m\",\"m\",\"f\",\"f\",\"f\",\"f\",\"f\",\"f\",\"m\",\"m\",\"m\",\"m\",\"m\",\"m\",\"f\",\"f\",\"f\",\"f\",\"f\",\"f\",\"f\",\"f\",\"f\",\"f\",\"f\",\"f\",\"f\",\"f\",\"f\",\"f\",\"f\",\"f\",\"m\",\"m\",\"m\",\"m\",\"m\",\"m\",\"f\",\"f\",\"f\",\"f\",\"f\",\"f\",\"m\",\"m\",\"m\",\"m\",\"m\",\"m\",\"m\",\"m\",\"m\",\"m\",\"m\",\"m\",\"m\",\"m\",\"m\",\"m\",\"m\",\"m\",\"f\",\"f\",\"f\",\"f\",\"f\",\"f\",\"m\",\"m\",\"m\",\"m\",\"m\",\"m\",\"f\",\"f\",\"f\",\"f\",\"f\",\"f\",\"f\",\"f\",\"f\",\"f\",\"f\",\"f\",\"m\",\"m\",\"m\",\"m\",\"m\",\"m\",\"m\",\"m\",\"m\",\"m\",\"m\",\"m\",\"m\",\"m\",\"m\",\"m\",\"m\",\"m\",\"m\",\"m\",\"m\",\"m\",\"m\",\"m\",\"m\",\"m\",\"m\",\"m\",\"m\",\"m\",\"m\",\"m\",\"m\",\"m\",\"m\",\"m\",\"m\",\"m\",\"m\",\"m\",\"m\",\"m\",\"m\",\"m\",\"m\",\"m\",\"m\",\"m\",\"m\",\"m\",\"m\",\"m\",\"m\",\"m\",\"m\",\"m\",\"m\",\"m\",\"m\",\"m\",\"m\",\"m\",\"m\",\"m\",\"m\",\"m\"],\"y\":[27.9,27.9,27.9,27.9,27.9,27.9,20.5,20.5,20.5,20.5,20.5,20.5,21.4,21.4,21.4,21.4,21.4,21.4,27.2,27.2,27.2,27.2,27.2,27.2,26.5,26.5,26.5,26.5,26.5,26.5,20.5,20.5,20.5,20.5,20.5,20.5,24.7,24.7,24.7,24.7,24.7,24.7,19.9,19.9,19.9,19.9,19.9,19.9,20.8,20.8,20.8,20.8,20.8,20.8,27.8,27.8,27.8,27.8,27.8,27.8,34.8,34.8,34.8,34.8,34.8,34.8,28.3,28.3,28.3,28.3,28.3,28.3,32.3,32.3,32.3,32.3,32.3,32.3,38.9,38.9,38.9,38.9,38.9,38.9,35.4,35.4,35.4,35.4,35.4,35.4,33.7,33.7,33.7,33.7,33.7,33.7,30.0,30.0,30.0,30.0,30.0,30.0,40.1,40.1,40.1,40.1,40.1,40.1,29.2,29.2,29.2,29.2,29.2,29.2,41.9,41.9,41.9,41.9,41.9,41.9,38.9,38.9,38.9,38.9,38.9,38.9,32.9,32.9,32.9,32.9,32.9,32.9,32.7,32.7,32.7,32.7,32.7,32.7,27.5,27.5,27.5,27.5,27.5,27.5,30.2,30.2,30.2,30.2,30.2,30.2,26.6,26.6,26.6,26.6,26.6,26.6,34.3,34.3,34.3,34.3,34.3,34.3,27.0,27.0,27.0,27.0,27.0,27.0,27.2,27.2,27.2,27.2,27.2,27.2,38.6,38.6,38.6,38.6,38.6,38.6],\"type\":\"bar\"},{\"name\":\"hba1c\",\"x\":[\"f\",\"f\",\"f\",\"f\",\"f\",\"f\",\"m\",\"m\",\"m\",\"m\",\"m\",\"m\",\"f\",\"f\",\"f\",\"f\",\"f\",\"f\",\"f\",\"f\",\"f\",\"f\",\"f\",\"f\",\"m\",\"m\",\"m\",\"m\",\"m\",\"m\",\"f\",\"f\",\"f\",\"f\",\"f\",\"f\",\"m\",\"m\",\"m\",\"m\",\"m\",\"m\",\"f\",\"f\",\"f\",\"f\",\"f\",\"f\",\"f\",\"f\",\"f\",\"f\",\"f\",\"f\",\"f\",\"f\",\"f\",\"f\",\"f\",\"f\",\"m\",\"m\",\"m\",\"m\",\"m\",\"m\",\"f\",\"f\",\"f\",\"f\",\"f\",\"f\",\"m\",\"m\",\"m\",\"m\",\"m\",\"m\",\"m\",\"m\",\"m\",\"m\",\"m\",\"m\",\"m\",\"m\",\"m\",\"m\",\"m\",\"m\",\"f\",\"f\",\"f\",\"f\",\"f\",\"f\",\"m\",\"m\",\"m\",\"m\",\"m\",\"m\",\"f\",\"f\",\"f\",\"f\",\"f\",\"f\",\"f\",\"f\",\"f\",\"f\",\"f\",\"f\",\"m\",\"m\",\"m\",\"m\",\"m\",\"m\",\"m\",\"m\",\"m\",\"m\",\"m\",\"m\",\"m\",\"m\",\"m\",\"m\",\"m\",\"m\",\"m\",\"m\",\"m\",\"m\",\"m\",\"m\",\"m\",\"m\",\"m\",\"m\",\"m\",\"m\",\"m\",\"m\",\"m\",\"m\",\"m\",\"m\",\"m\",\"m\",\"m\",\"m\",\"m\",\"m\",\"m\",\"m\",\"m\",\"m\",\"m\",\"m\",\"m\",\"m\",\"m\",\"m\",\"m\",\"m\",\"m\",\"m\",\"m\",\"m\",\"m\",\"m\",\"m\",\"m\",\"m\",\"m\",\"m\",\"m\"],\"y\":[5.05,5.05,5.05,5.05,5.05,5.05,5.58,5.58,5.58,5.58,5.58,5.58,5.4,5.4,5.4,5.4,5.4,5.4,5.08,5.08,5.08,5.08,5.08,5.08,5.7,5.7,5.7,5.7,5.7,5.7,5.4,5.4,5.4,5.4,5.4,5.4,5.57,5.57,5.57,5.57,5.57,5.57,5.85,5.85,5.85,5.85,5.85,5.85,5.46,5.46,5.46,5.46,5.46,5.46,4.87,4.87,4.87,4.87,4.87,4.87,5.86,5.86,5.86,5.86,5.86,5.86,6.29,6.29,6.29,6.29,6.29,6.29,5.94,5.94,5.94,5.94,5.94,5.94,6.0,6.0,6.0,6.0,6.0,6.0,5.94,5.94,5.94,5.94,5.94,5.94,6.02,6.02,6.02,6.02,6.02,6.02,5.45,5.45,5.45,5.45,5.45,5.45,6.05,6.05,6.05,6.05,6.05,6.05,5.9,5.9,5.9,5.9,5.9,5.9,5.1,5.1,5.1,5.1,5.1,5.1,7.84,7.84,7.84,7.84,7.84,7.84,7.83,7.83,7.83,7.83,7.83,7.83,6.7,6.7,6.7,6.7,6.7,6.7,6.7,6.7,6.7,6.7,6.7,6.7,7.72,7.72,7.72,7.72,7.72,7.72,7.53,7.53,7.53,7.53,7.53,7.53,8.0,8.0,8.0,8.0,8.0,8.0,6.99,6.99,6.99,6.99,6.99,6.99,6.94,6.94,6.94,6.94,6.94,6.94,9.1,9.1,9.1,9.1,9.1,9.1],\"type\":\"bar\"}],                        {\"barmode\":\"group\",\"template\":{\"data\":{\"barpolar\":[{\"marker\":{\"line\":{\"color\":\"#E5ECF6\",\"width\":0.5},\"pattern\":{\"fillmode\":\"overlay\",\"size\":10,\"solidity\":0.2}},\"type\":\"barpolar\"}],\"bar\":[{\"error_x\":{\"color\":\"#2a3f5f\"},\"error_y\":{\"color\":\"#2a3f5f\"},\"marker\":{\"line\":{\"color\":\"#E5ECF6\",\"width\":0.5},\"pattern\":{\"fillmode\":\"overlay\",\"size\":10,\"solidity\":0.2}},\"type\":\"bar\"}],\"carpet\":[{\"aaxis\":{\"endlinecolor\":\"#2a3f5f\",\"gridcolor\":\"white\",\"linecolor\":\"white\",\"minorgridcolor\":\"white\",\"startlinecolor\":\"#2a3f5f\"},\"baxis\":{\"endlinecolor\":\"#2a3f5f\",\"gridcolor\":\"white\",\"linecolor\":\"white\",\"minorgridcolor\":\"white\",\"startlinecolor\":\"#2a3f5f\"},\"type\":\"carpet\"}],\"choropleth\":[{\"colorbar\":{\"outlinewidth\":0,\"ticks\":\"\"},\"type\":\"choropleth\"}],\"contourcarpet\":[{\"colorbar\":{\"outlinewidth\":0,\"ticks\":\"\"},\"type\":\"contourcarpet\"}],\"contour\":[{\"colorbar\":{\"outlinewidth\":0,\"ticks\":\"\"},\"colorscale\":[[0.0,\"#0d0887\"],[0.1111111111111111,\"#46039f\"],[0.2222222222222222,\"#7201a8\"],[0.3333333333333333,\"#9c179e\"],[0.4444444444444444,\"#bd3786\"],[0.5555555555555556,\"#d8576b\"],[0.6666666666666666,\"#ed7953\"],[0.7777777777777778,\"#fb9f3a\"],[0.8888888888888888,\"#fdca26\"],[1.0,\"#f0f921\"]],\"type\":\"contour\"}],\"heatmapgl\":[{\"colorbar\":{\"outlinewidth\":0,\"ticks\":\"\"},\"colorscale\":[[0.0,\"#0d0887\"],[0.1111111111111111,\"#46039f\"],[0.2222222222222222,\"#7201a8\"],[0.3333333333333333,\"#9c179e\"],[0.4444444444444444,\"#bd3786\"],[0.5555555555555556,\"#d8576b\"],[0.6666666666666666,\"#ed7953\"],[0.7777777777777778,\"#fb9f3a\"],[0.8888888888888888,\"#fdca26\"],[1.0,\"#f0f921\"]],\"type\":\"heatmapgl\"}],\"heatmap\":[{\"colorbar\":{\"outlinewidth\":0,\"ticks\":\"\"},\"colorscale\":[[0.0,\"#0d0887\"],[0.1111111111111111,\"#46039f\"],[0.2222222222222222,\"#7201a8\"],[0.3333333333333333,\"#9c179e\"],[0.4444444444444444,\"#bd3786\"],[0.5555555555555556,\"#d8576b\"],[0.6666666666666666,\"#ed7953\"],[0.7777777777777778,\"#fb9f3a\"],[0.8888888888888888,\"#fdca26\"],[1.0,\"#f0f921\"]],\"type\":\"heatmap\"}],\"histogram2dcontour\":[{\"colorbar\":{\"outlinewidth\":0,\"ticks\":\"\"},\"colorscale\":[[0.0,\"#0d0887\"],[0.1111111111111111,\"#46039f\"],[0.2222222222222222,\"#7201a8\"],[0.3333333333333333,\"#9c179e\"],[0.4444444444444444,\"#bd3786\"],[0.5555555555555556,\"#d8576b\"],[0.6666666666666666,\"#ed7953\"],[0.7777777777777778,\"#fb9f3a\"],[0.8888888888888888,\"#fdca26\"],[1.0,\"#f0f921\"]],\"type\":\"histogram2dcontour\"}],\"histogram2d\":[{\"colorbar\":{\"outlinewidth\":0,\"ticks\":\"\"},\"colorscale\":[[0.0,\"#0d0887\"],[0.1111111111111111,\"#46039f\"],[0.2222222222222222,\"#7201a8\"],[0.3333333333333333,\"#9c179e\"],[0.4444444444444444,\"#bd3786\"],[0.5555555555555556,\"#d8576b\"],[0.6666666666666666,\"#ed7953\"],[0.7777777777777778,\"#fb9f3a\"],[0.8888888888888888,\"#fdca26\"],[1.0,\"#f0f921\"]],\"type\":\"histogram2d\"}],\"histogram\":[{\"marker\":{\"pattern\":{\"fillmode\":\"overlay\",\"size\":10,\"solidity\":0.2}},\"type\":\"histogram\"}],\"mesh3d\":[{\"colorbar\":{\"outlinewidth\":0,\"ticks\":\"\"},\"type\":\"mesh3d\"}],\"parcoords\":[{\"line\":{\"colorbar\":{\"outlinewidth\":0,\"ticks\":\"\"}},\"type\":\"parcoords\"}],\"pie\":[{\"automargin\":true,\"type\":\"pie\"}],\"scatter3d\":[{\"line\":{\"colorbar\":{\"outlinewidth\":0,\"ticks\":\"\"}},\"marker\":{\"colorbar\":{\"outlinewidth\":0,\"ticks\":\"\"}},\"type\":\"scatter3d\"}],\"scattercarpet\":[{\"marker\":{\"colorbar\":{\"outlinewidth\":0,\"ticks\":\"\"}},\"type\":\"scattercarpet\"}],\"scattergeo\":[{\"marker\":{\"colorbar\":{\"outlinewidth\":0,\"ticks\":\"\"}},\"type\":\"scattergeo\"}],\"scattergl\":[{\"marker\":{\"colorbar\":{\"outlinewidth\":0,\"ticks\":\"\"}},\"type\":\"scattergl\"}],\"scattermapbox\":[{\"marker\":{\"colorbar\":{\"outlinewidth\":0,\"ticks\":\"\"}},\"type\":\"scattermapbox\"}],\"scatterpolargl\":[{\"marker\":{\"colorbar\":{\"outlinewidth\":0,\"ticks\":\"\"}},\"type\":\"scatterpolargl\"}],\"scatterpolar\":[{\"marker\":{\"colorbar\":{\"outlinewidth\":0,\"ticks\":\"\"}},\"type\":\"scatterpolar\"}],\"scatter\":[{\"fillpattern\":{\"fillmode\":\"overlay\",\"size\":10,\"solidity\":0.2},\"type\":\"scatter\"}],\"scatterternary\":[{\"marker\":{\"colorbar\":{\"outlinewidth\":0,\"ticks\":\"\"}},\"type\":\"scatterternary\"}],\"surface\":[{\"colorbar\":{\"outlinewidth\":0,\"ticks\":\"\"},\"colorscale\":[[0.0,\"#0d0887\"],[0.1111111111111111,\"#46039f\"],[0.2222222222222222,\"#7201a8\"],[0.3333333333333333,\"#9c179e\"],[0.4444444444444444,\"#bd3786\"],[0.5555555555555556,\"#d8576b\"],[0.6666666666666666,\"#ed7953\"],[0.7777777777777778,\"#fb9f3a\"],[0.8888888888888888,\"#fdca26\"],[1.0,\"#f0f921\"]],\"type\":\"surface\"}],\"table\":[{\"cells\":{\"fill\":{\"color\":\"#EBF0F8\"},\"line\":{\"color\":\"white\"}},\"header\":{\"fill\":{\"color\":\"#C8D4E3\"},\"line\":{\"color\":\"white\"}},\"type\":\"table\"}]},\"layout\":{\"annotationdefaults\":{\"arrowcolor\":\"#2a3f5f\",\"arrowhead\":0,\"arrowwidth\":1},\"autotypenumbers\":\"strict\",\"coloraxis\":{\"colorbar\":{\"outlinewidth\":0,\"ticks\":\"\"}},\"colorscale\":{\"diverging\":[[0,\"#8e0152\"],[0.1,\"#c51b7d\"],[0.2,\"#de77ae\"],[0.3,\"#f1b6da\"],[0.4,\"#fde0ef\"],[0.5,\"#f7f7f7\"],[0.6,\"#e6f5d0\"],[0.7,\"#b8e186\"],[0.8,\"#7fbc41\"],[0.9,\"#4d9221\"],[1,\"#276419\"]],\"sequential\":[[0.0,\"#0d0887\"],[0.1111111111111111,\"#46039f\"],[0.2222222222222222,\"#7201a8\"],[0.3333333333333333,\"#9c179e\"],[0.4444444444444444,\"#bd3786\"],[0.5555555555555556,\"#d8576b\"],[0.6666666666666666,\"#ed7953\"],[0.7777777777777778,\"#fb9f3a\"],[0.8888888888888888,\"#fdca26\"],[1.0,\"#f0f921\"]],\"sequentialminus\":[[0.0,\"#0d0887\"],[0.1111111111111111,\"#46039f\"],[0.2222222222222222,\"#7201a8\"],[0.3333333333333333,\"#9c179e\"],[0.4444444444444444,\"#bd3786\"],[0.5555555555555556,\"#d8576b\"],[0.6666666666666666,\"#ed7953\"],[0.7777777777777778,\"#fb9f3a\"],[0.8888888888888888,\"#fdca26\"],[1.0,\"#f0f921\"]]},\"colorway\":[\"#636efa\",\"#EF553B\",\"#00cc96\",\"#ab63fa\",\"#FFA15A\",\"#19d3f3\",\"#FF6692\",\"#B6E880\",\"#FF97FF\",\"#FECB52\"],\"font\":{\"color\":\"#2a3f5f\"},\"geo\":{\"bgcolor\":\"white\",\"lakecolor\":\"white\",\"landcolor\":\"#E5ECF6\",\"showlakes\":true,\"showland\":true,\"subunitcolor\":\"white\"},\"hoverlabel\":{\"align\":\"left\"},\"hovermode\":\"closest\",\"mapbox\":{\"style\":\"light\"},\"paper_bgcolor\":\"white\",\"plot_bgcolor\":\"#E5ECF6\",\"polar\":{\"angularaxis\":{\"gridcolor\":\"white\",\"linecolor\":\"white\",\"ticks\":\"\"},\"bgcolor\":\"#E5ECF6\",\"radialaxis\":{\"gridcolor\":\"white\",\"linecolor\":\"white\",\"ticks\":\"\"}},\"scene\":{\"xaxis\":{\"backgroundcolor\":\"#E5ECF6\",\"gridcolor\":\"white\",\"gridwidth\":2,\"linecolor\":\"white\",\"showbackground\":true,\"ticks\":\"\",\"zerolinecolor\":\"white\"},\"yaxis\":{\"backgroundcolor\":\"#E5ECF6\",\"gridcolor\":\"white\",\"gridwidth\":2,\"linecolor\":\"white\",\"showbackground\":true,\"ticks\":\"\",\"zerolinecolor\":\"white\"},\"zaxis\":{\"backgroundcolor\":\"#E5ECF6\",\"gridcolor\":\"white\",\"gridwidth\":2,\"linecolor\":\"white\",\"showbackground\":true,\"ticks\":\"\",\"zerolinecolor\":\"white\"}},\"shapedefaults\":{\"line\":{\"color\":\"#2a3f5f\"}},\"ternary\":{\"aaxis\":{\"gridcolor\":\"white\",\"linecolor\":\"white\",\"ticks\":\"\"},\"baxis\":{\"gridcolor\":\"white\",\"linecolor\":\"white\",\"ticks\":\"\"},\"bgcolor\":\"#E5ECF6\",\"caxis\":{\"gridcolor\":\"white\",\"linecolor\":\"white\",\"ticks\":\"\"}},\"title\":{\"x\":0.05},\"xaxis\":{\"automargin\":true,\"gridcolor\":\"white\",\"linecolor\":\"white\",\"ticks\":\"\",\"title\":{\"standoff\":15},\"zerolinecolor\":\"white\",\"zerolinewidth\":2},\"yaxis\":{\"automargin\":true,\"gridcolor\":\"white\",\"linecolor\":\"white\",\"ticks\":\"\",\"title\":{\"standoff\":15},\"zerolinecolor\":\"white\",\"zerolinewidth\":2}}},\"title\":{\"text\":\"Relacion entre BMI y hba1c de acuerdo al genero\"},\"xaxis\":{\"title\":{\"text\":\"genero\"}}},                        {\"responsive\": true}                    ).then(function(){\n",
       "                            \n",
       "var gd = document.getElementById('e638d981-f63d-4b0d-81db-201e02e847ea');\n",
       "var x = new MutationObserver(function (mutations, observer) {{\n",
       "        var display = window.getComputedStyle(gd).display;\n",
       "        if (!display || display === 'none') {{\n",
       "            console.log([gd, 'removed!']);\n",
       "            Plotly.purge(gd);\n",
       "            observer.disconnect();\n",
       "        }}\n",
       "}});\n",
       "\n",
       "// Listen for the removal of the full notebook cells\n",
       "var notebookContainer = gd.closest('#notebook-container');\n",
       "if (notebookContainer) {{\n",
       "    x.observe(notebookContainer, {childList: true});\n",
       "}}\n",
       "\n",
       "// Listen for the clearing of the current output cell\n",
       "var outputEl = gd.closest('.output');\n",
       "if (outputEl) {{\n",
       "    x.observe(outputEl, {childList: true});\n",
       "}}\n",
       "\n",
       "                        })                };                });            </script>        </div>"
      ]
     },
     "metadata": {},
     "output_type": "display_data"
    }
   ],
   "source": [
    "x = sample_metadata.sex\n",
    "\n",
    "trace1 = {\n",
    "    'x': x,\n",
    "    'y': sample_metadata['BMI'],\n",
    "    'name': 'BMI',\n",
    "    'type': 'bar'\n",
    "\n",
    "}\n",
    "\n",
    "trace2 = {\n",
    "    'x': x,\n",
    "    'y': sample_metadata['hba1c'],\n",
    "    'name': 'hba1c',\n",
    "    'type': 'bar'\n",
    "\n",
    "}\n",
    "\n",
    "data = [trace1, trace2]\n",
    "\n",
    "layout  = {\n",
    "    'xaxis': {'title': 'genero'},\n",
    "    'barmode': 'group',  #agrupa tambien hay la opcion de apilar\n",
    "    'title': 'Relacion entre BMI y hba1c de acuerdo al genero'\n",
    "\n",
    "}\n",
    "\n",
    "\n",
    "fig = go.Figure(data = data, layout = layout)\n",
    "iplot(fig)"
   ]
  }
 ],
 "metadata": {
  "interpreter": {
   "hash": "5ab71e38473c3d05dca6d8b30e7ae23eca3decdcb13edbaa061da232a838878a"
  },
  "kernelspec": {
   "display_name": "Python 3.7.4 64-bit",
   "language": "python",
   "name": "python3"
  },
  "language_info": {
   "codemirror_mode": {
    "name": "ipython",
    "version": 3
   },
   "file_extension": ".py",
   "mimetype": "text/x-python",
   "name": "python",
   "nbconvert_exporter": "python",
   "pygments_lexer": "ipython3",
   "version": "3.7.4"
  },
  "orig_nbformat": 4
 },
 "nbformat": 4,
 "nbformat_minor": 2
}
