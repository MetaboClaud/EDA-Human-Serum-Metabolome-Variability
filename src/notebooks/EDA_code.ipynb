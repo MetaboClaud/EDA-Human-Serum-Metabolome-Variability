{
 "cells": [
  {
   "cell_type": "markdown",
   "metadata": {},
   "source": [
    "# **EDA** \n",
    "## APLICACION EN MUESTRAS DE DIABETES PROVENIENTES DE UN ESTUDIO METABOLÓMICO\n",
    "\n",
    "Titulo dataset: Human Serum Metabolome Variability \n",
    "\n",
    "SET DE DATOS SACADOS DE : https://www.kaggle.com/datasets/desertman/human-serum-metabolome-variability\n",
    "\n",
    "Autor: Claudia Balderas \n",
    "Github: https://github.com/MetaboClaud"
   ]
  },
  {
   "cell_type": "markdown",
   "metadata": {},
   "source": [
    "# 1. Importar librerias\n",
    "\n",
    "* Data analysis: Numpy, Pandas\n",
    "* Visualización: matplotlib, matplotlib.pyplot, seaborn, plotly, cimcb_lite"
   ]
  },
  {
   "cell_type": "code",
   "execution_count": 1,
   "metadata": {},
   "outputs": [
    {
     "data": {
      "text/html": [
       "        <script type=\"text/javascript\">\n",
       "        window.PlotlyConfig = {MathJaxConfig: 'local'};\n",
       "        if (window.MathJax && window.MathJax.Hub && window.MathJax.Hub.Config) {window.MathJax.Hub.Config({SVG: {font: \"STIX-Web\"}});}\n",
       "        if (typeof require !== 'undefined') {\n",
       "        require.undef(\"plotly\");\n",
       "        requirejs.config({\n",
       "            paths: {\n",
       "                'plotly': ['https://cdn.plot.ly/plotly-2.12.1.min']\n",
       "            }\n",
       "        });\n",
       "        require(['plotly'], function(Plotly) {\n",
       "            window._Plotly = Plotly;\n",
       "        });\n",
       "        }\n",
       "        </script>\n",
       "        "
      ]
     },
     "metadata": {},
     "output_type": "display_data"
    }
   ],
   "source": [
    "##Data analysis\n",
    "import numpy as np\n",
    "import pandas as pd\n",
    "\n",
    "\n",
    "\n",
    "##Visualización\n",
    "\n",
    "#matplotlib\n",
    "import matplotlib as mpl\n",
    "import matplotlib.pyplot as plt\n",
    "%matplotlib inline\n",
    "\n",
    "#seaborn\n",
    "import seaborn as sns\n",
    "\n",
    "\n",
    "# plotly\n",
    "from plotly.offline import init_notebook_mode, iplot\n",
    "import plotly as py\n",
    "init_notebook_mode(connected=True)\n",
    "import plotly.graph_objs as go\n",
    "import plotly.express as px\n",
    "\n",
    "\n",
    "#librería para hacer el PCA y el análisis estadístico. \n",
    "#Libreria correspondiente al repositorio The Centre for Integrative Metabolomics and Computational Biology\n",
    "# https://github.com/orgs/CIMCB/repositories\n",
    "\n",
    "import cimcb_lite as cb  \n",
    "\n",
    "\n"
   ]
  },
  {
   "cell_type": "markdown",
   "metadata": {},
   "source": []
  },
  {
   "cell_type": "markdown",
   "metadata": {},
   "source": [
    "# 2. Cargar datos\n"
   ]
  },
  {
   "cell_type": "markdown",
   "metadata": {},
   "source": [
    "### 2.1 Dataset Hoja 1 ---> Informacion general de estudio"
   ]
  },
  {
   "cell_type": "code",
   "execution_count": 2,
   "metadata": {},
   "outputs": [
    {
     "data": {
      "text/html": [
       "<div>\n",
       "<style scoped>\n",
       "    .dataframe tbody tr th:only-of-type {\n",
       "        vertical-align: middle;\n",
       "    }\n",
       "\n",
       "    .dataframe tbody tr th {\n",
       "        vertical-align: top;\n",
       "    }\n",
       "\n",
       "    .dataframe thead th {\n",
       "        text-align: right;\n",
       "    }\n",
       "</style>\n",
       "<table border=\"1\" class=\"dataframe\">\n",
       "  <thead>\n",
       "    <tr style=\"text-align: right;\">\n",
       "      <th></th>\n",
       "      <th>sample_id</th>\n",
       "      <th>sample_id_study</th>\n",
       "      <th>CLIENT_IDENTIFIER</th>\n",
       "      <th>CLIENT_MATRIX</th>\n",
       "      <th>DAY</th>\n",
       "      <th>Health</th>\n",
       "      <th>Time</th>\n",
       "      <th>HEALTH_STATUS</th>\n",
       "      <th>RUN_DAY</th>\n",
       "      <th>SAMPLE_AMT</th>\n",
       "      <th>SUBJECT</th>\n",
       "      <th>Time Point</th>\n",
       "      <th>study_group</th>\n",
       "      <th>sex</th>\n",
       "      <th>BMI</th>\n",
       "      <th>hba1c</th>\n",
       "    </tr>\n",
       "  </thead>\n",
       "  <tbody>\n",
       "    <tr>\n",
       "      <th>0</th>\n",
       "      <td>sample_0001</td>\n",
       "      <td>2904988</td>\n",
       "      <td>101-d2-MMT(-0.5h)-S002</td>\n",
       "      <td>Serum</td>\n",
       "      <td>D2</td>\n",
       "      <td>Healthy</td>\n",
       "      <td>Pre</td>\n",
       "      <td>healthy subjects</td>\n",
       "      <td>1</td>\n",
       "      <td>200 ul</td>\n",
       "      <td>101</td>\n",
       "      <td>pre</td>\n",
       "      <td>Healthy_D2_Pre</td>\n",
       "      <td>f</td>\n",
       "      <td>27.9</td>\n",
       "      <td>5.05</td>\n",
       "    </tr>\n",
       "    <tr>\n",
       "      <th>1</th>\n",
       "      <td>sample_0002</td>\n",
       "      <td>2904989</td>\n",
       "      <td>101-d2-MMT(+1h)-S032</td>\n",
       "      <td>Serum</td>\n",
       "      <td>D2</td>\n",
       "      <td>Healthy</td>\n",
       "      <td>Post</td>\n",
       "      <td>healthy subjects</td>\n",
       "      <td>1</td>\n",
       "      <td>200 ul</td>\n",
       "      <td>101</td>\n",
       "      <td>1h</td>\n",
       "      <td>Healthy_D2_Post</td>\n",
       "      <td>f</td>\n",
       "      <td>27.9</td>\n",
       "      <td>5.05</td>\n",
       "    </tr>\n",
       "    <tr>\n",
       "      <th>2</th>\n",
       "      <td>sample_0003</td>\n",
       "      <td>2904991</td>\n",
       "      <td>101-d14-MMT(-0.5h)-S002</td>\n",
       "      <td>Serum</td>\n",
       "      <td>D14</td>\n",
       "      <td>Healthy</td>\n",
       "      <td>Pre</td>\n",
       "      <td>healthy subjects</td>\n",
       "      <td>1</td>\n",
       "      <td>200 ul</td>\n",
       "      <td>101</td>\n",
       "      <td>pre</td>\n",
       "      <td>Healthy_D14_Pre</td>\n",
       "      <td>f</td>\n",
       "      <td>27.9</td>\n",
       "      <td>5.05</td>\n",
       "    </tr>\n",
       "    <tr>\n",
       "      <th>3</th>\n",
       "      <td>sample_0004</td>\n",
       "      <td>2904992</td>\n",
       "      <td>101-d14-MMT(+1h)-S032</td>\n",
       "      <td>Serum</td>\n",
       "      <td>D14</td>\n",
       "      <td>Healthy</td>\n",
       "      <td>Post</td>\n",
       "      <td>healthy subjects</td>\n",
       "      <td>1</td>\n",
       "      <td>200 ul</td>\n",
       "      <td>101</td>\n",
       "      <td>1h</td>\n",
       "      <td>Healthy_D14_Post</td>\n",
       "      <td>f</td>\n",
       "      <td>27.9</td>\n",
       "      <td>5.05</td>\n",
       "    </tr>\n",
       "    <tr>\n",
       "      <th>4</th>\n",
       "      <td>sample_0005</td>\n",
       "      <td>2904994</td>\n",
       "      <td>101-d28-MMT(-0.5h)-S002</td>\n",
       "      <td>Serum</td>\n",
       "      <td>D28</td>\n",
       "      <td>Healthy</td>\n",
       "      <td>Pre</td>\n",
       "      <td>healthy subjects</td>\n",
       "      <td>1</td>\n",
       "      <td>200 ul</td>\n",
       "      <td>101</td>\n",
       "      <td>pre</td>\n",
       "      <td>Healthy_D28_Pre</td>\n",
       "      <td>f</td>\n",
       "      <td>27.9</td>\n",
       "      <td>5.05</td>\n",
       "    </tr>\n",
       "  </tbody>\n",
       "</table>\n",
       "</div>"
      ],
      "text/plain": [
       "     sample_id  sample_id_study        CLIENT_IDENTIFIER CLIENT_MATRIX  DAY  \\\n",
       "0  sample_0001          2904988   101-d2-MMT(-0.5h)-S002         Serum   D2   \n",
       "1  sample_0002          2904989     101-d2-MMT(+1h)-S032         Serum   D2   \n",
       "2  sample_0003          2904991  101-d14-MMT(-0.5h)-S002         Serum  D14   \n",
       "3  sample_0004          2904992    101-d14-MMT(+1h)-S032         Serum  D14   \n",
       "4  sample_0005          2904994  101-d28-MMT(-0.5h)-S002         Serum  D28   \n",
       "\n",
       "    Health  Time     HEALTH_STATUS  RUN_DAY SAMPLE_AMT  SUBJECT Time Point  \\\n",
       "0  Healthy   Pre  healthy subjects        1     200 ul      101        pre   \n",
       "1  Healthy  Post  healthy subjects        1     200 ul      101         1h   \n",
       "2  Healthy   Pre  healthy subjects        1     200 ul      101        pre   \n",
       "3  Healthy  Post  healthy subjects        1     200 ul      101         1h   \n",
       "4  Healthy   Pre  healthy subjects        1     200 ul      101        pre   \n",
       "\n",
       "        study_group sex   BMI  hba1c  \n",
       "0    Healthy_D2_Pre   f  27.9   5.05  \n",
       "1   Healthy_D2_Post   f  27.9   5.05  \n",
       "2   Healthy_D14_Pre   f  27.9   5.05  \n",
       "3  Healthy_D14_Post   f  27.9   5.05  \n",
       "4   Healthy_D28_Pre   f  27.9   5.05  "
      ]
     },
     "execution_count": 2,
     "metadata": {},
     "output_type": "execute_result"
    }
   ],
   "source": [
    "#Dataset información general del estudio\n",
    "sample_metadata = pd.read_excel(\"../data/study_data.xlsx\",sheet_name= \"sample_metadata\" )\n",
    "sample_metadata.head()"
   ]
  },
  {
   "cell_type": "code",
   "execution_count": 3,
   "metadata": {},
   "outputs": [
    {
     "data": {
      "text/plain": [
       "Index(['sample_id', 'sample_id_study', 'CLIENT_IDENTIFIER', 'CLIENT_MATRIX',\n",
       "       'DAY', 'Health', 'Time', 'HEALTH_STATUS', 'RUN_DAY', 'SAMPLE_AMT',\n",
       "       'SUBJECT', 'Time Point', 'study_group', 'sex', 'BMI', 'hba1c'],\n",
       "      dtype='object')"
      ]
     },
     "execution_count": 3,
     "metadata": {},
     "output_type": "execute_result"
    }
   ],
   "source": [
    "#Nombre de las columnas\n",
    "sample_metadata.columns"
   ]
  },
  {
   "cell_type": "markdown",
   "metadata": {},
   "source": [
    "***Features que nos interesan para el análisis***\n",
    "\n",
    "    *sample_id: ID único de muestra\n",
    "    *CLIENT_MATRIX: Tipo de muestra extraída:\n",
    "    *Health: Nombre corto correspondiente al estado de salud\n",
    "    *HEALTH_STATUS: Estado de salud \n",
    "    *sex: sexo del paciente\n",
    "    *BMI: Indice de masa corporal\n",
    "    *hba1: Hemoglobina glicosilada "
   ]
  },
  {
   "cell_type": "code",
   "execution_count": 4,
   "metadata": {},
   "outputs": [
    {
     "name": "stdout",
     "output_type": "stream",
     "text": [
      "<class 'pandas.core.frame.DataFrame'>\n",
      "RangeIndex: 180 entries, 0 to 179\n",
      "Data columns (total 16 columns):\n",
      " #   Column             Non-Null Count  Dtype  \n",
      "---  ------             --------------  -----  \n",
      " 0   sample_id          180 non-null    object \n",
      " 1   sample_id_study    180 non-null    int64  \n",
      " 2   CLIENT_IDENTIFIER  180 non-null    object \n",
      " 3   CLIENT_MATRIX      180 non-null    object \n",
      " 4   DAY                180 non-null    object \n",
      " 5   Health             180 non-null    object \n",
      " 6   Time               180 non-null    object \n",
      " 7   HEALTH_STATUS      180 non-null    object \n",
      " 8   RUN_DAY            180 non-null    int64  \n",
      " 9   SAMPLE_AMT         180 non-null    object \n",
      " 10  SUBJECT            180 non-null    int64  \n",
      " 11  Time Point         180 non-null    object \n",
      " 12  study_group        180 non-null    object \n",
      " 13  sex                180 non-null    object \n",
      " 14  BMI                180 non-null    float64\n",
      " 15  hba1c              180 non-null    float64\n",
      "dtypes: float64(2), int64(3), object(11)\n",
      "memory usage: 22.6+ KB\n"
     ]
    }
   ],
   "source": [
    "#información básica del dataset, tipos de datos y columnas\n",
    "sample_metadata.info()"
   ]
  },
  {
   "cell_type": "markdown",
   "metadata": {},
   "source": [
    "### 2.2 Dataset Hoja2 --> Principal de metabolitos encontrados"
   ]
  },
  {
   "cell_type": "code",
   "execution_count": 5,
   "metadata": {},
   "outputs": [
    {
     "data": {
      "text/html": [
       "<div>\n",
       "<style scoped>\n",
       "    .dataframe tbody tr th:only-of-type {\n",
       "        vertical-align: middle;\n",
       "    }\n",
       "\n",
       "    .dataframe tbody tr th {\n",
       "        vertical-align: top;\n",
       "    }\n",
       "\n",
       "    .dataframe thead th {\n",
       "        text-align: right;\n",
       "    }\n",
       "</style>\n",
       "<table border=\"1\" class=\"dataframe\">\n",
       "  <thead>\n",
       "    <tr style=\"text-align: right;\">\n",
       "      <th></th>\n",
       "      <th>compound_id</th>\n",
       "      <th>sample_0001</th>\n",
       "      <th>sample_0002</th>\n",
       "      <th>sample_0003</th>\n",
       "      <th>sample_0004</th>\n",
       "      <th>sample_0005</th>\n",
       "      <th>sample_0006</th>\n",
       "      <th>sample_0007</th>\n",
       "      <th>sample_0008</th>\n",
       "      <th>sample_0009</th>\n",
       "      <th>...</th>\n",
       "      <th>sample_0171</th>\n",
       "      <th>sample_0172</th>\n",
       "      <th>sample_0173</th>\n",
       "      <th>sample_0174</th>\n",
       "      <th>sample_0175</th>\n",
       "      <th>sample_0176</th>\n",
       "      <th>sample_0177</th>\n",
       "      <th>sample_0178</th>\n",
       "      <th>sample_0179</th>\n",
       "      <th>sample_0180</th>\n",
       "    </tr>\n",
       "  </thead>\n",
       "  <tbody>\n",
       "    <tr>\n",
       "      <th>0</th>\n",
       "      <td>compound_0001</td>\n",
       "      <td>0.793620</td>\n",
       "      <td>0.713684</td>\n",
       "      <td>1.073165</td>\n",
       "      <td>1.074977</td>\n",
       "      <td>0.903153</td>\n",
       "      <td>0.792167</td>\n",
       "      <td>1.195207</td>\n",
       "      <td>1.141416</td>\n",
       "      <td>1.274139</td>\n",
       "      <td>...</td>\n",
       "      <td>1.048767</td>\n",
       "      <td>1.094411</td>\n",
       "      <td>1.086644</td>\n",
       "      <td>1.254065</td>\n",
       "      <td>0.745389</td>\n",
       "      <td>0.542919</td>\n",
       "      <td>0.628734</td>\n",
       "      <td>0.555390</td>\n",
       "      <td>0.590216</td>\n",
       "      <td>0.601484</td>\n",
       "    </tr>\n",
       "    <tr>\n",
       "      <th>1</th>\n",
       "      <td>compound_0002</td>\n",
       "      <td>0.743363</td>\n",
       "      <td>0.762673</td>\n",
       "      <td>1.184788</td>\n",
       "      <td>0.959059</td>\n",
       "      <td>0.442795</td>\n",
       "      <td>0.685413</td>\n",
       "      <td>1.683612</td>\n",
       "      <td>1.412755</td>\n",
       "      <td>1.128855</td>\n",
       "      <td>...</td>\n",
       "      <td>1.191599</td>\n",
       "      <td>1.161694</td>\n",
       "      <td>0.903035</td>\n",
       "      <td>0.842545</td>\n",
       "      <td>0.561035</td>\n",
       "      <td>0.553931</td>\n",
       "      <td>0.701192</td>\n",
       "      <td>0.576311</td>\n",
       "      <td>0.830575</td>\n",
       "      <td>0.649295</td>\n",
       "    </tr>\n",
       "    <tr>\n",
       "      <th>2</th>\n",
       "      <td>compound_0003</td>\n",
       "      <td>0.360069</td>\n",
       "      <td>0.716626</td>\n",
       "      <td>0.448938</td>\n",
       "      <td>0.695333</td>\n",
       "      <td>0.444998</td>\n",
       "      <td>0.935179</td>\n",
       "      <td>1.444924</td>\n",
       "      <td>1.947233</td>\n",
       "      <td>1.182661</td>\n",
       "      <td>...</td>\n",
       "      <td>0.673173</td>\n",
       "      <td>1.030949</td>\n",
       "      <td>0.888554</td>\n",
       "      <td>1.156123</td>\n",
       "      <td>1.901547</td>\n",
       "      <td>2.349338</td>\n",
       "      <td>1.245951</td>\n",
       "      <td>2.362415</td>\n",
       "      <td>1.660026</td>\n",
       "      <td>2.050633</td>\n",
       "    </tr>\n",
       "    <tr>\n",
       "      <th>3</th>\n",
       "      <td>compound_0004</td>\n",
       "      <td>0.557168</td>\n",
       "      <td>0.739390</td>\n",
       "      <td>0.609914</td>\n",
       "      <td>0.699223</td>\n",
       "      <td>0.668752</td>\n",
       "      <td>0.899727</td>\n",
       "      <td>1.476924</td>\n",
       "      <td>1.460609</td>\n",
       "      <td>1.116283</td>\n",
       "      <td>...</td>\n",
       "      <td>0.882301</td>\n",
       "      <td>1.007380</td>\n",
       "      <td>0.817482</td>\n",
       "      <td>0.868670</td>\n",
       "      <td>1.164877</td>\n",
       "      <td>0.936585</td>\n",
       "      <td>1.079366</td>\n",
       "      <td>1.029833</td>\n",
       "      <td>0.937246</td>\n",
       "      <td>1.468545</td>\n",
       "    </tr>\n",
       "    <tr>\n",
       "      <th>4</th>\n",
       "      <td>compound_0005</td>\n",
       "      <td>0.886952</td>\n",
       "      <td>0.921852</td>\n",
       "      <td>0.861769</td>\n",
       "      <td>0.893694</td>\n",
       "      <td>0.917792</td>\n",
       "      <td>0.979249</td>\n",
       "      <td>1.648081</td>\n",
       "      <td>1.751745</td>\n",
       "      <td>1.266781</td>\n",
       "      <td>...</td>\n",
       "      <td>1.278643</td>\n",
       "      <td>1.313778</td>\n",
       "      <td>1.210348</td>\n",
       "      <td>1.292895</td>\n",
       "      <td>1.224971</td>\n",
       "      <td>0.965326</td>\n",
       "      <td>1.014223</td>\n",
       "      <td>0.869503</td>\n",
       "      <td>1.008572</td>\n",
       "      <td>1.196692</td>\n",
       "    </tr>\n",
       "  </tbody>\n",
       "</table>\n",
       "<p>5 rows × 181 columns</p>\n",
       "</div>"
      ],
      "text/plain": [
       "     compound_id  sample_0001  sample_0002  sample_0003  sample_0004  \\\n",
       "0  compound_0001     0.793620     0.713684     1.073165     1.074977   \n",
       "1  compound_0002     0.743363     0.762673     1.184788     0.959059   \n",
       "2  compound_0003     0.360069     0.716626     0.448938     0.695333   \n",
       "3  compound_0004     0.557168     0.739390     0.609914     0.699223   \n",
       "4  compound_0005     0.886952     0.921852     0.861769     0.893694   \n",
       "\n",
       "   sample_0005  sample_0006  sample_0007  sample_0008  sample_0009  ...  \\\n",
       "0     0.903153     0.792167     1.195207     1.141416     1.274139  ...   \n",
       "1     0.442795     0.685413     1.683612     1.412755     1.128855  ...   \n",
       "2     0.444998     0.935179     1.444924     1.947233     1.182661  ...   \n",
       "3     0.668752     0.899727     1.476924     1.460609     1.116283  ...   \n",
       "4     0.917792     0.979249     1.648081     1.751745     1.266781  ...   \n",
       "\n",
       "   sample_0171  sample_0172  sample_0173  sample_0174  sample_0175  \\\n",
       "0     1.048767     1.094411     1.086644     1.254065     0.745389   \n",
       "1     1.191599     1.161694     0.903035     0.842545     0.561035   \n",
       "2     0.673173     1.030949     0.888554     1.156123     1.901547   \n",
       "3     0.882301     1.007380     0.817482     0.868670     1.164877   \n",
       "4     1.278643     1.313778     1.210348     1.292895     1.224971   \n",
       "\n",
       "   sample_0176  sample_0177  sample_0178  sample_0179  sample_0180  \n",
       "0     0.542919     0.628734     0.555390     0.590216     0.601484  \n",
       "1     0.553931     0.701192     0.576311     0.830575     0.649295  \n",
       "2     2.349338     1.245951     2.362415     1.660026     2.050633  \n",
       "3     0.936585     1.079366     1.029833     0.937246     1.468545  \n",
       "4     0.965326     1.014223     0.869503     1.008572     1.196692  \n",
       "\n",
       "[5 rows x 181 columns]"
      ]
     },
     "execution_count": 5,
     "metadata": {},
     "output_type": "execute_result"
    }
   ],
   "source": [
    "#Dataset principal de metabolitos encontrados \n",
    "data_matrix = pd.read_excel(\"../data/study_data.xlsx\",sheet_name= \"data_matrix\")\n",
    "data_matrix.head()"
   ]
  },
  {
   "cell_type": "code",
   "execution_count": 6,
   "metadata": {},
   "outputs": [
    {
     "data": {
      "text/html": [
       "<div>\n",
       "<style scoped>\n",
       "    .dataframe tbody tr th:only-of-type {\n",
       "        vertical-align: middle;\n",
       "    }\n",
       "\n",
       "    .dataframe tbody tr th {\n",
       "        vertical-align: top;\n",
       "    }\n",
       "\n",
       "    .dataframe thead th {\n",
       "        text-align: right;\n",
       "    }\n",
       "</style>\n",
       "<table border=\"1\" class=\"dataframe\">\n",
       "  <thead>\n",
       "    <tr style=\"text-align: right;\">\n",
       "      <th></th>\n",
       "      <th>compound_id</th>\n",
       "      <th>sample_0001</th>\n",
       "      <th>sample_0002</th>\n",
       "      <th>sample_0003</th>\n",
       "      <th>sample_0004</th>\n",
       "      <th>sample_0005</th>\n",
       "      <th>sample_0006</th>\n",
       "      <th>sample_0007</th>\n",
       "      <th>sample_0008</th>\n",
       "      <th>sample_0009</th>\n",
       "      <th>...</th>\n",
       "      <th>sample_0171</th>\n",
       "      <th>sample_0172</th>\n",
       "      <th>sample_0173</th>\n",
       "      <th>sample_0174</th>\n",
       "      <th>sample_0175</th>\n",
       "      <th>sample_0176</th>\n",
       "      <th>sample_0177</th>\n",
       "      <th>sample_0178</th>\n",
       "      <th>sample_0179</th>\n",
       "      <th>sample_0180</th>\n",
       "    </tr>\n",
       "  </thead>\n",
       "  <tbody>\n",
       "    <tr>\n",
       "      <th>1481</th>\n",
       "      <td>compound_1482</td>\n",
       "      <td>0.690831</td>\n",
       "      <td>0.917702</td>\n",
       "      <td>0.736977</td>\n",
       "      <td>0.750908</td>\n",
       "      <td>0.506770</td>\n",
       "      <td>0.655764</td>\n",
       "      <td>1.532433</td>\n",
       "      <td>1.592221</td>\n",
       "      <td>1.506956</td>\n",
       "      <td>...</td>\n",
       "      <td>1.494171</td>\n",
       "      <td>1.356426</td>\n",
       "      <td>1.364765</td>\n",
       "      <td>1.270024</td>\n",
       "      <td>1.068146</td>\n",
       "      <td>0.908436</td>\n",
       "      <td>0.842580</td>\n",
       "      <td>0.822898</td>\n",
       "      <td>1.028227</td>\n",
       "      <td>0.941312</td>\n",
       "    </tr>\n",
       "    <tr>\n",
       "      <th>1482</th>\n",
       "      <td>compound_1483</td>\n",
       "      <td>0.865679</td>\n",
       "      <td>0.371899</td>\n",
       "      <td>0.919946</td>\n",
       "      <td>0.392298</td>\n",
       "      <td>0.651075</td>\n",
       "      <td>0.631727</td>\n",
       "      <td>1.454727</td>\n",
       "      <td>0.783603</td>\n",
       "      <td>1.684733</td>\n",
       "      <td>...</td>\n",
       "      <td>1.542909</td>\n",
       "      <td>0.911678</td>\n",
       "      <td>1.014928</td>\n",
       "      <td>0.916838</td>\n",
       "      <td>1.313251</td>\n",
       "      <td>0.788290</td>\n",
       "      <td>1.243000</td>\n",
       "      <td>0.200175</td>\n",
       "      <td>0.774527</td>\n",
       "      <td>1.234610</td>\n",
       "    </tr>\n",
       "    <tr>\n",
       "      <th>1483</th>\n",
       "      <td>compound_1484</td>\n",
       "      <td>0.254363</td>\n",
       "      <td>0.244953</td>\n",
       "      <td>0.209242</td>\n",
       "      <td>0.211141</td>\n",
       "      <td>0.679437</td>\n",
       "      <td>0.776275</td>\n",
       "      <td>0.016702</td>\n",
       "      <td>0.175735</td>\n",
       "      <td>0.703014</td>\n",
       "      <td>...</td>\n",
       "      <td>2.026509</td>\n",
       "      <td>1.929681</td>\n",
       "      <td>2.957102</td>\n",
       "      <td>2.175087</td>\n",
       "      <td>1.603923</td>\n",
       "      <td>0.977343</td>\n",
       "      <td>0.815561</td>\n",
       "      <td>0.596484</td>\n",
       "      <td>3.107715</td>\n",
       "      <td>3.388902</td>\n",
       "    </tr>\n",
       "    <tr>\n",
       "      <th>1484</th>\n",
       "      <td>compound_1485</td>\n",
       "      <td>1.369263</td>\n",
       "      <td>1.417962</td>\n",
       "      <td>1.028140</td>\n",
       "      <td>1.126669</td>\n",
       "      <td>0.936695</td>\n",
       "      <td>0.941886</td>\n",
       "      <td>1.353740</td>\n",
       "      <td>1.180336</td>\n",
       "      <td>1.073465</td>\n",
       "      <td>...</td>\n",
       "      <td>0.817718</td>\n",
       "      <td>0.841181</td>\n",
       "      <td>1.009938</td>\n",
       "      <td>1.036077</td>\n",
       "      <td>0.969826</td>\n",
       "      <td>1.131925</td>\n",
       "      <td>1.041996</td>\n",
       "      <td>1.050490</td>\n",
       "      <td>0.967872</td>\n",
       "      <td>0.958265</td>\n",
       "    </tr>\n",
       "    <tr>\n",
       "      <th>1485</th>\n",
       "      <td>compound_1486</td>\n",
       "      <td>0.898327</td>\n",
       "      <td>1.023614</td>\n",
       "      <td>1.718457</td>\n",
       "      <td>2.942013</td>\n",
       "      <td>0.993321</td>\n",
       "      <td>1.099359</td>\n",
       "      <td>1.151924</td>\n",
       "      <td>1.073034</td>\n",
       "      <td>1.118541</td>\n",
       "      <td>...</td>\n",
       "      <td>0.908398</td>\n",
       "      <td>1.006679</td>\n",
       "      <td>0.911629</td>\n",
       "      <td>1.204362</td>\n",
       "      <td>0.869234</td>\n",
       "      <td>0.896456</td>\n",
       "      <td>0.743896</td>\n",
       "      <td>0.731513</td>\n",
       "      <td>0.618127</td>\n",
       "      <td>0.744399</td>\n",
       "    </tr>\n",
       "  </tbody>\n",
       "</table>\n",
       "<p>5 rows × 181 columns</p>\n",
       "</div>"
      ],
      "text/plain": [
       "        compound_id  sample_0001  sample_0002  sample_0003  sample_0004  \\\n",
       "1481  compound_1482     0.690831     0.917702     0.736977     0.750908   \n",
       "1482  compound_1483     0.865679     0.371899     0.919946     0.392298   \n",
       "1483  compound_1484     0.254363     0.244953     0.209242     0.211141   \n",
       "1484  compound_1485     1.369263     1.417962     1.028140     1.126669   \n",
       "1485  compound_1486     0.898327     1.023614     1.718457     2.942013   \n",
       "\n",
       "      sample_0005  sample_0006  sample_0007  sample_0008  sample_0009  ...  \\\n",
       "1481     0.506770     0.655764     1.532433     1.592221     1.506956  ...   \n",
       "1482     0.651075     0.631727     1.454727     0.783603     1.684733  ...   \n",
       "1483     0.679437     0.776275     0.016702     0.175735     0.703014  ...   \n",
       "1484     0.936695     0.941886     1.353740     1.180336     1.073465  ...   \n",
       "1485     0.993321     1.099359     1.151924     1.073034     1.118541  ...   \n",
       "\n",
       "      sample_0171  sample_0172  sample_0173  sample_0174  sample_0175  \\\n",
       "1481     1.494171     1.356426     1.364765     1.270024     1.068146   \n",
       "1482     1.542909     0.911678     1.014928     0.916838     1.313251   \n",
       "1483     2.026509     1.929681     2.957102     2.175087     1.603923   \n",
       "1484     0.817718     0.841181     1.009938     1.036077     0.969826   \n",
       "1485     0.908398     1.006679     0.911629     1.204362     0.869234   \n",
       "\n",
       "      sample_0176  sample_0177  sample_0178  sample_0179  sample_0180  \n",
       "1481     0.908436     0.842580     0.822898     1.028227     0.941312  \n",
       "1482     0.788290     1.243000     0.200175     0.774527     1.234610  \n",
       "1483     0.977343     0.815561     0.596484     3.107715     3.388902  \n",
       "1484     1.131925     1.041996     1.050490     0.967872     0.958265  \n",
       "1485     0.896456     0.743896     0.731513     0.618127     0.744399  \n",
       "\n",
       "[5 rows x 181 columns]"
      ]
     },
     "execution_count": 6,
     "metadata": {},
     "output_type": "execute_result"
    }
   ],
   "source": [
    "data_matrix.tail()"
   ]
  },
  {
   "cell_type": "code",
   "execution_count": 7,
   "metadata": {},
   "outputs": [
    {
     "name": "stdout",
     "output_type": "stream",
     "text": [
      "<class 'pandas.core.frame.DataFrame'>\n",
      "RangeIndex: 1486 entries, 0 to 1485\n",
      "Columns: 181 entries, compound_id to sample_0180\n",
      "dtypes: float64(180), object(1)\n",
      "memory usage: 2.1+ MB\n"
     ]
    }
   ],
   "source": [
    "#información básica del dataset, tipos de datos y columnas\n",
    "data_matrix.info()"
   ]
  },
  {
   "cell_type": "markdown",
   "metadata": {},
   "source": [
    "***Features***\n",
    "\n",
    "    -compound_id: \n",
    "    -Sample_n:"
   ]
  },
  {
   "cell_type": "code",
   "execution_count": 8,
   "metadata": {},
   "outputs": [
    {
     "name": "stdout",
     "output_type": "stream",
     "text": [
      "El dataset tiene 1486 Filas\n",
      "El dataset tiene 181 Columnas\n"
     ]
    }
   ],
   "source": [
    "# Información del tamaño del dataset\n",
    "print(\"El dataset tiene {0} Filas\".format(data_matrix.shape[0]))\n",
    "print(\"El dataset tiene {0} Columnas\".format(data_matrix.shape[1]))"
   ]
  },
  {
   "cell_type": "code",
   "execution_count": 9,
   "metadata": {},
   "outputs": [
    {
     "data": {
      "text/html": [
       "<div>\n",
       "<style scoped>\n",
       "    .dataframe tbody tr th:only-of-type {\n",
       "        vertical-align: middle;\n",
       "    }\n",
       "\n",
       "    .dataframe tbody tr th {\n",
       "        vertical-align: top;\n",
       "    }\n",
       "\n",
       "    .dataframe thead th {\n",
       "        text-align: right;\n",
       "    }\n",
       "</style>\n",
       "<table border=\"1\" class=\"dataframe\">\n",
       "  <thead>\n",
       "    <tr style=\"text-align: right;\">\n",
       "      <th></th>\n",
       "      <th>compound_id</th>\n",
       "      <th>sample_0001</th>\n",
       "      <th>sample_0002</th>\n",
       "      <th>sample_0003</th>\n",
       "      <th>sample_0004</th>\n",
       "      <th>sample_0005</th>\n",
       "      <th>sample_0006</th>\n",
       "      <th>sample_0007</th>\n",
       "      <th>sample_0008</th>\n",
       "      <th>sample_0009</th>\n",
       "      <th>...</th>\n",
       "      <th>sample_0171</th>\n",
       "      <th>sample_0172</th>\n",
       "      <th>sample_0173</th>\n",
       "      <th>sample_0174</th>\n",
       "      <th>sample_0175</th>\n",
       "      <th>sample_0176</th>\n",
       "      <th>sample_0177</th>\n",
       "      <th>sample_0178</th>\n",
       "      <th>sample_0179</th>\n",
       "      <th>sample_0180</th>\n",
       "    </tr>\n",
       "  </thead>\n",
       "  <tbody>\n",
       "    <tr>\n",
       "      <th>0</th>\n",
       "      <td>False</td>\n",
       "      <td>False</td>\n",
       "      <td>False</td>\n",
       "      <td>False</td>\n",
       "      <td>False</td>\n",
       "      <td>False</td>\n",
       "      <td>False</td>\n",
       "      <td>False</td>\n",
       "      <td>False</td>\n",
       "      <td>False</td>\n",
       "      <td>...</td>\n",
       "      <td>False</td>\n",
       "      <td>False</td>\n",
       "      <td>False</td>\n",
       "      <td>False</td>\n",
       "      <td>False</td>\n",
       "      <td>False</td>\n",
       "      <td>False</td>\n",
       "      <td>False</td>\n",
       "      <td>False</td>\n",
       "      <td>False</td>\n",
       "    </tr>\n",
       "    <tr>\n",
       "      <th>1</th>\n",
       "      <td>False</td>\n",
       "      <td>False</td>\n",
       "      <td>False</td>\n",
       "      <td>False</td>\n",
       "      <td>False</td>\n",
       "      <td>False</td>\n",
       "      <td>False</td>\n",
       "      <td>False</td>\n",
       "      <td>False</td>\n",
       "      <td>False</td>\n",
       "      <td>...</td>\n",
       "      <td>False</td>\n",
       "      <td>False</td>\n",
       "      <td>False</td>\n",
       "      <td>False</td>\n",
       "      <td>False</td>\n",
       "      <td>False</td>\n",
       "      <td>False</td>\n",
       "      <td>False</td>\n",
       "      <td>False</td>\n",
       "      <td>False</td>\n",
       "    </tr>\n",
       "    <tr>\n",
       "      <th>2</th>\n",
       "      <td>False</td>\n",
       "      <td>False</td>\n",
       "      <td>False</td>\n",
       "      <td>False</td>\n",
       "      <td>False</td>\n",
       "      <td>False</td>\n",
       "      <td>False</td>\n",
       "      <td>False</td>\n",
       "      <td>False</td>\n",
       "      <td>False</td>\n",
       "      <td>...</td>\n",
       "      <td>False</td>\n",
       "      <td>False</td>\n",
       "      <td>False</td>\n",
       "      <td>False</td>\n",
       "      <td>False</td>\n",
       "      <td>False</td>\n",
       "      <td>False</td>\n",
       "      <td>False</td>\n",
       "      <td>False</td>\n",
       "      <td>False</td>\n",
       "    </tr>\n",
       "    <tr>\n",
       "      <th>3</th>\n",
       "      <td>False</td>\n",
       "      <td>False</td>\n",
       "      <td>False</td>\n",
       "      <td>False</td>\n",
       "      <td>False</td>\n",
       "      <td>False</td>\n",
       "      <td>False</td>\n",
       "      <td>False</td>\n",
       "      <td>False</td>\n",
       "      <td>False</td>\n",
       "      <td>...</td>\n",
       "      <td>False</td>\n",
       "      <td>False</td>\n",
       "      <td>False</td>\n",
       "      <td>False</td>\n",
       "      <td>False</td>\n",
       "      <td>False</td>\n",
       "      <td>False</td>\n",
       "      <td>False</td>\n",
       "      <td>False</td>\n",
       "      <td>False</td>\n",
       "    </tr>\n",
       "    <tr>\n",
       "      <th>4</th>\n",
       "      <td>False</td>\n",
       "      <td>False</td>\n",
       "      <td>False</td>\n",
       "      <td>False</td>\n",
       "      <td>False</td>\n",
       "      <td>False</td>\n",
       "      <td>False</td>\n",
       "      <td>False</td>\n",
       "      <td>False</td>\n",
       "      <td>False</td>\n",
       "      <td>...</td>\n",
       "      <td>False</td>\n",
       "      <td>False</td>\n",
       "      <td>False</td>\n",
       "      <td>False</td>\n",
       "      <td>False</td>\n",
       "      <td>False</td>\n",
       "      <td>False</td>\n",
       "      <td>False</td>\n",
       "      <td>False</td>\n",
       "      <td>False</td>\n",
       "    </tr>\n",
       "    <tr>\n",
       "      <th>...</th>\n",
       "      <td>...</td>\n",
       "      <td>...</td>\n",
       "      <td>...</td>\n",
       "      <td>...</td>\n",
       "      <td>...</td>\n",
       "      <td>...</td>\n",
       "      <td>...</td>\n",
       "      <td>...</td>\n",
       "      <td>...</td>\n",
       "      <td>...</td>\n",
       "      <td>...</td>\n",
       "      <td>...</td>\n",
       "      <td>...</td>\n",
       "      <td>...</td>\n",
       "      <td>...</td>\n",
       "      <td>...</td>\n",
       "      <td>...</td>\n",
       "      <td>...</td>\n",
       "      <td>...</td>\n",
       "      <td>...</td>\n",
       "      <td>...</td>\n",
       "    </tr>\n",
       "    <tr>\n",
       "      <th>1481</th>\n",
       "      <td>False</td>\n",
       "      <td>False</td>\n",
       "      <td>False</td>\n",
       "      <td>False</td>\n",
       "      <td>False</td>\n",
       "      <td>False</td>\n",
       "      <td>False</td>\n",
       "      <td>False</td>\n",
       "      <td>False</td>\n",
       "      <td>False</td>\n",
       "      <td>...</td>\n",
       "      <td>False</td>\n",
       "      <td>False</td>\n",
       "      <td>False</td>\n",
       "      <td>False</td>\n",
       "      <td>False</td>\n",
       "      <td>False</td>\n",
       "      <td>False</td>\n",
       "      <td>False</td>\n",
       "      <td>False</td>\n",
       "      <td>False</td>\n",
       "    </tr>\n",
       "    <tr>\n",
       "      <th>1482</th>\n",
       "      <td>False</td>\n",
       "      <td>False</td>\n",
       "      <td>False</td>\n",
       "      <td>False</td>\n",
       "      <td>False</td>\n",
       "      <td>False</td>\n",
       "      <td>False</td>\n",
       "      <td>False</td>\n",
       "      <td>False</td>\n",
       "      <td>False</td>\n",
       "      <td>...</td>\n",
       "      <td>False</td>\n",
       "      <td>False</td>\n",
       "      <td>False</td>\n",
       "      <td>False</td>\n",
       "      <td>False</td>\n",
       "      <td>False</td>\n",
       "      <td>False</td>\n",
       "      <td>False</td>\n",
       "      <td>False</td>\n",
       "      <td>False</td>\n",
       "    </tr>\n",
       "    <tr>\n",
       "      <th>1483</th>\n",
       "      <td>False</td>\n",
       "      <td>False</td>\n",
       "      <td>False</td>\n",
       "      <td>False</td>\n",
       "      <td>False</td>\n",
       "      <td>False</td>\n",
       "      <td>False</td>\n",
       "      <td>False</td>\n",
       "      <td>False</td>\n",
       "      <td>False</td>\n",
       "      <td>...</td>\n",
       "      <td>False</td>\n",
       "      <td>False</td>\n",
       "      <td>False</td>\n",
       "      <td>False</td>\n",
       "      <td>False</td>\n",
       "      <td>False</td>\n",
       "      <td>False</td>\n",
       "      <td>False</td>\n",
       "      <td>False</td>\n",
       "      <td>False</td>\n",
       "    </tr>\n",
       "    <tr>\n",
       "      <th>1484</th>\n",
       "      <td>False</td>\n",
       "      <td>False</td>\n",
       "      <td>False</td>\n",
       "      <td>False</td>\n",
       "      <td>False</td>\n",
       "      <td>False</td>\n",
       "      <td>False</td>\n",
       "      <td>False</td>\n",
       "      <td>False</td>\n",
       "      <td>False</td>\n",
       "      <td>...</td>\n",
       "      <td>False</td>\n",
       "      <td>False</td>\n",
       "      <td>False</td>\n",
       "      <td>False</td>\n",
       "      <td>False</td>\n",
       "      <td>False</td>\n",
       "      <td>False</td>\n",
       "      <td>False</td>\n",
       "      <td>False</td>\n",
       "      <td>False</td>\n",
       "    </tr>\n",
       "    <tr>\n",
       "      <th>1485</th>\n",
       "      <td>False</td>\n",
       "      <td>False</td>\n",
       "      <td>False</td>\n",
       "      <td>False</td>\n",
       "      <td>False</td>\n",
       "      <td>False</td>\n",
       "      <td>False</td>\n",
       "      <td>False</td>\n",
       "      <td>False</td>\n",
       "      <td>False</td>\n",
       "      <td>...</td>\n",
       "      <td>False</td>\n",
       "      <td>False</td>\n",
       "      <td>False</td>\n",
       "      <td>False</td>\n",
       "      <td>False</td>\n",
       "      <td>False</td>\n",
       "      <td>False</td>\n",
       "      <td>False</td>\n",
       "      <td>False</td>\n",
       "      <td>False</td>\n",
       "    </tr>\n",
       "  </tbody>\n",
       "</table>\n",
       "<p>1486 rows × 181 columns</p>\n",
       "</div>"
      ],
      "text/plain": [
       "      compound_id  sample_0001  sample_0002  sample_0003  sample_0004  \\\n",
       "0           False        False        False        False        False   \n",
       "1           False        False        False        False        False   \n",
       "2           False        False        False        False        False   \n",
       "3           False        False        False        False        False   \n",
       "4           False        False        False        False        False   \n",
       "...           ...          ...          ...          ...          ...   \n",
       "1481        False        False        False        False        False   \n",
       "1482        False        False        False        False        False   \n",
       "1483        False        False        False        False        False   \n",
       "1484        False        False        False        False        False   \n",
       "1485        False        False        False        False        False   \n",
       "\n",
       "      sample_0005  sample_0006  sample_0007  sample_0008  sample_0009  ...  \\\n",
       "0           False        False        False        False        False  ...   \n",
       "1           False        False        False        False        False  ...   \n",
       "2           False        False        False        False        False  ...   \n",
       "3           False        False        False        False        False  ...   \n",
       "4           False        False        False        False        False  ...   \n",
       "...           ...          ...          ...          ...          ...  ...   \n",
       "1481        False        False        False        False        False  ...   \n",
       "1482        False        False        False        False        False  ...   \n",
       "1483        False        False        False        False        False  ...   \n",
       "1484        False        False        False        False        False  ...   \n",
       "1485        False        False        False        False        False  ...   \n",
       "\n",
       "      sample_0171  sample_0172  sample_0173  sample_0174  sample_0175  \\\n",
       "0           False        False        False        False        False   \n",
       "1           False        False        False        False        False   \n",
       "2           False        False        False        False        False   \n",
       "3           False        False        False        False        False   \n",
       "4           False        False        False        False        False   \n",
       "...           ...          ...          ...          ...          ...   \n",
       "1481        False        False        False        False        False   \n",
       "1482        False        False        False        False        False   \n",
       "1483        False        False        False        False        False   \n",
       "1484        False        False        False        False        False   \n",
       "1485        False        False        False        False        False   \n",
       "\n",
       "      sample_0176  sample_0177  sample_0178  sample_0179  sample_0180  \n",
       "0           False        False        False        False        False  \n",
       "1           False        False        False        False        False  \n",
       "2           False        False        False        False        False  \n",
       "3           False        False        False        False        False  \n",
       "4           False        False        False        False        False  \n",
       "...           ...          ...          ...          ...          ...  \n",
       "1481        False        False        False        False        False  \n",
       "1482        False        False        False        False        False  \n",
       "1483        False        False        False        False        False  \n",
       "1484        False        False        False        False        False  \n",
       "1485        False        False        False        False        False  \n",
       "\n",
       "[1486 rows x 181 columns]"
      ]
     },
     "execution_count": 9,
     "metadata": {},
     "output_type": "execute_result"
    }
   ],
   "source": [
    "#Revisar valores nulos\n",
    "data_matrix.isna()"
   ]
  },
  {
   "cell_type": "code",
   "execution_count": 10,
   "metadata": {},
   "outputs": [
    {
     "data": {
      "text/plain": [
       "compound_id    0\n",
       "sample_0001    0\n",
       "sample_0002    0\n",
       "sample_0003    0\n",
       "sample_0004    0\n",
       "              ..\n",
       "sample_0176    0\n",
       "sample_0177    0\n",
       "sample_0178    0\n",
       "sample_0179    0\n",
       "sample_0180    0\n",
       "Length: 181, dtype: int64"
      ]
     },
     "execution_count": 10,
     "metadata": {},
     "output_type": "execute_result"
    }
   ],
   "source": [
    "np.sum(data_matrix.isna())"
   ]
  },
  {
   "cell_type": "markdown",
   "metadata": {},
   "source": [
    "### 2.3 Dataset Hoja 3   -----> Información identificacion/clase de los compuestos"
   ]
  },
  {
   "cell_type": "code",
   "execution_count": 11,
   "metadata": {},
   "outputs": [
    {
     "data": {
      "text/html": [
       "<div>\n",
       "<style scoped>\n",
       "    .dataframe tbody tr th:only-of-type {\n",
       "        vertical-align: middle;\n",
       "    }\n",
       "\n",
       "    .dataframe tbody tr th {\n",
       "        vertical-align: top;\n",
       "    }\n",
       "\n",
       "    .dataframe thead th {\n",
       "        text-align: right;\n",
       "    }\n",
       "</style>\n",
       "<table border=\"1\" class=\"dataframe\">\n",
       "  <thead>\n",
       "    <tr style=\"text-align: right;\">\n",
       "      <th></th>\n",
       "      <th>compound_id</th>\n",
       "      <th>PATHWAY_SORTORDER</th>\n",
       "      <th>BIOCHEMICAL</th>\n",
       "      <th>SUPER_PATHWAY</th>\n",
       "      <th>SUB_PATHWAY</th>\n",
       "      <th>COMP_ID</th>\n",
       "      <th>PLATFORM</th>\n",
       "      <th>RI</th>\n",
       "      <th>MASS</th>\n",
       "      <th>PUBCHEM</th>\n",
       "      <th>KEGG</th>\n",
       "      <th>HMDB_ID</th>\n",
       "    </tr>\n",
       "  </thead>\n",
       "  <tbody>\n",
       "    <tr>\n",
       "      <th>0</th>\n",
       "      <td>compound_0001</td>\n",
       "      <td>1</td>\n",
       "      <td>glycine</td>\n",
       "      <td>Amino Acid</td>\n",
       "      <td>Glycine, Serine and Threonine Metabolism</td>\n",
       "      <td>58</td>\n",
       "      <td>LC/MS Pos Early</td>\n",
       "      <td>1375</td>\n",
       "      <td>76.0393</td>\n",
       "      <td>750</td>\n",
       "      <td>C00037</td>\n",
       "      <td>HMDB00123</td>\n",
       "    </tr>\n",
       "    <tr>\n",
       "      <th>1</th>\n",
       "      <td>compound_0002</td>\n",
       "      <td>2</td>\n",
       "      <td>N-acetylglycine</td>\n",
       "      <td>Amino Acid</td>\n",
       "      <td>Glycine, Serine and Threonine Metabolism</td>\n",
       "      <td>27710</td>\n",
       "      <td>LC/MS Neg</td>\n",
       "      <td>731</td>\n",
       "      <td>116.0353</td>\n",
       "      <td>10972</td>\n",
       "      <td>NaN</td>\n",
       "      <td>HMDB00532</td>\n",
       "    </tr>\n",
       "    <tr>\n",
       "      <th>2</th>\n",
       "      <td>compound_0003</td>\n",
       "      <td>4</td>\n",
       "      <td>sarcosine</td>\n",
       "      <td>Amino Acid</td>\n",
       "      <td>Glycine, Serine and Threonine Metabolism</td>\n",
       "      <td>1516</td>\n",
       "      <td>LC/MS Pos Early</td>\n",
       "      <td>1280</td>\n",
       "      <td>90.055</td>\n",
       "      <td>1088</td>\n",
       "      <td>C00213</td>\n",
       "      <td>HMDB00271</td>\n",
       "    </tr>\n",
       "    <tr>\n",
       "      <th>3</th>\n",
       "      <td>compound_0004</td>\n",
       "      <td>5</td>\n",
       "      <td>dimethylglycine</td>\n",
       "      <td>Amino Acid</td>\n",
       "      <td>Glycine, Serine and Threonine Metabolism</td>\n",
       "      <td>5086</td>\n",
       "      <td>LC/MS Pos Early</td>\n",
       "      <td>1104</td>\n",
       "      <td>104.0706</td>\n",
       "      <td>673</td>\n",
       "      <td>C01026</td>\n",
       "      <td>HMDB00092</td>\n",
       "    </tr>\n",
       "    <tr>\n",
       "      <th>4</th>\n",
       "      <td>compound_0005</td>\n",
       "      <td>6</td>\n",
       "      <td>betaine</td>\n",
       "      <td>Amino Acid</td>\n",
       "      <td>Glycine, Serine and Threonine Metabolism</td>\n",
       "      <td>3141</td>\n",
       "      <td>LC/MS Pos Early</td>\n",
       "      <td>1064</td>\n",
       "      <td>118.0863</td>\n",
       "      <td>247</td>\n",
       "      <td>C00719</td>\n",
       "      <td>HMDB00043</td>\n",
       "    </tr>\n",
       "  </tbody>\n",
       "</table>\n",
       "</div>"
      ],
      "text/plain": [
       "     compound_id PATHWAY_SORTORDER      BIOCHEMICAL SUPER_PATHWAY  \\\n",
       "0  compound_0001                 1          glycine    Amino Acid   \n",
       "1  compound_0002                 2  N-acetylglycine    Amino Acid   \n",
       "2  compound_0003                 4        sarcosine    Amino Acid   \n",
       "3  compound_0004                 5  dimethylglycine    Amino Acid   \n",
       "4  compound_0005                 6          betaine    Amino Acid   \n",
       "\n",
       "                                SUB_PATHWAY  COMP_ID         PLATFORM    RI  \\\n",
       "0  Glycine, Serine and Threonine Metabolism       58  LC/MS Pos Early  1375   \n",
       "1  Glycine, Serine and Threonine Metabolism    27710        LC/MS Neg   731   \n",
       "2  Glycine, Serine and Threonine Metabolism     1516  LC/MS Pos Early  1280   \n",
       "3  Glycine, Serine and Threonine Metabolism     5086  LC/MS Pos Early  1104   \n",
       "4  Glycine, Serine and Threonine Metabolism     3141  LC/MS Pos Early  1064   \n",
       "\n",
       "       MASS PUBCHEM    KEGG    HMDB_ID  \n",
       "0   76.0393     750  C00037  HMDB00123  \n",
       "1  116.0353   10972     NaN  HMDB00532  \n",
       "2    90.055    1088  C00213  HMDB00271  \n",
       "3  104.0706     673  C01026  HMDB00092  \n",
       "4  118.0863     247  C00719  HMDB00043  "
      ]
     },
     "execution_count": 11,
     "metadata": {},
     "output_type": "execute_result"
    }
   ],
   "source": [
    "#Dataset información identificación/clase de los compuestos \n",
    "data_dictionary = pd.read_excel(\"../data/study_data.xlsx\",sheet_name= \"data_dictionary\" )\n",
    "data_dictionary.head()"
   ]
  },
  {
   "cell_type": "code",
   "execution_count": 12,
   "metadata": {},
   "outputs": [
    {
     "data": {
      "text/html": [
       "<div>\n",
       "<style scoped>\n",
       "    .dataframe tbody tr th:only-of-type {\n",
       "        vertical-align: middle;\n",
       "    }\n",
       "\n",
       "    .dataframe tbody tr th {\n",
       "        vertical-align: top;\n",
       "    }\n",
       "\n",
       "    .dataframe thead th {\n",
       "        text-align: right;\n",
       "    }\n",
       "</style>\n",
       "<table border=\"1\" class=\"dataframe\">\n",
       "  <thead>\n",
       "    <tr style=\"text-align: right;\">\n",
       "      <th></th>\n",
       "      <th>compound_id</th>\n",
       "      <th>PATHWAY_SORTORDER</th>\n",
       "      <th>BIOCHEMICAL</th>\n",
       "      <th>SUPER_PATHWAY</th>\n",
       "      <th>SUB_PATHWAY</th>\n",
       "      <th>COMP_ID</th>\n",
       "      <th>PLATFORM</th>\n",
       "      <th>RI</th>\n",
       "      <th>MASS</th>\n",
       "      <th>PUBCHEM</th>\n",
       "      <th>KEGG</th>\n",
       "      <th>HMDB_ID</th>\n",
       "    </tr>\n",
       "  </thead>\n",
       "  <tbody>\n",
       "    <tr>\n",
       "      <th>1481</th>\n",
       "      <td>compound_1482</td>\n",
       "      <td>.</td>\n",
       "      <td>X - 24699</td>\n",
       "      <td>.</td>\n",
       "      <td>.</td>\n",
       "      <td>53127</td>\n",
       "      <td>LC/MS Pos Early</td>\n",
       "      <td>2402.3</td>\n",
       "      <td>241.1544</td>\n",
       "      <td>NaN</td>\n",
       "      <td>NaN</td>\n",
       "      <td>NaN</td>\n",
       "    </tr>\n",
       "    <tr>\n",
       "      <th>1482</th>\n",
       "      <td>compound_1483</td>\n",
       "      <td>.</td>\n",
       "      <td>X - 24728</td>\n",
       "      <td>.</td>\n",
       "      <td>.</td>\n",
       "      <td>53157</td>\n",
       "      <td>LC/MS Pos Early</td>\n",
       "      <td>1431</td>\n",
       "      <td>238.0376</td>\n",
       "      <td>NaN</td>\n",
       "      <td>NaN</td>\n",
       "      <td>NaN</td>\n",
       "    </tr>\n",
       "    <tr>\n",
       "      <th>1483</th>\n",
       "      <td>compound_1484</td>\n",
       "      <td>.</td>\n",
       "      <td>X - 24738</td>\n",
       "      <td>.</td>\n",
       "      <td>.</td>\n",
       "      <td>53214</td>\n",
       "      <td>LC/MS Pos Early</td>\n",
       "      <td>1051</td>\n",
       "      <td>160.0967</td>\n",
       "      <td>NaN</td>\n",
       "      <td>NaN</td>\n",
       "      <td>NaN</td>\n",
       "    </tr>\n",
       "    <tr>\n",
       "      <th>1484</th>\n",
       "      <td>compound_1485</td>\n",
       "      <td>.</td>\n",
       "      <td>X - 24748</td>\n",
       "      <td>.</td>\n",
       "      <td>.</td>\n",
       "      <td>53267</td>\n",
       "      <td>LC/MS Neg</td>\n",
       "      <td>4596</td>\n",
       "      <td>321.1469</td>\n",
       "      <td>NaN</td>\n",
       "      <td>NaN</td>\n",
       "      <td>NaN</td>\n",
       "    </tr>\n",
       "    <tr>\n",
       "      <th>1485</th>\n",
       "      <td>compound_1486</td>\n",
       "      <td>.</td>\n",
       "      <td>X - 24766</td>\n",
       "      <td>.</td>\n",
       "      <td>.</td>\n",
       "      <td>54704</td>\n",
       "      <td>LC/MS Pos Early</td>\n",
       "      <td>2068.7</td>\n",
       "      <td>115.0866</td>\n",
       "      <td>NaN</td>\n",
       "      <td>NaN</td>\n",
       "      <td>NaN</td>\n",
       "    </tr>\n",
       "  </tbody>\n",
       "</table>\n",
       "</div>"
      ],
      "text/plain": [
       "        compound_id PATHWAY_SORTORDER BIOCHEMICAL SUPER_PATHWAY SUB_PATHWAY  \\\n",
       "1481  compound_1482                 .   X - 24699             .           .   \n",
       "1482  compound_1483                 .   X - 24728             .           .   \n",
       "1483  compound_1484                 .   X - 24738             .           .   \n",
       "1484  compound_1485                 .   X - 24748             .           .   \n",
       "1485  compound_1486                 .   X - 24766             .           .   \n",
       "\n",
       "      COMP_ID         PLATFORM      RI      MASS PUBCHEM KEGG HMDB_ID  \n",
       "1481    53127  LC/MS Pos Early  2402.3  241.1544     NaN  NaN     NaN  \n",
       "1482    53157  LC/MS Pos Early    1431  238.0376     NaN  NaN     NaN  \n",
       "1483    53214  LC/MS Pos Early    1051  160.0967     NaN  NaN     NaN  \n",
       "1484    53267        LC/MS Neg    4596  321.1469     NaN  NaN     NaN  \n",
       "1485    54704  LC/MS Pos Early  2068.7  115.0866     NaN  NaN     NaN  "
      ]
     },
     "execution_count": 12,
     "metadata": {},
     "output_type": "execute_result"
    }
   ],
   "source": [
    "data_dictionary.tail()"
   ]
  },
  {
   "cell_type": "code",
   "execution_count": 13,
   "metadata": {},
   "outputs": [
    {
     "data": {
      "text/plain": [
       "Index(['compound_id', 'PATHWAY_SORTORDER', 'BIOCHEMICAL', 'SUPER_PATHWAY',\n",
       "       'SUB_PATHWAY', 'COMP_ID', 'PLATFORM', 'RI', 'MASS', 'PUBCHEM', 'KEGG',\n",
       "       'HMDB_ID'],\n",
       "      dtype='object')"
      ]
     },
     "execution_count": 13,
     "metadata": {},
     "output_type": "execute_result"
    }
   ],
   "source": [
    "data_dictionary.columns"
   ]
  },
  {
   "cell_type": "code",
   "execution_count": 14,
   "metadata": {},
   "outputs": [
    {
     "name": "stdout",
     "output_type": "stream",
     "text": [
      "<class 'pandas.core.frame.DataFrame'>\n",
      "RangeIndex: 1486 entries, 0 to 1485\n",
      "Data columns (total 12 columns):\n",
      " #   Column             Non-Null Count  Dtype \n",
      "---  ------             --------------  ----- \n",
      " 0   compound_id        1486 non-null   object\n",
      " 1   PATHWAY_SORTORDER  1486 non-null   object\n",
      " 2   BIOCHEMICAL        1486 non-null   object\n",
      " 3   SUPER_PATHWAY      1486 non-null   object\n",
      " 4   SUB_PATHWAY        1486 non-null   object\n",
      " 5   COMP_ID            1486 non-null   int64 \n",
      " 6   PLATFORM           1486 non-null   object\n",
      " 7   RI                 1486 non-null   object\n",
      " 8   MASS               1486 non-null   object\n",
      " 9   PUBCHEM            403 non-null    object\n",
      " 10  KEGG               268 non-null    object\n",
      " 11  HMDB_ID            358 non-null    object\n",
      "dtypes: int64(1), object(11)\n",
      "memory usage: 139.4+ KB\n"
     ]
    }
   ],
   "source": [
    "#información básica del dataset, tipos de datos y columnas\n",
    "data_dictionary.info()"
   ]
  },
  {
   "cell_type": "markdown",
   "metadata": {},
   "source": [
    "# 3. Obtención de gráficos"
   ]
  },
  {
   "cell_type": "markdown",
   "metadata": {},
   "source": [
    "### 3.1 Dataset Hoja 1 ---> Informacion general de estudio"
   ]
  },
  {
   "cell_type": "code",
   "execution_count": 15,
   "metadata": {},
   "outputs": [
    {
     "data": {
      "text/plain": [
       "healthy subjects     60\n",
       "prediabetic          60\n",
       "diabetic subjects    60\n",
       "Name: HEALTH_STATUS, dtype: int64"
      ]
     },
     "execution_count": 15,
     "metadata": {},
     "output_type": "execute_result"
    }
   ],
   "source": [
    "# Grupos de estudio\n",
    "\n",
    "Grupos_de_estudio= sample_metadata['HEALTH_STATUS'].value_counts()\n",
    "Grupos_de_estudio"
   ]
  },
  {
   "cell_type": "code",
   "execution_count": 16,
   "metadata": {},
   "outputs": [
    {
     "data": {
      "text/plain": [
       "['healthy subjects', 'prediabetic', 'diabetic subjects']"
      ]
     },
     "execution_count": 16,
     "metadata": {},
     "output_type": "execute_result"
    }
   ],
   "source": [
    "#Pasar los datos a formato lista para después hacer el gráfico \n",
    "Diagnostico= sample_metadata['HEALTH_STATUS'].unique().tolist()\n",
    "Diagnostico"
   ]
  },
  {
   "cell_type": "code",
   "execution_count": 17,
   "metadata": {},
   "outputs": [
    {
     "data": {
      "image/png": "[encoded data removed]",
      "text/plain": [
       "<Figure size 800x500 with 1 Axes>"
      ]
     },
     "metadata": {
      "needs_background": "light"
     },
     "output_type": "display_data"
    }
   ],
   "source": [
    "##Gráfico para representar el número de participantes en el estudio \n",
    "plt.figure(figsize=(8,5), dpi=100)\n",
    "plt.bar(Diagnostico, Grupos_de_estudio)\n",
    "plt.show()"
   ]
  },
  {
   "cell_type": "code",
   "execution_count": 18,
   "metadata": {},
   "outputs": [
    {
     "data": {
      "image/png": "[encoded data removed]",
      "text/plain": [
       "<Figure size 576x576 with 1 Axes>"
      ]
     },
     "metadata": {},
     "output_type": "display_data"
    }
   ],
   "source": [
    "#Gráfico para representar el número de participantes en el estudio  (Final para presentación)\n",
    "muestras_de_estudio = sample_metadata['HEALTH_STATUS'].value_counts()\n",
    " \n",
    "# Crear circulo de dentro\n",
    "my_circle=plt.Circle( (0,0), 0.5, color='white')   \n",
    "#crear el pai\n",
    "plt.figure(figsize=(8,8))\n",
    "plt.pie(muestras_de_estudio.values,          \n",
    "        labels=muestras_de_estudio.index,\n",
    "        autopct='%1.2f%%')   \n",
    "p=plt.gcf()\n",
    "p.gca().add_artist(my_circle)\n",
    "plt.show()"
   ]
  },
  {
   "cell_type": "code",
   "execution_count": 19,
   "metadata": {},
   "outputs": [
    {
     "data": {
      "image/png": "[encoded data removed]",
      "text/plain": [
       "<Figure size 864x576 with 1 Axes>"
      ]
     },
     "metadata": {
      "needs_background": "light"
     },
     "output_type": "display_data"
    }
   ],
   "source": [
    "#Evaluar la relación del BMI y hba1c de cada grupo mediante un scatter       #Hipotésis 1\n",
    "plt.figure(figsize=(12,8))\n",
    "sns.scatterplot(x = sample_metadata[\"BMI\"],\n",
    "y = sample_metadata[\"hba1c\"],\n",
    "s= 200,   #tamaño de los circulos\n",
    "hue = sample_metadata[\"HEALTH_STATUS\"]);"
   ]
  },
  {
   "cell_type": "code",
   "execution_count": null,
   "metadata": {},
   "outputs": [],
   "source": []
  },
  {
   "cell_type": "code",
   "execution_count": 20,
   "metadata": {},
   "outputs": [
    {
     "data": {
      "application/vnd.plotly.v1+json": {
       "config": {
        "linkText": "Export to plot.ly",
        "plotlyServerURL": "https://plot.ly",
        "showLink": false
       },
       "data": [
        {
         "marker": {
          "color": "rgba(0, 40, 70, 20)"
         },
         "name": "BMI",
         "type": "bar",
         "x": [
          "healthy subjects",
          "healthy subjects",
          "healthy subjects",
          "healthy subjects",
          "healthy subjects",
          "healthy subjects",
          "healthy subjects",
          "healthy subjects",
          "healthy subjects",
          "healthy subjects",
          "healthy subjects",
          "healthy subjects",
          "healthy subjects",
          "healthy subjects",
          "healthy subjects",
          "healthy subjects",
          "healthy subjects",
          "healthy subjects",
          "healthy subjects",
          "healthy subjects",
          "healthy subjects",
          "healthy subjects",
          "healthy subjects",
          "healthy subjects",
          "healthy subjects",
          "healthy subjects",
          "healthy subjects",
          "healthy subjects",
          "healthy subjects",
          "healthy subjects",
          "healthy subjects",
          "healthy subjects",
          "healthy subjects",
          "healthy subjects",
          "healthy subjects",
          "healthy subjects",
          "healthy subjects",
          "healthy subjects",
          "healthy subjects",
          "healthy subjects",
          "healthy subjects",
          "healthy subjects",
          "healthy subjects",
          "healthy subjects",
          "healthy subjects",
          "healthy subjects",
          "healthy subjects",
          "healthy subjects",
          "healthy subjects",
          "healthy subjects",
          "healthy subjects",
          "healthy subjects",
          "healthy subjects",
          "healthy subjects",
          "healthy subjects",
          "healthy subjects",
          "healthy subjects",
          "healthy subjects",
          "healthy subjects",
          "healthy subjects",
          "prediabetic",
          "prediabetic",
          "prediabetic",
          "prediabetic",
          "prediabetic",
          "prediabetic",
          "prediabetic",
          "prediabetic",
          "prediabetic",
          "prediabetic",
          "prediabetic",
          "prediabetic",
          "prediabetic",
          "prediabetic",
          "prediabetic",
          "prediabetic",
          "prediabetic",
          "prediabetic",
          "prediabetic",
          "prediabetic",
          "prediabetic",
          "prediabetic",
          "prediabetic",
          "prediabetic",
          "prediabetic",
          "prediabetic",
          "prediabetic",
          "prediabetic",
          "prediabetic",
          "prediabetic",
          "prediabetic",
          "prediabetic",
          "prediabetic",
          "prediabetic",
          "prediabetic",
          "prediabetic",
          "prediabetic",
          "prediabetic",
          "prediabetic",
          "prediabetic",
          "prediabetic",
          "prediabetic",
          "prediabetic",
          "prediabetic",
          "prediabetic",
          "prediabetic",
          "prediabetic",
          "prediabetic",
          "prediabetic",
          "prediabetic",
          "prediabetic",
          "prediabetic",
          "prediabetic",
          "prediabetic",
          "prediabetic",
          "prediabetic",
          "prediabetic",
          "prediabetic",
          "prediabetic",
          "prediabetic",
          "diabetic subjects",
          "diabetic subjects",
          "diabetic subjects",
          "diabetic subjects",
          "diabetic subjects",
          "diabetic subjects",
          "diabetic subjects",
          "diabetic subjects",
          "diabetic subjects",
          "diabetic subjects",
          "diabetic subjects",
          "diabetic subjects",
          "diabetic subjects",
          "diabetic subjects",
          "diabetic subjects",
          "diabetic subjects",
          "diabetic subjects",
          "diabetic subjects",
          "diabetic subjects",
          "diabetic subjects",
          "diabetic subjects",
          "diabetic subjects",
          "diabetic subjects",
          "diabetic subjects",
          "diabetic subjects",
          "diabetic subjects",
          "diabetic subjects",
          "diabetic subjects",
          "diabetic subjects",
          "diabetic subjects",
          "diabetic subjects",
          "diabetic subjects",
          "diabetic subjects",
          "diabetic subjects",
          "diabetic subjects",
          "diabetic subjects",
          "diabetic subjects",
          "diabetic subjects",
          "diabetic subjects",
          "diabetic subjects",
          "diabetic subjects",
          "diabetic subjects",
          "diabetic subjects",
          "diabetic subjects",
          "diabetic subjects",
          "diabetic subjects",
          "diabetic subjects",
          "diabetic subjects",
          "diabetic subjects",
          "diabetic subjects",
          "diabetic subjects",
          "diabetic subjects",
          "diabetic subjects",
          "diabetic subjects",
          "diabetic subjects",
          "diabetic subjects",
          "diabetic subjects",
          "diabetic subjects",
          "diabetic subjects",
          "diabetic subjects"
         ],
         "y": [
          27.9,
          27.9,
          27.9,
          27.9,
          27.9,
          27.9,
          20.5,
          20.5,
          20.5,
          20.5,
          20.5,
          20.5,
          21.4,
          21.4,
          21.4,
          21.4,
          21.4,
          21.4,
          27.2,
          27.2,
          27.2,
          27.2,
          27.2,
          27.2,
          26.5,
          26.5,
          26.5,
          26.5,
          26.5,
          26.5,
          20.5,
          20.5,
          20.5,
          20.5,
          20.5,
          20.5,
          24.7,
          24.7,
          24.7,
          24.7,
          24.7,
          24.7,
          19.9,
          19.9,
          19.9,
          19.9,
          19.9,
          19.9,
          20.8,
          20.8,
          20.8,
          20.8,
          20.8,
          20.8,
          27.8,
          27.8,
          27.8,
          27.8,
          27.8,
          27.8,
          34.8,
          34.8,
          34.8,
          34.8,
          34.8,
          34.8,
          28.3,
          28.3,
          28.3,
          28.3,
          28.3,
          28.3,
          32.3,
          32.3,
          32.3,
          32.3,
          32.3,
          32.3,
          38.9,
          38.9,
          38.9,
          38.9,
          38.9,
          38.9,
          35.4,
          35.4,
          35.4,
          35.4,
          35.4,
          35.4,
          33.7,
          33.7,
          33.7,
          33.7,
          33.7,
          33.7,
          30,
          30,
          30,
          30,
          30,
          30,
          40.1,
          40.1,
          40.1,
          40.1,
          40.1,
          40.1,
          29.2,
          29.2,
          29.2,
          29.2,
          29.2,
          29.2,
          41.9,
          41.9,
          41.9,
          41.9,
          41.9,
          41.9,
          38.9,
          38.9,
          38.9,
          38.9,
          38.9,
          38.9,
          32.9,
          32.9,
          32.9,
          32.9,
          32.9,
          32.9,
          32.7,
          32.7,
          32.7,
          32.7,
          32.7,
          32.7,
          27.5,
          27.5,
          27.5,
          27.5,
          27.5,
          27.5,
          30.2,
          30.2,
          30.2,
          30.2,
          30.2,
          30.2,
          26.6,
          26.6,
          26.6,
          26.6,
          26.6,
          26.6,
          34.3,
          34.3,
          34.3,
          34.3,
          34.3,
          34.3,
          27,
          27,
          27,
          27,
          27,
          27,
          27.2,
          27.2,
          27.2,
          27.2,
          27.2,
          27.2,
          38.6,
          38.6,
          38.6,
          38.6,
          38.6,
          38.6
         ]
        },
        {
         "marker": {
          "color": "rgba(255, 148, 7, 80)"
         },
         "name": "hba1c",
         "type": "bar",
         "x": [
          "healthy subjects",
          "healthy subjects",
          "healthy subjects",
          "healthy subjects",
          "healthy subjects",
          "healthy subjects",
          "healthy subjects",
          "healthy subjects",
          "healthy subjects",
          "healthy subjects",
          "healthy subjects",
          "healthy subjects",
          "healthy subjects",
          "healthy subjects",
          "healthy subjects",
          "healthy subjects",
          "healthy subjects",
          "healthy subjects",
          "healthy subjects",
          "healthy subjects",
          "healthy subjects",
          "healthy subjects",
          "healthy subjects",
          "healthy subjects",
          "healthy subjects",
          "healthy subjects",
          "healthy subjects",
          "healthy subjects",
          "healthy subjects",
          "healthy subjects",
          "healthy subjects",
          "healthy subjects",
          "healthy subjects",
          "healthy subjects",
          "healthy subjects",
          "healthy subjects",
          "healthy subjects",
          "healthy subjects",
          "healthy subjects",
          "healthy subjects",
          "healthy subjects",
          "healthy subjects",
          "healthy subjects",
          "healthy subjects",
          "healthy subjects",
          "healthy subjects",
          "healthy subjects",
          "healthy subjects",
          "healthy subjects",
          "healthy subjects",
          "healthy subjects",
          "healthy subjects",
          "healthy subjects",
          "healthy subjects",
          "healthy subjects",
          "healthy subjects",
          "healthy subjects",
          "healthy subjects",
          "healthy subjects",
          "healthy subjects",
          "prediabetic",
          "prediabetic",
          "prediabetic",
          "prediabetic",
          "prediabetic",
          "prediabetic",
          "prediabetic",
          "prediabetic",
          "prediabetic",
          "prediabetic",
          "prediabetic",
          "prediabetic",
          "prediabetic",
          "prediabetic",
          "prediabetic",
          "prediabetic",
          "prediabetic",
          "prediabetic",
          "prediabetic",
          "prediabetic",
          "prediabetic",
          "prediabetic",
          "prediabetic",
          "prediabetic",
          "prediabetic",
          "prediabetic",
          "prediabetic",
          "prediabetic",
          "prediabetic",
          "prediabetic",
          "prediabetic",
          "prediabetic",
          "prediabetic",
          "prediabetic",
          "prediabetic",
          "prediabetic",
          "prediabetic",
          "prediabetic",
          "prediabetic",
          "prediabetic",
          "prediabetic",
          "prediabetic",
          "prediabetic",
          "prediabetic",
          "prediabetic",
          "prediabetic",
          "prediabetic",
          "prediabetic",
          "prediabetic",
          "prediabetic",
          "prediabetic",
          "prediabetic",
          "prediabetic",
          "prediabetic",
          "prediabetic",
          "prediabetic",
          "prediabetic",
          "prediabetic",
          "prediabetic",
          "prediabetic",
          "diabetic subjects",
          "diabetic subjects",
          "diabetic subjects",
          "diabetic subjects",
          "diabetic subjects",
          "diabetic subjects",
          "diabetic subjects",
          "diabetic subjects",
          "diabetic subjects",
          "diabetic subjects",
          "diabetic subjects",
          "diabetic subjects",
          "diabetic subjects",
          "diabetic subjects",
          "diabetic subjects",
          "diabetic subjects",
          "diabetic subjects",
          "diabetic subjects",
          "diabetic subjects",
          "diabetic subjects",
          "diabetic subjects",
          "diabetic subjects",
          "diabetic subjects",
          "diabetic subjects",
          "diabetic subjects",
          "diabetic subjects",
          "diabetic subjects",
          "diabetic subjects",
          "diabetic subjects",
          "diabetic subjects",
          "diabetic subjects",
          "diabetic subjects",
          "diabetic subjects",
          "diabetic subjects",
          "diabetic subjects",
          "diabetic subjects",
          "diabetic subjects",
          "diabetic subjects",
          "diabetic subjects",
          "diabetic subjects",
          "diabetic subjects",
          "diabetic subjects",
          "diabetic subjects",
          "diabetic subjects",
          "diabetic subjects",
          "diabetic subjects",
          "diabetic subjects",
          "diabetic subjects",
          "diabetic subjects",
          "diabetic subjects",
          "diabetic subjects",
          "diabetic subjects",
          "diabetic subjects",
          "diabetic subjects",
          "diabetic subjects",
          "diabetic subjects",
          "diabetic subjects",
          "diabetic subjects",
          "diabetic subjects",
          "diabetic subjects"
         ],
         "y": [
          5.05,
          5.05,
          5.05,
          5.05,
          5.05,
          5.05,
          5.58,
          5.58,
          5.58,
          5.58,
          5.58,
          5.58,
          5.4,
          5.4,
          5.4,
          5.4,
          5.4,
          5.4,
          5.08,
          5.08,
          5.08,
          5.08,
          5.08,
          5.08,
          5.7,
          5.7,
          5.7,
          5.7,
          5.7,
          5.7,
          5.4,
          5.4,
          5.4,
          5.4,
          5.4,
          5.4,
          5.57,
          5.57,
          5.57,
          5.57,
          5.57,
          5.57,
          5.85,
          5.85,
          5.85,
          5.85,
          5.85,
          5.85,
          5.46,
          5.46,
          5.46,
          5.46,
          5.46,
          5.46,
          4.87,
          4.87,
          4.87,
          4.87,
          4.87,
          4.87,
          5.86,
          5.86,
          5.86,
          5.86,
          5.86,
          5.86,
          6.29,
          6.29,
          6.29,
          6.29,
          6.29,
          6.29,
          5.94,
          5.94,
          5.94,
          5.94,
          5.94,
          5.94,
          6,
          6,
          6,
          6,
          6,
          6,
          5.94,
          5.94,
          5.94,
          5.94,
          5.94,
          5.94,
          6.02,
          6.02,
          6.02,
          6.02,
          6.02,
          6.02,
          5.45,
          5.45,
          5.45,
          5.45,
          5.45,
          5.45,
          6.05,
          6.05,
          6.05,
          6.05,
          6.05,
          6.05,
          5.9,
          5.9,
          5.9,
          5.9,
          5.9,
          5.9,
          5.1,
          5.1,
          5.1,
          5.1,
          5.1,
          5.1,
          7.84,
          7.84,
          7.84,
          7.84,
          7.84,
          7.84,
          7.83,
          7.83,
          7.83,
          7.83,
          7.83,
          7.83,
          6.7,
          6.7,
          6.7,
          6.7,
          6.7,
          6.7,
          6.7,
          6.7,
          6.7,
          6.7,
          6.7,
          6.7,
          7.72,
          7.72,
          7.72,
          7.72,
          7.72,
          7.72,
          7.53,
          7.53,
          7.53,
          7.53,
          7.53,
          7.53,
          8,
          8,
          8,
          8,
          8,
          8,
          6.99,
          6.99,
          6.99,
          6.99,
          6.99,
          6.99,
          6.94,
          6.94,
          6.94,
          6.94,
          6.94,
          6.94,
          9.1,
          9.1,
          9.1,
          9.1,
          9.1,
          9.1
         ]
        }
       ],
       "layout": {
        "barmode": "group",
        "template": {
         "data": {
          "bar": [
           {
            "error_x": {
             "color": "#2a3f5f"
            },
            "error_y": {
             "color": "#2a3f5f"
            },
            "marker": {
             "line": {
              "color": "#E5ECF6",
              "width": 0.5
             },
             "pattern": {
              "fillmode": "overlay",
              "size": 10,
              "solidity": 0.2
             }
            },
            "type": "bar"
           }
          ],
          "barpolar": [
           {
            "marker": {
             "line": {
              "color": "#E5ECF6",
              "width": 0.5
             },
             "pattern": {
              "fillmode": "overlay",
              "size": 10,
              "solidity": 0.2
             }
            },
            "type": "barpolar"
           }
          ],
          "carpet": [
           {
            "aaxis": {
             "endlinecolor": "#2a3f5f",
             "gridcolor": "white",
             "linecolor": "white",
             "minorgridcolor": "white",
             "startlinecolor": "#2a3f5f"
            },
            "baxis": {
             "endlinecolor": "#2a3f5f",
             "gridcolor": "white",
             "linecolor": "white",
             "minorgridcolor": "white",
             "startlinecolor": "#2a3f5f"
            },
            "type": "carpet"
           }
          ],
          "choropleth": [
           {
            "colorbar": {
             "outlinewidth": 0,
             "ticks": ""
            },
            "type": "choropleth"
           }
          ],
          "contour": [
           {
            "colorbar": {
             "outlinewidth": 0,
             "ticks": ""
            },
            "colorscale": [
             [
              0,
              "#0d0887"
             ],
             [
              0.1111111111111111,
              "#46039f"
             ],
             [
              0.2222222222222222,
              "#7201a8"
             ],
             [
              0.3333333333333333,
              "#9c179e"
             ],
             [
              0.4444444444444444,
              "#bd3786"
             ],
             [
              0.5555555555555556,
              "#d8576b"
             ],
             [
              0.6666666666666666,
              "#ed7953"
             ],
             [
              0.7777777777777778,
              "#fb9f3a"
             ],
             [
              0.8888888888888888,
              "#fdca26"
             ],
             [
              1,
              "#f0f921"
             ]
            ],
            "type": "contour"
           }
          ],
          "contourcarpet": [
           {
            "colorbar": {
             "outlinewidth": 0,
             "ticks": ""
            },
            "type": "contourcarpet"
           }
          ],
          "heatmap": [
           {
            "colorbar": {
             "outlinewidth": 0,
             "ticks": ""
            },
            "colorscale": [
             [
              0,
              "#0d0887"
             ],
             [
              0.1111111111111111,
              "#46039f"
             ],
             [
              0.2222222222222222,
              "#7201a8"
             ],
             [
              0.3333333333333333,
              "#9c179e"
             ],
             [
              0.4444444444444444,
              "#bd3786"
             ],
             [
              0.5555555555555556,
              "#d8576b"
             ],
             [
              0.6666666666666666,
              "#ed7953"
             ],
             [
              0.7777777777777778,
              "#fb9f3a"
             ],
             [
              0.8888888888888888,
              "#fdca26"
             ],
             [
              1,
              "#f0f921"
             ]
            ],
            "type": "heatmap"
           }
          ],
          "heatmapgl": [
           {
            "colorbar": {
             "outlinewidth": 0,
             "ticks": ""
            },
            "colorscale": [
             [
              0,
              "#0d0887"
             ],
             [
              0.1111111111111111,
              "#46039f"
             ],
             [
              0.2222222222222222,
              "#7201a8"
             ],
             [
              0.3333333333333333,
              "#9c179e"
             ],
             [
              0.4444444444444444,
              "#bd3786"
             ],
             [
              0.5555555555555556,
              "#d8576b"
             ],
             [
              0.6666666666666666,
              "#ed7953"
             ],
             [
              0.7777777777777778,
              "#fb9f3a"
             ],
             [
              0.8888888888888888,
              "#fdca26"
             ],
             [
              1,
              "#f0f921"
             ]
            ],
            "type": "heatmapgl"
           }
          ],
          "histogram": [
           {
            "marker": {
             "pattern": {
              "fillmode": "overlay",
              "size": 10,
              "solidity": 0.2
             }
            },
            "type": "histogram"
           }
          ],
          "histogram2d": [
           {
            "colorbar": {
             "outlinewidth": 0,
             "ticks": ""
            },
            "colorscale": [
             [
              0,
              "#0d0887"
             ],
             [
              0.1111111111111111,
              "#46039f"
             ],
             [
              0.2222222222222222,
              "#7201a8"
             ],
             [
              0.3333333333333333,
              "#9c179e"
             ],
             [
              0.4444444444444444,
              "#bd3786"
             ],
             [
              0.5555555555555556,
              "#d8576b"
             ],
             [
              0.6666666666666666,
              "#ed7953"
             ],
             [
              0.7777777777777778,
              "#fb9f3a"
             ],
             [
              0.8888888888888888,
              "#fdca26"
             ],
             [
              1,
              "#f0f921"
             ]
            ],
            "type": "histogram2d"
           }
          ],
          "histogram2dcontour": [
           {
            "colorbar": {
             "outlinewidth": 0,
             "ticks": ""
            },
            "colorscale": [
             [
              0,
              "#0d0887"
             ],
             [
              0.1111111111111111,
              "#46039f"
             ],
             [
              0.2222222222222222,
              "#7201a8"
             ],
             [
              0.3333333333333333,
              "#9c179e"
             ],
             [
              0.4444444444444444,
              "#bd3786"
             ],
             [
              0.5555555555555556,
              "#d8576b"
             ],
             [
              0.6666666666666666,
              "#ed7953"
             ],
             [
              0.7777777777777778,
              "#fb9f3a"
             ],
             [
              0.8888888888888888,
              "#fdca26"
             ],
             [
              1,
              "#f0f921"
             ]
            ],
            "type": "histogram2dcontour"
           }
          ],
          "mesh3d": [
           {
            "colorbar": {
             "outlinewidth": 0,
             "ticks": ""
            },
            "type": "mesh3d"
           }
          ],
          "parcoords": [
           {
            "line": {
             "colorbar": {
              "outlinewidth": 0,
              "ticks": ""
             }
            },
            "type": "parcoords"
           }
          ],
          "pie": [
           {
            "automargin": true,
            "type": "pie"
           }
          ],
          "scatter": [
           {
            "fillpattern": {
             "fillmode": "overlay",
             "size": 10,
             "solidity": 0.2
            },
            "type": "scatter"
           }
          ],
          "scatter3d": [
           {
            "line": {
             "colorbar": {
              "outlinewidth": 0,
              "ticks": ""
             }
            },
            "marker": {
             "colorbar": {
              "outlinewidth": 0,
              "ticks": ""
             }
            },
            "type": "scatter3d"
           }
          ],
          "scattercarpet": [
           {
            "marker": {
             "colorbar": {
              "outlinewidth": 0,
              "ticks": ""
             }
            },
            "type": "scattercarpet"
           }
          ],
          "scattergeo": [
           {
            "marker": {
             "colorbar": {
              "outlinewidth": 0,
              "ticks": ""
             }
            },
            "type": "scattergeo"
           }
          ],
          "scattergl": [
           {
            "marker": {
             "colorbar": {
              "outlinewidth": 0,
              "ticks": ""
             }
            },
            "type": "scattergl"
           }
          ],
          "scattermapbox": [
           {
            "marker": {
             "colorbar": {
              "outlinewidth": 0,
              "ticks": ""
             }
            },
            "type": "scattermapbox"
           }
          ],
          "scatterpolar": [
           {
            "marker": {
             "colorbar": {
              "outlinewidth": 0,
              "ticks": ""
             }
            },
            "type": "scatterpolar"
           }
          ],
          "scatterpolargl": [
           {
            "marker": {
             "colorbar": {
              "outlinewidth": 0,
              "ticks": ""
             }
            },
            "type": "scatterpolargl"
           }
          ],
          "scatterternary": [
           {
            "marker": {
             "colorbar": {
              "outlinewidth": 0,
              "ticks": ""
             }
            },
            "type": "scatterternary"
           }
          ],
          "surface": [
           {
            "colorbar": {
             "outlinewidth": 0,
             "ticks": ""
            },
            "colorscale": [
             [
              0,
              "#0d0887"
             ],
             [
              0.1111111111111111,
              "#46039f"
             ],
             [
              0.2222222222222222,
              "#7201a8"
             ],
             [
              0.3333333333333333,
              "#9c179e"
             ],
             [
              0.4444444444444444,
              "#bd3786"
             ],
             [
              0.5555555555555556,
              "#d8576b"
             ],
             [
              0.6666666666666666,
              "#ed7953"
             ],
             [
              0.7777777777777778,
              "#fb9f3a"
             ],
             [
              0.8888888888888888,
              "#fdca26"
             ],
             [
              1,
              "#f0f921"
             ]
            ],
            "type": "surface"
           }
          ],
          "table": [
           {
            "cells": {
             "fill": {
              "color": "#EBF0F8"
             },
             "line": {
              "color": "white"
             }
            },
            "header": {
             "fill": {
              "color": "#C8D4E3"
             },
             "line": {
              "color": "white"
             }
            },
            "type": "table"
           }
          ]
         },
         "layout": {
          "annotationdefaults": {
           "arrowcolor": "#2a3f5f",
           "arrowhead": 0,
           "arrowwidth": 1
          },
          "autotypenumbers": "strict",
          "coloraxis": {
           "colorbar": {
            "outlinewidth": 0,
            "ticks": ""
           }
          },
          "colorscale": {
           "diverging": [
            [
             0,
             "#8e0152"
            ],
            [
             0.1,
             "#c51b7d"
            ],
            [
             0.2,
             "#de77ae"
            ],
            [
             0.3,
             "#f1b6da"
            ],
            [
             0.4,
             "#fde0ef"
            ],
            [
             0.5,
             "#f7f7f7"
            ],
            [
             0.6,
             "#e6f5d0"
            ],
            [
             0.7,
             "#b8e186"
            ],
            [
             0.8,
             "#7fbc41"
            ],
            [
             0.9,
             "#4d9221"
            ],
            [
             1,
             "#276419"
            ]
           ],
           "sequential": [
            [
             0,
             "#0d0887"
            ],
            [
             0.1111111111111111,
             "#46039f"
            ],
            [
             0.2222222222222222,
             "#7201a8"
            ],
            [
             0.3333333333333333,
             "#9c179e"
            ],
            [
             0.4444444444444444,
             "#bd3786"
            ],
            [
             0.5555555555555556,
             "#d8576b"
            ],
            [
             0.6666666666666666,
             "#ed7953"
            ],
            [
             0.7777777777777778,
             "#fb9f3a"
            ],
            [
             0.8888888888888888,
             "#fdca26"
            ],
            [
             1,
             "#f0f921"
            ]
           ],
           "sequentialminus": [
            [
             0,
             "#0d0887"
            ],
            [
             0.1111111111111111,
             "#46039f"
            ],
            [
             0.2222222222222222,
             "#7201a8"
            ],
            [
             0.3333333333333333,
             "#9c179e"
            ],
            [
             0.4444444444444444,
             "#bd3786"
            ],
            [
             0.5555555555555556,
             "#d8576b"
            ],
            [
             0.6666666666666666,
             "#ed7953"
            ],
            [
             0.7777777777777778,
             "#fb9f3a"
            ],
            [
             0.8888888888888888,
             "#fdca26"
            ],
            [
             1,
             "#f0f921"
            ]
           ]
          },
          "colorway": [
           "#636efa",
           "#EF553B",
           "#00cc96",
           "#ab63fa",
           "#FFA15A",
           "#19d3f3",
           "#FF6692",
           "#B6E880",
           "#FF97FF",
           "#FECB52"
          ],
          "font": {
           "color": "#2a3f5f"
          },
          "geo": {
           "bgcolor": "white",
           "lakecolor": "white",
           "landcolor": "#E5ECF6",
           "showlakes": true,
           "showland": true,
           "subunitcolor": "white"
          },
          "hoverlabel": {
           "align": "left"
          },
          "hovermode": "closest",
          "mapbox": {
           "style": "light"
          },
          "paper_bgcolor": "white",
          "plot_bgcolor": "#E5ECF6",
          "polar": {
           "angularaxis": {
            "gridcolor": "white",
            "linecolor": "white",
            "ticks": ""
           },
           "bgcolor": "#E5ECF6",
           "radialaxis": {
            "gridcolor": "white",
            "linecolor": "white",
            "ticks": ""
           }
          },
          "scene": {
           "xaxis": {
            "backgroundcolor": "#E5ECF6",
            "gridcolor": "white",
            "gridwidth": 2,
            "linecolor": "white",
            "showbackground": true,
            "ticks": "",
            "zerolinecolor": "white"
           },
           "yaxis": {
            "backgroundcolor": "#E5ECF6",
            "gridcolor": "white",
            "gridwidth": 2,
            "linecolor": "white",
            "showbackground": true,
            "ticks": "",
            "zerolinecolor": "white"
           },
           "zaxis": {
            "backgroundcolor": "#E5ECF6",
            "gridcolor": "white",
            "gridwidth": 2,
            "linecolor": "white",
            "showbackground": true,
            "ticks": "",
            "zerolinecolor": "white"
           }
          },
          "shapedefaults": {
           "line": {
            "color": "#2a3f5f"
           }
          },
          "ternary": {
           "aaxis": {
            "gridcolor": "white",
            "linecolor": "white",
            "ticks": ""
           },
           "baxis": {
            "gridcolor": "white",
            "linecolor": "white",
            "ticks": ""
           },
           "bgcolor": "#E5ECF6",
           "caxis": {
            "gridcolor": "white",
            "linecolor": "white",
            "ticks": ""
           }
          },
          "title": {
           "x": 0.05
          },
          "xaxis": {
           "automargin": true,
           "gridcolor": "white",
           "linecolor": "white",
           "ticks": "",
           "title": {
            "standoff": 15
           },
           "zerolinecolor": "white",
           "zerolinewidth": 2
          },
          "yaxis": {
           "automargin": true,
           "gridcolor": "white",
           "linecolor": "white",
           "ticks": "",
           "title": {
            "standoff": 15
           },
           "zerolinecolor": "white",
           "zerolinewidth": 2
          }
         }
        }
       }
      },
      "text/html": [
       "<div>                            <div id=\"f9b97756-5620-4c9f-92e9-c237a2b8568b\" class=\"plotly-graph-div\" style=\"height:525px; width:100%;\"></div>            <script type=\"text/javascript\">                require([\"plotly\"], function(Plotly) {                    window.PLOTLYENV=window.PLOTLYENV || {};                                    if (document.getElementById(\"f9b97756-5620-4c9f-92e9-c237a2b8568b\")) {                    Plotly.newPlot(                        \"f9b97756-5620-4c9f-92e9-c237a2b8568b\",                        [{\"marker\":{\"color\":\"rgba(0, 40, 70, 20)\"},\"name\":\"BMI\",\"x\":[\"healthy subjects\",\"healthy subjects\",\"healthy subjects\",\"healthy subjects\",\"healthy subjects\",\"healthy subjects\",\"healthy subjects\",\"healthy subjects\",\"healthy subjects\",\"healthy subjects\",\"healthy subjects\",\"healthy subjects\",\"healthy subjects\",\"healthy subjects\",\"healthy subjects\",\"healthy subjects\",\"healthy subjects\",\"healthy subjects\",\"healthy subjects\",\"healthy subjects\",\"healthy subjects\",\"healthy subjects\",\"healthy subjects\",\"healthy subjects\",\"healthy subjects\",\"healthy subjects\",\"healthy subjects\",\"healthy subjects\",\"healthy subjects\",\"healthy subjects\",\"healthy subjects\",\"healthy subjects\",\"healthy subjects\",\"healthy subjects\",\"healthy subjects\",\"healthy subjects\",\"healthy subjects\",\"healthy subjects\",\"healthy subjects\",\"healthy subjects\",\"healthy subjects\",\"healthy subjects\",\"healthy subjects\",\"healthy subjects\",\"healthy subjects\",\"healthy subjects\",\"healthy subjects\",\"healthy subjects\",\"healthy subjects\",\"healthy subjects\",\"healthy subjects\",\"healthy subjects\",\"healthy subjects\",\"healthy subjects\",\"healthy subjects\",\"healthy subjects\",\"healthy subjects\",\"healthy subjects\",\"healthy subjects\",\"healthy subjects\",\"prediabetic\",\"prediabetic\",\"prediabetic\",\"prediabetic\",\"prediabetic\",\"prediabetic\",\"prediabetic\",\"prediabetic\",\"prediabetic\",\"prediabetic\",\"prediabetic\",\"prediabetic\",\"prediabetic\",\"prediabetic\",\"prediabetic\",\"prediabetic\",\"prediabetic\",\"prediabetic\",\"prediabetic\",\"prediabetic\",\"prediabetic\",\"prediabetic\",\"prediabetic\",\"prediabetic\",\"prediabetic\",\"prediabetic\",\"prediabetic\",\"prediabetic\",\"prediabetic\",\"prediabetic\",\"prediabetic\",\"prediabetic\",\"prediabetic\",\"prediabetic\",\"prediabetic\",\"prediabetic\",\"prediabetic\",\"prediabetic\",\"prediabetic\",\"prediabetic\",\"prediabetic\",\"prediabetic\",\"prediabetic\",\"prediabetic\",\"prediabetic\",\"prediabetic\",\"prediabetic\",\"prediabetic\",\"prediabetic\",\"prediabetic\",\"prediabetic\",\"prediabetic\",\"prediabetic\",\"prediabetic\",\"prediabetic\",\"prediabetic\",\"prediabetic\",\"prediabetic\",\"prediabetic\",\"prediabetic\",\"diabetic subjects\",\"diabetic subjects\",\"diabetic subjects\",\"diabetic subjects\",\"diabetic subjects\",\"diabetic subjects\",\"diabetic subjects\",\"diabetic subjects\",\"diabetic subjects\",\"diabetic subjects\",\"diabetic subjects\",\"diabetic subjects\",\"diabetic subjects\",\"diabetic subjects\",\"diabetic subjects\",\"diabetic subjects\",\"diabetic subjects\",\"diabetic subjects\",\"diabetic subjects\",\"diabetic subjects\",\"diabetic subjects\",\"diabetic subjects\",\"diabetic subjects\",\"diabetic subjects\",\"diabetic subjects\",\"diabetic subjects\",\"diabetic subjects\",\"diabetic subjects\",\"diabetic subjects\",\"diabetic subjects\",\"diabetic subjects\",\"diabetic subjects\",\"diabetic subjects\",\"diabetic subjects\",\"diabetic subjects\",\"diabetic subjects\",\"diabetic subjects\",\"diabetic subjects\",\"diabetic subjects\",\"diabetic subjects\",\"diabetic subjects\",\"diabetic subjects\",\"diabetic subjects\",\"diabetic subjects\",\"diabetic subjects\",\"diabetic subjects\",\"diabetic subjects\",\"diabetic subjects\",\"diabetic subjects\",\"diabetic subjects\",\"diabetic subjects\",\"diabetic subjects\",\"diabetic subjects\",\"diabetic subjects\",\"diabetic subjects\",\"diabetic subjects\",\"diabetic subjects\",\"diabetic subjects\",\"diabetic subjects\",\"diabetic subjects\"],\"y\":[27.9,27.9,27.9,27.9,27.9,27.9,20.5,20.5,20.5,20.5,20.5,20.5,21.4,21.4,21.4,21.4,21.4,21.4,27.2,27.2,27.2,27.2,27.2,27.2,26.5,26.5,26.5,26.5,26.5,26.5,20.5,20.5,20.5,20.5,20.5,20.5,24.7,24.7,24.7,24.7,24.7,24.7,19.9,19.9,19.9,19.9,19.9,19.9,20.8,20.8,20.8,20.8,20.8,20.8,27.8,27.8,27.8,27.8,27.8,27.8,34.8,34.8,34.8,34.8,34.8,34.8,28.3,28.3,28.3,28.3,28.3,28.3,32.3,32.3,32.3,32.3,32.3,32.3,38.9,38.9,38.9,38.9,38.9,38.9,35.4,35.4,35.4,35.4,35.4,35.4,33.7,33.7,33.7,33.7,33.7,33.7,30.0,30.0,30.0,30.0,30.0,30.0,40.1,40.1,40.1,40.1,40.1,40.1,29.2,29.2,29.2,29.2,29.2,29.2,41.9,41.9,41.9,41.9,41.9,41.9,38.9,38.9,38.9,38.9,38.9,38.9,32.9,32.9,32.9,32.9,32.9,32.9,32.7,32.7,32.7,32.7,32.7,32.7,27.5,27.5,27.5,27.5,27.5,27.5,30.2,30.2,30.2,30.2,30.2,30.2,26.6,26.6,26.6,26.6,26.6,26.6,34.3,34.3,34.3,34.3,34.3,34.3,27.0,27.0,27.0,27.0,27.0,27.0,27.2,27.2,27.2,27.2,27.2,27.2,38.6,38.6,38.6,38.6,38.6,38.6],\"type\":\"bar\"},{\"marker\":{\"color\":\"rgba(255, 148, 7, 80)\"},\"name\":\"hba1c\",\"x\":[\"healthy subjects\",\"healthy subjects\",\"healthy subjects\",\"healthy subjects\",\"healthy subjects\",\"healthy subjects\",\"healthy subjects\",\"healthy subjects\",\"healthy subjects\",\"healthy subjects\",\"healthy subjects\",\"healthy subjects\",\"healthy subjects\",\"healthy subjects\",\"healthy subjects\",\"healthy subjects\",\"healthy subjects\",\"healthy subjects\",\"healthy subjects\",\"healthy subjects\",\"healthy subjects\",\"healthy subjects\",\"healthy subjects\",\"healthy subjects\",\"healthy subjects\",\"healthy subjects\",\"healthy subjects\",\"healthy subjects\",\"healthy subjects\",\"healthy subjects\",\"healthy subjects\",\"healthy subjects\",\"healthy subjects\",\"healthy subjects\",\"healthy subjects\",\"healthy subjects\",\"healthy subjects\",\"healthy subjects\",\"healthy subjects\",\"healthy subjects\",\"healthy subjects\",\"healthy subjects\",\"healthy subjects\",\"healthy subjects\",\"healthy subjects\",\"healthy subjects\",\"healthy subjects\",\"healthy subjects\",\"healthy subjects\",\"healthy subjects\",\"healthy subjects\",\"healthy subjects\",\"healthy subjects\",\"healthy subjects\",\"healthy subjects\",\"healthy subjects\",\"healthy subjects\",\"healthy subjects\",\"healthy subjects\",\"healthy subjects\",\"prediabetic\",\"prediabetic\",\"prediabetic\",\"prediabetic\",\"prediabetic\",\"prediabetic\",\"prediabetic\",\"prediabetic\",\"prediabetic\",\"prediabetic\",\"prediabetic\",\"prediabetic\",\"prediabetic\",\"prediabetic\",\"prediabetic\",\"prediabetic\",\"prediabetic\",\"prediabetic\",\"prediabetic\",\"prediabetic\",\"prediabetic\",\"prediabetic\",\"prediabetic\",\"prediabetic\",\"prediabetic\",\"prediabetic\",\"prediabetic\",\"prediabetic\",\"prediabetic\",\"prediabetic\",\"prediabetic\",\"prediabetic\",\"prediabetic\",\"prediabetic\",\"prediabetic\",\"prediabetic\",\"prediabetic\",\"prediabetic\",\"prediabetic\",\"prediabetic\",\"prediabetic\",\"prediabetic\",\"prediabetic\",\"prediabetic\",\"prediabetic\",\"prediabetic\",\"prediabetic\",\"prediabetic\",\"prediabetic\",\"prediabetic\",\"prediabetic\",\"prediabetic\",\"prediabetic\",\"prediabetic\",\"prediabetic\",\"prediabetic\",\"prediabetic\",\"prediabetic\",\"prediabetic\",\"prediabetic\",\"diabetic subjects\",\"diabetic subjects\",\"diabetic subjects\",\"diabetic subjects\",\"diabetic subjects\",\"diabetic subjects\",\"diabetic subjects\",\"diabetic subjects\",\"diabetic subjects\",\"diabetic subjects\",\"diabetic subjects\",\"diabetic subjects\",\"diabetic subjects\",\"diabetic subjects\",\"diabetic subjects\",\"diabetic subjects\",\"diabetic subjects\",\"diabetic subjects\",\"diabetic subjects\",\"diabetic subjects\",\"diabetic subjects\",\"diabetic subjects\",\"diabetic subjects\",\"diabetic subjects\",\"diabetic subjects\",\"diabetic subjects\",\"diabetic subjects\",\"diabetic subjects\",\"diabetic subjects\",\"diabetic subjects\",\"diabetic subjects\",\"diabetic subjects\",\"diabetic subjects\",\"diabetic subjects\",\"diabetic subjects\",\"diabetic subjects\",\"diabetic subjects\",\"diabetic subjects\",\"diabetic subjects\",\"diabetic subjects\",\"diabetic subjects\",\"diabetic subjects\",\"diabetic subjects\",\"diabetic subjects\",\"diabetic subjects\",\"diabetic subjects\",\"diabetic subjects\",\"diabetic subjects\",\"diabetic subjects\",\"diabetic subjects\",\"diabetic subjects\",\"diabetic subjects\",\"diabetic subjects\",\"diabetic subjects\",\"diabetic subjects\",\"diabetic subjects\",\"diabetic subjects\",\"diabetic subjects\",\"diabetic subjects\",\"diabetic subjects\"],\"y\":[5.05,5.05,5.05,5.05,5.05,5.05,5.58,5.58,5.58,5.58,5.58,5.58,5.4,5.4,5.4,5.4,5.4,5.4,5.08,5.08,5.08,5.08,5.08,5.08,5.7,5.7,5.7,5.7,5.7,5.7,5.4,5.4,5.4,5.4,5.4,5.4,5.57,5.57,5.57,5.57,5.57,5.57,5.85,5.85,5.85,5.85,5.85,5.85,5.46,5.46,5.46,5.46,5.46,5.46,4.87,4.87,4.87,4.87,4.87,4.87,5.86,5.86,5.86,5.86,5.86,5.86,6.29,6.29,6.29,6.29,6.29,6.29,5.94,5.94,5.94,5.94,5.94,5.94,6.0,6.0,6.0,6.0,6.0,6.0,5.94,5.94,5.94,5.94,5.94,5.94,6.02,6.02,6.02,6.02,6.02,6.02,5.45,5.45,5.45,5.45,5.45,5.45,6.05,6.05,6.05,6.05,6.05,6.05,5.9,5.9,5.9,5.9,5.9,5.9,5.1,5.1,5.1,5.1,5.1,5.1,7.84,7.84,7.84,7.84,7.84,7.84,7.83,7.83,7.83,7.83,7.83,7.83,6.7,6.7,6.7,6.7,6.7,6.7,6.7,6.7,6.7,6.7,6.7,6.7,7.72,7.72,7.72,7.72,7.72,7.72,7.53,7.53,7.53,7.53,7.53,7.53,8.0,8.0,8.0,8.0,8.0,8.0,6.99,6.99,6.99,6.99,6.99,6.99,6.94,6.94,6.94,6.94,6.94,6.94,9.1,9.1,9.1,9.1,9.1,9.1],\"type\":\"bar\"}],                        {\"barmode\":\"group\",\"template\":{\"data\":{\"barpolar\":[{\"marker\":{\"line\":{\"color\":\"#E5ECF6\",\"width\":0.5},\"pattern\":{\"fillmode\":\"overlay\",\"size\":10,\"solidity\":0.2}},\"type\":\"barpolar\"}],\"bar\":[{\"error_x\":{\"color\":\"#2a3f5f\"},\"error_y\":{\"color\":\"#2a3f5f\"},\"marker\":{\"line\":{\"color\":\"#E5ECF6\",\"width\":0.5},\"pattern\":{\"fillmode\":\"overlay\",\"size\":10,\"solidity\":0.2}},\"type\":\"bar\"}],\"carpet\":[{\"aaxis\":{\"endlinecolor\":\"#2a3f5f\",\"gridcolor\":\"white\",\"linecolor\":\"white\",\"minorgridcolor\":\"white\",\"startlinecolor\":\"#2a3f5f\"},\"baxis\":{\"endlinecolor\":\"#2a3f5f\",\"gridcolor\":\"white\",\"linecolor\":\"white\",\"minorgridcolor\":\"white\",\"startlinecolor\":\"#2a3f5f\"},\"type\":\"carpet\"}],\"choropleth\":[{\"colorbar\":{\"outlinewidth\":0,\"ticks\":\"\"},\"type\":\"choropleth\"}],\"contourcarpet\":[{\"colorbar\":{\"outlinewidth\":0,\"ticks\":\"\"},\"type\":\"contourcarpet\"}],\"contour\":[{\"colorbar\":{\"outlinewidth\":0,\"ticks\":\"\"},\"colorscale\":[[0.0,\"#0d0887\"],[0.1111111111111111,\"#46039f\"],[0.2222222222222222,\"#7201a8\"],[0.3333333333333333,\"#9c179e\"],[0.4444444444444444,\"#bd3786\"],[0.5555555555555556,\"#d8576b\"],[0.6666666666666666,\"#ed7953\"],[0.7777777777777778,\"#fb9f3a\"],[0.8888888888888888,\"#fdca26\"],[1.0,\"#f0f921\"]],\"type\":\"contour\"}],\"heatmapgl\":[{\"colorbar\":{\"outlinewidth\":0,\"ticks\":\"\"},\"colorscale\":[[0.0,\"#0d0887\"],[0.1111111111111111,\"#46039f\"],[0.2222222222222222,\"#7201a8\"],[0.3333333333333333,\"#9c179e\"],[0.4444444444444444,\"#bd3786\"],[0.5555555555555556,\"#d8576b\"],[0.6666666666666666,\"#ed7953\"],[0.7777777777777778,\"#fb9f3a\"],[0.8888888888888888,\"#fdca26\"],[1.0,\"#f0f921\"]],\"type\":\"heatmapgl\"}],\"heatmap\":[{\"colorbar\":{\"outlinewidth\":0,\"ticks\":\"\"},\"colorscale\":[[0.0,\"#0d0887\"],[0.1111111111111111,\"#46039f\"],[0.2222222222222222,\"#7201a8\"],[0.3333333333333333,\"#9c179e\"],[0.4444444444444444,\"#bd3786\"],[0.5555555555555556,\"#d8576b\"],[0.6666666666666666,\"#ed7953\"],[0.7777777777777778,\"#fb9f3a\"],[0.8888888888888888,\"#fdca26\"],[1.0,\"#f0f921\"]],\"type\":\"heatmap\"}],\"histogram2dcontour\":[{\"colorbar\":{\"outlinewidth\":0,\"ticks\":\"\"},\"colorscale\":[[0.0,\"#0d0887\"],[0.1111111111111111,\"#46039f\"],[0.2222222222222222,\"#7201a8\"],[0.3333333333333333,\"#9c179e\"],[0.4444444444444444,\"#bd3786\"],[0.5555555555555556,\"#d8576b\"],[0.6666666666666666,\"#ed7953\"],[0.7777777777777778,\"#fb9f3a\"],[0.8888888888888888,\"#fdca26\"],[1.0,\"#f0f921\"]],\"type\":\"histogram2dcontour\"}],\"histogram2d\":[{\"colorbar\":{\"outlinewidth\":0,\"ticks\":\"\"},\"colorscale\":[[0.0,\"#0d0887\"],[0.1111111111111111,\"#46039f\"],[0.2222222222222222,\"#7201a8\"],[0.3333333333333333,\"#9c179e\"],[0.4444444444444444,\"#bd3786\"],[0.5555555555555556,\"#d8576b\"],[0.6666666666666666,\"#ed7953\"],[0.7777777777777778,\"#fb9f3a\"],[0.8888888888888888,\"#fdca26\"],[1.0,\"#f0f921\"]],\"type\":\"histogram2d\"}],\"histogram\":[{\"marker\":{\"pattern\":{\"fillmode\":\"overlay\",\"size\":10,\"solidity\":0.2}},\"type\":\"histogram\"}],\"mesh3d\":[{\"colorbar\":{\"outlinewidth\":0,\"ticks\":\"\"},\"type\":\"mesh3d\"}],\"parcoords\":[{\"line\":{\"colorbar\":{\"outlinewidth\":0,\"ticks\":\"\"}},\"type\":\"parcoords\"}],\"pie\":[{\"automargin\":true,\"type\":\"pie\"}],\"scatter3d\":[{\"line\":{\"colorbar\":{\"outlinewidth\":0,\"ticks\":\"\"}},\"marker\":{\"colorbar\":{\"outlinewidth\":0,\"ticks\":\"\"}},\"type\":\"scatter3d\"}],\"scattercarpet\":[{\"marker\":{\"colorbar\":{\"outlinewidth\":0,\"ticks\":\"\"}},\"type\":\"scattercarpet\"}],\"scattergeo\":[{\"marker\":{\"colorbar\":{\"outlinewidth\":0,\"ticks\":\"\"}},\"type\":\"scattergeo\"}],\"scattergl\":[{\"marker\":{\"colorbar\":{\"outlinewidth\":0,\"ticks\":\"\"}},\"type\":\"scattergl\"}],\"scattermapbox\":[{\"marker\":{\"colorbar\":{\"outlinewidth\":0,\"ticks\":\"\"}},\"type\":\"scattermapbox\"}],\"scatterpolargl\":[{\"marker\":{\"colorbar\":{\"outlinewidth\":0,\"ticks\":\"\"}},\"type\":\"scatterpolargl\"}],\"scatterpolar\":[{\"marker\":{\"colorbar\":{\"outlinewidth\":0,\"ticks\":\"\"}},\"type\":\"scatterpolar\"}],\"scatter\":[{\"fillpattern\":{\"fillmode\":\"overlay\",\"size\":10,\"solidity\":0.2},\"type\":\"scatter\"}],\"scatterternary\":[{\"marker\":{\"colorbar\":{\"outlinewidth\":0,\"ticks\":\"\"}},\"type\":\"scatterternary\"}],\"surface\":[{\"colorbar\":{\"outlinewidth\":0,\"ticks\":\"\"},\"colorscale\":[[0.0,\"#0d0887\"],[0.1111111111111111,\"#46039f\"],[0.2222222222222222,\"#7201a8\"],[0.3333333333333333,\"#9c179e\"],[0.4444444444444444,\"#bd3786\"],[0.5555555555555556,\"#d8576b\"],[0.6666666666666666,\"#ed7953\"],[0.7777777777777778,\"#fb9f3a\"],[0.8888888888888888,\"#fdca26\"],[1.0,\"#f0f921\"]],\"type\":\"surface\"}],\"table\":[{\"cells\":{\"fill\":{\"color\":\"#EBF0F8\"},\"line\":{\"color\":\"white\"}},\"header\":{\"fill\":{\"color\":\"#C8D4E3\"},\"line\":{\"color\":\"white\"}},\"type\":\"table\"}]},\"layout\":{\"annotationdefaults\":{\"arrowcolor\":\"#2a3f5f\",\"arrowhead\":0,\"arrowwidth\":1},\"autotypenumbers\":\"strict\",\"coloraxis\":{\"colorbar\":{\"outlinewidth\":0,\"ticks\":\"\"}},\"colorscale\":{\"diverging\":[[0,\"#8e0152\"],[0.1,\"#c51b7d\"],[0.2,\"#de77ae\"],[0.3,\"#f1b6da\"],[0.4,\"#fde0ef\"],[0.5,\"#f7f7f7\"],[0.6,\"#e6f5d0\"],[0.7,\"#b8e186\"],[0.8,\"#7fbc41\"],[0.9,\"#4d9221\"],[1,\"#276419\"]],\"sequential\":[[0.0,\"#0d0887\"],[0.1111111111111111,\"#46039f\"],[0.2222222222222222,\"#7201a8\"],[0.3333333333333333,\"#9c179e\"],[0.4444444444444444,\"#bd3786\"],[0.5555555555555556,\"#d8576b\"],[0.6666666666666666,\"#ed7953\"],[0.7777777777777778,\"#fb9f3a\"],[0.8888888888888888,\"#fdca26\"],[1.0,\"#f0f921\"]],\"sequentialminus\":[[0.0,\"#0d0887\"],[0.1111111111111111,\"#46039f\"],[0.2222222222222222,\"#7201a8\"],[0.3333333333333333,\"#9c179e\"],[0.4444444444444444,\"#bd3786\"],[0.5555555555555556,\"#d8576b\"],[0.6666666666666666,\"#ed7953\"],[0.7777777777777778,\"#fb9f3a\"],[0.8888888888888888,\"#fdca26\"],[1.0,\"#f0f921\"]]},\"colorway\":[\"#636efa\",\"#EF553B\",\"#00cc96\",\"#ab63fa\",\"#FFA15A\",\"#19d3f3\",\"#FF6692\",\"#B6E880\",\"#FF97FF\",\"#FECB52\"],\"font\":{\"color\":\"#2a3f5f\"},\"geo\":{\"bgcolor\":\"white\",\"lakecolor\":\"white\",\"landcolor\":\"#E5ECF6\",\"showlakes\":true,\"showland\":true,\"subunitcolor\":\"white\"},\"hoverlabel\":{\"align\":\"left\"},\"hovermode\":\"closest\",\"mapbox\":{\"style\":\"light\"},\"paper_bgcolor\":\"white\",\"plot_bgcolor\":\"#E5ECF6\",\"polar\":{\"angularaxis\":{\"gridcolor\":\"white\",\"linecolor\":\"white\",\"ticks\":\"\"},\"bgcolor\":\"#E5ECF6\",\"radialaxis\":{\"gridcolor\":\"white\",\"linecolor\":\"white\",\"ticks\":\"\"}},\"scene\":{\"xaxis\":{\"backgroundcolor\":\"#E5ECF6\",\"gridcolor\":\"white\",\"gridwidth\":2,\"linecolor\":\"white\",\"showbackground\":true,\"ticks\":\"\",\"zerolinecolor\":\"white\"},\"yaxis\":{\"backgroundcolor\":\"#E5ECF6\",\"gridcolor\":\"white\",\"gridwidth\":2,\"linecolor\":\"white\",\"showbackground\":true,\"ticks\":\"\",\"zerolinecolor\":\"white\"},\"zaxis\":{\"backgroundcolor\":\"#E5ECF6\",\"gridcolor\":\"white\",\"gridwidth\":2,\"linecolor\":\"white\",\"showbackground\":true,\"ticks\":\"\",\"zerolinecolor\":\"white\"}},\"shapedefaults\":{\"line\":{\"color\":\"#2a3f5f\"}},\"ternary\":{\"aaxis\":{\"gridcolor\":\"white\",\"linecolor\":\"white\",\"ticks\":\"\"},\"baxis\":{\"gridcolor\":\"white\",\"linecolor\":\"white\",\"ticks\":\"\"},\"bgcolor\":\"#E5ECF6\",\"caxis\":{\"gridcolor\":\"white\",\"linecolor\":\"white\",\"ticks\":\"\"}},\"title\":{\"x\":0.05},\"xaxis\":{\"automargin\":true,\"gridcolor\":\"white\",\"linecolor\":\"white\",\"ticks\":\"\",\"title\":{\"standoff\":15},\"zerolinecolor\":\"white\",\"zerolinewidth\":2},\"yaxis\":{\"automargin\":true,\"gridcolor\":\"white\",\"linecolor\":\"white\",\"ticks\":\"\",\"title\":{\"standoff\":15},\"zerolinecolor\":\"white\",\"zerolinewidth\":2}}}},                        {\"responsive\": true}                    ).then(function(){\n",
       "                            \n",
       "var gd = document.getElementById('f9b97756-5620-4c9f-92e9-c237a2b8568b');\n",
       "var x = new MutationObserver(function (mutations, observer) {{\n",
       "        var display = window.getComputedStyle(gd).display;\n",
       "        if (!display || display === 'none') {{\n",
       "            console.log([gd, 'removed!']);\n",
       "            Plotly.purge(gd);\n",
       "            observer.disconnect();\n",
       "        }}\n",
       "}});\n",
       "\n",
       "// Listen for the removal of the full notebook cells\n",
       "var notebookContainer = gd.closest('#notebook-container');\n",
       "if (notebookContainer) {{\n",
       "    x.observe(notebookContainer, {childList: true});\n",
       "}}\n",
       "\n",
       "// Listen for the clearing of the current output cell\n",
       "var outputEl = gd.closest('.output');\n",
       "if (outputEl) {{\n",
       "    x.observe(outputEl, {childList: true});\n",
       "}}\n",
       "\n",
       "                        })                };                });            </script>        </div>"
      ]
     },
     "metadata": {},
     "output_type": "display_data"
    }
   ],
   "source": [
    "#Evaluar la relación del BMI y hba1c de cada grupo mediante un gráfico de barras interactivo\n",
    "\n",
    "trace1 = go.Bar(x = sample_metadata[\"HEALTH_STATUS\"],\n",
    "                y = sample_metadata['BMI'],\n",
    "                name = 'BMI',\n",
    "                marker = dict(color = 'rgba(0, 40, 70, 20)'),\n",
    "                )\n",
    "\n",
    "trace2 = go.Bar(x = sample_metadata[\"HEALTH_STATUS\"],\n",
    "               y = sample_metadata['hba1c'],\n",
    "               name = 'hba1c',\n",
    "               marker = dict(color = 'rgba(255, 148, 7, 80)'),\n",
    "               )\n",
    "\n",
    "data = [trace1, trace2] \n",
    "\n",
    "layout = go.Layout(barmode = \"group\") \n",
    "\n",
    "fig = go.Figure(data = data, layout = layout)\n",
    "\n",
    "iplot(fig)"
   ]
  },
  {
   "cell_type": "code",
   "execution_count": 21,
   "metadata": {},
   "outputs": [
    {
     "data": {
      "application/vnd.plotly.v1+json": {
       "config": {
        "linkText": "Export to plot.ly",
        "plotlyServerURL": "https://plot.ly",
        "showLink": false
       },
       "data": [
        {
         "name": "BMI",
         "type": "bar",
         "x": [
          "healthy subjects",
          "healthy subjects",
          "healthy subjects",
          "healthy subjects",
          "healthy subjects",
          "healthy subjects",
          "healthy subjects",
          "healthy subjects",
          "healthy subjects",
          "healthy subjects",
          "healthy subjects",
          "healthy subjects",
          "healthy subjects",
          "healthy subjects",
          "healthy subjects",
          "healthy subjects",
          "healthy subjects",
          "healthy subjects",
          "healthy subjects",
          "healthy subjects",
          "healthy subjects",
          "healthy subjects",
          "healthy subjects",
          "healthy subjects",
          "healthy subjects",
          "healthy subjects",
          "healthy subjects",
          "healthy subjects",
          "healthy subjects",
          "healthy subjects",
          "healthy subjects",
          "healthy subjects",
          "healthy subjects",
          "healthy subjects",
          "healthy subjects",
          "healthy subjects",
          "healthy subjects",
          "healthy subjects",
          "healthy subjects",
          "healthy subjects",
          "healthy subjects",
          "healthy subjects",
          "healthy subjects",
          "healthy subjects",
          "healthy subjects",
          "healthy subjects",
          "healthy subjects",
          "healthy subjects",
          "healthy subjects",
          "healthy subjects",
          "healthy subjects",
          "healthy subjects",
          "healthy subjects",
          "healthy subjects",
          "healthy subjects",
          "healthy subjects",
          "healthy subjects",
          "healthy subjects",
          "healthy subjects",
          "healthy subjects",
          "prediabetic",
          "prediabetic",
          "prediabetic",
          "prediabetic",
          "prediabetic",
          "prediabetic",
          "prediabetic",
          "prediabetic",
          "prediabetic",
          "prediabetic",
          "prediabetic",
          "prediabetic",
          "prediabetic",
          "prediabetic",
          "prediabetic",
          "prediabetic",
          "prediabetic",
          "prediabetic",
          "prediabetic",
          "prediabetic",
          "prediabetic",
          "prediabetic",
          "prediabetic",
          "prediabetic",
          "prediabetic",
          "prediabetic",
          "prediabetic",
          "prediabetic",
          "prediabetic",
          "prediabetic",
          "prediabetic",
          "prediabetic",
          "prediabetic",
          "prediabetic",
          "prediabetic",
          "prediabetic",
          "prediabetic",
          "prediabetic",
          "prediabetic",
          "prediabetic",
          "prediabetic",
          "prediabetic",
          "prediabetic",
          "prediabetic",
          "prediabetic",
          "prediabetic",
          "prediabetic",
          "prediabetic",
          "prediabetic",
          "prediabetic",
          "prediabetic",
          "prediabetic",
          "prediabetic",
          "prediabetic",
          "prediabetic",
          "prediabetic",
          "prediabetic",
          "prediabetic",
          "prediabetic",
          "prediabetic",
          "diabetic subjects",
          "diabetic subjects",
          "diabetic subjects",
          "diabetic subjects",
          "diabetic subjects",
          "diabetic subjects",
          "diabetic subjects",
          "diabetic subjects",
          "diabetic subjects",
          "diabetic subjects",
          "diabetic subjects",
          "diabetic subjects",
          "diabetic subjects",
          "diabetic subjects",
          "diabetic subjects",
          "diabetic subjects",
          "diabetic subjects",
          "diabetic subjects",
          "diabetic subjects",
          "diabetic subjects",
          "diabetic subjects",
          "diabetic subjects",
          "diabetic subjects",
          "diabetic subjects",
          "diabetic subjects",
          "diabetic subjects",
          "diabetic subjects",
          "diabetic subjects",
          "diabetic subjects",
          "diabetic subjects",
          "diabetic subjects",
          "diabetic subjects",
          "diabetic subjects",
          "diabetic subjects",
          "diabetic subjects",
          "diabetic subjects",
          "diabetic subjects",
          "diabetic subjects",
          "diabetic subjects",
          "diabetic subjects",
          "diabetic subjects",
          "diabetic subjects",
          "diabetic subjects",
          "diabetic subjects",
          "diabetic subjects",
          "diabetic subjects",
          "diabetic subjects",
          "diabetic subjects",
          "diabetic subjects",
          "diabetic subjects",
          "diabetic subjects",
          "diabetic subjects",
          "diabetic subjects",
          "diabetic subjects",
          "diabetic subjects",
          "diabetic subjects",
          "diabetic subjects",
          "diabetic subjects",
          "diabetic subjects",
          "diabetic subjects"
         ],
         "y": [
          27.9,
          27.9,
          27.9,
          27.9,
          27.9,
          27.9,
          20.5,
          20.5,
          20.5,
          20.5,
          20.5,
          20.5,
          21.4,
          21.4,
          21.4,
          21.4,
          21.4,
          21.4,
          27.2,
          27.2,
          27.2,
          27.2,
          27.2,
          27.2,
          26.5,
          26.5,
          26.5,
          26.5,
          26.5,
          26.5,
          20.5,
          20.5,
          20.5,
          20.5,
          20.5,
          20.5,
          24.7,
          24.7,
          24.7,
          24.7,
          24.7,
          24.7,
          19.9,
          19.9,
          19.9,
          19.9,
          19.9,
          19.9,
          20.8,
          20.8,
          20.8,
          20.8,
          20.8,
          20.8,
          27.8,
          27.8,
          27.8,
          27.8,
          27.8,
          27.8,
          34.8,
          34.8,
          34.8,
          34.8,
          34.8,
          34.8,
          28.3,
          28.3,
          28.3,
          28.3,
          28.3,
          28.3,
          32.3,
          32.3,
          32.3,
          32.3,
          32.3,
          32.3,
          38.9,
          38.9,
          38.9,
          38.9,
          38.9,
          38.9,
          35.4,
          35.4,
          35.4,
          35.4,
          35.4,
          35.4,
          33.7,
          33.7,
          33.7,
          33.7,
          33.7,
          33.7,
          30,
          30,
          30,
          30,
          30,
          30,
          40.1,
          40.1,
          40.1,
          40.1,
          40.1,
          40.1,
          29.2,
          29.2,
          29.2,
          29.2,
          29.2,
          29.2,
          41.9,
          41.9,
          41.9,
          41.9,
          41.9,
          41.9,
          38.9,
          38.9,
          38.9,
          38.9,
          38.9,
          38.9,
          32.9,
          32.9,
          32.9,
          32.9,
          32.9,
          32.9,
          32.7,
          32.7,
          32.7,
          32.7,
          32.7,
          32.7,
          27.5,
          27.5,
          27.5,
          27.5,
          27.5,
          27.5,
          30.2,
          30.2,
          30.2,
          30.2,
          30.2,
          30.2,
          26.6,
          26.6,
          26.6,
          26.6,
          26.6,
          26.6,
          34.3,
          34.3,
          34.3,
          34.3,
          34.3,
          34.3,
          27,
          27,
          27,
          27,
          27,
          27,
          27.2,
          27.2,
          27.2,
          27.2,
          27.2,
          27.2,
          38.6,
          38.6,
          38.6,
          38.6,
          38.6,
          38.6
         ]
        },
        {
         "name": "hba1c",
         "type": "bar",
         "x": [
          "healthy subjects",
          "healthy subjects",
          "healthy subjects",
          "healthy subjects",
          "healthy subjects",
          "healthy subjects",
          "healthy subjects",
          "healthy subjects",
          "healthy subjects",
          "healthy subjects",
          "healthy subjects",
          "healthy subjects",
          "healthy subjects",
          "healthy subjects",
          "healthy subjects",
          "healthy subjects",
          "healthy subjects",
          "healthy subjects",
          "healthy subjects",
          "healthy subjects",
          "healthy subjects",
          "healthy subjects",
          "healthy subjects",
          "healthy subjects",
          "healthy subjects",
          "healthy subjects",
          "healthy subjects",
          "healthy subjects",
          "healthy subjects",
          "healthy subjects",
          "healthy subjects",
          "healthy subjects",
          "healthy subjects",
          "healthy subjects",
          "healthy subjects",
          "healthy subjects",
          "healthy subjects",
          "healthy subjects",
          "healthy subjects",
          "healthy subjects",
          "healthy subjects",
          "healthy subjects",
          "healthy subjects",
          "healthy subjects",
          "healthy subjects",
          "healthy subjects",
          "healthy subjects",
          "healthy subjects",
          "healthy subjects",
          "healthy subjects",
          "healthy subjects",
          "healthy subjects",
          "healthy subjects",
          "healthy subjects",
          "healthy subjects",
          "healthy subjects",
          "healthy subjects",
          "healthy subjects",
          "healthy subjects",
          "healthy subjects",
          "prediabetic",
          "prediabetic",
          "prediabetic",
          "prediabetic",
          "prediabetic",
          "prediabetic",
          "prediabetic",
          "prediabetic",
          "prediabetic",
          "prediabetic",
          "prediabetic",
          "prediabetic",
          "prediabetic",
          "prediabetic",
          "prediabetic",
          "prediabetic",
          "prediabetic",
          "prediabetic",
          "prediabetic",
          "prediabetic",
          "prediabetic",
          "prediabetic",
          "prediabetic",
          "prediabetic",
          "prediabetic",
          "prediabetic",
          "prediabetic",
          "prediabetic",
          "prediabetic",
          "prediabetic",
          "prediabetic",
          "prediabetic",
          "prediabetic",
          "prediabetic",
          "prediabetic",
          "prediabetic",
          "prediabetic",
          "prediabetic",
          "prediabetic",
          "prediabetic",
          "prediabetic",
          "prediabetic",
          "prediabetic",
          "prediabetic",
          "prediabetic",
          "prediabetic",
          "prediabetic",
          "prediabetic",
          "prediabetic",
          "prediabetic",
          "prediabetic",
          "prediabetic",
          "prediabetic",
          "prediabetic",
          "prediabetic",
          "prediabetic",
          "prediabetic",
          "prediabetic",
          "prediabetic",
          "prediabetic",
          "diabetic subjects",
          "diabetic subjects",
          "diabetic subjects",
          "diabetic subjects",
          "diabetic subjects",
          "diabetic subjects",
          "diabetic subjects",
          "diabetic subjects",
          "diabetic subjects",
          "diabetic subjects",
          "diabetic subjects",
          "diabetic subjects",
          "diabetic subjects",
          "diabetic subjects",
          "diabetic subjects",
          "diabetic subjects",
          "diabetic subjects",
          "diabetic subjects",
          "diabetic subjects",
          "diabetic subjects",
          "diabetic subjects",
          "diabetic subjects",
          "diabetic subjects",
          "diabetic subjects",
          "diabetic subjects",
          "diabetic subjects",
          "diabetic subjects",
          "diabetic subjects",
          "diabetic subjects",
          "diabetic subjects",
          "diabetic subjects",
          "diabetic subjects",
          "diabetic subjects",
          "diabetic subjects",
          "diabetic subjects",
          "diabetic subjects",
          "diabetic subjects",
          "diabetic subjects",
          "diabetic subjects",
          "diabetic subjects",
          "diabetic subjects",
          "diabetic subjects",
          "diabetic subjects",
          "diabetic subjects",
          "diabetic subjects",
          "diabetic subjects",
          "diabetic subjects",
          "diabetic subjects",
          "diabetic subjects",
          "diabetic subjects",
          "diabetic subjects",
          "diabetic subjects",
          "diabetic subjects",
          "diabetic subjects",
          "diabetic subjects",
          "diabetic subjects",
          "diabetic subjects",
          "diabetic subjects",
          "diabetic subjects",
          "diabetic subjects"
         ],
         "y": [
          5.05,
          5.05,
          5.05,
          5.05,
          5.05,
          5.05,
          5.58,
          5.58,
          5.58,
          5.58,
          5.58,
          5.58,
          5.4,
          5.4,
          5.4,
          5.4,
          5.4,
          5.4,
          5.08,
          5.08,
          5.08,
          5.08,
          5.08,
          5.08,
          5.7,
          5.7,
          5.7,
          5.7,
          5.7,
          5.7,
          5.4,
          5.4,
          5.4,
          5.4,
          5.4,
          5.4,
          5.57,
          5.57,
          5.57,
          5.57,
          5.57,
          5.57,
          5.85,
          5.85,
          5.85,
          5.85,
          5.85,
          5.85,
          5.46,
          5.46,
          5.46,
          5.46,
          5.46,
          5.46,
          4.87,
          4.87,
          4.87,
          4.87,
          4.87,
          4.87,
          5.86,
          5.86,
          5.86,
          5.86,
          5.86,
          5.86,
          6.29,
          6.29,
          6.29,
          6.29,
          6.29,
          6.29,
          5.94,
          5.94,
          5.94,
          5.94,
          5.94,
          5.94,
          6,
          6,
          6,
          6,
          6,
          6,
          5.94,
          5.94,
          5.94,
          5.94,
          5.94,
          5.94,
          6.02,
          6.02,
          6.02,
          6.02,
          6.02,
          6.02,
          5.45,
          5.45,
          5.45,
          5.45,
          5.45,
          5.45,
          6.05,
          6.05,
          6.05,
          6.05,
          6.05,
          6.05,
          5.9,
          5.9,
          5.9,
          5.9,
          5.9,
          5.9,
          5.1,
          5.1,
          5.1,
          5.1,
          5.1,
          5.1,
          7.84,
          7.84,
          7.84,
          7.84,
          7.84,
          7.84,
          7.83,
          7.83,
          7.83,
          7.83,
          7.83,
          7.83,
          6.7,
          6.7,
          6.7,
          6.7,
          6.7,
          6.7,
          6.7,
          6.7,
          6.7,
          6.7,
          6.7,
          6.7,
          7.72,
          7.72,
          7.72,
          7.72,
          7.72,
          7.72,
          7.53,
          7.53,
          7.53,
          7.53,
          7.53,
          7.53,
          8,
          8,
          8,
          8,
          8,
          8,
          6.99,
          6.99,
          6.99,
          6.99,
          6.99,
          6.99,
          6.94,
          6.94,
          6.94,
          6.94,
          6.94,
          6.94,
          9.1,
          9.1,
          9.1,
          9.1,
          9.1,
          9.1
         ]
        }
       ],
       "layout": {
        "barmode": "group",
        "template": {
         "data": {
          "bar": [
           {
            "error_x": {
             "color": "#2a3f5f"
            },
            "error_y": {
             "color": "#2a3f5f"
            },
            "marker": {
             "line": {
              "color": "#E5ECF6",
              "width": 0.5
             },
             "pattern": {
              "fillmode": "overlay",
              "size": 10,
              "solidity": 0.2
             }
            },
            "type": "bar"
           }
          ],
          "barpolar": [
           {
            "marker": {
             "line": {
              "color": "#E5ECF6",
              "width": 0.5
             },
             "pattern": {
              "fillmode": "overlay",
              "size": 10,
              "solidity": 0.2
             }
            },
            "type": "barpolar"
           }
          ],
          "carpet": [
           {
            "aaxis": {
             "endlinecolor": "#2a3f5f",
             "gridcolor": "white",
             "linecolor": "white",
             "minorgridcolor": "white",
             "startlinecolor": "#2a3f5f"
            },
            "baxis": {
             "endlinecolor": "#2a3f5f",
             "gridcolor": "white",
             "linecolor": "white",
             "minorgridcolor": "white",
             "startlinecolor": "#2a3f5f"
            },
            "type": "carpet"
           }
          ],
          "choropleth": [
           {
            "colorbar": {
             "outlinewidth": 0,
             "ticks": ""
            },
            "type": "choropleth"
           }
          ],
          "contour": [
           {
            "colorbar": {
             "outlinewidth": 0,
             "ticks": ""
            },
            "colorscale": [
             [
              0,
              "#0d0887"
             ],
             [
              0.1111111111111111,
              "#46039f"
             ],
             [
              0.2222222222222222,
              "#7201a8"
             ],
             [
              0.3333333333333333,
              "#9c179e"
             ],
             [
              0.4444444444444444,
              "#bd3786"
             ],
             [
              0.5555555555555556,
              "#d8576b"
             ],
             [
              0.6666666666666666,
              "#ed7953"
             ],
             [
              0.7777777777777778,
              "#fb9f3a"
             ],
             [
              0.8888888888888888,
              "#fdca26"
             ],
             [
              1,
              "#f0f921"
             ]
            ],
            "type": "contour"
           }
          ],
          "contourcarpet": [
           {
            "colorbar": {
             "outlinewidth": 0,
             "ticks": ""
            },
            "type": "contourcarpet"
           }
          ],
          "heatmap": [
           {
            "colorbar": {
             "outlinewidth": 0,
             "ticks": ""
            },
            "colorscale": [
             [
              0,
              "#0d0887"
             ],
             [
              0.1111111111111111,
              "#46039f"
             ],
             [
              0.2222222222222222,
              "#7201a8"
             ],
             [
              0.3333333333333333,
              "#9c179e"
             ],
             [
              0.4444444444444444,
              "#bd3786"
             ],
             [
              0.5555555555555556,
              "#d8576b"
             ],
             [
              0.6666666666666666,
              "#ed7953"
             ],
             [
              0.7777777777777778,
              "#fb9f3a"
             ],
             [
              0.8888888888888888,
              "#fdca26"
             ],
             [
              1,
              "#f0f921"
             ]
            ],
            "type": "heatmap"
           }
          ],
          "heatmapgl": [
           {
            "colorbar": {
             "outlinewidth": 0,
             "ticks": ""
            },
            "colorscale": [
             [
              0,
              "#0d0887"
             ],
             [
              0.1111111111111111,
              "#46039f"
             ],
             [
              0.2222222222222222,
              "#7201a8"
             ],
             [
              0.3333333333333333,
              "#9c179e"
             ],
             [
              0.4444444444444444,
              "#bd3786"
             ],
             [
              0.5555555555555556,
              "#d8576b"
             ],
             [
              0.6666666666666666,
              "#ed7953"
             ],
             [
              0.7777777777777778,
              "#fb9f3a"
             ],
             [
              0.8888888888888888,
              "#fdca26"
             ],
             [
              1,
              "#f0f921"
             ]
            ],
            "type": "heatmapgl"
           }
          ],
          "histogram": [
           {
            "marker": {
             "pattern": {
              "fillmode": "overlay",
              "size": 10,
              "solidity": 0.2
             }
            },
            "type": "histogram"
           }
          ],
          "histogram2d": [
           {
            "colorbar": {
             "outlinewidth": 0,
             "ticks": ""
            },
            "colorscale": [
             [
              0,
              "#0d0887"
             ],
             [
              0.1111111111111111,
              "#46039f"
             ],
             [
              0.2222222222222222,
              "#7201a8"
             ],
             [
              0.3333333333333333,
              "#9c179e"
             ],
             [
              0.4444444444444444,
              "#bd3786"
             ],
             [
              0.5555555555555556,
              "#d8576b"
             ],
             [
              0.6666666666666666,
              "#ed7953"
             ],
             [
              0.7777777777777778,
              "#fb9f3a"
             ],
             [
              0.8888888888888888,
              "#fdca26"
             ],
             [
              1,
              "#f0f921"
             ]
            ],
            "type": "histogram2d"
           }
          ],
          "histogram2dcontour": [
           {
            "colorbar": {
             "outlinewidth": 0,
             "ticks": ""
            },
            "colorscale": [
             [
              0,
              "#0d0887"
             ],
             [
              0.1111111111111111,
              "#46039f"
             ],
             [
              0.2222222222222222,
              "#7201a8"
             ],
             [
              0.3333333333333333,
              "#9c179e"
             ],
             [
              0.4444444444444444,
              "#bd3786"
             ],
             [
              0.5555555555555556,
              "#d8576b"
             ],
             [
              0.6666666666666666,
              "#ed7953"
             ],
             [
              0.7777777777777778,
              "#fb9f3a"
             ],
             [
              0.8888888888888888,
              "#fdca26"
             ],
             [
              1,
              "#f0f921"
             ]
            ],
            "type": "histogram2dcontour"
           }
          ],
          "mesh3d": [
           {
            "colorbar": {
             "outlinewidth": 0,
             "ticks": ""
            },
            "type": "mesh3d"
           }
          ],
          "parcoords": [
           {
            "line": {
             "colorbar": {
              "outlinewidth": 0,
              "ticks": ""
             }
            },
            "type": "parcoords"
           }
          ],
          "pie": [
           {
            "automargin": true,
            "type": "pie"
           }
          ],
          "scatter": [
           {
            "fillpattern": {
             "fillmode": "overlay",
             "size": 10,
             "solidity": 0.2
            },
            "type": "scatter"
           }
          ],
          "scatter3d": [
           {
            "line": {
             "colorbar": {
              "outlinewidth": 0,
              "ticks": ""
             }
            },
            "marker": {
             "colorbar": {
              "outlinewidth": 0,
              "ticks": ""
             }
            },
            "type": "scatter3d"
           }
          ],
          "scattercarpet": [
           {
            "marker": {
             "colorbar": {
              "outlinewidth": 0,
              "ticks": ""
             }
            },
            "type": "scattercarpet"
           }
          ],
          "scattergeo": [
           {
            "marker": {
             "colorbar": {
              "outlinewidth": 0,
              "ticks": ""
             }
            },
            "type": "scattergeo"
           }
          ],
          "scattergl": [
           {
            "marker": {
             "colorbar": {
              "outlinewidth": 0,
              "ticks": ""
             }
            },
            "type": "scattergl"
           }
          ],
          "scattermapbox": [
           {
            "marker": {
             "colorbar": {
              "outlinewidth": 0,
              "ticks": ""
             }
            },
            "type": "scattermapbox"
           }
          ],
          "scatterpolar": [
           {
            "marker": {
             "colorbar": {
              "outlinewidth": 0,
              "ticks": ""
             }
            },
            "type": "scatterpolar"
           }
          ],
          "scatterpolargl": [
           {
            "marker": {
             "colorbar": {
              "outlinewidth": 0,
              "ticks": ""
             }
            },
            "type": "scatterpolargl"
           }
          ],
          "scatterternary": [
           {
            "marker": {
             "colorbar": {
              "outlinewidth": 0,
              "ticks": ""
             }
            },
            "type": "scatterternary"
           }
          ],
          "surface": [
           {
            "colorbar": {
             "outlinewidth": 0,
             "ticks": ""
            },
            "colorscale": [
             [
              0,
              "#0d0887"
             ],
             [
              0.1111111111111111,
              "#46039f"
             ],
             [
              0.2222222222222222,
              "#7201a8"
             ],
             [
              0.3333333333333333,
              "#9c179e"
             ],
             [
              0.4444444444444444,
              "#bd3786"
             ],
             [
              0.5555555555555556,
              "#d8576b"
             ],
             [
              0.6666666666666666,
              "#ed7953"
             ],
             [
              0.7777777777777778,
              "#fb9f3a"
             ],
             [
              0.8888888888888888,
              "#fdca26"
             ],
             [
              1,
              "#f0f921"
             ]
            ],
            "type": "surface"
           }
          ],
          "table": [
           {
            "cells": {
             "fill": {
              "color": "#EBF0F8"
             },
             "line": {
              "color": "white"
             }
            },
            "header": {
             "fill": {
              "color": "#C8D4E3"
             },
             "line": {
              "color": "white"
             }
            },
            "type": "table"
           }
          ]
         },
         "layout": {
          "annotationdefaults": {
           "arrowcolor": "#2a3f5f",
           "arrowhead": 0,
           "arrowwidth": 1
          },
          "autotypenumbers": "strict",
          "coloraxis": {
           "colorbar": {
            "outlinewidth": 0,
            "ticks": ""
           }
          },
          "colorscale": {
           "diverging": [
            [
             0,
             "#8e0152"
            ],
            [
             0.1,
             "#c51b7d"
            ],
            [
             0.2,
             "#de77ae"
            ],
            [
             0.3,
             "#f1b6da"
            ],
            [
             0.4,
             "#fde0ef"
            ],
            [
             0.5,
             "#f7f7f7"
            ],
            [
             0.6,
             "#e6f5d0"
            ],
            [
             0.7,
             "#b8e186"
            ],
            [
             0.8,
             "#7fbc41"
            ],
            [
             0.9,
             "#4d9221"
            ],
            [
             1,
             "#276419"
            ]
           ],
           "sequential": [
            [
             0,
             "#0d0887"
            ],
            [
             0.1111111111111111,
             "#46039f"
            ],
            [
             0.2222222222222222,
             "#7201a8"
            ],
            [
             0.3333333333333333,
             "#9c179e"
            ],
            [
             0.4444444444444444,
             "#bd3786"
            ],
            [
             0.5555555555555556,
             "#d8576b"
            ],
            [
             0.6666666666666666,
             "#ed7953"
            ],
            [
             0.7777777777777778,
             "#fb9f3a"
            ],
            [
             0.8888888888888888,
             "#fdca26"
            ],
            [
             1,
             "#f0f921"
            ]
           ],
           "sequentialminus": [
            [
             0,
             "#0d0887"
            ],
            [
             0.1111111111111111,
             "#46039f"
            ],
            [
             0.2222222222222222,
             "#7201a8"
            ],
            [
             0.3333333333333333,
             "#9c179e"
            ],
            [
             0.4444444444444444,
             "#bd3786"
            ],
            [
             0.5555555555555556,
             "#d8576b"
            ],
            [
             0.6666666666666666,
             "#ed7953"
            ],
            [
             0.7777777777777778,
             "#fb9f3a"
            ],
            [
             0.8888888888888888,
             "#fdca26"
            ],
            [
             1,
             "#f0f921"
            ]
           ]
          },
          "colorway": [
           "#636efa",
           "#EF553B",
           "#00cc96",
           "#ab63fa",
           "#FFA15A",
           "#19d3f3",
           "#FF6692",
           "#B6E880",
           "#FF97FF",
           "#FECB52"
          ],
          "font": {
           "color": "#2a3f5f"
          },
          "geo": {
           "bgcolor": "white",
           "lakecolor": "white",
           "landcolor": "#E5ECF6",
           "showlakes": true,
           "showland": true,
           "subunitcolor": "white"
          },
          "hoverlabel": {
           "align": "left"
          },
          "hovermode": "closest",
          "mapbox": {
           "style": "light"
          },
          "paper_bgcolor": "white",
          "plot_bgcolor": "#E5ECF6",
          "polar": {
           "angularaxis": {
            "gridcolor": "white",
            "linecolor": "white",
            "ticks": ""
           },
           "bgcolor": "#E5ECF6",
           "radialaxis": {
            "gridcolor": "white",
            "linecolor": "white",
            "ticks": ""
           }
          },
          "scene": {
           "xaxis": {
            "backgroundcolor": "#E5ECF6",
            "gridcolor": "white",
            "gridwidth": 2,
            "linecolor": "white",
            "showbackground": true,
            "ticks": "",
            "zerolinecolor": "white"
           },
           "yaxis": {
            "backgroundcolor": "#E5ECF6",
            "gridcolor": "white",
            "gridwidth": 2,
            "linecolor": "white",
            "showbackground": true,
            "ticks": "",
            "zerolinecolor": "white"
           },
           "zaxis": {
            "backgroundcolor": "#E5ECF6",
            "gridcolor": "white",
            "gridwidth": 2,
            "linecolor": "white",
            "showbackground": true,
            "ticks": "",
            "zerolinecolor": "white"
           }
          },
          "shapedefaults": {
           "line": {
            "color": "#2a3f5f"
           }
          },
          "ternary": {
           "aaxis": {
            "gridcolor": "white",
            "linecolor": "white",
            "ticks": ""
           },
           "baxis": {
            "gridcolor": "white",
            "linecolor": "white",
            "ticks": ""
           },
           "bgcolor": "#E5ECF6",
           "caxis": {
            "gridcolor": "white",
            "linecolor": "white",
            "ticks": ""
           }
          },
          "title": {
           "x": 0.05
          },
          "xaxis": {
           "automargin": true,
           "gridcolor": "white",
           "linecolor": "white",
           "ticks": "",
           "title": {
            "standoff": 15
           },
           "zerolinecolor": "white",
           "zerolinewidth": 2
          },
          "yaxis": {
           "automargin": true,
           "gridcolor": "white",
           "linecolor": "white",
           "ticks": "",
           "title": {
            "standoff": 15
           },
           "zerolinecolor": "white",
           "zerolinewidth": 2
          }
         }
        },
        "title": {
         "text": "Relación entre BMI y hba1c"
        },
        "xaxis": {
         "title": {
          "text": "Estado de Salud"
         }
        }
       }
      },
      "text/html": [
       "<div>                            <div id=\"df0f0408-a458-4167-be41-91198b1eda8b\" class=\"plotly-graph-div\" style=\"height:525px; width:100%;\"></div>            <script type=\"text/javascript\">                require([\"plotly\"], function(Plotly) {                    window.PLOTLYENV=window.PLOTLYENV || {};                                    if (document.getElementById(\"df0f0408-a458-4167-be41-91198b1eda8b\")) {                    Plotly.newPlot(                        \"df0f0408-a458-4167-be41-91198b1eda8b\",                        [{\"name\":\"BMI\",\"x\":[\"healthy subjects\",\"healthy subjects\",\"healthy subjects\",\"healthy subjects\",\"healthy subjects\",\"healthy subjects\",\"healthy subjects\",\"healthy subjects\",\"healthy subjects\",\"healthy subjects\",\"healthy subjects\",\"healthy subjects\",\"healthy subjects\",\"healthy subjects\",\"healthy subjects\",\"healthy subjects\",\"healthy subjects\",\"healthy subjects\",\"healthy subjects\",\"healthy subjects\",\"healthy subjects\",\"healthy subjects\",\"healthy subjects\",\"healthy subjects\",\"healthy subjects\",\"healthy subjects\",\"healthy subjects\",\"healthy subjects\",\"healthy subjects\",\"healthy subjects\",\"healthy subjects\",\"healthy subjects\",\"healthy subjects\",\"healthy subjects\",\"healthy subjects\",\"healthy subjects\",\"healthy subjects\",\"healthy subjects\",\"healthy subjects\",\"healthy subjects\",\"healthy subjects\",\"healthy subjects\",\"healthy subjects\",\"healthy subjects\",\"healthy subjects\",\"healthy subjects\",\"healthy subjects\",\"healthy subjects\",\"healthy subjects\",\"healthy subjects\",\"healthy subjects\",\"healthy subjects\",\"healthy subjects\",\"healthy subjects\",\"healthy subjects\",\"healthy subjects\",\"healthy subjects\",\"healthy subjects\",\"healthy subjects\",\"healthy subjects\",\"prediabetic\",\"prediabetic\",\"prediabetic\",\"prediabetic\",\"prediabetic\",\"prediabetic\",\"prediabetic\",\"prediabetic\",\"prediabetic\",\"prediabetic\",\"prediabetic\",\"prediabetic\",\"prediabetic\",\"prediabetic\",\"prediabetic\",\"prediabetic\",\"prediabetic\",\"prediabetic\",\"prediabetic\",\"prediabetic\",\"prediabetic\",\"prediabetic\",\"prediabetic\",\"prediabetic\",\"prediabetic\",\"prediabetic\",\"prediabetic\",\"prediabetic\",\"prediabetic\",\"prediabetic\",\"prediabetic\",\"prediabetic\",\"prediabetic\",\"prediabetic\",\"prediabetic\",\"prediabetic\",\"prediabetic\",\"prediabetic\",\"prediabetic\",\"prediabetic\",\"prediabetic\",\"prediabetic\",\"prediabetic\",\"prediabetic\",\"prediabetic\",\"prediabetic\",\"prediabetic\",\"prediabetic\",\"prediabetic\",\"prediabetic\",\"prediabetic\",\"prediabetic\",\"prediabetic\",\"prediabetic\",\"prediabetic\",\"prediabetic\",\"prediabetic\",\"prediabetic\",\"prediabetic\",\"prediabetic\",\"diabetic subjects\",\"diabetic subjects\",\"diabetic subjects\",\"diabetic subjects\",\"diabetic subjects\",\"diabetic subjects\",\"diabetic subjects\",\"diabetic subjects\",\"diabetic subjects\",\"diabetic subjects\",\"diabetic subjects\",\"diabetic subjects\",\"diabetic subjects\",\"diabetic subjects\",\"diabetic subjects\",\"diabetic subjects\",\"diabetic subjects\",\"diabetic subjects\",\"diabetic subjects\",\"diabetic subjects\",\"diabetic subjects\",\"diabetic subjects\",\"diabetic subjects\",\"diabetic subjects\",\"diabetic subjects\",\"diabetic subjects\",\"diabetic subjects\",\"diabetic subjects\",\"diabetic subjects\",\"diabetic subjects\",\"diabetic subjects\",\"diabetic subjects\",\"diabetic subjects\",\"diabetic subjects\",\"diabetic subjects\",\"diabetic subjects\",\"diabetic subjects\",\"diabetic subjects\",\"diabetic subjects\",\"diabetic subjects\",\"diabetic subjects\",\"diabetic subjects\",\"diabetic subjects\",\"diabetic subjects\",\"diabetic subjects\",\"diabetic subjects\",\"diabetic subjects\",\"diabetic subjects\",\"diabetic subjects\",\"diabetic subjects\",\"diabetic subjects\",\"diabetic subjects\",\"diabetic subjects\",\"diabetic subjects\",\"diabetic subjects\",\"diabetic subjects\",\"diabetic subjects\",\"diabetic subjects\",\"diabetic subjects\",\"diabetic subjects\"],\"y\":[27.9,27.9,27.9,27.9,27.9,27.9,20.5,20.5,20.5,20.5,20.5,20.5,21.4,21.4,21.4,21.4,21.4,21.4,27.2,27.2,27.2,27.2,27.2,27.2,26.5,26.5,26.5,26.5,26.5,26.5,20.5,20.5,20.5,20.5,20.5,20.5,24.7,24.7,24.7,24.7,24.7,24.7,19.9,19.9,19.9,19.9,19.9,19.9,20.8,20.8,20.8,20.8,20.8,20.8,27.8,27.8,27.8,27.8,27.8,27.8,34.8,34.8,34.8,34.8,34.8,34.8,28.3,28.3,28.3,28.3,28.3,28.3,32.3,32.3,32.3,32.3,32.3,32.3,38.9,38.9,38.9,38.9,38.9,38.9,35.4,35.4,35.4,35.4,35.4,35.4,33.7,33.7,33.7,33.7,33.7,33.7,30.0,30.0,30.0,30.0,30.0,30.0,40.1,40.1,40.1,40.1,40.1,40.1,29.2,29.2,29.2,29.2,29.2,29.2,41.9,41.9,41.9,41.9,41.9,41.9,38.9,38.9,38.9,38.9,38.9,38.9,32.9,32.9,32.9,32.9,32.9,32.9,32.7,32.7,32.7,32.7,32.7,32.7,27.5,27.5,27.5,27.5,27.5,27.5,30.2,30.2,30.2,30.2,30.2,30.2,26.6,26.6,26.6,26.6,26.6,26.6,34.3,34.3,34.3,34.3,34.3,34.3,27.0,27.0,27.0,27.0,27.0,27.0,27.2,27.2,27.2,27.2,27.2,27.2,38.6,38.6,38.6,38.6,38.6,38.6],\"type\":\"bar\"},{\"name\":\"hba1c\",\"x\":[\"healthy subjects\",\"healthy subjects\",\"healthy subjects\",\"healthy subjects\",\"healthy subjects\",\"healthy subjects\",\"healthy subjects\",\"healthy subjects\",\"healthy subjects\",\"healthy subjects\",\"healthy subjects\",\"healthy subjects\",\"healthy subjects\",\"healthy subjects\",\"healthy subjects\",\"healthy subjects\",\"healthy subjects\",\"healthy subjects\",\"healthy subjects\",\"healthy subjects\",\"healthy subjects\",\"healthy subjects\",\"healthy subjects\",\"healthy subjects\",\"healthy subjects\",\"healthy subjects\",\"healthy subjects\",\"healthy subjects\",\"healthy subjects\",\"healthy subjects\",\"healthy subjects\",\"healthy subjects\",\"healthy subjects\",\"healthy subjects\",\"healthy subjects\",\"healthy subjects\",\"healthy subjects\",\"healthy subjects\",\"healthy subjects\",\"healthy subjects\",\"healthy subjects\",\"healthy subjects\",\"healthy subjects\",\"healthy subjects\",\"healthy subjects\",\"healthy subjects\",\"healthy subjects\",\"healthy subjects\",\"healthy subjects\",\"healthy subjects\",\"healthy subjects\",\"healthy subjects\",\"healthy subjects\",\"healthy subjects\",\"healthy subjects\",\"healthy subjects\",\"healthy subjects\",\"healthy subjects\",\"healthy subjects\",\"healthy subjects\",\"prediabetic\",\"prediabetic\",\"prediabetic\",\"prediabetic\",\"prediabetic\",\"prediabetic\",\"prediabetic\",\"prediabetic\",\"prediabetic\",\"prediabetic\",\"prediabetic\",\"prediabetic\",\"prediabetic\",\"prediabetic\",\"prediabetic\",\"prediabetic\",\"prediabetic\",\"prediabetic\",\"prediabetic\",\"prediabetic\",\"prediabetic\",\"prediabetic\",\"prediabetic\",\"prediabetic\",\"prediabetic\",\"prediabetic\",\"prediabetic\",\"prediabetic\",\"prediabetic\",\"prediabetic\",\"prediabetic\",\"prediabetic\",\"prediabetic\",\"prediabetic\",\"prediabetic\",\"prediabetic\",\"prediabetic\",\"prediabetic\",\"prediabetic\",\"prediabetic\",\"prediabetic\",\"prediabetic\",\"prediabetic\",\"prediabetic\",\"prediabetic\",\"prediabetic\",\"prediabetic\",\"prediabetic\",\"prediabetic\",\"prediabetic\",\"prediabetic\",\"prediabetic\",\"prediabetic\",\"prediabetic\",\"prediabetic\",\"prediabetic\",\"prediabetic\",\"prediabetic\",\"prediabetic\",\"prediabetic\",\"diabetic subjects\",\"diabetic subjects\",\"diabetic subjects\",\"diabetic subjects\",\"diabetic subjects\",\"diabetic subjects\",\"diabetic subjects\",\"diabetic subjects\",\"diabetic subjects\",\"diabetic subjects\",\"diabetic subjects\",\"diabetic subjects\",\"diabetic subjects\",\"diabetic subjects\",\"diabetic subjects\",\"diabetic subjects\",\"diabetic subjects\",\"diabetic subjects\",\"diabetic subjects\",\"diabetic subjects\",\"diabetic subjects\",\"diabetic subjects\",\"diabetic subjects\",\"diabetic subjects\",\"diabetic subjects\",\"diabetic subjects\",\"diabetic subjects\",\"diabetic subjects\",\"diabetic subjects\",\"diabetic subjects\",\"diabetic subjects\",\"diabetic subjects\",\"diabetic subjects\",\"diabetic subjects\",\"diabetic subjects\",\"diabetic subjects\",\"diabetic subjects\",\"diabetic subjects\",\"diabetic subjects\",\"diabetic subjects\",\"diabetic subjects\",\"diabetic subjects\",\"diabetic subjects\",\"diabetic subjects\",\"diabetic subjects\",\"diabetic subjects\",\"diabetic subjects\",\"diabetic subjects\",\"diabetic subjects\",\"diabetic subjects\",\"diabetic subjects\",\"diabetic subjects\",\"diabetic subjects\",\"diabetic subjects\",\"diabetic subjects\",\"diabetic subjects\",\"diabetic subjects\",\"diabetic subjects\",\"diabetic subjects\",\"diabetic subjects\"],\"y\":[5.05,5.05,5.05,5.05,5.05,5.05,5.58,5.58,5.58,5.58,5.58,5.58,5.4,5.4,5.4,5.4,5.4,5.4,5.08,5.08,5.08,5.08,5.08,5.08,5.7,5.7,5.7,5.7,5.7,5.7,5.4,5.4,5.4,5.4,5.4,5.4,5.57,5.57,5.57,5.57,5.57,5.57,5.85,5.85,5.85,5.85,5.85,5.85,5.46,5.46,5.46,5.46,5.46,5.46,4.87,4.87,4.87,4.87,4.87,4.87,5.86,5.86,5.86,5.86,5.86,5.86,6.29,6.29,6.29,6.29,6.29,6.29,5.94,5.94,5.94,5.94,5.94,5.94,6.0,6.0,6.0,6.0,6.0,6.0,5.94,5.94,5.94,5.94,5.94,5.94,6.02,6.02,6.02,6.02,6.02,6.02,5.45,5.45,5.45,5.45,5.45,5.45,6.05,6.05,6.05,6.05,6.05,6.05,5.9,5.9,5.9,5.9,5.9,5.9,5.1,5.1,5.1,5.1,5.1,5.1,7.84,7.84,7.84,7.84,7.84,7.84,7.83,7.83,7.83,7.83,7.83,7.83,6.7,6.7,6.7,6.7,6.7,6.7,6.7,6.7,6.7,6.7,6.7,6.7,7.72,7.72,7.72,7.72,7.72,7.72,7.53,7.53,7.53,7.53,7.53,7.53,8.0,8.0,8.0,8.0,8.0,8.0,6.99,6.99,6.99,6.99,6.99,6.99,6.94,6.94,6.94,6.94,6.94,6.94,9.1,9.1,9.1,9.1,9.1,9.1],\"type\":\"bar\"}],                        {\"barmode\":\"group\",\"template\":{\"data\":{\"barpolar\":[{\"marker\":{\"line\":{\"color\":\"#E5ECF6\",\"width\":0.5},\"pattern\":{\"fillmode\":\"overlay\",\"size\":10,\"solidity\":0.2}},\"type\":\"barpolar\"}],\"bar\":[{\"error_x\":{\"color\":\"#2a3f5f\"},\"error_y\":{\"color\":\"#2a3f5f\"},\"marker\":{\"line\":{\"color\":\"#E5ECF6\",\"width\":0.5},\"pattern\":{\"fillmode\":\"overlay\",\"size\":10,\"solidity\":0.2}},\"type\":\"bar\"}],\"carpet\":[{\"aaxis\":{\"endlinecolor\":\"#2a3f5f\",\"gridcolor\":\"white\",\"linecolor\":\"white\",\"minorgridcolor\":\"white\",\"startlinecolor\":\"#2a3f5f\"},\"baxis\":{\"endlinecolor\":\"#2a3f5f\",\"gridcolor\":\"white\",\"linecolor\":\"white\",\"minorgridcolor\":\"white\",\"startlinecolor\":\"#2a3f5f\"},\"type\":\"carpet\"}],\"choropleth\":[{\"colorbar\":{\"outlinewidth\":0,\"ticks\":\"\"},\"type\":\"choropleth\"}],\"contourcarpet\":[{\"colorbar\":{\"outlinewidth\":0,\"ticks\":\"\"},\"type\":\"contourcarpet\"}],\"contour\":[{\"colorbar\":{\"outlinewidth\":0,\"ticks\":\"\"},\"colorscale\":[[0.0,\"#0d0887\"],[0.1111111111111111,\"#46039f\"],[0.2222222222222222,\"#7201a8\"],[0.3333333333333333,\"#9c179e\"],[0.4444444444444444,\"#bd3786\"],[0.5555555555555556,\"#d8576b\"],[0.6666666666666666,\"#ed7953\"],[0.7777777777777778,\"#fb9f3a\"],[0.8888888888888888,\"#fdca26\"],[1.0,\"#f0f921\"]],\"type\":\"contour\"}],\"heatmapgl\":[{\"colorbar\":{\"outlinewidth\":0,\"ticks\":\"\"},\"colorscale\":[[0.0,\"#0d0887\"],[0.1111111111111111,\"#46039f\"],[0.2222222222222222,\"#7201a8\"],[0.3333333333333333,\"#9c179e\"],[0.4444444444444444,\"#bd3786\"],[0.5555555555555556,\"#d8576b\"],[0.6666666666666666,\"#ed7953\"],[0.7777777777777778,\"#fb9f3a\"],[0.8888888888888888,\"#fdca26\"],[1.0,\"#f0f921\"]],\"type\":\"heatmapgl\"}],\"heatmap\":[{\"colorbar\":{\"outlinewidth\":0,\"ticks\":\"\"},\"colorscale\":[[0.0,\"#0d0887\"],[0.1111111111111111,\"#46039f\"],[0.2222222222222222,\"#7201a8\"],[0.3333333333333333,\"#9c179e\"],[0.4444444444444444,\"#bd3786\"],[0.5555555555555556,\"#d8576b\"],[0.6666666666666666,\"#ed7953\"],[0.7777777777777778,\"#fb9f3a\"],[0.8888888888888888,\"#fdca26\"],[1.0,\"#f0f921\"]],\"type\":\"heatmap\"}],\"histogram2dcontour\":[{\"colorbar\":{\"outlinewidth\":0,\"ticks\":\"\"},\"colorscale\":[[0.0,\"#0d0887\"],[0.1111111111111111,\"#46039f\"],[0.2222222222222222,\"#7201a8\"],[0.3333333333333333,\"#9c179e\"],[0.4444444444444444,\"#bd3786\"],[0.5555555555555556,\"#d8576b\"],[0.6666666666666666,\"#ed7953\"],[0.7777777777777778,\"#fb9f3a\"],[0.8888888888888888,\"#fdca26\"],[1.0,\"#f0f921\"]],\"type\":\"histogram2dcontour\"}],\"histogram2d\":[{\"colorbar\":{\"outlinewidth\":0,\"ticks\":\"\"},\"colorscale\":[[0.0,\"#0d0887\"],[0.1111111111111111,\"#46039f\"],[0.2222222222222222,\"#7201a8\"],[0.3333333333333333,\"#9c179e\"],[0.4444444444444444,\"#bd3786\"],[0.5555555555555556,\"#d8576b\"],[0.6666666666666666,\"#ed7953\"],[0.7777777777777778,\"#fb9f3a\"],[0.8888888888888888,\"#fdca26\"],[1.0,\"#f0f921\"]],\"type\":\"histogram2d\"}],\"histogram\":[{\"marker\":{\"pattern\":{\"fillmode\":\"overlay\",\"size\":10,\"solidity\":0.2}},\"type\":\"histogram\"}],\"mesh3d\":[{\"colorbar\":{\"outlinewidth\":0,\"ticks\":\"\"},\"type\":\"mesh3d\"}],\"parcoords\":[{\"line\":{\"colorbar\":{\"outlinewidth\":0,\"ticks\":\"\"}},\"type\":\"parcoords\"}],\"pie\":[{\"automargin\":true,\"type\":\"pie\"}],\"scatter3d\":[{\"line\":{\"colorbar\":{\"outlinewidth\":0,\"ticks\":\"\"}},\"marker\":{\"colorbar\":{\"outlinewidth\":0,\"ticks\":\"\"}},\"type\":\"scatter3d\"}],\"scattercarpet\":[{\"marker\":{\"colorbar\":{\"outlinewidth\":0,\"ticks\":\"\"}},\"type\":\"scattercarpet\"}],\"scattergeo\":[{\"marker\":{\"colorbar\":{\"outlinewidth\":0,\"ticks\":\"\"}},\"type\":\"scattergeo\"}],\"scattergl\":[{\"marker\":{\"colorbar\":{\"outlinewidth\":0,\"ticks\":\"\"}},\"type\":\"scattergl\"}],\"scattermapbox\":[{\"marker\":{\"colorbar\":{\"outlinewidth\":0,\"ticks\":\"\"}},\"type\":\"scattermapbox\"}],\"scatterpolargl\":[{\"marker\":{\"colorbar\":{\"outlinewidth\":0,\"ticks\":\"\"}},\"type\":\"scatterpolargl\"}],\"scatterpolar\":[{\"marker\":{\"colorbar\":{\"outlinewidth\":0,\"ticks\":\"\"}},\"type\":\"scatterpolar\"}],\"scatter\":[{\"fillpattern\":{\"fillmode\":\"overlay\",\"size\":10,\"solidity\":0.2},\"type\":\"scatter\"}],\"scatterternary\":[{\"marker\":{\"colorbar\":{\"outlinewidth\":0,\"ticks\":\"\"}},\"type\":\"scatterternary\"}],\"surface\":[{\"colorbar\":{\"outlinewidth\":0,\"ticks\":\"\"},\"colorscale\":[[0.0,\"#0d0887\"],[0.1111111111111111,\"#46039f\"],[0.2222222222222222,\"#7201a8\"],[0.3333333333333333,\"#9c179e\"],[0.4444444444444444,\"#bd3786\"],[0.5555555555555556,\"#d8576b\"],[0.6666666666666666,\"#ed7953\"],[0.7777777777777778,\"#fb9f3a\"],[0.8888888888888888,\"#fdca26\"],[1.0,\"#f0f921\"]],\"type\":\"surface\"}],\"table\":[{\"cells\":{\"fill\":{\"color\":\"#EBF0F8\"},\"line\":{\"color\":\"white\"}},\"header\":{\"fill\":{\"color\":\"#C8D4E3\"},\"line\":{\"color\":\"white\"}},\"type\":\"table\"}]},\"layout\":{\"annotationdefaults\":{\"arrowcolor\":\"#2a3f5f\",\"arrowhead\":0,\"arrowwidth\":1},\"autotypenumbers\":\"strict\",\"coloraxis\":{\"colorbar\":{\"outlinewidth\":0,\"ticks\":\"\"}},\"colorscale\":{\"diverging\":[[0,\"#8e0152\"],[0.1,\"#c51b7d\"],[0.2,\"#de77ae\"],[0.3,\"#f1b6da\"],[0.4,\"#fde0ef\"],[0.5,\"#f7f7f7\"],[0.6,\"#e6f5d0\"],[0.7,\"#b8e186\"],[0.8,\"#7fbc41\"],[0.9,\"#4d9221\"],[1,\"#276419\"]],\"sequential\":[[0.0,\"#0d0887\"],[0.1111111111111111,\"#46039f\"],[0.2222222222222222,\"#7201a8\"],[0.3333333333333333,\"#9c179e\"],[0.4444444444444444,\"#bd3786\"],[0.5555555555555556,\"#d8576b\"],[0.6666666666666666,\"#ed7953\"],[0.7777777777777778,\"#fb9f3a\"],[0.8888888888888888,\"#fdca26\"],[1.0,\"#f0f921\"]],\"sequentialminus\":[[0.0,\"#0d0887\"],[0.1111111111111111,\"#46039f\"],[0.2222222222222222,\"#7201a8\"],[0.3333333333333333,\"#9c179e\"],[0.4444444444444444,\"#bd3786\"],[0.5555555555555556,\"#d8576b\"],[0.6666666666666666,\"#ed7953\"],[0.7777777777777778,\"#fb9f3a\"],[0.8888888888888888,\"#fdca26\"],[1.0,\"#f0f921\"]]},\"colorway\":[\"#636efa\",\"#EF553B\",\"#00cc96\",\"#ab63fa\",\"#FFA15A\",\"#19d3f3\",\"#FF6692\",\"#B6E880\",\"#FF97FF\",\"#FECB52\"],\"font\":{\"color\":\"#2a3f5f\"},\"geo\":{\"bgcolor\":\"white\",\"lakecolor\":\"white\",\"landcolor\":\"#E5ECF6\",\"showlakes\":true,\"showland\":true,\"subunitcolor\":\"white\"},\"hoverlabel\":{\"align\":\"left\"},\"hovermode\":\"closest\",\"mapbox\":{\"style\":\"light\"},\"paper_bgcolor\":\"white\",\"plot_bgcolor\":\"#E5ECF6\",\"polar\":{\"angularaxis\":{\"gridcolor\":\"white\",\"linecolor\":\"white\",\"ticks\":\"\"},\"bgcolor\":\"#E5ECF6\",\"radialaxis\":{\"gridcolor\":\"white\",\"linecolor\":\"white\",\"ticks\":\"\"}},\"scene\":{\"xaxis\":{\"backgroundcolor\":\"#E5ECF6\",\"gridcolor\":\"white\",\"gridwidth\":2,\"linecolor\":\"white\",\"showbackground\":true,\"ticks\":\"\",\"zerolinecolor\":\"white\"},\"yaxis\":{\"backgroundcolor\":\"#E5ECF6\",\"gridcolor\":\"white\",\"gridwidth\":2,\"linecolor\":\"white\",\"showbackground\":true,\"ticks\":\"\",\"zerolinecolor\":\"white\"},\"zaxis\":{\"backgroundcolor\":\"#E5ECF6\",\"gridcolor\":\"white\",\"gridwidth\":2,\"linecolor\":\"white\",\"showbackground\":true,\"ticks\":\"\",\"zerolinecolor\":\"white\"}},\"shapedefaults\":{\"line\":{\"color\":\"#2a3f5f\"}},\"ternary\":{\"aaxis\":{\"gridcolor\":\"white\",\"linecolor\":\"white\",\"ticks\":\"\"},\"baxis\":{\"gridcolor\":\"white\",\"linecolor\":\"white\",\"ticks\":\"\"},\"bgcolor\":\"#E5ECF6\",\"caxis\":{\"gridcolor\":\"white\",\"linecolor\":\"white\",\"ticks\":\"\"}},\"title\":{\"x\":0.05},\"xaxis\":{\"automargin\":true,\"gridcolor\":\"white\",\"linecolor\":\"white\",\"ticks\":\"\",\"title\":{\"standoff\":15},\"zerolinecolor\":\"white\",\"zerolinewidth\":2},\"yaxis\":{\"automargin\":true,\"gridcolor\":\"white\",\"linecolor\":\"white\",\"ticks\":\"\",\"title\":{\"standoff\":15},\"zerolinecolor\":\"white\",\"zerolinewidth\":2}}},\"title\":{\"text\":\"Relaci\\u00f3n entre BMI y hba1c\"},\"xaxis\":{\"title\":{\"text\":\"Estado de Salud\"}}},                        {\"responsive\": true}                    ).then(function(){\n",
       "                            \n",
       "var gd = document.getElementById('df0f0408-a458-4167-be41-91198b1eda8b');\n",
       "var x = new MutationObserver(function (mutations, observer) {{\n",
       "        var display = window.getComputedStyle(gd).display;\n",
       "        if (!display || display === 'none') {{\n",
       "            console.log([gd, 'removed!']);\n",
       "            Plotly.purge(gd);\n",
       "            observer.disconnect();\n",
       "        }}\n",
       "}});\n",
       "\n",
       "// Listen for the removal of the full notebook cells\n",
       "var notebookContainer = gd.closest('#notebook-container');\n",
       "if (notebookContainer) {{\n",
       "    x.observe(notebookContainer, {childList: true});\n",
       "}}\n",
       "\n",
       "// Listen for the clearing of the current output cell\n",
       "var outputEl = gd.closest('.output');\n",
       "if (outputEl) {{\n",
       "    x.observe(outputEl, {childList: true});\n",
       "}}\n",
       "\n",
       "                        })                };                });            </script>        </div>"
      ]
     },
     "metadata": {},
     "output_type": "display_data"
    }
   ],
   "source": [
    "#Evaluar la relación del BMI y hba1c (Gráfico final para la presentación)\n",
    "x = sample_metadata.HEALTH_STATUS\n",
    "\n",
    "trace1 = {\n",
    "    'x': x,\n",
    "    'y': sample_metadata['BMI'],\n",
    "    'name': 'BMI',\n",
    "    'type': 'bar'\n",
    "\n",
    "}\n",
    "\n",
    "trace2 = {\n",
    "    'x': x,\n",
    "    'y': sample_metadata['hba1c'],\n",
    "    'name': 'hba1c',\n",
    "    'type': 'bar'\n",
    "\n",
    "}\n",
    "\n",
    "data = [trace1, trace2]\n",
    "\n",
    "layout  = {\n",
    "    'xaxis': {'title': 'Estado de Salud'},\n",
    "    'barmode': 'group',  #agrupa tambien hay la opcion de apilar\n",
    "    'title': 'Relación entre BMI y hba1c'\n",
    "\n",
    "}\n",
    "\n",
    "fig = go.Figure(data = data, layout = layout)\n",
    "iplot(fig)"
   ]
  },
  {
   "cell_type": "code",
   "execution_count": 22,
   "metadata": {},
   "outputs": [
    {
     "data": {
      "image/png": "[encoded data removed]",
      "text/plain": [
       "<Figure size 864x576 with 1 Axes>"
      ]
     },
     "metadata": {
      "needs_background": "light"
     },
     "output_type": "display_data"
    }
   ],
   "source": [
    "#Evaluar la relación del BMI y hba1c en relación al genero mediante un scatter  ---(Hipotésis 2)\n",
    "plt.figure(figsize=(12,8))\n",
    "sns.scatterplot(x = sample_metadata[\"BMI\"],\n",
    "y = sample_metadata[\"hba1c\"],\n",
    "s= 200,   #tamaño de los circulos\n",
    "hue = sample_metadata[\"sex\"]);"
   ]
  },
  {
   "cell_type": "code",
   "execution_count": 23,
   "metadata": {},
   "outputs": [
    {
     "data": {
      "image/png": "[encoded data removed]",
      "text/plain": [
       "<Figure size 648x216 with 3 Axes>"
      ]
     },
     "metadata": {
      "needs_background": "light"
     },
     "output_type": "display_data"
    }
   ],
   "source": [
    "#Gráfico para evaluar el número de muestras implicadas en el estudio de acuerdo a su estado de salud y su genero, para relacionar el scatter anterior. (Para confirmar la Hipotesis 2)\n",
    "sns.catplot(x='sex',\n",
    "            col='HEALTH_STATUS',\n",
    "            height=3,\n",
    "            data=sample_metadata,\n",
    "            kind='count');"
   ]
  },
  {
   "cell_type": "markdown",
   "metadata": {},
   "source": [
    "### 3.2 Dataset Hoja2 -----> Principal de metabolitos encontrados"
   ]
  },
  {
   "cell_type": "code",
   "execution_count": 24,
   "metadata": {},
   "outputs": [
    {
     "ename": "NameError",
     "evalue": "name 'data_matrix_pca' is not defined",
     "output_type": "error",
     "traceback": [
      "\u001b[1;31m---------------------------------------------------------------------------\u001b[0m",
      "\u001b[1;31mNameError\u001b[0m                                 Traceback (most recent call last)",
      "\u001b[1;32m~\\AppData\\Local\\Temp\\ipykernel_14872\\2984045837.py\u001b[0m in \u001b[0;36m<module>\u001b[1;34m\u001b[0m\n\u001b[0;32m      1\u001b[0m \u001b[1;31m#Dataset principal de metabolitos encontrados\u001b[0m\u001b[1;33m\u001b[0m\u001b[1;33m\u001b[0m\u001b[1;33m\u001b[0m\u001b[0m\n\u001b[0;32m      2\u001b[0m \u001b[1;31m#Como quiero hacer un PCA y la función que encontre dice que tengo que tener una columna común en la tabla para que la pueda cruzar con los datos de la Hoja 1, entonces agrego una una columna llamada Idx\u001b[0m\u001b[1;33m\u001b[0m\u001b[1;33m\u001b[0m\u001b[1;33m\u001b[0m\u001b[0m\n\u001b[1;32m----> 3\u001b[1;33m \u001b[0mdata_matrix_pca\u001b[0m\u001b[1;33m\u001b[0m\u001b[1;33m\u001b[0m\u001b[0m\n\u001b[0m",
      "\u001b[1;31mNameError\u001b[0m: name 'data_matrix_pca' is not defined"
     ]
    }
   ],
   "source": [
    "#Dataset principal de metabolitos encontrados \n",
    "#Como quiero hacer un PCA y la función que encontre dice que tengo que tener una columna común en la tabla para que la pueda cruzar con los datos de la Hoja 1, entonces agrego una una columna llamada Idx\n",
    "data_matrix_pca"
   ]
  },
  {
   "cell_type": "code",
   "execution_count": null,
   "metadata": {},
   "outputs": [],
   "source": [
    "##necesito la matriz transpuesta\n",
    "matrix= data_matrix_pca.transpose()"
   ]
  },
  {
   "cell_type": "code",
   "execution_count": null,
   "metadata": {},
   "outputs": [
    {
     "data": {
      "text/html": [
       "<div>\n",
       "<style scoped>\n",
       "    .dataframe tbody tr th:only-of-type {\n",
       "        vertical-align: middle;\n",
       "    }\n",
       "\n",
       "    .dataframe tbody tr th {\n",
       "        vertical-align: top;\n",
       "    }\n",
       "\n",
       "    .dataframe thead th {\n",
       "        text-align: right;\n",
       "    }\n",
       "</style>\n",
       "<table border=\"1\" class=\"dataframe\">\n",
       "  <thead>\n",
       "    <tr style=\"text-align: right;\">\n",
       "      <th>compound_id</th>\n",
       "      <th>compound_0001</th>\n",
       "      <th>compound_0002</th>\n",
       "      <th>compound_0003</th>\n",
       "      <th>compound_0004</th>\n",
       "      <th>compound_0005</th>\n",
       "      <th>compound_0006</th>\n",
       "      <th>compound_0007</th>\n",
       "      <th>compound_0008</th>\n",
       "      <th>compound_0009</th>\n",
       "      <th>compound_0010</th>\n",
       "      <th>...</th>\n",
       "      <th>compound_1478</th>\n",
       "      <th>compound_1479</th>\n",
       "      <th>compound_1480</th>\n",
       "      <th>compound_1481</th>\n",
       "      <th>compound_1482</th>\n",
       "      <th>compound_1483</th>\n",
       "      <th>compound_1484</th>\n",
       "      <th>compound_1485</th>\n",
       "      <th>compound_1486</th>\n",
       "      <th>Idx</th>\n",
       "    </tr>\n",
       "  </thead>\n",
       "  <tbody>\n",
       "    <tr>\n",
       "      <th>sample_0001</th>\n",
       "      <td>0.793620</td>\n",
       "      <td>0.743363</td>\n",
       "      <td>0.360069</td>\n",
       "      <td>0.557168</td>\n",
       "      <td>0.886952</td>\n",
       "      <td>0.698678</td>\n",
       "      <td>0.811203</td>\n",
       "      <td>0.546670</td>\n",
       "      <td>0.770260</td>\n",
       "      <td>0.781398</td>\n",
       "      <td>...</td>\n",
       "      <td>0.517077</td>\n",
       "      <td>0.661523</td>\n",
       "      <td>0.957021</td>\n",
       "      <td>1.384068</td>\n",
       "      <td>0.690831</td>\n",
       "      <td>0.865679</td>\n",
       "      <td>0.254363</td>\n",
       "      <td>1.369263</td>\n",
       "      <td>0.898327</td>\n",
       "      <td>1</td>\n",
       "    </tr>\n",
       "    <tr>\n",
       "      <th>sample_0002</th>\n",
       "      <td>0.713684</td>\n",
       "      <td>0.762673</td>\n",
       "      <td>0.716626</td>\n",
       "      <td>0.739390</td>\n",
       "      <td>0.921852</td>\n",
       "      <td>0.814239</td>\n",
       "      <td>0.858662</td>\n",
       "      <td>0.633751</td>\n",
       "      <td>0.740652</td>\n",
       "      <td>0.328962</td>\n",
       "      <td>...</td>\n",
       "      <td>0.534857</td>\n",
       "      <td>0.570957</td>\n",
       "      <td>1.111478</td>\n",
       "      <td>1.115342</td>\n",
       "      <td>0.917702</td>\n",
       "      <td>0.371899</td>\n",
       "      <td>0.244953</td>\n",
       "      <td>1.417962</td>\n",
       "      <td>1.023614</td>\n",
       "      <td>2</td>\n",
       "    </tr>\n",
       "    <tr>\n",
       "      <th>sample_0003</th>\n",
       "      <td>1.073165</td>\n",
       "      <td>1.184788</td>\n",
       "      <td>0.448938</td>\n",
       "      <td>0.609914</td>\n",
       "      <td>0.861769</td>\n",
       "      <td>1.064785</td>\n",
       "      <td>1.129699</td>\n",
       "      <td>1.094749</td>\n",
       "      <td>0.751253</td>\n",
       "      <td>0.942595</td>\n",
       "      <td>...</td>\n",
       "      <td>0.858642</td>\n",
       "      <td>0.463791</td>\n",
       "      <td>1.064177</td>\n",
       "      <td>1.036884</td>\n",
       "      <td>0.736977</td>\n",
       "      <td>0.919946</td>\n",
       "      <td>0.209242</td>\n",
       "      <td>1.028140</td>\n",
       "      <td>1.718457</td>\n",
       "      <td>3</td>\n",
       "    </tr>\n",
       "    <tr>\n",
       "      <th>sample_0004</th>\n",
       "      <td>1.074977</td>\n",
       "      <td>0.959059</td>\n",
       "      <td>0.695333</td>\n",
       "      <td>0.699223</td>\n",
       "      <td>0.893694</td>\n",
       "      <td>1.294579</td>\n",
       "      <td>1.062554</td>\n",
       "      <td>1.362446</td>\n",
       "      <td>0.739146</td>\n",
       "      <td>0.793178</td>\n",
       "      <td>...</td>\n",
       "      <td>0.770668</td>\n",
       "      <td>0.628167</td>\n",
       "      <td>1.075152</td>\n",
       "      <td>0.744478</td>\n",
       "      <td>0.750908</td>\n",
       "      <td>0.392298</td>\n",
       "      <td>0.211141</td>\n",
       "      <td>1.126669</td>\n",
       "      <td>2.942013</td>\n",
       "      <td>4</td>\n",
       "    </tr>\n",
       "    <tr>\n",
       "      <th>sample_0005</th>\n",
       "      <td>0.903153</td>\n",
       "      <td>0.442795</td>\n",
       "      <td>0.444998</td>\n",
       "      <td>0.668752</td>\n",
       "      <td>0.917792</td>\n",
       "      <td>0.832667</td>\n",
       "      <td>1.031598</td>\n",
       "      <td>0.645060</td>\n",
       "      <td>0.730204</td>\n",
       "      <td>0.888357</td>\n",
       "      <td>...</td>\n",
       "      <td>0.637424</td>\n",
       "      <td>0.862852</td>\n",
       "      <td>1.147057</td>\n",
       "      <td>1.206461</td>\n",
       "      <td>0.506770</td>\n",
       "      <td>0.651075</td>\n",
       "      <td>0.679437</td>\n",
       "      <td>0.936695</td>\n",
       "      <td>0.993321</td>\n",
       "      <td>5</td>\n",
       "    </tr>\n",
       "    <tr>\n",
       "      <th>...</th>\n",
       "      <td>...</td>\n",
       "      <td>...</td>\n",
       "      <td>...</td>\n",
       "      <td>...</td>\n",
       "      <td>...</td>\n",
       "      <td>...</td>\n",
       "      <td>...</td>\n",
       "      <td>...</td>\n",
       "      <td>...</td>\n",
       "      <td>...</td>\n",
       "      <td>...</td>\n",
       "      <td>...</td>\n",
       "      <td>...</td>\n",
       "      <td>...</td>\n",
       "      <td>...</td>\n",
       "      <td>...</td>\n",
       "      <td>...</td>\n",
       "      <td>...</td>\n",
       "      <td>...</td>\n",
       "      <td>...</td>\n",
       "      <td>...</td>\n",
       "    </tr>\n",
       "    <tr>\n",
       "      <th>sample_0176</th>\n",
       "      <td>0.542919</td>\n",
       "      <td>0.553931</td>\n",
       "      <td>2.349338</td>\n",
       "      <td>0.936585</td>\n",
       "      <td>0.965326</td>\n",
       "      <td>0.787991</td>\n",
       "      <td>0.898010</td>\n",
       "      <td>0.843814</td>\n",
       "      <td>0.840719</td>\n",
       "      <td>0.714205</td>\n",
       "      <td>...</td>\n",
       "      <td>0.584738</td>\n",
       "      <td>2.699964</td>\n",
       "      <td>0.975919</td>\n",
       "      <td>0.858300</td>\n",
       "      <td>0.908436</td>\n",
       "      <td>0.788290</td>\n",
       "      <td>0.977343</td>\n",
       "      <td>1.131925</td>\n",
       "      <td>0.896456</td>\n",
       "      <td>176</td>\n",
       "    </tr>\n",
       "    <tr>\n",
       "      <th>sample_0177</th>\n",
       "      <td>0.628734</td>\n",
       "      <td>0.701192</td>\n",
       "      <td>1.245951</td>\n",
       "      <td>1.079366</td>\n",
       "      <td>1.014223</td>\n",
       "      <td>0.824301</td>\n",
       "      <td>0.900189</td>\n",
       "      <td>0.609887</td>\n",
       "      <td>0.897941</td>\n",
       "      <td>0.958437</td>\n",
       "      <td>...</td>\n",
       "      <td>0.678950</td>\n",
       "      <td>1.894706</td>\n",
       "      <td>1.021240</td>\n",
       "      <td>0.951380</td>\n",
       "      <td>0.842580</td>\n",
       "      <td>1.243000</td>\n",
       "      <td>0.815561</td>\n",
       "      <td>1.041996</td>\n",
       "      <td>0.743896</td>\n",
       "      <td>177</td>\n",
       "    </tr>\n",
       "    <tr>\n",
       "      <th>sample_0178</th>\n",
       "      <td>0.555390</td>\n",
       "      <td>0.576311</td>\n",
       "      <td>2.362415</td>\n",
       "      <td>1.029833</td>\n",
       "      <td>0.869503</td>\n",
       "      <td>0.737526</td>\n",
       "      <td>0.859506</td>\n",
       "      <td>0.659059</td>\n",
       "      <td>0.791604</td>\n",
       "      <td>0.686486</td>\n",
       "      <td>...</td>\n",
       "      <td>0.358595</td>\n",
       "      <td>1.628771</td>\n",
       "      <td>1.052294</td>\n",
       "      <td>0.610196</td>\n",
       "      <td>0.822898</td>\n",
       "      <td>0.200175</td>\n",
       "      <td>0.596484</td>\n",
       "      <td>1.050490</td>\n",
       "      <td>0.731513</td>\n",
       "      <td>178</td>\n",
       "    </tr>\n",
       "    <tr>\n",
       "      <th>sample_0179</th>\n",
       "      <td>0.590216</td>\n",
       "      <td>0.830575</td>\n",
       "      <td>1.660026</td>\n",
       "      <td>0.937246</td>\n",
       "      <td>1.008572</td>\n",
       "      <td>0.682781</td>\n",
       "      <td>0.885793</td>\n",
       "      <td>0.688223</td>\n",
       "      <td>0.945739</td>\n",
       "      <td>0.626076</td>\n",
       "      <td>...</td>\n",
       "      <td>0.716202</td>\n",
       "      <td>1.452911</td>\n",
       "      <td>1.225981</td>\n",
       "      <td>0.688868</td>\n",
       "      <td>1.028227</td>\n",
       "      <td>0.774527</td>\n",
       "      <td>3.107715</td>\n",
       "      <td>0.967872</td>\n",
       "      <td>0.618127</td>\n",
       "      <td>179</td>\n",
       "    </tr>\n",
       "    <tr>\n",
       "      <th>sample_0180</th>\n",
       "      <td>0.601484</td>\n",
       "      <td>0.649295</td>\n",
       "      <td>2.050633</td>\n",
       "      <td>1.468545</td>\n",
       "      <td>1.196692</td>\n",
       "      <td>0.838273</td>\n",
       "      <td>0.929139</td>\n",
       "      <td>0.732988</td>\n",
       "      <td>0.941791</td>\n",
       "      <td>0.693703</td>\n",
       "      <td>...</td>\n",
       "      <td>0.654983</td>\n",
       "      <td>1.883979</td>\n",
       "      <td>1.264813</td>\n",
       "      <td>0.810332</td>\n",
       "      <td>0.941312</td>\n",
       "      <td>1.234610</td>\n",
       "      <td>3.388902</td>\n",
       "      <td>0.958265</td>\n",
       "      <td>0.744399</td>\n",
       "      <td>180</td>\n",
       "    </tr>\n",
       "  </tbody>\n",
       "</table>\n",
       "<p>180 rows × 1487 columns</p>\n",
       "</div>"
      ],
      "text/plain": [
       "compound_id  compound_0001  compound_0002  compound_0003  compound_0004  \\\n",
       "sample_0001       0.793620       0.743363       0.360069       0.557168   \n",
       "sample_0002       0.713684       0.762673       0.716626       0.739390   \n",
       "sample_0003       1.073165       1.184788       0.448938       0.609914   \n",
       "sample_0004       1.074977       0.959059       0.695333       0.699223   \n",
       "sample_0005       0.903153       0.442795       0.444998       0.668752   \n",
       "...                    ...            ...            ...            ...   \n",
       "sample_0176       0.542919       0.553931       2.349338       0.936585   \n",
       "sample_0177       0.628734       0.701192       1.245951       1.079366   \n",
       "sample_0178       0.555390       0.576311       2.362415       1.029833   \n",
       "sample_0179       0.590216       0.830575       1.660026       0.937246   \n",
       "sample_0180       0.601484       0.649295       2.050633       1.468545   \n",
       "\n",
       "compound_id  compound_0005  compound_0006  compound_0007  compound_0008  \\\n",
       "sample_0001       0.886952       0.698678       0.811203       0.546670   \n",
       "sample_0002       0.921852       0.814239       0.858662       0.633751   \n",
       "sample_0003       0.861769       1.064785       1.129699       1.094749   \n",
       "sample_0004       0.893694       1.294579       1.062554       1.362446   \n",
       "sample_0005       0.917792       0.832667       1.031598       0.645060   \n",
       "...                    ...            ...            ...            ...   \n",
       "sample_0176       0.965326       0.787991       0.898010       0.843814   \n",
       "sample_0177       1.014223       0.824301       0.900189       0.609887   \n",
       "sample_0178       0.869503       0.737526       0.859506       0.659059   \n",
       "sample_0179       1.008572       0.682781       0.885793       0.688223   \n",
       "sample_0180       1.196692       0.838273       0.929139       0.732988   \n",
       "\n",
       "compound_id  compound_0009  compound_0010  ...  compound_1478  compound_1479  \\\n",
       "sample_0001       0.770260       0.781398  ...       0.517077       0.661523   \n",
       "sample_0002       0.740652       0.328962  ...       0.534857       0.570957   \n",
       "sample_0003       0.751253       0.942595  ...       0.858642       0.463791   \n",
       "sample_0004       0.739146       0.793178  ...       0.770668       0.628167   \n",
       "sample_0005       0.730204       0.888357  ...       0.637424       0.862852   \n",
       "...                    ...            ...  ...            ...            ...   \n",
       "sample_0176       0.840719       0.714205  ...       0.584738       2.699964   \n",
       "sample_0177       0.897941       0.958437  ...       0.678950       1.894706   \n",
       "sample_0178       0.791604       0.686486  ...       0.358595       1.628771   \n",
       "sample_0179       0.945739       0.626076  ...       0.716202       1.452911   \n",
       "sample_0180       0.941791       0.693703  ...       0.654983       1.883979   \n",
       "\n",
       "compound_id  compound_1480  compound_1481  compound_1482  compound_1483  \\\n",
       "sample_0001       0.957021       1.384068       0.690831       0.865679   \n",
       "sample_0002       1.111478       1.115342       0.917702       0.371899   \n",
       "sample_0003       1.064177       1.036884       0.736977       0.919946   \n",
       "sample_0004       1.075152       0.744478       0.750908       0.392298   \n",
       "sample_0005       1.147057       1.206461       0.506770       0.651075   \n",
       "...                    ...            ...            ...            ...   \n",
       "sample_0176       0.975919       0.858300       0.908436       0.788290   \n",
       "sample_0177       1.021240       0.951380       0.842580       1.243000   \n",
       "sample_0178       1.052294       0.610196       0.822898       0.200175   \n",
       "sample_0179       1.225981       0.688868       1.028227       0.774527   \n",
       "sample_0180       1.264813       0.810332       0.941312       1.234610   \n",
       "\n",
       "compound_id  compound_1484  compound_1485  compound_1486  Idx  \n",
       "sample_0001       0.254363       1.369263       0.898327    1  \n",
       "sample_0002       0.244953       1.417962       1.023614    2  \n",
       "sample_0003       0.209242       1.028140       1.718457    3  \n",
       "sample_0004       0.211141       1.126669       2.942013    4  \n",
       "sample_0005       0.679437       0.936695       0.993321    5  \n",
       "...                    ...            ...            ...  ...  \n",
       "sample_0176       0.977343       1.131925       0.896456  176  \n",
       "sample_0177       0.815561       1.041996       0.743896  177  \n",
       "sample_0178       0.596484       1.050490       0.731513  178  \n",
       "sample_0179       3.107715       0.967872       0.618127  179  \n",
       "sample_0180       3.388902       0.958265       0.744399  180  \n",
       "\n",
       "[180 rows x 1487 columns]"
      ]
     },
     "execution_count": 418,
     "metadata": {},
     "output_type": "execute_result"
    }
   ],
   "source": [
    "#Crear una lista con el número correspondiente de mis filas \n",
    "rn1= range(1,181)\n",
    "dataTable = matrix.assign(Idx = list(rn1))\n",
    "#comprobamos que se añadió la columna\n",
    "dataTable"
   ]
  },
  {
   "cell_type": "code",
   "execution_count": null,
   "metadata": {},
   "outputs": [
    {
     "data": {
      "text/plain": [
       "Index(['sample_id', 'sample_id_study', 'CLIENT_IDENTIFIER', 'CLIENT_MATRIX',\n",
       "       'DAY', 'Health', 'Time', 'HEALTH_STATUS', 'RUN_DAY', 'SAMPLE_AMT',\n",
       "       'SUBJECT', 'Time Point', 'study_group', 'sex', 'BMI', 'hba1c'],\n",
       "      dtype='object')"
      ]
     },
     "execution_count": 419,
     "metadata": {},
     "output_type": "execute_result"
    }
   ],
   "source": [
    "#leo la hoja 1 para sacar una columna que necesito \"Health\", sample_id\n",
    "sample_metadata.columns"
   ]
  },
  {
   "cell_type": "code",
   "execution_count": null,
   "metadata": {},
   "outputs": [
    {
     "data": {
      "text/html": [
       "<div>\n",
       "<style scoped>\n",
       "    .dataframe tbody tr th:only-of-type {\n",
       "        vertical-align: middle;\n",
       "    }\n",
       "\n",
       "    .dataframe tbody tr th {\n",
       "        vertical-align: top;\n",
       "    }\n",
       "\n",
       "    .dataframe thead th {\n",
       "        text-align: right;\n",
       "    }\n",
       "</style>\n",
       "<table border=\"1\" class=\"dataframe\">\n",
       "  <thead>\n",
       "    <tr style=\"text-align: right;\">\n",
       "      <th></th>\n",
       "      <th>sample_id</th>\n",
       "    </tr>\n",
       "  </thead>\n",
       "  <tbody>\n",
       "    <tr>\n",
       "      <th>0</th>\n",
       "      <td>sample_0001</td>\n",
       "    </tr>\n",
       "    <tr>\n",
       "      <th>1</th>\n",
       "      <td>sample_0002</td>\n",
       "    </tr>\n",
       "    <tr>\n",
       "      <th>2</th>\n",
       "      <td>sample_0003</td>\n",
       "    </tr>\n",
       "    <tr>\n",
       "      <th>3</th>\n",
       "      <td>sample_0004</td>\n",
       "    </tr>\n",
       "    <tr>\n",
       "      <th>4</th>\n",
       "      <td>sample_0005</td>\n",
       "    </tr>\n",
       "    <tr>\n",
       "      <th>...</th>\n",
       "      <td>...</td>\n",
       "    </tr>\n",
       "    <tr>\n",
       "      <th>175</th>\n",
       "      <td>sample_0176</td>\n",
       "    </tr>\n",
       "    <tr>\n",
       "      <th>176</th>\n",
       "      <td>sample_0177</td>\n",
       "    </tr>\n",
       "    <tr>\n",
       "      <th>177</th>\n",
       "      <td>sample_0178</td>\n",
       "    </tr>\n",
       "    <tr>\n",
       "      <th>178</th>\n",
       "      <td>sample_0179</td>\n",
       "    </tr>\n",
       "    <tr>\n",
       "      <th>179</th>\n",
       "      <td>sample_0180</td>\n",
       "    </tr>\n",
       "  </tbody>\n",
       "</table>\n",
       "<p>180 rows × 1 columns</p>\n",
       "</div>"
      ],
      "text/plain": [
       "       sample_id\n",
       "0    sample_0001\n",
       "1    sample_0002\n",
       "2    sample_0003\n",
       "3    sample_0004\n",
       "4    sample_0005\n",
       "..           ...\n",
       "175  sample_0176\n",
       "176  sample_0177\n",
       "177  sample_0178\n",
       "178  sample_0179\n",
       "179  sample_0180\n",
       "\n",
       "[180 rows x 1 columns]"
      ]
     },
     "execution_count": 420,
     "metadata": {},
     "output_type": "execute_result"
    }
   ],
   "source": [
    "#Sacar la clase sample_id\n",
    "df= sample_metadata.loc[:,[\"sample_id\"]]\n",
    "df"
   ]
  },
  {
   "cell_type": "code",
   "execution_count": null,
   "metadata": {},
   "outputs": [],
   "source": [
    "#pasar a lista porque me esta dando error el comando de concat result=pd.concat([df1,df2], axis=1)\n",
    "muestras=df[\"sample_id\"].tolist()"
   ]
  },
  {
   "cell_type": "code",
   "execution_count": null,
   "metadata": {},
   "outputs": [
    {
     "data": {
      "text/html": [
       "<div>\n",
       "<style scoped>\n",
       "    .dataframe tbody tr th:only-of-type {\n",
       "        vertical-align: middle;\n",
       "    }\n",
       "\n",
       "    .dataframe tbody tr th {\n",
       "        vertical-align: top;\n",
       "    }\n",
       "\n",
       "    .dataframe thead th {\n",
       "        text-align: right;\n",
       "    }\n",
       "</style>\n",
       "<table border=\"1\" class=\"dataframe\">\n",
       "  <thead>\n",
       "    <tr style=\"text-align: right;\">\n",
       "      <th></th>\n",
       "      <th>Health</th>\n",
       "    </tr>\n",
       "  </thead>\n",
       "  <tbody>\n",
       "    <tr>\n",
       "      <th>0</th>\n",
       "      <td>Healthy</td>\n",
       "    </tr>\n",
       "    <tr>\n",
       "      <th>1</th>\n",
       "      <td>Healthy</td>\n",
       "    </tr>\n",
       "    <tr>\n",
       "      <th>2</th>\n",
       "      <td>Healthy</td>\n",
       "    </tr>\n",
       "    <tr>\n",
       "      <th>3</th>\n",
       "      <td>Healthy</td>\n",
       "    </tr>\n",
       "    <tr>\n",
       "      <th>4</th>\n",
       "      <td>Healthy</td>\n",
       "    </tr>\n",
       "    <tr>\n",
       "      <th>...</th>\n",
       "      <td>...</td>\n",
       "    </tr>\n",
       "    <tr>\n",
       "      <th>175</th>\n",
       "      <td>diabetic</td>\n",
       "    </tr>\n",
       "    <tr>\n",
       "      <th>176</th>\n",
       "      <td>diabetic</td>\n",
       "    </tr>\n",
       "    <tr>\n",
       "      <th>177</th>\n",
       "      <td>diabetic</td>\n",
       "    </tr>\n",
       "    <tr>\n",
       "      <th>178</th>\n",
       "      <td>diabetic</td>\n",
       "    </tr>\n",
       "    <tr>\n",
       "      <th>179</th>\n",
       "      <td>diabetic</td>\n",
       "    </tr>\n",
       "  </tbody>\n",
       "</table>\n",
       "<p>180 rows × 1 columns</p>\n",
       "</div>"
      ],
      "text/plain": [
       "       Health\n",
       "0     Healthy\n",
       "1     Healthy\n",
       "2     Healthy\n",
       "3     Healthy\n",
       "4     Healthy\n",
       "..        ...\n",
       "175  diabetic\n",
       "176  diabetic\n",
       "177  diabetic\n",
       "178  diabetic\n",
       "179  diabetic\n",
       "\n",
       "[180 rows x 1 columns]"
      ]
     },
     "execution_count": 422,
     "metadata": {},
     "output_type": "execute_result"
    }
   ],
   "source": [
    "#Sacar la clase Health\n",
    "\n",
    "df1= sample_metadata.loc[:,[\"Health\"]]\n",
    "df1"
   ]
  },
  {
   "cell_type": "code",
   "execution_count": null,
   "metadata": {},
   "outputs": [],
   "source": [
    "#pasar a lista porque me esta dando error el comando de concat result=pd.concat([df1,df2], axis=1)\n",
    "clase=sample_metadata[\"Health\"].tolist()"
   ]
  },
  {
   "cell_type": "code",
   "execution_count": null,
   "metadata": {},
   "outputs": [
    {
     "data": {
      "text/html": [
       "<div>\n",
       "<style scoped>\n",
       "    .dataframe tbody tr th:only-of-type {\n",
       "        vertical-align: middle;\n",
       "    }\n",
       "\n",
       "    .dataframe tbody tr th {\n",
       "        vertical-align: top;\n",
       "    }\n",
       "\n",
       "    .dataframe thead th {\n",
       "        text-align: right;\n",
       "    }\n",
       "</style>\n",
       "<table border=\"1\" class=\"dataframe\">\n",
       "  <thead>\n",
       "    <tr style=\"text-align: right;\">\n",
       "      <th>compound_id</th>\n",
       "      <th>compound_0001</th>\n",
       "      <th>compound_0002</th>\n",
       "      <th>compound_0003</th>\n",
       "      <th>compound_0004</th>\n",
       "      <th>compound_0005</th>\n",
       "      <th>compound_0006</th>\n",
       "      <th>compound_0007</th>\n",
       "      <th>compound_0008</th>\n",
       "      <th>compound_0009</th>\n",
       "      <th>compound_0010</th>\n",
       "      <th>...</th>\n",
       "      <th>compound_1479</th>\n",
       "      <th>compound_1480</th>\n",
       "      <th>compound_1481</th>\n",
       "      <th>compound_1482</th>\n",
       "      <th>compound_1483</th>\n",
       "      <th>compound_1484</th>\n",
       "      <th>compound_1485</th>\n",
       "      <th>compound_1486</th>\n",
       "      <th>Idx</th>\n",
       "      <th>Class</th>\n",
       "    </tr>\n",
       "  </thead>\n",
       "  <tbody>\n",
       "    <tr>\n",
       "      <th>sample_0001</th>\n",
       "      <td>0.793620</td>\n",
       "      <td>0.743363</td>\n",
       "      <td>0.360069</td>\n",
       "      <td>0.557168</td>\n",
       "      <td>0.886952</td>\n",
       "      <td>0.698678</td>\n",
       "      <td>0.811203</td>\n",
       "      <td>0.546670</td>\n",
       "      <td>0.770260</td>\n",
       "      <td>0.781398</td>\n",
       "      <td>...</td>\n",
       "      <td>0.661523</td>\n",
       "      <td>0.957021</td>\n",
       "      <td>1.384068</td>\n",
       "      <td>0.690831</td>\n",
       "      <td>0.865679</td>\n",
       "      <td>0.254363</td>\n",
       "      <td>1.369263</td>\n",
       "      <td>0.898327</td>\n",
       "      <td>1</td>\n",
       "      <td>Healthy</td>\n",
       "    </tr>\n",
       "    <tr>\n",
       "      <th>sample_0002</th>\n",
       "      <td>0.713684</td>\n",
       "      <td>0.762673</td>\n",
       "      <td>0.716626</td>\n",
       "      <td>0.739390</td>\n",
       "      <td>0.921852</td>\n",
       "      <td>0.814239</td>\n",
       "      <td>0.858662</td>\n",
       "      <td>0.633751</td>\n",
       "      <td>0.740652</td>\n",
       "      <td>0.328962</td>\n",
       "      <td>...</td>\n",
       "      <td>0.570957</td>\n",
       "      <td>1.111478</td>\n",
       "      <td>1.115342</td>\n",
       "      <td>0.917702</td>\n",
       "      <td>0.371899</td>\n",
       "      <td>0.244953</td>\n",
       "      <td>1.417962</td>\n",
       "      <td>1.023614</td>\n",
       "      <td>2</td>\n",
       "      <td>Healthy</td>\n",
       "    </tr>\n",
       "    <tr>\n",
       "      <th>sample_0003</th>\n",
       "      <td>1.073165</td>\n",
       "      <td>1.184788</td>\n",
       "      <td>0.448938</td>\n",
       "      <td>0.609914</td>\n",
       "      <td>0.861769</td>\n",
       "      <td>1.064785</td>\n",
       "      <td>1.129699</td>\n",
       "      <td>1.094749</td>\n",
       "      <td>0.751253</td>\n",
       "      <td>0.942595</td>\n",
       "      <td>...</td>\n",
       "      <td>0.463791</td>\n",
       "      <td>1.064177</td>\n",
       "      <td>1.036884</td>\n",
       "      <td>0.736977</td>\n",
       "      <td>0.919946</td>\n",
       "      <td>0.209242</td>\n",
       "      <td>1.028140</td>\n",
       "      <td>1.718457</td>\n",
       "      <td>3</td>\n",
       "      <td>Healthy</td>\n",
       "    </tr>\n",
       "    <tr>\n",
       "      <th>sample_0004</th>\n",
       "      <td>1.074977</td>\n",
       "      <td>0.959059</td>\n",
       "      <td>0.695333</td>\n",
       "      <td>0.699223</td>\n",
       "      <td>0.893694</td>\n",
       "      <td>1.294579</td>\n",
       "      <td>1.062554</td>\n",
       "      <td>1.362446</td>\n",
       "      <td>0.739146</td>\n",
       "      <td>0.793178</td>\n",
       "      <td>...</td>\n",
       "      <td>0.628167</td>\n",
       "      <td>1.075152</td>\n",
       "      <td>0.744478</td>\n",
       "      <td>0.750908</td>\n",
       "      <td>0.392298</td>\n",
       "      <td>0.211141</td>\n",
       "      <td>1.126669</td>\n",
       "      <td>2.942013</td>\n",
       "      <td>4</td>\n",
       "      <td>Healthy</td>\n",
       "    </tr>\n",
       "    <tr>\n",
       "      <th>sample_0005</th>\n",
       "      <td>0.903153</td>\n",
       "      <td>0.442795</td>\n",
       "      <td>0.444998</td>\n",
       "      <td>0.668752</td>\n",
       "      <td>0.917792</td>\n",
       "      <td>0.832667</td>\n",
       "      <td>1.031598</td>\n",
       "      <td>0.645060</td>\n",
       "      <td>0.730204</td>\n",
       "      <td>0.888357</td>\n",
       "      <td>...</td>\n",
       "      <td>0.862852</td>\n",
       "      <td>1.147057</td>\n",
       "      <td>1.206461</td>\n",
       "      <td>0.506770</td>\n",
       "      <td>0.651075</td>\n",
       "      <td>0.679437</td>\n",
       "      <td>0.936695</td>\n",
       "      <td>0.993321</td>\n",
       "      <td>5</td>\n",
       "      <td>Healthy</td>\n",
       "    </tr>\n",
       "    <tr>\n",
       "      <th>...</th>\n",
       "      <td>...</td>\n",
       "      <td>...</td>\n",
       "      <td>...</td>\n",
       "      <td>...</td>\n",
       "      <td>...</td>\n",
       "      <td>...</td>\n",
       "      <td>...</td>\n",
       "      <td>...</td>\n",
       "      <td>...</td>\n",
       "      <td>...</td>\n",
       "      <td>...</td>\n",
       "      <td>...</td>\n",
       "      <td>...</td>\n",
       "      <td>...</td>\n",
       "      <td>...</td>\n",
       "      <td>...</td>\n",
       "      <td>...</td>\n",
       "      <td>...</td>\n",
       "      <td>...</td>\n",
       "      <td>...</td>\n",
       "      <td>...</td>\n",
       "    </tr>\n",
       "    <tr>\n",
       "      <th>sample_0176</th>\n",
       "      <td>0.542919</td>\n",
       "      <td>0.553931</td>\n",
       "      <td>2.349338</td>\n",
       "      <td>0.936585</td>\n",
       "      <td>0.965326</td>\n",
       "      <td>0.787991</td>\n",
       "      <td>0.898010</td>\n",
       "      <td>0.843814</td>\n",
       "      <td>0.840719</td>\n",
       "      <td>0.714205</td>\n",
       "      <td>...</td>\n",
       "      <td>2.699964</td>\n",
       "      <td>0.975919</td>\n",
       "      <td>0.858300</td>\n",
       "      <td>0.908436</td>\n",
       "      <td>0.788290</td>\n",
       "      <td>0.977343</td>\n",
       "      <td>1.131925</td>\n",
       "      <td>0.896456</td>\n",
       "      <td>176</td>\n",
       "      <td>diabetic</td>\n",
       "    </tr>\n",
       "    <tr>\n",
       "      <th>sample_0177</th>\n",
       "      <td>0.628734</td>\n",
       "      <td>0.701192</td>\n",
       "      <td>1.245951</td>\n",
       "      <td>1.079366</td>\n",
       "      <td>1.014223</td>\n",
       "      <td>0.824301</td>\n",
       "      <td>0.900189</td>\n",
       "      <td>0.609887</td>\n",
       "      <td>0.897941</td>\n",
       "      <td>0.958437</td>\n",
       "      <td>...</td>\n",
       "      <td>1.894706</td>\n",
       "      <td>1.021240</td>\n",
       "      <td>0.951380</td>\n",
       "      <td>0.842580</td>\n",
       "      <td>1.243000</td>\n",
       "      <td>0.815561</td>\n",
       "      <td>1.041996</td>\n",
       "      <td>0.743896</td>\n",
       "      <td>177</td>\n",
       "      <td>diabetic</td>\n",
       "    </tr>\n",
       "    <tr>\n",
       "      <th>sample_0178</th>\n",
       "      <td>0.555390</td>\n",
       "      <td>0.576311</td>\n",
       "      <td>2.362415</td>\n",
       "      <td>1.029833</td>\n",
       "      <td>0.869503</td>\n",
       "      <td>0.737526</td>\n",
       "      <td>0.859506</td>\n",
       "      <td>0.659059</td>\n",
       "      <td>0.791604</td>\n",
       "      <td>0.686486</td>\n",
       "      <td>...</td>\n",
       "      <td>1.628771</td>\n",
       "      <td>1.052294</td>\n",
       "      <td>0.610196</td>\n",
       "      <td>0.822898</td>\n",
       "      <td>0.200175</td>\n",
       "      <td>0.596484</td>\n",
       "      <td>1.050490</td>\n",
       "      <td>0.731513</td>\n",
       "      <td>178</td>\n",
       "      <td>diabetic</td>\n",
       "    </tr>\n",
       "    <tr>\n",
       "      <th>sample_0179</th>\n",
       "      <td>0.590216</td>\n",
       "      <td>0.830575</td>\n",
       "      <td>1.660026</td>\n",
       "      <td>0.937246</td>\n",
       "      <td>1.008572</td>\n",
       "      <td>0.682781</td>\n",
       "      <td>0.885793</td>\n",
       "      <td>0.688223</td>\n",
       "      <td>0.945739</td>\n",
       "      <td>0.626076</td>\n",
       "      <td>...</td>\n",
       "      <td>1.452911</td>\n",
       "      <td>1.225981</td>\n",
       "      <td>0.688868</td>\n",
       "      <td>1.028227</td>\n",
       "      <td>0.774527</td>\n",
       "      <td>3.107715</td>\n",
       "      <td>0.967872</td>\n",
       "      <td>0.618127</td>\n",
       "      <td>179</td>\n",
       "      <td>diabetic</td>\n",
       "    </tr>\n",
       "    <tr>\n",
       "      <th>sample_0180</th>\n",
       "      <td>0.601484</td>\n",
       "      <td>0.649295</td>\n",
       "      <td>2.050633</td>\n",
       "      <td>1.468545</td>\n",
       "      <td>1.196692</td>\n",
       "      <td>0.838273</td>\n",
       "      <td>0.929139</td>\n",
       "      <td>0.732988</td>\n",
       "      <td>0.941791</td>\n",
       "      <td>0.693703</td>\n",
       "      <td>...</td>\n",
       "      <td>1.883979</td>\n",
       "      <td>1.264813</td>\n",
       "      <td>0.810332</td>\n",
       "      <td>0.941312</td>\n",
       "      <td>1.234610</td>\n",
       "      <td>3.388902</td>\n",
       "      <td>0.958265</td>\n",
       "      <td>0.744399</td>\n",
       "      <td>180</td>\n",
       "      <td>diabetic</td>\n",
       "    </tr>\n",
       "  </tbody>\n",
       "</table>\n",
       "<p>180 rows × 1488 columns</p>\n",
       "</div>"
      ],
      "text/plain": [
       "compound_id  compound_0001  compound_0002  compound_0003  compound_0004  \\\n",
       "sample_0001       0.793620       0.743363       0.360069       0.557168   \n",
       "sample_0002       0.713684       0.762673       0.716626       0.739390   \n",
       "sample_0003       1.073165       1.184788       0.448938       0.609914   \n",
       "sample_0004       1.074977       0.959059       0.695333       0.699223   \n",
       "sample_0005       0.903153       0.442795       0.444998       0.668752   \n",
       "...                    ...            ...            ...            ...   \n",
       "sample_0176       0.542919       0.553931       2.349338       0.936585   \n",
       "sample_0177       0.628734       0.701192       1.245951       1.079366   \n",
       "sample_0178       0.555390       0.576311       2.362415       1.029833   \n",
       "sample_0179       0.590216       0.830575       1.660026       0.937246   \n",
       "sample_0180       0.601484       0.649295       2.050633       1.468545   \n",
       "\n",
       "compound_id  compound_0005  compound_0006  compound_0007  compound_0008  \\\n",
       "sample_0001       0.886952       0.698678       0.811203       0.546670   \n",
       "sample_0002       0.921852       0.814239       0.858662       0.633751   \n",
       "sample_0003       0.861769       1.064785       1.129699       1.094749   \n",
       "sample_0004       0.893694       1.294579       1.062554       1.362446   \n",
       "sample_0005       0.917792       0.832667       1.031598       0.645060   \n",
       "...                    ...            ...            ...            ...   \n",
       "sample_0176       0.965326       0.787991       0.898010       0.843814   \n",
       "sample_0177       1.014223       0.824301       0.900189       0.609887   \n",
       "sample_0178       0.869503       0.737526       0.859506       0.659059   \n",
       "sample_0179       1.008572       0.682781       0.885793       0.688223   \n",
       "sample_0180       1.196692       0.838273       0.929139       0.732988   \n",
       "\n",
       "compound_id  compound_0009  compound_0010  ...  compound_1479  compound_1480  \\\n",
       "sample_0001       0.770260       0.781398  ...       0.661523       0.957021   \n",
       "sample_0002       0.740652       0.328962  ...       0.570957       1.111478   \n",
       "sample_0003       0.751253       0.942595  ...       0.463791       1.064177   \n",
       "sample_0004       0.739146       0.793178  ...       0.628167       1.075152   \n",
       "sample_0005       0.730204       0.888357  ...       0.862852       1.147057   \n",
       "...                    ...            ...  ...            ...            ...   \n",
       "sample_0176       0.840719       0.714205  ...       2.699964       0.975919   \n",
       "sample_0177       0.897941       0.958437  ...       1.894706       1.021240   \n",
       "sample_0178       0.791604       0.686486  ...       1.628771       1.052294   \n",
       "sample_0179       0.945739       0.626076  ...       1.452911       1.225981   \n",
       "sample_0180       0.941791       0.693703  ...       1.883979       1.264813   \n",
       "\n",
       "compound_id  compound_1481  compound_1482  compound_1483  compound_1484  \\\n",
       "sample_0001       1.384068       0.690831       0.865679       0.254363   \n",
       "sample_0002       1.115342       0.917702       0.371899       0.244953   \n",
       "sample_0003       1.036884       0.736977       0.919946       0.209242   \n",
       "sample_0004       0.744478       0.750908       0.392298       0.211141   \n",
       "sample_0005       1.206461       0.506770       0.651075       0.679437   \n",
       "...                    ...            ...            ...            ...   \n",
       "sample_0176       0.858300       0.908436       0.788290       0.977343   \n",
       "sample_0177       0.951380       0.842580       1.243000       0.815561   \n",
       "sample_0178       0.610196       0.822898       0.200175       0.596484   \n",
       "sample_0179       0.688868       1.028227       0.774527       3.107715   \n",
       "sample_0180       0.810332       0.941312       1.234610       3.388902   \n",
       "\n",
       "compound_id  compound_1485  compound_1486  Idx     Class  \n",
       "sample_0001       1.369263       0.898327    1   Healthy  \n",
       "sample_0002       1.417962       1.023614    2   Healthy  \n",
       "sample_0003       1.028140       1.718457    3   Healthy  \n",
       "sample_0004       1.126669       2.942013    4   Healthy  \n",
       "sample_0005       0.936695       0.993321    5   Healthy  \n",
       "...                    ...            ...  ...       ...  \n",
       "sample_0176       1.131925       0.896456  176  diabetic  \n",
       "sample_0177       1.041996       0.743896  177  diabetic  \n",
       "sample_0178       1.050490       0.731513  178  diabetic  \n",
       "sample_0179       0.967872       0.618127  179  diabetic  \n",
       "sample_0180       0.958265       0.744399  180  diabetic  \n",
       "\n",
       "[180 rows x 1488 columns]"
      ]
     },
     "execution_count": 424,
     "metadata": {},
     "output_type": "execute_result"
    }
   ],
   "source": [
    "#Asignar clase a dataTable \n",
    "\n",
    "dataTable = dataTable.assign(Class = list(clase))\n",
    "#comprobamos que se añadió la columna\n",
    "dataTable"
   ]
  },
  {
   "cell_type": "code",
   "execution_count": null,
   "metadata": {},
   "outputs": [
    {
     "data": {
      "text/html": [
       "<div>\n",
       "<style scoped>\n",
       "    .dataframe tbody tr th:only-of-type {\n",
       "        vertical-align: middle;\n",
       "    }\n",
       "\n",
       "    .dataframe tbody tr th {\n",
       "        vertical-align: top;\n",
       "    }\n",
       "\n",
       "    .dataframe thead th {\n",
       "        text-align: right;\n",
       "    }\n",
       "</style>\n",
       "<table border=\"1\" class=\"dataframe\">\n",
       "  <thead>\n",
       "    <tr style=\"text-align: right;\">\n",
       "      <th>compound_id</th>\n",
       "      <th>compound_0001</th>\n",
       "      <th>compound_0002</th>\n",
       "      <th>compound_0003</th>\n",
       "      <th>compound_0004</th>\n",
       "      <th>compound_0005</th>\n",
       "      <th>compound_0006</th>\n",
       "      <th>compound_0007</th>\n",
       "      <th>compound_0008</th>\n",
       "      <th>compound_0009</th>\n",
       "      <th>compound_0010</th>\n",
       "      <th>...</th>\n",
       "      <th>compound_1480</th>\n",
       "      <th>compound_1481</th>\n",
       "      <th>compound_1482</th>\n",
       "      <th>compound_1483</th>\n",
       "      <th>compound_1484</th>\n",
       "      <th>compound_1485</th>\n",
       "      <th>compound_1486</th>\n",
       "      <th>Idx</th>\n",
       "      <th>Class</th>\n",
       "      <th>SampleID</th>\n",
       "    </tr>\n",
       "  </thead>\n",
       "  <tbody>\n",
       "    <tr>\n",
       "      <th>sample_0001</th>\n",
       "      <td>0.793620</td>\n",
       "      <td>0.743363</td>\n",
       "      <td>0.360069</td>\n",
       "      <td>0.557168</td>\n",
       "      <td>0.886952</td>\n",
       "      <td>0.698678</td>\n",
       "      <td>0.811203</td>\n",
       "      <td>0.546670</td>\n",
       "      <td>0.770260</td>\n",
       "      <td>0.781398</td>\n",
       "      <td>...</td>\n",
       "      <td>0.957021</td>\n",
       "      <td>1.384068</td>\n",
       "      <td>0.690831</td>\n",
       "      <td>0.865679</td>\n",
       "      <td>0.254363</td>\n",
       "      <td>1.369263</td>\n",
       "      <td>0.898327</td>\n",
       "      <td>1</td>\n",
       "      <td>Healthy</td>\n",
       "      <td>sample_0001</td>\n",
       "    </tr>\n",
       "    <tr>\n",
       "      <th>sample_0002</th>\n",
       "      <td>0.713684</td>\n",
       "      <td>0.762673</td>\n",
       "      <td>0.716626</td>\n",
       "      <td>0.739390</td>\n",
       "      <td>0.921852</td>\n",
       "      <td>0.814239</td>\n",
       "      <td>0.858662</td>\n",
       "      <td>0.633751</td>\n",
       "      <td>0.740652</td>\n",
       "      <td>0.328962</td>\n",
       "      <td>...</td>\n",
       "      <td>1.111478</td>\n",
       "      <td>1.115342</td>\n",
       "      <td>0.917702</td>\n",
       "      <td>0.371899</td>\n",
       "      <td>0.244953</td>\n",
       "      <td>1.417962</td>\n",
       "      <td>1.023614</td>\n",
       "      <td>2</td>\n",
       "      <td>Healthy</td>\n",
       "      <td>sample_0002</td>\n",
       "    </tr>\n",
       "    <tr>\n",
       "      <th>sample_0003</th>\n",
       "      <td>1.073165</td>\n",
       "      <td>1.184788</td>\n",
       "      <td>0.448938</td>\n",
       "      <td>0.609914</td>\n",
       "      <td>0.861769</td>\n",
       "      <td>1.064785</td>\n",
       "      <td>1.129699</td>\n",
       "      <td>1.094749</td>\n",
       "      <td>0.751253</td>\n",
       "      <td>0.942595</td>\n",
       "      <td>...</td>\n",
       "      <td>1.064177</td>\n",
       "      <td>1.036884</td>\n",
       "      <td>0.736977</td>\n",
       "      <td>0.919946</td>\n",
       "      <td>0.209242</td>\n",
       "      <td>1.028140</td>\n",
       "      <td>1.718457</td>\n",
       "      <td>3</td>\n",
       "      <td>Healthy</td>\n",
       "      <td>sample_0003</td>\n",
       "    </tr>\n",
       "    <tr>\n",
       "      <th>sample_0004</th>\n",
       "      <td>1.074977</td>\n",
       "      <td>0.959059</td>\n",
       "      <td>0.695333</td>\n",
       "      <td>0.699223</td>\n",
       "      <td>0.893694</td>\n",
       "      <td>1.294579</td>\n",
       "      <td>1.062554</td>\n",
       "      <td>1.362446</td>\n",
       "      <td>0.739146</td>\n",
       "      <td>0.793178</td>\n",
       "      <td>...</td>\n",
       "      <td>1.075152</td>\n",
       "      <td>0.744478</td>\n",
       "      <td>0.750908</td>\n",
       "      <td>0.392298</td>\n",
       "      <td>0.211141</td>\n",
       "      <td>1.126669</td>\n",
       "      <td>2.942013</td>\n",
       "      <td>4</td>\n",
       "      <td>Healthy</td>\n",
       "      <td>sample_0004</td>\n",
       "    </tr>\n",
       "    <tr>\n",
       "      <th>sample_0005</th>\n",
       "      <td>0.903153</td>\n",
       "      <td>0.442795</td>\n",
       "      <td>0.444998</td>\n",
       "      <td>0.668752</td>\n",
       "      <td>0.917792</td>\n",
       "      <td>0.832667</td>\n",
       "      <td>1.031598</td>\n",
       "      <td>0.645060</td>\n",
       "      <td>0.730204</td>\n",
       "      <td>0.888357</td>\n",
       "      <td>...</td>\n",
       "      <td>1.147057</td>\n",
       "      <td>1.206461</td>\n",
       "      <td>0.506770</td>\n",
       "      <td>0.651075</td>\n",
       "      <td>0.679437</td>\n",
       "      <td>0.936695</td>\n",
       "      <td>0.993321</td>\n",
       "      <td>5</td>\n",
       "      <td>Healthy</td>\n",
       "      <td>sample_0005</td>\n",
       "    </tr>\n",
       "    <tr>\n",
       "      <th>...</th>\n",
       "      <td>...</td>\n",
       "      <td>...</td>\n",
       "      <td>...</td>\n",
       "      <td>...</td>\n",
       "      <td>...</td>\n",
       "      <td>...</td>\n",
       "      <td>...</td>\n",
       "      <td>...</td>\n",
       "      <td>...</td>\n",
       "      <td>...</td>\n",
       "      <td>...</td>\n",
       "      <td>...</td>\n",
       "      <td>...</td>\n",
       "      <td>...</td>\n",
       "      <td>...</td>\n",
       "      <td>...</td>\n",
       "      <td>...</td>\n",
       "      <td>...</td>\n",
       "      <td>...</td>\n",
       "      <td>...</td>\n",
       "      <td>...</td>\n",
       "    </tr>\n",
       "    <tr>\n",
       "      <th>sample_0176</th>\n",
       "      <td>0.542919</td>\n",
       "      <td>0.553931</td>\n",
       "      <td>2.349338</td>\n",
       "      <td>0.936585</td>\n",
       "      <td>0.965326</td>\n",
       "      <td>0.787991</td>\n",
       "      <td>0.898010</td>\n",
       "      <td>0.843814</td>\n",
       "      <td>0.840719</td>\n",
       "      <td>0.714205</td>\n",
       "      <td>...</td>\n",
       "      <td>0.975919</td>\n",
       "      <td>0.858300</td>\n",
       "      <td>0.908436</td>\n",
       "      <td>0.788290</td>\n",
       "      <td>0.977343</td>\n",
       "      <td>1.131925</td>\n",
       "      <td>0.896456</td>\n",
       "      <td>176</td>\n",
       "      <td>diabetic</td>\n",
       "      <td>sample_0176</td>\n",
       "    </tr>\n",
       "    <tr>\n",
       "      <th>sample_0177</th>\n",
       "      <td>0.628734</td>\n",
       "      <td>0.701192</td>\n",
       "      <td>1.245951</td>\n",
       "      <td>1.079366</td>\n",
       "      <td>1.014223</td>\n",
       "      <td>0.824301</td>\n",
       "      <td>0.900189</td>\n",
       "      <td>0.609887</td>\n",
       "      <td>0.897941</td>\n",
       "      <td>0.958437</td>\n",
       "      <td>...</td>\n",
       "      <td>1.021240</td>\n",
       "      <td>0.951380</td>\n",
       "      <td>0.842580</td>\n",
       "      <td>1.243000</td>\n",
       "      <td>0.815561</td>\n",
       "      <td>1.041996</td>\n",
       "      <td>0.743896</td>\n",
       "      <td>177</td>\n",
       "      <td>diabetic</td>\n",
       "      <td>sample_0177</td>\n",
       "    </tr>\n",
       "    <tr>\n",
       "      <th>sample_0178</th>\n",
       "      <td>0.555390</td>\n",
       "      <td>0.576311</td>\n",
       "      <td>2.362415</td>\n",
       "      <td>1.029833</td>\n",
       "      <td>0.869503</td>\n",
       "      <td>0.737526</td>\n",
       "      <td>0.859506</td>\n",
       "      <td>0.659059</td>\n",
       "      <td>0.791604</td>\n",
       "      <td>0.686486</td>\n",
       "      <td>...</td>\n",
       "      <td>1.052294</td>\n",
       "      <td>0.610196</td>\n",
       "      <td>0.822898</td>\n",
       "      <td>0.200175</td>\n",
       "      <td>0.596484</td>\n",
       "      <td>1.050490</td>\n",
       "      <td>0.731513</td>\n",
       "      <td>178</td>\n",
       "      <td>diabetic</td>\n",
       "      <td>sample_0178</td>\n",
       "    </tr>\n",
       "    <tr>\n",
       "      <th>sample_0179</th>\n",
       "      <td>0.590216</td>\n",
       "      <td>0.830575</td>\n",
       "      <td>1.660026</td>\n",
       "      <td>0.937246</td>\n",
       "      <td>1.008572</td>\n",
       "      <td>0.682781</td>\n",
       "      <td>0.885793</td>\n",
       "      <td>0.688223</td>\n",
       "      <td>0.945739</td>\n",
       "      <td>0.626076</td>\n",
       "      <td>...</td>\n",
       "      <td>1.225981</td>\n",
       "      <td>0.688868</td>\n",
       "      <td>1.028227</td>\n",
       "      <td>0.774527</td>\n",
       "      <td>3.107715</td>\n",
       "      <td>0.967872</td>\n",
       "      <td>0.618127</td>\n",
       "      <td>179</td>\n",
       "      <td>diabetic</td>\n",
       "      <td>sample_0179</td>\n",
       "    </tr>\n",
       "    <tr>\n",
       "      <th>sample_0180</th>\n",
       "      <td>0.601484</td>\n",
       "      <td>0.649295</td>\n",
       "      <td>2.050633</td>\n",
       "      <td>1.468545</td>\n",
       "      <td>1.196692</td>\n",
       "      <td>0.838273</td>\n",
       "      <td>0.929139</td>\n",
       "      <td>0.732988</td>\n",
       "      <td>0.941791</td>\n",
       "      <td>0.693703</td>\n",
       "      <td>...</td>\n",
       "      <td>1.264813</td>\n",
       "      <td>0.810332</td>\n",
       "      <td>0.941312</td>\n",
       "      <td>1.234610</td>\n",
       "      <td>3.388902</td>\n",
       "      <td>0.958265</td>\n",
       "      <td>0.744399</td>\n",
       "      <td>180</td>\n",
       "      <td>diabetic</td>\n",
       "      <td>sample_0180</td>\n",
       "    </tr>\n",
       "  </tbody>\n",
       "</table>\n",
       "<p>180 rows × 1489 columns</p>\n",
       "</div>"
      ],
      "text/plain": [
       "compound_id  compound_0001  compound_0002  compound_0003  compound_0004  \\\n",
       "sample_0001       0.793620       0.743363       0.360069       0.557168   \n",
       "sample_0002       0.713684       0.762673       0.716626       0.739390   \n",
       "sample_0003       1.073165       1.184788       0.448938       0.609914   \n",
       "sample_0004       1.074977       0.959059       0.695333       0.699223   \n",
       "sample_0005       0.903153       0.442795       0.444998       0.668752   \n",
       "...                    ...            ...            ...            ...   \n",
       "sample_0176       0.542919       0.553931       2.349338       0.936585   \n",
       "sample_0177       0.628734       0.701192       1.245951       1.079366   \n",
       "sample_0178       0.555390       0.576311       2.362415       1.029833   \n",
       "sample_0179       0.590216       0.830575       1.660026       0.937246   \n",
       "sample_0180       0.601484       0.649295       2.050633       1.468545   \n",
       "\n",
       "compound_id  compound_0005  compound_0006  compound_0007  compound_0008  \\\n",
       "sample_0001       0.886952       0.698678       0.811203       0.546670   \n",
       "sample_0002       0.921852       0.814239       0.858662       0.633751   \n",
       "sample_0003       0.861769       1.064785       1.129699       1.094749   \n",
       "sample_0004       0.893694       1.294579       1.062554       1.362446   \n",
       "sample_0005       0.917792       0.832667       1.031598       0.645060   \n",
       "...                    ...            ...            ...            ...   \n",
       "sample_0176       0.965326       0.787991       0.898010       0.843814   \n",
       "sample_0177       1.014223       0.824301       0.900189       0.609887   \n",
       "sample_0178       0.869503       0.737526       0.859506       0.659059   \n",
       "sample_0179       1.008572       0.682781       0.885793       0.688223   \n",
       "sample_0180       1.196692       0.838273       0.929139       0.732988   \n",
       "\n",
       "compound_id  compound_0009  compound_0010  ...  compound_1480  compound_1481  \\\n",
       "sample_0001       0.770260       0.781398  ...       0.957021       1.384068   \n",
       "sample_0002       0.740652       0.328962  ...       1.111478       1.115342   \n",
       "sample_0003       0.751253       0.942595  ...       1.064177       1.036884   \n",
       "sample_0004       0.739146       0.793178  ...       1.075152       0.744478   \n",
       "sample_0005       0.730204       0.888357  ...       1.147057       1.206461   \n",
       "...                    ...            ...  ...            ...            ...   \n",
       "sample_0176       0.840719       0.714205  ...       0.975919       0.858300   \n",
       "sample_0177       0.897941       0.958437  ...       1.021240       0.951380   \n",
       "sample_0178       0.791604       0.686486  ...       1.052294       0.610196   \n",
       "sample_0179       0.945739       0.626076  ...       1.225981       0.688868   \n",
       "sample_0180       0.941791       0.693703  ...       1.264813       0.810332   \n",
       "\n",
       "compound_id  compound_1482  compound_1483  compound_1484  compound_1485  \\\n",
       "sample_0001       0.690831       0.865679       0.254363       1.369263   \n",
       "sample_0002       0.917702       0.371899       0.244953       1.417962   \n",
       "sample_0003       0.736977       0.919946       0.209242       1.028140   \n",
       "sample_0004       0.750908       0.392298       0.211141       1.126669   \n",
       "sample_0005       0.506770       0.651075       0.679437       0.936695   \n",
       "...                    ...            ...            ...            ...   \n",
       "sample_0176       0.908436       0.788290       0.977343       1.131925   \n",
       "sample_0177       0.842580       1.243000       0.815561       1.041996   \n",
       "sample_0178       0.822898       0.200175       0.596484       1.050490   \n",
       "sample_0179       1.028227       0.774527       3.107715       0.967872   \n",
       "sample_0180       0.941312       1.234610       3.388902       0.958265   \n",
       "\n",
       "compound_id  compound_1486  Idx     Class     SampleID  \n",
       "sample_0001       0.898327    1   Healthy  sample_0001  \n",
       "sample_0002       1.023614    2   Healthy  sample_0002  \n",
       "sample_0003       1.718457    3   Healthy  sample_0003  \n",
       "sample_0004       2.942013    4   Healthy  sample_0004  \n",
       "sample_0005       0.993321    5   Healthy  sample_0005  \n",
       "...                    ...  ...       ...          ...  \n",
       "sample_0176       0.896456  176  diabetic  sample_0176  \n",
       "sample_0177       0.743896  177  diabetic  sample_0177  \n",
       "sample_0178       0.731513  178  diabetic  sample_0178  \n",
       "sample_0179       0.618127  179  diabetic  sample_0179  \n",
       "sample_0180       0.744399  180  diabetic  sample_0180  \n",
       "\n",
       "[180 rows x 1489 columns]"
      ]
     },
     "execution_count": 425,
     "metadata": {},
     "output_type": "execute_result"
    }
   ],
   "source": [
    "#Asignar SAMPLEID a dataTable \n",
    "\n",
    "dataTable = dataTable.assign(SampleID = list(muestras))\n",
    "#comprobamos que se añadió la columna\n",
    "hoja2=dataTable\n",
    "hoja2"
   ]
  },
  {
   "cell_type": "code",
   "execution_count": null,
   "metadata": {},
   "outputs": [
    {
     "data": {
      "text/html": [
       "<div>\n",
       "<style scoped>\n",
       "    .dataframe tbody tr th:only-of-type {\n",
       "        vertical-align: middle;\n",
       "    }\n",
       "\n",
       "    .dataframe tbody tr th {\n",
       "        vertical-align: top;\n",
       "    }\n",
       "\n",
       "    .dataframe thead th {\n",
       "        text-align: right;\n",
       "    }\n",
       "</style>\n",
       "<table border=\"1\" class=\"dataframe\">\n",
       "  <thead>\n",
       "    <tr style=\"text-align: right;\">\n",
       "      <th></th>\n",
       "      <th>compound_id</th>\n",
       "      <th>PATHWAY_SORTORDER</th>\n",
       "      <th>BIOCHEMICAL</th>\n",
       "      <th>SUPER_PATHWAY</th>\n",
       "      <th>SUB_PATHWAY</th>\n",
       "      <th>COMP_ID</th>\n",
       "      <th>PLATFORM</th>\n",
       "      <th>RI</th>\n",
       "      <th>MASS</th>\n",
       "      <th>PUBCHEM</th>\n",
       "      <th>KEGG</th>\n",
       "      <th>HMDB_ID</th>\n",
       "    </tr>\n",
       "  </thead>\n",
       "  <tbody>\n",
       "    <tr>\n",
       "      <th>0</th>\n",
       "      <td>compound_0001</td>\n",
       "      <td>1</td>\n",
       "      <td>glycine</td>\n",
       "      <td>Amino Acid</td>\n",
       "      <td>Glycine, Serine and Threonine Metabolism</td>\n",
       "      <td>58</td>\n",
       "      <td>LC/MS Pos Early</td>\n",
       "      <td>1375</td>\n",
       "      <td>76.0393</td>\n",
       "      <td>750</td>\n",
       "      <td>C00037</td>\n",
       "      <td>HMDB00123</td>\n",
       "    </tr>\n",
       "    <tr>\n",
       "      <th>1</th>\n",
       "      <td>compound_0002</td>\n",
       "      <td>2</td>\n",
       "      <td>N-acetylglycine</td>\n",
       "      <td>Amino Acid</td>\n",
       "      <td>Glycine, Serine and Threonine Metabolism</td>\n",
       "      <td>27710</td>\n",
       "      <td>LC/MS Neg</td>\n",
       "      <td>731</td>\n",
       "      <td>116.0353</td>\n",
       "      <td>10972</td>\n",
       "      <td>NaN</td>\n",
       "      <td>HMDB00532</td>\n",
       "    </tr>\n",
       "    <tr>\n",
       "      <th>2</th>\n",
       "      <td>compound_0003</td>\n",
       "      <td>4</td>\n",
       "      <td>sarcosine</td>\n",
       "      <td>Amino Acid</td>\n",
       "      <td>Glycine, Serine and Threonine Metabolism</td>\n",
       "      <td>1516</td>\n",
       "      <td>LC/MS Pos Early</td>\n",
       "      <td>1280</td>\n",
       "      <td>90.055</td>\n",
       "      <td>1088</td>\n",
       "      <td>C00213</td>\n",
       "      <td>HMDB00271</td>\n",
       "    </tr>\n",
       "    <tr>\n",
       "      <th>3</th>\n",
       "      <td>compound_0004</td>\n",
       "      <td>5</td>\n",
       "      <td>dimethylglycine</td>\n",
       "      <td>Amino Acid</td>\n",
       "      <td>Glycine, Serine and Threonine Metabolism</td>\n",
       "      <td>5086</td>\n",
       "      <td>LC/MS Pos Early</td>\n",
       "      <td>1104</td>\n",
       "      <td>104.0706</td>\n",
       "      <td>673</td>\n",
       "      <td>C01026</td>\n",
       "      <td>HMDB00092</td>\n",
       "    </tr>\n",
       "    <tr>\n",
       "      <th>4</th>\n",
       "      <td>compound_0005</td>\n",
       "      <td>6</td>\n",
       "      <td>betaine</td>\n",
       "      <td>Amino Acid</td>\n",
       "      <td>Glycine, Serine and Threonine Metabolism</td>\n",
       "      <td>3141</td>\n",
       "      <td>LC/MS Pos Early</td>\n",
       "      <td>1064</td>\n",
       "      <td>118.0863</td>\n",
       "      <td>247</td>\n",
       "      <td>C00719</td>\n",
       "      <td>HMDB00043</td>\n",
       "    </tr>\n",
       "  </tbody>\n",
       "</table>\n",
       "</div>"
      ],
      "text/plain": [
       "     compound_id PATHWAY_SORTORDER      BIOCHEMICAL SUPER_PATHWAY  \\\n",
       "0  compound_0001                 1          glycine    Amino Acid   \n",
       "1  compound_0002                 2  N-acetylglycine    Amino Acid   \n",
       "2  compound_0003                 4        sarcosine    Amino Acid   \n",
       "3  compound_0004                 5  dimethylglycine    Amino Acid   \n",
       "4  compound_0005                 6          betaine    Amino Acid   \n",
       "\n",
       "                                SUB_PATHWAY  COMP_ID         PLATFORM    RI  \\\n",
       "0  Glycine, Serine and Threonine Metabolism       58  LC/MS Pos Early  1375   \n",
       "1  Glycine, Serine and Threonine Metabolism    27710        LC/MS Neg   731   \n",
       "2  Glycine, Serine and Threonine Metabolism     1516  LC/MS Pos Early  1280   \n",
       "3  Glycine, Serine and Threonine Metabolism     5086  LC/MS Pos Early  1104   \n",
       "4  Glycine, Serine and Threonine Metabolism     3141  LC/MS Pos Early  1064   \n",
       "\n",
       "       MASS PUBCHEM    KEGG    HMDB_ID  \n",
       "0   76.0393     750  C00037  HMDB00123  \n",
       "1  116.0353   10972     NaN  HMDB00532  \n",
       "2    90.055    1088  C00213  HMDB00271  \n",
       "3  104.0706     673  C01026  HMDB00092  \n",
       "4  118.0863     247  C00719  HMDB00043  "
      ]
     },
     "execution_count": 426,
     "metadata": {},
     "output_type": "execute_result"
    }
   ],
   "source": [
    "#Dataset clase de compuestos estudio Hoja 3\n",
    "data_dictionary.head()"
   ]
  },
  {
   "cell_type": "code",
   "execution_count": null,
   "metadata": {},
   "outputs": [],
   "source": [
    "#Creo un rango y asigno una nueva columna al df \"sample_metadata\", por que la necesito para hacer el pca\n",
    "rn2= range(1,1487)\n",
    "hoja3 = data_dictionary.assign(Idx = list(rn2)) "
   ]
  },
  {
   "cell_type": "code",
   "execution_count": null,
   "metadata": {},
   "outputs": [
    {
     "data": {
      "text/html": [
       "<div>\n",
       "<style scoped>\n",
       "    .dataframe tbody tr th:only-of-type {\n",
       "        vertical-align: middle;\n",
       "    }\n",
       "\n",
       "    .dataframe tbody tr th {\n",
       "        vertical-align: top;\n",
       "    }\n",
       "\n",
       "    .dataframe thead th {\n",
       "        text-align: right;\n",
       "    }\n",
       "</style>\n",
       "<table border=\"1\" class=\"dataframe\">\n",
       "  <thead>\n",
       "    <tr style=\"text-align: right;\">\n",
       "      <th></th>\n",
       "      <th>compound_id</th>\n",
       "      <th>PATHWAY_SORTORDER</th>\n",
       "      <th>BIOCHEMICAL</th>\n",
       "      <th>SUPER_PATHWAY</th>\n",
       "      <th>SUB_PATHWAY</th>\n",
       "      <th>COMP_ID</th>\n",
       "      <th>PLATFORM</th>\n",
       "      <th>RI</th>\n",
       "      <th>MASS</th>\n",
       "      <th>PUBCHEM</th>\n",
       "      <th>KEGG</th>\n",
       "      <th>HMDB_ID</th>\n",
       "      <th>Idx</th>\n",
       "    </tr>\n",
       "  </thead>\n",
       "  <tbody>\n",
       "    <tr>\n",
       "      <th>0</th>\n",
       "      <td>compound_0001</td>\n",
       "      <td>1</td>\n",
       "      <td>glycine</td>\n",
       "      <td>Amino Acid</td>\n",
       "      <td>Glycine, Serine and Threonine Metabolism</td>\n",
       "      <td>58</td>\n",
       "      <td>LC/MS Pos Early</td>\n",
       "      <td>1375</td>\n",
       "      <td>76.0393</td>\n",
       "      <td>750</td>\n",
       "      <td>C00037</td>\n",
       "      <td>HMDB00123</td>\n",
       "      <td>1</td>\n",
       "    </tr>\n",
       "    <tr>\n",
       "      <th>1</th>\n",
       "      <td>compound_0002</td>\n",
       "      <td>2</td>\n",
       "      <td>N-acetylglycine</td>\n",
       "      <td>Amino Acid</td>\n",
       "      <td>Glycine, Serine and Threonine Metabolism</td>\n",
       "      <td>27710</td>\n",
       "      <td>LC/MS Neg</td>\n",
       "      <td>731</td>\n",
       "      <td>116.0353</td>\n",
       "      <td>10972</td>\n",
       "      <td>NaN</td>\n",
       "      <td>HMDB00532</td>\n",
       "      <td>2</td>\n",
       "    </tr>\n",
       "    <tr>\n",
       "      <th>2</th>\n",
       "      <td>compound_0003</td>\n",
       "      <td>4</td>\n",
       "      <td>sarcosine</td>\n",
       "      <td>Amino Acid</td>\n",
       "      <td>Glycine, Serine and Threonine Metabolism</td>\n",
       "      <td>1516</td>\n",
       "      <td>LC/MS Pos Early</td>\n",
       "      <td>1280</td>\n",
       "      <td>90.055</td>\n",
       "      <td>1088</td>\n",
       "      <td>C00213</td>\n",
       "      <td>HMDB00271</td>\n",
       "      <td>3</td>\n",
       "    </tr>\n",
       "    <tr>\n",
       "      <th>3</th>\n",
       "      <td>compound_0004</td>\n",
       "      <td>5</td>\n",
       "      <td>dimethylglycine</td>\n",
       "      <td>Amino Acid</td>\n",
       "      <td>Glycine, Serine and Threonine Metabolism</td>\n",
       "      <td>5086</td>\n",
       "      <td>LC/MS Pos Early</td>\n",
       "      <td>1104</td>\n",
       "      <td>104.0706</td>\n",
       "      <td>673</td>\n",
       "      <td>C01026</td>\n",
       "      <td>HMDB00092</td>\n",
       "      <td>4</td>\n",
       "    </tr>\n",
       "    <tr>\n",
       "      <th>4</th>\n",
       "      <td>compound_0005</td>\n",
       "      <td>6</td>\n",
       "      <td>betaine</td>\n",
       "      <td>Amino Acid</td>\n",
       "      <td>Glycine, Serine and Threonine Metabolism</td>\n",
       "      <td>3141</td>\n",
       "      <td>LC/MS Pos Early</td>\n",
       "      <td>1064</td>\n",
       "      <td>118.0863</td>\n",
       "      <td>247</td>\n",
       "      <td>C00719</td>\n",
       "      <td>HMDB00043</td>\n",
       "      <td>5</td>\n",
       "    </tr>\n",
       "    <tr>\n",
       "      <th>...</th>\n",
       "      <td>...</td>\n",
       "      <td>...</td>\n",
       "      <td>...</td>\n",
       "      <td>...</td>\n",
       "      <td>...</td>\n",
       "      <td>...</td>\n",
       "      <td>...</td>\n",
       "      <td>...</td>\n",
       "      <td>...</td>\n",
       "      <td>...</td>\n",
       "      <td>...</td>\n",
       "      <td>...</td>\n",
       "      <td>...</td>\n",
       "    </tr>\n",
       "    <tr>\n",
       "      <th>1481</th>\n",
       "      <td>compound_1482</td>\n",
       "      <td>.</td>\n",
       "      <td>X - 24699</td>\n",
       "      <td>.</td>\n",
       "      <td>.</td>\n",
       "      <td>53127</td>\n",
       "      <td>LC/MS Pos Early</td>\n",
       "      <td>2402.3</td>\n",
       "      <td>241.1544</td>\n",
       "      <td>NaN</td>\n",
       "      <td>NaN</td>\n",
       "      <td>NaN</td>\n",
       "      <td>1482</td>\n",
       "    </tr>\n",
       "    <tr>\n",
       "      <th>1482</th>\n",
       "      <td>compound_1483</td>\n",
       "      <td>.</td>\n",
       "      <td>X - 24728</td>\n",
       "      <td>.</td>\n",
       "      <td>.</td>\n",
       "      <td>53157</td>\n",
       "      <td>LC/MS Pos Early</td>\n",
       "      <td>1431</td>\n",
       "      <td>238.0376</td>\n",
       "      <td>NaN</td>\n",
       "      <td>NaN</td>\n",
       "      <td>NaN</td>\n",
       "      <td>1483</td>\n",
       "    </tr>\n",
       "    <tr>\n",
       "      <th>1483</th>\n",
       "      <td>compound_1484</td>\n",
       "      <td>.</td>\n",
       "      <td>X - 24738</td>\n",
       "      <td>.</td>\n",
       "      <td>.</td>\n",
       "      <td>53214</td>\n",
       "      <td>LC/MS Pos Early</td>\n",
       "      <td>1051</td>\n",
       "      <td>160.0967</td>\n",
       "      <td>NaN</td>\n",
       "      <td>NaN</td>\n",
       "      <td>NaN</td>\n",
       "      <td>1484</td>\n",
       "    </tr>\n",
       "    <tr>\n",
       "      <th>1484</th>\n",
       "      <td>compound_1485</td>\n",
       "      <td>.</td>\n",
       "      <td>X - 24748</td>\n",
       "      <td>.</td>\n",
       "      <td>.</td>\n",
       "      <td>53267</td>\n",
       "      <td>LC/MS Neg</td>\n",
       "      <td>4596</td>\n",
       "      <td>321.1469</td>\n",
       "      <td>NaN</td>\n",
       "      <td>NaN</td>\n",
       "      <td>NaN</td>\n",
       "      <td>1485</td>\n",
       "    </tr>\n",
       "    <tr>\n",
       "      <th>1485</th>\n",
       "      <td>compound_1486</td>\n",
       "      <td>.</td>\n",
       "      <td>X - 24766</td>\n",
       "      <td>.</td>\n",
       "      <td>.</td>\n",
       "      <td>54704</td>\n",
       "      <td>LC/MS Pos Early</td>\n",
       "      <td>2068.7</td>\n",
       "      <td>115.0866</td>\n",
       "      <td>NaN</td>\n",
       "      <td>NaN</td>\n",
       "      <td>NaN</td>\n",
       "      <td>1486</td>\n",
       "    </tr>\n",
       "  </tbody>\n",
       "</table>\n",
       "<p>1486 rows × 13 columns</p>\n",
       "</div>"
      ],
      "text/plain": [
       "        compound_id PATHWAY_SORTORDER      BIOCHEMICAL SUPER_PATHWAY  \\\n",
       "0     compound_0001                 1          glycine    Amino Acid   \n",
       "1     compound_0002                 2  N-acetylglycine    Amino Acid   \n",
       "2     compound_0003                 4        sarcosine    Amino Acid   \n",
       "3     compound_0004                 5  dimethylglycine    Amino Acid   \n",
       "4     compound_0005                 6          betaine    Amino Acid   \n",
       "...             ...               ...              ...           ...   \n",
       "1481  compound_1482                 .        X - 24699             .   \n",
       "1482  compound_1483                 .        X - 24728             .   \n",
       "1483  compound_1484                 .        X - 24738             .   \n",
       "1484  compound_1485                 .        X - 24748             .   \n",
       "1485  compound_1486                 .        X - 24766             .   \n",
       "\n",
       "                                   SUB_PATHWAY  COMP_ID         PLATFORM  \\\n",
       "0     Glycine, Serine and Threonine Metabolism       58  LC/MS Pos Early   \n",
       "1     Glycine, Serine and Threonine Metabolism    27710        LC/MS Neg   \n",
       "2     Glycine, Serine and Threonine Metabolism     1516  LC/MS Pos Early   \n",
       "3     Glycine, Serine and Threonine Metabolism     5086  LC/MS Pos Early   \n",
       "4     Glycine, Serine and Threonine Metabolism     3141  LC/MS Pos Early   \n",
       "...                                        ...      ...              ...   \n",
       "1481                                         .    53127  LC/MS Pos Early   \n",
       "1482                                         .    53157  LC/MS Pos Early   \n",
       "1483                                         .    53214  LC/MS Pos Early   \n",
       "1484                                         .    53267        LC/MS Neg   \n",
       "1485                                         .    54704  LC/MS Pos Early   \n",
       "\n",
       "          RI      MASS PUBCHEM    KEGG    HMDB_ID   Idx  \n",
       "0       1375   76.0393     750  C00037  HMDB00123     1  \n",
       "1        731  116.0353   10972     NaN  HMDB00532     2  \n",
       "2       1280    90.055    1088  C00213  HMDB00271     3  \n",
       "3       1104  104.0706     673  C01026  HMDB00092     4  \n",
       "4       1064  118.0863     247  C00719  HMDB00043     5  \n",
       "...      ...       ...     ...     ...        ...   ...  \n",
       "1481  2402.3  241.1544     NaN     NaN        NaN  1482  \n",
       "1482    1431  238.0376     NaN     NaN        NaN  1483  \n",
       "1483    1051  160.0967     NaN     NaN        NaN  1484  \n",
       "1484    4596  321.1469     NaN     NaN        NaN  1485  \n",
       "1485  2068.7  115.0866     NaN     NaN        NaN  1486  \n",
       "\n",
       "[1486 rows x 13 columns]"
      ]
     },
     "execution_count": 428,
     "metadata": {},
     "output_type": "execute_result"
    }
   ],
   "source": [
    "#Compruebo que se haya asignado la columna\n",
    "hoja3"
   ]
  },
  {
   "cell_type": "code",
   "execution_count": null,
   "metadata": {},
   "outputs": [
    {
     "data": {
      "text/html": [
       "<div>\n",
       "<style scoped>\n",
       "    .dataframe tbody tr th:only-of-type {\n",
       "        vertical-align: middle;\n",
       "    }\n",
       "\n",
       "    .dataframe tbody tr th {\n",
       "        vertical-align: top;\n",
       "    }\n",
       "\n",
       "    .dataframe thead th {\n",
       "        text-align: right;\n",
       "    }\n",
       "</style>\n",
       "<table border=\"1\" class=\"dataframe\">\n",
       "  <thead>\n",
       "    <tr style=\"text-align: right;\">\n",
       "      <th></th>\n",
       "      <th>Name</th>\n",
       "      <th>PATHWAY_SORTORDER</th>\n",
       "      <th>Label</th>\n",
       "      <th>SUPER_PATHWAY</th>\n",
       "      <th>SUB_PATHWAY</th>\n",
       "      <th>COMP_ID</th>\n",
       "      <th>PLATFORM</th>\n",
       "      <th>RI</th>\n",
       "      <th>MASS</th>\n",
       "      <th>PUBCHEM</th>\n",
       "      <th>KEGG</th>\n",
       "      <th>HMDB_ID</th>\n",
       "      <th>Idx</th>\n",
       "    </tr>\n",
       "  </thead>\n",
       "  <tbody>\n",
       "    <tr>\n",
       "      <th>0</th>\n",
       "      <td>compound_0001</td>\n",
       "      <td>1</td>\n",
       "      <td>glycine</td>\n",
       "      <td>Amino Acid</td>\n",
       "      <td>Glycine, Serine and Threonine Metabolism</td>\n",
       "      <td>58</td>\n",
       "      <td>LC/MS Pos Early</td>\n",
       "      <td>1375</td>\n",
       "      <td>76.0393</td>\n",
       "      <td>750</td>\n",
       "      <td>C00037</td>\n",
       "      <td>HMDB00123</td>\n",
       "      <td>1</td>\n",
       "    </tr>\n",
       "    <tr>\n",
       "      <th>1</th>\n",
       "      <td>compound_0002</td>\n",
       "      <td>2</td>\n",
       "      <td>N-acetylglycine</td>\n",
       "      <td>Amino Acid</td>\n",
       "      <td>Glycine, Serine and Threonine Metabolism</td>\n",
       "      <td>27710</td>\n",
       "      <td>LC/MS Neg</td>\n",
       "      <td>731</td>\n",
       "      <td>116.0353</td>\n",
       "      <td>10972</td>\n",
       "      <td>NaN</td>\n",
       "      <td>HMDB00532</td>\n",
       "      <td>2</td>\n",
       "    </tr>\n",
       "    <tr>\n",
       "      <th>2</th>\n",
       "      <td>compound_0003</td>\n",
       "      <td>4</td>\n",
       "      <td>sarcosine</td>\n",
       "      <td>Amino Acid</td>\n",
       "      <td>Glycine, Serine and Threonine Metabolism</td>\n",
       "      <td>1516</td>\n",
       "      <td>LC/MS Pos Early</td>\n",
       "      <td>1280</td>\n",
       "      <td>90.055</td>\n",
       "      <td>1088</td>\n",
       "      <td>C00213</td>\n",
       "      <td>HMDB00271</td>\n",
       "      <td>3</td>\n",
       "    </tr>\n",
       "    <tr>\n",
       "      <th>3</th>\n",
       "      <td>compound_0004</td>\n",
       "      <td>5</td>\n",
       "      <td>dimethylglycine</td>\n",
       "      <td>Amino Acid</td>\n",
       "      <td>Glycine, Serine and Threonine Metabolism</td>\n",
       "      <td>5086</td>\n",
       "      <td>LC/MS Pos Early</td>\n",
       "      <td>1104</td>\n",
       "      <td>104.0706</td>\n",
       "      <td>673</td>\n",
       "      <td>C01026</td>\n",
       "      <td>HMDB00092</td>\n",
       "      <td>4</td>\n",
       "    </tr>\n",
       "    <tr>\n",
       "      <th>4</th>\n",
       "      <td>compound_0005</td>\n",
       "      <td>6</td>\n",
       "      <td>betaine</td>\n",
       "      <td>Amino Acid</td>\n",
       "      <td>Glycine, Serine and Threonine Metabolism</td>\n",
       "      <td>3141</td>\n",
       "      <td>LC/MS Pos Early</td>\n",
       "      <td>1064</td>\n",
       "      <td>118.0863</td>\n",
       "      <td>247</td>\n",
       "      <td>C00719</td>\n",
       "      <td>HMDB00043</td>\n",
       "      <td>5</td>\n",
       "    </tr>\n",
       "    <tr>\n",
       "      <th>...</th>\n",
       "      <td>...</td>\n",
       "      <td>...</td>\n",
       "      <td>...</td>\n",
       "      <td>...</td>\n",
       "      <td>...</td>\n",
       "      <td>...</td>\n",
       "      <td>...</td>\n",
       "      <td>...</td>\n",
       "      <td>...</td>\n",
       "      <td>...</td>\n",
       "      <td>...</td>\n",
       "      <td>...</td>\n",
       "      <td>...</td>\n",
       "    </tr>\n",
       "    <tr>\n",
       "      <th>1481</th>\n",
       "      <td>compound_1482</td>\n",
       "      <td>.</td>\n",
       "      <td>X - 24699</td>\n",
       "      <td>.</td>\n",
       "      <td>.</td>\n",
       "      <td>53127</td>\n",
       "      <td>LC/MS Pos Early</td>\n",
       "      <td>2402.3</td>\n",
       "      <td>241.1544</td>\n",
       "      <td>NaN</td>\n",
       "      <td>NaN</td>\n",
       "      <td>NaN</td>\n",
       "      <td>1482</td>\n",
       "    </tr>\n",
       "    <tr>\n",
       "      <th>1482</th>\n",
       "      <td>compound_1483</td>\n",
       "      <td>.</td>\n",
       "      <td>X - 24728</td>\n",
       "      <td>.</td>\n",
       "      <td>.</td>\n",
       "      <td>53157</td>\n",
       "      <td>LC/MS Pos Early</td>\n",
       "      <td>1431</td>\n",
       "      <td>238.0376</td>\n",
       "      <td>NaN</td>\n",
       "      <td>NaN</td>\n",
       "      <td>NaN</td>\n",
       "      <td>1483</td>\n",
       "    </tr>\n",
       "    <tr>\n",
       "      <th>1483</th>\n",
       "      <td>compound_1484</td>\n",
       "      <td>.</td>\n",
       "      <td>X - 24738</td>\n",
       "      <td>.</td>\n",
       "      <td>.</td>\n",
       "      <td>53214</td>\n",
       "      <td>LC/MS Pos Early</td>\n",
       "      <td>1051</td>\n",
       "      <td>160.0967</td>\n",
       "      <td>NaN</td>\n",
       "      <td>NaN</td>\n",
       "      <td>NaN</td>\n",
       "      <td>1484</td>\n",
       "    </tr>\n",
       "    <tr>\n",
       "      <th>1484</th>\n",
       "      <td>compound_1485</td>\n",
       "      <td>.</td>\n",
       "      <td>X - 24748</td>\n",
       "      <td>.</td>\n",
       "      <td>.</td>\n",
       "      <td>53267</td>\n",
       "      <td>LC/MS Neg</td>\n",
       "      <td>4596</td>\n",
       "      <td>321.1469</td>\n",
       "      <td>NaN</td>\n",
       "      <td>NaN</td>\n",
       "      <td>NaN</td>\n",
       "      <td>1485</td>\n",
       "    </tr>\n",
       "    <tr>\n",
       "      <th>1485</th>\n",
       "      <td>compound_1486</td>\n",
       "      <td>.</td>\n",
       "      <td>X - 24766</td>\n",
       "      <td>.</td>\n",
       "      <td>.</td>\n",
       "      <td>54704</td>\n",
       "      <td>LC/MS Pos Early</td>\n",
       "      <td>2068.7</td>\n",
       "      <td>115.0866</td>\n",
       "      <td>NaN</td>\n",
       "      <td>NaN</td>\n",
       "      <td>NaN</td>\n",
       "      <td>1486</td>\n",
       "    </tr>\n",
       "  </tbody>\n",
       "</table>\n",
       "<p>1486 rows × 13 columns</p>\n",
       "</div>"
      ],
      "text/plain": [
       "               Name PATHWAY_SORTORDER            Label SUPER_PATHWAY  \\\n",
       "0     compound_0001                 1          glycine    Amino Acid   \n",
       "1     compound_0002                 2  N-acetylglycine    Amino Acid   \n",
       "2     compound_0003                 4        sarcosine    Amino Acid   \n",
       "3     compound_0004                 5  dimethylglycine    Amino Acid   \n",
       "4     compound_0005                 6          betaine    Amino Acid   \n",
       "...             ...               ...              ...           ...   \n",
       "1481  compound_1482                 .        X - 24699             .   \n",
       "1482  compound_1483                 .        X - 24728             .   \n",
       "1483  compound_1484                 .        X - 24738             .   \n",
       "1484  compound_1485                 .        X - 24748             .   \n",
       "1485  compound_1486                 .        X - 24766             .   \n",
       "\n",
       "                                   SUB_PATHWAY  COMP_ID         PLATFORM  \\\n",
       "0     Glycine, Serine and Threonine Metabolism       58  LC/MS Pos Early   \n",
       "1     Glycine, Serine and Threonine Metabolism    27710        LC/MS Neg   \n",
       "2     Glycine, Serine and Threonine Metabolism     1516  LC/MS Pos Early   \n",
       "3     Glycine, Serine and Threonine Metabolism     5086  LC/MS Pos Early   \n",
       "4     Glycine, Serine and Threonine Metabolism     3141  LC/MS Pos Early   \n",
       "...                                        ...      ...              ...   \n",
       "1481                                         .    53127  LC/MS Pos Early   \n",
       "1482                                         .    53157  LC/MS Pos Early   \n",
       "1483                                         .    53214  LC/MS Pos Early   \n",
       "1484                                         .    53267        LC/MS Neg   \n",
       "1485                                         .    54704  LC/MS Pos Early   \n",
       "\n",
       "          RI      MASS PUBCHEM    KEGG    HMDB_ID   Idx  \n",
       "0       1375   76.0393     750  C00037  HMDB00123     1  \n",
       "1        731  116.0353   10972     NaN  HMDB00532     2  \n",
       "2       1280    90.055    1088  C00213  HMDB00271     3  \n",
       "3       1104  104.0706     673  C01026  HMDB00092     4  \n",
       "4       1064  118.0863     247  C00719  HMDB00043     5  \n",
       "...      ...       ...     ...     ...        ...   ...  \n",
       "1481  2402.3  241.1544     NaN     NaN        NaN  1482  \n",
       "1482    1431  238.0376     NaN     NaN        NaN  1483  \n",
       "1483    1051  160.0967     NaN     NaN        NaN  1484  \n",
       "1484    4596  321.1469     NaN     NaN        NaN  1485  \n",
       "1485  2068.7  115.0866     NaN     NaN        NaN  1486  \n",
       "\n",
       "[1486 rows x 13 columns]"
      ]
     },
     "execution_count": 429,
     "metadata": {},
     "output_type": "execute_result"
    }
   ],
   "source": [
    "#Renombrar columna compound_id\n",
    "hoja3.rename(columns={'compound_id':'Name'}, inplace= True)\n",
    "hoja3.rename(columns={'BIOCHEMICAL':'Label'}, inplace= True)\n",
    "hoja3"
   ]
  },
  {
   "cell_type": "code",
   "execution_count": null,
   "metadata": {},
   "outputs": [
    {
     "name": "stdout",
     "output_type": "stream",
     "text": [
      "Xknn: 180 rows & 1486 columns\n"
     ]
    },
    {
     "name": "stderr",
     "output_type": "stream",
     "text": [
      "BokehDeprecationWarning: 'legend' keyword is deprecated, use explicit 'legend_label', 'legend_field', or 'legend_group' keywords instead\n",
      "BokehDeprecationWarning: 'legend' keyword is deprecated, use explicit 'legend_label', 'legend_field', or 'legend_group' keywords instead\n"
     ]
    },
    {
     "data": {
      "text/html": [
       "<div class=\"bk-root\">\n",
       "        <a href=\"https://bokeh.org\" target=\"_blank\" class=\"bk-logo bk-logo-small bk-logo-notebook\"></a>\n",
       "        <span id=\"10517\">Loading BokehJS ...</span>\n",
       "    </div>\n"
      ]
     },
     "metadata": {},
     "output_type": "display_data"
    },
    {
     "data": {
      "application/javascript": "(function(root) {\n  function now() {\n    return new Date();\n  }\n\n  const force = true;\n\n  if (typeof root._bokeh_onload_callbacks === \"undefined\" || force === true) {\n    root._bokeh_onload_callbacks = [];\n    root._bokeh_is_loading = undefined;\n  }\n\nconst JS_MIME_TYPE = 'application/javascript';\n  const HTML_MIME_TYPE = 'text/html';\n  const EXEC_MIME_TYPE = 'application/vnd.bokehjs_exec.v0+json';\n  const CLASS_NAME = 'output_bokeh rendered_html';\n\n  /**\n   * Render data to the DOM node\n   */\n  function render(props, node) {\n    const script = document.createElement(\"script\");\n    node.appendChild(script);\n  }\n\n  /**\n   * Handle when an output is cleared or removed\n   */\n  function handleClearOutput(event, handle) {\n    const cell = handle.cell;\n\n    const id = cell.output_area._bokeh_element_id;\n    const server_id = cell.output_area._bokeh_server_id;\n    // Clean up Bokeh references\n    if (id != null && id in Bokeh.index) {\n      Bokeh.index[id].model.document.clear();\n      delete Bokeh.index[id];\n    }\n\n    if (server_id !== undefined) {\n      // Clean up Bokeh references\n      const cmd_clean = \"from bokeh.io.state import curstate; print(curstate().uuid_to_server['\" + server_id + \"'].get_sessions()[0].document.roots[0]._id)\";\n      cell.notebook.kernel.execute(cmd_clean, {\n        iopub: {\n          output: function(msg) {\n            const id = msg.content.text.trim();\n            if (id in Bokeh.index) {\n              Bokeh.index[id].model.document.clear();\n              delete Bokeh.index[id];\n            }\n          }\n        }\n      });\n      // Destroy server and session\n      const cmd_destroy = \"import bokeh.io.notebook as ion; ion.destroy_server('\" + server_id + \"')\";\n      cell.notebook.kernel.execute(cmd_destroy);\n    }\n  }\n\n  /**\n   * Handle when a new output is added\n   */\n  function handleAddOutput(event, handle) {\n    const output_area = handle.output_area;\n    const output = handle.output;\n\n    // limit handleAddOutput to display_data with EXEC_MIME_TYPE content only\n    if ((output.output_type != \"display_data\") || (!Object.prototype.hasOwnProperty.call(output.data, EXEC_MIME_TYPE))) {\n      return\n    }\n\n    const toinsert = output_area.element.find(\".\" + CLASS_NAME.split(' ')[0]);\n\n    if (output.metadata[EXEC_MIME_TYPE][\"id\"] !== undefined) {\n      toinsert[toinsert.length - 1].firstChild.textContent = output.data[JS_MIME_TYPE];\n      // store reference to embed id on output_area\n      output_area._bokeh_element_id = output.metadata[EXEC_MIME_TYPE][\"id\"];\n    }\n    if (output.metadata[EXEC_MIME_TYPE][\"server_id\"] !== undefined) {\n      const bk_div = document.createElement(\"div\");\n      bk_div.innerHTML = output.data[HTML_MIME_TYPE];\n      const script_attrs = bk_div.children[0].attributes;\n      for (let i = 0; i < script_attrs.length; i++) {\n        toinsert[toinsert.length - 1].firstChild.setAttribute(script_attrs[i].name, script_attrs[i].value);\n        toinsert[toinsert.length - 1].firstChild.textContent = bk_div.children[0].textContent\n      }\n      // store reference to server id on output_area\n      output_area._bokeh_server_id = output.metadata[EXEC_MIME_TYPE][\"server_id\"];\n    }\n  }\n\n  function register_renderer(events, OutputArea) {\n\n    function append_mime(data, metadata, element) {\n      // create a DOM node to render to\n      const toinsert = this.create_output_subarea(\n        metadata,\n        CLASS_NAME,\n        EXEC_MIME_TYPE\n      );\n      this.keyboard_manager.register_events(toinsert);\n      // Render to node\n      const props = {data: data, metadata: metadata[EXEC_MIME_TYPE]};\n      render(props, toinsert[toinsert.length - 1]);\n      element.append(toinsert);\n      return toinsert\n    }\n\n    /* Handle when an output is cleared or removed */\n    events.on('clear_output.CodeCell', handleClearOutput);\n    events.on('delete.Cell', handleClearOutput);\n\n    /* Handle when a new output is added */\n    events.on('output_added.OutputArea', handleAddOutput);\n\n    /**\n     * Register the mime type and append_mime function with output_area\n     */\n    OutputArea.prototype.register_mime_type(EXEC_MIME_TYPE, append_mime, {\n      /* Is output safe? */\n      safe: true,\n      /* Index of renderer in `output_area.display_order` */\n      index: 0\n    });\n  }\n\n  // register the mime type if in Jupyter Notebook environment and previously unregistered\n  if (root.Jupyter !== undefined) {\n    const events = require('base/js/events');\n    const OutputArea = require('notebook/js/outputarea').OutputArea;\n\n    if (OutputArea.prototype.mime_types().indexOf(EXEC_MIME_TYPE) == -1) {\n      register_renderer(events, OutputArea);\n    }\n  }\n  if (typeof (root._bokeh_timeout) === \"undefined\" || force === true) {\n    root._bokeh_timeout = Date.now() + 5000;\n    root._bokeh_failed_load = false;\n  }\n\n  const NB_LOAD_WARNING = {'data': {'text/html':\n     \"<div style='background-color: #fdd'>\\n\"+\n     \"<p>\\n\"+\n     \"BokehJS does not appear to have successfully loaded. If loading BokehJS from CDN, this \\n\"+\n     \"may be due to a slow or bad network connection. Possible fixes:\\n\"+\n     \"</p>\\n\"+\n     \"<ul>\\n\"+\n     \"<li>re-rerun `output_notebook()` to attempt to load from CDN again, or</li>\\n\"+\n     \"<li>use INLINE resources instead, as so:</li>\\n\"+\n     \"</ul>\\n\"+\n     \"<code>\\n\"+\n     \"from bokeh.resources import INLINE\\n\"+\n     \"output_notebook(resources=INLINE)\\n\"+\n     \"</code>\\n\"+\n     \"</div>\"}};\n\n  function display_loaded() {\n    const el = document.getElementById(\"10517\");\n    if (el != null) {\n      el.textContent = \"BokehJS is loading...\";\n    }\n    if (root.Bokeh !== undefined) {\n      if (el != null) {\n        el.textContent = \"BokehJS \" + root.Bokeh.version + \" successfully loaded.\";\n      }\n    } else if (Date.now() < root._bokeh_timeout) {\n      setTimeout(display_loaded, 100)\n    }\n  }\n\n  function run_callbacks() {\n    try {\n      root._bokeh_onload_callbacks.forEach(function(callback) {\n        if (callback != null)\n          callback();\n      });\n    } finally {\n      delete root._bokeh_onload_callbacks\n    }\n    console.debug(\"Bokeh: all callbacks have finished\");\n  }\n\n  function load_libs(css_urls, js_urls, callback) {\n    if (css_urls == null) css_urls = [];\n    if (js_urls == null) js_urls = [];\n\n    root._bokeh_onload_callbacks.push(callback);\n    if (root._bokeh_is_loading > 0) {\n      console.debug(\"Bokeh: BokehJS is being loaded, scheduling callback at\", now());\n      return null;\n    }\n    if (js_urls == null || js_urls.length === 0) {\n      run_callbacks();\n      return null;\n    }\n    console.debug(\"Bokeh: BokehJS not loaded, scheduling load and callback at\", now());\n    root._bokeh_is_loading = css_urls.length + js_urls.length;\n\n    function on_load() {\n      root._bokeh_is_loading--;\n      if (root._bokeh_is_loading === 0) {\n        console.debug(\"Bokeh: all BokehJS libraries/stylesheets loaded\");\n        run_callbacks()\n      }\n    }\n\n    function on_error(url) {\n      console.error(\"failed to load \" + url);\n    }\n\n    for (let i = 0; i < css_urls.length; i++) {\n      const url = css_urls[i];\n      const element = document.createElement(\"link\");\n      element.onload = on_load;\n      element.onerror = on_error.bind(null, url);\n      element.rel = \"stylesheet\";\n      element.type = \"text/css\";\n      element.href = url;\n      console.debug(\"Bokeh: injecting link tag for BokehJS stylesheet: \", url);\n      document.body.appendChild(element);\n    }\n\n    for (let i = 0; i < js_urls.length; i++) {\n      const url = js_urls[i];\n      const element = document.createElement('script');\n      element.onload = on_load;\n      element.onerror = on_error.bind(null, url);\n      element.async = false;\n      element.src = url;\n      console.debug(\"Bokeh: injecting script tag for BokehJS library: \", url);\n      document.head.appendChild(element);\n    }\n  };\n\n  function inject_raw_css(css) {\n    const element = document.createElement(\"style\");\n    element.appendChild(document.createTextNode(css));\n    document.body.appendChild(element);\n  }\n\n  const js_urls = [\"https://cdn.bokeh.org/bokeh/release/bokeh-2.4.3.min.js\", \"https://cdn.bokeh.org/bokeh/release/bokeh-gl-2.4.3.min.js\", \"https://cdn.bokeh.org/bokeh/release/bokeh-widgets-2.4.3.min.js\", \"https://cdn.bokeh.org/bokeh/release/bokeh-tables-2.4.3.min.js\", \"https://cdn.bokeh.org/bokeh/release/bokeh-mathjax-2.4.3.min.js\"];\n  const css_urls = [];\n\n  const inline_js = [    function(Bokeh) {\n      Bokeh.set_log_level(\"info\");\n    },\nfunction(Bokeh) {\n    }\n  ];\n\n  function run_inline_js() {\n    if (root.Bokeh !== undefined || force === true) {\n          for (let i = 0; i < inline_js.length; i++) {\n      inline_js[i].call(root, root.Bokeh);\n    }\nif (force === true) {\n        display_loaded();\n      }} else if (Date.now() < root._bokeh_timeout) {\n      setTimeout(run_inline_js, 100);\n    } else if (!root._bokeh_failed_load) {\n      console.log(\"Bokeh: BokehJS failed to load within specified timeout.\");\n      root._bokeh_failed_load = true;\n    } else if (force !== true) {\n      const cell = $(document.getElementById(\"10517\")).parents('.cell').data().cell;\n      cell.output_area.append_execute_result(NB_LOAD_WARNING)\n    }\n  }\n\n  if (root._bokeh_is_loading === 0) {\n    console.debug(\"Bokeh: BokehJS loaded, going straight to plotting\");\n    run_inline_js();\n  } else {\n    load_libs(css_urls, js_urls, function() {\n      console.debug(\"Bokeh: BokehJS plotting callback run at\", now());\n      run_inline_js();\n    });\n  }\n}(window));",
      "application/vnd.bokehjs_load.v0+json": ""
     },
     "metadata": {},
     "output_type": "display_data"
    },
    {
     "data": {
      "text/html": [
       "\n",
       "  <div class=\"bk-root\" id=\"570ebc41-4cca-49d1-b352-0cab3aa5b922\" data-root-id=\"10567\"></div>\n"
      ]
     },
     "metadata": {},
     "output_type": "display_data"
    },
    {
     "data": {
      "application/javascript": "(function(root) {\n  function embed_document(root) {\n  const docs_json = {\"5735dbda-0605-46fb-b690-85735f919a98\":{\"defs\":[],\"roots\":{\"references\":[{\"attributes\":{\"children\":[{\"id\":\"10566\"},{\"id\":\"10564\"}]},\"id\":\"10567\",\"type\":\"Column\"},{\"attributes\":{\"coordinates\":null,\"data_source\":{\"id\":\"10445\"},\"glyph\":{\"id\":\"10446\"},\"group\":null,\"hover_glyph\":null,\"muted_glyph\":{\"id\":\"10448\"},\"nonselection_glyph\":{\"id\":\"10447\"},\"view\":{\"id\":\"10450\"}},\"id\":\"10449\",\"type\":\"GlyphRenderer\"},{\"attributes\":{\"fill_alpha\":0.1,\"fill_color\":\"green\",\"hatch_alpha\":0.1,\"hatch_color\":\"green\",\"line_alpha\":0.1,\"line_color\":\"green\",\"x\":{\"field\":\"x\"},\"y\":{\"field\":\"y\"}},\"id\":\"10513\",\"type\":\"Patch\"},{\"attributes\":{\"line_alpha\":0.2,\"line_color\":\"green\",\"x\":{\"field\":\"x\"},\"y\":{\"field\":\"y\"}},\"id\":\"10502\",\"type\":\"Line\"},{\"attributes\":{\"axis_label\":\"PC 1 (28.9%)\",\"axis_label_text_font_size\":\"13pt\",\"coordinates\":null,\"formatter\":{\"id\":\"10380\"},\"group\":null,\"major_label_policy\":{\"id\":\"10381\"},\"ticker\":{\"id\":\"10348\"}},\"id\":\"10347\",\"type\":\"LinearAxis\"},{\"attributes\":{},\"id\":\"10402\",\"type\":\"BasicTicker\"},{\"attributes\":{\"tools\":[{\"id\":\"10409\"},{\"id\":\"10410\"},{\"id\":\"10411\"},{\"id\":\"10412\"},{\"id\":\"10413\"},{\"id\":\"10414\"},{\"id\":\"10441\"}]},\"id\":\"10416\",\"type\":\"Toolbar\"},{\"attributes\":{\"coordinates\":null,\"data_source\":{\"id\":\"10505\"},\"glyph\":{\"id\":\"10506\"},\"group\":null,\"hover_glyph\":null,\"muted_glyph\":{\"id\":\"10508\"},\"nonselection_glyph\":{\"id\":\"10507\"},\"view\":{\"id\":\"10510\"}},\"id\":\"10509\",\"type\":\"GlyphRenderer\"},{\"attributes\":{},\"id\":\"10399\",\"type\":\"LinearScale\"},{\"attributes\":{\"source\":{\"id\":\"10445\"}},\"id\":\"10450\",\"type\":\"CDSView\"},{\"attributes\":{},\"id\":\"10528\",\"type\":\"Selection\"},{\"attributes\":{},\"id\":\"10409\",\"type\":\"PanTool\"},{\"attributes\":{},\"id\":\"10410\",\"type\":\"WheelZoomTool\"},{\"attributes\":{\"coordinates\":null,\"data_source\":{\"id\":\"10511\"},\"glyph\":{\"id\":\"10512\"},\"group\":null,\"hover_glyph\":null,\"muted_glyph\":{\"id\":\"10514\"},\"nonselection_glyph\":{\"id\":\"10513\"},\"view\":{\"id\":\"10516\"}},\"id\":\"10515\",\"type\":\"GlyphRenderer\"},{\"attributes\":{\"fill_alpha\":{\"value\":0.6},\"fill_color\":{\"field\":\"col\"},\"hatch_alpha\":{\"value\":0.6},\"hatch_color\":{\"field\":\"col\"},\"line_alpha\":{\"value\":0.6},\"line_color\":{\"field\":\"col\"},\"size\":{\"value\":5},\"x\":{\"field\":\"x\"},\"y\":{\"field\":\"y\"}},\"id\":\"10370\",\"type\":\"Circle\"},{\"attributes\":{\"line_alpha\":0.1,\"line_color\":\"red\",\"line_width\":2,\"x\":{\"field\":\"x\"},\"y\":{\"field\":\"y\"}},\"id\":\"10447\",\"type\":\"Line\"},{\"attributes\":{\"coordinates\":null,\"data_source\":{\"id\":\"10335\"},\"glyph\":{\"id\":\"10370\"},\"group\":null,\"hover_glyph\":null,\"muted_glyph\":{\"id\":\"10372\"},\"nonselection_glyph\":{\"id\":\"10371\"},\"view\":{\"id\":\"10374\"}},\"id\":\"10373\",\"type\":\"GlyphRenderer\"},{\"attributes\":{\"source\":{\"id\":\"10511\"}},\"id\":\"10516\",\"type\":\"CDSView\"},{\"attributes\":{},\"id\":\"10413\",\"type\":\"ResetTool\"},{\"attributes\":{\"coordinates\":null,\"data_source\":{\"id\":\"10451\"},\"glyph\":{\"id\":\"10452\"},\"group\":null,\"hover_glyph\":null,\"muted_glyph\":{\"id\":\"10454\"},\"nonselection_glyph\":{\"id\":\"10453\"},\"view\":{\"id\":\"10456\"}},\"id\":\"10455\",\"type\":\"GlyphRenderer\"},{\"attributes\":{},\"id\":\"10529\",\"type\":\"UnionRenderers\"},{\"attributes\":{\"data\":{\"x\":{\"__ndarray__\":\"hCjgvRhXSEBVLfKUHWdIQJMNpSUWY0hAv3UylwZLSEBd2QG3Bx9IQI5YF99G30dA8uRTxwWMR0CM1rZBmiVHQKXF5uFtrEZA1NpckP0gRkB6xKIJ2YNFQOoLKEqi1URAsIVH5wwXREBO/ShW3UhDQD7vPSHoa0JAhBIqDRGBQUDZifktSolAQOyFLdslCz9Ay30CCe7tPEBfVKnLGr06QDZ+eT/uejhATrb8YrwpNkAV25Gw6MszQGPKGajjYzFAu/lvllDoLUBr73wdc/4oQOOqz4c/DyRA6GUq8Jc/HkAq0NqlXWoUQO5DiAHmUQVAYMQ6UGZW0D/A2fglsewAwFaChVSDwBHAlEhJaIbPGsCYArSoBc0hwHSZzRaBCybAUjpMhtUeKsDw4IV6zwIuwFopdyO22TDACz20GG+WMsC/xgEvyDU0wIGqDEAVtjXAnqd/JsoVN8DEZ15WfFM4wJQZvlLkbTnAVFla/95jOsBOa6rMbjQ7wKhyQb283jvAYDZsQxliPMDaASj2/L08wF4WuBwJ8jzApspJEAj+PMD4sUJz7eE8wErI/z3WnTzAlH/4oAgyPMAad2S88547wJRxri0v5TrAZp8qc3oFOsBoV7EmvAA5wHq56Q8B2DfAZkM5D3uMNsAV83Xifx81wFP7n8SHkjPAeS0O6ivnMcA635zaJB8wwLA8JFeReCzAcpkWNhKBKMBmTs8d41skwIw4gfJJDSDAuHBwkm4zF8CwgPBQBxcMwJBZTUENsfK/8FTyCqWC8z9kXraR0yINQINFhwsBXBhAR0jRmCsbIUDyIXcTIgsmQMpnIQrN+CpAPgDc7hffL0DcIvvmelwyQFJGaEGzwDRAhcO6770ZN0BRoNdgL2U5QJpCLQiqoDtAAP/pzeDJPUDIDzxumd4/QB5+lGJX7kBAtz1PggnhQUAUpzrpaMZCQK6sGyaJnUNAWKpKd4xlREDtyEqvpB1FQBdLUgkUxUVACq7o7C1bRkCY+NCfV99GQH/SiOUIUUdASfq3i8yvR0BNVv/iQPtHQIsYqyMYM0hAhCjgvRhXSEA=\",\"dtype\":\"float64\",\"order\":\"little\",\"shape\":[100]},\"y\":{\"__ndarray__\":\"ajhm/PMFAMDQtTmOzzjjv+SE337MMuo/gJT1jQz/AUBwdUe8C30NQOiYEf9rfRRA0F2+bUw2GkAqxlojQeMfQOzgbzE4vyJA4ZJ6YAmBJUDSEXuMPDQoQDTBdzQJ1ipAqq5Gx7hjLUD0GodvqdovQMDQHWUoHDFA232cQh89MkCZI1txD08zQIi0s4/eUDRA+UJU3IJBNUAWOTFIBCA2QCupOXZ96zZARyDGpxyjN0DZQs6UJEY4QLFTBi/t0zhAU4QbT+RLOUB7e1xLjq05QHHEMneG+DlABMDpin8sOkBjHVjzQ0k6QKq8GQm2TjpAwQ0hL9A8OkCyaIDYpBM6QLxoZXVe0zlAkeRZRz98OUA+nPccoQ45QKkDVfX0ijhAkpeKi8LxN0CbzsjKp0M3QH/gjitYgTZAFTGq+purNUByE72KT8M0QIq7IVFiyTNAZHsT79W+MkA9vhwovaQxQCiD28Y6fDBArJqA4gCNLkDoEPnamgksQPpQyrHacClA5o45pG3FJkDMP8svFAokQA/qDjyfQSFAWM7+ZtrdHECRO+sczikXQN4udKb6bBFAkis0OZRaB0Bk4yMwpsL3PwCo4qRsga4/OHMtXyWf9b/MBSZm0+8FwJjyWTOibRDA14OhC1LDFcAnCFV0efMawFM8dVa/+B/AsO5wZ/tmIsCcTAlCErckwD7EX+RB6ibAwgIXw0X+KMDWZIh0+fAqwFTHFOZawCzA+FsPboxqLsBMQiC41u0vwJWqEUVVpDDAYizYL9E8McDWKFLtwb8xwNsPmIOgLDLArigPufyCMsABqxiIfcIywJ3H1Xrh6jLAhQii7v77MsDHef4+xPUywBldwdc32DLAKql3LnijMsBaJ/+iu1cywGuNeUdQ9THAa1rSj5t8McDWayrpGe4wwLwYlTleSjDAKhNWkSIkL8DWyR0j4ostwL5RLv6fzSvA8iHOJSjrKcA6Pazwa+YnwExXNQiAwSXA0oV/Q5p+I8BkfgJgDyAhwMdF6zShUB3A++ibVNIzGMD5mOhE9+4SwLZTn+f8DgvAdjhm/PMFAMA=\",\"dtype\":\"float64\",\"order\":\"little\",\"shape\":[100]}},\"selected\":{\"id\":\"10542\"},\"selection_policy\":{\"id\":\"10541\"}},\"id\":\"10487\",\"type\":\"ColumnDataSource\"},{\"attributes\":{\"source\":{\"id\":\"10389\"}},\"id\":\"10428\",\"type\":\"CDSView\"},{\"attributes\":{\"line_alpha\":0.8,\"line_color\":\"red\",\"line_width\":2,\"x\":{\"field\":\"x\"},\"y\":{\"field\":\"y\"}},\"id\":\"10446\",\"type\":\"Line\"},{\"attributes\":{\"callback\":null,\"renderers\":[{\"id\":\"10427\"}],\"tooltips\":[[\"Idx\",\"@Idx\"]]},\"id\":\"10441\",\"type\":\"HoverTool\"},{\"attributes\":{\"line_alpha\":0.4,\"line_color\":\"blue\",\"x\":{\"field\":\"x\"},\"y\":{\"field\":\"y\"}},\"id\":\"10476\",\"type\":\"Line\"},{\"attributes\":{\"fill_alpha\":0.1,\"fill_color\":\"green\",\"hatch_alpha\":0.1,\"hatch_color\":\"green\",\"line_alpha\":0.1,\"line_color\":\"green\",\"x\":{\"field\":\"x\"},\"y\":{\"field\":\"y\"}},\"id\":\"10507\",\"type\":\"Patch\"},{\"attributes\":{\"overlay\":{\"id\":\"10415\"}},\"id\":\"10411\",\"type\":\"BoxZoomTool\"},{\"attributes\":{\"source\":{\"id\":\"10505\"}},\"id\":\"10510\",\"type\":\"CDSView\"},{\"attributes\":{},\"id\":\"10406\",\"type\":\"BasicTicker\"},{\"attributes\":{\"source\":{\"id\":\"10499\"}},\"id\":\"10504\",\"type\":\"CDSView\"},{\"attributes\":{\"coordinates\":null,\"data_source\":{\"id\":\"10499\"},\"glyph\":{\"id\":\"10500\"},\"group\":null,\"hover_glyph\":null,\"muted_glyph\":{\"id\":\"10502\"},\"nonselection_glyph\":{\"id\":\"10501\"},\"view\":{\"id\":\"10504\"}},\"id\":\"10503\",\"type\":\"GlyphRenderer\"},{\"attributes\":{\"callback\":null,\"renderers\":[{\"id\":\"10373\"}],\"tooltips\":[[\"Idx\",\"@Idx\"]]},\"id\":\"10387\",\"type\":\"HoverTool\"},{\"attributes\":{\"fill_alpha\":{\"value\":0.2},\"fill_color\":{\"field\":\"col\"},\"hatch_alpha\":{\"value\":0.2},\"hatch_color\":{\"field\":\"col\"},\"line_alpha\":{\"value\":0.2},\"line_color\":{\"field\":\"col\"},\"size\":{\"value\":5},\"x\":{\"field\":\"x\"},\"y\":{\"field\":\"y\"}},\"id\":\"10372\",\"type\":\"Circle\"},{\"attributes\":{},\"id\":\"10412\",\"type\":\"SaveTool\"},{\"attributes\":{},\"id\":\"10532\",\"type\":\"Selection\"},{\"attributes\":{},\"id\":\"10339\",\"type\":\"DataRange1d\"},{\"attributes\":{\"data\":{\"x\":{\"__ndarray__\":\"gcjnf+8aLEB5SJnYRC4sQCaPysxtNyxAn+5A62A2LECkgCdJHyssQIxw8YC0FSxAPPpjpjb2K0CNctQvxswrQI7OsdSNmStASCh8YcJcK0DWpFeBohYrQGDWcn12xypAWDGD8o9vKkBlZKR8SQ8qQIRL8VkGpylAUsY2BDI3KUDg5SnCP8AoQBymkzCqQihAj7Dsw/K+J0AacutCoTUnQGgSjjpDpyZAh5MwbGsUJkDUgkU2sX0lQCssTfiv4yRATiescgZHJEC/WAYjVqgjQC4Wx51CCCNA5geC5XBnIkDKmNrAhsYhQJBLoQ8qJiFAPxzXHwCHIEBlX44GWtMfQPTvzMylnR5AukhP0iJuHUBiYN/0CUYcQFBcqW2MJhtAmxOaltIQGkAU0uK4+gUZQEZC3eUXBxhAz7J/2zAVF0BDAIb1PjEWQIpTZiwtXBVAS6waI9eWFEDQ5LhECOITQAeSwvJ6PhNAC+YExdesEkBgoc7btC0SQCo4L0WVwRFAS7HedehoEUB3gVnWCSQRQOrQpmRA8xBA+Uwqa77WEEAQ9cxMoc4QQFxTsmbx2hBA81qZB6L7EECUzvF8kTARQHqzmDWJeRFAhQEY+j3WEUB+lS86UEYSQHt4V29MyRJAAPHVk6teE0AUnO6t0wUUQBEVm24YvhRADo8p47uGFUDuRwo5714WQIf+AZPTRRdAdqfl7no6GEDgj/Ia6TsZQJYGxrkUSRpAV5DoU+hgG0DXrdJ1Q4IcQNZdRNn7qx1A6dm8mN7cHkDpzeq12AkgQEZInfWZpyBAK8J4bRBHIUBaKc68l+chQDQhrmmKiCJAPZx8i0IpI0CEi/Z1GskjQP9Y+WNtZyRAoyFcIZgDJUD+mSuz+ZwlQAgym/3zMiZAjWkAZ+zEJkD4UzB3TFInQIQEm3KC2idAmf+E8AFdKEB61sNrRNkoQLK6aM3JTilAiBjK8Bi9KUAaHWQgwCMqQCxuD4tVgipAM0AVsXfYKkDEWbDIzSUrQIBqkxkIaitA01wWT+CkK0Dw7LXAGdYrQFvJmrCB/StAgcjnf+8aLEA=\",\"dtype\":\"float64\",\"order\":\"little\",\"shape\":[100]},\"y\":{\"__ndarray__\":\"3BQ4Ubf68L/sG8J/o07uvzppIBKUZeq/tsetQ0g+5r/8pf0lCN3hvxh5dBCvjNq/iFFrn+L90L9QypG9FF68vwA/dimm4ag/SBrgCY4lyz88B8huaEHYP4rZEAyLjuE/4pVbU08N5z94Rh7tVpfsP9MNgQ52E/E/oauktinb8z9l5r/L6J/2P4tRfbbYXvk/pByI3CQV/D9uxXuLAcD+PwLKUm1XrgBASrFPwD30AUBc3OvMYzADQORlla6DYQRAPjnh3WKGBUA4O8R0050GQHpqx2W1pgdA3yv2pPefCECQrVRBmYgJQLM9vG2qXwpAfo4MeE0kC0DyF7Ott9ULQLoEnSwycwxAlEe8nxr8DEC6hF3m428NQA5RoqUWzg1A0NCJw1EWDkCq4gjLSkgOQO6oyjjOYw5AA1NKsL9oDkAsag8ZGlcOQLp+7qPvLg5AfstIuGnwDUDUI17JyJsNQCAr3RNkMQ1AoVH2Q6mxDEBWSU4EHB0MQFJ8RHZVdAtAJm0ZlAO4CkBVuJd96OgJQO+U+K/ZBwlAzRrSKb8VCEBoKPJ7khMHQJFsHMhdAgZAlsO0rjrjBEBSsnAsUbcDQAtAO2nWfwJA9LKFeQs+AUCoYZsmeOb/P/riW3B6Qf0/Qfizq9eP+j8Tk968VtT3P+kfHbTIEfU/39Rt5gVL8j8o04f91QXvP7xIjxWseOk/uoZRDEf04z+qCD2erfzcP7RA08j4ONI/oP7H8iCivj/AlTbVAU6lv2Cvd8h5Zsm/2E9CEZVp1r8I6HHHxcLfv4bjfgmWWuS/LrnIeseb6L+WFwp0lKDsv1aFWTlsMvC/jDAxvVjy8b88eMIKQo7zv8rIoIZ/BPW/REhuao9T9r9kGYZSGHr3v7w9BaLqdvi/jhTDuwFJ+b+W2PYOhe/5v3ovdfbIafq/FqyfaU+3+r+w309+yNf6vzQOOLsSy/q/tppkOjuR+r9qmrqbfSr6v0B6gcdDl/m/UhI3gSXY+L+GsB7L5+33v6RdLBt82fa/KrQdYv+b9b/O28DluDb0vyJwmO8Yq/K/3hQ4Ubf68L8=\",\"dtype\":\"float64\",\"order\":\"little\",\"shape\":[100]}},\"selected\":{\"id\":\"10544\"},\"selection_policy\":{\"id\":\"10543\"}},\"id\":\"10493\",\"type\":\"ColumnDataSource\"},{\"attributes\":{},\"id\":\"10348\",\"type\":\"BasicTicker\"},{\"attributes\":{\"source\":{\"id\":\"10335\"}},\"id\":\"10374\",\"type\":\"CDSView\"},{\"attributes\":{\"data\":{\"x\":{\"__ndarray__\":\"4hzQrHSXM0Du67chw7kzQMg8R0sVtDNAqsYjBHGGM0BQnrVYBTEzQF6Tp1YqtDJAJsAismAQMkBQ3CJBUUYxQOoUbE3MVjBAmKKre5GFLkA4cI8vxhYsQFaf3rO4YylAXBy5YjFvJkAS4LQUPDwjQIwy+PlJnB9AWPgphupQGED8g6i73p0QQNih8MwsFgFAAF6mRgFyoD9QuLawFzABwOg3xGe7lhHAGLgjA+XRGsCL2lpVAiAiwK0HSOuw6ybAyPruvQzHK8C9YHsPilYwwLePIzBdzDLAMitHhHZCNcCA79+GTLY3wCopFAhYJTrAOhVZyBaNPMDH+n0ODus+wG7F+ppmnkDAcIldGfi/QcDU4R0EEdlCwP7YXJiP6EPA0hpX+VvtRMC/7eFQaeZFwMiTiuS20kbA6mk6HlGxR8BG+U6HUoFIwBslI7XkQUnAwqEVJkHyScB93igOspFKwGdzaRKTH0vAneZZ8lGbS8D0I7UebwRMwFE/7Dx+WkzAPPbXliadTMACzip2I8xMwLqKRWtE50zAsvskf23uTMC3pTVQl+FMwPKT7xnPwEzAmXcypzaMTMDbJXAvBERMwIdcyR6C6EvAfGlWyQ56S8ClyeoJHPlKwBP7t8wuZkrAcX1Iht7BScDqPmCX1AxJwPxkY57LR0jAFmz3to5zR8Cn6qSo+JBGwAnKUQXzoEXAO258OHWkRMBd/S+Ig5xDwKKuuAguikLAvrEshI9uQcCiyupWzEpAwEA+doQiQD7AyL6RbCTfO8A8vGgpEnU5wCidCdpoBDfAPWCOaKyPNMCazVnyZBkywLJ2AFg4SC/A0yYZh7VkKsAo9aeHS40lwO7AEvf3xiDARpD5qk0tGMB4u8LLtQQOwPATbZ8rWvi/gDda2IBn5D8wgPL8XL4FQKiNsVuc1xJABCsoYQJuGkAGzVMlR80gQOLUpXjtKiRAyPuA9XtMJ0AYQ9pYuC4qQMhmX6WpzixAPKfoM5spL0Demry+j54wQKwg902JgzFA7hpkP85CMkCg/eNomdsyQHZMtUlNTTNA4hzQrHSXM0A=\",\"dtype\":\"float64\",\"order\":\"little\",\"shape\":[100]},\"y\":{\"__ndarray__\":\"BbleMJ5vJMAa6Brf224hwDz9h3+8yxzAF1dkhYyvFsASC741dI8QwI6GZfuH4wTA5IQtPSdz8b/w+knjVZPaP5yg+BIQaP4/Su306wTfCkDj/0orrSMTQPFvw/iisBhA5+e5HKsQHkC6CteSHZ8hQAZaOVT+GSRAOB5bYGl2JkCAaB+r77EoQBpKtRBEyipACinktD29LEBuOvI82oguQFDV7PCfFTBAnPNUrF/RMEDKzY7H6nYxQB2LTZ2WBTJAPOUBHNB8MkBVI3RdHNwyQHgJdCUZIzNApSQcR31RM0ArEUDwGGczQPz5t9rVYzNAfYBWY7dHM0CnYXGG2hIzQFtrAMJ1xTJAkY5x3dhfMkCK9WuXbOIxQOnj1jmyTTFAra2TFEOiMEBOTei+n8EvQCDmIAhAFC5AQAFwoCE+LECOGqMjKUEqQHzGKjpjHyhAqIZGfALbJUCoeRUuXXYjQAi24dbq8yBAmwxEbIOsHEBZK6IxKEAXQMN/syNbqBFAhhzYYcDVB0CsZsh7iDb4PwAuayhxrJY/AOIdSmvP97/qnm30chcIwPk+VpOnKhLAiKQv5FVKGMCyeehsdGQewEg8qHRcOSLAbqxjpnI3JcAYTMUYZykowEacZJowDCvARJp3nNXcLcB3Pu2hN0wwwPAdaDMWnjHAqkIzOqriMsDkaj8hpRg0wA9DzF/HPjXAEWLKwuFTNsCAsWal1lY3wJ0UfRebRjjA6MfC8DciOcDl04zPyug5wEDyKwKHmTrAVVjtWbYzO8Ay5ebmubY7wEsdzZsKIjzA/hAq2Tl1PMDPrGXf8a88wAHnKSf20TzAIq3HnyPbPMA0QFzTcMs8wPa8kfDtojzAr8LwucRhPMCtatRaOAg8wNrvLCKlljvAaGZYI4ANO8BcmXO9Vm06wJJ1nwnOtjnAfjrRMKLqOMBg39yppQk4wPqcgWDAFDfABj9Yxu4MNsBMrZnOQPM0wFfrydXYyDPAgododuqOMsC0AttLuUYxwCIYsEkv4y/AottWTcohLcCGTXTFGkwqwJyweL8MZSfACLleMJ5vJMA=\",\"dtype\":\"float64\",\"order\":\"little\",\"shape\":[100]}},\"selected\":{\"id\":\"10530\"},\"selection_policy\":{\"id\":\"10529\"}},\"id\":\"10451\",\"type\":\"ColumnDataSource\"},{\"attributes\":{\"fill_alpha\":0.07,\"fill_color\":\"red\",\"hatch_alpha\":0.07,\"hatch_color\":\"red\",\"line_alpha\":0.07,\"line_color\":\"red\",\"x\":{\"field\":\"x\"},\"y\":{\"field\":\"y\"}},\"id\":\"10458\",\"type\":\"Patch\"},{\"attributes\":{\"fill_alpha\":0.2,\"fill_color\":\"green\",\"hatch_alpha\":0.2,\"hatch_color\":\"green\",\"line_alpha\":0.2,\"line_color\":\"green\",\"x\":{\"field\":\"x\"},\"y\":{\"field\":\"y\"}},\"id\":\"10508\",\"type\":\"Patch\"},{\"attributes\":{},\"id\":\"10414\",\"type\":\"HelpTool\"},{\"attributes\":{\"axis\":{\"id\":\"10405\"},\"coordinates\":null,\"dimension\":1,\"group\":null,\"ticker\":null},\"id\":\"10408\",\"type\":\"Grid\"},{\"attributes\":{\"data\":{\"x\":{\"__ndarray__\":\"4hzQrHSXM0Du67chw7kzQMg8R0sVtDNAqsYjBHGGM0BQnrVYBTEzQF6Tp1YqtDJAJsAismAQMkBQ3CJBUUYxQOoUbE3MVjBAmKKre5GFLkA4cI8vxhYsQFaf3rO4YylAXBy5YjFvJkAS4LQUPDwjQIwy+PlJnB9AWPgphupQGED8g6i73p0QQNih8MwsFgFAAF6mRgFyoD9QuLawFzABwOg3xGe7lhHAGLgjA+XRGsCL2lpVAiAiwK0HSOuw6ybAyPruvQzHK8C9YHsPilYwwLePIzBdzDLAMitHhHZCNcCA79+GTLY3wCopFAhYJTrAOhVZyBaNPMDH+n0ODus+wG7F+ppmnkDAcIldGfi/QcDU4R0EEdlCwP7YXJiP6EPA0hpX+VvtRMC/7eFQaeZFwMiTiuS20kbA6mk6HlGxR8BG+U6HUoFIwBslI7XkQUnAwqEVJkHyScB93igOspFKwGdzaRKTH0vAneZZ8lGbS8D0I7UebwRMwFE/7Dx+WkzAPPbXliadTMACzip2I8xMwLqKRWtE50zAsvskf23uTMC3pTVQl+FMwPKT7xnPwEzAmXcypzaMTMDbJXAvBERMwIdcyR6C6EvAfGlWyQ56S8ClyeoJHPlKwBP7t8wuZkrAcX1Iht7BScDqPmCX1AxJwPxkY57LR0jAFmz3to5zR8Cn6qSo+JBGwAnKUQXzoEXAO258OHWkRMBd/S+Ig5xDwKKuuAguikLAvrEshI9uQcCiyupWzEpAwEA+doQiQD7AyL6RbCTfO8A8vGgpEnU5wCidCdpoBDfAPWCOaKyPNMCazVnyZBkywLJ2AFg4SC/A0yYZh7VkKsAo9aeHS40lwO7AEvf3xiDARpD5qk0tGMB4u8LLtQQOwPATbZ8rWvi/gDda2IBn5D8wgPL8XL4FQKiNsVuc1xJABCsoYQJuGkAGzVMlR80gQOLUpXjtKiRAyPuA9XtMJ0AYQ9pYuC4qQMhmX6WpzixAPKfoM5spL0Demry+j54wQKwg902JgzFA7hpkP85CMkCg/eNomdsyQHZMtUlNTTNA4hzQrHSXM0A=\",\"dtype\":\"float64\",\"order\":\"little\",\"shape\":[100]},\"y\":{\"__ndarray__\":\"BbleMJ5vJMAa6Brf224hwDz9h3+8yxzAF1dkhYyvFsASC741dI8QwI6GZfuH4wTA5IQtPSdz8b/w+knjVZPaP5yg+BIQaP4/Su306wTfCkDj/0orrSMTQPFvw/iisBhA5+e5HKsQHkC6CteSHZ8hQAZaOVT+GSRAOB5bYGl2JkCAaB+r77EoQBpKtRBEyipACinktD29LEBuOvI82oguQFDV7PCfFTBAnPNUrF/RMEDKzY7H6nYxQB2LTZ2WBTJAPOUBHNB8MkBVI3RdHNwyQHgJdCUZIzNApSQcR31RM0ArEUDwGGczQPz5t9rVYzNAfYBWY7dHM0CnYXGG2hIzQFtrAMJ1xTJAkY5x3dhfMkCK9WuXbOIxQOnj1jmyTTFAra2TFEOiMEBOTei+n8EvQCDmIAhAFC5AQAFwoCE+LECOGqMjKUEqQHzGKjpjHyhAqIZGfALbJUCoeRUuXXYjQAi24dbq8yBAmwxEbIOsHEBZK6IxKEAXQMN/syNbqBFAhhzYYcDVB0CsZsh7iDb4PwAuayhxrJY/AOIdSmvP97/qnm30chcIwPk+VpOnKhLAiKQv5FVKGMCyeehsdGQewEg8qHRcOSLAbqxjpnI3JcAYTMUYZykowEacZJowDCvARJp3nNXcLcB3Pu2hN0wwwPAdaDMWnjHAqkIzOqriMsDkaj8hpRg0wA9DzF/HPjXAEWLKwuFTNsCAsWal1lY3wJ0UfRebRjjA6MfC8DciOcDl04zPyug5wEDyKwKHmTrAVVjtWbYzO8Ay5ebmubY7wEsdzZsKIjzA/hAq2Tl1PMDPrGXf8a88wAHnKSf20TzAIq3HnyPbPMA0QFzTcMs8wPa8kfDtojzAr8LwucRhPMCtatRaOAg8wNrvLCKlljvAaGZYI4ANO8BcmXO9Vm06wJJ1nwnOtjnAfjrRMKLqOMBg39yppQk4wPqcgWDAFDfABj9Yxu4MNsBMrZnOQPM0wFfrydXYyDPAgododuqOMsC0AttLuUYxwCIYsEkv4y/AottWTcohLcCGTXTFGkwqwJyweL8MZSfACLleMJ5vJMA=\",\"dtype\":\"float64\",\"order\":\"little\",\"shape\":[100]}},\"selected\":{\"id\":\"10534\"},\"selection_policy\":{\"id\":\"10533\"}},\"id\":\"10463\",\"type\":\"ColumnDataSource\"},{\"attributes\":{},\"id\":\"10380\",\"type\":\"BasicTickFormatter\"},{\"attributes\":{},\"id\":\"10345\",\"type\":\"LinearScale\"},{\"attributes\":{\"data\":{\"x\":{\"__ndarray__\":\"H01ZqPbTLUCoIoVSPNwtQDN7FLEn2i1AnmoT6brNLUBEZVPJArctQIxfN70Wli1ATqGPtBhrLUDAL54ANTYtQHLdZyai9yxA3xeBpqCvLEAUYZC6el4sQLH/ygiEBCxANMS6TRmiK0A4xqX8nzcrQB+k+taFxSpAKBIte0BMKkDwWHfrTMwpQLK+/QwvRilAfLDYH3G6KEAL0pEwoykoQK7bpoNalCdA8lar+zD7JkBz1qd6xF4mQDAtWj+2vyVAWmn+PqoeJUAk6Ut8RnwkQPrBVFwy2SNAF+H3+RU2I0C+xJd4mZMiQL9uyFZk8iFA1TmnwRxTIUBdjI7pZrYgQFT81VjkHCBAureammYOH0Bmqjwq3OsdQNR2ed9U0xxAqw0T5/HFG0DjN4/xyMQaQFMA+BTj0BlA7gqauzvrGEClh9qgvxQYQLTnL91LThdAPeI4Aq2YFkBat9xHnvQVQF8RTsvIYhVACXS34MLjFEDO7ER4D3gUQC7BKpcdIBRAbD005UfcE0Ddm1BP1KwTQCVZfr/zkRNA+EJf6sGLE0D+OqkyRZoTQHwekaJuvRNA55s2+xn1E0CsEAHaDUEUQKTrxvP7oBRAEJqCZYEUFUBXzUEaJ5sVQOoF5kViNBZAa9o39JTfFkCHfrmrDpwXQLCykCMNaRhADJfMC71FGUDY7zjnOjEaQPtQ3vWTKhtAqHY9L8cwHEDs2ENLxkIdQGVb6Nh2Xx5At+VQYbOFH0AbYypLJlogQJsEkkUF9SBAir3o+taSIUC98Dm8+DIiQAWTRXjF1CJAU9unZZZ3I0COp8auwxokQO9b0x6lvSRAGOYuz5JfJUCyJ33U5f8lQJpfter4nSZAdDN+Hyk5J0BzvSV61tAnQAx5iKBkZChAVxI9eDvzKEDI9F7Dx3wpQGX5Vbh7ACpAa7/+k899KkCHBZ0lQvQqQFDBB1RZYytA7q2Fm6LKK0CAlNiDsyksQGCf/Q0qgCxABJYxGa3NLEBO4NC+7BEtQDmctKSiTC1A9d63RZJ9LUAHYBowiaQtQH4/gDlfwS1AH01ZqPbTLUA=\",\"dtype\":\"float64\",\"order\":\"little\",\"shape\":[100]},\"y\":{\"__ndarray__\":\"84Cfi+JxB0Cgxa9WoOQIQAuICePnWwpAChwLWDbWC0AV4ke+BVINQOmrhJHOzQ5AWpUmqgQkEEBvMMERmN8QQG0MISTgmBFANItE4x1PEkBFi3pzlQETQM9cCN2OrxNAtw3NyVZYFEAqkR4+P/sUQMwyIkyglxVAFHbnwNgsFkAC8ZLKTroWQEzY7ZZwPxdARMq26bS7F0C95Riqmy4YQJBZt2aulxhAVE/Fz4D2GEABVqwmsUoZQCo1zqLokxlA5Ev6ytvRGUAyRDrDSgQaQF3opY4BKxpA/D76RNhFGkC2r7w7s1QaQA7JvyKDVxpAVEHsE0VOGkBQ7T2WAjkaQAaY8ZPRFxpAMtvtQ9TqGUD7QX4GObIZQPIQhTU6bhlAzPpU6B0fGUC5wnCrNcUYQN5GeyzeYBhACpqu2n7yF0COpzx8iXoXQKJJB7l5+RZA4rcom9RvFkD8ss8FKN4VQKTL/CIKRRVAeIm3yBilFEAnAlvW+P4TQNOXoYpVUxNAOhAf09+iEkAd+96VTe4RQKpo4/VYNhFAxThFk797EEAemXePg34PQFEyq8BDAw5Adv5bqkaHDEBGvN3/EwwLQGot26MykwlAsjNnFSceCECTX4Tfca4GQLzAvwyORQVAMZV3oO/kA0COm2AXAo4CQJNU1fAmQgFAenFxQrQCAEAWHeKu5qH9P4xyfro+XPs/rFMjPcg2+T8uL8GcuTP3P4Bu8sclVfU/HJ+vEvqc8z9K88Y5/AzyPxJPI4/IpvA/lAmKoaDX7j/cxERYsLrsPzjU8N7t+Oo/BGzJ1CiU6T+skuH90I3oPyxBCsj05uc/OMsONECg5z846mYk/LnnP8AvFRIONOg/RFL/J/gN6T/AI6TE2UbqP/x8qWFw3es/dGxT4BjQ7T8s+cacaA7wP3735UedYPE/HohM0E3d8j/M8azJ8YL0P+KSKpHWT/Y/bitiDSFC+D9w8ieYz1f6P3CfAhC8jvw/DpxBD57k/j805jKjhqsAQH/6t/vB8QFAEe3Cx7BDA0AE+B+u9p8EQNt36qwsBQZA8oCfi+JxB0A=\",\"dtype\":\"float64\",\"order\":\"little\",\"shape\":[100]}},\"selected\":{\"id\":\"10540\"},\"selection_policy\":{\"id\":\"10539\"}},\"id\":\"10481\",\"type\":\"ColumnDataSource\"},{\"attributes\":{\"line_alpha\":0.4,\"line_color\":\"red\",\"x\":{\"field\":\"x\"},\"y\":{\"field\":\"y\"}},\"id\":\"10452\",\"type\":\"Line\"},{\"attributes\":{\"axis\":{\"id\":\"10401\"},\"coordinates\":null,\"group\":null,\"ticker\":null},\"id\":\"10404\",\"type\":\"Grid\"},{\"attributes\":{\"data\":{\"x\":{\"__ndarray__\":\"8E3z79AlLMCjUhZR9RwswLwWLrJsHizAlqNHkDUqLMAawojFQ0AswMSutZWAYCzABrmgxcqKLMCFpWu99r4swHyDd7XO/CzA76LU7RJELcAwhvnveZQtwGcRfdqw7S3AQuiFtltPLsB26JbWFbkuwH4IVz5yKi/A7p/pEvyiL8BJpbGJGxEwwIedbwzQUzDAiXrYzlaZMMBKiZMlaOEwwHh5psa5KzHAE4IJFv93McDX4p906cUxwMhaQ5EoFTLA7giPu2plMsAkXxQ4XbYywJ1Zo5WsBzPA8hFOAwVZM8COA8+mEqozwGbx+PKB+jPAH1PX/f9JNMCggSbWOpg0wICIy9fh5DTAA4r0/qUvNcBiBYw5Ong1wGcJq7ZTvjXAR264M6oBNsAUl+VG+EE2wC7yu6b7fjbAsXZxbnW4NsA4r71eKu42wF597BrjHzfAVKHvYWxNN8C7MTRDl3Y3wHKNBU85mzfAiOZLwiy7N8C9TnmtUNY3wEAlfRaJ7DfAeeaaFb/9N8Bsowbt4Ak4wPrJLhviEDjA8GOgZ7sSOMDdgnjqag84wJwsWw70BjjAFMLtjF/5N8Cdgdhlu+Y3wH5qWNAazzfAbmFwJ5ayN8BbAc7QSpE3wJj5ex5bazfAWDaBK+5AN8BTS5GzLxI3wEeu9+VP3zbA2DnsM4OoNsAiLIQaAm42wJxad+gIMDbAe6H1f9fuNcDCo8wUsao1wLK9IefbYzXAZZIH+6AaNcBV2jnNS880wOYITQUqgjTAQv+hJYszNMB8UHA5wOMzwFmTO4EbkzPAq98JHvBBM8Cj3bK7kfAywFK8nzpUnzLAzfdUWYtOMsB+Dx9eiv4xwPcoO8GjrzHABRzU1yhiMcDBiSuAaRYxwPVqRc+zzDDA/vNqwFOFMMBOxtfmkkAwwMRYxENw/S/AoBzZpw6AL8AE3NY4ggkvwGAakCpFmi7AM9DIJ8oyLsDu4wLce9MtwIT+iIW8fC3AWBQpkOUuLcArBwc5R+oswJJl5jsoryzA/YpAisV9LMBnSXIMUlYswLbeQW32OCzA8E3z79AlLMA=\",\"dtype\":\"float64\",\"order\":\"little\",\"shape\":[100]},\"y\":{\"__ndarray__\":\"XgcH53O7FcCG+DjD9fQUwJPj14RXLBTAJT4U+WdiE8CKTtFI95cSwPzUESLWzRHA8Hrb4NQEEcB0xm64wj0QwJTwYbvZ8g7ATgBIZztxDcB+KI31N/gLwBr0ZghUiQrAbWOm0gkmCcCM/dyRx88HwJN71RTuhwbA0zflT89PBcAHRY0ArSgEwFZJ0mG3EwPADf6g8gsSAsAZmoJPtCQBwOmE0CClTADA7BwDPXoV/7/qSSlViL/9v2hiCwbVmPy/xPxBGJCi+7/G5uBnt936v6YHyN4VS/q/hHF4o0Lr+b9sP0V9oL75v6rcgG5dxfm/WqsPhXL/+b/m7ZDho2z6vwqSFvWADPu/fj4s9WTe+7/mCLaFd+H8v8q495etFP6/sLDefcp2/7+oWzmYMIMAwCKQDuTqYAHAIDqhkq9TAsBWdLxjhFoDwDr1umhadATAp3PPGw+gBcDmxn6LbdwGwM0MF5kvKAjANY7bSP+BCcAv2YoieOgKwIqt06AoWgzAKPM9rpPVDcDYE/8tMlkPwGJkkke6cRDArmE7NGI5EcA8T7MNwwISwPIeLz4NzRLAL51bP3CXE8C5GFFxG2EUwBRpofE+KRXAOaSicQzvFcBCnhkLuLEWwGz6aBJ5cBfAEyRs5YoqGMBg9Ci2Ld8YwNkTh1CnjRnANEhB2kM1GsDg0kqMVtUawM3D6WQ6bRvACKnO0VL8G8BGRXpRDIIcwEDuSgvd/RzAtNWUXUVvHcCowzJh0NUdwPiiB2IUMR7ABaj0S7OAHsBlv9MLW8QewB9NEuTF+x7ACgaVtLomH8BUyJo1DUUfwJK/YSWeVh/ANMdfaFtbH8Cm1OwbQFMfwHYrTJtUPh/AiCoPd64cH8CWk9pecO4ewPg2pf3Jsx7AUN+UyPdsHsC+I6zAQhoewJ5eiScAvB3AnFuEJ5FSHcDSVIVvYt4cwFZ+/MLrXxzAmpxtfq/XG8AS6A4ROkYbwLDDBWwhrBrAkH/WZwQKGsDJe6YgimAZwAJ1+UlhsBjA+Yybej/6F8CrsXFx4D4XwLZX8VMFfxbAXgcH53O7FcA=\",\"dtype\":\"float64\",\"order\":\"little\",\"shape\":[100]}},\"selected\":{\"id\":\"10532\"},\"selection_policy\":{\"id\":\"10531\"}},\"id\":\"10457\",\"type\":\"ColumnDataSource\"},{\"attributes\":{\"fill_alpha\":0.01,\"fill_color\":\"green\",\"hatch_alpha\":0.01,\"hatch_color\":\"green\",\"line_alpha\":0.01,\"line_color\":\"green\",\"x\":{\"field\":\"x\"},\"y\":{\"field\":\"y\"}},\"id\":\"10512\",\"type\":\"Patch\"},{\"attributes\":{},\"id\":\"10531\",\"type\":\"UnionRenderers\"},{\"attributes\":{\"axis_label\":\"PC 1 (28.9%)\",\"axis_label_text_font_size\":\"13pt\",\"coordinates\":null,\"formatter\":{\"id\":\"10434\"},\"group\":null,\"major_label_policy\":{\"id\":\"10435\"},\"ticker\":{\"id\":\"10402\"}},\"id\":\"10401\",\"type\":\"LinearAxis\"},{\"attributes\":{\"line_alpha\":0.2,\"line_color\":\"red\",\"line_width\":2,\"x\":{\"field\":\"x\"},\"y\":{\"field\":\"y\"}},\"id\":\"10448\",\"type\":\"Line\"},{\"attributes\":{},\"id\":\"10378\",\"type\":\"AllLabels\"},{\"attributes\":{\"data\":{\"x\":{\"__ndarray__\":\"8E3z79AlLMCjUhZR9RwswLwWLrJsHizAlqNHkDUqLMAawojFQ0AswMSutZWAYCzABrmgxcqKLMCFpWu99r4swHyDd7XO/CzA76LU7RJELcAwhvnveZQtwGcRfdqw7S3AQuiFtltPLsB26JbWFbkuwH4IVz5yKi/A7p/pEvyiL8BJpbGJGxEwwIedbwzQUzDAiXrYzlaZMMBKiZMlaOEwwHh5psa5KzHAE4IJFv93McDX4p906cUxwMhaQ5EoFTLA7giPu2plMsAkXxQ4XbYywJ1Zo5WsBzPA8hFOAwVZM8COA8+mEqozwGbx+PKB+jPAH1PX/f9JNMCggSbWOpg0wICIy9fh5DTAA4r0/qUvNcBiBYw5Ong1wGcJq7ZTvjXAR264M6oBNsAUl+VG+EE2wC7yu6b7fjbAsXZxbnW4NsA4r71eKu42wF597BrjHzfAVKHvYWxNN8C7MTRDl3Y3wHKNBU85mzfAiOZLwiy7N8C9TnmtUNY3wEAlfRaJ7DfAeeaaFb/9N8Bsowbt4Ak4wPrJLhviEDjA8GOgZ7sSOMDdgnjqag84wJwsWw70BjjAFMLtjF/5N8Cdgdhlu+Y3wH5qWNAazzfAbmFwJ5ayN8BbAc7QSpE3wJj5ex5bazfAWDaBK+5AN8BTS5GzLxI3wEeu9+VP3zbA2DnsM4OoNsAiLIQaAm42wJxad+gIMDbAe6H1f9fuNcDCo8wUsao1wLK9IefbYzXAZZIH+6AaNcBV2jnNS880wOYITQUqgjTAQv+hJYszNMB8UHA5wOMzwFmTO4EbkzPAq98JHvBBM8Cj3bK7kfAywFK8nzpUnzLAzfdUWYtOMsB+Dx9eiv4xwPcoO8GjrzHABRzU1yhiMcDBiSuAaRYxwPVqRc+zzDDA/vNqwFOFMMBOxtfmkkAwwMRYxENw/S/AoBzZpw6AL8AE3NY4ggkvwGAakCpFmi7AM9DIJ8oyLsDu4wLce9MtwIT+iIW8fC3AWBQpkOUuLcArBwc5R+oswJJl5jsoryzA/YpAisV9LMBnSXIMUlYswLbeQW32OCzA8E3z79AlLMA=\",\"dtype\":\"float64\",\"order\":\"little\",\"shape\":[100]},\"y\":{\"__ndarray__\":\"XgcH53O7FcCG+DjD9fQUwJPj14RXLBTAJT4U+WdiE8CKTtFI95cSwPzUESLWzRHA8Hrb4NQEEcB0xm64wj0QwJTwYbvZ8g7ATgBIZztxDcB+KI31N/gLwBr0ZghUiQrAbWOm0gkmCcCM/dyRx88HwJN71RTuhwbA0zflT89PBcAHRY0ArSgEwFZJ0mG3EwPADf6g8gsSAsAZmoJPtCQBwOmE0CClTADA7BwDPXoV/7/qSSlViL/9v2hiCwbVmPy/xPxBGJCi+7/G5uBnt936v6YHyN4VS/q/hHF4o0Lr+b9sP0V9oL75v6rcgG5dxfm/WqsPhXL/+b/m7ZDho2z6vwqSFvWADPu/fj4s9WTe+7/mCLaFd+H8v8q495etFP6/sLDefcp2/7+oWzmYMIMAwCKQDuTqYAHAIDqhkq9TAsBWdLxjhFoDwDr1umhadATAp3PPGw+gBcDmxn6LbdwGwM0MF5kvKAjANY7bSP+BCcAv2YoieOgKwIqt06AoWgzAKPM9rpPVDcDYE/8tMlkPwGJkkke6cRDArmE7NGI5EcA8T7MNwwISwPIeLz4NzRLAL51bP3CXE8C5GFFxG2EUwBRpofE+KRXAOaSicQzvFcBCnhkLuLEWwGz6aBJ5cBfAEyRs5YoqGMBg9Ci2Ld8YwNkTh1CnjRnANEhB2kM1GsDg0kqMVtUawM3D6WQ6bRvACKnO0VL8G8BGRXpRDIIcwEDuSgvd/RzAtNWUXUVvHcCowzJh0NUdwPiiB2IUMR7ABaj0S7OAHsBlv9MLW8QewB9NEuTF+x7ACgaVtLomH8BUyJo1DUUfwJK/YSWeVh/ANMdfaFtbH8Cm1OwbQFMfwHYrTJtUPh/AiCoPd64cH8CWk9pecO4ewPg2pf3Jsx7AUN+UyPdsHsC+I6zAQhoewJ5eiScAvB3AnFuEJ5FSHcDSVIVvYt4cwFZ+/MLrXxzAmpxtfq/XG8AS6A4ROkYbwLDDBWwhrBrAkH/WZwQKGsDJe6YgimAZwAJ1+UlhsBjA+Yybej/6F8CrsXFx4D4XwLZX8VMFfxbAXgcH53O7FcA=\",\"dtype\":\"float64\",\"order\":\"little\",\"shape\":[100]}},\"selected\":{\"id\":\"10528\"},\"selection_policy\":{\"id\":\"10527\"}},\"id\":\"10445\",\"type\":\"ColumnDataSource\"},{\"attributes\":{\"line_alpha\":0.1,\"line_color\":\"green\",\"x\":{\"field\":\"x\"},\"y\":{\"field\":\"y\"}},\"id\":\"10501\",\"type\":\"Line\"},{\"attributes\":{\"line_alpha\":0.1,\"line_color\":\"red\",\"x\":{\"field\":\"x\"},\"y\":{\"field\":\"y\"}},\"id\":\"10453\",\"type\":\"Line\"},{\"attributes\":{\"fill_alpha\":0.2,\"fill_color\":\"green\",\"hatch_alpha\":0.2,\"hatch_color\":\"green\",\"line_alpha\":0.2,\"line_color\":\"green\",\"x\":{\"field\":\"x\"},\"y\":{\"field\":\"y\"}},\"id\":\"10514\",\"type\":\"Patch\"},{\"attributes\":{\"line_alpha\":0.2,\"line_color\":\"red\",\"x\":{\"field\":\"x\"},\"y\":{\"field\":\"y\"}},\"id\":\"10454\",\"type\":\"Line\"},{\"attributes\":{},\"id\":\"10530\",\"type\":\"Selection\"},{\"attributes\":{\"fill_alpha\":0.01,\"fill_color\":\"red\",\"hatch_alpha\":0.01,\"hatch_color\":\"red\",\"line_alpha\":0.01,\"line_color\":\"red\",\"x\":{\"field\":\"x\"},\"y\":{\"field\":\"y\"}},\"id\":\"10464\",\"type\":\"Patch\"},{\"attributes\":{},\"id\":\"10527\",\"type\":\"UnionRenderers\"},{\"attributes\":{\"coordinates\":null,\"data_source\":{\"id\":\"10389\"},\"glyph\":{\"id\":\"10424\"},\"group\":null,\"hover_glyph\":null,\"muted_glyph\":{\"id\":\"10426\"},\"nonselection_glyph\":{\"id\":\"10425\"},\"view\":{\"id\":\"10428\"}},\"id\":\"10427\",\"type\":\"GlyphRenderer\"},{\"attributes\":{\"fill_alpha\":0.2,\"fill_color\":\"red\",\"hatch_alpha\":0.2,\"hatch_color\":\"red\",\"line_alpha\":0.2,\"line_color\":\"red\",\"x\":{\"field\":\"x\"},\"y\":{\"field\":\"y\"}},\"id\":\"10460\",\"type\":\"Patch\"},{\"attributes\":{},\"id\":\"10352\",\"type\":\"BasicTicker\"},{\"attributes\":{\"fill_alpha\":{\"value\":0.1},\"fill_color\":{\"field\":\"col\"},\"hatch_alpha\":{\"value\":0.1},\"hatch_color\":{\"field\":\"col\"},\"line_alpha\":{\"value\":0.1},\"line_color\":{\"field\":\"col\"},\"size\":{\"value\":5},\"x\":{\"field\":\"x\"},\"y\":{\"field\":\"y\"}},\"id\":\"10371\",\"type\":\"Circle\"},{\"attributes\":{\"line_alpha\":0.2,\"line_color\":\"blue\",\"line_width\":2,\"x\":{\"field\":\"x\"},\"y\":{\"field\":\"y\"}},\"id\":\"10472\",\"type\":\"Line\"},{\"attributes\":{\"coordinates\":null,\"data_source\":{\"id\":\"10475\"},\"glyph\":{\"id\":\"10476\"},\"group\":null,\"hover_glyph\":null,\"muted_glyph\":{\"id\":\"10478\"},\"nonselection_glyph\":{\"id\":\"10477\"},\"view\":{\"id\":\"10480\"}},\"id\":\"10479\",\"type\":\"GlyphRenderer\"},{\"attributes\":{\"data\":{\"x\":{\"__ndarray__\":\"H01ZqPbTLUCoIoVSPNwtQDN7FLEn2i1AnmoT6brNLUBEZVPJArctQIxfN70Wli1ATqGPtBhrLUDAL54ANTYtQHLdZyai9yxA3xeBpqCvLEAUYZC6el4sQLH/ygiEBCxANMS6TRmiK0A4xqX8nzcrQB+k+taFxSpAKBIte0BMKkDwWHfrTMwpQLK+/QwvRilAfLDYH3G6KEAL0pEwoykoQK7bpoNalCdA8lar+zD7JkBz1qd6xF4mQDAtWj+2vyVAWmn+PqoeJUAk6Ut8RnwkQPrBVFwy2SNAF+H3+RU2I0C+xJd4mZMiQL9uyFZk8iFA1TmnwRxTIUBdjI7pZrYgQFT81VjkHCBAureammYOH0Bmqjwq3OsdQNR2ed9U0xxAqw0T5/HFG0DjN4/xyMQaQFMA+BTj0BlA7gqauzvrGEClh9qgvxQYQLTnL91LThdAPeI4Aq2YFkBat9xHnvQVQF8RTsvIYhVACXS34MLjFEDO7ER4D3gUQC7BKpcdIBRAbD005UfcE0Ddm1BP1KwTQCVZfr/zkRNA+EJf6sGLE0D+OqkyRZoTQHwekaJuvRNA55s2+xn1E0CsEAHaDUEUQKTrxvP7oBRAEJqCZYEUFUBXzUEaJ5sVQOoF5kViNBZAa9o39JTfFkCHfrmrDpwXQLCykCMNaRhADJfMC71FGUDY7zjnOjEaQPtQ3vWTKhtAqHY9L8cwHEDs2ENLxkIdQGVb6Nh2Xx5At+VQYbOFH0AbYypLJlogQJsEkkUF9SBAir3o+taSIUC98Dm8+DIiQAWTRXjF1CJAU9unZZZ3I0COp8auwxokQO9b0x6lvSRAGOYuz5JfJUCyJ33U5f8lQJpfter4nSZAdDN+Hyk5J0BzvSV61tAnQAx5iKBkZChAVxI9eDvzKEDI9F7Dx3wpQGX5Vbh7ACpAa7/+k899KkCHBZ0lQvQqQFDBB1RZYytA7q2Fm6LKK0CAlNiDsyksQGCf/Q0qgCxABJYxGa3NLEBO4NC+7BEtQDmctKSiTC1A9d63RZJ9LUAHYBowiaQtQH4/gDlfwS1AH01ZqPbTLUA=\",\"dtype\":\"float64\",\"order\":\"little\",\"shape\":[100]},\"y\":{\"__ndarray__\":\"84Cfi+JxB0Cgxa9WoOQIQAuICePnWwpAChwLWDbWC0AV4ke+BVINQOmrhJHOzQ5AWpUmqgQkEEBvMMERmN8QQG0MISTgmBFANItE4x1PEkBFi3pzlQETQM9cCN2OrxNAtw3NyVZYFEAqkR4+P/sUQMwyIkyglxVAFHbnwNgsFkAC8ZLKTroWQEzY7ZZwPxdARMq26bS7F0C95Riqmy4YQJBZt2aulxhAVE/Fz4D2GEABVqwmsUoZQCo1zqLokxlA5Ev6ytvRGUAyRDrDSgQaQF3opY4BKxpA/D76RNhFGkC2r7w7s1QaQA7JvyKDVxpAVEHsE0VOGkBQ7T2WAjkaQAaY8ZPRFxpAMtvtQ9TqGUD7QX4GObIZQPIQhTU6bhlAzPpU6B0fGUC5wnCrNcUYQN5GeyzeYBhACpqu2n7yF0COpzx8iXoXQKJJB7l5+RZA4rcom9RvFkD8ss8FKN4VQKTL/CIKRRVAeIm3yBilFEAnAlvW+P4TQNOXoYpVUxNAOhAf09+iEkAd+96VTe4RQKpo4/VYNhFAxThFk797EEAemXePg34PQFEyq8BDAw5Adv5bqkaHDEBGvN3/EwwLQGot26MykwlAsjNnFSceCECTX4Tfca4GQLzAvwyORQVAMZV3oO/kA0COm2AXAo4CQJNU1fAmQgFAenFxQrQCAEAWHeKu5qH9P4xyfro+XPs/rFMjPcg2+T8uL8GcuTP3P4Bu8sclVfU/HJ+vEvqc8z9K88Y5/AzyPxJPI4/IpvA/lAmKoaDX7j/cxERYsLrsPzjU8N7t+Oo/BGzJ1CiU6T+skuH90I3oPyxBCsj05uc/OMsONECg5z846mYk/LnnP8AvFRIONOg/RFL/J/gN6T/AI6TE2UbqP/x8qWFw3es/dGxT4BjQ7T8s+cacaA7wP3735UedYPE/HohM0E3d8j/M8azJ8YL0P+KSKpHWT/Y/bitiDSFC+D9w8ieYz1f6P3CfAhC8jvw/DpxBD57k/j805jKjhqsAQH/6t/vB8QFAEe3Cx7BDA0AE+B+u9p8EQNt36qwsBQZA8oCfi+JxB0A=\",\"dtype\":\"float64\",\"order\":\"little\",\"shape\":[100]}},\"selected\":{\"id\":\"10536\"},\"selection_policy\":{\"id\":\"10535\"}},\"id\":\"10469\",\"type\":\"ColumnDataSource\"},{\"attributes\":{\"line_alpha\":0.8,\"line_color\":\"green\",\"line_width\":2,\"x\":{\"field\":\"x\"},\"y\":{\"field\":\"y\"}},\"id\":\"10494\",\"type\":\"Line\"},{\"attributes\":{\"data\":{\"x\":{\"__ndarray__\":\"gcjnf+8aLEB5SJnYRC4sQCaPysxtNyxAn+5A62A2LECkgCdJHyssQIxw8YC0FSxAPPpjpjb2K0CNctQvxswrQI7OsdSNmStASCh8YcJcK0DWpFeBohYrQGDWcn12xypAWDGD8o9vKkBlZKR8SQ8qQIRL8VkGpylAUsY2BDI3KUDg5SnCP8AoQBymkzCqQihAj7Dsw/K+J0AacutCoTUnQGgSjjpDpyZAh5MwbGsUJkDUgkU2sX0lQCssTfiv4yRATiescgZHJEC/WAYjVqgjQC4Wx51CCCNA5geC5XBnIkDKmNrAhsYhQJBLoQ8qJiFAPxzXHwCHIEBlX44GWtMfQPTvzMylnR5AukhP0iJuHUBiYN/0CUYcQFBcqW2MJhtAmxOaltIQGkAU0uK4+gUZQEZC3eUXBxhAz7J/2zAVF0BDAIb1PjEWQIpTZiwtXBVAS6waI9eWFEDQ5LhECOITQAeSwvJ6PhNAC+YExdesEkBgoc7btC0SQCo4L0WVwRFAS7HedehoEUB3gVnWCSQRQOrQpmRA8xBA+Uwqa77WEEAQ9cxMoc4QQFxTsmbx2hBA81qZB6L7EECUzvF8kTARQHqzmDWJeRFAhQEY+j3WEUB+lS86UEYSQHt4V29MyRJAAPHVk6teE0AUnO6t0wUUQBEVm24YvhRADo8p47uGFUDuRwo5714WQIf+AZPTRRdAdqfl7no6GEDgj/Ia6TsZQJYGxrkUSRpAV5DoU+hgG0DXrdJ1Q4IcQNZdRNn7qx1A6dm8mN7cHkDpzeq12AkgQEZInfWZpyBAK8J4bRBHIUBaKc68l+chQDQhrmmKiCJAPZx8i0IpI0CEi/Z1GskjQP9Y+WNtZyRAoyFcIZgDJUD+mSuz+ZwlQAgym/3zMiZAjWkAZ+zEJkD4UzB3TFInQIQEm3KC2idAmf+E8AFdKEB61sNrRNkoQLK6aM3JTilAiBjK8Bi9KUAaHWQgwCMqQCxuD4tVgipAM0AVsXfYKkDEWbDIzSUrQIBqkxkIaitA01wWT+CkK0Dw7LXAGdYrQFvJmrCB/StAgcjnf+8aLEA=\",\"dtype\":\"float64\",\"order\":\"little\",\"shape\":[100]},\"y\":{\"__ndarray__\":\"3BQ4Ubf68L/sG8J/o07uvzppIBKUZeq/tsetQ0g+5r/8pf0lCN3hvxh5dBCvjNq/iFFrn+L90L9QypG9FF68vwA/dimm4ag/SBrgCY4lyz88B8huaEHYP4rZEAyLjuE/4pVbU08N5z94Rh7tVpfsP9MNgQ52E/E/oauktinb8z9l5r/L6J/2P4tRfbbYXvk/pByI3CQV/D9uxXuLAcD+PwLKUm1XrgBASrFPwD30AUBc3OvMYzADQORlla6DYQRAPjnh3WKGBUA4O8R0050GQHpqx2W1pgdA3yv2pPefCECQrVRBmYgJQLM9vG2qXwpAfo4MeE0kC0DyF7Ott9ULQLoEnSwycwxAlEe8nxr8DEC6hF3m428NQA5RoqUWzg1A0NCJw1EWDkCq4gjLSkgOQO6oyjjOYw5AA1NKsL9oDkAsag8ZGlcOQLp+7qPvLg5AfstIuGnwDUDUI17JyJsNQCAr3RNkMQ1AoVH2Q6mxDEBWSU4EHB0MQFJ8RHZVdAtAJm0ZlAO4CkBVuJd96OgJQO+U+K/ZBwlAzRrSKb8VCEBoKPJ7khMHQJFsHMhdAgZAlsO0rjrjBEBSsnAsUbcDQAtAO2nWfwJA9LKFeQs+AUCoYZsmeOb/P/riW3B6Qf0/Qfizq9eP+j8Tk968VtT3P+kfHbTIEfU/39Rt5gVL8j8o04f91QXvP7xIjxWseOk/uoZRDEf04z+qCD2erfzcP7RA08j4ONI/oP7H8iCivj/AlTbVAU6lv2Cvd8h5Zsm/2E9CEZVp1r8I6HHHxcLfv4bjfgmWWuS/LrnIeseb6L+WFwp0lKDsv1aFWTlsMvC/jDAxvVjy8b88eMIKQo7zv8rIoIZ/BPW/REhuao9T9r9kGYZSGHr3v7w9BaLqdvi/jhTDuwFJ+b+W2PYOhe/5v3ovdfbIafq/FqyfaU+3+r+w309+yNf6vzQOOLsSy/q/tppkOjuR+r9qmrqbfSr6v0B6gcdDl/m/UhI3gSXY+L+GsB7L5+33v6RdLBt82fa/KrQdYv+b9b/O28DluDb0vyJwmO8Yq/K/3hQ4Ubf68L8=\",\"dtype\":\"float64\",\"order\":\"little\",\"shape\":[100]}},\"selected\":{\"id\":\"10548\"},\"selection_policy\":{\"id\":\"10547\"}},\"id\":\"10505\",\"type\":\"ColumnDataSource\"},{\"attributes\":{},\"id\":\"10355\",\"type\":\"PanTool\"},{\"attributes\":{\"fill_alpha\":{\"value\":0.2},\"fill_color\":{\"field\":\"col\"},\"hatch_alpha\":{\"value\":0.2},\"hatch_color\":{\"field\":\"col\"},\"line_alpha\":{\"value\":0.2},\"line_color\":{\"field\":\"col\"},\"marker\":{\"value\":\"triangle\"},\"size\":{\"value\":7},\"x\":{\"field\":\"x\"},\"y\":{\"field\":\"y\"}},\"id\":\"10426\",\"type\":\"Scatter\"},{\"attributes\":{},\"id\":\"10434\",\"type\":\"BasicTickFormatter\"},{\"attributes\":{},\"id\":\"10397\",\"type\":\"LinearScale\"},{\"attributes\":{\"line_alpha\":0.8,\"line_color\":\"blue\",\"line_width\":2,\"x\":{\"field\":\"x\"},\"y\":{\"field\":\"y\"}},\"id\":\"10470\",\"type\":\"Line\"},{\"attributes\":{\"coordinates\":null,\"group\":null,\"text\":\"PCA Loadings Plot (PC1 vs. PC2)\",\"text_font_size\":\"15pt\"},\"id\":\"10391\",\"type\":\"Title\"},{\"attributes\":{\"toolbars\":[{\"id\":\"10362\"},{\"id\":\"10416\"}],\"tools\":[{\"id\":\"10355\"},{\"id\":\"10356\"},{\"id\":\"10357\"},{\"id\":\"10358\"},{\"id\":\"10359\"},{\"id\":\"10360\"},{\"id\":\"10387\"},{\"id\":\"10409\"},{\"id\":\"10410\"},{\"id\":\"10411\"},{\"id\":\"10412\"},{\"id\":\"10413\"},{\"id\":\"10414\"},{\"id\":\"10441\"}]},\"id\":\"10565\",\"type\":\"ProxyToolbar\"},{\"attributes\":{\"data\":{\"x\":{\"__ndarray__\":\"Om9HwhWLR0BMDooghrBHQHX2WhxDwkdAaW3IbDrAR0BHaY4qbqpHQKBJ7c30gEdA1kuAF/lDR0A+myvkufNGQIBqT+yJkEZAkuKCbs8aRkAdzS7GA5NFQDifdO6y+URAiNji8XpPREDwdItHC5VDQMNfJB4ky0JAO1vslZXyQUBhkiDqPgxBQKz834oNGUBADI/TUPgzPkBWJWZhIyA8QOzAvIDA+DlAojpYEAjAN0B4Bg9QRHg1QPynuwHPIzNA1MXu/A7FMECOkUhq67wsQOmzEWr55CdA7LPQIkYHI0ARDZpZq1EcQC81o8ZZnRJAXGPe4DD3AUBAqqYAXTXBvzwYFsE/0QPA0PKSk50XE8BirEqNLA0cwKdn4UYIYCLArbgGB6mTJsARykK/I50qwP8MXBpPeC7A/Hnuv5gQMcCoyoSWAsoywOJKMwyeZjTALpLnzcHkNcBghKnw40I3wA5vqoebfzjAtqpRGKKZOcD+Osfq1I86wFCEoTU2YTvAMiyBI+4MPMC6eI2xS5I8wNDW62XF8DzATnB23fknPcAevR8wsDc9wKCTmyvYHz3AnkARZIrgPMCocMUaCHo8wDAJ1vq67DvAGEhNrDQ5O8AUcvw9LmA6wOjVuGaHYjnAqMi/nkVBOMCkUi8Sk/02wNRiqW29mDXACl9ehjQUNMD4n+HeiHEywKy0TgpqsjDA5QLS3kmxLcBfogDbQ8wpwJcxCMrFuSXAX7yYSwJ+IcDcNOkUrToawMCxrXmLOBHAWNYP7aP7/79gHa2bf4vWP4axrB5L6QVAZLWLhAibFEDKKTRS7lEeQNShBLapByRA7jOayZbkKEDd4uIXu7otQBTlmSmNQjFADpbpJ2KfM0BGdI0NbfE1QMX9bIBJNjhAjAHkvKBrOkAYuPr+K488QATzH9u2nj5AJRP9wRBMQEA9xXt9sTxBQMLArZRFIEJASNHPb+L1QkDMpIzcq7xDQB+O+PDUc0RAgEfM3qAaRUDW9wS2Y7BFQOnaIBaDNEZAdtlBzXamRkDNBpJkyQVHQABMWZkYUkdAOm9HwhWLR0A=\",\"dtype\":\"float64\",\"order\":\"little\",\"shape\":[100]},\"y\":{\"__ndarray__\":\"ECqTpiTELsB+IPeUlv8swBxzzrXzGivAckbqmy8YKcAifhLpXPkmwPgWCSurwCTA+FK9mmRwIsB2SwHA6wogwAunYfhxJRvAuNOk/K8UFsAtYaRGyugQwGKRLRQrTgfAlCw01/NT+b8g61C4k//Ov7yk9rCQqfE/zq8TFzGZA0ASAoOiJ1IOQM7YxTRPehRAooodhs+6GUATU2TUKuUeQCy4OQEH+iFAEhwBIiFxJECsMcs+WdUmQFbb3EA4JClADD4HE11bK0Aez4IVf3gtQCr+k3hweS9ApSHGPRCuMEDIa+vGTo8xQEyf76eLXzJAunXgOPAdM0A8SOk2uMkzQF91oo4yYjRA9viZEsLmNEBEDVkd3lY1QIrRPx4TsjVAmcKlEAP4NUBWOcTcZSg2QLoHB6IJQzZAbpl26tJHNkBBmAbHvDY2QFfmq9TYDzZAFrA0Kk/TNUDyTPUuXoE1QECIdFpaGjVAcKFZ3a2eNECXxPUz2A40QJTR2aJtazNA7Oj/nRa1MkDESiYbj+wxQC6HDtClEjFAerloXTsoMEDQ6IzOglwuQDgfCDhzSyxALDRSVWkfKkDGgqNTotonQI7bheB0fyVA7jSzwE4QI0Du+SZPso8gQDVP7c1nABxAUZE4de7IFkCVAOE2WX4RQOaFiNA4TAhAjNE1yOkW+z9w/j0l4ivWP/iUb09Y6u+/qoBOQK2pAsBeSbfcxTwNwIIQSLB81BPAES6orcTxGMC3mdFD9fAdwMjQd+pzZiHALLiiC03AI8BSvX6fmQMmwHbRmX4ELijAnM6JJ1I9KsCWQQsMYy8swHCEUME1Ai7AnJU/EemzL8Dnjj71XqEwwAWoopaMVjHADcubqcL4McAsFzD4WYcywIhp+YW/ATPARoipJ3VnM8BU9RgFErgzwNhXWgVD8zPARhRjJMsYNMBexvCxgyg0wJjHanlcIjTAoKWW0lsGNMCrUA6bntQzwAi/fhhYjTPAHrLNw9EwM8ASGF39ar8ywC8cuqqYOTLA9j4dvuSfMcBbrDeo7fIwwNxk4LRlMzDAEiqTpiTELsA=\",\"dtype\":\"float64\",\"order\":\"little\",\"shape\":[100]}},\"selected\":{\"id\":\"10546\"},\"selection_policy\":{\"id\":\"10545\"}},\"id\":\"10499\",\"type\":\"ColumnDataSource\"},{\"attributes\":{},\"id\":\"10431\",\"type\":\"BasicTickFormatter\"},{\"attributes\":{},\"id\":\"10546\",\"type\":\"Selection\"},{\"attributes\":{\"label\":{\"field\":\"group\"},\"renderers\":[{\"id\":\"10427\"}]},\"id\":\"10440\",\"type\":\"LegendItem\"},{\"attributes\":{},\"id\":\"10341\",\"type\":\"DataRange1d\"},{\"attributes\":{\"overlay\":{\"id\":\"10361\"}},\"id\":\"10357\",\"type\":\"BoxZoomTool\"},{\"attributes\":{\"coordinates\":null,\"data_source\":{\"id\":\"10469\"},\"glyph\":{\"id\":\"10470\"},\"group\":null,\"hover_glyph\":null,\"muted_glyph\":{\"id\":\"10472\"},\"nonselection_glyph\":{\"id\":\"10471\"},\"view\":{\"id\":\"10474\"}},\"id\":\"10473\",\"type\":\"GlyphRenderer\"},{\"attributes\":{\"source\":{\"id\":\"10469\"}},\"id\":\"10474\",\"type\":\"CDSView\"},{\"attributes\":{\"line_alpha\":0.1,\"line_color\":\"blue\",\"line_width\":2,\"x\":{\"field\":\"x\"},\"y\":{\"field\":\"y\"}},\"id\":\"10471\",\"type\":\"Line\"},{\"attributes\":{\"source\":{\"id\":\"10475\"}},\"id\":\"10480\",\"type\":\"CDSView\"},{\"attributes\":{},\"id\":\"10543\",\"type\":\"UnionRenderers\"},{\"attributes\":{\"axis_label\":\"PC 2 (6.6%)\",\"axis_label_text_font_size\":\"13pt\",\"coordinates\":null,\"formatter\":{\"id\":\"10377\"},\"group\":null,\"major_label_policy\":{\"id\":\"10378\"},\"ticker\":{\"id\":\"10352\"}},\"id\":\"10351\",\"type\":\"LinearAxis\"},{\"attributes\":{},\"id\":\"10393\",\"type\":\"DataRange1d\"},{\"attributes\":{\"line_alpha\":0.2,\"line_color\":\"blue\",\"x\":{\"field\":\"x\"},\"y\":{\"field\":\"y\"}},\"id\":\"10478\",\"type\":\"Line\"},{\"attributes\":{\"fill_alpha\":0.1,\"fill_color\":\"red\",\"hatch_alpha\":0.1,\"hatch_color\":\"red\",\"line_alpha\":0.1,\"line_color\":\"red\",\"x\":{\"field\":\"x\"},\"y\":{\"field\":\"y\"}},\"id\":\"10465\",\"type\":\"Patch\"},{\"attributes\":{\"below\":[{\"id\":\"10347\"}],\"center\":[{\"id\":\"10350\"},{\"id\":\"10354\"},{\"id\":\"10385\"}],\"height\":430,\"left\":[{\"id\":\"10351\"}],\"min_border_bottom\":20,\"min_border_left\":20,\"min_border_right\":20,\"min_border_top\":20,\"renderers\":[{\"id\":\"10373\"},{\"id\":\"10449\"},{\"id\":\"10455\"},{\"id\":\"10461\"},{\"id\":\"10467\"},{\"id\":\"10473\"},{\"id\":\"10479\"},{\"id\":\"10485\"},{\"id\":\"10491\"},{\"id\":\"10497\"},{\"id\":\"10503\"},{\"id\":\"10509\"},{\"id\":\"10515\"}],\"title\":{\"id\":\"10337\"},\"toolbar\":{\"id\":\"10362\"},\"toolbar_location\":null,\"width\":490,\"x_range\":{\"id\":\"10339\"},\"x_scale\":{\"id\":\"10343\"},\"y_range\":{\"id\":\"10341\"},\"y_scale\":{\"id\":\"10345\"}},\"id\":\"10336\",\"subtype\":\"Figure\",\"type\":\"Plot\"},{\"attributes\":{\"coordinates\":null,\"data_source\":{\"id\":\"10487\"},\"glyph\":{\"id\":\"10488\"},\"group\":null,\"hover_glyph\":null,\"muted_glyph\":{\"id\":\"10490\"},\"nonselection_glyph\":{\"id\":\"10489\"},\"view\":{\"id\":\"10492\"}},\"id\":\"10491\",\"type\":\"GlyphRenderer\"},{\"attributes\":{\"axis\":{\"id\":\"10351\"},\"coordinates\":null,\"dimension\":1,\"group\":null,\"ticker\":null},\"id\":\"10354\",\"type\":\"Grid\"},{\"attributes\":{\"fill_alpha\":0.1,\"fill_color\":\"red\",\"hatch_alpha\":0.1,\"hatch_color\":\"red\",\"line_alpha\":0.1,\"line_color\":\"red\",\"x\":{\"field\":\"x\"},\"y\":{\"field\":\"y\"}},\"id\":\"10459\",\"type\":\"Patch\"},{\"attributes\":{\"fill_alpha\":0.07,\"fill_color\":\"green\",\"hatch_alpha\":0.07,\"hatch_color\":\"green\",\"line_alpha\":0.07,\"line_color\":\"green\",\"x\":{\"field\":\"x\"},\"y\":{\"field\":\"y\"}},\"id\":\"10506\",\"type\":\"Patch\"},{\"attributes\":{},\"id\":\"10550\",\"type\":\"Selection\"},{\"attributes\":{},\"id\":\"10437\",\"type\":\"Selection\"},{\"attributes\":{\"tools\":[{\"id\":\"10355\"},{\"id\":\"10356\"},{\"id\":\"10357\"},{\"id\":\"10358\"},{\"id\":\"10359\"},{\"id\":\"10360\"},{\"id\":\"10387\"}]},\"id\":\"10362\",\"type\":\"Toolbar\"},{\"attributes\":{\"source\":{\"id\":\"10463\"}},\"id\":\"10468\",\"type\":\"CDSView\"},{\"attributes\":{},\"id\":\"10382\",\"type\":\"UnionRenderers\"},{\"attributes\":{},\"id\":\"10548\",\"type\":\"Selection\"},{\"attributes\":{},\"id\":\"10534\",\"type\":\"Selection\"},{\"attributes\":{\"fill_alpha\":0.1,\"fill_color\":\"blue\",\"hatch_alpha\":0.1,\"hatch_color\":\"blue\",\"line_alpha\":0.1,\"line_color\":\"blue\",\"x\":{\"field\":\"x\"},\"y\":{\"field\":\"y\"}},\"id\":\"10483\",\"type\":\"Patch\"},{\"attributes\":{\"label\":{\"field\":\"group\"},\"renderers\":[{\"id\":\"10373\"}]},\"id\":\"10386\",\"type\":\"LegendItem\"},{\"attributes\":{\"data\":{\"x\":{\"__ndarray__\":\"Om9HwhWLR0BMDooghrBHQHX2WhxDwkdAaW3IbDrAR0BHaY4qbqpHQKBJ7c30gEdA1kuAF/lDR0A+myvkufNGQIBqT+yJkEZAkuKCbs8aRkAdzS7GA5NFQDifdO6y+URAiNji8XpPREDwdItHC5VDQMNfJB4ky0JAO1vslZXyQUBhkiDqPgxBQKz834oNGUBADI/TUPgzPkBWJWZhIyA8QOzAvIDA+DlAojpYEAjAN0B4Bg9QRHg1QPynuwHPIzNA1MXu/A7FMECOkUhq67wsQOmzEWr55CdA7LPQIkYHI0ARDZpZq1EcQC81o8ZZnRJAXGPe4DD3AUBAqqYAXTXBvzwYFsE/0QPA0PKSk50XE8BirEqNLA0cwKdn4UYIYCLArbgGB6mTJsARykK/I50qwP8MXBpPeC7A/Hnuv5gQMcCoyoSWAsoywOJKMwyeZjTALpLnzcHkNcBghKnw40I3wA5vqoebfzjAtqpRGKKZOcD+Osfq1I86wFCEoTU2YTvAMiyBI+4MPMC6eI2xS5I8wNDW62XF8DzATnB23fknPcAevR8wsDc9wKCTmyvYHz3AnkARZIrgPMCocMUaCHo8wDAJ1vq67DvAGEhNrDQ5O8AUcvw9LmA6wOjVuGaHYjnAqMi/nkVBOMCkUi8Sk/02wNRiqW29mDXACl9ehjQUNMD4n+HeiHEywKy0TgpqsjDA5QLS3kmxLcBfogDbQ8wpwJcxCMrFuSXAX7yYSwJ+IcDcNOkUrToawMCxrXmLOBHAWNYP7aP7/79gHa2bf4vWP4axrB5L6QVAZLWLhAibFEDKKTRS7lEeQNShBLapByRA7jOayZbkKEDd4uIXu7otQBTlmSmNQjFADpbpJ2KfM0BGdI0NbfE1QMX9bIBJNjhAjAHkvKBrOkAYuPr+K488QATzH9u2nj5AJRP9wRBMQEA9xXt9sTxBQMLArZRFIEJASNHPb+L1QkDMpIzcq7xDQB+O+PDUc0RAgEfM3qAaRUDW9wS2Y7BFQOnaIBaDNEZAdtlBzXamRkDNBpJkyQVHQABMWZkYUkdAOm9HwhWLR0A=\",\"dtype\":\"float64\",\"order\":\"little\",\"shape\":[100]},\"y\":{\"__ndarray__\":\"ECqTpiTELsB+IPeUlv8swBxzzrXzGivAckbqmy8YKcAifhLpXPkmwPgWCSurwCTA+FK9mmRwIsB2SwHA6wogwAunYfhxJRvAuNOk/K8UFsAtYaRGyugQwGKRLRQrTgfAlCw01/NT+b8g61C4k//Ov7yk9rCQqfE/zq8TFzGZA0ASAoOiJ1IOQM7YxTRPehRAooodhs+6GUATU2TUKuUeQCy4OQEH+iFAEhwBIiFxJECsMcs+WdUmQFbb3EA4JClADD4HE11bK0Aez4IVf3gtQCr+k3hweS9ApSHGPRCuMEDIa+vGTo8xQEyf76eLXzJAunXgOPAdM0A8SOk2uMkzQF91oo4yYjRA9viZEsLmNEBEDVkd3lY1QIrRPx4TsjVAmcKlEAP4NUBWOcTcZSg2QLoHB6IJQzZAbpl26tJHNkBBmAbHvDY2QFfmq9TYDzZAFrA0Kk/TNUDyTPUuXoE1QECIdFpaGjVAcKFZ3a2eNECXxPUz2A40QJTR2aJtazNA7Oj/nRa1MkDESiYbj+wxQC6HDtClEjFAerloXTsoMEDQ6IzOglwuQDgfCDhzSyxALDRSVWkfKkDGgqNTotonQI7bheB0fyVA7jSzwE4QI0Du+SZPso8gQDVP7c1nABxAUZE4de7IFkCVAOE2WX4RQOaFiNA4TAhAjNE1yOkW+z9w/j0l4ivWP/iUb09Y6u+/qoBOQK2pAsBeSbfcxTwNwIIQSLB81BPAES6orcTxGMC3mdFD9fAdwMjQd+pzZiHALLiiC03AI8BSvX6fmQMmwHbRmX4ELijAnM6JJ1I9KsCWQQsMYy8swHCEUME1Ai7AnJU/EemzL8Dnjj71XqEwwAWoopaMVjHADcubqcL4McAsFzD4WYcywIhp+YW/ATPARoipJ3VnM8BU9RgFErgzwNhXWgVD8zPARhRjJMsYNMBexvCxgyg0wJjHanlcIjTAoKWW0lsGNMCrUA6bntQzwAi/fhhYjTPAHrLNw9EwM8ASGF39ar8ywC8cuqqYOTLA9j4dvuSfMcBbrDeo7fIwwNxk4LRlMzDAEiqTpiTELsA=\",\"dtype\":\"float64\",\"order\":\"little\",\"shape\":[100]}},\"selected\":{\"id\":\"10550\"},\"selection_policy\":{\"id\":\"10549\"}},\"id\":\"10511\",\"type\":\"ColumnDataSource\"},{\"attributes\":{\"source\":{\"id\":\"10487\"}},\"id\":\"10492\",\"type\":\"CDSView\"},{\"attributes\":{},\"id\":\"10381\",\"type\":\"AllLabels\"},{\"attributes\":{},\"id\":\"10541\",\"type\":\"UnionRenderers\"},{\"attributes\":{\"below\":[{\"id\":\"10401\"}],\"center\":[{\"id\":\"10404\"},{\"id\":\"10408\"},{\"id\":\"10439\"},{\"id\":\"10443\"},{\"id\":\"10444\"}],\"height\":430,\"left\":[{\"id\":\"10405\"}],\"min_border_bottom\":20,\"min_border_left\":20,\"min_border_right\":20,\"min_border_top\":20,\"renderers\":[{\"id\":\"10427\"}],\"title\":{\"id\":\"10391\"},\"toolbar\":{\"id\":\"10416\"},\"toolbar_location\":null,\"width\":490,\"x_range\":{\"id\":\"10393\"},\"x_scale\":{\"id\":\"10397\"},\"y_range\":{\"id\":\"10395\"},\"y_scale\":{\"id\":\"10399\"}},\"id\":\"10390\",\"subtype\":\"Figure\",\"type\":\"Plot\"},{\"attributes\":{},\"id\":\"10395\",\"type\":\"DataRange1d\"},{\"attributes\":{},\"id\":\"10436\",\"type\":\"UnionRenderers\"},{\"attributes\":{\"fill_alpha\":{\"value\":0.1},\"fill_color\":{\"field\":\"col\"},\"hatch_alpha\":{\"value\":0.1},\"hatch_color\":{\"field\":\"col\"},\"line_alpha\":{\"value\":0.1},\"line_color\":{\"field\":\"col\"},\"marker\":{\"value\":\"triangle\"},\"size\":{\"value\":7},\"x\":{\"field\":\"x\"},\"y\":{\"field\":\"y\"}},\"id\":\"10425\",\"type\":\"Scatter\"},{\"attributes\":{},\"id\":\"10383\",\"type\":\"Selection\"},{\"attributes\":{\"coordinates\":null,\"dimension\":\"height\",\"group\":null,\"line_alpha\":0.15,\"line_width\":3,\"location\":0},\"id\":\"10444\",\"type\":\"Span\"},{\"attributes\":{\"source\":{\"id\":\"10457\"}},\"id\":\"10462\",\"type\":\"CDSView\"},{\"attributes\":{\"data\":{\"x\":{\"__ndarray__\":\"hCjgvRhXSEBVLfKUHWdIQJMNpSUWY0hAv3UylwZLSEBd2QG3Bx9IQI5YF99G30dA8uRTxwWMR0CM1rZBmiVHQKXF5uFtrEZA1NpckP0gRkB6xKIJ2YNFQOoLKEqi1URAsIVH5wwXREBO/ShW3UhDQD7vPSHoa0JAhBIqDRGBQUDZifktSolAQOyFLdslCz9Ay30CCe7tPEBfVKnLGr06QDZ+eT/uejhATrb8YrwpNkAV25Gw6MszQGPKGajjYzFAu/lvllDoLUBr73wdc/4oQOOqz4c/DyRA6GUq8Jc/HkAq0NqlXWoUQO5DiAHmUQVAYMQ6UGZW0D/A2fglsewAwFaChVSDwBHAlEhJaIbPGsCYArSoBc0hwHSZzRaBCybAUjpMhtUeKsDw4IV6zwIuwFopdyO22TDACz20GG+WMsC/xgEvyDU0wIGqDEAVtjXAnqd/JsoVN8DEZ15WfFM4wJQZvlLkbTnAVFla/95jOsBOa6rMbjQ7wKhyQb283jvAYDZsQxliPMDaASj2/L08wF4WuBwJ8jzApspJEAj+PMD4sUJz7eE8wErI/z3WnTzAlH/4oAgyPMAad2S88547wJRxri0v5TrAZp8qc3oFOsBoV7EmvAA5wHq56Q8B2DfAZkM5D3uMNsAV83Xifx81wFP7n8SHkjPAeS0O6ivnMcA635zaJB8wwLA8JFeReCzAcpkWNhKBKMBmTs8d41skwIw4gfJJDSDAuHBwkm4zF8CwgPBQBxcMwJBZTUENsfK/8FTyCqWC8z9kXraR0yINQINFhwsBXBhAR0jRmCsbIUDyIXcTIgsmQMpnIQrN+CpAPgDc7hffL0DcIvvmelwyQFJGaEGzwDRAhcO6770ZN0BRoNdgL2U5QJpCLQiqoDtAAP/pzeDJPUDIDzxumd4/QB5+lGJX7kBAtz1PggnhQUAUpzrpaMZCQK6sGyaJnUNAWKpKd4xlREDtyEqvpB1FQBdLUgkUxUVACq7o7C1bRkCY+NCfV99GQH/SiOUIUUdASfq3i8yvR0BNVv/iQPtHQIsYqyMYM0hAhCjgvRhXSEA=\",\"dtype\":\"float64\",\"order\":\"little\",\"shape\":[100]},\"y\":{\"__ndarray__\":\"ajhm/PMFAMDQtTmOzzjjv+SE337MMuo/gJT1jQz/AUBwdUe8C30NQOiYEf9rfRRA0F2+bUw2GkAqxlojQeMfQOzgbzE4vyJA4ZJ6YAmBJUDSEXuMPDQoQDTBdzQJ1ipAqq5Gx7hjLUD0GodvqdovQMDQHWUoHDFA232cQh89MkCZI1txD08zQIi0s4/eUDRA+UJU3IJBNUAWOTFIBCA2QCupOXZ96zZARyDGpxyjN0DZQs6UJEY4QLFTBi/t0zhAU4QbT+RLOUB7e1xLjq05QHHEMneG+DlABMDpin8sOkBjHVjzQ0k6QKq8GQm2TjpAwQ0hL9A8OkCyaIDYpBM6QLxoZXVe0zlAkeRZRz98OUA+nPccoQ45QKkDVfX0ijhAkpeKi8LxN0CbzsjKp0M3QH/gjitYgTZAFTGq+purNUByE72KT8M0QIq7IVFiyTNAZHsT79W+MkA9vhwovaQxQCiD28Y6fDBArJqA4gCNLkDoEPnamgksQPpQyrHacClA5o45pG3FJkDMP8svFAokQA/qDjyfQSFAWM7+ZtrdHECRO+sczikXQN4udKb6bBFAkis0OZRaB0Bk4yMwpsL3PwCo4qRsga4/OHMtXyWf9b/MBSZm0+8FwJjyWTOibRDA14OhC1LDFcAnCFV0efMawFM8dVa/+B/AsO5wZ/tmIsCcTAlCErckwD7EX+RB6ibAwgIXw0X+KMDWZIh0+fAqwFTHFOZawCzA+FsPboxqLsBMQiC41u0vwJWqEUVVpDDAYizYL9E8McDWKFLtwb8xwNsPmIOgLDLArigPufyCMsABqxiIfcIywJ3H1Xrh6jLAhQii7v77MsDHef4+xPUywBldwdc32DLAKql3LnijMsBaJ/+iu1cywGuNeUdQ9THAa1rSj5t8McDWayrpGe4wwLwYlTleSjDAKhNWkSIkL8DWyR0j4ostwL5RLv6fzSvA8iHOJSjrKcA6Pazwa+YnwExXNQiAwSXA0oV/Q5p+I8BkfgJgDyAhwMdF6zShUB3A++ibVNIzGMD5mOhE9+4SwLZTn+f8DgvAdjhm/PMFAMA=\",\"dtype\":\"float64\",\"order\":\"little\",\"shape\":[100]}},\"selected\":{\"id\":\"10538\"},\"selection_policy\":{\"id\":\"10537\"}},\"id\":\"10475\",\"type\":\"ColumnDataSource\"},{\"attributes\":{},\"id\":\"10535\",\"type\":\"UnionRenderers\"},{\"attributes\":{},\"id\":\"10356\",\"type\":\"WheelZoomTool\"},{\"attributes\":{\"axis_label\":\"PC 2 (6.6%)\",\"axis_label_text_font_size\":\"13pt\",\"coordinates\":null,\"formatter\":{\"id\":\"10431\"},\"group\":null,\"major_label_policy\":{\"id\":\"10432\"},\"ticker\":{\"id\":\"10406\"}},\"id\":\"10405\",\"type\":\"LinearAxis\"},{\"attributes\":{},\"id\":\"10533\",\"type\":\"UnionRenderers\"},{\"attributes\":{\"line_alpha\":0.1,\"line_color\":\"green\",\"line_width\":2,\"x\":{\"field\":\"x\"},\"y\":{\"field\":\"y\"}},\"id\":\"10495\",\"type\":\"Line\"},{\"attributes\":{\"line_alpha\":0.4,\"line_color\":\"green\",\"x\":{\"field\":\"x\"},\"y\":{\"field\":\"y\"}},\"id\":\"10500\",\"type\":\"Line\"},{\"attributes\":{},\"id\":\"10377\",\"type\":\"BasicTickFormatter\"},{\"attributes\":{\"fill_alpha\":0.01,\"fill_color\":\"blue\",\"hatch_alpha\":0.01,\"hatch_color\":\"blue\",\"line_alpha\":0.01,\"line_color\":\"blue\",\"x\":{\"field\":\"x\"},\"y\":{\"field\":\"y\"}},\"id\":\"10488\",\"type\":\"Patch\"},{\"attributes\":{},\"id\":\"10537\",\"type\":\"UnionRenderers\"},{\"attributes\":{\"source\":{\"id\":\"10451\"}},\"id\":\"10456\",\"type\":\"CDSView\"},{\"attributes\":{\"source\":{\"id\":\"10493\"}},\"id\":\"10498\",\"type\":\"CDSView\"},{\"attributes\":{\"axis\":{\"id\":\"10347\"},\"coordinates\":null,\"group\":null,\"ticker\":null},\"id\":\"10350\",\"type\":\"Grid\"},{\"attributes\":{\"data\":{\"Idx\":[0,1,2,3,4,5,6,7,8,9,10,11,12,13,14,15,16,17,18,19,20,21,22,23,24,25,26,27,28,29,30,31,32,33,34,35,36,37,38,39,40,41,42,43,44,45,46,47,48,49,50,51,52,53,54,55,56,57,58,59,60,61,62,63,64,65,66,67,68,69,70,71,72,73,74,75,76,77,78,79,80,81,82,83,84,85,86,87,88,89,90,91,92,93,94,95,96,97,98,99,100,101,102,103,104,105,106,107,108,109,110,111,112,113,114,115,116,117,118,119,120,121,122,123,124,125,126,127,128,129,130,131,132,133,134,135,136,137,138,139,140,141,142,143,144,145,146,147,148,149,150,151,152,153,154,155,156,157,158,159,160,161,162,163,164,165,166,167,168,169,170,171,172,173,174,175,176,177,178,179],\"col\":[\"red\",\"red\",\"red\",\"red\",\"red\",\"red\",\"red\",\"red\",\"red\",\"red\",\"red\",\"red\",\"red\",\"red\",\"red\",\"red\",\"red\",\"red\",\"red\",\"red\",\"red\",\"red\",\"red\",\"red\",\"red\",\"red\",\"red\",\"red\",\"red\",\"red\",\"red\",\"red\",\"red\",\"red\",\"red\",\"red\",\"red\",\"red\",\"red\",\"red\",\"red\",\"red\",\"red\",\"red\",\"red\",\"red\",\"red\",\"red\",\"red\",\"red\",\"red\",\"red\",\"red\",\"red\",\"red\",\"red\",\"red\",\"red\",\"red\",\"red\",\"green\",\"green\",\"green\",\"green\",\"green\",\"green\",\"green\",\"green\",\"green\",\"green\",\"green\",\"green\",\"green\",\"green\",\"green\",\"green\",\"green\",\"green\",\"green\",\"green\",\"green\",\"green\",\"green\",\"green\",\"green\",\"green\",\"green\",\"green\",\"green\",\"green\",\"green\",\"green\",\"green\",\"green\",\"green\",\"green\",\"green\",\"green\",\"green\",\"green\",\"green\",\"green\",\"green\",\"green\",\"green\",\"green\",\"green\",\"green\",\"green\",\"green\",\"green\",\"green\",\"green\",\"green\",\"green\",\"green\",\"green\",\"green\",\"green\",\"green\",\"blue\",\"blue\",\"blue\",\"blue\",\"blue\",\"blue\",\"blue\",\"blue\",\"blue\",\"blue\",\"blue\",\"blue\",\"blue\",\"blue\",\"blue\",\"blue\",\"blue\",\"blue\",\"blue\",\"blue\",\"blue\",\"blue\",\"blue\",\"blue\",\"blue\",\"blue\",\"blue\",\"blue\",\"blue\",\"blue\",\"blue\",\"blue\",\"blue\",\"blue\",\"blue\",\"blue\",\"blue\",\"blue\",\"blue\",\"blue\",\"blue\",\"blue\",\"blue\",\"blue\",\"blue\",\"blue\",\"blue\",\"blue\",\"blue\",\"blue\",\"blue\",\"blue\",\"blue\",\"blue\",\"blue\",\"blue\",\"blue\",\"blue\",\"blue\",\"blue\"],\"group\":[\"Healthy\",\"Healthy\",\"Healthy\",\"Healthy\",\"Healthy\",\"Healthy\",\"Healthy\",\"Healthy\",\"Healthy\",\"Healthy\",\"Healthy\",\"Healthy\",\"Healthy\",\"Healthy\",\"Healthy\",\"Healthy\",\"Healthy\",\"Healthy\",\"Healthy\",\"Healthy\",\"Healthy\",\"Healthy\",\"Healthy\",\"Healthy\",\"Healthy\",\"Healthy\",\"Healthy\",\"Healthy\",\"Healthy\",\"Healthy\",\"Healthy\",\"Healthy\",\"Healthy\",\"Healthy\",\"Healthy\",\"Healthy\",\"Healthy\",\"Healthy\",\"Healthy\",\"Healthy\",\"Healthy\",\"Healthy\",\"Healthy\",\"Healthy\",\"Healthy\",\"Healthy\",\"Healthy\",\"Healthy\",\"Healthy\",\"Healthy\",\"Healthy\",\"Healthy\",\"Healthy\",\"Healthy\",\"Healthy\",\"Healthy\",\"Healthy\",\"Healthy\",\"Healthy\",\"Healthy\",\"prediabetic\",\"prediabetic\",\"prediabetic\",\"prediabetic\",\"prediabetic\",\"prediabetic\",\"prediabetic\",\"prediabetic\",\"prediabetic\",\"prediabetic\",\"prediabetic\",\"prediabetic\",\"prediabetic\",\"prediabetic\",\"prediabetic\",\"prediabetic\",\"prediabetic\",\"prediabetic\",\"prediabetic\",\"prediabetic\",\"prediabetic\",\"prediabetic\",\"prediabetic\",\"prediabetic\",\"prediabetic\",\"prediabetic\",\"prediabetic\",\"prediabetic\",\"prediabetic\",\"prediabetic\",\"prediabetic\",\"prediabetic\",\"prediabetic\",\"prediabetic\",\"prediabetic\",\"prediabetic\",\"prediabetic\",\"prediabetic\",\"prediabetic\",\"prediabetic\",\"prediabetic\",\"prediabetic\",\"prediabetic\",\"prediabetic\",\"prediabetic\",\"prediabetic\",\"prediabetic\",\"prediabetic\",\"prediabetic\",\"prediabetic\",\"prediabetic\",\"prediabetic\",\"prediabetic\",\"prediabetic\",\"prediabetic\",\"prediabetic\",\"prediabetic\",\"prediabetic\",\"prediabetic\",\"prediabetic\",\"diabetic\",\"diabetic\",\"diabetic\",\"diabetic\",\"diabetic\",\"diabetic\",\"diabetic\",\"diabetic\",\"diabetic\",\"diabetic\",\"diabetic\",\"diabetic\",\"diabetic\",\"diabetic\",\"diabetic\",\"diabetic\",\"diabetic\",\"diabetic\",\"diabetic\",\"diabetic\",\"diabetic\",\"diabetic\",\"diabetic\",\"diabetic\",\"diabetic\",\"diabetic\",\"diabetic\",\"diabetic\",\"diabetic\",\"diabetic\",\"diabetic\",\"diabetic\",\"diabetic\",\"diabetic\",\"diabetic\",\"diabetic\",\"diabetic\",\"diabetic\",\"diabetic\",\"diabetic\",\"diabetic\",\"diabetic\",\"diabetic\",\"diabetic\",\"diabetic\",\"diabetic\",\"diabetic\",\"diabetic\",\"diabetic\",\"diabetic\",\"diabetic\",\"diabetic\",\"diabetic\",\"diabetic\",\"diabetic\",\"diabetic\",\"diabetic\",\"diabetic\",\"diabetic\",\"diabetic\"],\"x\":{\"__ndarray__\":\"U6qWf9sTQMBZK7cF7vM6wHvWALezCUXAWVn7wm2aQcBjvrPgADc+wOspSKZUGyfAc4rCWritRsBe8/kcqrpBwEl/Dlv3jD3A9tcsrmDdPMCMKOEi+ak6wPo4CKYVqSHANoL53xHkQ8DStrsdlGI7wOxC4L00AEbA9IfwMY7PPsDCS2Lii9RAwAOtmF+kfjLAKJLEb6IpNsDLESZUSjQ1wMlfbH6eMjfA6GJx5tA/OcAMPSnp8T03wJP8IY+ZBjfAcehab7hIMMAU5fYR56S/v3/BflkQKzPApBCT1b5aCcDcFqTI8mUOwA8EoZdpuCRA8UDbSjBpFEB3Tlxbq741QDf5TITOSyHAQC8TL3FXAMDLSeIyyvXwP1S1bWghpxtAdyZKnPEr6z/L9JcMYHYDQCzlvVVp7d8/oGxN85b5IUBEr213s0gLwJp94l8o0iFA/9KHA5ijOMDOiXvcaHw0wGVhKX9MsCzAd71wySFEHcBD6RYgJpxBwLYYZtxV9jzANb5HTzEyRsDlIvejp3E/wDeKDX8R9kDAyZB3wqU5QcCY3+xAhfIuwA0k5uUgXjbAMAkPbHFkOsAeaNLoIJ48wHXo7OMKkjbAGL/3i2mpM8BUl/eQVSxAwKPwalayXTrAU4cxxF/8E8CtLaZQGnQhQP3LPD50dyvAgEHjtIsceD+cHT+8xsj7v1lTk0+RbwVAMPnTc3oRMMBmZbr+DTD5vxr/BNaO2i/AICR5qHoCvT+ZyhR6ztkMwEULv0MURjFACINT4LxTEcC73PMylYkpQIdfWUgpQRLAcQ/CfWzAKUAUhNcttlfgPyK2undhJSFAXJVB4rUu0j9O9GM6vtY4QIg1JB0IRgFA99h/HtxtK0BBpcKrXA4VwCAowQnECDFAdi8yPFaDRUBYgzwS9ZFKQMG0Tymuez9A0/RyA3GHRkCjRoVlSqNDQI6/8GIgFEhAyTvtYNe/AcANOMqYlSotQC9PK60ItinA3w8gCw8mDECgp+zmXj8WQPe4KOxtBzVA7TgCETrtCsAcS3zaIZkiQL56wijvuynA2YihMgRGD0AYDkFlVAc0QDJ791zLRjZAYUVTQuIeJMDIFgEqaiMbQCwA68N/CiNA5arT3gduNEBWl6/LJwwBwNPVACq4ex9AJbyL85PZ+b+i52p1dGcxQJQROUMK5xZATaD8nD2wO0DxD4cQM50mQIS1p4gYVjpAYpJc1KXnCUA973WwI+4mQKB9+z2TxwFAUHIc3GH6KEDFTe7KmGUZQMRAvzmdDC9A62HWPQCgJsCGKoR8zGHoP7huj792IDZABnjt6MvyOUCJqM/+VVMWQOk2zERDqDNA7YbmfkNoPEDq4HbifT8/QFCUjSqJLjBAphvc6g3COkCIOaZ+YQUzQBeohULEokFAAHErQxXFD8AAdVJhdEIWQPn/yrSOPRrAiQOaEXqbBECfc8euV6EFwMI+IhVNLBJAweKakNYaM8DhYY1xSLMWQO62KGLV0RzAJXLHJw6jIEBbkqrj9ivxvzUH4B5VoSlA2wg/26/2JcBsmeiCPS0xQAl0A7JC7xdAFbGiZYsDM0BBk+uNey/yPzHYqNpVdDJAHKuBzRV2K8CQEfJj7MTMvyLWFohF7STAkPrDxRSmyb/BlrszJC0gwD/x9NxXTBBAH6eUHkuTPUBzTqsAwjVBQOOZqE2unzlAQMG0ktiTO0CLot86yvg+QHPUDL89c0ZAoLN+iiNkLMBMvZdAi8UGwEnJIr069x1ALbsSm90ON0AvLxNsVMw3wHdnjrqX2i3A6F62H/qawT+fWGxjSKwsQHXXrdOO0jNAV1Zhx148QkASdAo9CSERQMwP14EnCDJASl+ij9DUL0Bbl5w1qSI4QL/QIjnQ0yxAY0Gmm+t6PUDtB1sOFPMnQMKvNZf3HwjA\",\"dtype\":\"float64\",\"order\":\"little\",\"shape\":[180]},\"y\":{\"__ndarray__\":\"J45OCV8AIMCmm7pkYQQvwEQxNrPTbhhA1i4bbpWmE8DIqKO4p68dwDgr+/JLMDTA0MYLMEWlFkAZDl40EUkXwMTHZgjyFinA5IfaerZ5MsDtripfsxUlwEv5W2T/BTjAXY3A1BLbDcBlDo5K9UQqwKBe40+WoAjAtq9TGEvTKcBfcbC9H7YnwFl+3HqwITXAUAD9z7c9KED7QHKHvoIrQFYh8KWCZypAgnBYTKxDEEDJX2JyJ+UlQKZ3l+2ULtM/hnkVJSb+IkCgZE9VHbIOwFeAvAwVyiRAWMrBtI/SCcB83P9CA+zxP8qK6CW3WiPAfbpbkI55IUD635VmMzcewDLulmLRnyRA7MHHvvv3FMA2XqqHZN8SQGcqsO2XCh3A0UtQoF59EMAR52kDEk4qwMSUDFe50CLAY2YdGlXlLsA6nlNSWrsOwKS69Vk+VzHAEHMPkVkVIsDb01I0YrwzwIXImIdGICPAx4t4QFkkMsBU4FtPjcHsv69vAT+wGynA9683djEV77/stN2i708hwNHuqKkngBbAaFY4+MISK8Andx9dpNskwE48QzgS1yzAoTkAYC1hIkAkRM9t8kjpvwfKLDDIYRtAVF8COiyhBsBuID0+Vn8kQIAApBtlPa+/ckt8Q/FvGkBU1cnapasMwNhoT0qhHiBAbUr/yrnjAsBZi/ps0akQQCg/GQCG9v+//+BiQivmFUAkTqDmoioTwBQj74OGbhtAeIRbRQB4HsBvHnzBuqMUQDHdCM0N7yjAomQ7t9rn/T9Wzqty/z0mwF5lG9CkJA9AoDrZX8QoIcClXbl8G/oVQMQNfsSUOBfAOOSEXGyfGkCQIQ1KMJsXwJRL36h4uiBAwjjVz46u8L8CXDu2FBsgQAJtxWyflxzAzmQiblutG8Abo7OsGwQvwBRooMm6fuE/rCYkKdueIcDTlS3fVtoYwNsv4F/kfC3A2vsZ6lFsJkBk0lCuHuL6v6UovGpkuTZA4tMWoBzVFEB+4UBx4rMdQJMBlSr3hx3AnV2r9OmILUDLN2gA74cTQIjHFJTgBTJAqR55t1cGIECJPHoozQ4ZQEwgJBECRPk/RxkvKzZGAsC6dplKSvQowEd035w2pAHAjEi7/m6NKsB8ZwllPfAiQJoFb842Gw7A41aejRHEJkBh6uKxeDn4vxMIY5hBASJA748o9HppI8BSSFTgTCgWQAG2+vi/JR/Ajt8/7WdcLkDtvpqljFIQQNhSTxTNjC1ArsMBXxlVEkAE4/ZfzsMdQDS6tdPh4ALAA6EdtZmPN0DtGKHO/3EkQKiI8xaPLyxArf8lGkMeDkBIiL4fCWslQFhfPqOVrOU/sLomxEmTJ0BpEA6EGUIDQHJON1iUyjBA3lIbBkv0G0C31ImswOEtQA3V3nBTzQNAwcZQz1sYFUB3U2TTSjMGwKZzIO9fpQxANbLjflSiGMDBwqSI3L4XQMBIUKOKHwDA0pK39Gd8BsD9Q9iucWwxwJF6FGLb6BpAaOlFeyp/FsCFVQ8I1Yzuv8PykNZ3dyTA3IyD6+ULJEAunFBj3HoSwKuotZmxoM2/X9Oi7KFlIsCOnetWgez+v9oM+caVMSbAypMKYUpgJ0APehKXf/bPv4vPoewAhCFAakMeE/ubBcD3fmEIWB8TQN30/NALGx3AomYMzfkpH0A6yadBXDLZPzkcI9R/lxJAeGVkrP/L2j9WMZ6JEgIWQEfnFlVZKBbAzkjboO+dC0AfXprnWnMAwIBPhiMO9ue/X4N+sjIDIsAcL/tdyzovQJ6t90GMliRAmC9m+Ey0GkCJRu9NBqgGwMr7GgLanuc/F7Y9IODFHcAEA1SI8cX2PyB68EYkxiDA8GhroC2AM0C+WpgTSKsnQK1QU4Bi9zNAsvfc2KktJUA4NRebXkU5QNlCN4MwuzVA\",\"dtype\":\"float64\",\"order\":\"little\",\"shape\":[180]}},\"selected\":{\"id\":\"10383\"},\"selection_policy\":{\"id\":\"10382\"}},\"id\":\"10335\",\"type\":\"ColumnDataSource\"},{\"attributes\":{\"coordinates\":null,\"data_source\":{\"id\":\"10481\"},\"glyph\":{\"id\":\"10482\"},\"group\":null,\"hover_glyph\":null,\"muted_glyph\":{\"id\":\"10484\"},\"nonselection_glyph\":{\"id\":\"10483\"},\"view\":{\"id\":\"10486\"}},\"id\":\"10485\",\"type\":\"GlyphRenderer\"},{\"attributes\":{},\"id\":\"10359\",\"type\":\"ResetTool\"},{\"attributes\":{\"coordinates\":null,\"group\":null,\"line_alpha\":0.15,\"line_width\":3,\"location\":0},\"id\":\"10443\",\"type\":\"Span\"},{\"attributes\":{\"fill_alpha\":0.2,\"fill_color\":\"blue\",\"hatch_alpha\":0.2,\"hatch_color\":\"blue\",\"line_alpha\":0.2,\"line_color\":\"blue\",\"x\":{\"field\":\"x\"},\"y\":{\"field\":\"y\"}},\"id\":\"10490\",\"type\":\"Patch\"},{\"attributes\":{\"data\":{\"Idx\":[0,1,2,3,4,5,6,7,8,9,10,11,12,13,14,15,16,17,18,19,20,21,22,23,24,25,26,27,28,29,30,31,32,33,34,35,36,37,38,39,40,41,42,43,44,45,46,47,48,49,50,51,52,53,54,55,56,57,58,59,60,61,62,63,64,65,66,67,68,69,70,71,72,73,74,75,76,77,78,79,80,81,82,83,84,85,86,87,88,89,90,91,92,93,94,95,96,97,98,99,100,101,102,103,104,105,106,107,108,109,110,111,112,113,114,115,116,117,118,119,120,121,122,123,124,125,126,127,128,129,130,131,132,133,134,135,136,137,138,139,140,141,142,143,144,145,146,147,148,149,150,151,152,153,154,155,156,157,158,159,160,161,162,163,164,165,166,167,168,169,170,171,172,173,174,175,176,177,178,179,180,181,182,183,184,185,186,187,188,189,190,191,192,193,194,195,196,197,198,199,200,201,202,203,204,205,206,207,208,209,210,211,212,213,214,215,216,217,218,219,220,221,222,223,224,225,226,227,228,229,230,231,232,233,234,235,236,237,238,239,240,241,242,243,244,245,246,247,248,249,250,251,252,253,254,255,256,257,258,259,260,261,262,263,264,265,266,267,268,269,270,271,272,273,274,275,276,277,278,279,280,281,282,283,284,285,286,287,288,289,290,291,292,293,294,295,296,297,298,299,300,301,302,303,304,305,306,307,308,309,310,311,312,313,314,315,316,317,318,319,320,321,322,323,324,325,326,327,328,329,330,331,332,333,334,335,336,337,338,339,340,341,342,343,344,345,346,347,348,349,350,351,352,353,354,355,356,357,358,359,360,361,362,363,364,365,366,367,368,369,370,371,372,373,374,375,376,377,378,379,380,381,382,383,384,385,386,387,388,389,390,391,392,393,394,395,396,397,398,399,400,401,402,403,404,405,406,407,408,409,410,411,412,413,414,415,416,417,418,419,420,421,422,423,424,425,426,427,428,429,430,431,432,433,434,435,436,437,438,439,440,441,442,443,444,445,446,447,448,449,450,451,452,453,454,455,456,457,458,459,460,461,462,463,464,465,466,467,468,469,470,471,472,473,474,475,476,477,478,479,480,481,482,483,484,485,486,487,488,489,490,491,492,493,494,495,496,497,498,499,500,501,502,503,504,505,506,507,508,509,510,511,512,513,514,515,516,517,518,519,520,521,522,523,524,525,526,527,528,529,530,531,532,533,534,535,536,537,538,539,540,541,542,543,544,545,546,547,548,549,550,551,552,553,554,555,556,557,558,559,560,561,562,563,564,565,566,567,568,569,570,571,572,573,574,575,576,577,578,579,580,581,582,583,584,585,586,587,588,589,590,591,592,593,594,595,596,597,598,599,600,601,602,603,604,605,606,607,608,609,610,611,612,613,614,615,616,617,618,619,620,621,622,623,624,625,626,627,628,629,630,631,632,633,634,635,636,637,638,639,640,641,642,643,644,645,646,647,648,649,650,651,652,653,654,655,656,657,658,659,660,661,662,663,664,665,666,667,668,669,670,671,672,673,674,675,676,677,678,679,680,681,682,683,684,685,686,687,688,689,690,691,692,693,694,695,696,697,698,699,700,701,702,703,704,705,706,707,708,709,710,711,712,713,714,715,716,717,718,719,720,721,722,723,724,725,726,727,728,729,730,731,732,733,734,735,736,737,738,739,740,741,742,743,744,745,746,747,748,749,750,751,752,753,754,755,756,757,758,759,760,761,762,763,764,765,766,767,768,769,770,771,772,773,774,775,776,777,778,779,780,781,782,783,784,785,786,787,788,789,790,791,792,793,794,795,796,797,798,799,800,801,802,803,804,805,806,807,808,809,810,811,812,813,814,815,816,817,818,819,820,821,822,823,824,825,826,827,828,829,830,831,832,833,834,835,836,837,838,839,840,841,842,843,844,845,846,847,848,849,850,851,852,853,854,855,856,857,858,859,860,861,862,863,864,865,866,867,868,869,870,871,872,873,874,875,876,877,878,879,880,881,882,883,884,885,886,887,888,889,890,891,892,893,894,895,896,897,898,899,900,901,902,903,904,905,906,907,908,909,910,911,912,913,914,915,916,917,918,919,920,921,922,923,924,925,926,927,928,929,930,931,932,933,934,935,936,937,938,939,940,941,942,943,944,945,946,947,948,949,950,951,952,953,954,955,956,957,958,959,960,961,962,963,964,965,966,967,968,969,970,971,972,973,974,975,976,977,978,979,980,981,982,983,984,985,986,987,988,989,990,991,992,993,994,995,996,997,998,999,1000,1001,1002,1003,1004,1005,1006,1007,1008,1009,1010,1011,1012,1013,1014,1015,1016,1017,1018,1019,1020,1021,1022,1023,1024,1025,1026,1027,1028,1029,1030,1031,1032,1033,1034,1035,1036,1037,1038,1039,1040,1041,1042,1043,1044,1045,1046,1047,1048,1049,1050,1051,1052,1053,1054,1055,1056,1057,1058,1059,1060,1061,1062,1063,1064,1065,1066,1067,1068,1069,1070,1071,1072,1073,1074,1075,1076,1077,1078,1079,1080,1081,1082,1083,1084,1085,1086,1087,1088,1089,1090,1091,1092,1093,1094,1095,1096,1097,1098,1099,1100,1101,1102,1103,1104,1105,1106,1107,1108,1109,1110,1111,1112,1113,1114,1115,1116,1117,1118,1119,1120,1121,1122,1123,1124,1125,1126,1127,1128,1129,1130,1131,1132,1133,1134,1135,1136,1137,1138,1139,1140,1141,1142,1143,1144,1145,1146,1147,1148,1149,1150,1151,1152,1153,1154,1155,1156,1157,1158,1159,1160,1161,1162,1163,1164,1165,1166,1167,1168,1169,1170,1171,1172,1173,1174,1175,1176,1177,1178,1179,1180,1181,1182,1183,1184,1185,1186,1187,1188,1189,1190,1191,1192,1193,1194,1195,1196,1197,1198,1199,1200,1201,1202,1203,1204,1205,1206,1207,1208,1209,1210,1211,1212,1213,1214,1215,1216,1217,1218,1219,1220,1221,1222,1223,1224,1225,1226,1227,1228,1229,1230,1231,1232,1233,1234,1235,1236,1237,1238,1239,1240,1241,1242,1243,1244,1245,1246,1247,1248,1249,1250,1251,1252,1253,1254,1255,1256,1257,1258,1259,1260,1261,1262,1263,1264,1265,1266,1267,1268,1269,1270,1271,1272,1273,1274,1275,1276,1277,1278,1279,1280,1281,1282,1283,1284,1285,1286,1287,1288,1289,1290,1291,1292,1293,1294,1295,1296,1297,1298,1299,1300,1301,1302,1303,1304,1305,1306,1307,1308,1309,1310,1311,1312,1313,1314,1315,1316,1317,1318,1319,1320,1321,1322,1323,1324,1325,1326,1327,1328,1329,1330,1331,1332,1333,1334,1335,1336,1337,1338,1339,1340,1341,1342,1343,1344,1345,1346,1347,1348,1349,1350,1351,1352,1353,1354,1355,1356,1357,1358,1359,1360,1361,1362,1363,1364,1365,1366,1367,1368,1369,1370,1371,1372,1373,1374,1375,1376,1377,1378,1379,1380,1381,1382,1383,1384,1385,1386,1387,1388,1389,1390,1391,1392,1393,1394,1395,1396,1397,1398,1399,1400,1401,1402,1403,1404,1405,1406,1407,1408,1409,1410,1411,1412,1413,1414,1415,1416,1417,1418,1419,1420,1421,1422,1423,1424,1425,1426,1427,1428,1429,1430,1431,1432,1433,1434,1435,1436,1437,1438,1439,1440,1441,1442,1443,1444,1445,1446,1447,1448,1449,1450,1451,1452,1453,1454,1455,1456,1457,1458,1459,1460,1461,1462,1463,1464,1465,1466,1467,1468,1469,1470,1471,1472,1473,1474,1475,1476,1477,1478,1479,1480,1481,1482,1483,1484,1485],\"col\":[\"green\",\"green\",\"green\",\"green\",\"green\",\"green\",\"green\",\"green\",\"green\",\"green\",\"green\",\"green\",\"green\",\"green\",\"green\",\"green\",\"green\",\"green\",\"green\",\"green\",\"green\",\"green\",\"green\",\"green\",\"green\",\"green\",\"green\",\"green\",\"green\",\"green\",\"green\",\"green\",\"green\",\"green\",\"green\",\"green\",\"green\",\"green\",\"green\",\"green\",\"green\",\"green\",\"green\",\"green\",\"green\",\"green\",\"green\",\"green\",\"green\",\"green\",\"green\",\"green\",\"green\",\"green\",\"green\",\"green\",\"green\",\"green\",\"green\",\"green\",\"green\",\"green\",\"green\",\"green\",\"green\",\"green\",\"green\",\"green\",\"green\",\"green\",\"green\",\"green\",\"green\",\"green\",\"green\",\"green\",\"green\",\"green\",\"green\",\"green\",\"green\",\"green\",\"green\",\"green\",\"green\",\"green\",\"green\",\"green\",\"green\",\"green\",\"green\",\"green\",\"green\",\"green\",\"green\",\"green\",\"green\",\"green\",\"green\",\"green\",\"green\",\"green\",\"green\",\"green\",\"green\",\"green\",\"green\",\"green\",\"green\",\"green\",\"green\",\"green\",\"green\",\"green\",\"green\",\"green\",\"green\",\"green\",\"green\",\"green\",\"green\",\"green\",\"green\",\"green\",\"green\",\"green\",\"green\",\"green\",\"green\",\"green\",\"green\",\"green\",\"green\",\"green\",\"green\",\"green\",\"green\",\"green\",\"green\",\"green\",\"green\",\"green\",\"green\",\"green\",\"green\",\"green\",\"green\",\"green\",\"green\",\"green\",\"green\",\"green\",\"green\",\"green\",\"green\",\"green\",\"green\",\"green\",\"green\",\"green\",\"green\",\"green\",\"green\",\"green\",\"green\",\"green\",\"green\",\"green\",\"green\",\"green\",\"green\",\"green\",\"green\",\"green\",\"green\",\"green\",\"green\",\"green\",\"green\",\"green\",\"green\",\"green\",\"green\",\"green\",\"green\",\"green\",\"green\",\"green\",\"green\",\"green\",\"green\",\"green\",\"green\",\"green\",\"green\",\"green\",\"green\",\"green\",\"green\",\"green\",\"green\",\"green\",\"green\",\"green\",\"green\",\"green\",\"green\",\"green\",\"green\",\"green\",\"green\",\"green\",\"green\",\"green\",\"green\",\"green\",\"green\",\"green\",\"green\",\"green\",\"green\",\"green\",\"green\",\"green\",\"green\",\"green\",\"green\",\"green\",\"green\",\"green\",\"green\",\"green\",\"green\",\"green\",\"green\",\"green\",\"green\",\"green\",\"green\",\"green\",\"green\",\"green\",\"green\",\"green\",\"green\",\"green\",\"green\",\"green\",\"green\",\"green\",\"green\",\"green\",\"green\",\"green\",\"green\",\"green\",\"green\",\"green\",\"green\",\"green\",\"green\",\"green\",\"green\",\"green\",\"green\",\"green\",\"green\",\"green\",\"green\",\"green\",\"green\",\"green\",\"green\",\"green\",\"green\",\"green\",\"green\",\"green\",\"green\",\"green\",\"green\",\"green\",\"green\",\"green\",\"green\",\"green\",\"green\",\"green\",\"green\",\"green\",\"green\",\"green\",\"green\",\"green\",\"green\",\"green\",\"green\",\"green\",\"green\",\"green\",\"green\",\"green\",\"green\",\"green\",\"green\",\"green\",\"green\",\"green\",\"green\",\"green\",\"green\",\"green\",\"green\",\"green\",\"green\",\"green\",\"green\",\"green\",\"green\",\"green\",\"green\",\"green\",\"green\",\"green\",\"green\",\"green\",\"green\",\"green\",\"green\",\"green\",\"green\",\"green\",\"green\",\"green\",\"green\",\"green\",\"green\",\"green\",\"green\",\"green\",\"green\",\"green\",\"green\",\"green\",\"green\",\"green\",\"green\",\"green\",\"green\",\"green\",\"green\",\"green\",\"green\",\"green\",\"green\",\"green\",\"green\",\"green\",\"green\",\"green\",\"green\",\"green\",\"green\",\"green\",\"green\",\"green\",\"green\",\"green\",\"green\",\"green\",\"green\",\"green\",\"green\",\"green\",\"green\",\"green\",\"green\",\"green\",\"green\",\"green\",\"green\",\"green\",\"green\",\"green\",\"green\",\"green\",\"green\",\"green\",\"green\",\"green\",\"green\",\"green\",\"green\",\"green\",\"green\",\"green\",\"green\",\"green\",\"green\",\"green\",\"green\",\"green\",\"green\",\"green\",\"green\",\"green\",\"green\",\"green\",\"green\",\"green\",\"green\",\"green\",\"green\",\"green\",\"green\",\"green\",\"green\",\"green\",\"green\",\"green\",\"green\",\"green\",\"green\",\"green\",\"green\",\"green\",\"green\",\"green\",\"green\",\"green\",\"green\",\"green\",\"green\",\"green\",\"green\",\"green\",\"green\",\"green\",\"green\",\"green\",\"green\",\"green\",\"green\",\"green\",\"green\",\"green\",\"green\",\"green\",\"green\",\"green\",\"green\",\"green\",\"green\",\"green\",\"green\",\"green\",\"green\",\"green\",\"green\",\"green\",\"green\",\"green\",\"green\",\"green\",\"green\",\"green\",\"green\",\"green\",\"green\",\"green\",\"green\",\"green\",\"green\",\"green\",\"green\",\"green\",\"green\",\"green\",\"green\",\"green\",\"green\",\"green\",\"green\",\"green\",\"green\",\"green\",\"green\",\"green\",\"green\",\"green\",\"green\",\"green\",\"green\",\"green\",\"green\",\"green\",\"green\",\"green\",\"green\",\"green\",\"green\",\"green\",\"green\",\"green\",\"green\",\"green\",\"green\",\"green\",\"green\",\"green\",\"green\",\"green\",\"green\",\"green\",\"green\",\"green\",\"green\",\"green\",\"green\",\"green\",\"green\",\"green\",\"green\",\"green\",\"green\",\"green\",\"green\",\"green\",\"green\",\"green\",\"green\",\"green\",\"green\",\"green\",\"green\",\"green\",\"green\",\"green\",\"green\",\"green\",\"green\",\"green\",\"green\",\"green\",\"green\",\"green\",\"green\",\"green\",\"green\",\"green\",\"green\",\"green\",\"green\",\"green\",\"green\",\"green\",\"green\",\"green\",\"green\",\"green\",\"green\",\"green\",\"green\",\"green\",\"green\",\"green\",\"green\",\"green\",\"green\",\"green\",\"green\",\"green\",\"green\",\"green\",\"green\",\"green\",\"green\",\"green\",\"green\",\"green\",\"green\",\"green\",\"green\",\"green\",\"green\",\"green\",\"green\",\"green\",\"green\",\"green\",\"green\",\"green\",\"green\",\"green\",\"green\",\"green\",\"green\",\"green\",\"green\",\"green\",\"green\",\"green\",\"green\",\"green\",\"green\",\"green\",\"green\",\"green\",\"green\",\"green\",\"green\",\"green\",\"green\",\"green\",\"green\",\"green\",\"green\",\"green\",\"green\",\"green\",\"green\",\"green\",\"green\",\"green\",\"green\",\"green\",\"green\",\"green\",\"green\",\"green\",\"green\",\"green\",\"green\",\"green\",\"green\",\"green\",\"green\",\"green\",\"green\",\"green\",\"green\",\"green\",\"green\",\"green\",\"green\",\"green\",\"green\",\"green\",\"green\",\"green\",\"green\",\"green\",\"green\",\"green\",\"green\",\"green\",\"green\",\"green\",\"green\",\"green\",\"green\",\"green\",\"green\",\"green\",\"green\",\"green\",\"green\",\"green\",\"green\",\"green\",\"green\",\"green\",\"green\",\"green\",\"green\",\"green\",\"green\",\"green\",\"green\",\"green\",\"green\",\"green\",\"green\",\"green\",\"green\",\"green\",\"green\",\"green\",\"green\",\"green\",\"green\",\"green\",\"green\",\"green\",\"green\",\"green\",\"green\",\"green\",\"green\",\"green\",\"green\",\"green\",\"green\",\"green\",\"green\",\"green\",\"green\",\"green\",\"green\",\"green\",\"green\",\"green\",\"green\",\"green\",\"green\",\"green\",\"green\",\"green\",\"green\",\"green\",\"green\",\"green\",\"green\",\"green\",\"green\",\"green\",\"green\",\"green\",\"green\",\"green\",\"green\",\"green\",\"green\",\"green\",\"green\",\"green\",\"green\",\"green\",\"green\",\"green\",\"green\",\"green\",\"green\",\"green\",\"green\",\"green\",\"green\",\"green\",\"green\",\"green\",\"green\",\"green\",\"green\",\"green\",\"green\",\"green\",\"green\",\"green\",\"green\",\"green\",\"green\",\"green\",\"green\",\"green\",\"green\",\"green\",\"green\",\"green\",\"green\",\"green\",\"green\",\"green\",\"green\",\"green\",\"green\",\"green\",\"green\",\"green\",\"green\",\"green\",\"green\",\"green\",\"green\",\"green\",\"green\",\"green\",\"green\",\"green\",\"green\",\"green\",\"green\",\"green\",\"green\",\"green\",\"green\",\"green\",\"green\",\"green\",\"green\",\"green\",\"green\",\"green\",\"green\",\"green\",\"green\",\"green\",\"green\",\"green\",\"green\",\"green\",\"green\",\"green\",\"green\",\"green\",\"green\",\"green\",\"green\",\"green\",\"green\",\"green\",\"green\",\"green\",\"green\",\"green\",\"green\",\"green\",\"green\",\"green\",\"green\",\"green\",\"green\",\"green\",\"green\",\"green\",\"green\",\"green\",\"green\",\"green\",\"green\",\"green\",\"green\",\"green\",\"green\",\"green\",\"green\",\"green\",\"green\",\"green\",\"green\",\"green\",\"green\",\"green\",\"green\",\"green\",\"green\",\"green\",\"green\",\"green\",\"green\",\"green\",\"green\",\"green\",\"green\",\"green\",\"green\",\"green\",\"green\",\"green\",\"green\",\"green\",\"green\",\"green\",\"green\",\"green\",\"green\",\"green\",\"green\",\"green\",\"green\",\"green\",\"green\",\"green\",\"green\",\"green\",\"green\",\"green\",\"green\",\"green\",\"green\",\"green\",\"green\",\"green\",\"green\",\"green\",\"green\",\"green\",\"green\",\"green\",\"green\",\"green\",\"green\",\"green\",\"green\",\"green\",\"green\",\"green\",\"green\",\"green\",\"green\",\"green\",\"green\",\"green\",\"green\",\"green\",\"green\",\"green\",\"green\",\"green\",\"green\",\"green\",\"green\",\"green\",\"green\",\"green\",\"green\",\"green\",\"green\",\"green\",\"green\",\"green\",\"green\",\"green\",\"green\",\"green\",\"green\",\"green\",\"green\",\"green\",\"green\",\"green\",\"green\",\"green\",\"green\",\"green\",\"green\",\"green\",\"green\",\"green\",\"green\",\"green\",\"green\",\"green\",\"green\",\"green\",\"green\",\"green\",\"green\",\"green\",\"green\",\"green\",\"green\",\"green\",\"green\",\"green\",\"green\",\"green\",\"green\",\"green\",\"green\",\"green\",\"green\",\"green\",\"green\",\"green\",\"green\",\"green\",\"green\",\"green\",\"green\",\"green\",\"green\",\"green\",\"green\",\"green\",\"green\",\"green\",\"green\",\"green\",\"green\",\"green\",\"green\",\"green\",\"green\",\"green\",\"green\",\"green\",\"green\",\"green\",\"green\",\"green\",\"green\",\"green\",\"green\",\"green\",\"green\",\"green\",\"green\",\"green\",\"green\",\"green\",\"green\",\"green\",\"green\",\"green\",\"green\",\"green\",\"green\",\"green\",\"green\",\"green\",\"green\",\"green\",\"green\",\"green\",\"green\",\"green\",\"green\",\"green\",\"green\",\"green\",\"green\",\"green\",\"green\",\"green\",\"green\",\"green\",\"green\",\"green\",\"green\",\"green\",\"green\",\"green\",\"green\",\"green\",\"green\",\"green\",\"green\",\"green\",\"green\",\"green\",\"green\",\"green\",\"green\",\"green\",\"green\",\"green\",\"green\",\"green\",\"green\",\"green\",\"green\",\"green\",\"green\",\"green\",\"green\",\"green\",\"green\",\"green\",\"green\",\"green\",\"green\",\"green\",\"green\",\"green\",\"green\",\"green\",\"green\",\"green\",\"green\",\"green\",\"green\",\"green\",\"green\",\"green\",\"green\",\"green\",\"green\",\"green\",\"green\",\"green\",\"green\",\"green\",\"green\",\"green\",\"green\",\"green\",\"green\",\"green\",\"green\",\"green\",\"green\",\"green\",\"green\",\"green\",\"green\",\"green\",\"green\",\"green\",\"green\",\"green\",\"green\",\"green\",\"green\",\"green\",\"green\",\"green\",\"green\",\"green\",\"green\",\"green\",\"green\",\"green\",\"green\",\"green\",\"green\",\"green\",\"green\",\"green\",\"green\",\"green\",\"green\",\"green\",\"green\",\"green\",\"green\",\"green\",\"green\",\"green\",\"green\",\"green\",\"green\",\"green\",\"green\",\"green\",\"green\",\"green\",\"green\",\"green\",\"green\",\"green\",\"green\",\"green\",\"green\",\"green\",\"green\",\"green\",\"green\",\"green\",\"green\",\"green\",\"green\",\"green\",\"green\",\"green\",\"green\",\"green\",\"green\",\"green\",\"green\",\"green\",\"green\",\"green\",\"green\",\"green\",\"green\",\"green\",\"green\",\"green\",\"green\",\"green\",\"green\",\"green\",\"green\",\"green\",\"green\",\"green\",\"green\",\"green\",\"green\",\"green\",\"green\",\"green\",\"green\",\"green\",\"green\",\"green\",\"green\",\"green\",\"green\",\"green\",\"green\",\"green\",\"green\",\"green\",\"green\",\"green\",\"green\",\"green\",\"green\",\"green\",\"green\",\"green\",\"green\",\"green\",\"green\",\"green\",\"green\",\"green\",\"green\",\"green\",\"green\",\"green\",\"green\",\"green\",\"green\",\"green\",\"green\",\"green\",\"green\",\"green\",\"green\",\"green\",\"green\",\"green\",\"green\",\"green\",\"green\",\"green\",\"green\",\"green\",\"green\",\"green\",\"green\",\"green\",\"green\",\"green\",\"green\",\"green\",\"green\",\"green\",\"green\",\"green\",\"green\",\"green\",\"green\",\"green\",\"green\",\"green\",\"green\",\"green\",\"green\",\"green\",\"green\",\"green\",\"green\",\"green\",\"green\",\"green\",\"green\",\"green\",\"green\",\"green\",\"green\",\"green\",\"green\",\"green\",\"green\",\"green\",\"green\",\"green\",\"green\",\"green\",\"green\",\"green\",\"green\",\"green\",\"green\",\"green\",\"green\",\"green\",\"green\",\"green\",\"green\",\"green\",\"green\",\"green\",\"green\",\"green\",\"green\",\"green\",\"green\",\"green\",\"green\",\"green\",\"green\",\"green\",\"green\",\"green\",\"green\",\"green\",\"green\",\"green\",\"green\",\"green\",\"green\",\"green\",\"green\",\"green\",\"green\",\"green\",\"green\",\"green\",\"green\",\"green\",\"green\",\"green\",\"green\",\"green\",\"green\",\"green\",\"green\",\"green\",\"green\",\"green\",\"green\",\"green\",\"green\",\"green\",\"green\",\"green\",\"green\",\"green\",\"green\",\"green\",\"green\",\"green\",\"green\",\"green\",\"green\",\"green\",\"green\",\"green\",\"green\",\"green\",\"green\",\"green\",\"green\",\"green\",\"green\",\"green\",\"green\",\"green\",\"green\",\"green\",\"green\",\"green\",\"green\",\"green\",\"green\",\"green\",\"green\",\"green\",\"green\",\"green\",\"green\",\"green\",\"green\",\"green\",\"green\",\"green\",\"green\",\"green\",\"green\",\"green\",\"green\",\"green\",\"green\",\"green\",\"green\",\"green\",\"green\",\"green\",\"green\",\"green\",\"green\",\"green\",\"green\",\"green\",\"green\",\"green\",\"green\",\"green\",\"green\",\"green\",\"green\",\"green\",\"green\",\"green\",\"green\",\"green\",\"green\",\"green\",\"green\",\"green\",\"green\",\"green\",\"green\",\"green\",\"green\",\"green\",\"green\",\"green\",\"green\",\"green\",\"green\",\"green\",\"green\",\"green\",\"green\",\"green\",\"green\",\"green\",\"green\",\"green\",\"green\",\"green\",\"green\",\"green\",\"green\",\"green\",\"green\",\"green\",\"green\",\"green\",\"green\",\"green\",\"green\",\"green\",\"green\",\"green\",\"green\",\"green\",\"green\",\"green\",\"green\",\"green\",\"green\",\"green\",\"green\",\"green\",\"green\",\"green\",\"green\",\"green\",\"green\",\"green\",\"green\",\"green\",\"green\",\"green\",\"green\",\"green\",\"green\",\"green\",\"green\",\"green\",\"green\",\"green\",\"green\",\"green\",\"green\",\"green\",\"green\",\"green\",\"green\",\"green\"],\"group\":[null,null,null,null,null,null,null,null,null,null,null,null,null,null,null,null,null,null,null,null,null,null,null,null,null,null,null,null,null,null,null,null,null,null,null,null,null,null,null,null,null,null,null,null,null,null,null,null,null,null,null,null,null,null,null,null,null,null,null,null,null,null,null,null,null,null,null,null,null,null,null,null,null,null,null,null,null,null,null,null,null,null,null,null,null,null,null,null,null,null,null,null,null,null,null,null,null,null,null,null,null,null,null,null,null,null,null,null,null,null,null,null,null,null,null,null,null,null,null,null,null,null,null,null,null,null,null,null,null,null,null,null,null,null,null,null,null,null,null,null,null,null,null,null,null,null,null,null,null,null,null,null,null,null,null,null,null,null,null,null,null,null,null,null,null,null,null,null,null,null,null,null,null,null,null,null,null,null,null,null,null,null,null,null,null,null,null,null,null,null,null,null,null,null,null,null,null,null,null,null,null,null,null,null,null,null,null,null,null,null,null,null,null,null,null,null,null,null,null,null,null,null,null,null,null,null,null,null,null,null,null,null,null,null,null,null,null,null,null,null,null,null,null,null,null,null,null,null,null,null,null,null,null,null,null,null,null,null,null,null,null,null,null,null,null,null,null,null,null,null,null,null,null,null,null,null,null,null,null,null,null,null,null,null,null,null,null,null,null,null,null,null,null,null,null,null,null,null,null,null,null,null,null,null,null,null,null,null,null,null,null,null,null,null,null,null,null,null,null,null,null,null,null,null,null,null,null,null,null,null,null,null,null,null,null,null,null,null,null,null,null,null,null,null,null,null,null,null,null,null,null,null,null,null,null,null,null,null,null,null,null,null,null,null,null,null,null,null,null,null,null,null,null,null,null,null,null,null,null,null,null,null,null,null,null,null,null,null,null,null,null,null,null,null,null,null,null,null,null,null,null,null,null,null,null,null,null,null,null,null,null,null,null,null,null,null,null,null,null,null,null,null,null,null,null,null,null,null,null,null,null,null,null,null,null,null,null,null,null,null,null,null,null,null,null,null,null,null,null,null,null,null,null,null,null,null,null,null,null,null,null,null,null,null,null,null,null,null,null,null,null,null,null,null,null,null,null,null,null,null,null,null,null,null,null,null,null,null,null,null,null,null,null,null,null,null,null,null,null,null,null,null,null,null,null,null,null,null,null,null,null,null,null,null,null,null,null,null,null,null,null,null,null,null,null,null,null,null,null,null,null,null,null,null,null,null,null,null,null,null,null,null,null,null,null,null,null,null,null,null,null,null,null,null,null,null,null,null,null,null,null,null,null,null,null,null,null,null,null,null,null,null,null,null,null,null,null,null,null,null,null,null,null,null,null,null,null,null,null,null,null,null,null,null,null,null,null,null,null,null,null,null,null,null,null,null,null,null,null,null,null,null,null,null,null,null,null,null,null,null,null,null,null,null,null,null,null,null,null,null,null,null,null,null,null,null,null,null,null,null,null,null,null,null,null,null,null,null,null,null,null,null,null,null,null,null,null,null,null,null,null,null,null,null,null,null,null,null,null,null,null,null,null,null,null,null,null,null,null,null,null,null,null,null,null,null,null,null,null,null,null,null,null,null,null,null,null,null,null,null,null,null,null,null,null,null,null,null,null,null,null,null,null,null,null,null,null,null,null,null,null,null,null,null,null,null,null,null,null,null,null,null,null,null,null,null,null,null,null,null,null,null,null,null,null,null,null,null,null,null,null,null,null,null,null,null,null,null,null,null,null,null,null,null,null,null,null,null,null,null,null,null,null,null,null,null,null,null,null,null,null,null,null,null,null,null,null,null,null,null,null,null,null,null,null,null,null,null,null,null,null,null,null,null,null,null,null,null,null,null,null,null,null,null,null,null,null,null,null,null,null,null,null,null,null,null,null,null,null,null,null,null,null,null,null,null,null,null,null,null,null,null,null,null,null,null,null,null,null,null,null,null,null,null,null,null,null,null,null,null,null,null,null,null,null,null,null,null,null,null,null,null,null,null,null,null,null,null,null,null,null,null,null,null,null,null,null,null,null,null,null,null,null,null,null,null,null,null,null,null,null,null,null,null,null,null,null,null,null,null,null,null,null,null,null,null,null,null,null,null,null,null,null,null,null,null,null,null,null,null,null,null,null,null,null,null,null,null,null,null,null,null,null,null,null,null,null,null,null,null,null,null,null,null,null,null,null,null,null,null,null,null,null,null,null,null,null,null,null,null,null,null,null,null,null,null,null,null,null,null,null,null,null,null,null,null,null,null,null,null,null,null,null,null,null,null,null,null,null,null,null,null,null,null,null,null,null,null,null,null,null,null,null,null,null,null,null,null,null,null,null,null,null,null,null,null,null,null,null,null,null,null,null,null,null,null,null,null,null,null,null,null,null,null,null,null,null,null,null,null,null,null,null,null,null,null,null,null,null,null,null,null,null,null,null,null,null,null,null,null,null,null,null,null,null,null,null,null,null,null,null,null,null,null,null,null,null,null,null,null,null,null,null,null,null,null,null,null,null,null,null,null,null,null,null,null,null,null,null,null,null,null,null,null,null,null,null,null,null,null,null,null,null,null,null,null,null,null,null,null,null,null,null,null,null,null,null,null,null,null,null,null,null,null,null,null,null,null,null,null,null,null,null,null,null,null,null,null,null,null,null,null,null,null,null,null,null,null,null,null,null,null,null,null,null,null,null,null,null,null,null,null,null,null,null,null,null,null,null,null,null,null,null,null,null,null,null,null,null,null,null,null,null,null,null,null,null,null,null,null,null,null,null,null,null,null,null,null,null,null,null,null,null,null,null,null,null,null,null,null,null,null,null,null,null,null,null,null,null,null,null,null,null,null,null,null,null,null,null,null,null,null,null,null,null,null,null,null,null,null,null,null,null,null,null,null,null,null,null,null,null,null,null,null,null,null,null,null,null,null,null,null,null,null,null,null,null,null,null,null,null,null,null,null,null,null,null,null,null,null,null,null,null,null,null,null,null,null,null,null,null,null,null,null,null,null,null,null,null,null,null,null,null,null,null,null,null,null,null,null,null,null,null,null,null,null,null,null,null,null,null,null,null,null,null,null,null,null,null,null,null,null,null,null,null,null,null,null,null,null,null,null,null,null,null,null,null,null,null,null,null,null,null,null,null,null,null,null,null,null,null,null,null,null,null,null,null,null,null,null,null,null,null,null,null,null,null,null,null,null,null,null,null,null,null,null,null,null,null,null,null,null,null,null,null,null,null,null,null,null,null,null,null,null,null,null,null,null,null,null,null,null,null,null,null,null,null,null,null,null,null,null,null,null,null,null,null,null,null,null,null,null,null,null,null,null,null,null,null,null,null,null,null,null,null,null,null,null,null,null,null,null,null,null,null,null,null,null,null,null,null,null,null,null,null,null],\"x\":{\"__ndarray__\":\"wbFow0pqm7+Fa7k1bHiTvxBkcm9fNIo/qmxf7USRkD+JIY1DOMY3PzrOjdnaAF6/JMaikFrZfj8E9K+o8vR0v4qXAJn6Goo/++bIrxnviL/svTw2pcuUP2GvMlrr4IA/N3T7tph8lT/fjyzwsCZuv6rVWEzuGXU/kqB+kY6YRb+k3g92irShP26kxywMuIy/pGvJR7dWfj/pp2D6gCWFPzhdIkJylXS/5jLkS5vMcj/gUuyg8exlPwR3Z8Vwm4e/8QDCclx7VD8LthRFoomFP5Lky1KnNZg/n/tcJAvZkD/w5HrSxdxev8UsPm0Pb2u/sM8lxuNpgT9W/Uk83DGXP/6Ve+vyPmA/y1FqCWeKaT8/tEPr7l6BP7iXdUfFIaE/jnxHkfmCgz/xw3ObXzqKPwMBBjwefYY/zSahIUHOlz/iZ3WbMZOYP0Y5cBpFSZ4/5XQY0en6kT/5iWXcacmFP9N4Yc2Yj5G/S+HeeBsfRz9k9AUT12ObP7kbHd0e6ps/hWWdSZ3tlz81UEHI3LqQPwbDxYIen3M/+NahPPQxjb+C7V7VP6p+vwqvXOPQpGO/pABUC07Gd78WKg4k1dV7P76wD0T725m/J7dAd6c/d79JHiiV7wWJv4pyESqLZpO/Auh6k9aPgz+68aFPfeN0P6gd5k5CO1U/nOo0dbJYk79sp2+qdgt9vxzDqMtgBYw/U7M8bk34cb+f496/YfSNP9aFEQza8Ya/yqiObx/VbT8T1YHYaueNvyRmdlk+KZE/9QN7Qhxnfj/5VTujuFiMv/V1ISaQuI0/221guS03fj/sWzg74cqAv6TTx0E8OWq/HpsjR5xCab/TWcV/TZqXPyjdt0onaJ4/frINR8nDnz+lCDX8cIShPzS51qZ7KZo/vlvP7WP9fb9oDmT5qoCBv9SkNQJpx5Y/sza9GCA+mD8X8klgzUuXP0JK83/SCoE/XwplgwJGmz+J1IwpS6+ZPx57YEn0DaE/slspFeoDkz/10xZ7VC6VP0+cG4sruYs/4nWLxkcBiT8VBqzwAJA3v2NFYlt914S/eL0GV3/7nj8WcSBNXpGYPzt9pnlGAaA/yAV4/kYNlz8ObktrWuJVv++Jjwjl7j+/nHgm5sxujj/IqrpKKU+PPyYgw2uMCG0/P0gXfVV0db94z+IVijZwv93H/EmWlIQ/0l2yHxJxiD+QXhRcCpWgP+b0d5sCcWg/uQieE4jcd79rIHxCo3pxP05ID0o5CJg/JFexb+LKaL+9a3SAiP6Iv9SDVDnsFJe/biihZu1ekT/h6iMHMXKgP+xQQiDn43w/HgzLpi0Pez+YVT5jo92AP4f85f/4goW/QVa0NHNDnj9h49n3jziGP3EGgtrVFZQ/8yxcWMeUgz8HAwf+skqUPwSR1qHJ6pg/XVPdSS1EjL9reTOOskhWPwI3crKcQoi/0hY6uez3ib/wP3c/y0f4vm5D+QMNcI8/GCDtfKe0gj+4tL1SjgaIP8scXfhuqJg/5PMeqvZBfz856Xa0leSBP89dJSYk94O/SwNjCrYuhb8XOar+3WSNv1nEi3ZbFjM/kf2bbmkufD+AWk2AdwdAv7RxvVCQzog//N+ON/tXej8pFvoFUG6Gv/ocX3v955m/GqG7V3PdPb/7C6qugpuYP3xpCtf2WZg/3Nd2/LOJgD8Qfd7l+1CHPyTUMXnEepY/IMbAWAWrdL/AaQuYT66SP1nLVqq045c/7Huu7vc2jj83eKTtJ0efP3l2Pj3xNHu/Ke4S8x7Mfz8paUrP5+9Fv0caA9HKRoc/ZLR/bRa4c7+3zDuIqF2OP8gq4OUsj4I/IIWepnnBhr/inNI/8gaSv5K8RkkTZ5C/KNHEhv+Inj+fisEONrqcP3xxDO479Z0/gyt+5n09gr8p1TSUaymXPwMliqD/uYc/NAC2avNbVD8WaPdh+tWMP8WOzbkdWG2/E763OXegW7/+mT99Mrp6PyzCQ854vXU/NTQpqy77lz/FOIQ48Z1zP1O6swRXm5U/zuTd3Ucsfr93xTWO2SSRP2uI2lXtUIs/LxU+opFsjD8ynpCU626HPwB15hGBvV0/tUHlkrNJoD+Hpn+Q+JOVP6eG1X6PAI2/9yChWHishj/8AO3gZX2CP2LiqCkQUnc/SQiRQafOfD9xCke6z2d/v7xDx1WPTF0/hh/WreEiZr/AuQqFdkRzPyxhz1HwlX4/3hxzun8qjj9MGqBbo5xgv7mWuWp8AzG/p+jgxbMykz89cTVG7IqHP+1R0KF5aX8/W89FibbEhT/eYoI01eWFv6cU4X5S0oS/j99wEK1Dgr/3UK/D+co/v6n39XQDUH2/OXgi34i6ZL+O/Cqhz52MP6/lDkvrz1s/MmhWkzy4Sz/CwU6Nk4trv/qWZgDYInY/YZTRd31rbj+WOXLprKaLvw6TiQlYVGg/ZCeXYdqSlz8BWHOIv3abP3Jw6dK+bpO/7K/DY4z9Xj9JvNNh9PmKv65rWx06jH0/bVK0FwumlT8ciCABCMeYP3KFtonrvZQ/LTq89PS6fj/2y/3FExJdP0DVIhtKvog/aTe/ruHyWD8MrtQ8Z7ODPwRqodByPJM/Pm6Eu8yijD+xVz0y82NxP5pZJ+BntoE/5no5denhkD/yo9oQVfeCP2M39QSJmok/Q3Eyoz4NcT8/Scu2luyWPytmwq96e4w/nnYaPxwScb/MeynSi/hivxRH8xCOmX6/z2j0Y00Vgb9WDI73HRWEP6BBz3+79nM/u80i/lGFfz+lcjzoT4p3P8zOsxoRz4Q/FUgTIw8XiT8LJBx86WOVP/9xw1vgcpU/10uJctcDjT84FMHZo7WHv9OKR3lhqn6/goooCXnGnT8YzuE0JZpzvw0jTpc4dH4/26qpea5nir85WhB2+VqJv/VrrqLnkGM/TenHSPpzl793dRkNs+KWvzwZ0DRgAZW/Qkq32ekYgz9hZzu/Y9dzv/xflyMb+ps/Okh7FSXCmz+4wR7XTDubP4HWfUxQw40/vA5+cySIaj+3FvjYTwuWP1sUspZ0cXY/lz5I4avagj8ZCkLZMr+XP6+1vW7MDYK/HcwBo8Y/jz9gzqnVLD2Dv7Z8SG4cFpM/vAJ9+Lxggj8orq3R30aQPzrq2r+KulC/K5KZ0HdHhb9FS/O6Nrh8v5Uvt6WgXZe/gHQ6zaGhmr/wNytS54iUv3RY7Ncjs5C/fNp8oRoJhj9a0wQ4W2Fyv4M/5BQ1R2m/+gULEZdcej8CcQthxQ12v7ZRl6/wlZA/8GwA8NshgL98UnjYAyKBv06eBiZif2g/u4ZbyqDmeT/r0PljfwGEv0QbuNOf7mE/07I6QY8Vkj+x6f4nVT2MP83pdBc+MlK/0o747lFggr+opKakjvlrvyJc2wexOpI/2bRspXJmjT9Pysej7FB0P11EaJCuZIW/ikmXs7ohdr9UvarbO8uLP7wr7KB/eIM/P8LszhVjhD84OAjDMzZ5P+HYhvwblkA/oqPWbVSOkj/xPZC3XbVmP6t7e/CM72A/I/+0JxayLz9irWjJWsdXP6gxZhqtC2W/9e6/hwYEf79q3cCwHtuCPyF535hJOok/V3zHvU8jTD+wJxdYp4OAv0gDkKWz4YE/vMHrm1mggz/N2Fw+tMdNv/HU33I0UZq/we9NA24tmb/Dg29HEF2bv2L/pb5Ib4q/6990c5PjiL/wkar2lLSGP13sakytyJA/+eHSRcWElz/eGuzi9QeNv/5lmQ41PnY/RD3o0Cb/Yj+Kbv4ouASAP03l0OU+bJE/acUbVHKLer/2ZqZJN8GCv/dbLgWLQ4I/SXv92YxghT86PmYi+OB5v3QcTD4FJ3E/Rl9P7CrIZj86CUDgns9mP7yhoAxOqmy/mtO40txzWb+t8lIifJQIv0n7DGByhGk/D2UoYdMHiT8Hbzuw2MGCP29pCJTvlnS/g3VLisSgTr8hjFcaErxyP8OyRsIFPI8/4FgpFSedfj97+Oc/jBBqP/61y2DhzJS/qujMXNyYkj8uAEC3N+OWPzrIH2hJV5S/T34MICXak78GSeXG9M17P05f6rfqUJE/G6BIe9FOa7+DzmVONzaTP7Qht+rBqJE/vTMGFelphL9/pt+O8vKKPyDHNg3Rfjk/OVpM6Y+KkD/5aG57B0ZyP7h/bMLd5pi/Q+GJ6Revdb8m23WpVMKDvyGiVDbHQIW/HE47HwAHf7+cuHVA0nWYv4+mdGy8642/YFlPDrDfbr9RNpVCOYd1P0sNWkDajIy/mJUu7jijYD/jhgqjSzJ/vzk6tXdxdIG/5b+ebbFOV79KzTA5AvxDv/eidRp8bIq/+74J1ES+fT+HZ1sI7t5evxr1pdpDr4E/L68JMiexO79yjXaCgp4dPwVOjXu7CYA/Mo9w5fYVIT/XTj86MT1fP+E0uDx0boI/JP3QhP08e7/xA9+4MotmP7oghxarZTa/3a+wYC2PgL9UsFa4PdaEv+n/ZKzqO5C/yqJ/XEV2aj8W+IzBZkxkP1eHVZxGLog/Rc++ALkRhL9U2zT6qFFTv5EtpSE4NmI/brx1IrIAkj/yj6bi1vl0P/9OWQlkt5W/zD2leCXoar8NyklcxYwTP9Q+XyUEymY/hwhYb2Mwjz/TQyjHtzZ7P8ceWDTpNYQ/NNC9MHIIfj+BlSgK+vVhv7TmJ2FokX0/OwSL4dzkkL+yzd79kJpzv1k1QV938FW/fpTzu2ADi78YGFHQJfGQvxYQKHaYqXu/FI5qeiwDg78Z9ITBEDuRv0H8DIjxdVS/RvclJm29ZT9WZCFcgz5ZvxQTFKm024o/i/HNz6NMfL93ifpLJ76XPwC/9ogSAkK/2XqzbbTtlr9pkn3VRl1nP1hxD5Mv5mY/OP9pSGAqZj8XhjLWh1pnP/sUrjS05E+/pt51NO4vUD/o2hmCurM6vymFLid9CHm/R6chEA8kib81C7vsy6+Bvy0zUpMzhAe/3eMUAISzZT9P1pYv5PF6v1Vbfw/uz0A/Tdws4mP3f7/w6frao7x2P8UlYlcYsWS/8Kvr433lST9U6I7FIUJ2v4Z2tr30V4o/fKfpmCG2jz8L3O/g64iQv1tusqSSqJG/Gjfnza7Chj+Ng/bUzAuoP/pVlW47Jqc/qex1ioCwjj9jJQ1Iy2KHP1iOa7OmHZo/ITw+ANZyjr9VE7pbZpaLv9Tu1s3VrpE/zIhhIGJnlz86Ok41kJidP6xEYULLpZ8/Qf72KVuNfb8A5bdLCnCVvwCztVHNLXm/EChgsvLHbz9ry088UVeAP7CoZ7QasIw/ZNl6ECkaej+PO9Z3BWiWPx/VeL3fMZA/VuU41mfQgj9+E0rZ65uRP1/0TEflxoI/kpVW6gjUhD9/d7evGrSCP6JYIwcyp4A/j/+E9zHkkD9lWR8eZJCJPwjFq5X08ZI/zjnymBxOlT8OHEVg42iTP0WbALPKqpA/jcXFqzDXjz9sQI1S4LuFPwhbpr9ICZc/JvU2YrZvfz+2JhFgEAeFPwFN+y8G4ZE/zSqf30DKhj/2Vt7xNwOLP55Yp62uAJc/YQBAU7GtnT/XGijyRb6YPxTXymDCukU/LHAdvxYvnz/+pSi2GnyTP4PTkobbVJg/EXNJN8JNnD+nFSZtzftzPweBSO8k0pA/lP79+vIRnT8LTnp0lJaVPwD027Q5mKM/5d+1hKUgmT8iW3vl/xSlP+OvYThBlqQ/909jgrgwbD/zp1VNU8qXP8c8fR1mYIk/zPFPNBdeZr8v3CVmcV2gP8UeoW4k2ZA/i8Zo5I7GpT/s5wiRHgilP0Gvm+NoEqU/OXowi9K0pj/IAeI7+K2mP6mxVueBBKY/IxgyTtouoz9lr3BiKBykP2bILMaijqA/DMX9PkxHpT9TXVeCAH2iP2XqsyfFKKA/ydAJJ/BbpD8DBCBxNz2iP3aeVVj39KM//CHfjlGgnD+ejuooEgKgP4FlyLZVN5s/kJ2hM4uFpj9EB1dm55emPyyPKBygKaI/KfLrzjzMmD+/78lRnM+kP5lpWLtkAqU/kznZ8v1NoT+CkRW7CM6dP/NyYhxDuJ4/u3FhFFc6oz9BpKH6Iu2fP2oaqKnSXZ8/kSgRrLUeoj/hVT7rH4GhPw+83GM0BKI/6JCDtxRdnj9tq9wGJmmiP2d80cwztqA/gjzmwZIikT+mITBOpLChP4w+EfxYoKE/7ZJqhjZumD+Zpr6Hb/SVP1foxM2U/pk/EPW1Lz+EoD8hdaX7U7R/Pxb/DKN/uJc/YSj/woslfD90w2OeAHmDP4Sn0q0hDYU/zqTd8jtCZj/Ai5H/ja6LPy5vRu41QZA/cMvNCN83hz8j2rF7zZODP6K1LOR3RXI/iON/rVjQjj8MINiBYug3PwJpkBT+uZI/YssaBAenkD9o7G7ZezCTP+v9z1kc5IE/YLk3EUz6kD8eVZ9q1OCWP6uoP40ROpI/nRLD5eQDjT8HiALQtWGRP9h3G/i57oY/iQN58RvPhz/NAkOmjSyOP0E2/TL7fnM/C0LbNnIga780EIadJZ2Ev8ErfTTpK3G/BJdIGjwSbL+C6cNiRTyCP4giSCS2DYK/vywfn1Txh78iCsgaV1yVv4v67kW865W/tJNSWOz0cj/mk/sUts2FP6+l2pNJy4a/62cXedZObb8GPs/kG/yBvxHu4nu4LZK/KLGXMu3ihL/PnP212qyYvzWqojuLkZe/TU5s1JQ+kb9nC8RVmimWv/DsOMTO25W/JyTrwtTGhr9bdzA4n32Dv8VyMABXupa/GYdk37J5g7+yLxOxxcNAv2bGvczj6Ii/3BBEwvUYjL+3/dTypVuGv/Hg62S/3o2/275FzA9ccT/HhHzOQqpyP434VEh7HHq/nUIW8/y9hL8munBCY8WBv8/0PZSR5IM/B/DPaUMVgj+XQkMmPllwP9JCpKtagnk/M6+rG/YzFr8PpwnEErGFP7Ooxxju65A/W9Y8/W4nkj+59w0AzFeKP6x8qZ8R+YI/5SeQAWXwhj9nRlViWYKVP26InjQIZ22/f87MAH4Vjb8KtnBdvxaQv0SBFChp5ly/yfMT2tIgJj9Ui58QUYB3v6M03XKsGJG/ykRQVubdfL+pzZKj8bB3v+SxQBSh9Fi/+j7cquVLar/FH0lmrAt8P46CxFqn4X+/nEmfngilgT85V/XSp+WRPzYG+Y43D4Y/U/2T3mIajj/wo7G4nUSEP8j164WO8HE/EWYVPy32jj+JXkPqbAyWPzE/Re8+H5k/z3jbOaItij8O4rrfsluIP8pQDRPz3oo/E5MekXcblT8TSNV0xU6XP1miwAzlCqA/w8EQcr0EoD/xBsz19I10P3QH+zwAYaE/MO+BvhjFlj/h80NXG+6YP+4uxI8/NJM/HrJ3AoW4lT/aOIE5Zsp6vwmmdVfGs2c/3t20BUv1nj9ODf/FtISdP3ixSGBYXy+/30xrRdk1nT924Jx+2UeSPx/Diyi2VIq/KqM7D+6EXj9dwQNOk8BnP2uY3Z0vJGK/WRERCmgCWr/45pNaMpqBvy+Lyer1xpK/2b2eLezldT9DKR8O3+RIPwafeL7IWXG/J93BKdgJWL/GU7O9FWaNv9LzLEgnLoo/gRRlP/GdWj/Xl4N3gAhqP1OcU32me2A/6Pq6PvxTf78BZx4H6yuSP6pK+dZyp0Y/KblXoBhagD+yZT1ZIxh6v0qG3w3bzmG/TlrBmQg0kj9nDEFLckZ9v8MILPtxTJw/gAxzX83lhL8nEdMKypZPv5tE4n6Aq4q/ruszYtr9dT/w8bbAj7B2v1gKCzfiMYc/Yz6G/PyijT+bgXp+EmNxP9eRrdJvKoG//hnkc+7CYD/Phw3I3dp+v4UGDEWrl5Q/dMV2VPExkL8BTNgOvwykP2XjTgYy+6I/6YMvH5ObpD8w+TviPaSkP+9rsQwi8aM/iOab2Ny/oD/e7D5molajP2NWsxCN6qE/Q5eVko/1oz97+GaPsFqkP+huehWQLKM/TY0BZLurpD+7TPrAF76hP6YkJWMU3KQ/7SxE2sh1pD8SL7LCKVaiPyNyKirPmKI/BV8UzhjmoD94u881CyejP4vkQA4fHqM/C0hKwvC4oj80x4ORNHWgP/1LmHjhdqE/tgpwl2Zcoj+FTESaC12mP8ea0ZVoTaY/VN2+GQ9+pD9COfezr7WiP0ERRRQKG6I/tG94t6LvoT9IRGH3ONmkP++iBTi4faU/yb+MTRp5pj+f/NgHsLamPxsZ3+vZbaU/0KjqdDrKpT/e8i/S+8OjP+maYw30C6I/Lp++glXdoT80Lht6CiqiP2vhD+YqZqQ/HJAUIhYbpj82sdmMfn6mP2Ot+rAHlKU/rJqdsi2TpT9g7oIqLvOlP7q2U0E9t6Q/DNFtyheloz9flcWhCOChP9cH3ISmA6E/KKeXEQ+HpD+Ol4hr+aujP3anVDuaUaU/coZB29ElpT80eh2xGwikP9o2GXg5bKQ/R2gW4+yeoT+o9ysBPuSlPxAialNkBKQ/CrA0zJCaoz/uY0yinJWiP7QUKHYCJKY/24jijpwMpD8Rq/QJ+42fP2oNYOCi8aM/YjVd6fe9pj8e6uNMSJ+lPwoIpdD9cKI/Y6dKlCtuoT/mIbvkAzafP0t3JLQCJqI/Bpn+mASYpD9l7aEslQCjP+6Mjp4mZKQ/dniYIueaoj/d7UU1iYGlP3r1MVqLZqM/wuNU4k7FoT8YBfg8BnyiP4bRsBoMMaA/sLBYZlJPnz+l6RsIDaiiP1Cn3WDEEqI/XPJ+dHqspD82X3mNNS6lP3BuIESwEaQ/64mvRelmpD94Y1XYL9KjP8FS6RM3TKQ/eOIFbcgKoz8CzMd/8FSnP/Op/FjpAKQ/IexqwzH+pj/Z2igiMpGnP97bFwj8jKQ/zEQ6lJBgpT9U6nTFxCmjPzlT3A4KX6I/eAVtUWEToz9PTsTnux6kP51dhDYVQ6U/oNpmU+idpj/zvLvSUnulP9pxUHsXVaM/GOwQAL20pD8RTcOwyz+nP37luh1oxqY/1HxpGt/ypD+S5J2gvAejP7iIoeEsJ6I/XhBzP/D8oT+2KortTGOjPwTjL51ooaU/bFGxKXPnpD8RNAkVUpqkP3+XC3++3aQ/d0VsQakGpD+uZlqzrXakPypkQiofzaE//awd6X74oD8VJ2PmNgakP2uW3X33SqQ/S8AZyrCVoz+8thgS3yyjPzgSK5xiA6U/MIvdylMrpT94QDtSeEalP1tOxsmWQqM/FKCqYxmppT8pgv0ZcpCmP5ausiiVeKU/hKPhEtJQpT+yKQLfsi2mP+06moIGPaU/y/8125g1pj8dOp+Pa1imP/BXHm5S16Y/bToJlf1joj85LEFjopmlP1EXa+hZ7KM/C7DyEgWKpT+CmKCYM9SlPwWa564HUaY/BLMh8/0gpj/lvZi29/imP/7xzp4hRac/S+FgDZpdpD9scx8g7wOlP0vh1GibV6M/9MivhWGaoz/yohc600mlPwtucO7+rqU/hDjYajOQpT9JxYA85EemP6J9sR7va6c/jZJ9tci0oz81Ca/CaLWjPwaUbO1ix6M/7tk7IeR+pj8jhd6j7B+lP1eZ9mqepqM/CajAasSUpD9KOp3Fsx+kP5ZqyZ48C6I/yOnOmW8yoj8WK6uvAmKlP1IJGyl206Y/nhdb9nlepj9Z7uz073OmPwltoiAL+aU/w8g2I/u/pT+JQIJtc2KmP81M/SvXE6c/Hb8A7bWnpT+60M1yc8+lP3ThJbL4iaY/HzyjXHgNpz+0rX5Qq1GkP+cn+rKp+KQ/0nRuvlfUpj+IsYjmLFemP0kqlxBp86U/wta+slOlpT/oP4Pytv6jP1NGkMCpv6c/fuGVc/2zpT+2b6oGxcGkP/S/W5P23qY/tlLKkYJnpT9T4TbVQ2OkP+U7rlyaNaQ/g8bMXvD8pj8Dr+tSm6ulP2dvMKd9taU/w/c8ktyKpj9W54I1WxWmP79E05FZjqM/x9xpDt+hpD8jHraGGC+kP6M2QiicK6U/WMQ5L7vBoT9Lm3Fb3ZqlPzhmuC1CvaU/iab0sjE6pz+2EUHLYNSlP8nYTMDDzqY/v0VgZLx4oz8k6pDCXMGkP8U1H65Uh6M/eGruLfBCoz/Rlg/Mpd+jPyE4VVV93aQ//72h6rRqpD8ECZCCZbKlPy2y/JsKfaY/+sjrg18+pj8DK5B0eMalP1+FQLHAqaE/2y5H4dYYpz86nx0/LGymP4iQtYqF5aY/mtDegJYNpz+p5qcLhQygP1DXgTppZKY/JPKJfiTLpD/cJJq+k9KmPzZop56I56U/6G2yEG2cpz/GmvECp6CmP7gJnJLBKac/yVW1+FXspj8uq9IEMu6kPw9waiYI1qY/7ALHd0aJpT+vzHSyrFumP+AQjcIK/KM/RN59gXa9pz8OqZLE2mumP26aGC0YaKY/YiqkmBGhpz8NOvsaaA6mP05au5FdraY/9br+PAx/pT9jBFugh6+lP0r8KoXkfKU/n6arjfo8pD8eCkMs/oClPxdhc5JbmaY/uKpnKke2pj/JmK/jYqOlP38/sjlrYqY/6iR80tlUpT99qf+0I1inPyi25av3T6Q/95oRAipzpz8Lg+LPA8qlP8AiAq5QwqY/TIrsxsRNpD8EF2ZEbiejPyuM7ioxU6Y/nzdI2IxupT8Swn1xUzqmP8ujLWnNX6M/G8xw8vaJoj+F35upW7miP6Xogfk87aM/vLq/COuToz+GyPsVPaGiP98QjFCIEaE/45bFoV2uoj9HIu/A0GulP78KkncfsaU/TcrjfFCvpj+ymouTJOujP7c0btUsiqY/lzcPIBbkpD+RlIUWC9alPwGblW6nvp4/ywIIqE0NpT9ZuNH+lVSlP6cd4+GbAaY/6EOhNeUHoT+2L50+pRGkP568nhgBsqQ/98RePRfBoz9T2dJ5rFujP3r985rZz6Q/HPXNl+Ruoj829RkMV5GjP4rx4eOrb6Y/o7M6hlvapT9m8+YY9XimP9cIBmO41aY/dOaZTfhepj8sUpb8sLemPwwWwp3s1qY/AeHN2l5wpD/TsnYoS5imP2YJKkma9KQ/Dx79FO90pz8g4j1sCsClP7znSfXVSKc/VHsCDxZlpj9ZXbID/1CnP5sMW6FWfqM/sSqXKeVBpj/GKSHUiqakP8eIsSIm7qY/SvnhZM1EpT9l3ZQ7fCinP2/wwAsDSqY/rpvxq9+/pj+x5CJ5p0KnP0VCcuergqQ/xygbv7fNpD/7K4cX6JOkP4zcv/ihOaM/vnwCZtuDoj+E1vTiUAilP4L/gzkeSqU/hLfVZjZCpT85ikbR6JqkPxcYVoKjOqQ/dIHtOsH5oz/8gvD3PKemP4G/x6/jcaY/eo24pMTzoz/DXaI8FsOjPwwu2TP5SaM/W8NRx6FDpT9PO1lU61qlPz4EG7I3nqQ/VBS7qE34oj8zY2ziYG2jP+LNmzNFa6I/XD20y/IZpT+Kxerz0milPyyM3TFZWqQ/AMHqnXsbpD9xwP4xcuClP4KRVMQrFKM//N3XkE/OpT9t7t8xCnulP4HEEHwDwqQ/u52fScTLpT/aDDnITCekP2F1Ov9/xKY/+Oo3Jxnvoj+8+4aeghimPyDtHnDJwKM/qxtga8B8pT8QtouJc0ekP/Dndd5/h6Y/GrAB6F6IpD+EiT5LpsalPxHe1OKthqM/tilaeQYnpT9xsff4myajP9oim6sl86Q/XDTONvMYpT/eJje0CrCkP3NuAcqUIKQ/b2WEyZDCoz/God2Y0CyiP6AHwu4SPKQ/5F4WgvmToT/H/UxX0o2lP5d5KLQ36aM/BmdpHwYLoj8onEVQT3ijP+e5Cs37WKQ/RssFA7O6oz+oFfnE5K6jP0/nwF6hL6I/cs2TnAwcoz81B+zttWOjP9VV7yXqFaM/Mgo0DACpoT8dQZGUgy+iP1lK4MmIE6M/kRlDr8gooz8jUy87CGWiP04VGdDlqp8//s3rS3D8oj/RHb3kO72hP67cMhSGF6A/vwBh0uODoT+nnlsbTSijP8cEb+Rxb6A/L35NlkZRoT87NMhXiwChP5KM05zd8Z8/0P9WI562oj9J25CL+H6fPyOY90zzTaM/yjlyAHTloz/IPpBOLgqkP8N064HjfaI/OXL8lQrgoz85OciiQ2+jPxzYAOZcgaI/77ujTSj8oz/YXTEB/sOjPyy2CjMjvqE/1dL2j1hkoz9Fq5O+erGkP2oPUMHrOqM/uSYvxNmGnz/dLV0TisOkP1eHxHQWe6E/8xKNSH7Toj80OrdNS5akP2y7DqRVaKM/b9Nkc/97oT/Uua/KEfqfP2FmhUrpSKU/+E6ZtG9hoj+1CzIvoxykP9aenpuLKqQ/ikBovNgtoj+Z1FH9OyChP50zSA5tUJ0/zZAWiFnZnz9HQg4nOUGhP7kkm85NoKA/9fD4mxTaoD9c4jLUrrGbP3rKOtP+LqI/1+0yVVmmoj+nURR8L7uhP+3e/gGtYqI/PKaLtSdZoD9DjtWsnHyhP/V01CGtuqA/e4sT7ArtnT8X/IAMrVyiP66MaZ1AeaE/fJuyxcyVoT96UWT4BNuhPwCbHaiBhqI/GRPpgpGjoz811USlPNKgPxlfiuoGSaI/n/3XGgCboj+b95nvF8SjP3QD3p094pA/02lBpHakmz+SGQ6av7aeP/+siaE975o/3VuyLpO3oD/QPK5DIvOfP71mhTnvjp8/9yPhU/bpnj8tLRioWwGhP8FzkhN0cpQ/mjQUfGyaoD8LCIb6WAGeP+dXSAi+2qI/0ZXEzKSJnj+Hcy0DPCGhP2reANd8AaI/RzE1CQNNpD9H9gvIhrWlPw9zi20HIKU/oVWMZvOKoj8PVAsB/tCjPzVgpIru7aQ/Mp5NYRlMpT/pMpkHDfukPwa+3dKIwKM/qLwzZKocpT+Qb458qDKjPwq08z0Ma6I/7OZ1V87+oT82OmJJwkOjP7Im5HtpLqI/JlmTRsFyoz9VAbfFldudPxY0HkOOU6E/TAaUzMqtoT/UUVMo98uhP17JRqBth6M/pqNHmZ7bnD8Ul83TNDigPzNMOapty6Q/QuwuoGSioj/RGEjNbLWfP2flCnQqjJw/3f4XzcI/nz/aKq+nmEGiP59ekpZVpG2/uljPvazYfD+mfScSpYmPP5D+g4b4xpK/+vXVkehgkz/Z+6fwx4R3v7q+95/6xmo/yShvEPs4bD8GJq0ODX6Rvw+YkJ8Sxlk/byHtqo3gdj/TtWNR7m1eP93Wz5SzlHM/11f46FFTWz98i5May/yTP5HwkfrsWn8/0ajgY4f0hD84HtUJtzyCP8B5tMxymA8/kpMiRlXthb8VsTAwr7NsP8+xs2+9eV2/eadUovkvcD/bNFbprDqBP5Xsig9rC4Q/YxdrK9LAm784+3K2HTiQvxMZMu4cG38/WQekxHLzdr9RwbXS9UiYP+QdqxMpFk8/RwMNzAkUbr+XFxUGArJjPxX1PGueFHg/TjP3Aiu/cb8hJO/DJ1VsPyxCWcziiXa/SNflhhELmb9wZOs86yR9P2k0oRGJuY6/wemaaHMgaj/8Gsh1U0VLPymv2G+wW3o/VUqyhWDllT8fkKPo7r57P+Hb1uKM+no/pyyRRzedKb8x/MVwyoaSP0AGhyv+Y2O/a/myzsD6Qr8q/1Ypg9eXv5AU8Z1Gwpa/f5G45FGGir96i5k+rRZgP+Lsms4trH4/MXbTjaHvlL8HHLyQvumAPxDbAj0oLpk/DhGtynD8cD/peBwRYNEkPwqtWY137ns/5XffhPWnhD/fxVDoLwxpv7SCTWqPUoU/COGrHFRkkD9IqbXVO6qCP+AueCubjX2/PeDJaERMgT98P6miWU9ov9qeOhjEcY0/B2xh4EYMYr/zTAqxdg9Kv3L2z1xuG3+/8fjljvnGUz/wtWhjyEiLPwNPX9NyNHM/3FCCU5+ZdT9yGflAM/92P1PkQ5GHr4o/czon2EpSgz8WZDkMBdCRv3tUpzLTjoU/Jiht2xg6jj+p7BjC1OOFP5rVvC/lLmO/Oe1aNhwBlL/7GB7zPDx5v5zVwhLo+I2/vjJpLLHEoD/ACfH6K6d0v4i8Yd/AjJs/3EVq9WvMkr+Q5b2zypGPP+isjs2ODZE/oZcpTkwRhL86F3/u2mmKP6qBRfuCMpw/+HjAJqbGfT+z3KD58shiP+qyHxAjVVC/+ujZD+wZaT8QeXk5RxKMvzr5OsrFfX+/kHhR8rdddj88eaT+zhaBPzImaqy6RYc/rvK5YDbWmj/0x412YfV0PwoTCZoub5I/zshbxMuQlT/VZV5KKtWcP25VNls/x30/AlkLPnviiz8mAfskLSeJv9FZezmJiGe/7gOqcqO5jD8KNzRVhu+CvyJKpxqBVWy/6+0dXeAzgL+0AdJo5Cl+v9ZQeE2To1q/mbI0+LpplL+wvgLw12mJP6+v4GqbVGU/yFN74G8vcr/SfDE5xW2SP5iXrWf6BXs/tHmh7Oa2Uz+PtOxwQJVYv9NjSoStWo0/8AuxUFmqlL9X88Typt9xP787TX9cq3u/WSuqhfztgb9hlb1Eb2eAvwTLkYNF7o2/geha5Q9wbb9Dc5ehCLqLv9B1w7z73oI/N0j4RAzQi78qYqBaaTR0P5DTtU2hHmo/L4i+UuuGhD/+1F9mAN57v2tD2P1L75K/WhzOrmFYhb9GFD7qGheAv36R5q7WNEa/O2FqObRghz8dYw0PogNOP0wHS/ed1IS/y5AtPcm8kT/CAuwYLnNxv6KyoVeWtaA/pNC1I4x+k79GnMgJNU9zP9eQUR11GpQ/8bbBYIXZfT8HpTKi/umHPwkVq1qYroW/NNukxATLnD8O2eXiqx+Fv09Zrse7fYK/J6Y4xTLMdz8D9FwtwfKHv8SijCBSLHW/uKIXLaEHVz9vW++dnBhDP9HK+EZRqIM/4NrTO9xScr9x4MxYeKuGP/oSEn0S0YU/QU41kWuRiD9FkawzrUaHPwIWxbYtd5M/lTMr4lKElj97JEaCLGx5vxn1igi1dDA/CZjPXlT7ir8/cgn5sCllPxVb5MQN+oU/0Bv+PJUkjT/4EacHbx2VPyD1svgwnno/jjNoD1R1ZL/N3fTbTsyIPyS4x2Zib4W/J4sw3bR7d797cR4oMXqWv63M+jIOppY/TMgF3fRhgL+fs5Pn6BGYP72ipkOVP4c/5ZsOpjqaK78Amp67Y99eP3SXrmYio4q/vs/SYZa0Z789JYkYOBJhv6u/rqIG8pM/AWf+qYhxnT+a6RheEZxRv9p8FbiprnG/Vqrt7WjFZ7+zLxrP8Ehrv88JZViQ6nQ/tskLzIt3hr8hqGjd/rQIP8gXoAj0u4w/fpUx/OoihT+hSnkMDKt8v4Bw4Jpsz3m/8clPwXk+i7/H0eadnm+NP/G5wrXfo38/gZ3f74y6fz/Jkvr1RhqNv8BX+2cc7oa/GbqwGl4Uer819G3lxXKQP0Q0FQVRaJU/zV2AysITf78wcCqtgehsv1P0HoFPG4a/RaDdThIrgb+7hsfJYZ6avx+bEIc4r0M/rmrQ0jvZkb+sSMlPOoZjP3d+WSyAJY8/Ze79JkvocL+Q8Xf/FmOavwjrGUK3xqA/cYp2Miu+i79xcqGiPK2RPzikhxMDG4Y/dMhIzs24iD+wF11OrLadPxquBFDL+J4/WjsjTtbya7/pyXTMZIqdP8d98Y65Z30/4n/ah951fT9RR4z1ct9eP1BgwDca7Yc/z769rSUZir8NNvpnsZh5P/yxE+piFoY/A0pxjmveez9KDs05ugN4P5JQyHAxjnQ/+OJRMwldhj/akXlRrDtmv1jx0c9qz3M/2rYcib2leD+vTmsF+hlnv1EHx1Y9NXw/UyMxTfOIfz8YbWaBrbGEvyRNGS/E/HA/rKtyW8dOXj8=\",\"dtype\":\"float64\",\"order\":\"little\",\"shape\":[1486]},\"y\":{\"__ndarray__\":\"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\",\"dtype\":\"float64\",\"order\":\"little\",\"shape\":[1486]}},\"selected\":{\"id\":\"10437\"},\"selection_policy\":{\"id\":\"10436\"}},\"id\":\"10389\",\"type\":\"ColumnDataSource\"},{\"attributes\":{},\"id\":\"10545\",\"type\":\"UnionRenderers\"},{\"attributes\":{},\"id\":\"10432\",\"type\":\"AllLabels\"},{\"attributes\":{\"toolbar\":{\"id\":\"10565\"},\"toolbar_location\":\"above\"},\"id\":\"10566\",\"type\":\"ToolbarBox\"},{\"attributes\":{},\"id\":\"10540\",\"type\":\"Selection\"},{\"attributes\":{},\"id\":\"10360\",\"type\":\"HelpTool\"},{\"attributes\":{\"coordinates\":null,\"data_source\":{\"id\":\"10457\"},\"glyph\":{\"id\":\"10458\"},\"group\":null,\"hover_glyph\":null,\"muted_glyph\":{\"id\":\"10460\"},\"nonselection_glyph\":{\"id\":\"10459\"},\"view\":{\"id\":\"10462\"}},\"id\":\"10461\",\"type\":\"GlyphRenderer\"},{\"attributes\":{\"bottom_units\":\"screen\",\"coordinates\":null,\"fill_alpha\":0.5,\"fill_color\":\"lightgrey\",\"group\":null,\"left_units\":\"screen\",\"level\":\"overlay\",\"line_alpha\":1.0,\"line_color\":\"black\",\"line_dash\":[4,4],\"line_width\":2,\"right_units\":\"screen\",\"syncable\":false,\"top_units\":\"screen\"},\"id\":\"10415\",\"type\":\"BoxAnnotation\"},{\"attributes\":{\"coordinates\":null,\"group\":null,\"items\":[{\"id\":\"10386\"}]},\"id\":\"10385\",\"type\":\"Legend\"},{\"attributes\":{\"fill_alpha\":0.1,\"fill_color\":\"blue\",\"hatch_alpha\":0.1,\"hatch_color\":\"blue\",\"line_alpha\":0.1,\"line_color\":\"blue\",\"x\":{\"field\":\"x\"},\"y\":{\"field\":\"y\"}},\"id\":\"10489\",\"type\":\"Patch\"},{\"attributes\":{},\"id\":\"10549\",\"type\":\"UnionRenderers\"},{\"attributes\":{\"line_alpha\":0.2,\"line_color\":\"green\",\"line_width\":2,\"x\":{\"field\":\"x\"},\"y\":{\"field\":\"y\"}},\"id\":\"10496\",\"type\":\"Line\"},{\"attributes\":{},\"id\":\"10536\",\"type\":\"Selection\"},{\"attributes\":{},\"id\":\"10435\",\"type\":\"AllLabels\"},{\"attributes\":{\"line_alpha\":0.1,\"line_color\":\"blue\",\"x\":{\"field\":\"x\"},\"y\":{\"field\":\"y\"}},\"id\":\"10477\",\"type\":\"Line\"},{\"attributes\":{},\"id\":\"10538\",\"type\":\"Selection\"},{\"attributes\":{\"children\":[[{\"id\":\"10336\"},0,0],[{\"id\":\"10390\"},0,1]]},\"id\":\"10564\",\"type\":\"GridBox\"},{\"attributes\":{\"coordinates\":null,\"group\":null,\"items\":[{\"id\":\"10440\"}],\"visible\":false},\"id\":\"10439\",\"type\":\"Legend\"},{\"attributes\":{\"source\":{\"id\":\"10481\"}},\"id\":\"10486\",\"type\":\"CDSView\"},{\"attributes\":{},\"id\":\"10544\",\"type\":\"Selection\"},{\"attributes\":{\"fill_alpha\":0.2,\"fill_color\":\"red\",\"hatch_alpha\":0.2,\"hatch_color\":\"red\",\"line_alpha\":0.2,\"line_color\":\"red\",\"x\":{\"field\":\"x\"},\"y\":{\"field\":\"y\"}},\"id\":\"10466\",\"type\":\"Patch\"},{\"attributes\":{},\"id\":\"10542\",\"type\":\"Selection\"},{\"attributes\":{\"coordinates\":null,\"group\":null,\"text\":\"PCA Score Plot (PC1 vs. PC2)\",\"text_font_size\":\"15pt\"},\"id\":\"10337\",\"type\":\"Title\"},{\"attributes\":{\"fill_alpha\":{\"value\":0.6},\"fill_color\":{\"field\":\"col\"},\"hatch_alpha\":{\"value\":0.6},\"hatch_color\":{\"field\":\"col\"},\"line_alpha\":{\"value\":0.6},\"line_color\":{\"field\":\"col\"},\"marker\":{\"value\":\"triangle\"},\"size\":{\"value\":7},\"x\":{\"field\":\"x\"},\"y\":{\"field\":\"y\"}},\"id\":\"10424\",\"type\":\"Scatter\"},{\"attributes\":{},\"id\":\"10343\",\"type\":\"LinearScale\"},{\"attributes\":{\"coordinates\":null,\"data_source\":{\"id\":\"10463\"},\"glyph\":{\"id\":\"10464\"},\"group\":null,\"hover_glyph\":null,\"muted_glyph\":{\"id\":\"10466\"},\"nonselection_glyph\":{\"id\":\"10465\"},\"view\":{\"id\":\"10468\"}},\"id\":\"10467\",\"type\":\"GlyphRenderer\"},{\"attributes\":{\"coordinates\":null,\"data_source\":{\"id\":\"10493\"},\"glyph\":{\"id\":\"10494\"},\"group\":null,\"hover_glyph\":null,\"muted_glyph\":{\"id\":\"10496\"},\"nonselection_glyph\":{\"id\":\"10495\"},\"view\":{\"id\":\"10498\"}},\"id\":\"10497\",\"type\":\"GlyphRenderer\"},{\"attributes\":{\"fill_alpha\":0.07,\"fill_color\":\"blue\",\"hatch_alpha\":0.07,\"hatch_color\":\"blue\",\"line_alpha\":0.07,\"line_color\":\"blue\",\"x\":{\"field\":\"x\"},\"y\":{\"field\":\"y\"}},\"id\":\"10482\",\"type\":\"Patch\"},{\"attributes\":{},\"id\":\"10358\",\"type\":\"SaveTool\"},{\"attributes\":{\"bottom_units\":\"screen\",\"coordinates\":null,\"fill_alpha\":0.5,\"fill_color\":\"lightgrey\",\"group\":null,\"left_units\":\"screen\",\"level\":\"overlay\",\"line_alpha\":1.0,\"line_color\":\"black\",\"line_dash\":[4,4],\"line_width\":2,\"right_units\":\"screen\",\"syncable\":false,\"top_units\":\"screen\"},\"id\":\"10361\",\"type\":\"BoxAnnotation\"},{\"attributes\":{},\"id\":\"10539\",\"type\":\"UnionRenderers\"},{\"attributes\":{},\"id\":\"10547\",\"type\":\"UnionRenderers\"},{\"attributes\":{\"fill_alpha\":0.2,\"fill_color\":\"blue\",\"hatch_alpha\":0.2,\"hatch_color\":\"blue\",\"line_alpha\":0.2,\"line_color\":\"blue\",\"x\":{\"field\":\"x\"},\"y\":{\"field\":\"y\"}},\"id\":\"10484\",\"type\":\"Patch\"}],\"root_ids\":[\"10567\"]},\"title\":\"Bokeh Application\",\"version\":\"2.4.3\"}};\n  const render_items = [{\"docid\":\"5735dbda-0605-46fb-b690-85735f919a98\",\"root_ids\":[\"10567\"],\"roots\":{\"10567\":\"570ebc41-4cca-49d1-b352-0cab3aa5b922\"}}];\n  root.Bokeh.embed.embed_items_notebook(docs_json, render_items);\n  }\n  if (root.Bokeh !== undefined) {\n    embed_document(root);\n  } else {\n    let attempts = 0;\n    const timer = setInterval(function(root) {\n      if (root.Bokeh !== undefined) {\n        clearInterval(timer);\n        embed_document(root);\n      } else {\n        attempts++;\n        if (attempts > 100) {\n          clearInterval(timer);\n          console.log(\"Bokeh: ERROR: Unable to run BokehJS code because BokehJS library is missing\");\n        }\n      }\n    }, 10, root)\n  }\n})(window);",
      "application/vnd.bokehjs_exec.v0+json": ""
     },
     "metadata": {
      "application/vnd.bokehjs_exec.v0+json": {
       "id": "10567"
      }
     },
     "output_type": "display_data"
    }
   ],
   "source": [
    "#CREAR PCA y un Loading Plot de los tres grupos \n",
    "\n",
    "peaklist = hoja3['Name']                   # Set peaklist to the metabolite names in the peakTableClean\n",
    "X = hoja2[peaklist].values                      # Extract X matrix from dataTable using peaklist\n",
    "Xlog = np.log10(X)                                  # Log scale (base-10)\n",
    "Xscale = cb.utils.scale(Xlog, method='auto')        # methods include auto, pareto, vast, and level\n",
    "Xknn = cb.utils.knnimpute(Xscale, k=3)              # missing value imputation (knn - 3 nearest neighbors)\n",
    "\n",
    "print(\"Xknn: {} rows & {} columns\".format(*Xknn.shape))\n",
    "\n",
    "cb.plot.pca(Xknn,\n",
    "            pcx=1,                                                  # pc for x-axis\n",
    "            pcy=2,                                                  # pc for y-axis\n",
    "            group_label=hoja2['Class'])                    # labels for Hover in PCA loadings plot"
   ]
  },
  {
   "cell_type": "code",
   "execution_count": null,
   "metadata": {},
   "outputs": [],
   "source": [
    "#Para una mejor visualización de las variables que pudieran ser responsable de la enfermedad cojo solo el grupo Diabetes y Sanos\n",
    "\n",
    "filtered_df_hoja2=hoja2[hoja2['Class'].isin(['Healthy', 'diabetic'])]\n",
    "\n"
   ]
  },
  {
   "cell_type": "code",
   "execution_count": null,
   "metadata": {},
   "outputs": [],
   "source": [
    "\n",
    "\n",
    "#To provide a multivariate assesment of the quality of the cleaned data set it is good practice to perform a simple Principal Component Analysis (PCA), after suitable transforming & scaling. \n",
    "#The PCA score plot is typically labelled by sample type (i.e. quality control (QC) or biological sample (Sample)). \n",
    "\n",
    "\"\"\"\n",
    "First the metabolite data matrix is extracted from the dataTable, and transformed & scaled:\n",
    "\n",
    "    A new variable peaklist is created, to hold the names (M1...Mn) of the metabolites to be used in subsequent statistical analysis\n",
    "    The peak data for all samples, corresponding to this list, is extracted from the dataTable table, and placed in a matrix X\n",
    "    The values in X are log-transformed (Xlog)\n",
    "    The helper function cb.utils.scale() is used to scale the log-transformed data (Xscale)\n",
    "    Missing values are imputed using a k-nearest neighbour approach (with three neighbours) to give the table Xknn\n",
    "\n",
    "The transformed & scaled dataset Xknn is used as input to PCA, using the helper function cb.plot.pca(). This returns plots of PCA scores and PCA loadings, for interpretation and quality assessment.\n",
    "\n",
    "\"\"\""
   ]
  },
  {
   "cell_type": "markdown",
   "metadata": {},
   "source": [
    "#Información proporcionada para el desarrollo del PCA\n",
    "\n",
    "#To provide a multivariate assesment of the quality of the cleaned data set it is good practice to perform a simple Principal Component Analysis (PCA), after suitable transforming & scaling. \n",
    "#The PCA score plot is typically labelled by sample type (i.e. quality control (QC) or biological sample (Sample)). \n",
    "\n",
    "\"\"\"\n",
    "First the metabolite data matrix is extracted from the dataTable, and transformed & scaled:\n",
    "\n",
    "    A new variable peaklist is created, to hold the names (M1...Mn) of the metabolites to be used in subsequent statistical analysis\n",
    "    The peak data for all samples, corresponding to this list, is extracted from the dataTable table, and placed in a matrix X\n",
    "    The values in X are log-transformed (Xlog)\n",
    "    The helper function cb.utils.scale() is used to scale the log-transformed data (Xscale)\n",
    "    Missing values are imputed using a k-nearest neighbour approach (with three neighbours) to give the table Xknn\n",
    "\n",
    "The transformed & scaled dataset Xknn is used as input to PCA, using the helper function cb.plot.pca(). This returns plots of PCA scores and PCA loadings, for interpretation and quality assessment.\n",
    "\n",
    "\"\"\""
   ]
  },
  {
   "cell_type": "code",
   "execution_count": null,
   "metadata": {},
   "outputs": [
    {
     "name": "stdout",
     "output_type": "stream",
     "text": [
      "Xknn: 120 rows & 1486 columns\n"
     ]
    },
    {
     "name": "stderr",
     "output_type": "stream",
     "text": [
      "BokehDeprecationWarning: 'legend' keyword is deprecated, use explicit 'legend_label', 'legend_field', or 'legend_group' keywords instead\n",
      "BokehDeprecationWarning: 'legend' keyword is deprecated, use explicit 'legend_label', 'legend_field', or 'legend_group' keywords instead\n"
     ]
    },
    {
     "data": {
      "text/html": [
       "<div class=\"bk-root\">\n",
       "        <a href=\"https://bokeh.org\" target=\"_blank\" class=\"bk-logo bk-logo-small bk-logo-notebook\"></a>\n",
       "        <span id=\"11522\">Loading BokehJS ...</span>\n",
       "    </div>\n"
      ]
     },
     "metadata": {},
     "output_type": "display_data"
    },
    {
     "data": {
      "application/javascript": "(function(root) {\n  function now() {\n    return new Date();\n  }\n\n  const force = true;\n\n  if (typeof root._bokeh_onload_callbacks === \"undefined\" || force === true) {\n    root._bokeh_onload_callbacks = [];\n    root._bokeh_is_loading = undefined;\n  }\n\nconst JS_MIME_TYPE = 'application/javascript';\n  const HTML_MIME_TYPE = 'text/html';\n  const EXEC_MIME_TYPE = 'application/vnd.bokehjs_exec.v0+json';\n  const CLASS_NAME = 'output_bokeh rendered_html';\n\n  /**\n   * Render data to the DOM node\n   */\n  function render(props, node) {\n    const script = document.createElement(\"script\");\n    node.appendChild(script);\n  }\n\n  /**\n   * Handle when an output is cleared or removed\n   */\n  function handleClearOutput(event, handle) {\n    const cell = handle.cell;\n\n    const id = cell.output_area._bokeh_element_id;\n    const server_id = cell.output_area._bokeh_server_id;\n    // Clean up Bokeh references\n    if (id != null && id in Bokeh.index) {\n      Bokeh.index[id].model.document.clear();\n      delete Bokeh.index[id];\n    }\n\n    if (server_id !== undefined) {\n      // Clean up Bokeh references\n      const cmd_clean = \"from bokeh.io.state import curstate; print(curstate().uuid_to_server['\" + server_id + \"'].get_sessions()[0].document.roots[0]._id)\";\n      cell.notebook.kernel.execute(cmd_clean, {\n        iopub: {\n          output: function(msg) {\n            const id = msg.content.text.trim();\n            if (id in Bokeh.index) {\n              Bokeh.index[id].model.document.clear();\n              delete Bokeh.index[id];\n            }\n          }\n        }\n      });\n      // Destroy server and session\n      const cmd_destroy = \"import bokeh.io.notebook as ion; ion.destroy_server('\" + server_id + \"')\";\n      cell.notebook.kernel.execute(cmd_destroy);\n    }\n  }\n\n  /**\n   * Handle when a new output is added\n   */\n  function handleAddOutput(event, handle) {\n    const output_area = handle.output_area;\n    const output = handle.output;\n\n    // limit handleAddOutput to display_data with EXEC_MIME_TYPE content only\n    if ((output.output_type != \"display_data\") || (!Object.prototype.hasOwnProperty.call(output.data, EXEC_MIME_TYPE))) {\n      return\n    }\n\n    const toinsert = output_area.element.find(\".\" + CLASS_NAME.split(' ')[0]);\n\n    if (output.metadata[EXEC_MIME_TYPE][\"id\"] !== undefined) {\n      toinsert[toinsert.length - 1].firstChild.textContent = output.data[JS_MIME_TYPE];\n      // store reference to embed id on output_area\n      output_area._bokeh_element_id = output.metadata[EXEC_MIME_TYPE][\"id\"];\n    }\n    if (output.metadata[EXEC_MIME_TYPE][\"server_id\"] !== undefined) {\n      const bk_div = document.createElement(\"div\");\n      bk_div.innerHTML = output.data[HTML_MIME_TYPE];\n      const script_attrs = bk_div.children[0].attributes;\n      for (let i = 0; i < script_attrs.length; i++) {\n        toinsert[toinsert.length - 1].firstChild.setAttribute(script_attrs[i].name, script_attrs[i].value);\n        toinsert[toinsert.length - 1].firstChild.textContent = bk_div.children[0].textContent\n      }\n      // store reference to server id on output_area\n      output_area._bokeh_server_id = output.metadata[EXEC_MIME_TYPE][\"server_id\"];\n    }\n  }\n\n  function register_renderer(events, OutputArea) {\n\n    function append_mime(data, metadata, element) {\n      // create a DOM node to render to\n      const toinsert = this.create_output_subarea(\n        metadata,\n        CLASS_NAME,\n        EXEC_MIME_TYPE\n      );\n      this.keyboard_manager.register_events(toinsert);\n      // Render to node\n      const props = {data: data, metadata: metadata[EXEC_MIME_TYPE]};\n      render(props, toinsert[toinsert.length - 1]);\n      element.append(toinsert);\n      return toinsert\n    }\n\n    /* Handle when an output is cleared or removed */\n    events.on('clear_output.CodeCell', handleClearOutput);\n    events.on('delete.Cell', handleClearOutput);\n\n    /* Handle when a new output is added */\n    events.on('output_added.OutputArea', handleAddOutput);\n\n    /**\n     * Register the mime type and append_mime function with output_area\n     */\n    OutputArea.prototype.register_mime_type(EXEC_MIME_TYPE, append_mime, {\n      /* Is output safe? */\n      safe: true,\n      /* Index of renderer in `output_area.display_order` */\n      index: 0\n    });\n  }\n\n  // register the mime type if in Jupyter Notebook environment and previously unregistered\n  if (root.Jupyter !== undefined) {\n    const events = require('base/js/events');\n    const OutputArea = require('notebook/js/outputarea').OutputArea;\n\n    if (OutputArea.prototype.mime_types().indexOf(EXEC_MIME_TYPE) == -1) {\n      register_renderer(events, OutputArea);\n    }\n  }\n  if (typeof (root._bokeh_timeout) === \"undefined\" || force === true) {\n    root._bokeh_timeout = Date.now() + 5000;\n    root._bokeh_failed_load = false;\n  }\n\n  const NB_LOAD_WARNING = {'data': {'text/html':\n     \"<div style='background-color: #fdd'>\\n\"+\n     \"<p>\\n\"+\n     \"BokehJS does not appear to have successfully loaded. If loading BokehJS from CDN, this \\n\"+\n     \"may be due to a slow or bad network connection. Possible fixes:\\n\"+\n     \"</p>\\n\"+\n     \"<ul>\\n\"+\n     \"<li>re-rerun `output_notebook()` to attempt to load from CDN again, or</li>\\n\"+\n     \"<li>use INLINE resources instead, as so:</li>\\n\"+\n     \"</ul>\\n\"+\n     \"<code>\\n\"+\n     \"from bokeh.resources import INLINE\\n\"+\n     \"output_notebook(resources=INLINE)\\n\"+\n     \"</code>\\n\"+\n     \"</div>\"}};\n\n  function display_loaded() {\n    const el = document.getElementById(\"11522\");\n    if (el != null) {\n      el.textContent = \"BokehJS is loading...\";\n    }\n    if (root.Bokeh !== undefined) {\n      if (el != null) {\n        el.textContent = \"BokehJS \" + root.Bokeh.version + \" successfully loaded.\";\n      }\n    } else if (Date.now() < root._bokeh_timeout) {\n      setTimeout(display_loaded, 100)\n    }\n  }\n\n  function run_callbacks() {\n    try {\n      root._bokeh_onload_callbacks.forEach(function(callback) {\n        if (callback != null)\n          callback();\n      });\n    } finally {\n      delete root._bokeh_onload_callbacks\n    }\n    console.debug(\"Bokeh: all callbacks have finished\");\n  }\n\n  function load_libs(css_urls, js_urls, callback) {\n    if (css_urls == null) css_urls = [];\n    if (js_urls == null) js_urls = [];\n\n    root._bokeh_onload_callbacks.push(callback);\n    if (root._bokeh_is_loading > 0) {\n      console.debug(\"Bokeh: BokehJS is being loaded, scheduling callback at\", now());\n      return null;\n    }\n    if (js_urls == null || js_urls.length === 0) {\n      run_callbacks();\n      return null;\n    }\n    console.debug(\"Bokeh: BokehJS not loaded, scheduling load and callback at\", now());\n    root._bokeh_is_loading = css_urls.length + js_urls.length;\n\n    function on_load() {\n      root._bokeh_is_loading--;\n      if (root._bokeh_is_loading === 0) {\n        console.debug(\"Bokeh: all BokehJS libraries/stylesheets loaded\");\n        run_callbacks()\n      }\n    }\n\n    function on_error(url) {\n      console.error(\"failed to load \" + url);\n    }\n\n    for (let i = 0; i < css_urls.length; i++) {\n      const url = css_urls[i];\n      const element = document.createElement(\"link\");\n      element.onload = on_load;\n      element.onerror = on_error.bind(null, url);\n      element.rel = \"stylesheet\";\n      element.type = \"text/css\";\n      element.href = url;\n      console.debug(\"Bokeh: injecting link tag for BokehJS stylesheet: \", url);\n      document.body.appendChild(element);\n    }\n\n    for (let i = 0; i < js_urls.length; i++) {\n      const url = js_urls[i];\n      const element = document.createElement('script');\n      element.onload = on_load;\n      element.onerror = on_error.bind(null, url);\n      element.async = false;\n      element.src = url;\n      console.debug(\"Bokeh: injecting script tag for BokehJS library: \", url);\n      document.head.appendChild(element);\n    }\n  };\n\n  function inject_raw_css(css) {\n    const element = document.createElement(\"style\");\n    element.appendChild(document.createTextNode(css));\n    document.body.appendChild(element);\n  }\n\n  const js_urls = [\"https://cdn.bokeh.org/bokeh/release/bokeh-2.4.3.min.js\", \"https://cdn.bokeh.org/bokeh/release/bokeh-gl-2.4.3.min.js\", \"https://cdn.bokeh.org/bokeh/release/bokeh-widgets-2.4.3.min.js\", \"https://cdn.bokeh.org/bokeh/release/bokeh-tables-2.4.3.min.js\", \"https://cdn.bokeh.org/bokeh/release/bokeh-mathjax-2.4.3.min.js\"];\n  const css_urls = [];\n\n  const inline_js = [    function(Bokeh) {\n      Bokeh.set_log_level(\"info\");\n    },\nfunction(Bokeh) {\n    }\n  ];\n\n  function run_inline_js() {\n    if (root.Bokeh !== undefined || force === true) {\n          for (let i = 0; i < inline_js.length; i++) {\n      inline_js[i].call(root, root.Bokeh);\n    }\nif (force === true) {\n        display_loaded();\n      }} else if (Date.now() < root._bokeh_timeout) {\n      setTimeout(run_inline_js, 100);\n    } else if (!root._bokeh_failed_load) {\n      console.log(\"Bokeh: BokehJS failed to load within specified timeout.\");\n      root._bokeh_failed_load = true;\n    } else if (force !== true) {\n      const cell = $(document.getElementById(\"11522\")).parents('.cell').data().cell;\n      cell.output_area.append_execute_result(NB_LOAD_WARNING)\n    }\n  }\n\n  if (root._bokeh_is_loading === 0) {\n    console.debug(\"Bokeh: BokehJS loaded, going straight to plotting\");\n    run_inline_js();\n  } else {\n    load_libs(css_urls, js_urls, function() {\n      console.debug(\"Bokeh: BokehJS plotting callback run at\", now());\n      run_inline_js();\n    });\n  }\n}(window));",
      "application/vnd.bokehjs_load.v0+json": ""
     },
     "metadata": {},
     "output_type": "display_data"
    },
    {
     "data": {
      "text/html": [
       "\n",
       "  <div class=\"bk-root\" id=\"c7874816-5d98-40dc-b09d-58a7f3dda65e\" data-root-id=\"11564\"></div>\n"
      ]
     },
     "metadata": {},
     "output_type": "display_data"
    },
    {
     "data": {
      "application/javascript": "(function(root) {\n  function embed_document(root) {\n  const docs_json = {\"e602860a-fb25-43f3-b9cc-a07a87d87a61\":{\"defs\":[],\"roots\":{\"references\":[{\"attributes\":{\"children\":[{\"id\":\"11563\"},{\"id\":\"11561\"}]},\"id\":\"11564\",\"type\":\"Column\"},{\"attributes\":{},\"id\":\"11384\",\"type\":\"PanTool\"},{\"attributes\":{\"line_alpha\":0.1,\"line_color\":\"red\",\"line_width\":2,\"x\":{\"field\":\"x\"},\"y\":{\"field\":\"y\"}},\"id\":\"11476\",\"type\":\"Line\"},{\"attributes\":{\"fill_alpha\":{\"value\":0.1},\"fill_color\":{\"field\":\"col\"},\"hatch_alpha\":{\"value\":0.1},\"hatch_color\":{\"field\":\"col\"},\"line_alpha\":{\"value\":0.1},\"line_color\":{\"field\":\"col\"},\"marker\":{\"value\":\"triangle\"},\"size\":{\"value\":7},\"x\":{\"field\":\"x\"},\"y\":{\"field\":\"y\"}},\"id\":\"11454\",\"type\":\"Scatter\"},{\"attributes\":{},\"id\":\"11539\",\"type\":\"Selection\"},{\"attributes\":{\"source\":{\"id\":\"11480\"}},\"id\":\"11485\",\"type\":\"CDSView\"},{\"attributes\":{\"line_alpha\":0.8,\"line_color\":\"blue\",\"line_width\":2,\"x\":{\"field\":\"x\"},\"y\":{\"field\":\"y\"}},\"id\":\"11499\",\"type\":\"Line\"},{\"attributes\":{},\"id\":\"11407\",\"type\":\"AllLabels\"},{\"attributes\":{\"data\":{\"Idx\":[0,1,2,3,4,5,6,7,8,9,10,11,12,13,14,15,16,17,18,19,20,21,22,23,24,25,26,27,28,29,30,31,32,33,34,35,36,37,38,39,40,41,42,43,44,45,46,47,48,49,50,51,52,53,54,55,56,57,58,59,60,61,62,63,64,65,66,67,68,69,70,71,72,73,74,75,76,77,78,79,80,81,82,83,84,85,86,87,88,89,90,91,92,93,94,95,96,97,98,99,100,101,102,103,104,105,106,107,108,109,110,111,112,113,114,115,116,117,118,119,120,121,122,123,124,125,126,127,128,129,130,131,132,133,134,135,136,137,138,139,140,141,142,143,144,145,146,147,148,149,150,151,152,153,154,155,156,157,158,159,160,161,162,163,164,165,166,167,168,169,170,171,172,173,174,175,176,177,178,179,180,181,182,183,184,185,186,187,188,189,190,191,192,193,194,195,196,197,198,199,200,201,202,203,204,205,206,207,208,209,210,211,212,213,214,215,216,217,218,219,220,221,222,223,224,225,226,227,228,229,230,231,232,233,234,235,236,237,238,239,240,241,242,243,244,245,246,247,248,249,250,251,252,253,254,255,256,257,258,259,260,261,262,263,264,265,266,267,268,269,270,271,272,273,274,275,276,277,278,279,280,281,282,283,284,285,286,287,288,289,290,291,292,293,294,295,296,297,298,299,300,301,302,303,304,305,306,307,308,309,310,311,312,313,314,315,316,317,318,319,320,321,322,323,324,325,326,327,328,329,330,331,332,333,334,335,336,337,338,339,340,341,342,343,344,345,346,347,348,349,350,351,352,353,354,355,356,357,358,359,360,361,362,363,364,365,366,367,368,369,370,371,372,373,374,375,376,377,378,379,380,381,382,383,384,385,386,387,388,389,390,391,392,393,394,395,396,397,398,399,400,401,402,403,404,405,406,407,408,409,410,411,412,413,414,415,416,417,418,419,420,421,422,423,424,425,426,427,428,429,430,431,432,433,434,435,436,437,438,439,440,441,442,443,444,445,446,447,448,449,450,451,452,453,454,455,456,457,458,459,460,461,462,463,464,465,466,467,468,469,470,471,472,473,474,475,476,477,478,479,480,481,482,483,484,485,486,487,488,489,490,491,492,493,494,495,496,497,498,499,500,501,502,503,504,505,506,507,508,509,510,511,512,513,514,515,516,517,518,519,520,521,522,523,524,525,526,527,528,529,530,531,532,533,534,535,536,537,538,539,540,541,542,543,544,545,546,547,548,549,550,551,552,553,554,555,556,557,558,559,560,561,562,563,564,565,566,567,568,569,570,571,572,573,574,575,576,577,578,579,580,581,582,583,584,585,586,587,588,589,590,591,592,593,594,595,596,597,598,599,600,601,602,603,604,605,606,607,608,609,610,611,612,613,614,615,616,617,618,619,620,621,622,623,624,625,626,627,628,629,630,631,632,633,634,635,636,637,638,639,640,641,642,643,644,645,646,647,648,649,650,651,652,653,654,655,656,657,658,659,660,661,662,663,664,665,666,667,668,669,670,671,672,673,674,675,676,677,678,679,680,681,682,683,684,685,686,687,688,689,690,691,692,693,694,695,696,697,698,699,700,701,702,703,704,705,706,707,708,709,710,711,712,713,714,715,716,717,718,719,720,721,722,723,724,725,726,727,728,729,730,731,732,733,734,735,736,737,738,739,740,741,742,743,744,745,746,747,748,749,750,751,752,753,754,755,756,757,758,759,760,761,762,763,764,765,766,767,768,769,770,771,772,773,774,775,776,777,778,779,780,781,782,783,784,785,786,787,788,789,790,791,792,793,794,795,796,797,798,799,800,801,802,803,804,805,806,807,808,809,810,811,812,813,814,815,816,817,818,819,820,821,822,823,824,825,826,827,828,829,830,831,832,833,834,835,836,837,838,839,840,841,842,843,844,845,846,847,848,849,850,851,852,853,854,855,856,857,858,859,860,861,862,863,864,865,866,867,868,869,870,871,872,873,874,875,876,877,878,879,880,881,882,883,884,885,886,887,888,889,890,891,892,893,894,895,896,897,898,899,900,901,902,903,904,905,906,907,908,909,910,911,912,913,914,915,916,917,918,919,920,921,922,923,924,925,926,927,928,929,930,931,932,933,934,935,936,937,938,939,940,941,942,943,944,945,946,947,948,949,950,951,952,953,954,955,956,957,958,959,960,961,962,963,964,965,966,967,968,969,970,971,972,973,974,975,976,977,978,979,980,981,982,983,984,985,986,987,988,989,990,991,992,993,994,995,996,997,998,999,1000,1001,1002,1003,1004,1005,1006,1007,1008,1009,1010,1011,1012,1013,1014,1015,1016,1017,1018,1019,1020,1021,1022,1023,1024,1025,1026,1027,1028,1029,1030,1031,1032,1033,1034,1035,1036,1037,1038,1039,1040,1041,1042,1043,1044,1045,1046,1047,1048,1049,1050,1051,1052,1053,1054,1055,1056,1057,1058,1059,1060,1061,1062,1063,1064,1065,1066,1067,1068,1069,1070,1071,1072,1073,1074,1075,1076,1077,1078,1079,1080,1081,1082,1083,1084,1085,1086,1087,1088,1089,1090,1091,1092,1093,1094,1095,1096,1097,1098,1099,1100,1101,1102,1103,1104,1105,1106,1107,1108,1109,1110,1111,1112,1113,1114,1115,1116,1117,1118,1119,1120,1121,1122,1123,1124,1125,1126,1127,1128,1129,1130,1131,1132,1133,1134,1135,1136,1137,1138,1139,1140,1141,1142,1143,1144,1145,1146,1147,1148,1149,1150,1151,1152,1153,1154,1155,1156,1157,1158,1159,1160,1161,1162,1163,1164,1165,1166,1167,1168,1169,1170,1171,1172,1173,1174,1175,1176,1177,1178,1179,1180,1181,1182,1183,1184,1185,1186,1187,1188,1189,1190,1191,1192,1193,1194,1195,1196,1197,1198,1199,1200,1201,1202,1203,1204,1205,1206,1207,1208,1209,1210,1211,1212,1213,1214,1215,1216,1217,1218,1219,1220,1221,1222,1223,1224,1225,1226,1227,1228,1229,1230,1231,1232,1233,1234,1235,1236,1237,1238,1239,1240,1241,1242,1243,1244,1245,1246,1247,1248,1249,1250,1251,1252,1253,1254,1255,1256,1257,1258,1259,1260,1261,1262,1263,1264,1265,1266,1267,1268,1269,1270,1271,1272,1273,1274,1275,1276,1277,1278,1279,1280,1281,1282,1283,1284,1285,1286,1287,1288,1289,1290,1291,1292,1293,1294,1295,1296,1297,1298,1299,1300,1301,1302,1303,1304,1305,1306,1307,1308,1309,1310,1311,1312,1313,1314,1315,1316,1317,1318,1319,1320,1321,1322,1323,1324,1325,1326,1327,1328,1329,1330,1331,1332,1333,1334,1335,1336,1337,1338,1339,1340,1341,1342,1343,1344,1345,1346,1347,1348,1349,1350,1351,1352,1353,1354,1355,1356,1357,1358,1359,1360,1361,1362,1363,1364,1365,1366,1367,1368,1369,1370,1371,1372,1373,1374,1375,1376,1377,1378,1379,1380,1381,1382,1383,1384,1385,1386,1387,1388,1389,1390,1391,1392,1393,1394,1395,1396,1397,1398,1399,1400,1401,1402,1403,1404,1405,1406,1407,1408,1409,1410,1411,1412,1413,1414,1415,1416,1417,1418,1419,1420,1421,1422,1423,1424,1425,1426,1427,1428,1429,1430,1431,1432,1433,1434,1435,1436,1437,1438,1439,1440,1441,1442,1443,1444,1445,1446,1447,1448,1449,1450,1451,1452,1453,1454,1455,1456,1457,1458,1459,1460,1461,1462,1463,1464,1465,1466,1467,1468,1469,1470,1471,1472,1473,1474,1475,1476,1477,1478,1479,1480,1481,1482,1483,1484,1485],\"col\":[\"green\",\"green\",\"green\",\"green\",\"green\",\"green\",\"green\",\"green\",\"green\",\"green\",\"green\",\"green\",\"green\",\"green\",\"green\",\"green\",\"green\",\"green\",\"green\",\"green\",\"green\",\"green\",\"green\",\"green\",\"green\",\"green\",\"green\",\"green\",\"green\",\"green\",\"green\",\"green\",\"green\",\"green\",\"green\",\"green\",\"green\",\"green\",\"green\",\"green\",\"green\",\"green\",\"green\",\"green\",\"green\",\"green\",\"green\",\"green\",\"green\",\"green\",\"green\",\"green\",\"green\",\"green\",\"green\",\"green\",\"green\",\"green\",\"green\",\"green\",\"green\",\"green\",\"green\",\"green\",\"green\",\"green\",\"green\",\"green\",\"green\",\"green\",\"green\",\"green\",\"green\",\"green\",\"green\",\"green\",\"green\",\"green\",\"green\",\"green\",\"green\",\"green\",\"green\",\"green\",\"green\",\"green\",\"green\",\"green\",\"green\",\"green\",\"green\",\"green\",\"green\",\"green\",\"green\",\"green\",\"green\",\"green\",\"green\",\"green\",\"green\",\"green\",\"green\",\"green\",\"green\",\"green\",\"green\",\"green\",\"green\",\"green\",\"green\",\"green\",\"green\",\"green\",\"green\",\"green\",\"green\",\"green\",\"green\",\"green\",\"green\",\"green\",\"green\",\"green\",\"green\",\"green\",\"green\",\"green\",\"green\",\"green\",\"green\",\"green\",\"green\",\"green\",\"green\",\"green\",\"green\",\"green\",\"green\",\"green\",\"green\",\"green\",\"green\",\"green\",\"green\",\"green\",\"green\",\"green\",\"green\",\"green\",\"green\",\"green\",\"green\",\"green\",\"green\",\"green\",\"green\",\"green\",\"green\",\"green\",\"green\",\"green\",\"green\",\"green\",\"green\",\"green\",\"green\",\"green\",\"green\",\"green\",\"green\",\"green\",\"green\",\"green\",\"green\",\"green\",\"green\",\"green\",\"green\",\"green\",\"green\",\"green\",\"green\",\"green\",\"green\",\"green\",\"green\",\"green\",\"green\",\"green\",\"green\",\"green\",\"green\",\"green\",\"green\",\"green\",\"green\",\"green\",\"green\",\"green\",\"green\",\"green\",\"green\",\"green\",\"green\",\"green\",\"green\",\"green\",\"green\",\"green\",\"green\",\"green\",\"green\",\"green\",\"green\",\"green\",\"green\",\"green\",\"green\",\"green\",\"green\",\"green\",\"green\",\"green\",\"green\",\"green\",\"green\",\"green\",\"green\",\"green\",\"green\",\"green\",\"green\",\"green\",\"green\",\"green\",\"green\",\"green\",\"green\",\"green\",\"green\",\"green\",\"green\",\"green\",\"green\",\"green\",\"green\",\"green\",\"green\",\"green\",\"green\",\"green\",\"green\",\"green\",\"green\",\"green\",\"green\",\"green\",\"green\",\"green\",\"green\",\"green\",\"green\",\"green\",\"green\",\"green\",\"green\",\"green\",\"green\",\"green\",\"green\",\"green\",\"green\",\"green\",\"green\",\"green\",\"green\",\"green\",\"green\",\"green\",\"green\",\"green\",\"green\",\"green\",\"green\",\"green\",\"green\",\"green\",\"green\",\"green\",\"green\",\"green\",\"green\",\"green\",\"green\",\"green\",\"green\",\"green\",\"green\",\"green\",\"green\",\"green\",\"green\",\"green\",\"green\",\"green\",\"green\",\"green\",\"green\",\"green\",\"green\",\"green\",\"green\",\"green\",\"green\",\"green\",\"green\",\"green\",\"green\",\"green\",\"green\",\"green\",\"green\",\"green\",\"green\",\"green\",\"green\",\"green\",\"green\",\"green\",\"green\",\"green\",\"green\",\"green\",\"green\",\"green\",\"green\",\"green\",\"green\",\"green\",\"green\",\"green\",\"green\",\"green\",\"green\",\"green\",\"green\",\"green\",\"green\",\"green\",\"green\",\"green\",\"green\",\"green\",\"green\",\"green\",\"green\",\"green\",\"green\",\"green\",\"green\",\"green\",\"green\",\"green\",\"green\",\"green\",\"green\",\"green\",\"green\",\"green\",\"green\",\"green\",\"green\",\"green\",\"green\",\"green\",\"green\",\"green\",\"green\",\"green\",\"green\",\"green\",\"green\",\"green\",\"green\",\"green\",\"green\",\"green\",\"green\",\"green\",\"green\",\"green\",\"green\",\"green\",\"green\",\"green\",\"green\",\"green\",\"green\",\"green\",\"green\",\"green\",\"green\",\"green\",\"green\",\"green\",\"green\",\"green\",\"green\",\"green\",\"green\",\"green\",\"green\",\"green\",\"green\",\"green\",\"green\",\"green\",\"green\",\"green\",\"green\",\"green\",\"green\",\"green\",\"green\",\"green\",\"green\",\"green\",\"green\",\"green\",\"green\",\"green\",\"green\",\"green\",\"green\",\"green\",\"green\",\"green\",\"green\",\"green\",\"green\",\"green\",\"green\",\"green\",\"green\",\"green\",\"green\",\"green\",\"green\",\"green\",\"green\",\"green\",\"green\",\"green\",\"green\",\"green\",\"green\",\"green\",\"green\",\"green\",\"green\",\"green\",\"green\",\"green\",\"green\",\"green\",\"green\",\"green\",\"green\",\"green\",\"green\",\"green\",\"green\",\"green\",\"green\",\"green\",\"green\",\"green\",\"green\",\"green\",\"green\",\"green\",\"green\",\"green\",\"green\",\"green\",\"green\",\"green\",\"green\",\"green\",\"green\",\"green\",\"green\",\"green\",\"green\",\"green\",\"green\",\"green\",\"green\",\"green\",\"green\",\"green\",\"green\",\"green\",\"green\",\"green\",\"green\",\"green\",\"green\",\"green\",\"green\",\"green\",\"green\",\"green\",\"green\",\"green\",\"green\",\"green\",\"green\",\"green\",\"green\",\"green\",\"green\",\"green\",\"green\",\"green\",\"green\",\"green\",\"green\",\"green\",\"green\",\"green\",\"green\",\"green\",\"green\",\"green\",\"green\",\"green\",\"green\",\"green\",\"green\",\"green\",\"green\",\"green\",\"green\",\"green\",\"green\",\"green\",\"green\",\"green\",\"green\",\"green\",\"green\",\"green\",\"green\",\"green\",\"green\",\"green\",\"green\",\"green\",\"green\",\"green\",\"green\",\"green\",\"green\",\"green\",\"green\",\"green\",\"green\",\"green\",\"green\",\"green\",\"green\",\"green\",\"green\",\"green\",\"green\",\"green\",\"green\",\"green\",\"green\",\"green\",\"green\",\"green\",\"green\",\"green\",\"green\",\"green\",\"green\",\"green\",\"green\",\"green\",\"green\",\"green\",\"green\",\"green\",\"green\",\"green\",\"green\",\"green\",\"green\",\"green\",\"green\",\"green\",\"green\",\"green\",\"green\",\"green\",\"green\",\"green\",\"green\",\"green\",\"green\",\"green\",\"green\",\"green\",\"green\",\"green\",\"green\",\"green\",\"green\",\"green\",\"green\",\"green\",\"green\",\"green\",\"green\",\"green\",\"green\",\"green\",\"green\",\"green\",\"green\",\"green\",\"green\",\"green\",\"green\",\"green\",\"green\",\"green\",\"green\",\"green\",\"green\",\"green\",\"green\",\"green\",\"green\",\"green\",\"green\",\"green\",\"green\",\"green\",\"green\",\"green\",\"green\",\"green\",\"green\",\"green\",\"green\",\"green\",\"green\",\"green\",\"green\",\"green\",\"green\",\"green\",\"green\",\"green\",\"green\",\"green\",\"green\",\"green\",\"green\",\"green\",\"green\",\"green\",\"green\",\"green\",\"green\",\"green\",\"green\",\"green\",\"green\",\"green\",\"green\",\"green\",\"green\",\"green\",\"green\",\"green\",\"green\",\"green\",\"green\",\"green\",\"green\",\"green\",\"green\",\"green\",\"green\",\"green\",\"green\",\"green\",\"green\",\"green\",\"green\",\"green\",\"green\",\"green\",\"green\",\"green\",\"green\",\"green\",\"green\",\"green\",\"green\",\"green\",\"green\",\"green\",\"green\",\"green\",\"green\",\"green\",\"green\",\"green\",\"green\",\"green\",\"green\",\"green\",\"green\",\"green\",\"green\",\"green\",\"green\",\"green\",\"green\",\"green\",\"green\",\"green\",\"green\",\"green\",\"green\",\"green\",\"green\",\"green\",\"green\",\"green\",\"green\",\"green\",\"green\",\"green\",\"green\",\"green\",\"green\",\"green\",\"green\",\"green\",\"green\",\"green\",\"green\",\"green\",\"green\",\"green\",\"green\",\"green\",\"green\",\"green\",\"green\",\"green\",\"green\",\"green\",\"green\",\"green\",\"green\",\"green\",\"green\",\"green\",\"green\",\"green\",\"green\",\"green\",\"green\",\"green\",\"green\",\"green\",\"green\",\"green\",\"green\",\"green\",\"green\",\"green\",\"green\",\"green\",\"green\",\"green\",\"green\",\"green\",\"green\",\"green\",\"green\",\"green\",\"green\",\"green\",\"green\",\"green\",\"green\",\"green\",\"green\",\"green\",\"green\",\"green\",\"green\",\"green\",\"green\",\"green\",\"green\",\"green\",\"green\",\"green\",\"green\",\"green\",\"green\",\"green\",\"green\",\"green\",\"green\",\"green\",\"green\",\"green\",\"green\",\"green\",\"green\",\"green\",\"green\",\"green\",\"green\",\"green\",\"green\",\"green\",\"green\",\"green\",\"green\",\"green\",\"green\",\"green\",\"green\",\"green\",\"green\",\"green\",\"green\",\"green\",\"green\",\"green\",\"green\",\"green\",\"green\",\"green\",\"green\",\"green\",\"green\",\"green\",\"green\",\"green\",\"green\",\"green\",\"green\",\"green\",\"green\",\"green\",\"green\",\"green\",\"green\",\"green\",\"green\",\"green\",\"green\",\"green\",\"green\",\"green\",\"green\",\"green\",\"green\",\"green\",\"green\",\"green\",\"green\",\"green\",\"green\",\"green\",\"green\",\"green\",\"green\",\"green\",\"green\",\"green\",\"green\",\"green\",\"green\",\"green\",\"green\",\"green\",\"green\",\"green\",\"green\",\"green\",\"green\",\"green\",\"green\",\"green\",\"green\",\"green\",\"green\",\"green\",\"green\",\"green\",\"green\",\"green\",\"green\",\"green\",\"green\",\"green\",\"green\",\"green\",\"green\",\"green\",\"green\",\"green\",\"green\",\"green\",\"green\",\"green\",\"green\",\"green\",\"green\",\"green\",\"green\",\"green\",\"green\",\"green\",\"green\",\"green\",\"green\",\"green\",\"green\",\"green\",\"green\",\"green\",\"green\",\"green\",\"green\",\"green\",\"green\",\"green\",\"green\",\"green\",\"green\",\"green\",\"green\",\"green\",\"green\",\"green\",\"green\",\"green\",\"green\",\"green\",\"green\",\"green\",\"green\",\"green\",\"green\",\"green\",\"green\",\"green\",\"green\",\"green\",\"green\",\"green\",\"green\",\"green\",\"green\",\"green\",\"green\",\"green\",\"green\",\"green\",\"green\",\"green\",\"green\",\"green\",\"green\",\"green\",\"green\",\"green\",\"green\",\"green\",\"green\",\"green\",\"green\",\"green\",\"green\",\"green\",\"green\",\"green\",\"green\",\"green\",\"green\",\"green\",\"green\",\"green\",\"green\",\"green\",\"green\",\"green\",\"green\",\"green\",\"green\",\"green\",\"green\",\"green\",\"green\",\"green\",\"green\",\"green\",\"green\",\"green\",\"green\",\"green\",\"green\",\"green\",\"green\",\"green\",\"green\",\"green\",\"green\",\"green\",\"green\",\"green\",\"green\",\"green\",\"green\",\"green\",\"green\",\"green\",\"green\",\"green\",\"green\",\"green\",\"green\",\"green\",\"green\",\"green\",\"green\",\"green\",\"green\",\"green\",\"green\",\"green\",\"green\",\"green\",\"green\",\"green\",\"green\",\"green\",\"green\",\"green\",\"green\",\"green\",\"green\",\"green\",\"green\",\"green\",\"green\",\"green\",\"green\",\"green\",\"green\",\"green\",\"green\",\"green\",\"green\",\"green\",\"green\",\"green\",\"green\",\"green\",\"green\",\"green\",\"green\",\"green\",\"green\",\"green\",\"green\",\"green\",\"green\",\"green\",\"green\",\"green\",\"green\",\"green\",\"green\",\"green\",\"green\",\"green\",\"green\",\"green\",\"green\",\"green\",\"green\",\"green\",\"green\",\"green\",\"green\",\"green\",\"green\",\"green\",\"green\",\"green\",\"green\",\"green\",\"green\",\"green\",\"green\",\"green\",\"green\",\"green\",\"green\",\"green\",\"green\",\"green\",\"green\",\"green\",\"green\",\"green\",\"green\",\"green\",\"green\",\"green\",\"green\",\"green\",\"green\",\"green\",\"green\",\"green\",\"green\",\"green\",\"green\",\"green\",\"green\",\"green\",\"green\",\"green\",\"green\",\"green\",\"green\",\"green\",\"green\",\"green\",\"green\",\"green\",\"green\",\"green\",\"green\",\"green\",\"green\",\"green\",\"green\",\"green\",\"green\",\"green\",\"green\",\"green\",\"green\",\"green\",\"green\",\"green\",\"green\",\"green\",\"green\",\"green\",\"green\",\"green\",\"green\",\"green\",\"green\",\"green\",\"green\",\"green\",\"green\",\"green\",\"green\",\"green\",\"green\",\"green\",\"green\",\"green\",\"green\",\"green\",\"green\",\"green\",\"green\",\"green\",\"green\",\"green\",\"green\",\"green\",\"green\",\"green\",\"green\",\"green\",\"green\",\"green\",\"green\",\"green\",\"green\",\"green\",\"green\",\"green\",\"green\",\"green\",\"green\",\"green\",\"green\",\"green\",\"green\",\"green\",\"green\",\"green\",\"green\",\"green\",\"green\",\"green\",\"green\",\"green\",\"green\",\"green\",\"green\",\"green\",\"green\",\"green\",\"green\",\"green\",\"green\",\"green\",\"green\",\"green\",\"green\",\"green\",\"green\",\"green\",\"green\",\"green\",\"green\",\"green\",\"green\",\"green\",\"green\",\"green\",\"green\",\"green\",\"green\",\"green\",\"green\",\"green\",\"green\",\"green\",\"green\",\"green\",\"green\",\"green\",\"green\",\"green\",\"green\",\"green\",\"green\",\"green\",\"green\",\"green\",\"green\",\"green\",\"green\",\"green\",\"green\",\"green\",\"green\",\"green\",\"green\",\"green\",\"green\",\"green\",\"green\",\"green\",\"green\",\"green\",\"green\",\"green\",\"green\",\"green\",\"green\",\"green\",\"green\",\"green\",\"green\",\"green\",\"green\",\"green\",\"green\",\"green\",\"green\",\"green\",\"green\",\"green\",\"green\",\"green\",\"green\",\"green\",\"green\",\"green\",\"green\",\"green\",\"green\",\"green\",\"green\",\"green\",\"green\",\"green\",\"green\",\"green\",\"green\",\"green\",\"green\",\"green\",\"green\",\"green\",\"green\",\"green\",\"green\",\"green\",\"green\",\"green\",\"green\",\"green\",\"green\",\"green\",\"green\",\"green\",\"green\",\"green\",\"green\",\"green\",\"green\",\"green\",\"green\",\"green\",\"green\",\"green\",\"green\",\"green\",\"green\",\"green\",\"green\",\"green\",\"green\",\"green\",\"green\",\"green\",\"green\",\"green\",\"green\",\"green\",\"green\",\"green\",\"green\",\"green\",\"green\",\"green\",\"green\",\"green\",\"green\",\"green\",\"green\",\"green\",\"green\",\"green\",\"green\",\"green\",\"green\",\"green\",\"green\",\"green\",\"green\",\"green\",\"green\",\"green\",\"green\",\"green\",\"green\",\"green\",\"green\",\"green\",\"green\",\"green\",\"green\",\"green\",\"green\",\"green\",\"green\",\"green\",\"green\",\"green\",\"green\",\"green\",\"green\",\"green\",\"green\",\"green\",\"green\",\"green\",\"green\",\"green\",\"green\",\"green\",\"green\",\"green\",\"green\",\"green\",\"green\",\"green\",\"green\",\"green\",\"green\",\"green\",\"green\",\"green\",\"green\",\"green\",\"green\",\"green\",\"green\",\"green\",\"green\",\"green\",\"green\",\"green\",\"green\",\"green\",\"green\",\"green\",\"green\",\"green\",\"green\",\"green\",\"green\",\"green\",\"green\",\"green\",\"green\",\"green\",\"green\",\"green\",\"green\",\"green\",\"green\",\"green\",\"green\",\"green\",\"green\",\"green\",\"green\",\"green\",\"green\",\"green\",\"green\",\"green\",\"green\",\"green\",\"green\",\"green\",\"green\",\"green\",\"green\",\"green\",\"green\",\"green\",\"green\",\"green\",\"green\",\"green\"],\"group\":[null,null,null,null,null,null,null,null,null,null,null,null,null,null,null,null,null,null,null,null,null,null,null,null,null,null,null,null,null,null,null,null,null,null,null,null,null,null,null,null,null,null,null,null,null,null,null,null,null,null,null,null,null,null,null,null,null,null,null,null,null,null,null,null,null,null,null,null,null,null,null,null,null,null,null,null,null,null,null,null,null,null,null,null,null,null,null,null,null,null,null,null,null,null,null,null,null,null,null,null,null,null,null,null,null,null,null,null,null,null,null,null,null,null,null,null,null,null,null,null,null,null,null,null,null,null,null,null,null,null,null,null,null,null,null,null,null,null,null,null,null,null,null,null,null,null,null,null,null,null,null,null,null,null,null,null,null,null,null,null,null,null,null,null,null,null,null,null,null,null,null,null,null,null,null,null,null,null,null,null,null,null,null,null,null,null,null,null,null,null,null,null,null,null,null,null,null,null,null,null,null,null,null,null,null,null,null,null,null,null,null,null,null,null,null,null,null,null,null,null,null,null,null,null,null,null,null,null,null,null,null,null,null,null,null,null,null,null,null,null,null,null,null,null,null,null,null,null,null,null,null,null,null,null,null,null,null,null,null,null,null,null,null,null,null,null,null,null,null,null,null,null,null,null,null,null,null,null,null,null,null,null,null,null,null,null,null,null,null,null,null,null,null,null,null,null,null,null,null,null,null,null,null,null,null,null,null,null,null,null,null,null,null,null,null,null,null,null,null,null,null,null,null,null,null,null,null,null,null,null,null,null,null,null,null,null,null,null,null,null,null,null,null,null,null,null,null,null,null,null,null,null,null,null,null,null,null,null,null,null,null,null,null,null,null,null,null,null,null,null,null,null,null,null,null,null,null,null,null,null,null,null,null,null,null,null,null,null,null,null,null,null,null,null,null,null,null,null,null,null,null,null,null,null,null,null,null,null,null,null,null,null,null,null,null,null,null,null,null,null,null,null,null,null,null,null,null,null,null,null,null,null,null,null,null,null,null,null,null,null,null,null,null,null,null,null,null,null,null,null,null,null,null,null,null,null,null,null,null,null,null,null,null,null,null,null,null,null,null,null,null,null,null,null,null,null,null,null,null,null,null,null,null,null,null,null,null,null,null,null,null,null,null,null,null,null,null,null,null,null,null,null,null,null,null,null,null,null,null,null,null,null,null,null,null,null,null,null,null,null,null,null,null,null,null,null,null,null,null,null,null,null,null,null,null,null,null,null,null,null,null,null,null,null,null,null,null,null,null,null,null,null,null,null,null,null,null,null,null,null,null,null,null,null,null,null,null,null,null,null,null,null,null,null,null,null,null,null,null,null,null,null,null,null,null,null,null,null,null,null,null,null,null,null,null,null,null,null,null,null,null,null,null,null,null,null,null,null,null,null,null,null,null,null,null,null,null,null,null,null,null,null,null,null,null,null,null,null,null,null,null,null,null,null,null,null,null,null,null,null,null,null,null,null,null,null,null,null,null,null,null,null,null,null,null,null,null,null,null,null,null,null,null,null,null,null,null,null,null,null,null,null,null,null,null,null,null,null,null,null,null,null,null,null,null,null,null,null,null,null,null,null,null,null,null,null,null,null,null,null,null,null,null,null,null,null,null,null,null,null,null,null,null,null,null,null,null,null,null,null,null,null,null,null,null,null,null,null,null,null,null,null,null,null,null,null,null,null,null,null,null,null,null,null,null,null,null,null,null,null,null,null,null,null,null,null,null,null,null,null,null,null,null,null,null,null,null,null,null,null,null,null,null,null,null,null,null,null,null,null,null,null,null,null,null,null,null,null,null,null,null,null,null,null,null,null,null,null,null,null,null,null,null,null,null,null,null,null,null,null,null,null,null,null,null,null,null,null,null,null,null,null,null,null,null,null,null,null,null,null,null,null,null,null,null,null,null,null,null,null,null,null,null,null,null,null,null,null,null,null,null,null,null,null,null,null,null,null,null,null,null,null,null,null,null,null,null,null,null,null,null,null,null,null,null,null,null,null,null,null,null,null,null,null,null,null,null,null,null,null,null,null,null,null,null,null,null,null,null,null,null,null,null,null,null,null,null,null,null,null,null,null,null,null,null,null,null,null,null,null,null,null,null,null,null,null,null,null,null,null,null,null,null,null,null,null,null,null,null,null,null,null,null,null,null,null,null,null,null,null,null,null,null,null,null,null,null,null,null,null,null,null,null,null,null,null,null,null,null,null,null,null,null,null,null,null,null,null,null,null,null,null,null,null,null,null,null,null,null,null,null,null,null,null,null,null,null,null,null,null,null,null,null,null,null,null,null,null,null,null,null,null,null,null,null,null,null,null,null,null,null,null,null,null,null,null,null,null,null,null,null,null,null,null,null,null,null,null,null,null,null,null,null,null,null,null,null,null,null,null,null,null,null,null,null,null,null,null,null,null,null,null,null,null,null,null,null,null,null,null,null,null,null,null,null,null,null,null,null,null,null,null,null,null,null,null,null,null,null,null,null,null,null,null,null,null,null,null,null,null,null,null,null,null,null,null,null,null,null,null,null,null,null,null,null,null,null,null,null,null,null,null,null,null,null,null,null,null,null,null,null,null,null,null,null,null,null,null,null,null,null,null,null,null,null,null,null,null,null,null,null,null,null,null,null,null,null,null,null,null,null,null,null,null,null,null,null,null,null,null,null,null,null,null,null,null,null,null,null,null,null,null,null,null,null,null,null,null,null,null,null,null,null,null,null,null,null,null,null,null,null,null,null,null,null,null,null,null,null,null,null,null,null,null,null,null,null,null,null,null,null,null,null,null,null,null,null,null,null,null,null,null,null,null,null,null,null,null,null,null,null,null,null,null,null,null,null,null,null,null,null,null,null,null,null,null,null,null,null,null,null,null,null,null,null,null,null,null,null,null,null,null,null,null,null,null,null,null,null,null,null,null,null,null,null,null,null,null,null,null,null,null,null,null,null,null,null,null,null,null,null,null,null,null,null,null,null,null,null,null,null,null,null,null,null,null,null,null,null,null,null,null,null,null,null,null,null,null,null,null,null,null,null,null,null,null,null,null,null,null,null,null,null,null,null,null,null,null,null,null,null,null,null,null,null,null,null,null,null,null,null,null,null,null,null,null,null,null,null,null,null,null,null,null,null,null,null,null,null,null,null,null,null,null,null,null,null,null,null,null,null,null,null,null,null,null,null,null,null,null,null,null,null,null,null,null,null,null,null,null,null,null,null,null,null,null,null,null,null,null,null,null,null,null,null,null,null,null,null,null,null,null,null,null,null,null,null,null,null,null,null,null,null,null,null,null,null,null,null,null,null,null,null,null,null,null,null,null,null,null,null,null,null,null,null,null,null,null,null,null,null,null,null,null,null,null,null,null,null,null,null,null,null,null,null,null],\"x\":{\"__ndarray__\":\"7LbbLVJcm791uNzYGGWVv1Ma0AhGPo4/jrdfep1Ajz+h3qvvVmVivyE1jVYg32K/P3PQhGlxgz/mUdI8lkqCv64clZ1tnI0/obr7rtfjir+tApRrnP6QP0xQK1vtApA/F5XLBdPclT/VBCsD4yqAv6P01jfEC3Q/WEefE/3cgL9sQaRXjaihP/xcTkMw246/xFwGHdUObj9pvCDK7u2BP2IFPQLvYnG/AdS4sc8AUT+65W4/Yf1mPyATgcxOp5O/hpECUqeGeb+WG+VH55d/P+ZAvKkK9Jk/D8bT7dC/hz80oMrm8Zd/v/of6kURuGe/YbKWoJWzdj9yQLEjdCaWP2yzv7kg22m/px/SVSg8Wb+xSxIMgP9Sv41EADiurKE/I4XN3WpMjz/1p2/GNGSMPx7WmTTylIc/qhuWcSp6lT+B6xKRIMWXP+4IBtccrps/TXT5cEThkD/vkm0w3/ORP/U7qrYY0Iu/bV3v2fApbr8ulSqcaSqZPxuTQP2Thpg/wJQ432B1lz/g9qycqYeVP+UNzjRKYXA/1rpLgVPSkr+GqUR4evWOvzuNKHKIKWG/kXtCwWXDgL+t9MMaf1JiP3hteJEkAJu/fPvQ73khZL+anInfGe2JvwljTWDGb5O/kMZdXOEjdj8N5P1JSYdsPxeKciU1yFK/GjY/ut40lb9T2YmmeK+Rv1djjJK6HoY/4Gh3I4mzg79TeZhEuG2KP0dStbJEmIy/Hu9B5/2TOj/ozal5M3CRvybrQA+jXYM/kGRWisHlij+shaOvHlGLv1Kr4ac1AJE/MrZpypKsez8CH0DQYY2Ev9DHJvb/V32/fXpE+Ugmfr+yBBQn1/OVP1+tJZYNO6A/ZMZuddsPnj/tnyaduIKiP0XDrUc4j6A/DcIm8z9KXL8+3aNqvwKLvyx2hXgqEpI/cwMxAAw+nD9DjQxZ4CybPwjmFH6wH3c/8L1y+Kv9nD9bPsFXC7CXP72q5DKk9qE/PXUz/wgNnT9406i5fBCSPwu+pJtXPok/2F+0aEF3ij/T3PoO4PlIP2AI7BIO7IK/WFdw98HToD9kfI2utreaPzCOzaT7h6E/VPV7D72Znj9Kz6FooFuBv+MG3GRgOWi/oSJ9PNAYij87M6djkcONP5/IPAngtjI/HISHooR5bb/zNfQHGdeCv4ng+E/07Xs/Y0C+KrsMeD+Ydo0zMZKfP/nxvq/koXk/D2KMWMa1W78RxUJDnZBWv1ttG55OsJs/J4M7g20acr/tjnX54C6IvyR8O7Pdhpm/9jCCEY+hkj8fqYmdDKyhP0i7jV29m2M/6awNcP96YD+TkIM9iHBzP26QDgWS3YS/5PRFEGyqnT8BwMD+rPWEP3ohlszz74w/g3FeNBmOgz9cdpNalmyUP2uolyJTD5s/ulEwEK3JlL+ky5FxGa5Fvyz+8kfRjI+/6tpGxs11lb/ksNgqicxxv0M46wE9o4I/inRs84JVjz9ApMYIQb6KP7mF33VilZU/s0x75MQ5dT9Q3VCH8WhtP/58Rcur/Ym/Myuw8kY/d7+5UJWbEMSTv45j+HI84IA/9bUyp/n+kz8dwplnc0htPwEyBYVi34c/jcYb3LKHgT+eigJinOSOv5An9qXDhpi/VW6dZBPUYb+Fut1tHFaZP0+hxTgT2Zo/zVUpckRMfD9ufCmFgaiFP3kcQfZs5pY//OsXYvtvhb9Ap8OsVE2QP8lKZYpeR5k/iJqaGy0ckD95ScQ4oH6jP2iPRDozjHi/t1jpoP/ThT/RMdrwch05PxeD+ULbiI0/umw14cSSib/YKppMJxaIP58wlhSjDoU/K4m5Kswgh78U9BYt8ReQv2/Hg7PEmJy/zA1YVtEioT+nFTAYgs2YP7wl2X1mCp4//iG1ZzXxgr+KdVXT0JqYP+k5RGR8FJE/iCpMiVuPdz8hCLCz3GKQP+qMDD9nL2m/DmA0s4ABQb9XSvNqCJNyP5dM3Yi4kGU/OgqI4oWrmz8eeNH7paFiPzjBIbD355o/I5ojZwXXh78jOsssyRiVP2SeUCpVZJI/3s25oHeslz+AteFdM1Z8P8MZrMAX/YE/5YC2nPB5nj9Sma0ICP+YP6ZEW8hR7Ie/IuGjVUNckD9/jLOhLSWOP8SU4VB9CYE/gcViaYfDhz8q/YqiPp1zv7VT3Ux4y2o/KhlxzSh9Jz9CmlxgcR9+P7SrM8DjS4M/1gVwnRTvkD+1lLH50QJlvzMB/VP0pXI/fWv3WTvtlT8bAu9oAbSNP2/IRwj7JIk/YSs+8ImdiD8QxvHWOhN2v1T4DrDBX2m/NvfRa6tXWL9yaZ/6mStpPzuJWJWXHnu/ruk/W0f1U78zIjoXox6QP8uB1K8Yl28/YtB7VZjzbT+fQZ2bDf5av1NFZtpM2oI/dQpn6NaYUz+JnHoL3H+Lv4URoTszzoI/5qqSKzqDlT8lNO+l5UKaP6wwWKw1i5e/13QufyPLUr/V9NmVVHOIv9NdfR9l0Iw/hNiRLLqNmD+QzAnXAwubPwv43JGp6ZM/zEVNbmeQfz9FnO8ga9JuP36nEaT+fIs/gQ1i8Uasej/tal829JOMPxN8/CyZGJQ/Q0Jv9AVhkj8dMRRQx8ZqP0qg43tkuoo/1uph8FoxlD/epKzyBVmPPy3OptOfXY4/OCYQZ/xaSj/dCpbKcjiWP0IUChft35M/TpvE9mIhe7/ELsXCP/ZJv5GG9obG0X+/F+/DGHDWhr+EPMOPm5aNP4IbRf+8PI8/6lq4NbD4kj84Pp+pMA6RP+9lGdY5KoQ/DsGoQdDzhz+7gMi/WKiYP2+pk7tSWZg/bMPTSMzRlz8loNMo9aR8vxwk2yJYHny/KVSgYZFHnT+zb2/Uaml0vysRfdyR3og/koTO8++3h79T0zAMakSQvyko78T9oII/s+juCOjZnb9KVwHRM76dv69D8C5365q/vuBWkXYxhz+t83G8Ky1iv/JGdGfYR5w/K9hU7R4Rnz8Qd2FtURKdP60gH6ylRZM/GPQuIdXEVj+/yj1IOIGZP1lpJECCt3M/MWeQmMp8eT/SygHn7jqXP37cQlJ2aYK/9MRh4l4+kD9EWd47zmVov7py+mJgxpU/sVU2oZ/ZfD9dhtxp9EuaP78ma0ts2Xs/SfSMImrYir++LA1swaGDv4JTmlvLaZu/b5qJAiTZnr+uxRRhaheav4GzsfBd85K/N/3Sq5OPiz+hoKP3toNzv15ioR1ZCm2/PZvLfi0kfD++m3SYJbOBv1ucVDv6r5Y/quLN/kUfjr8JR2Wlc8KNvzjUga4fi2M/i0I+OOJib7+61allhUp+v+RUBdHfxoE/y3PR1lCrkj8WGGx1HROQP+tPDJHPt2O/Gou0YgaEjb+w5UgknHJvv6/JNB+MTJY/KXl555tnkj/c/6WxR05cPytA+yxQ05K/pyzC2hIfgb83z4Vqd3aKP9dw5TBEbYE/+DnGjPk9gz+Ia8umvGl0P1hvb91Cgno/H/Gc5znvlD+HG415GXmOP+hOu+j95IA/xpwhEf/Vcj8ioslwzBFvPxd+KkhhAHw/PGUMh/RAbb9fad1KaWiAPzMEajMScYQ/x3iXYJ92L78pqI9fNWiEv1DYdhXH/o8/JTdWiIcYiT+ic3Mlj955P16bm/urGp+/zxyYMy5xnr/rkM60ilKfv2nIw4c8VY6/U9YBL0xXhL9pQ4abxmuRP7EVCEVM6pE/AZw23A61lz9e8zoKMgGUvzXT6580CkI/zPJ6sUvqXT9TuVW3knB/Pw+me5Ira5I/D9uLzLJRhL89sbP3MWqLv7W+L6y9K4Q/siR2nD68jD9OQC8i8iOEvylG9gEn0ms/vqPzjX+phz8qMMoDajtzP04QOJK0KoW/QJKrZaD0dj8mm8Ns8w90Py2O5ZJ9lHw/44G5Q53Khj85XAWaoreEP2rCdzPJKoS/c84io2yadz9Pkg8DzxF3P9zl12n3zpE/TyJHFTxkkj9hBLBQwBSKP30zZeI5LJS/hjamqeuqlD//RXcyTTKYPxey5PpW05i/tmUK2wNBmL8Z2V9lMoCHP7axgPnqi5I/xFZxAqAkc78V2qB4ZjCVP3SEzlkLgpY/SqGjTWcIZr+UeRL0Ua2VPzJGRB2yTn8/LLGzycYrjz87yXqvR0WCP0yqJA5X4Ji/RIP/FEMSk7+7wrdyiMd5v5h0aFdl4oW/jixKnvSUeb/9vegF8UaZv+sb2EKiQpG/pLy6HCXHhr8J+nyro+91PzXpIk2Uio2/PSvRktegUz//Aqtx2FJ5v9WM2sWHM2W/dSZqyrTPer+tXngyrOhiv5hEVTvjQI2/RTsrSdGCjz/bYE/vEBdwP9dbiVv/joc/g4fmb0PpeT+GWje7a6N/P3ASKDDzGIQ/K0nXdr5ldj+DRuz1pTSFP8Y4IN3wIJI/+w4gt4euSL9QgKNdAlZ/P/Sr8gsAsmA/l6Hbrlx2cb/USf83mi6Fv0wz3H0OU5G/N7chrWBmSj+5q8k7hrxuP99qNq8vXpA/boxqkWWFg7+bU4VKsqQSv5lwVERo43U/lteBF3UClz9Gwo03rXaDP2B5xLa1fJW/ltK5JBHNg78NqUakDkGFP/MtD0668nw/3jrynN6ZiD/EFcR9NApxPykWRtyb+Ik/zIt2xB/tbT8PtQTtwFZ3v5Xi0L+9rX0/AFBnS8Mgjb/INYp/b4a1PgKeC0J+wWa/yf+/WwXzkb/pw38dDgSavy66qGswF26/5cJ+O5Sgab9ntWYYB4mYvwrNyAavH26/euaFQfFYaL8rwdD/TbJHv3p72XKgVoY/eChgYCgUjb8Q19fiaIicP6IALMi0vHO/CxpO7R7SnL+UJtZLb29cPwAAAAAAAEE5AAAAAAAAAAAAAAAAAABBOf8e3HIWDXO/NzqZae8VRT91a5nAaAQoP+FDIkljNpK/MEk7cZgckb8dNDvmN/uRv2G0r9QxMFu/XdQMy7u7az/l12LSp5yGv6VVF9TgN0A/RiyUAgZddr9Q/zceEYloP1fVpwVCBX+/0cSW486sYT+7P8Qfqi2Gv98uDg/R4IU/b3yJfywHhz/DOTZbVbmRv0+PqZAo1JO/lZuGFOVLhz+1mVax4Y2nP51r6NMt5KY/SMK+Ikgwhz/QnWIpXHeSP8RfGRKnyZg/V/agM1qnk79WCJCJ7F+Sv7YLIfKt14c/WrkHwNhLlz8FGbguSWOfPxbRoX1DiqA/WfCrRCMzir+Eay+kKyuZv3oGwNeXjou/gxlFtwbcYT8ll1oRzdVzP5R5yBOYF2I/IAFO3PecXD+Inl2vYWiUPzXBIAxnfII/UVvIwxQDbT80TN8pEW2SP3kQ0GqBD3k/A65Cog0xej+bu3HsR2tuP2F7B7v4KXE/VuFP+dfBkj+A27g723eNP9coTP/WuIQ/wTIP96bdjD8mKpi6JrqRPyEfRj9dXJI/4RD3jGjzkT8jjKxNOASFP467Wc7/LJk/JrVV2Nk7/r4+hnANEI9lP8H6BFALE5E/ZL75Vwj/hT/KDMsPqsOEP4MWxpK+1JM/wgSasjNxnD+8IIIW5eiZP0+SFhiEmzi/O35ok2evoD9TxucoRvuOP0MwihhYoZo/Fik6EnaVnD+Hc91L9uhvv6WyOcQeFpE/N6oB02w3oT+7Qyu5+HeXPz+Vznhta6M/DnlDoNBUmj9OI8D2OfmkP66z+sGn6KM/50rMzkuxZj83vI8jne2UPzBOrOezkns/PfBuc1ZwgL/u35JiauydP6P8ScyQ+o0/zafdASoypj/BX8NesEOlP7Cj+4biIqU/cm3WbevHpj8XyOiVAsamP6kMu6eo6aU/eX0RNo5zoj/S8ifIoNKjP9xBBWAnJ6I/T1XP2VYzpT8WzmkhioyjP1K+Y1NedKA/kbqLcUqnpD9SwD+j4zuhP4O8iabAuqI/zDdjJqSrnT+0ZfdqVh+eP4JGIKw/eJw/yocFE0tspj/MLje2na2mPyZ/fYDENqM/Jv888Rc8nj+djKuv4HikP1Gq00OE66Q/vG2dhGb6oD+0H6rPYNKcP+2tHRg4Rp4/6MY40V1qoz8iQpCJQCmhPwBa6N8+CJw/kXWT3Qa9oT9Qt4ES0sCiP85kaNqg5qI/L1ueY4gynT/IvdCLi1ajP7FwLDa+XKE/fvwu6Jcfhj9c+swL5GShPzmKfn686aI/eU72w52CmD+FsMDmOXaYP7jVNiTqRZw/y2C0/t+woD99pQNvmKqGPwJg0moTgZw/lLqhmWi8dz/PU9kj5WGFP0PYNK2YTpE/LLbCa85mdj9z9p2NY3OQP1+ltXhc4ZU/JnkpUBC5kj+zrN802VSRP1/h7CpJzIg/yP3EsRCKkD96N9X8m7t0v2+50ZJ4VJc/YyHW7XxXlj+DJ7D/75KYP4i7uEI4w48/f6AM/tzHmT8JQfJPM72RP6ZlYnqpapg/bHe9OGhmkj/CwofQvwKXPxkqELm0jJM/pJFvMkkGlT/Hbv9W9OqNPzSBy8MC94I/yXlW4VKOh78kFtqBzyGRv31001VWsYO/hcwWLwzdeb/pPMtEkYiAP/6oM8I9qYi/gwrhQ/THj7+yCvtqjmyavy4ZLyX49Zm/CYZc4svegz8yZC4u7YiRPz+NrWKkZZG/JKuLR7VMg790AqKqhweQvyqXEuJ4g5e/9s4mIyDvkL9AzPUeJ7qav7xivwLuX5m/SwJGgGKwlL+QcoxyRc+Wv/p/DGcU7pu/8Mcs7Rvkk79oLAB5LpaLvxuf0+t8w5O/xnNCBgOBgr8dVbteSMF6vwtwaRWfapC/Ihbz+v5wkb99AEpxkvGOvz9qTBcxoZS/ZPuXY1naY7/yHqRCGa1lP8YJdcDHjo2/OLRP3u+6lL/qMPUdSCGSv8ueSYRIQnU/yO4Ghqk1Zz9JRstmdXxFvzxddu7ROiO/3K/NL/4her8mKXqTn8p1P6hOKjh27IU/Rh4siZ03kD9A1OGNbZGLP0xixGcTHGc/KfCl16BngD84Ei23a1mVP4KB+T3buX6/VwhOZKSgkb8j21Ev+JaWv15Zwymruoi/9fBUdCrHhL8O44lAJcqKv5x/zqz3sJe/5d6UBfGJkb/ul31egjOTv5OOY4wu73+/rpiDwwu9hL/rQwzobM9tvz4ONVDtoo+/57yd9f9yez9RuTT8asCLP8OPaTVd6oA/Kizdg+CPiT9UZ3S0UtmBPwUjjdrj4Bw/DSoPYg1OdT9KDYEsHAqQP39HsTQsUZc/tqxcESwPjT9I65z2Qxl2P+c5HNA+coI/+FoOd7DPkz/iEF1dXeKYPxGudCOdYKA/Bsuev7+4oD/JuixGn+ORPwoqztvNGqA//Gf0j6eznD+ahaGD/EaZP/jInrV2fpA/HCHI3t6xkT+80nLTwZGPvzSdri+juUW/X4N6Egz8oD8KaWJFN66gP4ujovpdSoY/8VkmWz1OnT941wQDWbeYPxGFIMmQXYy/T927ADmldL8MsOTlbKt0vzvtVPCBRYC/LeJv8OG3db8VD0t92NuMv7XtpsKLe5G/g4ZUA/xrQr8MAuyeshdiP1L3dYTIwn2/cI4qWM7rdr97dUFH7ueHv7cATK1j0YI/y42dmCokdj/TSipBey9Yv5kfWnmfjG2/Ta5DwX5Fbb9oXrDCSySLP1nsZH+1J4K/h1ExFMOviT/3EutJ+0qAv8FQdYIUKWi/z62942JAlD+g5rVgTwNsPxXfwNMo45s/3DWr8rnui7+r78XzEXqDv/MCa9WptZS/qM7z1okTab+t2C27KyWQv7UXCPLgeYk/sSBKyDYYhT+eN/8gJ9pVPyyG6TfJvpC/LzGO9jaOVL8wXB6LEfyHv6XRJB0SWpY/YGG58wILmb8EHn1gVd6kPw+aQmeNAaQ/OgzVe+xMpT82rST/Td6kP5viSnJkLKQ/CdxjrIFpoD9uIwQOK7+jP9BBFS3AVqM/aJPpRHhKoz8/G5VUHjakP6dGaSxcP6Q/wNZZCxbZpT/9l+ur2EKiP6NPXu52P6U/H5uIi3yBpT+rUmMyicmiPwPP37WFTqM/d5SxUH4Moj+nqEzyC8+iP/veLkqsQqQ/0rOk3Z3hoz9rZ+1CS6egP9Cs1ua1y6I/pTfXaMVwoz8J86FlxwOmPxS/Zby53aU/JGO6n7Gaoz+/YAovex6iP72vnWWujqE/woYkR+UGoT+cgJszJ0ukP4aQAE7ZYaU/4/eES6g2pj+B1jMLU1mmP53vFnK1daU/Pde6pstFpT+T9Dm4lgyjP1hntsbFtKE/iD/YlCndoD+RquJUlMyhP3F+WfOUf6Q/7BviHGrvpT8q8JbxsT2mP6sWXx56bqU/LP8K1foYpj9V1siikYOlP7c/PofAuqQ/E4c/1LEgoz/NGYIdCEahP5EiykW1UaA/4k0CEx+dpD+58PvPZQOlP0pI3V6ZNKU/NlZy/BPCpD+gQ8O4PMukP8x3i8VbP6U/4ouHhpadoD/HB91D+XSmPx0Hs2qT8aI/UzLBtf5Woz/jOGuehJmhP2jepLUgA6Y/7O86j5eboz8iKAjRewycP0i9aeZhsqM/H+z47Hgzpj+T14NYAM6kP9Y81jH37qE/3eZQfaF8oD/jCHR2qo2bPwollkdHqqE/jXPGOrWioz//8op8KMOhP3VSAa/XKKM/eUq3xjWooT+dQ8edZV2lP08IZ+SSuqM/Growe8fLoj/sPe9XvoKiPy56HGKPZKA/bQnugjjUnT8w2kIlKV+jPzSBAItpV6I/HE5FCijMpT/e9CIU8ISlP29V+i5SEqM/iVT6Pu3zpD+d8W0WM6aiPwQOyXikVaM/fsYaIKWkoT8BujMcfQ2nP+AjtHTKsKM/zAj+rNycpj96lueioXGnP2qd27yVoqM/WKIn/hBZpT9KwG/yIzWjP745OSlHcaI/Nmr2ejAOoz+2VZiZasyiPwzHMqOVUaU/G4bvzRvLpj/BNF0TAimmPwAya62PZKM/M6rv7aPHoz+KppP+fMimP7ZXo6lJ4KY/7euB9howpD/ymLU//z2jPzccejhTbaI/hlBrGi8/oj/4HMgIl7eiPy8x1kBkH6Y/JXzHomjrpT/aK1kqJnyjP7Mj/Cg1daU/S294TwzToz8/2K57mnKkP5NJkk5VL6I/aW2C2HteoT8+Gdwt2d+jP5/AaSU2MKU/Ss747apToj+iMg3PRpCjP78yPyT/lqQ/zedYJHWkpD+vx2vNG62kP3J47txmB6I/tvRcoZWIpT+MzZBG7VCmP+hLasL17KQ/EiEfhLfRpD+k7Lms4rqlPxj799UcgqQ/ssBtajQDpj8LoTHKMdelP5ZCpEg6UaY/qJbmntuooT/m6Y9ikjulP2oxHcULgaM/t8RafuA0pT/NWRxYjk2lPxSzhbpuoqU/2PGk2bKDpT+BczVnCwinP9MqeXLRHKc/XSsv6mMmoz+6Xi5eoAGlP1gAf/a3GaM/9Ro9a8Jmoz8JJAI97SClP+WMdNxio6Q/GuosVa3PpD+pqvViRa2mPwQjMHYlraY/NrCYANNkoz8Rkp1NPcaiPyknWIpKgaI/G0zjDhDDpT9PhhG2sJGkP0GC7xjSHaM/bGA/1LGQoz9a2zKOYFWjP+drJ976xKE/+njvRAwQoj8O2nMzhzSlP0fc6YgTRKY/c4LLax6Bpj+Pug4mkb6lP0CBEvwgLaU/xLEOM0ThpD8SKPPmHZGlP8Sb5DelX6Y/3ZIB1opxpD+cvYVrtbikP91fJuryoqU/TTAi9IBFpj+GV9p3nUmjP9Zya1IFCaQ/A0fB2Wa7pj/h+/qJRzGmP19KWOnePKU/s7KKyytDpj/89Mt+aASjP2eCloc/Mqc/c3jwVMwIpT/9tZ/frzulP02Jq5sCzqY/Yoq6Dmoapj9+NhTsVq6iP8xNWQm8NaQ/ktWnMBSWpj9SM7w3cE+lP4n3S2UpzaQ/3RQ0pgeupT/pWbzn54imPzvYrtIhzqI/a08cb7a5oz9q/vVuV1akPyLPgK8vbqU/1NytxKcyoD+8aL+IulSlPzrLaBmm+aU/ozQaz86Hpj8JLnREl2ilPw2TIm/Yp6Y/1MjQ2pWioj9+0hshIiqkPxTD4cyaSKM/xbqDmXgYoz8NSlVfjAKjP7zoQQkN+6Q/1w67mDOspD8VQ/I6heakP7S1cuSkt6U/WplGREXUpT+IsdbZrlelPwi/2JUnX6A/QJArToe9pj/D62illzCmP7t5XxK8iKY/wDz5rTOnpj/fMLGTAO6bP8o9xTGhdqY/0fwEIsSTpD8AzPYIOVmmP+OKHLH4jqU/Jd7Hh95Qpz//wQjP9BqmP3ImWv8pKac/HtowDkwzpj9IVmv8DQGlP9izcHmpmqY/SsXfaFx1pD8VooTr9GamP4iuAyH8SaM/YGH1wCA9pz9qzDOFYQemPzz3AaM6b6Y/4O6N7muApz+ragGxIQKmP8FDxxj4raU/0O7FK3GGpD9RtvgqqeekP9Vt2HSl1aQ/juL0IQo3oz+pFxrR1q+kP4tHL0AqGaY/H7rLQTIxpj/qQu0BMtukP6eINWmFuKU/nnJJiYk6pD+WXhazd9ymPz7+x5V9fqM/mGet3MjUpj/mLw3ygrKkP5Ugj4LDQaY/B8OvFhifoz8UmVusVU+hP7DUxqRLJqU/z5bl7v6IpD84YCcjE2ylP/YCk9JNOKM/YEEpKEg2oD+egSjKliCiP5jKE8fKeqI/jTlpdG/CoT9l6BR3/z2iPzjZYyY1ep8/0ziJZvoUoT8sxo61Wg2lP3DiFWqjRKQ/yaHlcYIKpj/mWtzvCpeiP+4g4lZZlaU/ySNaX45GpD80lym3qM2kP5Xmnr83s5o/ijWXe/kZpD9TUYR/ZN2kP5iC9YzFIaU/jCNDSsqbnj82pnmvxW+iP8LhJEbvEKQ/ZCYk8Bl8oj9Ccub12xeiPzel3PpmdKQ/oI+2/pG1oD/Y13aPydyiP3r5Bhf2LKY/BzTbiOB5pT9+tRTwyRemP5b6SME8qKY/T3YdnPZFpj8VMubE6numP4TpLcELoaY/mgZugyP6oz/cblOoLA6mP0765efgY6Q/lf2pMAwhpz+8x8we/nelP5/oancjpaY/CwoLZRQKpj/HHIxgCFmnP1L6rCZXH6I/dc622X+YpT/TFVlr0SKkP+EiF9QpbqY/eQ3XDkJLpD+QszW2EmKmPw7zzaElNKU/RYrtIyIKpj9oaHhyXASnP5x64M00l6M/nKb4v5UCpD/P1B7TWOSjPyTlBmqT+qE/vD2Lw9fjoD/sTY7CvTOkPzVoMAxMhaQ/P/3lXNFEpT/+Ef0xKPWjP+6yxCDaDKM/27vxt75Voj8Rcm5TatOlP59bvGqLrqU/6eGsvRsyoz+bN+vZpbihP/6J7euzzqE/c53vcQ5epD+mJqEWsP2jP+6CrioVU6M/EtCZzfzToD+Y2Q+RA/6gP7ZRk+F+gqA/K+J/YuSRpD+KSALPbxulP/ZXDyk6kKM/AIMHHzjaoz++2k8CloSlP/UDC6HP06E/EVyixYSepT+Nbz9QFYqlP+c3kHkRNaQ/GVBlq2pMpT80kNtBa+yjPyhOPVJ9KaY/P0iIAH+9oT/w6ayZhW+lPyLTvDFtjKM/UsT/i1t/pD9VMLLxVcWjP8dcjJJ75KU/4Ay8UxR5oz+eOZWb866kP+r8rI3/o6E/WqWm4C7noz+3vNiPIa6hP3bREuXcu6M/jZgATVSJoz8KjfhhPE+jPwufPiVrB6M/Iw8dPHUroj/a23ZzXAWgP1hEAoe3rKI/yeq03RMWnz/X4oy+3JGkPyCgLxg8VqI/s6j/uDTMnz9s73pm4QeiP0+3AYm1fKM/J6kiHKdvoj/RuXljRByiP5DdGzLew6A/R4QzJxscoj8BuJq6S1CiP/yQ8CmnB6I/dk6IgKF9nz8MNtkNCaigPzgF3pqG/aE/CacIKAb9oj9c4DMEKO+gP2ntwGFwbZs/ChdwuAHQoD/g2DLW9V+ePzUkxWzer5w/aHDW7w3lnz/WrLuwRiyhP3NLQaZYsJ0/TI5IHDbHnz9TRw3d6kyfP7JZxCYuXpw/nbtL/T8Ooj9iautJCvGcPyN1lnc62qI/9mtyIng6oz+Jn063iVijP3HhkB3jfqE/zFaWGnDOoz8Hg9hZGoqiP2O/YBALWaE/0o6WSh+boz8kQL6b/2ijP2b7dS8tyaA/VXqag4XFoj9AYJTVFyWkPylWPiYUYqE/kf7rJN5hmz+mzYdWXfijP8ajsHtu+6A/ubCErZLvoT9GiQCno1ujP0v+tRZNgaI/X63Ch7/anT/7IpK2dZWaP4GdfzjeXqQ/tBdAg9RsoT+LDUQH3/KiP67Oupd2cqI/bG3Fp3eFoD9cn4XkPcefPzj7eoqw4Jo/CP9R3b4unT8huTwMkBigPylJ9KH8wp4/aW1thc+Qnz/ALuLJBVyYP075+0+muqA/rtqyCNMhoj+T7ErFzHagP0mIoITqj6E/RXENS4W1nT8YGP7WKc2gP6i544vSxp4/mQs4M+mimT/W4GwFh32hPyGLqxOD4aA/cXja/iGjoD8/W2+mCk+gPwljZKbEH6E/9LncwdJ7oj+W8Ie50ySgP3a6ybI7L6E/2duYvuIBoT+rfBpEGlqiPwXv3Eb8q5A/z2O22VhTmj9OnCW1YhGdP7NHseC/sJc/6IDQf/7znj/Sx8qFf5adPyM2uLR88Jw/rlUZzXqFnT+OQAnk7EOiP6l5l7aUrJY/lG/08vRHoj9KyCE0hCWhP2Xs6LlkQKQ/RCVFDkb0nj/30msTRfagP2c9JKRmR6M/gkDT70Twoz+aOaZ/edylP7Mw5GAnY6Q/wExqkUK/oT/v83M6M0mjP6uWziKDi6Q/tm/A/ANEpD+lbf5qO5GlPwNfWTCRiaM/t4EMN4KgpD+Zc8MJfFmjPwqvi3fu3qE/Lw8SC9sqoT84onKHwi2kP1nMcFSuOqM/px28OseYoz8ft0gV46ycP7ghN28s4aE/Apua/10goT//Kl2qRPiiPylLkSRXYqQ/aSBkmnN3mz9xlCTYzWCfP1JSWYDYEaQ/Pq0NlxvEoz9+LV05RqygP6jwUFn3g58/7zwRE6R3nz8Gpyn+UJ+jP4Qp5dFzxYW/GMfrRPFPfT9UCNMACgOFPy9/jeEPlJe/U8mE705Hlj+W1iYDbfxjvw2ml2ZH830/FCjKFab0Uz+9V2FKOSWOvzSf1hIikRS/7+2znL/NFD82LKSG4q5mv//9KT7rlnO/VusWlkTYdD+OQ9s33zWUPxt55U6PW4E/0sZQ8RQDiD+jLVoblD6BP10qUCnhD0k/hFJRDWgBhr+QspqKpp+BP7wYjgvFaGk/r0sJuKOIgj+VNYeEE6WIP8QjBTGPaIs/CIgn21X6n79SwPwa1VeSv6NhnD5PXYY/PeEp1ycegr9m+xgu39yWPwIRETAXxHW/Hlw/SZJDJD9yF/R6LsJGPyl/7yZtwDs/95ZsDnJmUb/wkfWxB5t+P6qEX8pr73m/j3phRh1Inr8dwZagpOl1P+m/L3WO/Ii/Wva5X/K+Pj8ZKYzZgUF6PxFMzWvc6Xk/9/jbC+WEnT8LSa/s1Yx8P7ymsxzOYIU//m6wMto7gb93kOt6W1CRP6T+tbHghlG/j1x2maVweT+zD+DH9+icv8W1U/+iqZS/SRvOCb9JiL+74ZjOV6JqP47i4v/oI4w/4326espqlb/PMnVQT1l2PxSfc2w2kJc/8sSt8JMjYD9U+auoEAFiv3jmFlWaYI0/02zpT35+kD8dajMsHslIv1ltFPMdEI8/e3ZtoUtYkT8PKQSHv3t2P7RD2D/UwG2/h1mnxS4biz/nAHvvWwR3v/HjYbsddYY/DgOsj3b0cr+r2iRvnIB5P+1+QB6cfHW/iqScOzRmcD86wZ2r4PmHP57/hae/oX0/wu9BZAE+hT/1UoWQRA54P4ssZTuGTFU/oNLnoWOReD8fHN3ojD6Sv3LIAzmTBI0/WKOB6dLyjD8J8DSks2+CP/tSIlREKHi/2NB0+D6Nkr8eghwAAHhLvxLc0veBGZS/ELGlDcaKoD/w9SsVh5V/vzDXT2qjSaA/Ijd1zm/Pkr+BhnUORumTP6SkSbzPd5E/N7MOMS5Gg79E0BACOYiUPxkdgPVt8Zg/aU86n1L/hT+a7dV/XaRrPzaEgGIy1lu/PoluqT5ldD8RY0T19FSRv2fCGLVc7XS/Af1jsQgeZT8kukchgS11P6CH5tVd2JA/NSZbn1yalj+UM29Uw0iGPyGPjXs8e5U/m0gFqiiLlj9VIj+cPQOcPwhm5Wjp+H4/jkHKcwM/fD9pazP5xG+Fv2JFwdONwi8/nybupFQPlz9QX+Zw49+Av3N9zG+pgGe/N1T6PjVjgr+nijAbemGAv18h4MwXlXg/MA3rU+bYlL/R33g2rpuNPz3sK6e9E4k/bQJKHk7Ggr9jiZDgj9mNP6g4W4bOHY0/RiZLnJvVaj+vDyjh3xBxv0TcqHZ5zIs/pUhMU/QinL9LIs7d3WFOP7TbX/lO+IK/eU9lVpq7iL9RLSveieBTv6VRjR3bwpG/Z009HqkDdL/9dPJLtS2Cv38bYZEtbIg/K/3uBbR3jr8KvhcncwqBP+tR/Y/cKE+/N4syjZvRaD/Mxzz8DZ5MP/6C/rMdwZK/tsch6YAvbb+c5xBvyq8/P/KZZ4J5HFk/+6ZXlo+8gT8QIhrhKIh1v5hdAdf/ZpC/cjG1XcT3jT8zU4NvSrJqv2sSJm4NDKA/9/KEh9vDjb+H0pc6QfVtP2Z+1OuMn5M/fK/+oqoEiz8hLQITbCSHP0ne6KgizIm/KuXJuZUvmT+1ZG6ryAGEv49okqcW9IO/91PdR8XTIz+IP9lQjMWKv4Rg2kmaf5C/2p2pTVNoaj+s7XP8KzR6PwVwH1bZtHc/uXSLTe5cdb/Y11d8DXOTP9qBLPcj15Q/KwQo6bwAjz9hbAHNKPqDP3CCfCD7aJQ/QOGmrIEjmD9FwJk4wS2Avw5SdzCXdHG/TxicXe7lh7/tFpOn81V2Pz/IvR2d+o4/7ydLawgXkD+y3ujEC06ZPzz4xUPTsVu/vd8lTN2qhL8yz8dvJwiIPzo7Vg/bE4W/I5n3BXtEd78BRsQojAiZvyf5jVPb6JY/bnkjO0vhhb/84PUYITeYP35ZOGnZjYk/+PuVDbzyaD8/ZyFceOB1v/4F8l3qXpG/V22l9okqdD9RIKjyFuYjP0K70yiJopY/fsU3OWHMnD826mbNJKdKP4rMncMpnX6/kL2D/RZSdr83zZCrmqhnvyg+5sSvEIs/bt00Th9ahb+5bs0MD5lxv+4NKYnXfpU/xq6d4OvKdz82EsxUqoqCv4cKZbCHaou/EGtevmKygb/cZxUOL8iHP2Ym2gk6ImI/BAx5NZTDWD91HOwDTsyGv3PBloo/IIK/gq5YKpGxgL+WiugqGgSQPw4ZnxG4y5Y/chtcFYU3gr9V08U3xhKAvzi0WXO4G4e/y/LoA7Rhd7+u9vmk6aeav72h+9k3WnM/vSf+wNx0kb8wZhRvUtyBP74ySspNCpE/zseCko26Zr/1soM6ZvKcv+tv1y40W6E/OFmdaovki78stL5oMRGQP7NGrRXjQIY/49DVygYhiT+Uc0GUrxWgP3C38hiGs6A/uxh+gtAfgb9+5P0JPdiaP7M2+ht7SlO/oh9trDXOgD/kJkfHzPdgvzoo3xJDuY0/3h/+GaUDir/42lGaCx1xP4lhXWAjE4w/ZhYTK1nmfT+5kvIx8vlrP8kJeiSqFoA/1HN7WHkBgD/UDTC97phnvy8faWHg24E/cBN36oWvhz9yV//1Drk4P2PrS5BK+oc/12uS0jLBdT8PazS8PeiIv6cCt/tJsVY/+abg2lxX1T4=\",\"dtype\":\"float64\",\"order\":\"little\",\"shape\":[1486]},\"y\":{\"__ndarray__\":\"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\",\"dtype\":\"float64\",\"order\":\"little\",\"shape\":[1486]}},\"selected\":{\"id\":\"11466\"},\"selection_policy\":{\"id\":\"11465\"}},\"id\":\"11418\",\"type\":\"ColumnDataSource\"},{\"attributes\":{\"axis\":{\"id\":\"11430\"},\"coordinates\":null,\"group\":null,\"ticker\":null},\"id\":\"11433\",\"type\":\"Grid\"},{\"attributes\":{\"source\":{\"id\":\"11492\"}},\"id\":\"11497\",\"type\":\"CDSView\"},{\"attributes\":{},\"id\":\"11465\",\"type\":\"UnionRenderers\"},{\"attributes\":{\"tools\":[{\"id\":\"11384\"},{\"id\":\"11385\"},{\"id\":\"11386\"},{\"id\":\"11387\"},{\"id\":\"11388\"},{\"id\":\"11389\"},{\"id\":\"11416\"}]},\"id\":\"11391\",\"type\":\"Toolbar\"},{\"attributes\":{\"axis_label\":\"PC 1 (30.3%)\",\"axis_label_text_font_size\":\"13pt\",\"coordinates\":null,\"formatter\":{\"id\":\"11463\"},\"group\":null,\"major_label_policy\":{\"id\":\"11464\"},\"ticker\":{\"id\":\"11431\"}},\"id\":\"11430\",\"type\":\"LinearAxis\"},{\"attributes\":{},\"id\":\"11438\",\"type\":\"PanTool\"},{\"attributes\":{\"fill_alpha\":{\"value\":0.1},\"fill_color\":{\"field\":\"col\"},\"hatch_alpha\":{\"value\":0.1},\"hatch_color\":{\"field\":\"col\"},\"line_alpha\":{\"value\":0.1},\"line_color\":{\"field\":\"col\"},\"size\":{\"value\":5},\"x\":{\"field\":\"x\"},\"y\":{\"field\":\"y\"}},\"id\":\"11400\",\"type\":\"Circle\"},{\"attributes\":{\"fill_alpha\":0.2,\"fill_color\":\"blue\",\"hatch_alpha\":0.2,\"hatch_color\":\"blue\",\"line_alpha\":0.2,\"line_color\":\"blue\",\"x\":{\"field\":\"x\"},\"y\":{\"field\":\"y\"}},\"id\":\"11519\",\"type\":\"Patch\"},{\"attributes\":{\"label\":{\"field\":\"group\"},\"renderers\":[{\"id\":\"11456\"}]},\"id\":\"11469\",\"type\":\"LegendItem\"},{\"attributes\":{\"below\":[{\"id\":\"11430\"}],\"center\":[{\"id\":\"11433\"},{\"id\":\"11437\"},{\"id\":\"11468\"},{\"id\":\"11472\"},{\"id\":\"11473\"}],\"height\":430,\"left\":[{\"id\":\"11434\"}],\"min_border_bottom\":20,\"min_border_left\":20,\"min_border_right\":20,\"min_border_top\":20,\"renderers\":[{\"id\":\"11456\"}],\"title\":{\"id\":\"11420\"},\"toolbar\":{\"id\":\"11445\"},\"toolbar_location\":null,\"width\":490,\"x_range\":{\"id\":\"11422\"},\"x_scale\":{\"id\":\"11426\"},\"y_range\":{\"id\":\"11424\"},\"y_scale\":{\"id\":\"11428\"}},\"id\":\"11419\",\"subtype\":\"Figure\",\"type\":\"Plot\"},{\"attributes\":{\"fill_alpha\":0.2,\"fill_color\":\"red\",\"hatch_alpha\":0.2,\"hatch_color\":\"red\",\"line_alpha\":0.2,\"line_color\":\"red\",\"x\":{\"field\":\"x\"},\"y\":{\"field\":\"y\"}},\"id\":\"11495\",\"type\":\"Patch\"},{\"attributes\":{\"coordinates\":null,\"data_source\":{\"id\":\"11480\"},\"glyph\":{\"id\":\"11481\"},\"group\":null,\"hover_glyph\":null,\"muted_glyph\":{\"id\":\"11483\"},\"nonselection_glyph\":{\"id\":\"11482\"},\"view\":{\"id\":\"11485\"}},\"id\":\"11484\",\"type\":\"GlyphRenderer\"},{\"attributes\":{\"source\":{\"id\":\"11498\"}},\"id\":\"11503\",\"type\":\"CDSView\"},{\"attributes\":{},\"id\":\"11439\",\"type\":\"WheelZoomTool\"},{\"attributes\":{\"overlay\":{\"id\":\"11444\"}},\"id\":\"11440\",\"type\":\"BoxZoomTool\"},{\"attributes\":{\"source\":{\"id\":\"11486\"}},\"id\":\"11491\",\"type\":\"CDSView\"},{\"attributes\":{},\"id\":\"11464\",\"type\":\"AllLabels\"},{\"attributes\":{},\"id\":\"11381\",\"type\":\"BasicTicker\"},{\"attributes\":{\"coordinates\":null,\"data_source\":{\"id\":\"11474\"},\"glyph\":{\"id\":\"11475\"},\"group\":null,\"hover_glyph\":null,\"muted_glyph\":{\"id\":\"11477\"},\"nonselection_glyph\":{\"id\":\"11476\"},\"view\":{\"id\":\"11479\"}},\"id\":\"11478\",\"type\":\"GlyphRenderer\"},{\"attributes\":{\"coordinates\":null,\"group\":null,\"line_alpha\":0.15,\"line_width\":3,\"location\":0},\"id\":\"11472\",\"type\":\"Span\"},{\"attributes\":{},\"id\":\"11538\",\"type\":\"UnionRenderers\"},{\"attributes\":{\"coordinates\":null,\"data_source\":{\"id\":\"11492\"},\"glyph\":{\"id\":\"11493\"},\"group\":null,\"hover_glyph\":null,\"muted_glyph\":{\"id\":\"11495\"},\"nonselection_glyph\":{\"id\":\"11494\"},\"view\":{\"id\":\"11497\"}},\"id\":\"11496\",\"type\":\"GlyphRenderer\"},{\"attributes\":{\"source\":{\"id\":\"11516\"}},\"id\":\"11521\",\"type\":\"CDSView\"},{\"attributes\":{},\"id\":\"11387\",\"type\":\"SaveTool\"},{\"attributes\":{\"fill_alpha\":0.07,\"fill_color\":\"blue\",\"hatch_alpha\":0.07,\"hatch_color\":\"blue\",\"line_alpha\":0.07,\"line_color\":\"blue\",\"x\":{\"field\":\"x\"},\"y\":{\"field\":\"y\"}},\"id\":\"11511\",\"type\":\"Patch\"},{\"attributes\":{\"source\":{\"id\":\"11418\"}},\"id\":\"11457\",\"type\":\"CDSView\"},{\"attributes\":{},\"id\":\"11537\",\"type\":\"Selection\"},{\"attributes\":{},\"id\":\"11409\",\"type\":\"BasicTickFormatter\"},{\"attributes\":{\"toolbars\":[{\"id\":\"11391\"},{\"id\":\"11445\"}],\"tools\":[{\"id\":\"11384\"},{\"id\":\"11385\"},{\"id\":\"11386\"},{\"id\":\"11387\"},{\"id\":\"11388\"},{\"id\":\"11389\"},{\"id\":\"11416\"},{\"id\":\"11438\"},{\"id\":\"11439\"},{\"id\":\"11440\"},{\"id\":\"11441\"},{\"id\":\"11442\"},{\"id\":\"11443\"},{\"id\":\"11470\"}]},\"id\":\"11562\",\"type\":\"ProxyToolbar\"},{\"attributes\":{},\"id\":\"11541\",\"type\":\"Selection\"},{\"attributes\":{\"toolbar\":{\"id\":\"11562\"},\"toolbar_location\":\"above\"},\"id\":\"11563\",\"type\":\"ToolbarBox\"},{\"attributes\":{\"bottom_units\":\"screen\",\"coordinates\":null,\"fill_alpha\":0.5,\"fill_color\":\"lightgrey\",\"group\":null,\"left_units\":\"screen\",\"level\":\"overlay\",\"line_alpha\":1.0,\"line_color\":\"black\",\"line_dash\":[4,4],\"line_width\":2,\"right_units\":\"screen\",\"syncable\":false,\"top_units\":\"screen\"},\"id\":\"11390\",\"type\":\"BoxAnnotation\"},{\"attributes\":{\"fill_alpha\":0.1,\"fill_color\":\"red\",\"hatch_alpha\":0.1,\"hatch_color\":\"red\",\"line_alpha\":0.1,\"line_color\":\"red\",\"x\":{\"field\":\"x\"},\"y\":{\"field\":\"y\"}},\"id\":\"11488\",\"type\":\"Patch\"},{\"attributes\":{},\"id\":\"11533\",\"type\":\"Selection\"},{\"attributes\":{\"source\":{\"id\":\"11364\"}},\"id\":\"11403\",\"type\":\"CDSView\"},{\"attributes\":{},\"id\":\"11532\",\"type\":\"UnionRenderers\"},{\"attributes\":{},\"id\":\"11546\",\"type\":\"UnionRenderers\"},{\"attributes\":{},\"id\":\"11411\",\"type\":\"UnionRenderers\"},{\"attributes\":{},\"id\":\"11463\",\"type\":\"BasicTickFormatter\"},{\"attributes\":{},\"id\":\"11547\",\"type\":\"Selection\"},{\"attributes\":{},\"id\":\"11389\",\"type\":\"HelpTool\"},{\"attributes\":{\"coordinates\":null,\"data_source\":{\"id\":\"11486\"},\"glyph\":{\"id\":\"11487\"},\"group\":null,\"hover_glyph\":null,\"muted_glyph\":{\"id\":\"11489\"},\"nonselection_glyph\":{\"id\":\"11488\"},\"view\":{\"id\":\"11491\"}},\"id\":\"11490\",\"type\":\"GlyphRenderer\"},{\"attributes\":{\"coordinates\":null,\"data_source\":{\"id\":\"11498\"},\"glyph\":{\"id\":\"11499\"},\"group\":null,\"hover_glyph\":null,\"muted_glyph\":{\"id\":\"11501\"},\"nonselection_glyph\":{\"id\":\"11500\"},\"view\":{\"id\":\"11503\"}},\"id\":\"11502\",\"type\":\"GlyphRenderer\"},{\"attributes\":{\"coordinates\":null,\"data_source\":{\"id\":\"11418\"},\"glyph\":{\"id\":\"11453\"},\"group\":null,\"hover_glyph\":null,\"muted_glyph\":{\"id\":\"11455\"},\"nonselection_glyph\":{\"id\":\"11454\"},\"view\":{\"id\":\"11457\"}},\"id\":\"11456\",\"type\":\"GlyphRenderer\"},{\"attributes\":{\"fill_alpha\":{\"value\":0.2},\"fill_color\":{\"field\":\"col\"},\"hatch_alpha\":{\"value\":0.2},\"hatch_color\":{\"field\":\"col\"},\"line_alpha\":{\"value\":0.2},\"line_color\":{\"field\":\"col\"},\"marker\":{\"value\":\"triangle\"},\"size\":{\"value\":7},\"x\":{\"field\":\"x\"},\"y\":{\"field\":\"y\"}},\"id\":\"11455\",\"type\":\"Scatter\"},{\"attributes\":{},\"id\":\"11435\",\"type\":\"BasicTicker\"},{\"attributes\":{},\"id\":\"11544\",\"type\":\"UnionRenderers\"},{\"attributes\":{\"data\":{\"x\":{\"__ndarray__\":\"mkzMuhoKSkBI3ne7Jd9JQDBIk9QToUlAei/GASVQSUDK+HmwrOxIQJYZ2mkRd0hAwuEhaczvR0DGsaQeaVdHQBJvEaCErkZAfGGFBs31RUBsZBW7AC5FQLFqhrLtV0RAGKn/mHB0Q0DYQJHuc4RCQPrleRXviEFAXq8kU+WCQEBv3cuJyeY+QNYgFZMKtzxAyxGywc54OkC9ZVoEZi44QFhaw9Ys2jVA+muC0ol+M0AAWYI16x0xQCkHL8GIdS1AoMWRoRavKEDwUdArbO0jQJoqWiThah5AlJtOFwIYFUDgjYtBr9cHQGCtVliyfuc/cJTjEvxK9784g+w0waUMwIBzLELLhxbAWK5AUAlpHsB40PSsPfciwHbHWEowiCbAnrk2aq/jKcDoE7YPRQYtwMrJhui17C/AiL/ZUAJKMcADlEV+unwywENzOlBHjTPA8Qdj0496NMCDN/1un0M1wN/X/OCm5zXAtxGxE/1lNsAvNBDMH742wPFO9i+07zbA6TDMI4f6NsBLQTZ/jd42wOPklBjkmzbAQZRKp88yNsAlR+Z8vKM1wOk5exU+7zTA2yWZfw4WNMA9pIGcDRkzwGdvYDlA+THAIGd0As+3MMAo8HyiCqwuwKBJ462fqivAyI0ISXZuKMA0G8wj5PokwH46AAx4UyHAnHwThez3GsCEqM0yqfASwDCOdnrZMgXAQPj/CAOt37+olvFOJ4n7P6QIUot86Q9AUK7NGzMzGUA4DJd4EEohQOw+52vuBiZAetP0J1HLKkBePMGsTpIvQN0CfCV9KzJAtrK82zSKNEBj3DYO3eI2QDVwVJEKMzlARi0W91p4O0A4IFIEd7A9QLnwZhoV2T9A+J9zyf33QEDMaGeFgflBQOQYck0M8EJAGHh+/Z/aQ0CUJ/jGSrhEQKYmDiooiEVAzpM94WFJRkB63DG+MPtGQMisFnfdnEdABPmHY8EtSEBsXl0oR61IQPDDn1HrGklA3oYK2jx2SUDMhIyf3b5JQMbqUMSC9ElAEsPr+/QWSkAitFrEECZKQDAun4rGIUpAmkzMuhoKSkA=\",\"dtype\":\"float64\",\"order\":\"little\",\"shape\":[100]},\"y\":{\"__ndarray__\":\"2m1tJsD0IED4VD8PT0EiQOqX6O7ubiNAFvGd2Wh8JEBCOjIHp2glQCBlbvG1MiZArC8ZT8XZJkAq0KvqKF0nQL5F1lNZvCdA1FAca/T2J0CuKPvGvQwoQFqqL/Ke/SdAfs/cgqfJJ0DCj3oKDXEnQPi8nd4q9CZAmsXRuoFTJkDcauU7t48lQJo0MzWVqSRAzp2V4AiiI0C+bt3pIXoiQDpYxlYRMyFAmPkUmVCcH0CwCrJorZkcQEYBLIBTYRlA5PzUoZT2FUBk6ZWC9lwSQLSf3VBeMA1AcKhRLkJYBUAEcq08XXP6P8gpqRQJdOM/EDevsSGp3b9gLWwZ3uf4vya/qXJaVgXADJG44j1TDsD2blPHqrATwLAXH/alOxjACOM+quHFHMCu+cnqV6UgwBQOLgG04iLAkEc0ELYYJcBMds6jFkUnwHlVZzWYZSnAxnAWewl4K8BozzaqR3otwDj4C6tAai/AliWYnfqiMMDOtEx+vYUxwJa1iTd/XDLAqOcUaWImM8AotMb2luIzwERkEN9akDTAHXb4AvsuNcC76b7e0701wLswazJSPDbA+QCWmfOpNsChktIRRwY3wOe7LG/tUDfAE9VDvpmJN8AHRJ2TEbA3wKTq3EctxDfAnWSlINjFN8Dn8fVlELU3wDsH8GPnkTfAKLECWYFcN8ALK45QFRU3wA8tJursuzbAlW6tDWRRNsCGmJiM6NU1wNNPurD5STXAkwkNuSeuNMAU6gFFEwM0wE717a5sSTPA2D1AVvOBMsC5djzadK0xwOtBBUbMzDDAnnOhXcLBL8Db7F+KTdUtwLhFv7Q11ivA4BdItYnGKcC2uXx7aagnwGHlJd0DfiXA2IlDVpRJI8AalvO7YA0hwE3/W8ltlx3AUoqAkNQNGcCsXfYzo4IUwE4pLn4R9Q/AtjnoG2L0BsBYnXvy/xj8v0jGgfVkGuW/UAQzwDei2j88/p/Cg3b3PxRnmzeu5QNAOC5rICHLC0D6Q3Vtu7ERQIbQ85FtUxVA8JDuo+jGGEBmkFztnQgcQKhstgYyFR9A2W1tJsD0IEA=\",\"dtype\":\"float64\",\"order\":\"little\",\"shape\":[100]}},\"selected\":{\"id\":\"11547\"},\"selection_policy\":{\"id\":\"11546\"}},\"id\":\"11516\",\"type\":\"ColumnDataSource\"},{\"attributes\":{\"data\":{\"x\":{\"__ndarray__\":\"qCHL+L19M0AXkzCPpnIzQBCU5s2fYjNA9JEiOrpNM0B2TlpeCzQzQNhyD7StFTNAdSmFiMDyMkAs33vcZ8syQKlvFD/MnzJAGv4ApBpwMkBjky41hDwyQNdFFyA+BTJAJijxXoHKMUAZgfJ9iowxQFXX51yZSzFAjSdc7fAHMUB0JJft1sEwQLCiuKCTeTBAlkw7hHEvMECmzVYGescvQAKawU6ILS9Am7MakqyRLkDuTeV5h/QtQIDpJgO7Vi1AnCls1+m4LECu0RulthssQCPCxHfDfytAGdITEbHlKkAAth1DHk4qQL3Ep0ynuSlAXl4YOOUoKUDG+rQ9bZwoQAh/0CnQFChAwGiIx5mSJ0AOrKpQUBYnQD3PWONzoCZAzOT2/X0xJkDchu4B4cklQEPtxr0HaiVAbKgL/1QSJUAXf3MsI8MkQKBrsOjDfCRAOchIvn8/JEC6aNDUlQskQCK3zq874SNAMO6U95zAI0A8Tz1M26kjQA23ASMOnSNAuEwNrkKaI0CSN+LOe6EjQNdhYROysiNAsld3vdPNI0A4WWbVxPIjQPjEmkZfISRANiPsBnNZJEAEWyJIxpokQG4FjLMV5SRA+HForxQ4JUAIz92tbZMlQLsQKoXC9iVAp62z0KxhJkC7IpZavtMmQARxPY2BTCdAZHmb7HnLJ0CNRHqWJFAoQGLwZsn42ShAZi+qcWhoKUA7Cb274PopQBrkoqvKkCpAwdKMuIspK0CwtyVshsQrQIII4wQbYSxAIOCyGqj+LEAHnl1Fi5wtQIOQ78MhOi5ACRd+JMnWLkD2S5vr33EvQFLMZR1jBTBAfc6oOm9QMEAERVPxxpkwQN+6+6Ye4TBA058B0SwmMUB+LVxAqmgxQCAa+2pSqDFAS3VtsuPkMUBM2oWnHx4yQD4+tkrLUzJAUwLhSK+FMkBBmWA0mLMyQEX2CrpW3TJA8B/60b8CM0BgnefrrCMzQEwE7Rb8PzNA262AJJBXM0BdgYrGUGozQNvScagqeDNA2oEKgw+BM0ASzkwr9oQzQAa2yJvagzNAqCHL+L19M0A=\",\"dtype\":\"float64\",\"order\":\"little\",\"shape\":[100]},\"y\":{\"__ndarray__\":\"xokk5jUYEMAt1d1RsIQPwBgjzjbu6A7AZlwxCsZdDsA4BDM+x+MNwLy/NJRvew3AzbMsmyolDcCA4sVAUeEMwEbTtHUpsAzAKASf5eWRDMCLdd/CpYYMwCIoXqZ0jgzAOrObg0qpDMAyRv2wC9cMwIiHUASJFw3AyOxpA4BqDcA2basom88NwADsLDtyRg7Ay3kruorODsDBrlBbWGcPwLD4p80eCBDA1EsiMEZkEMC6wZRWw8cQwCad2LIvMhHAqEvakB2jEcAhEq+HGBoSwOh6lPGllhLAStNdakUYE8BhZc1TcZ4TwK0AUV+fKBTAPtaTHEG2FMCBsVKMxEYVwA8z27aU2RXAuOqaRRpuFsAOBiAfvAMXwOrD6gTgmRfAFv5sMusvGMA545P8QsUYwD5sN3FNWRnAATTL9XHrGcAUHK3kGXsawOWWbyixBxvAnYN/1KaQG8B6QYi6bRUcwMD7+/t8lRzAuCkql1AQHcD40lLvaYUdwAVTKk9Q9B3AvxJHZZFcHsAP9Pi5wb0ewKb2EB59Fx/AAOQmEmdpH8BAjvIlK7MfwCpYVk999B/Ai6ZgHI0WIMAX/kvDYy4gwDhFrgmqQSDAbPwrEUxQIMDEMkjEOlogwE0H8eVrXyDAE4QNHNpfIMCg8QH1hFsgwB3zJOhwUiDAWfIkUadEIMCimmJmNjIgwA1USioxGyDAprJ3r17/H8CANiiTmr8fwK5R5bpXdx/A23qxo+AmH8DQwYk/iM4ewAhb5Z+pbh7APJnVl6cHHsDQGSdW7JkdwJwm7ffoJR3AcyHoExWsHMDkKj8/7iwcwFQXDIz3qBvAziM/ArkgG8ATsWUTv5QawFyQ5AmaBRrAAR47dN1zGcB5fOiMH+AYwH66j5/4ShjAPob6awK1F8CCQZyH1x4XwErWOL4SiRbAOo5Tck70FcA+aQr+I2EVwI3/ARUr0BTApOIEKPlBFMB8r/fKILcTwKSdwB0xMBPAs0u+OLWtEsCD3mWdMzASwD1AnKstuBHANGxZHB9GEcBgQB+CfdoQwPxLx8+3dRDAx4kk5jUYEMA=\",\"dtype\":\"float64\",\"order\":\"little\",\"shape\":[100]}},\"selected\":{\"id\":\"11541\"},\"selection_policy\":{\"id\":\"11540\"}},\"id\":\"11498\",\"type\":\"ColumnDataSource\"},{\"attributes\":{\"axis_label\":\"PC 2 (7.3%)\",\"axis_label_text_font_size\":\"13pt\",\"coordinates\":null,\"formatter\":{\"id\":\"11406\"},\"group\":null,\"major_label_policy\":{\"id\":\"11407\"},\"ticker\":{\"id\":\"11381\"}},\"id\":\"11380\",\"type\":\"LinearAxis\"},{\"attributes\":{},\"id\":\"11443\",\"type\":\"HelpTool\"},{\"attributes\":{\"line_alpha\":0.4,\"line_color\":\"blue\",\"x\":{\"field\":\"x\"},\"y\":{\"field\":\"y\"}},\"id\":\"11505\",\"type\":\"Line\"},{\"attributes\":{\"source\":{\"id\":\"11510\"}},\"id\":\"11515\",\"type\":\"CDSView\"},{\"attributes\":{\"coordinates\":null,\"data_source\":{\"id\":\"11504\"},\"glyph\":{\"id\":\"11505\"},\"group\":null,\"hover_glyph\":null,\"muted_glyph\":{\"id\":\"11507\"},\"nonselection_glyph\":{\"id\":\"11506\"},\"view\":{\"id\":\"11509\"}},\"id\":\"11508\",\"type\":\"GlyphRenderer\"},{\"attributes\":{},\"id\":\"11535\",\"type\":\"Selection\"},{\"attributes\":{\"line_alpha\":0.1,\"line_color\":\"red\",\"x\":{\"field\":\"x\"},\"y\":{\"field\":\"y\"}},\"id\":\"11482\",\"type\":\"Line\"},{\"attributes\":{},\"id\":\"11406\",\"type\":\"BasicTickFormatter\"},{\"attributes\":{\"fill_alpha\":{\"value\":0.2},\"fill_color\":{\"field\":\"col\"},\"hatch_alpha\":{\"value\":0.2},\"hatch_color\":{\"field\":\"col\"},\"line_alpha\":{\"value\":0.2},\"line_color\":{\"field\":\"col\"},\"size\":{\"value\":5},\"x\":{\"field\":\"x\"},\"y\":{\"field\":\"y\"}},\"id\":\"11401\",\"type\":\"Circle\"},{\"attributes\":{\"line_alpha\":0.1,\"line_color\":\"blue\",\"x\":{\"field\":\"x\"},\"y\":{\"field\":\"y\"}},\"id\":\"11506\",\"type\":\"Line\"},{\"attributes\":{},\"id\":\"11536\",\"type\":\"UnionRenderers\"},{\"attributes\":{\"fill_alpha\":{\"value\":0.6},\"fill_color\":{\"field\":\"col\"},\"hatch_alpha\":{\"value\":0.6},\"hatch_color\":{\"field\":\"col\"},\"line_alpha\":{\"value\":0.6},\"line_color\":{\"field\":\"col\"},\"marker\":{\"value\":\"triangle\"},\"size\":{\"value\":7},\"x\":{\"field\":\"x\"},\"y\":{\"field\":\"y\"}},\"id\":\"11453\",\"type\":\"Scatter\"},{\"attributes\":{\"fill_alpha\":{\"value\":0.6},\"fill_color\":{\"field\":\"col\"},\"hatch_alpha\":{\"value\":0.6},\"hatch_color\":{\"field\":\"col\"},\"line_alpha\":{\"value\":0.6},\"line_color\":{\"field\":\"col\"},\"size\":{\"value\":5},\"x\":{\"field\":\"x\"},\"y\":{\"field\":\"y\"}},\"id\":\"11399\",\"type\":\"Circle\"},{\"attributes\":{\"source\":{\"id\":\"11504\"}},\"id\":\"11509\",\"type\":\"CDSView\"},{\"attributes\":{\"fill_alpha\":0.1,\"fill_color\":\"red\",\"hatch_alpha\":0.1,\"hatch_color\":\"red\",\"line_alpha\":0.1,\"line_color\":\"red\",\"x\":{\"field\":\"x\"},\"y\":{\"field\":\"y\"}},\"id\":\"11494\",\"type\":\"Patch\"},{\"attributes\":{},\"id\":\"11410\",\"type\":\"AllLabels\"},{\"attributes\":{\"overlay\":{\"id\":\"11390\"}},\"id\":\"11386\",\"type\":\"BoxZoomTool\"},{\"attributes\":{\"fill_alpha\":0.2,\"fill_color\":\"red\",\"hatch_alpha\":0.2,\"hatch_color\":\"red\",\"line_alpha\":0.2,\"line_color\":\"red\",\"x\":{\"field\":\"x\"},\"y\":{\"field\":\"y\"}},\"id\":\"11489\",\"type\":\"Patch\"},{\"attributes\":{},\"id\":\"11424\",\"type\":\"DataRange1d\"},{\"attributes\":{\"line_alpha\":0.2,\"line_color\":\"red\",\"x\":{\"field\":\"x\"},\"y\":{\"field\":\"y\"}},\"id\":\"11483\",\"type\":\"Line\"},{\"attributes\":{\"fill_alpha\":0.1,\"fill_color\":\"blue\",\"hatch_alpha\":0.1,\"hatch_color\":\"blue\",\"line_alpha\":0.1,\"line_color\":\"blue\",\"x\":{\"field\":\"x\"},\"y\":{\"field\":\"y\"}},\"id\":\"11518\",\"type\":\"Patch\"},{\"attributes\":{\"fill_alpha\":0.01,\"fill_color\":\"red\",\"hatch_alpha\":0.01,\"hatch_color\":\"red\",\"line_alpha\":0.01,\"line_color\":\"red\",\"x\":{\"field\":\"x\"},\"y\":{\"field\":\"y\"}},\"id\":\"11493\",\"type\":\"Patch\"},{\"attributes\":{\"tools\":[{\"id\":\"11438\"},{\"id\":\"11439\"},{\"id\":\"11440\"},{\"id\":\"11441\"},{\"id\":\"11442\"},{\"id\":\"11443\"},{\"id\":\"11470\"}]},\"id\":\"11445\",\"type\":\"Toolbar\"},{\"attributes\":{\"source\":{\"id\":\"11474\"}},\"id\":\"11479\",\"type\":\"CDSView\"},{\"attributes\":{},\"id\":\"11543\",\"type\":\"Selection\"},{\"attributes\":{\"data\":{\"x\":{\"__ndarray__\":\"qCHL+L19M0AXkzCPpnIzQBCU5s2fYjNA9JEiOrpNM0B2TlpeCzQzQNhyD7StFTNAdSmFiMDyMkAs33vcZ8syQKlvFD/MnzJAGv4ApBpwMkBjky41hDwyQNdFFyA+BTJAJijxXoHKMUAZgfJ9iowxQFXX51yZSzFAjSdc7fAHMUB0JJft1sEwQLCiuKCTeTBAlkw7hHEvMECmzVYGescvQAKawU6ILS9Am7MakqyRLkDuTeV5h/QtQIDpJgO7Vi1AnCls1+m4LECu0RulthssQCPCxHfDfytAGdITEbHlKkAAth1DHk4qQL3Ep0ynuSlAXl4YOOUoKUDG+rQ9bZwoQAh/0CnQFChAwGiIx5mSJ0AOrKpQUBYnQD3PWONzoCZAzOT2/X0xJkDchu4B4cklQEPtxr0HaiVAbKgL/1QSJUAXf3MsI8MkQKBrsOjDfCRAOchIvn8/JEC6aNDUlQskQCK3zq874SNAMO6U95zAI0A8Tz1M26kjQA23ASMOnSNAuEwNrkKaI0CSN+LOe6EjQNdhYROysiNAsld3vdPNI0A4WWbVxPIjQPjEmkZfISRANiPsBnNZJEAEWyJIxpokQG4FjLMV5SRA+HForxQ4JUAIz92tbZMlQLsQKoXC9iVAp62z0KxhJkC7IpZavtMmQARxPY2BTCdAZHmb7HnLJ0CNRHqWJFAoQGLwZsn42ShAZi+qcWhoKUA7Cb274PopQBrkoqvKkCpAwdKMuIspK0CwtyVshsQrQIII4wQbYSxAIOCyGqj+LEAHnl1Fi5wtQIOQ78MhOi5ACRd+JMnWLkD2S5vr33EvQFLMZR1jBTBAfc6oOm9QMEAERVPxxpkwQN+6+6Ye4TBA058B0SwmMUB+LVxAqmgxQCAa+2pSqDFAS3VtsuPkMUBM2oWnHx4yQD4+tkrLUzJAUwLhSK+FMkBBmWA0mLMyQEX2CrpW3TJA8B/60b8CM0BgnefrrCMzQEwE7Rb8PzNA262AJJBXM0BdgYrGUGozQNvScagqeDNA2oEKgw+BM0ASzkwr9oQzQAa2yJvagzNAqCHL+L19M0A=\",\"dtype\":\"float64\",\"order\":\"little\",\"shape\":[100]},\"y\":{\"__ndarray__\":\"xokk5jUYEMAt1d1RsIQPwBgjzjbu6A7AZlwxCsZdDsA4BDM+x+MNwLy/NJRvew3AzbMsmyolDcCA4sVAUeEMwEbTtHUpsAzAKASf5eWRDMCLdd/CpYYMwCIoXqZ0jgzAOrObg0qpDMAyRv2wC9cMwIiHUASJFw3AyOxpA4BqDcA2basom88NwADsLDtyRg7Ay3kruorODsDBrlBbWGcPwLD4p80eCBDA1EsiMEZkEMC6wZRWw8cQwCad2LIvMhHAqEvakB2jEcAhEq+HGBoSwOh6lPGllhLAStNdakUYE8BhZc1TcZ4TwK0AUV+fKBTAPtaTHEG2FMCBsVKMxEYVwA8z27aU2RXAuOqaRRpuFsAOBiAfvAMXwOrD6gTgmRfAFv5sMusvGMA545P8QsUYwD5sN3FNWRnAATTL9XHrGcAUHK3kGXsawOWWbyixBxvAnYN/1KaQG8B6QYi6bRUcwMD7+/t8lRzAuCkql1AQHcD40lLvaYUdwAVTKk9Q9B3AvxJHZZFcHsAP9Pi5wb0ewKb2EB59Fx/AAOQmEmdpH8BAjvIlK7MfwCpYVk999B/Ai6ZgHI0WIMAX/kvDYy4gwDhFrgmqQSDAbPwrEUxQIMDEMkjEOlogwE0H8eVrXyDAE4QNHNpfIMCg8QH1hFsgwB3zJOhwUiDAWfIkUadEIMCimmJmNjIgwA1USioxGyDAprJ3r17/H8CANiiTmr8fwK5R5bpXdx/A23qxo+AmH8DQwYk/iM4ewAhb5Z+pbh7APJnVl6cHHsDQGSdW7JkdwJwm7ffoJR3AcyHoExWsHMDkKj8/7iwcwFQXDIz3qBvAziM/ArkgG8ATsWUTv5QawFyQ5AmaBRrAAR47dN1zGcB5fOiMH+AYwH66j5/4ShjAPob6awK1F8CCQZyH1x4XwErWOL4SiRbAOo5Tck70FcA+aQr+I2EVwI3/ARUr0BTApOIEKPlBFMB8r/fKILcTwKSdwB0xMBPAs0u+OLWtEsCD3mWdMzASwD1AnKstuBHANGxZHB9GEcBgQB+CfdoQwPxLx8+3dRDAx4kk5jUYEMA=\",\"dtype\":\"float64\",\"order\":\"little\",\"shape\":[100]}},\"selected\":{\"id\":\"11545\"},\"selection_policy\":{\"id\":\"11544\"}},\"id\":\"11510\",\"type\":\"ColumnDataSource\"},{\"attributes\":{},\"id\":\"11540\",\"type\":\"UnionRenderers\"},{\"attributes\":{},\"id\":\"11388\",\"type\":\"ResetTool\"},{\"attributes\":{},\"id\":\"11442\",\"type\":\"ResetTool\"},{\"attributes\":{\"coordinates\":null,\"data_source\":{\"id\":\"11510\"},\"glyph\":{\"id\":\"11511\"},\"group\":null,\"hover_glyph\":null,\"muted_glyph\":{\"id\":\"11513\"},\"nonselection_glyph\":{\"id\":\"11512\"},\"view\":{\"id\":\"11515\"}},\"id\":\"11514\",\"type\":\"GlyphRenderer\"},{\"attributes\":{},\"id\":\"11428\",\"type\":\"LinearScale\"},{\"attributes\":{\"line_alpha\":0.2,\"line_color\":\"red\",\"line_width\":2,\"x\":{\"field\":\"x\"},\"y\":{\"field\":\"y\"}},\"id\":\"11477\",\"type\":\"Line\"},{\"attributes\":{},\"id\":\"11542\",\"type\":\"UnionRenderers\"},{\"attributes\":{\"coordinates\":null,\"data_source\":{\"id\":\"11364\"},\"glyph\":{\"id\":\"11399\"},\"group\":null,\"hover_glyph\":null,\"muted_glyph\":{\"id\":\"11401\"},\"nonselection_glyph\":{\"id\":\"11400\"},\"view\":{\"id\":\"11403\"}},\"id\":\"11402\",\"type\":\"GlyphRenderer\"},{\"attributes\":{\"axis_label\":\"PC 2 (7.3%)\",\"axis_label_text_font_size\":\"13pt\",\"coordinates\":null,\"formatter\":{\"id\":\"11460\"},\"group\":null,\"major_label_policy\":{\"id\":\"11461\"},\"ticker\":{\"id\":\"11435\"}},\"id\":\"11434\",\"type\":\"LinearAxis\"},{\"attributes\":{},\"id\":\"11534\",\"type\":\"UnionRenderers\"},{\"attributes\":{\"axis\":{\"id\":\"11434\"},\"coordinates\":null,\"dimension\":1,\"group\":null,\"ticker\":null},\"id\":\"11437\",\"type\":\"Grid\"},{\"attributes\":{\"data\":{\"x\":{\"__ndarray__\":\"ZX+za1LdI8BmRA9tbQIkwPqgi6MhMSTAon5v6j5pJMDOCLFpi6okwCAfltHD9CTAzisXoJtHJcCl17xvvaIlwNVPp0/LBSbAlF9kJF9wJsB/izARC+ImwA+vNulZWifAAF9ZqM/YJ8Azjgnz6VwowLqtppwg5ijAq8PdM+ZzKcABxnaUqAUqwNrt+X3RmirACrmRLscyK8Dk8YkB7cwrwLhbyBCkaCzAKZGY2EsFLcAqPCLdQqItwM8X31DnPi7AkSRlu5faLsCwINmfs3QvwIfYLhFOBjDA6ljqVdpQMMDV8KTFsZkwwIxBMEqJ4DDAMFIQ3RclMcCdPcLSFmcxwHxRlSNCpjHAtIbLsVjiMcBsCbmMHBsywGefnTBTUDLAmRv2wsWBMsCLsQdLQa8ywBnfauaW2DLAA8Nf+Zv9MsCuDrpaKh4zwI5MN3sgOjPAlu4WiGFRM8Cme9CI1WMzwFc7yXdpcTPAkufvVQ96M8BxLSo5vn0zwCYehVVyfDPA7RYfAS12M8A8F8ey9GozwMjwUvvUWjPAry+zed5FM8D/BNHJJiwzwN3cR27IDTPAcJYRteLqMsACiUGXmcMywOiZ75MVmDLAsZx5hoNoMsCsBUZ4FDUywM2YN279/THAPDAGMnfDMcDn8LQXvoUxwNZEYr8RRTHA8rWx07QBMcDaRBPF7LswwMESL4IBdDDAVCe/LT0qMMA2hEek170vwK77ASa2JC/AoiVturOJLsCRbwgrcO0twCP+XIyMUC3Aoinyl6qzLMB15pcFbBcswIPysuRxfCvAtJ429lvjKsCsWPcHyEwqwLq1/1FRuSnAUq2P1o8pKcBh8mrFF54owG/xF+N4FyjA8Oms9D2WJ8D95sMw7BonwAwMKbYCpibAEMPQCPo3JsCT35yVQ9ElwATGcD1JciXAbB0N6GwbJcBIjSMfCM0kwNiPCrJrhyTAhH1wYt9KJMBur2OaoRckwM74+yvn7SPAKsnnGtvNI8D+FxVwnrcjwLPOoxdIqyPAMstEyeSoI8CG1h37drAjwP0SQN/2wSPAZX+za1LdI8A=\",\"dtype\":\"float64\",\"order\":\"little\",\"shape\":[100]},\"y\":{\"__ndarray__\":\"N+Xix9qBIEAAaasqhr8gQASOWpEL+CBAFiGRuDArIUCMeJrnwFghQIQmxSaNgCFAX0HNb2yiIUAfWibYO74hQAqJ+bTe0yFAgnayuD7jIUDs6fwJTOwhQJYrG1T97iFAbmKE0E/rIUA6A8FJR+EhQEpeghfu0CFA8lL5E1W6IUBCJneKk50hQBxlah/HeiFAW5LQsRNSIUBhIDw2oyMhQNzTlIul7yBAniS/SVC2IECDel2K3ncgQA455KuQNCBAwsx+HljZH0D4ppyg9UAfQL78/fKWoB5A4dqvZeH4HUBP8ofZgUodQNSw7w0slhxAZZKa55ncG0CBquawih4bQDftrFTCXBpAUntMlAiYGUDkH8E5KNEYQGpBmUbuCBhACMKiIClAF0BEpSi9p3cWQJzMnMs4sBVALbSJ4KnqFEAlz6ehxicUQGD28PNXaBNAck6KLCOtEkDuHFpF6fYRQFI8GxZmRhFAgzy7kk+cEEB9k5UfqvIPQLZigxs9vA5AAaWhF5iWDUCN/ujF6YIMQGai4lNOggtApoa4Rc6VCkDDGoplXb4JQAKTHsjZ/AhAXtX35wpSCECDA7LXoL4HQI6Yg4wzQwdAwjKZQULgBkAyge70MpYGQGyHK/5RZQZASZfyv9FNBkAKIPBzyk8GQIvc4RE6awZAkR6vUQSgBkBODpDI8u0GQNjQJSG1VAdAysJJbuHTB0CAaj6Y9GoIQGKT0eNSGQlA4UXkkkjeCUCQIbOdCrkKQAIbIIS3qAtAceAlNlisDECDR4US4cINQGU9pvoy6w5ArutHPQ4SEEBdNuOBLbYQQKaT5RxOYRFAxiVzp78SEkDxVuo3y8kSQDS5cB60hRNAwK5zp7hFFEBbW1TjEgkVQLkLcXL5zhVAGr+5VKCWFkAB2fm7OV8XQOw1/t/2JxhAOPO80wjwGEBaMKNaobYZQMLoLL3zehpAAsHrmzU8G0CSPyPAn/kbQLBmI+lushxAngCOleRlHUDQJLfHRxMeQAmIVsTluR5AdwXFyhJZH0B8dQjGKvAfQMCo+/pIPyBANuXix9qBIEA=\",\"dtype\":\"float64\",\"order\":\"little\",\"shape\":[100]}},\"selected\":{\"id\":\"11533\"},\"selection_policy\":{\"id\":\"11532\"}},\"id\":\"11474\",\"type\":\"ColumnDataSource\"},{\"attributes\":{\"fill_alpha\":0.2,\"fill_color\":\"blue\",\"hatch_alpha\":0.2,\"hatch_color\":\"blue\",\"line_alpha\":0.2,\"line_color\":\"blue\",\"x\":{\"field\":\"x\"},\"y\":{\"field\":\"y\"}},\"id\":\"11513\",\"type\":\"Patch\"},{\"attributes\":{},\"id\":\"11466\",\"type\":\"Selection\"},{\"attributes\":{\"fill_alpha\":0.07,\"fill_color\":\"red\",\"hatch_alpha\":0.07,\"hatch_color\":\"red\",\"line_alpha\":0.07,\"line_color\":\"red\",\"x\":{\"field\":\"x\"},\"y\":{\"field\":\"y\"}},\"id\":\"11487\",\"type\":\"Patch\"},{\"attributes\":{},\"id\":\"11412\",\"type\":\"Selection\"},{\"attributes\":{\"axis\":{\"id\":\"11380\"},\"coordinates\":null,\"dimension\":1,\"group\":null,\"ticker\":null},\"id\":\"11383\",\"type\":\"Grid\"},{\"attributes\":{},\"id\":\"11385\",\"type\":\"WheelZoomTool\"},{\"attributes\":{\"coordinates\":null,\"data_source\":{\"id\":\"11516\"},\"glyph\":{\"id\":\"11517\"},\"group\":null,\"hover_glyph\":null,\"muted_glyph\":{\"id\":\"11519\"},\"nonselection_glyph\":{\"id\":\"11518\"},\"view\":{\"id\":\"11521\"}},\"id\":\"11520\",\"type\":\"GlyphRenderer\"},{\"attributes\":{\"fill_alpha\":0.01,\"fill_color\":\"blue\",\"hatch_alpha\":0.01,\"hatch_color\":\"blue\",\"line_alpha\":0.01,\"line_color\":\"blue\",\"x\":{\"field\":\"x\"},\"y\":{\"field\":\"y\"}},\"id\":\"11517\",\"type\":\"Patch\"},{\"attributes\":{},\"id\":\"11441\",\"type\":\"SaveTool\"},{\"attributes\":{\"fill_alpha\":0.1,\"fill_color\":\"blue\",\"hatch_alpha\":0.1,\"hatch_color\":\"blue\",\"line_alpha\":0.1,\"line_color\":\"blue\",\"x\":{\"field\":\"x\"},\"y\":{\"field\":\"y\"}},\"id\":\"11512\",\"type\":\"Patch\"},{\"attributes\":{},\"id\":\"11545\",\"type\":\"Selection\"},{\"attributes\":{\"line_alpha\":0.2,\"line_color\":\"blue\",\"x\":{\"field\":\"x\"},\"y\":{\"field\":\"y\"}},\"id\":\"11507\",\"type\":\"Line\"},{\"attributes\":{\"coordinates\":null,\"group\":null,\"items\":[{\"id\":\"11469\"}],\"visible\":false},\"id\":\"11468\",\"type\":\"Legend\"},{\"attributes\":{\"callback\":null,\"renderers\":[{\"id\":\"11456\"}],\"tooltips\":[[\"Idx\",\"@Idx\"]]},\"id\":\"11470\",\"type\":\"HoverTool\"},{\"attributes\":{\"line_alpha\":0.2,\"line_color\":\"blue\",\"line_width\":2,\"x\":{\"field\":\"x\"},\"y\":{\"field\":\"y\"}},\"id\":\"11501\",\"type\":\"Line\"},{\"attributes\":{},\"id\":\"11426\",\"type\":\"LinearScale\"},{\"attributes\":{\"data\":{\"Idx\":[0,1,2,3,4,5,6,7,8,9,10,11,12,13,14,15,16,17,18,19,20,21,22,23,24,25,26,27,28,29,30,31,32,33,34,35,36,37,38,39,40,41,42,43,44,45,46,47,48,49,50,51,52,53,54,55,56,57,58,59,60,61,62,63,64,65,66,67,68,69,70,71,72,73,74,75,76,77,78,79,80,81,82,83,84,85,86,87,88,89,90,91,92,93,94,95,96,97,98,99,100,101,102,103,104,105,106,107,108,109,110,111,112,113,114,115,116,117,118,119],\"col\":[\"red\",\"red\",\"red\",\"red\",\"red\",\"red\",\"red\",\"red\",\"red\",\"red\",\"red\",\"red\",\"red\",\"red\",\"red\",\"red\",\"red\",\"red\",\"red\",\"red\",\"red\",\"red\",\"red\",\"red\",\"red\",\"red\",\"red\",\"red\",\"red\",\"red\",\"red\",\"red\",\"red\",\"red\",\"red\",\"red\",\"red\",\"red\",\"red\",\"red\",\"red\",\"red\",\"red\",\"red\",\"red\",\"red\",\"red\",\"red\",\"red\",\"red\",\"red\",\"red\",\"red\",\"red\",\"red\",\"red\",\"red\",\"red\",\"red\",\"red\",\"blue\",\"blue\",\"blue\",\"blue\",\"blue\",\"blue\",\"blue\",\"blue\",\"blue\",\"blue\",\"blue\",\"blue\",\"blue\",\"blue\",\"blue\",\"blue\",\"blue\",\"blue\",\"blue\",\"blue\",\"blue\",\"blue\",\"blue\",\"blue\",\"blue\",\"blue\",\"blue\",\"blue\",\"blue\",\"blue\",\"blue\",\"blue\",\"blue\",\"blue\",\"blue\",\"blue\",\"blue\",\"blue\",\"blue\",\"blue\",\"blue\",\"blue\",\"blue\",\"blue\",\"blue\",\"blue\",\"blue\",\"blue\",\"blue\",\"blue\",\"blue\",\"blue\",\"blue\",\"blue\",\"blue\",\"blue\",\"blue\",\"blue\",\"blue\",\"blue\"],\"group\":[\"Healthy\",\"Healthy\",\"Healthy\",\"Healthy\",\"Healthy\",\"Healthy\",\"Healthy\",\"Healthy\",\"Healthy\",\"Healthy\",\"Healthy\",\"Healthy\",\"Healthy\",\"Healthy\",\"Healthy\",\"Healthy\",\"Healthy\",\"Healthy\",\"Healthy\",\"Healthy\",\"Healthy\",\"Healthy\",\"Healthy\",\"Healthy\",\"Healthy\",\"Healthy\",\"Healthy\",\"Healthy\",\"Healthy\",\"Healthy\",\"Healthy\",\"Healthy\",\"Healthy\",\"Healthy\",\"Healthy\",\"Healthy\",\"Healthy\",\"Healthy\",\"Healthy\",\"Healthy\",\"Healthy\",\"Healthy\",\"Healthy\",\"Healthy\",\"Healthy\",\"Healthy\",\"Healthy\",\"Healthy\",\"Healthy\",\"Healthy\",\"Healthy\",\"Healthy\",\"Healthy\",\"Healthy\",\"Healthy\",\"Healthy\",\"Healthy\",\"Healthy\",\"Healthy\",\"Healthy\",\"diabetic\",\"diabetic\",\"diabetic\",\"diabetic\",\"diabetic\",\"diabetic\",\"diabetic\",\"diabetic\",\"diabetic\",\"diabetic\",\"diabetic\",\"diabetic\",\"diabetic\",\"diabetic\",\"diabetic\",\"diabetic\",\"diabetic\",\"diabetic\",\"diabetic\",\"diabetic\",\"diabetic\",\"diabetic\",\"diabetic\",\"diabetic\",\"diabetic\",\"diabetic\",\"diabetic\",\"diabetic\",\"diabetic\",\"diabetic\",\"diabetic\",\"diabetic\",\"diabetic\",\"diabetic\",\"diabetic\",\"diabetic\",\"diabetic\",\"diabetic\",\"diabetic\",\"diabetic\",\"diabetic\",\"diabetic\",\"diabetic\",\"diabetic\",\"diabetic\",\"diabetic\",\"diabetic\",\"diabetic\",\"diabetic\",\"diabetic\",\"diabetic\",\"diabetic\",\"diabetic\",\"diabetic\",\"diabetic\",\"diabetic\",\"diabetic\",\"diabetic\",\"diabetic\",\"diabetic\"],\"x\":{\"__ndarray__\":\"utRbovTVO8D+ZlSlwSM3wHH7GHKUYkLAyuT95G2MPsASelW3ZgI6wEykoN5uKyHAdKVYk610Q8ADxTaqO+o9wLuysJ911DjAtGgOq/tgOMCys+25jNo1wC/CheYq/hTAbC7H5SFTQcAsG6i7eC43wA+kKSS8XUPAtZ4qwsN6OsDixWIaqD89wL5ZALVJEC7AsL5joVKvMMA+JWdM7WUvwE3HFUHH4zHAPFJAyP6eNMCFcu1M2xkywC1vJ4tahzLAQ1QsUZ/aJcAy63JFufUPQCRKYkRtZCvAqBTXHsHW8T9LwZmXD+vnP3LbzSB08ytAwyfI/cj0IkDRYkEHbpw4QDWcWx0NAxDAfULVNvtF/D9HJal/yoUVQK15MbihkCRA3j4WzwsTEkBqkv4nmoEWQF6fq6zh0w1AXd+X0UWCJ0ANjCRfCK7gP28zdUJFjCdAqZIanAs/NMDgR38o39gwwOPf16qeriTAs+vCyz7dD8ACy21/AUo+wACyso3OyTjAUgHZuCJxQ8CYQtglEcg6wNt9+RMKJj3AF7iV6nwhPsBCLiWVPvgmwIavPb5EZzLADKsUzuj7NMAnZGhuAMc3wOIIFzyVnDHAnjDtMv6CLsCnT0gKjNU6wL/VOGUYnTXA3ytVhBeLE8CyJxJ13qEXQJU9HpXx1DpAYRTgPn06PkA8pH+SVBYmQJWVbYMXRThAxoOA0cx6QEBBVw8MQoxBQOy7VpwXozVAw9VqzJ9jP0CkSEmVKAM4QHiL92gzjENABBYOI48l8z/JnHjl3E4kQFJ3AvXMhvm/JEFGouJCHEBkrl9dg7wBQKX+h90h6CFA4E78L2k6LMCwr79/6aciQDYXjeQQNwDAfdhfey8gKUAAI1QzyoMLQNRVVl4i7jBAfLpBEK6oFMALVyPBzjg1QM5cc0w/tSRAahFf6KzTNkDuuXw6XQIXQNDfoKsNDzZAykDGf0r7H8CQHZdRFoASQKPrJN8g8hPACRsx4DzjEUC9wNmnG4AHwJnxlNbkrSBAP6QoSHDvQEDv1FTUnCVDQB+Qtpt2jz1A1WgoufpUP0ClbHHvhF9BQDC2EN8440dAiTm/loUXIsBYiy28yRb9P16yZjNB8yZAHY+j+BhBOkBhdBHpbHMxwAFVgxF6VCLALyAAaeXJF0AEmxFbtGQzQDow/iINZDhALcVvx3slREDOPQRrutUiQJU+JVU5XzZAN12IdRKQNUBK3vbb4Gg9QM+O/uDqVDRAH8QISxArQUCArZwNV04yQCaVKaMOkhBA\",\"dtype\":\"float64\",\"order\":\"little\",\"shape\":[120]},\"y\":{\"__ndarray__\":\"QEF2Skg6IUAEpxkzdjQtQCcEvscvoB1AJytp29Y0JUAQ3W4K0ukjQCLgBYSNqzBAIeg4GjO5LsAIZK5X6PomwMtHfNDdaiTA4+fcio0cHMAOHYMjVAovwN6QIZOd5h/A7YX0oqm1I8DS7D7ws4z5vx4JVmQQFADAas+YmHciDECG+V3JqeoAQCcOPOsfjB1AaQV4h2BwEUA8l7nnAQAVQMbqrCC5lxJA+SngTwv5JEDClAhcilsBwK4NejZ1jBVAsIp6ndXkz7+mFSy/ZnYWQEqWGCJLEwjAEKCExupLBkCjN9s//RLtPzt6oOsMDxhAxrTnznvOMUBdv9pq5lE8QFKSIrD7VjNA8tDELOD6NEDywiK50oQwQD208G2mNzZACfKrDQdsIkAM3/DakcctQAuAm6gwrC1A9XOu/2zhMEDHreoxZjAqQDV0nOdmXDFAkDJH/ToTH0Asq3ISEIkqQA4if8xiiCdA1krey6R2MEAiguk64+oQQKrzQ7v5KiRAuTmHXNJZJsCyTTnpQeIQwE73JYHsihfA6kWmajc477+M1wPoKKPfv7zyS470nwdAMTfnUDvwAEDAdCm6eF0iQJFrOf8CRCRAc6pPo0YcLECu+e1uO6MgQFF+k/oKbStA1nIyRv6mDsCiXcmKqEnyP6BuwpPKrQ9ADhxQxE85B0BU+MPuaL8ZwJmxg+e+cfm/CxI/i2/LAUAzrPVstnMMQEb/puXdch3AchbV6HWZEMD51MGHFq0AwJKwtLRLYeC/ep0Jm6j1LMCoaRrVHf8rwIXTN/YVgivA2XKWP9TPKsC2grgYrREqwN4JNtxJMyPAD1L+wCHlEMCa+3Edt5bbv/L1EAgHZiHARCK0RNjnCsDo1yedefURwE6YlO69bwjA0fhNdXrlLsDbZNKsJn31v3iB7nuDmhLAoWw5ZEp887+giEVhYFUmwDp1DzaqVxjAKR2SKZ4dJ8AvOWEZlTYhwOYTDIx7yCjAcwBua8VgHMAqMFqwxq0iwHIM6JAmsBTAEMxDkZJUvj+4YQHsH3kSQIhbdzDkmtS/ca4K8PfMB0Du9CwMsZsYQBcUX6+OISZAdsmWxPB6JsBhYIUjKlgdwPrZMh9TaR7AFTU1zx60CsBBqWkqisY4wNimNb+KizLAehNCcQ8qMMBeYamioOMrwDhHpKbObNM/h+KEz2nnEEDoS4AdfRMPwD5YqUDzfec/PcwifLzHIMAlyQHcGNITwLgXSDGJEifA4kcpmyrXC8ClVlBIq38rwOq3Ik5AwDjA\",\"dtype\":\"float64\",\"order\":\"little\",\"shape\":[120]}},\"selected\":{\"id\":\"11412\"},\"selection_policy\":{\"id\":\"11411\"}},\"id\":\"11364\",\"type\":\"ColumnDataSource\"},{\"attributes\":{\"line_alpha\":0.8,\"line_color\":\"red\",\"line_width\":2,\"x\":{\"field\":\"x\"},\"y\":{\"field\":\"y\"}},\"id\":\"11475\",\"type\":\"Line\"},{\"attributes\":{\"coordinates\":null,\"group\":null,\"text\":\"PCA Score Plot (PC1 vs. PC2)\",\"text_font_size\":\"15pt\"},\"id\":\"11366\",\"type\":\"Title\"},{\"attributes\":{\"below\":[{\"id\":\"11376\"}],\"center\":[{\"id\":\"11379\"},{\"id\":\"11383\"},{\"id\":\"11414\"}],\"height\":430,\"left\":[{\"id\":\"11380\"}],\"min_border_bottom\":20,\"min_border_left\":20,\"min_border_right\":20,\"min_border_top\":20,\"renderers\":[{\"id\":\"11402\"},{\"id\":\"11478\"},{\"id\":\"11484\"},{\"id\":\"11490\"},{\"id\":\"11496\"},{\"id\":\"11502\"},{\"id\":\"11508\"},{\"id\":\"11514\"},{\"id\":\"11520\"}],\"title\":{\"id\":\"11366\"},\"toolbar\":{\"id\":\"11391\"},\"toolbar_location\":null,\"width\":490,\"x_range\":{\"id\":\"11368\"},\"x_scale\":{\"id\":\"11372\"},\"y_range\":{\"id\":\"11370\"},\"y_scale\":{\"id\":\"11374\"}},\"id\":\"11365\",\"subtype\":\"Figure\",\"type\":\"Plot\"},{\"attributes\":{},\"id\":\"11368\",\"type\":\"DataRange1d\"},{\"attributes\":{},\"id\":\"11377\",\"type\":\"BasicTicker\"},{\"attributes\":{\"label\":{\"field\":\"group\"},\"renderers\":[{\"id\":\"11402\"}]},\"id\":\"11415\",\"type\":\"LegendItem\"},{\"attributes\":{\"data\":{\"x\":{\"__ndarray__\":\"lZD7w8z2NUCBA7VGF2c1QE8gIRA1sjRAjVCyleDYM0Dr0rHe+dsyQMPIUJ2FvDFAzgntIax7MECAgz1TcDUuQOhnkxIrNitAkiwjbZ/8J0C6O2hgIIwkQETo2Y456CBA6NSeMFcpGkAswoh30CoSQNhg6hk5ugNAoAlBlaqM1D/w9gC/NCX+v+heTk0TkBDA9DttsDnCGcAh19bRIoshwBG/TcBMQSbA7IyhTL/+KsCgJMKdl74vwIHi9zD4PTLA0PJWbfOYNMDAPwfzz+02wGdcEoAmOjnAnQC7m5h7O8D+CqcH0689wNGHdiWQ1D/APJ4nJ83zQMCUWPkMZ/NBwBzVgkkO6ELAkrIhq8bQQ8DwUzZNoKxEwLpWbY+4ekXA3A5c/zo6RsDYOH8zYupGwDQjupZ4ikfAoIqEI9kZSMDYNQYO8JdIwKz3cFw7BEnAyAr8bEteScAIq/Zow6VJwHZNe6RZ2knA7tBg6tf7ScC8Xhu0GwpKwJhhU00WBUrAOOMN48zsScBisFZ+WMFJwI7DcerlgknATpCuhrUxScB2yAwEG85IwNYB9w59WEjAoips5VTRR8Aq5gTaLTlHwImmVcSkkEbAio5BX2fYRcB9xOSVMxFFwLLQzr/WO0TA5NVWzSxZQ8Co1eNkH2pCwFa1EvKkb0HA7Emyp79qQMABhjbr+Lg+wEKi7ObjizzALJkcg35QOsBYyazBFQk4wJngqgYDuDXAlKBerKlfM8D0zheNdAIxwCPggQqnRS3AmMSQ4HGGKMCah+1FLswjwFbJMJd3Nx7Ayrn3x9/zFMBIrFmdQ64HwGDeWHsSVee/sO5XM68h9z+I+YCnIXIMQGQlFIiZXhZATFKJGaAwHkDwBHJmitMiQDJipSUjXSZAugMoyHSxKUCKHUG3EM0sQPLqYNHCrC9AAa7EW8omMUDrcIZtaFYyQNnBPqQCZDNAJaJ1FoNONED/WmwJ+BQ1QA+QS+qUtjVAqT4EIbMyNkCTSAq80og2QL+EN/SauDZAkWJPiNrBNkBtycTvh6Q2QL/ejWTBYDZAlZD7w8z2NUA=\",\"dtype\":\"float64\",\"order\":\"little\",\"shape\":[100]},\"y\":{\"__ndarray__\":\"/BeZLIlJOEDZIe90YTg5QB490DRJEzpAHcY/xV7ZOkAzhrn11Yk7QAlYrd74IzxApQECnSinPEAc+t313RI9QKJFDeKpZj1ATbZ0ADaiPUAzlxzvRMU9QLv4doqyzz1Ac2SgEnTBPUDdkXQ2mJo9QAuwawRHWz1AMd5PwcEDPUBvY/WkYpQ8QJkAO32cDTxATjmyN/pvO0AGkmlSHrw6QKdibDTC8jlAi+ekbrUUOUDikuXl3CI4QE4t9uYxHjdAVP6XJcEHNkBC5ImnqeA0QMLgqZwbqjNAPhdlJVdlMkAhd7kIqxMxQPd3OrbmbC9ARv5fLzCeLEBhcU5aF74pQLBm6f+SzyZAKyNhxqjVI0D+D7QTatMgQFRYJ8jhlxtAyBXfLrmEFUBUM8jlOucOQED4AB2f1QJAQPcIZT+E6z/wuk8FgKjjv/iBfDTIfwDAIGD4r/fTC8C08WtwgG0TwJhGmd3CxBjA+BjyuEHqHcDA2g50V2whwL6EeYp6xSPAomR1dR7+JcA0WlMK+RMowGaINPrjBCrAbFJPCd/OK8AI2PQeEnAtwNqkNizP5i7AvXab88kYMMAJMK2shacwwGWIYJ8HHzHA/BnOmtR+McBf+xPeicYxwEPUIX7d9THAQSvrsZ4MMsAtYbEEtgoywDeDMW4l8DHALgedUAi9McA1iV9ck3ExwPGjzlkUDjHAyd/72PGSMMAPYPvHqgAwwNaSGOCrry7AjoNTtEIyLcCqhUk3o4orwI5a/xaCuinAKv+4wr3DJ8D2ZMt9XKglwDPXX0mKaiPA/MBPp5YMIcD4Q89w5CEdwDh1C3FY9BfAqFFYtt+VEsCY1fosBhgKwDQ+Eobgcf2/QIXY8bPR2L9QNyFwWXDxPxxraLUJsgRAvuYMD4RjEEAmj3rPWXUWQELm8mFEiBxA9rGIdwBLIUDbzSr7KEwkQMZJcN6CRCdA4coHWP4wKkDIwa/alw4tQI96izBb2i9AzN1TQ7NIMUDWs8WydpgyQAQR4skd2zNA1tG671sPNUBNGgZm8zM2QGG6p5C2RzdA+xeZLIlJOEA=\",\"dtype\":\"float64\",\"order\":\"little\",\"shape\":[100]}},\"selected\":{\"id\":\"11539\"},\"selection_policy\":{\"id\":\"11538\"}},\"id\":\"11492\",\"type\":\"ColumnDataSource\"},{\"attributes\":{},\"id\":\"11372\",\"type\":\"LinearScale\"},{\"attributes\":{\"coordinates\":null,\"group\":null,\"text\":\"PCA Loadings Plot (PC1 vs. PC2)\",\"text_font_size\":\"15pt\"},\"id\":\"11420\",\"type\":\"Title\"},{\"attributes\":{\"data\":{\"x\":{\"__ndarray__\":\"mkzMuhoKSkBI3ne7Jd9JQDBIk9QToUlAei/GASVQSUDK+HmwrOxIQJYZ2mkRd0hAwuEhaczvR0DGsaQeaVdHQBJvEaCErkZAfGGFBs31RUBsZBW7AC5FQLFqhrLtV0RAGKn/mHB0Q0DYQJHuc4RCQPrleRXviEFAXq8kU+WCQEBv3cuJyeY+QNYgFZMKtzxAyxGywc54OkC9ZVoEZi44QFhaw9Ys2jVA+muC0ol+M0AAWYI16x0xQCkHL8GIdS1AoMWRoRavKEDwUdArbO0jQJoqWiThah5AlJtOFwIYFUDgjYtBr9cHQGCtVliyfuc/cJTjEvxK9784g+w0waUMwIBzLELLhxbAWK5AUAlpHsB40PSsPfciwHbHWEowiCbAnrk2aq/jKcDoE7YPRQYtwMrJhui17C/AiL/ZUAJKMcADlEV+unwywENzOlBHjTPA8Qdj0496NMCDN/1un0M1wN/X/OCm5zXAtxGxE/1lNsAvNBDMH742wPFO9i+07zbA6TDMI4f6NsBLQTZ/jd42wOPklBjkmzbAQZRKp88yNsAlR+Z8vKM1wOk5exU+7zTA2yWZfw4WNMA9pIGcDRkzwGdvYDlA+THAIGd0As+3MMAo8HyiCqwuwKBJ462fqivAyI0ISXZuKMA0G8wj5PokwH46AAx4UyHAnHwThez3GsCEqM0yqfASwDCOdnrZMgXAQPj/CAOt37+olvFOJ4n7P6QIUot86Q9AUK7NGzMzGUA4DJd4EEohQOw+52vuBiZAetP0J1HLKkBePMGsTpIvQN0CfCV9KzJAtrK82zSKNEBj3DYO3eI2QDVwVJEKMzlARi0W91p4O0A4IFIEd7A9QLnwZhoV2T9A+J9zyf33QEDMaGeFgflBQOQYck0M8EJAGHh+/Z/aQ0CUJ/jGSrhEQKYmDiooiEVAzpM94WFJRkB63DG+MPtGQMisFnfdnEdABPmHY8EtSEBsXl0oR61IQPDDn1HrGklA3oYK2jx2SUDMhIyf3b5JQMbqUMSC9ElAEsPr+/QWSkAitFrEECZKQDAun4rGIUpAmkzMuhoKSkA=\",\"dtype\":\"float64\",\"order\":\"little\",\"shape\":[100]},\"y\":{\"__ndarray__\":\"2m1tJsD0IED4VD8PT0EiQOqX6O7ubiNAFvGd2Wh8JEBCOjIHp2glQCBlbvG1MiZArC8ZT8XZJkAq0KvqKF0nQL5F1lNZvCdA1FAca/T2J0CuKPvGvQwoQFqqL/Ke/SdAfs/cgqfJJ0DCj3oKDXEnQPi8nd4q9CZAmsXRuoFTJkDcauU7t48lQJo0MzWVqSRAzp2V4AiiI0C+bt3pIXoiQDpYxlYRMyFAmPkUmVCcH0CwCrJorZkcQEYBLIBTYRlA5PzUoZT2FUBk6ZWC9lwSQLSf3VBeMA1AcKhRLkJYBUAEcq08XXP6P8gpqRQJdOM/EDevsSGp3b9gLWwZ3uf4vya/qXJaVgXADJG44j1TDsD2blPHqrATwLAXH/alOxjACOM+quHFHMCu+cnqV6UgwBQOLgG04iLAkEc0ELYYJcBMds6jFkUnwHlVZzWYZSnAxnAWewl4K8BozzaqR3otwDj4C6tAai/AliWYnfqiMMDOtEx+vYUxwJa1iTd/XDLAqOcUaWImM8AotMb2luIzwERkEN9akDTAHXb4AvsuNcC76b7e0701wLswazJSPDbA+QCWmfOpNsChktIRRwY3wOe7LG/tUDfAE9VDvpmJN8AHRJ2TEbA3wKTq3EctxDfAnWSlINjFN8Dn8fVlELU3wDsH8GPnkTfAKLECWYFcN8ALK45QFRU3wA8tJursuzbAlW6tDWRRNsCGmJiM6NU1wNNPurD5STXAkwkNuSeuNMAU6gFFEwM0wE717a5sSTPA2D1AVvOBMsC5djzadK0xwOtBBUbMzDDAnnOhXcLBL8Db7F+KTdUtwLhFv7Q11ivA4BdItYnGKcC2uXx7aagnwGHlJd0DfiXA2IlDVpRJI8AalvO7YA0hwE3/W8ltlx3AUoqAkNQNGcCsXfYzo4IUwE4pLn4R9Q/AtjnoG2L0BsBYnXvy/xj8v0jGgfVkGuW/UAQzwDei2j88/p/Cg3b3PxRnmzeu5QNAOC5rICHLC0D6Q3Vtu7ERQIbQ85FtUxVA8JDuo+jGGEBmkFztnQgcQKhstgYyFR9A2W1tJsD0IEA=\",\"dtype\":\"float64\",\"order\":\"little\",\"shape\":[100]}},\"selected\":{\"id\":\"11543\"},\"selection_policy\":{\"id\":\"11542\"}},\"id\":\"11504\",\"type\":\"ColumnDataSource\"},{\"attributes\":{},\"id\":\"11460\",\"type\":\"BasicTickFormatter\"},{\"attributes\":{},\"id\":\"11374\",\"type\":\"LinearScale\"},{\"attributes\":{\"callback\":null,\"renderers\":[{\"id\":\"11402\"}],\"tooltips\":[[\"Idx\",\"@Idx\"]]},\"id\":\"11416\",\"type\":\"HoverTool\"},{\"attributes\":{\"data\":{\"x\":{\"__ndarray__\":\"ZX+za1LdI8BmRA9tbQIkwPqgi6MhMSTAon5v6j5pJMDOCLFpi6okwCAfltHD9CTAzisXoJtHJcCl17xvvaIlwNVPp0/LBSbAlF9kJF9wJsB/izARC+ImwA+vNulZWifAAF9ZqM/YJ8Azjgnz6VwowLqtppwg5ijAq8PdM+ZzKcABxnaUqAUqwNrt+X3RmirACrmRLscyK8Dk8YkB7cwrwLhbyBCkaCzAKZGY2EsFLcAqPCLdQqItwM8X31DnPi7AkSRlu5faLsCwINmfs3QvwIfYLhFOBjDA6ljqVdpQMMDV8KTFsZkwwIxBMEqJ4DDAMFIQ3RclMcCdPcLSFmcxwHxRlSNCpjHAtIbLsVjiMcBsCbmMHBsywGefnTBTUDLAmRv2wsWBMsCLsQdLQa8ywBnfauaW2DLAA8Nf+Zv9MsCuDrpaKh4zwI5MN3sgOjPAlu4WiGFRM8Cme9CI1WMzwFc7yXdpcTPAkufvVQ96M8BxLSo5vn0zwCYehVVyfDPA7RYfAS12M8A8F8ey9GozwMjwUvvUWjPAry+zed5FM8D/BNHJJiwzwN3cR27IDTPAcJYRteLqMsACiUGXmcMywOiZ75MVmDLAsZx5hoNoMsCsBUZ4FDUywM2YN279/THAPDAGMnfDMcDn8LQXvoUxwNZEYr8RRTHA8rWx07QBMcDaRBPF7LswwMESL4IBdDDAVCe/LT0qMMA2hEek170vwK77ASa2JC/AoiVturOJLsCRbwgrcO0twCP+XIyMUC3Aoinyl6qzLMB15pcFbBcswIPysuRxfCvAtJ429lvjKsCsWPcHyEwqwLq1/1FRuSnAUq2P1o8pKcBh8mrFF54owG/xF+N4FyjA8Oms9D2WJ8D95sMw7BonwAwMKbYCpibAEMPQCPo3JsCT35yVQ9ElwATGcD1JciXAbB0N6GwbJcBIjSMfCM0kwNiPCrJrhyTAhH1wYt9KJMBur2OaoRckwM74+yvn7SPAKsnnGtvNI8D+FxVwnrcjwLPOoxdIqyPAMstEyeSoI8CG1h37drAjwP0SQN/2wSPAZX+za1LdI8A=\",\"dtype\":\"float64\",\"order\":\"little\",\"shape\":[100]},\"y\":{\"__ndarray__\":\"N+Xix9qBIEAAaasqhr8gQASOWpEL+CBAFiGRuDArIUCMeJrnwFghQIQmxSaNgCFAX0HNb2yiIUAfWibYO74hQAqJ+bTe0yFAgnayuD7jIUDs6fwJTOwhQJYrG1T97iFAbmKE0E/rIUA6A8FJR+EhQEpeghfu0CFA8lL5E1W6IUBCJneKk50hQBxlah/HeiFAW5LQsRNSIUBhIDw2oyMhQNzTlIul7yBAniS/SVC2IECDel2K3ncgQA455KuQNCBAwsx+HljZH0D4ppyg9UAfQL78/fKWoB5A4dqvZeH4HUBP8ofZgUodQNSw7w0slhxAZZKa55ncG0CBquawih4bQDftrFTCXBpAUntMlAiYGUDkH8E5KNEYQGpBmUbuCBhACMKiIClAF0BEpSi9p3cWQJzMnMs4sBVALbSJ4KnqFEAlz6ehxicUQGD28PNXaBNAck6KLCOtEkDuHFpF6fYRQFI8GxZmRhFAgzy7kk+cEEB9k5UfqvIPQLZigxs9vA5AAaWhF5iWDUCN/ujF6YIMQGai4lNOggtApoa4Rc6VCkDDGoplXb4JQAKTHsjZ/AhAXtX35wpSCECDA7LXoL4HQI6Yg4wzQwdAwjKZQULgBkAyge70MpYGQGyHK/5RZQZASZfyv9FNBkAKIPBzyk8GQIvc4RE6awZAkR6vUQSgBkBODpDI8u0GQNjQJSG1VAdAysJJbuHTB0CAaj6Y9GoIQGKT0eNSGQlA4UXkkkjeCUCQIbOdCrkKQAIbIIS3qAtAceAlNlisDECDR4US4cINQGU9pvoy6w5ArutHPQ4SEEBdNuOBLbYQQKaT5RxOYRFAxiVzp78SEkDxVuo3y8kSQDS5cB60hRNAwK5zp7hFFEBbW1TjEgkVQLkLcXL5zhVAGr+5VKCWFkAB2fm7OV8XQOw1/t/2JxhAOPO80wjwGEBaMKNaobYZQMLoLL3zehpAAsHrmzU8G0CSPyPAn/kbQLBmI+lushxAngCOleRlHUDQJLfHRxMeQAmIVsTluR5AdwXFyhJZH0B8dQjGKvAfQMCo+/pIPyBANuXix9qBIEA=\",\"dtype\":\"float64\",\"order\":\"little\",\"shape\":[100]}},\"selected\":{\"id\":\"11537\"},\"selection_policy\":{\"id\":\"11536\"}},\"id\":\"11486\",\"type\":\"ColumnDataSource\"},{\"attributes\":{\"coordinates\":null,\"group\":null,\"items\":[{\"id\":\"11415\"}]},\"id\":\"11414\",\"type\":\"Legend\"},{\"attributes\":{\"bottom_units\":\"screen\",\"coordinates\":null,\"fill_alpha\":0.5,\"fill_color\":\"lightgrey\",\"group\":null,\"left_units\":\"screen\",\"level\":\"overlay\",\"line_alpha\":1.0,\"line_color\":\"black\",\"line_dash\":[4,4],\"line_width\":2,\"right_units\":\"screen\",\"syncable\":false,\"top_units\":\"screen\"},\"id\":\"11444\",\"type\":\"BoxAnnotation\"},{\"attributes\":{\"children\":[[{\"id\":\"11365\"},0,0],[{\"id\":\"11419\"},0,1]]},\"id\":\"11561\",\"type\":\"GridBox\"},{\"attributes\":{\"coordinates\":null,\"dimension\":\"height\",\"group\":null,\"line_alpha\":0.15,\"line_width\":3,\"location\":0},\"id\":\"11473\",\"type\":\"Span\"},{\"attributes\":{},\"id\":\"11431\",\"type\":\"BasicTicker\"},{\"attributes\":{\"data\":{\"x\":{\"__ndarray__\":\"lZD7w8z2NUCBA7VGF2c1QE8gIRA1sjRAjVCyleDYM0Dr0rHe+dsyQMPIUJ2FvDFAzgntIax7MECAgz1TcDUuQOhnkxIrNitAkiwjbZ/8J0C6O2hgIIwkQETo2Y456CBA6NSeMFcpGkAswoh30CoSQNhg6hk5ugNAoAlBlaqM1D/w9gC/NCX+v+heTk0TkBDA9DttsDnCGcAh19bRIoshwBG/TcBMQSbA7IyhTL/+KsCgJMKdl74vwIHi9zD4PTLA0PJWbfOYNMDAPwfzz+02wGdcEoAmOjnAnQC7m5h7O8D+CqcH0689wNGHdiWQ1D/APJ4nJ83zQMCUWPkMZ/NBwBzVgkkO6ELAkrIhq8bQQ8DwUzZNoKxEwLpWbY+4ekXA3A5c/zo6RsDYOH8zYupGwDQjupZ4ikfAoIqEI9kZSMDYNQYO8JdIwKz3cFw7BEnAyAr8bEteScAIq/Zow6VJwHZNe6RZ2knA7tBg6tf7ScC8Xhu0GwpKwJhhU00WBUrAOOMN48zsScBisFZ+WMFJwI7DcerlgknATpCuhrUxScB2yAwEG85IwNYB9w59WEjAoips5VTRR8Aq5gTaLTlHwImmVcSkkEbAio5BX2fYRcB9xOSVMxFFwLLQzr/WO0TA5NVWzSxZQ8Co1eNkH2pCwFa1EvKkb0HA7Emyp79qQMABhjbr+Lg+wEKi7ObjizzALJkcg35QOsBYyazBFQk4wJngqgYDuDXAlKBerKlfM8D0zheNdAIxwCPggQqnRS3AmMSQ4HGGKMCah+1FLswjwFbJMJd3Nx7Ayrn3x9/zFMBIrFmdQ64HwGDeWHsSVee/sO5XM68h9z+I+YCnIXIMQGQlFIiZXhZATFKJGaAwHkDwBHJmitMiQDJipSUjXSZAugMoyHSxKUCKHUG3EM0sQPLqYNHCrC9AAa7EW8omMUDrcIZtaFYyQNnBPqQCZDNAJaJ1FoNONED/WmwJ+BQ1QA+QS+qUtjVAqT4EIbMyNkCTSAq80og2QL+EN/SauDZAkWJPiNrBNkBtycTvh6Q2QL/ejWTBYDZAlZD7w8z2NUA=\",\"dtype\":\"float64\",\"order\":\"little\",\"shape\":[100]},\"y\":{\"__ndarray__\":\"/BeZLIlJOEDZIe90YTg5QB490DRJEzpAHcY/xV7ZOkAzhrn11Yk7QAlYrd74IzxApQECnSinPEAc+t313RI9QKJFDeKpZj1ATbZ0ADaiPUAzlxzvRMU9QLv4doqyzz1Ac2SgEnTBPUDdkXQ2mJo9QAuwawRHWz1AMd5PwcEDPUBvY/WkYpQ8QJkAO32cDTxATjmyN/pvO0AGkmlSHrw6QKdibDTC8jlAi+ekbrUUOUDikuXl3CI4QE4t9uYxHjdAVP6XJcEHNkBC5ImnqeA0QMLgqZwbqjNAPhdlJVdlMkAhd7kIqxMxQPd3OrbmbC9ARv5fLzCeLEBhcU5aF74pQLBm6f+SzyZAKyNhxqjVI0D+D7QTatMgQFRYJ8jhlxtAyBXfLrmEFUBUM8jlOucOQED4AB2f1QJAQPcIZT+E6z/wuk8FgKjjv/iBfDTIfwDAIGD4r/fTC8C08WtwgG0TwJhGmd3CxBjA+BjyuEHqHcDA2g50V2whwL6EeYp6xSPAomR1dR7+JcA0WlMK+RMowGaINPrjBCrAbFJPCd/OK8AI2PQeEnAtwNqkNizP5i7AvXab88kYMMAJMK2shacwwGWIYJ8HHzHA/BnOmtR+McBf+xPeicYxwEPUIX7d9THAQSvrsZ4MMsAtYbEEtgoywDeDMW4l8DHALgedUAi9McA1iV9ck3ExwPGjzlkUDjHAyd/72PGSMMAPYPvHqgAwwNaSGOCrry7AjoNTtEIyLcCqhUk3o4orwI5a/xaCuinAKv+4wr3DJ8D2ZMt9XKglwDPXX0mKaiPA/MBPp5YMIcD4Q89w5CEdwDh1C3FY9BfAqFFYtt+VEsCY1fosBhgKwDQ+Eobgcf2/QIXY8bPR2L9QNyFwWXDxPxxraLUJsgRAvuYMD4RjEEAmj3rPWXUWQELm8mFEiBxA9rGIdwBLIUDbzSr7KEwkQMZJcN6CRCdA4coHWP4wKkDIwa/alw4tQI96izBb2i9AzN1TQ7NIMUDWs8WydpgyQAQR4skd2zNA1tG671sPNUBNGgZm8zM2QGG6p5C2RzdA+xeZLIlJOEA=\",\"dtype\":\"float64\",\"order\":\"little\",\"shape\":[100]}},\"selected\":{\"id\":\"11535\"},\"selection_policy\":{\"id\":\"11534\"}},\"id\":\"11480\",\"type\":\"ColumnDataSource\"},{\"attributes\":{\"line_alpha\":0.1,\"line_color\":\"blue\",\"line_width\":2,\"x\":{\"field\":\"x\"},\"y\":{\"field\":\"y\"}},\"id\":\"11500\",\"type\":\"Line\"},{\"attributes\":{},\"id\":\"11422\",\"type\":\"DataRange1d\"},{\"attributes\":{\"axis_label\":\"PC 1 (30.3%)\",\"axis_label_text_font_size\":\"13pt\",\"coordinates\":null,\"formatter\":{\"id\":\"11409\"},\"group\":null,\"major_label_policy\":{\"id\":\"11410\"},\"ticker\":{\"id\":\"11377\"}},\"id\":\"11376\",\"type\":\"LinearAxis\"},{\"attributes\":{},\"id\":\"11461\",\"type\":\"AllLabels\"},{\"attributes\":{\"line_alpha\":0.4,\"line_color\":\"red\",\"x\":{\"field\":\"x\"},\"y\":{\"field\":\"y\"}},\"id\":\"11481\",\"type\":\"Line\"},{\"attributes\":{\"axis\":{\"id\":\"11376\"},\"coordinates\":null,\"group\":null,\"ticker\":null},\"id\":\"11379\",\"type\":\"Grid\"},{\"attributes\":{},\"id\":\"11370\",\"type\":\"DataRange1d\"}],\"root_ids\":[\"11564\"]},\"title\":\"Bokeh Application\",\"version\":\"2.4.3\"}};\n  const render_items = [{\"docid\":\"e602860a-fb25-43f3-b9cc-a07a87d87a61\",\"root_ids\":[\"11564\"],\"roots\":{\"11564\":\"c7874816-5d98-40dc-b09d-58a7f3dda65e\"}}];\n  root.Bokeh.embed.embed_items_notebook(docs_json, render_items);\n  }\n  if (root.Bokeh !== undefined) {\n    embed_document(root);\n  } else {\n    let attempts = 0;\n    const timer = setInterval(function(root) {\n      if (root.Bokeh !== undefined) {\n        clearInterval(timer);\n        embed_document(root);\n      } else {\n        attempts++;\n        if (attempts > 100) {\n          clearInterval(timer);\n          console.log(\"Bokeh: ERROR: Unable to run BokehJS code because BokehJS library is missing\");\n        }\n      }\n    }, 10, root)\n  }\n})(window);",
      "application/vnd.bokehjs_exec.v0+json": ""
     },
     "metadata": {
      "application/vnd.bokehjs_exec.v0+json": {
       "id": "11564"
      }
     },
     "output_type": "display_data"
    }
   ],
   "source": [
    "#PCA  Sanos vs Diabéticos  (gráfico presentación)\n",
    "\n",
    "peaklist = hoja3['Name']                   # Set peaklist to the metabolite names in the peakTableClean\n",
    "X = filtered_df_hoja2[peaklist].values                      # Extract X matrix from dataTable using peaklist\n",
    "Xlog = np.log10(X)                                  # Log scale (base-10)\n",
    "Xscale = cb.utils.scale(Xlog, method='auto')        # methods include auto, pareto, vast, and level\n",
    "Xknn = cb.utils.knnimpute(Xscale, k=3)              # missing value imputation (knn - 3 nearest neighbors)\n",
    "\n",
    "print(\"Xknn: {} rows & {} columns\".format(*Xknn.shape))\n",
    "\n",
    "cb.plot.pca(Xknn,\n",
    "            pcx=1,                                                  # pc for x-axis\n",
    "            pcy=2,                                                  # pc for y-axis\n",
    "            group_label=filtered_df_hoja2['Class'])                    # labels for Hover in PCA loadings plot\n"
   ]
  },
  {
   "cell_type": "markdown",
   "metadata": {},
   "source": [
    "Realizar análisis estadístico"
   ]
  },
  {
   "cell_type": "code",
   "execution_count": null,
   "metadata": {},
   "outputs": [
    {
     "name": "stderr",
     "output_type": "stream",
     "text": [
      "C:\\Users\\Claudia\\AppData\\Local\\Programs\\Python\\Python37\\lib\\site-packages\\scipy\\stats\\morestats.py:1757: UserWarning:\n",
      "\n",
      "Input data for shapiro has range zero. The results may not be accurate.\n",
      "\n",
      "C:\\Users\\Claudia\\AppData\\Local\\Programs\\Python\\Python37\\lib\\site-packages\\scipy\\stats\\morestats.py:2603: RuntimeWarning:\n",
      "\n",
      "invalid value encountered in double_scalars\n",
      "\n"
     ]
    },
    {
     "data": {
      "text/html": [
       "<div>\n",
       "<style scoped>\n",
       "    .dataframe tbody tr th:only-of-type {\n",
       "        vertical-align: middle;\n",
       "    }\n",
       "\n",
       "    .dataframe tbody tr th {\n",
       "        vertical-align: top;\n",
       "    }\n",
       "\n",
       "    .dataframe thead th {\n",
       "        text-align: right;\n",
       "    }\n",
       "</style>\n",
       "<table border=\"1\" class=\"dataframe\">\n",
       "  <thead>\n",
       "    <tr style=\"text-align: right;\">\n",
       "      <th></th>\n",
       "      <th>Idx</th>\n",
       "      <th>Name</th>\n",
       "      <th>Label</th>\n",
       "      <th>Grp0_Mean</th>\n",
       "      <th>Grp0_Mean-95CI</th>\n",
       "      <th>Grp1_Mean</th>\n",
       "      <th>Grp1_Mean-95CI</th>\n",
       "      <th>Sign</th>\n",
       "      <th>TTestStat</th>\n",
       "      <th>TTestPvalue</th>\n",
       "      <th>bhQvalue</th>\n",
       "      <th>TotalMissing</th>\n",
       "      <th>PercTotalMissing</th>\n",
       "      <th>Grp0_Missing</th>\n",
       "      <th>Grp1_Missing</th>\n",
       "      <th>ShapiroW</th>\n",
       "      <th>ShapiroPvalue</th>\n",
       "      <th>LeveneW</th>\n",
       "      <th>LevenePvalue</th>\n",
       "    </tr>\n",
       "  </thead>\n",
       "  <tbody>\n",
       "    <tr>\n",
       "      <th>1</th>\n",
       "      <td>1</td>\n",
       "      <td>compound_0001</td>\n",
       "      <td>glycine</td>\n",
       "      <td>1.192043</td>\n",
       "      <td>(1.12, 1.26)</td>\n",
       "      <td>0.929497</td>\n",
       "      <td>(0.87, 0.99)</td>\n",
       "      <td>0</td>\n",
       "      <td>5.542088</td>\n",
       "      <td>1.848349e-07</td>\n",
       "      <td>NaN</td>\n",
       "      <td>0</td>\n",
       "      <td>0.0</td>\n",
       "      <td>0.0</td>\n",
       "      <td>0.0</td>\n",
       "      <td>0.965770</td>\n",
       "      <td>3.784802e-03</td>\n",
       "      <td>0.035528</td>\n",
       "      <td>0.850816</td>\n",
       "    </tr>\n",
       "    <tr>\n",
       "      <th>2</th>\n",
       "      <td>2</td>\n",
       "      <td>compound_0002</td>\n",
       "      <td>N-acetylglycine</td>\n",
       "      <td>1.308192</td>\n",
       "      <td>(1.19, 1.43)</td>\n",
       "      <td>0.952799</td>\n",
       "      <td>(0.86, 1.05)</td>\n",
       "      <td>0</td>\n",
       "      <td>4.494654</td>\n",
       "      <td>1.637894e-05</td>\n",
       "      <td>NaN</td>\n",
       "      <td>0</td>\n",
       "      <td>0.0</td>\n",
       "      <td>0.0</td>\n",
       "      <td>0.0</td>\n",
       "      <td>0.925984</td>\n",
       "      <td>5.450908e-06</td>\n",
       "      <td>4.596315</td>\n",
       "      <td>0.034093</td>\n",
       "    </tr>\n",
       "    <tr>\n",
       "      <th>3</th>\n",
       "      <td>3</td>\n",
       "      <td>compound_0003</td>\n",
       "      <td>sarcosine</td>\n",
       "      <td>1.015306</td>\n",
       "      <td>(0.89, 1.14)</td>\n",
       "      <td>1.153340</td>\n",
       "      <td>(1.04, 1.27)</td>\n",
       "      <td>1</td>\n",
       "      <td>-1.602319</td>\n",
       "      <td>1.117587e-01</td>\n",
       "      <td>NaN</td>\n",
       "      <td>0</td>\n",
       "      <td>0.0</td>\n",
       "      <td>0.0</td>\n",
       "      <td>0.0</td>\n",
       "      <td>0.940640</td>\n",
       "      <td>4.729017e-05</td>\n",
       "      <td>0.006739</td>\n",
       "      <td>0.934714</td>\n",
       "    </tr>\n",
       "    <tr>\n",
       "      <th>4</th>\n",
       "      <td>4</td>\n",
       "      <td>compound_0004</td>\n",
       "      <td>dimethylglycine</td>\n",
       "      <td>0.907223</td>\n",
       "      <td>(0.83, 0.98)</td>\n",
       "      <td>1.031709</td>\n",
       "      <td>(0.98, 1.09)</td>\n",
       "      <td>1</td>\n",
       "      <td>-2.669773</td>\n",
       "      <td>8.660211e-03</td>\n",
       "      <td>NaN</td>\n",
       "      <td>0</td>\n",
       "      <td>0.0</td>\n",
       "      <td>0.0</td>\n",
       "      <td>0.0</td>\n",
       "      <td>0.968732</td>\n",
       "      <td>6.795282e-03</td>\n",
       "      <td>9.241222</td>\n",
       "      <td>0.002915</td>\n",
       "    </tr>\n",
       "    <tr>\n",
       "      <th>5</th>\n",
       "      <td>5</td>\n",
       "      <td>compound_0005</td>\n",
       "      <td>betaine</td>\n",
       "      <td>1.073005</td>\n",
       "      <td>(1.0, 1.14)</td>\n",
       "      <td>1.013549</td>\n",
       "      <td>(0.97, 1.06)</td>\n",
       "      <td>0</td>\n",
       "      <td>1.383652</td>\n",
       "      <td>1.690769e-01</td>\n",
       "      <td>NaN</td>\n",
       "      <td>0</td>\n",
       "      <td>0.0</td>\n",
       "      <td>0.0</td>\n",
       "      <td>0.0</td>\n",
       "      <td>0.961269</td>\n",
       "      <td>1.601881e-03</td>\n",
       "      <td>5.309837</td>\n",
       "      <td>0.022954</td>\n",
       "    </tr>\n",
       "    <tr>\n",
       "      <th>...</th>\n",
       "      <td>...</td>\n",
       "      <td>...</td>\n",
       "      <td>...</td>\n",
       "      <td>...</td>\n",
       "      <td>...</td>\n",
       "      <td>...</td>\n",
       "      <td>...</td>\n",
       "      <td>...</td>\n",
       "      <td>...</td>\n",
       "      <td>...</td>\n",
       "      <td>...</td>\n",
       "      <td>...</td>\n",
       "      <td>...</td>\n",
       "      <td>...</td>\n",
       "      <td>...</td>\n",
       "      <td>...</td>\n",
       "      <td>...</td>\n",
       "      <td>...</td>\n",
       "      <td>...</td>\n",
       "    </tr>\n",
       "    <tr>\n",
       "      <th>1482</th>\n",
       "      <td>1482</td>\n",
       "      <td>compound_1482</td>\n",
       "      <td>X - 24699</td>\n",
       "      <td>0.897484</td>\n",
       "      <td>(0.82, 0.97)</td>\n",
       "      <td>1.157454</td>\n",
       "      <td>(1.09, 1.23)</td>\n",
       "      <td>1</td>\n",
       "      <td>-5.071083</td>\n",
       "      <td>1.484947e-06</td>\n",
       "      <td>NaN</td>\n",
       "      <td>0</td>\n",
       "      <td>0.0</td>\n",
       "      <td>0.0</td>\n",
       "      <td>0.0</td>\n",
       "      <td>0.973029</td>\n",
       "      <td>1.631136e-02</td>\n",
       "      <td>0.022569</td>\n",
       "      <td>0.880839</td>\n",
       "    </tr>\n",
       "    <tr>\n",
       "      <th>1483</th>\n",
       "      <td>1483</td>\n",
       "      <td>compound_1483</td>\n",
       "      <td>X - 24728</td>\n",
       "      <td>0.706373</td>\n",
       "      <td>(0.59, 0.82)</td>\n",
       "      <td>0.997034</td>\n",
       "      <td>(0.88, 1.12)</td>\n",
       "      <td>1</td>\n",
       "      <td>-3.431010</td>\n",
       "      <td>8.295522e-04</td>\n",
       "      <td>NaN</td>\n",
       "      <td>0</td>\n",
       "      <td>0.0</td>\n",
       "      <td>0.0</td>\n",
       "      <td>0.0</td>\n",
       "      <td>0.945324</td>\n",
       "      <td>9.963310e-05</td>\n",
       "      <td>0.001557</td>\n",
       "      <td>0.968591</td>\n",
       "    </tr>\n",
       "    <tr>\n",
       "      <th>1484</th>\n",
       "      <td>1484</td>\n",
       "      <td>compound_1484</td>\n",
       "      <td>X - 24738</td>\n",
       "      <td>2.297380</td>\n",
       "      <td>(1.6, 3.0)</td>\n",
       "      <td>1.642435</td>\n",
       "      <td>(1.15, 2.13)</td>\n",
       "      <td>0</td>\n",
       "      <td>1.500534</td>\n",
       "      <td>1.361471e-01</td>\n",
       "      <td>NaN</td>\n",
       "      <td>0</td>\n",
       "      <td>0.0</td>\n",
       "      <td>0.0</td>\n",
       "      <td>0.0</td>\n",
       "      <td>0.755145</td>\n",
       "      <td>7.267517e-13</td>\n",
       "      <td>0.718475</td>\n",
       "      <td>0.398361</td>\n",
       "    </tr>\n",
       "    <tr>\n",
       "      <th>1485</th>\n",
       "      <td>1485</td>\n",
       "      <td>compound_1485</td>\n",
       "      <td>X - 24748</td>\n",
       "      <td>0.851830</td>\n",
       "      <td>(0.78, 0.92)</td>\n",
       "      <td>1.173930</td>\n",
       "      <td>(1.05, 1.3)</td>\n",
       "      <td>1</td>\n",
       "      <td>-4.471298</td>\n",
       "      <td>1.798423e-05</td>\n",
       "      <td>NaN</td>\n",
       "      <td>0</td>\n",
       "      <td>0.0</td>\n",
       "      <td>0.0</td>\n",
       "      <td>0.0</td>\n",
       "      <td>0.891919</td>\n",
       "      <td>7.742936e-08</td>\n",
       "      <td>5.945098</td>\n",
       "      <td>0.016249</td>\n",
       "    </tr>\n",
       "    <tr>\n",
       "      <th>1486</th>\n",
       "      <td>1486</td>\n",
       "      <td>compound_1486</td>\n",
       "      <td>X - 24766</td>\n",
       "      <td>1.017345</td>\n",
       "      <td>(0.92, 1.12)</td>\n",
       "      <td>0.985497</td>\n",
       "      <td>(0.94, 1.03)</td>\n",
       "      <td>0</td>\n",
       "      <td>0.550814</td>\n",
       "      <td>5.828028e-01</td>\n",
       "      <td>NaN</td>\n",
       "      <td>0</td>\n",
       "      <td>0.0</td>\n",
       "      <td>0.0</td>\n",
       "      <td>0.0</td>\n",
       "      <td>0.849856</td>\n",
       "      <td>1.094482e-09</td>\n",
       "      <td>9.244131</td>\n",
       "      <td>0.002911</td>\n",
       "    </tr>\n",
       "  </tbody>\n",
       "</table>\n",
       "<p>1486 rows × 19 columns</p>\n",
       "</div>"
      ],
      "text/plain": [
       "       Idx           Name            Label  Grp0_Mean Grp0_Mean-95CI  \\\n",
       "1        1  compound_0001          glycine   1.192043   (1.12, 1.26)   \n",
       "2        2  compound_0002  N-acetylglycine   1.308192   (1.19, 1.43)   \n",
       "3        3  compound_0003        sarcosine   1.015306   (0.89, 1.14)   \n",
       "4        4  compound_0004  dimethylglycine   0.907223   (0.83, 0.98)   \n",
       "5        5  compound_0005          betaine   1.073005    (1.0, 1.14)   \n",
       "...    ...            ...              ...        ...            ...   \n",
       "1482  1482  compound_1482        X - 24699   0.897484   (0.82, 0.97)   \n",
       "1483  1483  compound_1483        X - 24728   0.706373   (0.59, 0.82)   \n",
       "1484  1484  compound_1484        X - 24738   2.297380     (1.6, 3.0)   \n",
       "1485  1485  compound_1485        X - 24748   0.851830   (0.78, 0.92)   \n",
       "1486  1486  compound_1486        X - 24766   1.017345   (0.92, 1.12)   \n",
       "\n",
       "      Grp1_Mean Grp1_Mean-95CI  Sign  TTestStat   TTestPvalue  bhQvalue  \\\n",
       "1      0.929497   (0.87, 0.99)     0   5.542088  1.848349e-07       NaN   \n",
       "2      0.952799   (0.86, 1.05)     0   4.494654  1.637894e-05       NaN   \n",
       "3      1.153340   (1.04, 1.27)     1  -1.602319  1.117587e-01       NaN   \n",
       "4      1.031709   (0.98, 1.09)     1  -2.669773  8.660211e-03       NaN   \n",
       "5      1.013549   (0.97, 1.06)     0   1.383652  1.690769e-01       NaN   \n",
       "...         ...            ...   ...        ...           ...       ...   \n",
       "1482   1.157454   (1.09, 1.23)     1  -5.071083  1.484947e-06       NaN   \n",
       "1483   0.997034   (0.88, 1.12)     1  -3.431010  8.295522e-04       NaN   \n",
       "1484   1.642435   (1.15, 2.13)     0   1.500534  1.361471e-01       NaN   \n",
       "1485   1.173930    (1.05, 1.3)     1  -4.471298  1.798423e-05       NaN   \n",
       "1486   0.985497   (0.94, 1.03)     0   0.550814  5.828028e-01       NaN   \n",
       "\n",
       "      TotalMissing  PercTotalMissing  Grp0_Missing  Grp1_Missing  ShapiroW  \\\n",
       "1                0               0.0           0.0           0.0  0.965770   \n",
       "2                0               0.0           0.0           0.0  0.925984   \n",
       "3                0               0.0           0.0           0.0  0.940640   \n",
       "4                0               0.0           0.0           0.0  0.968732   \n",
       "5                0               0.0           0.0           0.0  0.961269   \n",
       "...            ...               ...           ...           ...       ...   \n",
       "1482             0               0.0           0.0           0.0  0.973029   \n",
       "1483             0               0.0           0.0           0.0  0.945324   \n",
       "1484             0               0.0           0.0           0.0  0.755145   \n",
       "1485             0               0.0           0.0           0.0  0.891919   \n",
       "1486             0               0.0           0.0           0.0  0.849856   \n",
       "\n",
       "      ShapiroPvalue   LeveneW  LevenePvalue  \n",
       "1      3.784802e-03  0.035528      0.850816  \n",
       "2      5.450908e-06  4.596315      0.034093  \n",
       "3      4.729017e-05  0.006739      0.934714  \n",
       "4      6.795282e-03  9.241222      0.002915  \n",
       "5      1.601881e-03  5.309837      0.022954  \n",
       "...             ...       ...           ...  \n",
       "1482   1.631136e-02  0.022569      0.880839  \n",
       "1483   9.963310e-05  0.001557      0.968591  \n",
       "1484   7.267517e-13  0.718475      0.398361  \n",
       "1485   7.742936e-08  5.945098      0.016249  \n",
       "1486   1.094482e-09  9.244131      0.002911  \n",
       "\n",
       "[1486 rows x 19 columns]"
      ]
     },
     "execution_count": 433,
     "metadata": {},
     "output_type": "execute_result"
    }
   ],
   "source": [
    "\n",
    "# Seleccionar los grupos a comparar para hacer el análisis estadístico\n",
    "Stat_hoja2 = hoja2[(hoja2.Class == \"diabetic\") | (hoja2.Class == \"Healthy\")]  # Seleccionar solo los grupos Diabeticos y Sanos\n",
    "pos_outcome = \"diabetic\"    #que resulten positivos para diabetes\n",
    "\n",
    "# Calcular la estadistica básica y crear la tabla.\n",
    "Tabla_estadistica = cb.utils.univariate_2class(Stat_hoja2,\n",
    "                                        hoja3,\n",
    "                                        group='Class',                # Columna para determinar los grupos\n",
    "                                        posclass= pos_outcome,         # Valor posclass en la columna de acuerod a la clase\n",
    "                                        parametric=True)              # Set parametric = True or False\n",
    "\n",
    "# Imprimir tabla\n",
    "Tabla_estadistica\n"
   ]
  },
  {
   "cell_type": "code",
   "execution_count": null,
   "metadata": {},
   "outputs": [],
   "source": [
    "#ordenar T-test\n",
    "Tabla_estadistica=Tabla_estadistica.sort_values(by=\"TTestPvalue\", ascending=False)\n"
   ]
  },
  {
   "cell_type": "code",
   "execution_count": null,
   "metadata": {},
   "outputs": [],
   "source": [
    "#Coger aquellos que p valor <=0.05\n",
    "Ttest=Tabla_estadistica[Tabla_estadistica['TTestPvalue'] <= 0.05]\n"
   ]
  },
  {
   "cell_type": "code",
   "execution_count": null,
   "metadata": {},
   "outputs": [
    {
     "data": {
      "text/html": [
       "<div>\n",
       "<style scoped>\n",
       "    .dataframe tbody tr th:only-of-type {\n",
       "        vertical-align: middle;\n",
       "    }\n",
       "\n",
       "    .dataframe tbody tr th {\n",
       "        vertical-align: top;\n",
       "    }\n",
       "\n",
       "    .dataframe thead th {\n",
       "        text-align: right;\n",
       "    }\n",
       "</style>\n",
       "<table border=\"1\" class=\"dataframe\">\n",
       "  <thead>\n",
       "    <tr style=\"text-align: right;\">\n",
       "      <th></th>\n",
       "      <th>Name</th>\n",
       "      <th>Label</th>\n",
       "      <th>Sign</th>\n",
       "      <th>TTestPvalue</th>\n",
       "    </tr>\n",
       "  </thead>\n",
       "  <tbody>\n",
       "    <tr>\n",
       "      <th>1437</th>\n",
       "      <td>compound_1437</td>\n",
       "      <td>X - 23314</td>\n",
       "      <td>0</td>\n",
       "      <td>4.993480e-02</td>\n",
       "    </tr>\n",
       "    <tr>\n",
       "      <th>675</th>\n",
       "      <td>compound_0675</td>\n",
       "      <td>PC(16:0/18:3)</td>\n",
       "      <td>0</td>\n",
       "      <td>4.923218e-02</td>\n",
       "    </tr>\n",
       "    <tr>\n",
       "      <th>503</th>\n",
       "      <td>compound_0503</td>\n",
       "      <td>CE(18:3)</td>\n",
       "      <td>0</td>\n",
       "      <td>4.918289e-02</td>\n",
       "    </tr>\n",
       "    <tr>\n",
       "      <th>1475</th>\n",
       "      <td>compound_1475</td>\n",
       "      <td>X - 24513</td>\n",
       "      <td>1</td>\n",
       "      <td>4.829171e-02</td>\n",
       "    </tr>\n",
       "    <tr>\n",
       "      <th>359</th>\n",
       "      <td>compound_0359</td>\n",
       "      <td>orotate</td>\n",
       "      <td>0</td>\n",
       "      <td>4.608197e-02</td>\n",
       "    </tr>\n",
       "    <tr>\n",
       "      <th>...</th>\n",
       "      <td>...</td>\n",
       "      <td>...</td>\n",
       "      <td>...</td>\n",
       "      <td>...</td>\n",
       "    </tr>\n",
       "    <tr>\n",
       "      <th>274</th>\n",
       "      <td>compound_0274</td>\n",
       "      <td>arachidonoylcholine</td>\n",
       "      <td>0</td>\n",
       "      <td>3.992250e-24</td>\n",
       "    </tr>\n",
       "    <tr>\n",
       "      <th>102</th>\n",
       "      <td>compound_0102</td>\n",
       "      <td>3-methyl-2-oxobutyrate</td>\n",
       "      <td>1</td>\n",
       "      <td>6.115574e-25</td>\n",
       "    </tr>\n",
       "    <tr>\n",
       "      <th>174</th>\n",
       "      <td>compound_0174</td>\n",
       "      <td>1,5-anhydroglucitol (1,5-AG)</td>\n",
       "      <td>0</td>\n",
       "      <td>2.957549e-28</td>\n",
       "    </tr>\n",
       "    <tr>\n",
       "      <th>175</th>\n",
       "      <td>compound_0175</td>\n",
       "      <td>glucose</td>\n",
       "      <td>1</td>\n",
       "      <td>1.799012e-29</td>\n",
       "    </tr>\n",
       "    <tr>\n",
       "      <th>189</th>\n",
       "      <td>compound_0189</td>\n",
       "      <td>mannose</td>\n",
       "      <td>1</td>\n",
       "      <td>7.797432e-42</td>\n",
       "    </tr>\n",
       "  </tbody>\n",
       "</table>\n",
       "<p>1122 rows × 4 columns</p>\n",
       "</div>"
      ],
      "text/plain": [
       "               Name                         Label  Sign   TTestPvalue\n",
       "1437  compound_1437                     X - 23314     0  4.993480e-02\n",
       "675   compound_0675                 PC(16:0/18:3)     0  4.923218e-02\n",
       "503   compound_0503                      CE(18:3)     0  4.918289e-02\n",
       "1475  compound_1475                     X - 24513     1  4.829171e-02\n",
       "359   compound_0359                       orotate     0  4.608197e-02\n",
       "...             ...                           ...   ...           ...\n",
       "274   compound_0274           arachidonoylcholine     0  3.992250e-24\n",
       "102   compound_0102        3-methyl-2-oxobutyrate     1  6.115574e-25\n",
       "174   compound_0174  1,5-anhydroglucitol (1,5-AG)     0  2.957549e-28\n",
       "175   compound_0175                       glucose     1  1.799012e-29\n",
       "189   compound_0189                       mannose     1  7.797432e-42\n",
       "\n",
       "[1122 rows x 4 columns]"
      ]
     },
     "execution_count": 436,
     "metadata": {},
     "output_type": "execute_result"
    }
   ],
   "source": [
    "Ttest.loc[:, [\"Name\", \"Label\", \"Sign\",\"TTestPvalue\"]]"
   ]
  },
  {
   "cell_type": "code",
   "execution_count": null,
   "metadata": {},
   "outputs": [
    {
     "data": {
      "text/html": [
       "<div>\n",
       "<style scoped>\n",
       "    .dataframe tbody tr th:only-of-type {\n",
       "        vertical-align: middle;\n",
       "    }\n",
       "\n",
       "    .dataframe tbody tr th {\n",
       "        vertical-align: top;\n",
       "    }\n",
       "\n",
       "    .dataframe thead th {\n",
       "        text-align: right;\n",
       "    }\n",
       "</style>\n",
       "<table border=\"1\" class=\"dataframe\">\n",
       "  <thead>\n",
       "    <tr style=\"text-align: right;\">\n",
       "      <th></th>\n",
       "      <th>Name</th>\n",
       "      <th>Label</th>\n",
       "      <th>Sign</th>\n",
       "      <th>TTestPvalue</th>\n",
       "    </tr>\n",
       "  </thead>\n",
       "  <tbody>\n",
       "    <tr>\n",
       "      <th>500</th>\n",
       "      <td>compound_0500</td>\n",
       "      <td>CE(18:0)</td>\n",
       "      <td>1</td>\n",
       "      <td>9.996217e-01</td>\n",
       "    </tr>\n",
       "    <tr>\n",
       "      <th>1301</th>\n",
       "      <td>compound_1301</td>\n",
       "      <td>X - 12730</td>\n",
       "      <td>1</td>\n",
       "      <td>9.978571e-01</td>\n",
       "    </tr>\n",
       "    <tr>\n",
       "      <th>1356</th>\n",
       "      <td>compound_1356</td>\n",
       "      <td>X - 17010</td>\n",
       "      <td>1</td>\n",
       "      <td>9.929556e-01</td>\n",
       "    </tr>\n",
       "    <tr>\n",
       "      <th>1419</th>\n",
       "      <td>compound_1419</td>\n",
       "      <td>X - 21792</td>\n",
       "      <td>1</td>\n",
       "      <td>9.807163e-01</td>\n",
       "    </tr>\n",
       "    <tr>\n",
       "      <th>682</th>\n",
       "      <td>compound_0682</td>\n",
       "      <td>PC(16:0/22:6)</td>\n",
       "      <td>1</td>\n",
       "      <td>9.778133e-01</td>\n",
       "    </tr>\n",
       "    <tr>\n",
       "      <th>...</th>\n",
       "      <td>...</td>\n",
       "      <td>...</td>\n",
       "      <td>...</td>\n",
       "      <td>...</td>\n",
       "    </tr>\n",
       "    <tr>\n",
       "      <th>17</th>\n",
       "      <td>compound_0017</td>\n",
       "      <td>glutamate</td>\n",
       "      <td>1</td>\n",
       "      <td>8.188690e-23</td>\n",
       "    </tr>\n",
       "    <tr>\n",
       "      <th>164</th>\n",
       "      <td>compound_0164</td>\n",
       "      <td>N-acetylcarnosine</td>\n",
       "      <td>1</td>\n",
       "      <td>2.585552e-23</td>\n",
       "    </tr>\n",
       "    <tr>\n",
       "      <th>102</th>\n",
       "      <td>compound_0102</td>\n",
       "      <td>3-methyl-2-oxobutyrate</td>\n",
       "      <td>1</td>\n",
       "      <td>6.115574e-25</td>\n",
       "    </tr>\n",
       "    <tr>\n",
       "      <th>175</th>\n",
       "      <td>compound_0175</td>\n",
       "      <td>glucose</td>\n",
       "      <td>1</td>\n",
       "      <td>1.799012e-29</td>\n",
       "    </tr>\n",
       "    <tr>\n",
       "      <th>189</th>\n",
       "      <td>compound_0189</td>\n",
       "      <td>mannose</td>\n",
       "      <td>1</td>\n",
       "      <td>7.797432e-42</td>\n",
       "    </tr>\n",
       "  </tbody>\n",
       "</table>\n",
       "<p>1083 rows × 4 columns</p>\n",
       "</div>"
      ],
      "text/plain": [
       "               Name                   Label  Sign   TTestPvalue\n",
       "500   compound_0500                CE(18:0)     1  9.996217e-01\n",
       "1301  compound_1301               X - 12730     1  9.978571e-01\n",
       "1356  compound_1356               X - 17010     1  9.929556e-01\n",
       "1419  compound_1419               X - 21792     1  9.807163e-01\n",
       "682   compound_0682           PC(16:0/22:6)     1  9.778133e-01\n",
       "...             ...                     ...   ...           ...\n",
       "17    compound_0017               glutamate     1  8.188690e-23\n",
       "164   compound_0164       N-acetylcarnosine     1  2.585552e-23\n",
       "102   compound_0102  3-methyl-2-oxobutyrate     1  6.115574e-25\n",
       "175   compound_0175                 glucose     1  1.799012e-29\n",
       "189   compound_0189                 mannose     1  7.797432e-42\n",
       "\n",
       "[1083 rows x 4 columns]"
      ]
     },
     "execution_count": 437,
     "metadata": {},
     "output_type": "execute_result"
    }
   ],
   "source": [
    "#cogemos aquellos que resulten significativamente más alto en diabetes \n",
    "Ttest=Tabla_estadistica[Tabla_estadistica['Sign'] == 1]\n",
    "Ttest.loc[:, [\"Name\", \"Label\", \"Sign\",\"TTestPvalue\"]]"
   ]
  },
  {
   "cell_type": "code",
   "execution_count": null,
   "metadata": {},
   "outputs": [
    {
     "name": "stderr",
     "output_type": "stream",
     "text": [
      "C:\\Users\\Claudia\\AppData\\Local\\Programs\\Python\\Python37\\lib\\site-packages\\scipy\\stats\\morestats.py:1757: UserWarning:\n",
      "\n",
      "Input data for shapiro has range zero. The results may not be accurate.\n",
      "\n",
      "C:\\Users\\Claudia\\AppData\\Local\\Programs\\Python\\Python37\\lib\\site-packages\\scipy\\stats\\morestats.py:2603: RuntimeWarning:\n",
      "\n",
      "invalid value encountered in double_scalars\n",
      "\n"
     ]
    },
    {
     "data": {
      "text/html": [
       "<div>\n",
       "<style scoped>\n",
       "    .dataframe tbody tr th:only-of-type {\n",
       "        vertical-align: middle;\n",
       "    }\n",
       "\n",
       "    .dataframe tbody tr th {\n",
       "        vertical-align: top;\n",
       "    }\n",
       "\n",
       "    .dataframe thead th {\n",
       "        text-align: right;\n",
       "    }\n",
       "</style>\n",
       "<table border=\"1\" class=\"dataframe\">\n",
       "  <thead>\n",
       "    <tr style=\"text-align: right;\">\n",
       "      <th></th>\n",
       "      <th>Idx</th>\n",
       "      <th>Name</th>\n",
       "      <th>Label</th>\n",
       "      <th>Grp0_Mean</th>\n",
       "      <th>Grp0_Mean-95CI</th>\n",
       "      <th>Grp1_Mean</th>\n",
       "      <th>Grp1_Mean-95CI</th>\n",
       "      <th>Sign</th>\n",
       "      <th>TTestStat</th>\n",
       "      <th>TTestPvalue</th>\n",
       "      <th>bhQvalue</th>\n",
       "      <th>TotalMissing</th>\n",
       "      <th>PercTotalMissing</th>\n",
       "      <th>Grp0_Missing</th>\n",
       "      <th>Grp1_Missing</th>\n",
       "      <th>ShapiroW</th>\n",
       "      <th>ShapiroPvalue</th>\n",
       "      <th>LeveneW</th>\n",
       "      <th>LevenePvalue</th>\n",
       "    </tr>\n",
       "  </thead>\n",
       "  <tbody>\n",
       "    <tr>\n",
       "      <th>1</th>\n",
       "      <td>1</td>\n",
       "      <td>compound_0001</td>\n",
       "      <td>glycine</td>\n",
       "      <td>0.929497</td>\n",
       "      <td>(0.87, 0.99)</td>\n",
       "      <td>1.192043</td>\n",
       "      <td>(1.12, 1.26)</td>\n",
       "      <td>1</td>\n",
       "      <td>-5.542088</td>\n",
       "      <td>1.848349e-07</td>\n",
       "      <td>NaN</td>\n",
       "      <td>0</td>\n",
       "      <td>0.0</td>\n",
       "      <td>0.0</td>\n",
       "      <td>0.0</td>\n",
       "      <td>0.965770</td>\n",
       "      <td>3.784802e-03</td>\n",
       "      <td>0.035528</td>\n",
       "      <td>0.850816</td>\n",
       "    </tr>\n",
       "    <tr>\n",
       "      <th>2</th>\n",
       "      <td>2</td>\n",
       "      <td>compound_0002</td>\n",
       "      <td>N-acetylglycine</td>\n",
       "      <td>0.952799</td>\n",
       "      <td>(0.86, 1.05)</td>\n",
       "      <td>1.308192</td>\n",
       "      <td>(1.19, 1.43)</td>\n",
       "      <td>1</td>\n",
       "      <td>-4.494654</td>\n",
       "      <td>1.637894e-05</td>\n",
       "      <td>NaN</td>\n",
       "      <td>0</td>\n",
       "      <td>0.0</td>\n",
       "      <td>0.0</td>\n",
       "      <td>0.0</td>\n",
       "      <td>0.925984</td>\n",
       "      <td>5.450908e-06</td>\n",
       "      <td>4.596315</td>\n",
       "      <td>0.034093</td>\n",
       "    </tr>\n",
       "    <tr>\n",
       "      <th>3</th>\n",
       "      <td>3</td>\n",
       "      <td>compound_0003</td>\n",
       "      <td>sarcosine</td>\n",
       "      <td>1.153340</td>\n",
       "      <td>(1.04, 1.27)</td>\n",
       "      <td>1.015306</td>\n",
       "      <td>(0.89, 1.14)</td>\n",
       "      <td>0</td>\n",
       "      <td>1.602319</td>\n",
       "      <td>1.117587e-01</td>\n",
       "      <td>NaN</td>\n",
       "      <td>0</td>\n",
       "      <td>0.0</td>\n",
       "      <td>0.0</td>\n",
       "      <td>0.0</td>\n",
       "      <td>0.940640</td>\n",
       "      <td>4.729017e-05</td>\n",
       "      <td>0.006739</td>\n",
       "      <td>0.934714</td>\n",
       "    </tr>\n",
       "    <tr>\n",
       "      <th>4</th>\n",
       "      <td>4</td>\n",
       "      <td>compound_0004</td>\n",
       "      <td>dimethylglycine</td>\n",
       "      <td>1.031709</td>\n",
       "      <td>(0.98, 1.09)</td>\n",
       "      <td>0.907223</td>\n",
       "      <td>(0.83, 0.98)</td>\n",
       "      <td>0</td>\n",
       "      <td>2.669773</td>\n",
       "      <td>8.660211e-03</td>\n",
       "      <td>NaN</td>\n",
       "      <td>0</td>\n",
       "      <td>0.0</td>\n",
       "      <td>0.0</td>\n",
       "      <td>0.0</td>\n",
       "      <td>0.968732</td>\n",
       "      <td>6.795282e-03</td>\n",
       "      <td>9.241222</td>\n",
       "      <td>0.002915</td>\n",
       "    </tr>\n",
       "    <tr>\n",
       "      <th>5</th>\n",
       "      <td>5</td>\n",
       "      <td>compound_0005</td>\n",
       "      <td>betaine</td>\n",
       "      <td>1.013549</td>\n",
       "      <td>(0.97, 1.06)</td>\n",
       "      <td>1.073005</td>\n",
       "      <td>(1.0, 1.14)</td>\n",
       "      <td>1</td>\n",
       "      <td>-1.383652</td>\n",
       "      <td>1.690769e-01</td>\n",
       "      <td>NaN</td>\n",
       "      <td>0</td>\n",
       "      <td>0.0</td>\n",
       "      <td>0.0</td>\n",
       "      <td>0.0</td>\n",
       "      <td>0.961269</td>\n",
       "      <td>1.601881e-03</td>\n",
       "      <td>5.309837</td>\n",
       "      <td>0.022954</td>\n",
       "    </tr>\n",
       "    <tr>\n",
       "      <th>...</th>\n",
       "      <td>...</td>\n",
       "      <td>...</td>\n",
       "      <td>...</td>\n",
       "      <td>...</td>\n",
       "      <td>...</td>\n",
       "      <td>...</td>\n",
       "      <td>...</td>\n",
       "      <td>...</td>\n",
       "      <td>...</td>\n",
       "      <td>...</td>\n",
       "      <td>...</td>\n",
       "      <td>...</td>\n",
       "      <td>...</td>\n",
       "      <td>...</td>\n",
       "      <td>...</td>\n",
       "      <td>...</td>\n",
       "      <td>...</td>\n",
       "      <td>...</td>\n",
       "      <td>...</td>\n",
       "    </tr>\n",
       "    <tr>\n",
       "      <th>1482</th>\n",
       "      <td>1482</td>\n",
       "      <td>compound_1482</td>\n",
       "      <td>X - 24699</td>\n",
       "      <td>1.157454</td>\n",
       "      <td>(1.09, 1.23)</td>\n",
       "      <td>0.897484</td>\n",
       "      <td>(0.82, 0.97)</td>\n",
       "      <td>0</td>\n",
       "      <td>5.071083</td>\n",
       "      <td>1.484947e-06</td>\n",
       "      <td>NaN</td>\n",
       "      <td>0</td>\n",
       "      <td>0.0</td>\n",
       "      <td>0.0</td>\n",
       "      <td>0.0</td>\n",
       "      <td>0.973029</td>\n",
       "      <td>1.631136e-02</td>\n",
       "      <td>0.022569</td>\n",
       "      <td>0.880839</td>\n",
       "    </tr>\n",
       "    <tr>\n",
       "      <th>1483</th>\n",
       "      <td>1483</td>\n",
       "      <td>compound_1483</td>\n",
       "      <td>X - 24728</td>\n",
       "      <td>0.997034</td>\n",
       "      <td>(0.88, 1.12)</td>\n",
       "      <td>0.706373</td>\n",
       "      <td>(0.59, 0.82)</td>\n",
       "      <td>0</td>\n",
       "      <td>3.431010</td>\n",
       "      <td>8.295522e-04</td>\n",
       "      <td>NaN</td>\n",
       "      <td>0</td>\n",
       "      <td>0.0</td>\n",
       "      <td>0.0</td>\n",
       "      <td>0.0</td>\n",
       "      <td>0.945324</td>\n",
       "      <td>9.963310e-05</td>\n",
       "      <td>0.001557</td>\n",
       "      <td>0.968591</td>\n",
       "    </tr>\n",
       "    <tr>\n",
       "      <th>1484</th>\n",
       "      <td>1484</td>\n",
       "      <td>compound_1484</td>\n",
       "      <td>X - 24738</td>\n",
       "      <td>1.642435</td>\n",
       "      <td>(1.15, 2.13)</td>\n",
       "      <td>2.297380</td>\n",
       "      <td>(1.6, 3.0)</td>\n",
       "      <td>1</td>\n",
       "      <td>-1.500534</td>\n",
       "      <td>1.361471e-01</td>\n",
       "      <td>NaN</td>\n",
       "      <td>0</td>\n",
       "      <td>0.0</td>\n",
       "      <td>0.0</td>\n",
       "      <td>0.0</td>\n",
       "      <td>0.755145</td>\n",
       "      <td>7.267517e-13</td>\n",
       "      <td>0.718475</td>\n",
       "      <td>0.398361</td>\n",
       "    </tr>\n",
       "    <tr>\n",
       "      <th>1485</th>\n",
       "      <td>1485</td>\n",
       "      <td>compound_1485</td>\n",
       "      <td>X - 24748</td>\n",
       "      <td>1.173930</td>\n",
       "      <td>(1.05, 1.3)</td>\n",
       "      <td>0.851830</td>\n",
       "      <td>(0.78, 0.92)</td>\n",
       "      <td>0</td>\n",
       "      <td>4.471298</td>\n",
       "      <td>1.798423e-05</td>\n",
       "      <td>NaN</td>\n",
       "      <td>0</td>\n",
       "      <td>0.0</td>\n",
       "      <td>0.0</td>\n",
       "      <td>0.0</td>\n",
       "      <td>0.891919</td>\n",
       "      <td>7.742936e-08</td>\n",
       "      <td>5.945098</td>\n",
       "      <td>0.016249</td>\n",
       "    </tr>\n",
       "    <tr>\n",
       "      <th>1486</th>\n",
       "      <td>1486</td>\n",
       "      <td>compound_1486</td>\n",
       "      <td>X - 24766</td>\n",
       "      <td>0.985497</td>\n",
       "      <td>(0.94, 1.03)</td>\n",
       "      <td>1.017345</td>\n",
       "      <td>(0.92, 1.12)</td>\n",
       "      <td>1</td>\n",
       "      <td>-0.550814</td>\n",
       "      <td>5.828028e-01</td>\n",
       "      <td>NaN</td>\n",
       "      <td>0</td>\n",
       "      <td>0.0</td>\n",
       "      <td>0.0</td>\n",
       "      <td>0.0</td>\n",
       "      <td>0.849856</td>\n",
       "      <td>1.094482e-09</td>\n",
       "      <td>9.244131</td>\n",
       "      <td>0.002911</td>\n",
       "    </tr>\n",
       "  </tbody>\n",
       "</table>\n",
       "<p>1486 rows × 19 columns</p>\n",
       "</div>"
      ],
      "text/plain": [
       "       Idx           Name            Label  Grp0_Mean Grp0_Mean-95CI  \\\n",
       "1        1  compound_0001          glycine   0.929497   (0.87, 0.99)   \n",
       "2        2  compound_0002  N-acetylglycine   0.952799   (0.86, 1.05)   \n",
       "3        3  compound_0003        sarcosine   1.153340   (1.04, 1.27)   \n",
       "4        4  compound_0004  dimethylglycine   1.031709   (0.98, 1.09)   \n",
       "5        5  compound_0005          betaine   1.013549   (0.97, 1.06)   \n",
       "...    ...            ...              ...        ...            ...   \n",
       "1482  1482  compound_1482        X - 24699   1.157454   (1.09, 1.23)   \n",
       "1483  1483  compound_1483        X - 24728   0.997034   (0.88, 1.12)   \n",
       "1484  1484  compound_1484        X - 24738   1.642435   (1.15, 2.13)   \n",
       "1485  1485  compound_1485        X - 24748   1.173930    (1.05, 1.3)   \n",
       "1486  1486  compound_1486        X - 24766   0.985497   (0.94, 1.03)   \n",
       "\n",
       "      Grp1_Mean Grp1_Mean-95CI  Sign  TTestStat   TTestPvalue  bhQvalue  \\\n",
       "1      1.192043   (1.12, 1.26)     1  -5.542088  1.848349e-07       NaN   \n",
       "2      1.308192   (1.19, 1.43)     1  -4.494654  1.637894e-05       NaN   \n",
       "3      1.015306   (0.89, 1.14)     0   1.602319  1.117587e-01       NaN   \n",
       "4      0.907223   (0.83, 0.98)     0   2.669773  8.660211e-03       NaN   \n",
       "5      1.073005    (1.0, 1.14)     1  -1.383652  1.690769e-01       NaN   \n",
       "...         ...            ...   ...        ...           ...       ...   \n",
       "1482   0.897484   (0.82, 0.97)     0   5.071083  1.484947e-06       NaN   \n",
       "1483   0.706373   (0.59, 0.82)     0   3.431010  8.295522e-04       NaN   \n",
       "1484   2.297380     (1.6, 3.0)     1  -1.500534  1.361471e-01       NaN   \n",
       "1485   0.851830   (0.78, 0.92)     0   4.471298  1.798423e-05       NaN   \n",
       "1486   1.017345   (0.92, 1.12)     1  -0.550814  5.828028e-01       NaN   \n",
       "\n",
       "      TotalMissing  PercTotalMissing  Grp0_Missing  Grp1_Missing  ShapiroW  \\\n",
       "1                0               0.0           0.0           0.0  0.965770   \n",
       "2                0               0.0           0.0           0.0  0.925984   \n",
       "3                0               0.0           0.0           0.0  0.940640   \n",
       "4                0               0.0           0.0           0.0  0.968732   \n",
       "5                0               0.0           0.0           0.0  0.961269   \n",
       "...            ...               ...           ...           ...       ...   \n",
       "1482             0               0.0           0.0           0.0  0.973029   \n",
       "1483             0               0.0           0.0           0.0  0.945324   \n",
       "1484             0               0.0           0.0           0.0  0.755145   \n",
       "1485             0               0.0           0.0           0.0  0.891919   \n",
       "1486             0               0.0           0.0           0.0  0.849856   \n",
       "\n",
       "      ShapiroPvalue   LeveneW  LevenePvalue  \n",
       "1      3.784802e-03  0.035528      0.850816  \n",
       "2      5.450908e-06  4.596315      0.034093  \n",
       "3      4.729017e-05  0.006739      0.934714  \n",
       "4      6.795282e-03  9.241222      0.002915  \n",
       "5      1.601881e-03  5.309837      0.022954  \n",
       "...             ...       ...           ...  \n",
       "1482   1.631136e-02  0.022569      0.880839  \n",
       "1483   9.963310e-05  0.001557      0.968591  \n",
       "1484   7.267517e-13  0.718475      0.398361  \n",
       "1485   7.742936e-08  5.945098      0.016249  \n",
       "1486   1.094482e-09  9.244131      0.002911  \n",
       "\n",
       "[1486 rows x 19 columns]"
      ]
     },
     "execution_count": 438,
     "metadata": {},
     "output_type": "execute_result"
    }
   ],
   "source": [
    "# Seleccionar los grupos a comparar para hacer el análisis estadístico\n",
    "Stat_hoja2 = hoja2[(hoja2.Class == \"diabetic\") | (hoja2.Class == \"Healthy\")]  # Seleccionar solo los grupos Diabeticos y Sanos\n",
    "pos_outcome = \"Healthy\"    #que resulten positivos para Sanos\n",
    "\n",
    "# Calcular la estadistica básica y crear la tabla.\n",
    "Tabla_estadistica_H = cb.utils.univariate_2class(Stat_hoja2,\n",
    "                                        hoja3,\n",
    "                                        group='Class',                # Columna para determinar los grupos\n",
    "                                        posclass= pos_outcome,         # Valor posclass en la columna de acuerod a la clase\n",
    "                                        parametric=True)              # Set parametric = True or False\n",
    "\n",
    "# Imprimir tabla\n",
    "Tabla_estadistica_H\n"
   ]
  },
  {
   "cell_type": "code",
   "execution_count": null,
   "metadata": {},
   "outputs": [],
   "source": [
    "#ordenar T-test\n",
    "Tabla_estadistica_H=Tabla_estadistica_H.sort_values(by=\"TTestPvalue\", ascending=False)"
   ]
  },
  {
   "cell_type": "code",
   "execution_count": null,
   "metadata": {},
   "outputs": [],
   "source": [
    "#Coger aquellos que p valor <=0.05\n",
    "Ttest_H=Tabla_estadistica_H[Tabla_estadistica_H['TTestPvalue'] <= 0.05]\n"
   ]
  },
  {
   "cell_type": "code",
   "execution_count": null,
   "metadata": {},
   "outputs": [
    {
     "data": {
      "text/html": [
       "<div>\n",
       "<style scoped>\n",
       "    .dataframe tbody tr th:only-of-type {\n",
       "        vertical-align: middle;\n",
       "    }\n",
       "\n",
       "    .dataframe tbody tr th {\n",
       "        vertical-align: top;\n",
       "    }\n",
       "\n",
       "    .dataframe thead th {\n",
       "        text-align: right;\n",
       "    }\n",
       "</style>\n",
       "<table border=\"1\" class=\"dataframe\">\n",
       "  <thead>\n",
       "    <tr style=\"text-align: right;\">\n",
       "      <th></th>\n",
       "      <th>Name</th>\n",
       "      <th>Label</th>\n",
       "      <th>Sign</th>\n",
       "      <th>TTestPvalue</th>\n",
       "    </tr>\n",
       "  </thead>\n",
       "  <tbody>\n",
       "    <tr>\n",
       "      <th>646</th>\n",
       "      <td>compound_0646</td>\n",
       "      <td>PC(18:0/18:0)</td>\n",
       "      <td>1</td>\n",
       "      <td>9.989640e-01</td>\n",
       "    </tr>\n",
       "    <tr>\n",
       "      <th>1421</th>\n",
       "      <td>compound_1421</td>\n",
       "      <td>X - 21803</td>\n",
       "      <td>1</td>\n",
       "      <td>9.932924e-01</td>\n",
       "    </tr>\n",
       "    <tr>\n",
       "      <th>269</th>\n",
       "      <td>compound_0269</td>\n",
       "      <td>phosphocholine</td>\n",
       "      <td>1</td>\n",
       "      <td>9.868573e-01</td>\n",
       "    </tr>\n",
       "    <tr>\n",
       "      <th>124</th>\n",
       "      <td>compound_0124</td>\n",
       "      <td>urea</td>\n",
       "      <td>1</td>\n",
       "      <td>9.751489e-01</td>\n",
       "    </tr>\n",
       "    <tr>\n",
       "      <th>715</th>\n",
       "      <td>compound_0715</td>\n",
       "      <td>PE(P-16:0/20:3)</td>\n",
       "      <td>1</td>\n",
       "      <td>9.551107e-01</td>\n",
       "    </tr>\n",
       "    <tr>\n",
       "      <th>...</th>\n",
       "      <td>...</td>\n",
       "      <td>...</td>\n",
       "      <td>...</td>\n",
       "      <td>...</td>\n",
       "    </tr>\n",
       "    <tr>\n",
       "      <th>342</th>\n",
       "      <td>compound_0342</td>\n",
       "      <td>palmitoylcholine</td>\n",
       "      <td>1</td>\n",
       "      <td>7.904935e-22</td>\n",
       "    </tr>\n",
       "    <tr>\n",
       "      <th>344</th>\n",
       "      <td>compound_0344</td>\n",
       "      <td>oleoylcholine</td>\n",
       "      <td>1</td>\n",
       "      <td>5.110461e-22</td>\n",
       "    </tr>\n",
       "    <tr>\n",
       "      <th>276</th>\n",
       "      <td>compound_0276</td>\n",
       "      <td>docosahexaenoylcholine</td>\n",
       "      <td>1</td>\n",
       "      <td>4.989256e-23</td>\n",
       "    </tr>\n",
       "    <tr>\n",
       "      <th>274</th>\n",
       "      <td>compound_0274</td>\n",
       "      <td>arachidonoylcholine</td>\n",
       "      <td>1</td>\n",
       "      <td>3.992250e-24</td>\n",
       "    </tr>\n",
       "    <tr>\n",
       "      <th>174</th>\n",
       "      <td>compound_0174</td>\n",
       "      <td>1,5-anhydroglucitol (1,5-AG)</td>\n",
       "      <td>1</td>\n",
       "      <td>2.957549e-28</td>\n",
       "    </tr>\n",
       "  </tbody>\n",
       "</table>\n",
       "<p>369 rows × 4 columns</p>\n",
       "</div>"
      ],
      "text/plain": [
       "               Name                         Label  Sign   TTestPvalue\n",
       "646   compound_0646                 PC(18:0/18:0)     1  9.989640e-01\n",
       "1421  compound_1421                     X - 21803     1  9.932924e-01\n",
       "269   compound_0269                phosphocholine     1  9.868573e-01\n",
       "124   compound_0124                          urea     1  9.751489e-01\n",
       "715   compound_0715               PE(P-16:0/20:3)     1  9.551107e-01\n",
       "...             ...                           ...   ...           ...\n",
       "342   compound_0342              palmitoylcholine     1  7.904935e-22\n",
       "344   compound_0344                 oleoylcholine     1  5.110461e-22\n",
       "276   compound_0276        docosahexaenoylcholine     1  4.989256e-23\n",
       "274   compound_0274           arachidonoylcholine     1  3.992250e-24\n",
       "174   compound_0174  1,5-anhydroglucitol (1,5-AG)     1  2.957549e-28\n",
       "\n",
       "[369 rows x 4 columns]"
      ]
     },
     "execution_count": 441,
     "metadata": {},
     "output_type": "execute_result"
    }
   ],
   "source": [
    "#cogemos aquellos que resulten significativamente más alto en diabetes \n",
    "Ttest_H=Tabla_estadistica_H[Tabla_estadistica_H['Sign'] == 1]\n",
    "Ttest_H= Ttest_H.loc[:, [\"Name\", \"Label\", \"Sign\",\"TTestPvalue\"]]\n",
    "Ttest_H"
   ]
  },
  {
   "cell_type": "code",
   "execution_count": null,
   "metadata": {},
   "outputs": [
    {
     "data": {
      "text/html": [
       "<div>\n",
       "<style scoped>\n",
       "    .dataframe tbody tr th:only-of-type {\n",
       "        vertical-align: middle;\n",
       "    }\n",
       "\n",
       "    .dataframe tbody tr th {\n",
       "        vertical-align: top;\n",
       "    }\n",
       "\n",
       "    .dataframe thead th {\n",
       "        text-align: right;\n",
       "    }\n",
       "</style>\n",
       "<table border=\"1\" class=\"dataframe\">\n",
       "  <thead>\n",
       "    <tr style=\"text-align: right;\">\n",
       "      <th></th>\n",
       "      <th>Name</th>\n",
       "      <th>Label</th>\n",
       "      <th>Sign</th>\n",
       "      <th>TTestPvalue</th>\n",
       "    </tr>\n",
       "  </thead>\n",
       "  <tbody>\n",
       "  </tbody>\n",
       "</table>\n",
       "</div>"
      ],
      "text/plain": [
       "Empty DataFrame\n",
       "Columns: [Name, Label, Sign, TTestPvalue]\n",
       "Index: []"
      ]
     },
     "execution_count": 442,
     "metadata": {},
     "output_type": "execute_result"
    }
   ],
   "source": [
    "Ttest_glucose = Ttest_H[Ttest_H['Label'] == \"glucose\"]\n",
    "Ttest_glucose"
   ]
  },
  {
   "cell_type": "markdown",
   "metadata": {},
   "source": [
    "### 3.3 Dataset Hoja 3   -----> Información identificacion/clase de los compuestos"
   ]
  },
  {
   "cell_type": "code",
   "execution_count": null,
   "metadata": {},
   "outputs": [
    {
     "data": {
      "text/html": [
       "<div>\n",
       "<style scoped>\n",
       "    .dataframe tbody tr th:only-of-type {\n",
       "        vertical-align: middle;\n",
       "    }\n",
       "\n",
       "    .dataframe tbody tr th {\n",
       "        vertical-align: top;\n",
       "    }\n",
       "\n",
       "    .dataframe thead th {\n",
       "        text-align: right;\n",
       "    }\n",
       "</style>\n",
       "<table border=\"1\" class=\"dataframe\">\n",
       "  <thead>\n",
       "    <tr style=\"text-align: right;\">\n",
       "      <th></th>\n",
       "      <th>compound_id</th>\n",
       "      <th>PATHWAY_SORTORDER</th>\n",
       "      <th>BIOCHEMICAL</th>\n",
       "      <th>SUPER_PATHWAY</th>\n",
       "      <th>SUB_PATHWAY</th>\n",
       "      <th>COMP_ID</th>\n",
       "      <th>PLATFORM</th>\n",
       "      <th>RI</th>\n",
       "      <th>MASS</th>\n",
       "      <th>PUBCHEM</th>\n",
       "      <th>KEGG</th>\n",
       "      <th>HMDB_ID</th>\n",
       "    </tr>\n",
       "  </thead>\n",
       "  <tbody>\n",
       "    <tr>\n",
       "      <th>0</th>\n",
       "      <td>compound_0001</td>\n",
       "      <td>1</td>\n",
       "      <td>glycine</td>\n",
       "      <td>Amino Acid</td>\n",
       "      <td>Glycine, Serine and Threonine Metabolism</td>\n",
       "      <td>58</td>\n",
       "      <td>LC/MS Pos Early</td>\n",
       "      <td>1375</td>\n",
       "      <td>76.0393</td>\n",
       "      <td>750</td>\n",
       "      <td>C00037</td>\n",
       "      <td>HMDB00123</td>\n",
       "    </tr>\n",
       "    <tr>\n",
       "      <th>1</th>\n",
       "      <td>compound_0002</td>\n",
       "      <td>2</td>\n",
       "      <td>N-acetylglycine</td>\n",
       "      <td>Amino Acid</td>\n",
       "      <td>Glycine, Serine and Threonine Metabolism</td>\n",
       "      <td>27710</td>\n",
       "      <td>LC/MS Neg</td>\n",
       "      <td>731</td>\n",
       "      <td>116.0353</td>\n",
       "      <td>10972</td>\n",
       "      <td>NaN</td>\n",
       "      <td>HMDB00532</td>\n",
       "    </tr>\n",
       "    <tr>\n",
       "      <th>2</th>\n",
       "      <td>compound_0003</td>\n",
       "      <td>4</td>\n",
       "      <td>sarcosine</td>\n",
       "      <td>Amino Acid</td>\n",
       "      <td>Glycine, Serine and Threonine Metabolism</td>\n",
       "      <td>1516</td>\n",
       "      <td>LC/MS Pos Early</td>\n",
       "      <td>1280</td>\n",
       "      <td>90.055</td>\n",
       "      <td>1088</td>\n",
       "      <td>C00213</td>\n",
       "      <td>HMDB00271</td>\n",
       "    </tr>\n",
       "    <tr>\n",
       "      <th>3</th>\n",
       "      <td>compound_0004</td>\n",
       "      <td>5</td>\n",
       "      <td>dimethylglycine</td>\n",
       "      <td>Amino Acid</td>\n",
       "      <td>Glycine, Serine and Threonine Metabolism</td>\n",
       "      <td>5086</td>\n",
       "      <td>LC/MS Pos Early</td>\n",
       "      <td>1104</td>\n",
       "      <td>104.0706</td>\n",
       "      <td>673</td>\n",
       "      <td>C01026</td>\n",
       "      <td>HMDB00092</td>\n",
       "    </tr>\n",
       "    <tr>\n",
       "      <th>4</th>\n",
       "      <td>compound_0005</td>\n",
       "      <td>6</td>\n",
       "      <td>betaine</td>\n",
       "      <td>Amino Acid</td>\n",
       "      <td>Glycine, Serine and Threonine Metabolism</td>\n",
       "      <td>3141</td>\n",
       "      <td>LC/MS Pos Early</td>\n",
       "      <td>1064</td>\n",
       "      <td>118.0863</td>\n",
       "      <td>247</td>\n",
       "      <td>C00719</td>\n",
       "      <td>HMDB00043</td>\n",
       "    </tr>\n",
       "  </tbody>\n",
       "</table>\n",
       "</div>"
      ],
      "text/plain": [
       "     compound_id PATHWAY_SORTORDER      BIOCHEMICAL SUPER_PATHWAY  \\\n",
       "0  compound_0001                 1          glycine    Amino Acid   \n",
       "1  compound_0002                 2  N-acetylglycine    Amino Acid   \n",
       "2  compound_0003                 4        sarcosine    Amino Acid   \n",
       "3  compound_0004                 5  dimethylglycine    Amino Acid   \n",
       "4  compound_0005                 6          betaine    Amino Acid   \n",
       "\n",
       "                                SUB_PATHWAY  COMP_ID         PLATFORM    RI  \\\n",
       "0  Glycine, Serine and Threonine Metabolism       58  LC/MS Pos Early  1375   \n",
       "1  Glycine, Serine and Threonine Metabolism    27710        LC/MS Neg   731   \n",
       "2  Glycine, Serine and Threonine Metabolism     1516  LC/MS Pos Early  1280   \n",
       "3  Glycine, Serine and Threonine Metabolism     5086  LC/MS Pos Early  1104   \n",
       "4  Glycine, Serine and Threonine Metabolism     3141  LC/MS Pos Early  1064   \n",
       "\n",
       "       MASS PUBCHEM    KEGG    HMDB_ID  \n",
       "0   76.0393     750  C00037  HMDB00123  \n",
       "1  116.0353   10972     NaN  HMDB00532  \n",
       "2    90.055    1088  C00213  HMDB00271  \n",
       "3  104.0706     673  C01026  HMDB00092  \n",
       "4  118.0863     247  C00719  HMDB00043  "
      ]
     },
     "execution_count": 443,
     "metadata": {},
     "output_type": "execute_result"
    }
   ],
   "source": [
    "data_dictionary = pd.read_excel(\"../data/study_data.xlsx\",sheet_name= \"data_dictionary\" )\n",
    "data_dictionary.head()"
   ]
  },
  {
   "cell_type": "code",
   "execution_count": null,
   "metadata": {},
   "outputs": [
    {
     "data": {
      "application/vnd.plotly.v1+json": {
       "config": {
        "plotlyServerURL": "https://plot.ly"
       },
       "data": [
        {
         "alignmentgroup": "True",
         "hovertemplate": "SUPER_PATHWAY=%{x}<br>count=%{y}<extra></extra>",
         "legendgroup": "Amino Acid",
         "marker": {
          "color": "#636efa",
          "line": {
           "width": 0
          },
          "pattern": {
           "shape": ""
          }
         },
         "name": "Amino Acid",
         "offsetgroup": "Amino Acid",
         "orientation": "v",
         "showlegend": true,
         "textposition": "auto",
         "type": "bar",
         "x": [
          "Amino Acid",
          "Amino Acid",
          "Amino Acid",
          "Amino Acid",
          "Amino Acid",
          "Amino Acid",
          "Amino Acid",
          "Amino Acid",
          "Amino Acid",
          "Amino Acid",
          "Amino Acid",
          "Amino Acid",
          "Amino Acid",
          "Amino Acid",
          "Amino Acid",
          "Amino Acid",
          "Amino Acid",
          "Amino Acid",
          "Amino Acid",
          "Amino Acid",
          "Amino Acid",
          "Amino Acid",
          "Amino Acid",
          "Amino Acid",
          "Amino Acid",
          "Amino Acid",
          "Amino Acid",
          "Amino Acid",
          "Amino Acid",
          "Amino Acid",
          "Amino Acid",
          "Amino Acid",
          "Amino Acid",
          "Amino Acid",
          "Amino Acid",
          "Amino Acid",
          "Amino Acid",
          "Amino Acid",
          "Amino Acid",
          "Amino Acid",
          "Amino Acid",
          "Amino Acid",
          "Amino Acid",
          "Amino Acid",
          "Amino Acid",
          "Amino Acid",
          "Amino Acid",
          "Amino Acid",
          "Amino Acid",
          "Amino Acid",
          "Amino Acid",
          "Amino Acid",
          "Amino Acid",
          "Amino Acid",
          "Amino Acid",
          "Amino Acid",
          "Amino Acid",
          "Amino Acid",
          "Amino Acid",
          "Amino Acid",
          "Amino Acid",
          "Amino Acid",
          "Amino Acid",
          "Amino Acid",
          "Amino Acid",
          "Amino Acid",
          "Amino Acid",
          "Amino Acid",
          "Amino Acid",
          "Amino Acid",
          "Amino Acid",
          "Amino Acid",
          "Amino Acid",
          "Amino Acid",
          "Amino Acid",
          "Amino Acid",
          "Amino Acid",
          "Amino Acid",
          "Amino Acid",
          "Amino Acid",
          "Amino Acid",
          "Amino Acid",
          "Amino Acid",
          "Amino Acid",
          "Amino Acid",
          "Amino Acid",
          "Amino Acid",
          "Amino Acid",
          "Amino Acid",
          "Amino Acid",
          "Amino Acid",
          "Amino Acid",
          "Amino Acid",
          "Amino Acid",
          "Amino Acid",
          "Amino Acid",
          "Amino Acid",
          "Amino Acid",
          "Amino Acid",
          "Amino Acid",
          "Amino Acid",
          "Amino Acid",
          "Amino Acid",
          "Amino Acid",
          "Amino Acid",
          "Amino Acid",
          "Amino Acid",
          "Amino Acid",
          "Amino Acid",
          "Amino Acid",
          "Amino Acid",
          "Amino Acid",
          "Amino Acid",
          "Amino Acid",
          "Amino Acid",
          "Amino Acid",
          "Amino Acid",
          "Amino Acid",
          "Amino Acid",
          "Amino Acid",
          "Amino Acid",
          "Amino Acid",
          "Amino Acid",
          "Amino Acid",
          "Amino Acid",
          "Amino Acid",
          "Amino Acid",
          "Amino Acid",
          "Amino Acid",
          "Amino Acid",
          "Amino Acid",
          "Amino Acid",
          "Amino Acid",
          "Amino Acid",
          "Amino Acid",
          "Amino Acid",
          "Amino Acid",
          "Amino Acid",
          "Amino Acid",
          "Amino Acid",
          "Amino Acid",
          "Amino Acid",
          "Amino Acid",
          "Amino Acid",
          "Amino Acid",
          "Amino Acid",
          "Amino Acid",
          "Amino Acid",
          "Amino Acid"
         ],
         "xaxis": "x",
         "y": [
          1,
          1,
          1,
          1,
          1,
          1,
          1,
          1,
          1,
          1,
          1,
          1,
          1,
          1,
          1,
          1,
          1,
          1,
          1,
          1,
          1,
          1,
          1,
          1,
          1,
          1,
          1,
          1,
          1,
          1,
          1,
          1,
          1,
          1,
          1,
          1,
          1,
          1,
          1,
          1,
          1,
          1,
          1,
          1,
          1,
          1,
          1,
          1,
          1,
          1,
          1,
          1,
          1,
          1,
          1,
          1,
          1,
          1,
          1,
          1,
          1,
          1,
          1,
          1,
          1,
          1,
          1,
          1,
          1,
          1,
          1,
          1,
          1,
          1,
          1,
          1,
          1,
          1,
          1,
          1,
          1,
          1,
          1,
          1,
          1,
          1,
          1,
          1,
          1,
          1,
          1,
          1,
          1,
          1,
          1,
          1,
          1,
          1,
          1,
          1,
          1,
          1,
          1,
          1,
          1,
          1,
          1,
          1,
          1,
          1,
          1,
          1,
          1,
          1,
          1,
          1,
          1,
          1,
          1,
          1,
          1,
          1,
          1,
          1,
          1,
          1,
          1,
          1,
          1,
          1,
          1,
          1,
          1,
          1,
          1,
          1,
          1,
          1,
          1,
          1,
          1,
          1,
          1,
          1,
          1,
          1,
          1,
          1,
          1
         ],
         "yaxis": "y"
        },
        {
         "alignmentgroup": "True",
         "hovertemplate": "SUPER_PATHWAY=%{x}<br>count=%{y}<extra></extra>",
         "legendgroup": "Peptide",
         "marker": {
          "color": "#EF553B",
          "line": {
           "width": 0
          },
          "pattern": {
           "shape": ""
          }
         },
         "name": "Peptide",
         "offsetgroup": "Peptide",
         "orientation": "v",
         "showlegend": true,
         "textposition": "auto",
         "type": "bar",
         "x": [
          "Peptide",
          "Peptide",
          "Peptide",
          "Peptide",
          "Peptide",
          "Peptide",
          "Peptide",
          "Peptide",
          "Peptide",
          "Peptide",
          "Peptide",
          "Peptide",
          "Peptide",
          "Peptide",
          "Peptide",
          "Peptide",
          "Peptide",
          "Peptide",
          "Peptide",
          "Peptide",
          "Peptide",
          "Peptide",
          "Peptide",
          "Peptide"
         ],
         "xaxis": "x",
         "y": [
          1,
          1,
          1,
          1,
          1,
          1,
          1,
          1,
          1,
          1,
          1,
          1,
          1,
          1,
          1,
          1,
          1,
          1,
          1,
          1,
          1,
          1,
          1,
          1
         ],
         "yaxis": "y"
        },
        {
         "alignmentgroup": "True",
         "hovertemplate": "SUPER_PATHWAY=%{x}<br>count=%{y}<extra></extra>",
         "legendgroup": "Carbohydrate",
         "marker": {
          "color": "#00cc96",
          "line": {
           "width": 0
          },
          "pattern": {
           "shape": ""
          }
         },
         "name": "Carbohydrate",
         "offsetgroup": "Carbohydrate",
         "orientation": "v",
         "showlegend": true,
         "textposition": "auto",
         "type": "bar",
         "x": [
          "Carbohydrate",
          "Carbohydrate",
          "Carbohydrate",
          "Carbohydrate",
          "Carbohydrate",
          "Carbohydrate",
          "Carbohydrate",
          "Carbohydrate",
          "Carbohydrate",
          "Carbohydrate",
          "Carbohydrate",
          "Carbohydrate",
          "Carbohydrate",
          "Carbohydrate",
          "Carbohydrate",
          "Carbohydrate",
          "Carbohydrate",
          "Carbohydrate",
          "Carbohydrate",
          "Carbohydrate",
          "Carbohydrate"
         ],
         "xaxis": "x",
         "y": [
          1,
          1,
          1,
          1,
          1,
          1,
          1,
          1,
          1,
          1,
          1,
          1,
          1,
          1,
          1,
          1,
          1,
          1,
          1,
          1,
          1
         ],
         "yaxis": "y"
        },
        {
         "alignmentgroup": "True",
         "hovertemplate": "SUPER_PATHWAY=%{x}<br>count=%{y}<extra></extra>",
         "legendgroup": "Energy",
         "marker": {
          "color": "#ab63fa",
          "line": {
           "width": 0
          },
          "pattern": {
           "shape": ""
          }
         },
         "name": "Energy",
         "offsetgroup": "Energy",
         "orientation": "v",
         "showlegend": true,
         "textposition": "auto",
         "type": "bar",
         "x": [
          "Energy",
          "Energy",
          "Energy",
          "Energy",
          "Energy",
          "Energy",
          "Energy",
          "Energy"
         ],
         "xaxis": "x",
         "y": [
          1,
          1,
          1,
          1,
          1,
          1,
          1,
          1
         ],
         "yaxis": "y"
        },
        {
         "alignmentgroup": "True",
         "hovertemplate": "SUPER_PATHWAY=%{x}<br>count=%{y}<extra></extra>",
         "legendgroup": "Lipid",
         "marker": {
          "color": "#FFA15A",
          "line": {
           "width": 0
          },
          "pattern": {
           "shape": ""
          }
         },
         "name": "Lipid",
         "offsetgroup": "Lipid",
         "orientation": "v",
         "showlegend": true,
         "textposition": "auto",
         "type": "bar",
         "x": [
          "Lipid",
          "Lipid",
          "Lipid",
          "Lipid",
          "Lipid",
          "Lipid",
          "Lipid",
          "Lipid",
          "Lipid",
          "Lipid",
          "Lipid",
          "Lipid",
          "Lipid",
          "Lipid",
          "Lipid",
          "Lipid",
          "Lipid",
          "Lipid",
          "Lipid",
          "Lipid",
          "Lipid",
          "Lipid",
          "Lipid",
          "Lipid",
          "Lipid",
          "Lipid",
          "Lipid",
          "Lipid",
          "Lipid",
          "Lipid",
          "Lipid",
          "Lipid",
          "Lipid",
          "Lipid",
          "Lipid",
          "Lipid",
          "Lipid",
          "Lipid",
          "Lipid",
          "Lipid",
          "Lipid",
          "Lipid",
          "Lipid",
          "Lipid",
          "Lipid",
          "Lipid",
          "Lipid",
          "Lipid",
          "Lipid",
          "Lipid",
          "Lipid",
          "Lipid",
          "Lipid",
          "Lipid",
          "Lipid",
          "Lipid",
          "Lipid",
          "Lipid",
          "Lipid",
          "Lipid",
          "Lipid",
          "Lipid",
          "Lipid",
          "Lipid",
          "Lipid",
          "Lipid",
          "Lipid",
          "Lipid",
          "Lipid",
          "Lipid",
          "Lipid",
          "Lipid",
          "Lipid",
          "Lipid",
          "Lipid",
          "Lipid",
          "Lipid",
          "Lipid",
          "Lipid",
          "Lipid",
          "Lipid",
          "Lipid",
          "Lipid",
          "Lipid",
          "Lipid",
          "Lipid",
          "Lipid",
          "Lipid",
          "Lipid",
          "Lipid",
          "Lipid",
          "Lipid",
          "Lipid",
          "Lipid",
          "Lipid",
          "Lipid",
          "Lipid",
          "Lipid",
          "Lipid",
          "Lipid",
          "Lipid",
          "Lipid",
          "Lipid",
          "Lipid",
          "Lipid",
          "Lipid",
          "Lipid",
          "Lipid",
          "Lipid",
          "Lipid",
          "Lipid",
          "Lipid",
          "Lipid",
          "Lipid",
          "Lipid",
          "Lipid",
          "Lipid",
          "Lipid",
          "Lipid",
          "Lipid",
          "Lipid",
          "Lipid",
          "Lipid",
          "Lipid",
          "Lipid",
          "Lipid",
          "Lipid",
          "Lipid",
          "Lipid",
          "Lipid",
          "Lipid",
          "Lipid",
          "Lipid",
          "Lipid",
          "Lipid",
          "Lipid",
          "Lipid",
          "Lipid",
          "Lipid",
          "Lipid",
          "Lipid",
          "Lipid"
         ],
         "xaxis": "x",
         "y": [
          1,
          1,
          1,
          1,
          1,
          1,
          1,
          1,
          1,
          1,
          1,
          1,
          1,
          1,
          1,
          1,
          1,
          1,
          1,
          1,
          1,
          1,
          1,
          1,
          1,
          1,
          1,
          1,
          1,
          1,
          1,
          1,
          1,
          1,
          1,
          1,
          1,
          1,
          1,
          1,
          1,
          1,
          1,
          1,
          1,
          1,
          1,
          1,
          1,
          1,
          1,
          1,
          1,
          1,
          1,
          1,
          1,
          1,
          1,
          1,
          1,
          1,
          1,
          1,
          1,
          1,
          1,
          1,
          1,
          1,
          1,
          1,
          1,
          1,
          1,
          1,
          1,
          1,
          1,
          1,
          1,
          1,
          1,
          1,
          1,
          1,
          1,
          1,
          1,
          1,
          1,
          1,
          1,
          1,
          1,
          1,
          1,
          1,
          1,
          1,
          1,
          1,
          1,
          1,
          1,
          1,
          1,
          1,
          1,
          1,
          1,
          1,
          1,
          1,
          1,
          1,
          1,
          1,
          1,
          1,
          1,
          1,
          1,
          1,
          1,
          1,
          1,
          1,
          1,
          1,
          1,
          1,
          1,
          1,
          1,
          1,
          1,
          1,
          1,
          1,
          1,
          1
         ],
         "yaxis": "y"
        },
        {
         "alignmentgroup": "True",
         "hovertemplate": "SUPER_PATHWAY=%{x}<br>count=%{y}<extra></extra>",
         "legendgroup": "Nucleotide",
         "marker": {
          "color": "#19d3f3",
          "line": {
           "width": 0
          },
          "pattern": {
           "shape": ""
          }
         },
         "name": "Nucleotide",
         "offsetgroup": "Nucleotide",
         "orientation": "v",
         "showlegend": true,
         "textposition": "auto",
         "type": "bar",
         "x": [
          "Nucleotide",
          "Nucleotide",
          "Nucleotide",
          "Nucleotide",
          "Nucleotide",
          "Nucleotide",
          "Nucleotide",
          "Nucleotide",
          "Nucleotide",
          "Nucleotide",
          "Nucleotide",
          "Nucleotide",
          "Nucleotide",
          "Nucleotide",
          "Nucleotide",
          "Nucleotide",
          "Nucleotide",
          "Nucleotide",
          "Nucleotide",
          "Nucleotide",
          "Nucleotide",
          "Nucleotide",
          "Nucleotide",
          "Nucleotide",
          "Nucleotide",
          "Nucleotide",
          "Nucleotide"
         ],
         "xaxis": "x",
         "y": [
          1,
          1,
          1,
          1,
          1,
          1,
          1,
          1,
          1,
          1,
          1,
          1,
          1,
          1,
          1,
          1,
          1,
          1,
          1,
          1,
          1,
          1,
          1,
          1,
          1,
          1,
          1
         ],
         "yaxis": "y"
        },
        {
         "alignmentgroup": "True",
         "hovertemplate": "SUPER_PATHWAY=%{x}<br>count=%{y}<extra></extra>",
         "legendgroup": "Cofactors and Vitamins",
         "marker": {
          "color": "#FF6692",
          "line": {
           "width": 0
          },
          "pattern": {
           "shape": ""
          }
         },
         "name": "Cofactors and Vitamins",
         "offsetgroup": "Cofactors and Vitamins",
         "orientation": "v",
         "showlegend": true,
         "textposition": "auto",
         "type": "bar",
         "x": [
          "Cofactors and Vitamins",
          "Cofactors and Vitamins",
          "Cofactors and Vitamins",
          "Cofactors and Vitamins",
          "Cofactors and Vitamins",
          "Cofactors and Vitamins",
          "Cofactors and Vitamins",
          "Cofactors and Vitamins",
          "Cofactors and Vitamins",
          "Cofactors and Vitamins",
          "Cofactors and Vitamins",
          "Cofactors and Vitamins",
          "Cofactors and Vitamins",
          "Cofactors and Vitamins",
          "Cofactors and Vitamins",
          "Cofactors and Vitamins",
          "Cofactors and Vitamins",
          "Cofactors and Vitamins"
         ],
         "xaxis": "x",
         "y": [
          1,
          1,
          1,
          1,
          1,
          1,
          1,
          1,
          1,
          1,
          1,
          1,
          1,
          1,
          1,
          1,
          1,
          1
         ],
         "yaxis": "y"
        },
        {
         "alignmentgroup": "True",
         "hovertemplate": "SUPER_PATHWAY=%{x}<br>count=%{y}<extra></extra>",
         "legendgroup": "Xenobiotics",
         "marker": {
          "color": "#B6E880",
          "line": {
           "width": 0
          },
          "pattern": {
           "shape": ""
          }
         },
         "name": "Xenobiotics",
         "offsetgroup": "Xenobiotics",
         "orientation": "v",
         "showlegend": true,
         "textposition": "auto",
         "type": "bar",
         "x": [
          "Xenobiotics",
          "Xenobiotics",
          "Xenobiotics",
          "Xenobiotics",
          "Xenobiotics",
          "Xenobiotics",
          "Xenobiotics",
          "Xenobiotics",
          "Xenobiotics",
          "Xenobiotics",
          "Xenobiotics",
          "Xenobiotics",
          "Xenobiotics",
          "Xenobiotics",
          "Xenobiotics",
          "Xenobiotics",
          "Xenobiotics",
          "Xenobiotics",
          "Xenobiotics",
          "Xenobiotics",
          "Xenobiotics",
          "Xenobiotics",
          "Xenobiotics",
          "Xenobiotics",
          "Xenobiotics",
          "Xenobiotics",
          "Xenobiotics",
          "Xenobiotics",
          "Xenobiotics",
          "Xenobiotics",
          "Xenobiotics",
          "Xenobiotics",
          "Xenobiotics",
          "Xenobiotics",
          "Xenobiotics",
          "Xenobiotics",
          "Xenobiotics",
          "Xenobiotics",
          "Xenobiotics",
          "Xenobiotics",
          "Xenobiotics",
          "Xenobiotics",
          "Xenobiotics",
          "Xenobiotics",
          "Xenobiotics",
          "Xenobiotics",
          "Xenobiotics",
          "Xenobiotics",
          "Xenobiotics",
          "Xenobiotics",
          "Xenobiotics",
          "Xenobiotics",
          "Xenobiotics",
          "Xenobiotics",
          "Xenobiotics",
          "Xenobiotics",
          "Xenobiotics",
          "Xenobiotics",
          "Xenobiotics",
          "Xenobiotics",
          "Xenobiotics",
          "Xenobiotics",
          "Xenobiotics",
          "Xenobiotics",
          "Xenobiotics",
          "Xenobiotics",
          "Xenobiotics",
          "Xenobiotics",
          "Xenobiotics",
          "Xenobiotics",
          "Xenobiotics",
          "Xenobiotics",
          "Xenobiotics",
          "Xenobiotics",
          "Xenobiotics",
          "Xenobiotics",
          "Xenobiotics",
          "Xenobiotics",
          "Xenobiotics",
          "Xenobiotics",
          "Xenobiotics",
          "Xenobiotics",
          "Xenobiotics",
          "Xenobiotics",
          "Xenobiotics",
          "Xenobiotics",
          "Xenobiotics",
          "Xenobiotics",
          "Xenobiotics"
         ],
         "xaxis": "x",
         "y": [
          1,
          1,
          1,
          1,
          1,
          1,
          1,
          1,
          1,
          1,
          1,
          1,
          1,
          1,
          1,
          1,
          1,
          1,
          1,
          1,
          1,
          1,
          1,
          1,
          1,
          1,
          1,
          1,
          1,
          1,
          1,
          1,
          1,
          1,
          1,
          1,
          1,
          1,
          1,
          1,
          1,
          1,
          1,
          1,
          1,
          1,
          1,
          1,
          1,
          1,
          1,
          1,
          1,
          1,
          1,
          1,
          1,
          1,
          1,
          1,
          1,
          1,
          1,
          1,
          1,
          1,
          1,
          1,
          1,
          1,
          1,
          1,
          1,
          1,
          1,
          1,
          1,
          1,
          1,
          1,
          1,
          1,
          1,
          1,
          1,
          1,
          1,
          1,
          1
         ],
         "yaxis": "y"
        },
        {
         "alignmentgroup": "True",
         "hovertemplate": "SUPER_PATHWAY=%{x}<br>count=%{y}<extra></extra>",
         "legendgroup": "Neutral Complex Lipids",
         "marker": {
          "color": "#FF97FF",
          "line": {
           "width": 0
          },
          "pattern": {
           "shape": ""
          }
         },
         "name": "Neutral Complex Lipids",
         "offsetgroup": "Neutral Complex Lipids",
         "orientation": "v",
         "showlegend": true,
         "textposition": "auto",
         "type": "bar",
         "x": [
          "Neutral Complex Lipids",
          "Neutral Complex Lipids",
          "Neutral Complex Lipids",
          "Neutral Complex Lipids"
         ],
         "xaxis": "x",
         "y": [
          1,
          1,
          1,
          1
         ],
         "yaxis": "y"
        },
        {
         "alignmentgroup": "True",
         "hovertemplate": "SUPER_PATHWAY=%{x}<br>count=%{y}<extra></extra>",
         "legendgroup": "Phospholipids",
         "marker": {
          "color": "#FECB52",
          "line": {
           "width": 0
          },
          "pattern": {
           "shape": ""
          }
         },
         "name": "Phospholipids",
         "offsetgroup": "Phospholipids",
         "orientation": "v",
         "showlegend": true,
         "textposition": "auto",
         "type": "bar",
         "x": [
          "Phospholipids",
          "Phospholipids",
          "Phospholipids",
          "Phospholipids",
          "Phospholipids"
         ],
         "xaxis": "x",
         "y": [
          1,
          1,
          1,
          1,
          1
         ],
         "yaxis": "y"
        },
        {
         "alignmentgroup": "True",
         "hovertemplate": "SUPER_PATHWAY=%{x}<br>count=%{y}<extra></extra>",
         "legendgroup": "Sphingolipids",
         "marker": {
          "color": "#636efa",
          "line": {
           "width": 0
          },
          "pattern": {
           "shape": ""
          }
         },
         "name": "Sphingolipids",
         "offsetgroup": "Sphingolipids",
         "orientation": "v",
         "showlegend": true,
         "textposition": "auto",
         "type": "bar",
         "x": [
          "Sphingolipids",
          "Sphingolipids",
          "Sphingolipids",
          "Sphingolipids",
          "Sphingolipids"
         ],
         "xaxis": "x",
         "y": [
          1,
          1,
          1,
          1,
          1
         ],
         "yaxis": "y"
        },
        {
         "alignmentgroup": "True",
         "hovertemplate": "SUPER_PATHWAY=%{x}<br>count=%{y}<extra></extra>",
         "legendgroup": "Cholesterol Ester",
         "marker": {
          "color": "#EF553B",
          "line": {
           "width": 0
          },
          "pattern": {
           "shape": ""
          }
         },
         "name": "Cholesterol Ester",
         "offsetgroup": "Cholesterol Ester",
         "orientation": "v",
         "showlegend": true,
         "textposition": "auto",
         "type": "bar",
         "x": [
          "Cholesterol Ester",
          "Cholesterol Ester",
          "Cholesterol Ester",
          "Cholesterol Ester",
          "Cholesterol Ester",
          "Cholesterol Ester",
          "Cholesterol Ester",
          "Cholesterol Ester",
          "Cholesterol Ester",
          "Cholesterol Ester",
          "Cholesterol Ester",
          "Cholesterol Ester",
          "Cholesterol Ester",
          "Cholesterol Ester",
          "Cholesterol Ester",
          "Cholesterol Ester",
          "Cholesterol Ester",
          "Cholesterol Ester",
          "Cholesterol Ester",
          "Cholesterol Ester",
          "Cholesterol Ester",
          "Cholesterol Ester",
          "Cholesterol Ester",
          "Cholesterol Ester",
          "Cholesterol Ester",
          "Cholesterol Ester"
         ],
         "xaxis": "x",
         "y": [
          1,
          1,
          1,
          1,
          1,
          1,
          1,
          1,
          1,
          1,
          1,
          1,
          1,
          1,
          1,
          1,
          1,
          1,
          1,
          1,
          1,
          1,
          1,
          1,
          1,
          1
         ],
         "yaxis": "y"
        },
        {
         "alignmentgroup": "True",
         "hovertemplate": "SUPER_PATHWAY=%{x}<br>count=%{y}<extra></extra>",
         "legendgroup": "Ceramides",
         "marker": {
          "color": "#00cc96",
          "line": {
           "width": 0
          },
          "pattern": {
           "shape": ""
          }
         },
         "name": "Ceramides",
         "offsetgroup": "Ceramides",
         "orientation": "v",
         "showlegend": true,
         "textposition": "auto",
         "type": "bar",
         "x": [
          "Ceramides",
          "Ceramides",
          "Ceramides",
          "Ceramides",
          "Ceramides",
          "Ceramides",
          "Ceramides",
          "Ceramides",
          "Ceramides"
         ],
         "xaxis": "x",
         "y": [
          1,
          1,
          1,
          1,
          1,
          1,
          1,
          1,
          1
         ],
         "yaxis": "y"
        },
        {
         "alignmentgroup": "True",
         "hovertemplate": "SUPER_PATHWAY=%{x}<br>count=%{y}<extra></extra>",
         "legendgroup": "Diacylglycerol",
         "marker": {
          "color": "#ab63fa",
          "line": {
           "width": 0
          },
          "pattern": {
           "shape": ""
          }
         },
         "name": "Diacylglycerol",
         "offsetgroup": "Diacylglycerol",
         "orientation": "v",
         "showlegend": true,
         "textposition": "auto",
         "type": "bar",
         "x": [
          "Diacylglycerol",
          "Diacylglycerol",
          "Diacylglycerol",
          "Diacylglycerol",
          "Diacylglycerol",
          "Diacylglycerol",
          "Diacylglycerol",
          "Diacylglycerol",
          "Diacylglycerol",
          "Diacylglycerol",
          "Diacylglycerol",
          "Diacylglycerol",
          "Diacylglycerol",
          "Diacylglycerol",
          "Diacylglycerol",
          "Diacylglycerol",
          "Diacylglycerol",
          "Diacylglycerol",
          "Diacylglycerol",
          "Diacylglycerol",
          "Diacylglycerol",
          "Diacylglycerol",
          "Diacylglycerol",
          "Diacylglycerol",
          "Diacylglycerol",
          "Diacylglycerol",
          "Diacylglycerol",
          "Diacylglycerol",
          "Diacylglycerol",
          "Diacylglycerol",
          "Diacylglycerol",
          "Diacylglycerol",
          "Diacylglycerol",
          "Diacylglycerol",
          "Diacylglycerol",
          "Diacylglycerol",
          "Diacylglycerol",
          "Diacylglycerol",
          "Diacylglycerol",
          "Diacylglycerol",
          "Diacylglycerol",
          "Diacylglycerol",
          "Diacylglycerol",
          "Diacylglycerol",
          "Diacylglycerol",
          "Diacylglycerol",
          "Diacylglycerol",
          "Diacylglycerol",
          "Diacylglycerol",
          "Diacylglycerol",
          "Diacylglycerol",
          "Diacylglycerol"
         ],
         "xaxis": "x",
         "y": [
          1,
          1,
          1,
          1,
          1,
          1,
          1,
          1,
          1,
          1,
          1,
          1,
          1,
          1,
          1,
          1,
          1,
          1,
          1,
          1,
          1,
          1,
          1,
          1,
          1,
          1,
          1,
          1,
          1,
          1,
          1,
          1,
          1,
          1,
          1,
          1,
          1,
          1,
          1,
          1,
          1,
          1,
          1,
          1,
          1,
          1,
          1,
          1,
          1,
          1,
          1,
          1
         ],
         "yaxis": "y"
        },
        {
         "alignmentgroup": "True",
         "hovertemplate": "SUPER_PATHWAY=%{x}<br>count=%{y}<extra></extra>",
         "legendgroup": "Dihydroceramides",
         "marker": {
          "color": "#FFA15A",
          "line": {
           "width": 0
          },
          "pattern": {
           "shape": ""
          }
         },
         "name": "Dihydroceramides",
         "offsetgroup": "Dihydroceramides",
         "orientation": "v",
         "showlegend": true,
         "textposition": "auto",
         "type": "bar",
         "x": [
          "Dihydroceramides",
          "Dihydroceramides",
          "Dihydroceramides",
          "Dihydroceramides"
         ],
         "xaxis": "x",
         "y": [
          1,
          1,
          1,
          1
         ],
         "yaxis": "y"
        },
        {
         "alignmentgroup": "True",
         "hovertemplate": "SUPER_PATHWAY=%{x}<br>count=%{y}<extra></extra>",
         "legendgroup": "Free Fatty Acids",
         "marker": {
          "color": "#19d3f3",
          "line": {
           "width": 0
          },
          "pattern": {
           "shape": ""
          }
         },
         "name": "Free Fatty Acids",
         "offsetgroup": "Free Fatty Acids",
         "orientation": "v",
         "showlegend": true,
         "textposition": "auto",
         "type": "bar",
         "x": [
          "Free Fatty Acids",
          "Free Fatty Acids",
          "Free Fatty Acids",
          "Free Fatty Acids",
          "Free Fatty Acids",
          "Free Fatty Acids",
          "Free Fatty Acids",
          "Free Fatty Acids",
          "Free Fatty Acids",
          "Free Fatty Acids",
          "Free Fatty Acids",
          "Free Fatty Acids",
          "Free Fatty Acids",
          "Free Fatty Acids",
          "Free Fatty Acids",
          "Free Fatty Acids",
          "Free Fatty Acids",
          "Free Fatty Acids",
          "Free Fatty Acids",
          "Free Fatty Acids",
          "Free Fatty Acids",
          "Free Fatty Acids",
          "Free Fatty Acids",
          "Free Fatty Acids",
          "Free Fatty Acids",
          "Free Fatty Acids"
         ],
         "xaxis": "x",
         "y": [
          1,
          1,
          1,
          1,
          1,
          1,
          1,
          1,
          1,
          1,
          1,
          1,
          1,
          1,
          1,
          1,
          1,
          1,
          1,
          1,
          1,
          1,
          1,
          1,
          1,
          1
         ],
         "yaxis": "y"
        },
        {
         "alignmentgroup": "True",
         "hovertemplate": "SUPER_PATHWAY=%{x}<br>count=%{y}<extra></extra>",
         "legendgroup": "Hexosylceramides",
         "marker": {
          "color": "#FF6692",
          "line": {
           "width": 0
          },
          "pattern": {
           "shape": ""
          }
         },
         "name": "Hexosylceramides",
         "offsetgroup": "Hexosylceramides",
         "orientation": "v",
         "showlegend": true,
         "textposition": "auto",
         "type": "bar",
         "x": [
          "Hexosylceramides",
          "Hexosylceramides",
          "Hexosylceramides",
          "Hexosylceramides",
          "Hexosylceramides",
          "Hexosylceramides",
          "Hexosylceramides"
         ],
         "xaxis": "x",
         "y": [
          1,
          1,
          1,
          1,
          1,
          1,
          1
         ],
         "yaxis": "y"
        },
        {
         "alignmentgroup": "True",
         "hovertemplate": "SUPER_PATHWAY=%{x}<br>count=%{y}<extra></extra>",
         "legendgroup": "Lactosylceramide",
         "marker": {
          "color": "#B6E880",
          "line": {
           "width": 0
          },
          "pattern": {
           "shape": ""
          }
         },
         "name": "Lactosylceramide",
         "offsetgroup": "Lactosylceramide",
         "orientation": "v",
         "showlegend": true,
         "textposition": "auto",
         "type": "bar",
         "x": [
          "Lactosylceramide",
          "Lactosylceramide",
          "Lactosylceramide",
          "Lactosylceramide"
         ],
         "xaxis": "x",
         "y": [
          1,
          1,
          1,
          1
         ],
         "yaxis": "y"
        },
        {
         "alignmentgroup": "True",
         "hovertemplate": "SUPER_PATHWAY=%{x}<br>count=%{y}<extra></extra>",
         "legendgroup": "Lysophosphatidylcholine",
         "marker": {
          "color": "#FF97FF",
          "line": {
           "width": 0
          },
          "pattern": {
           "shape": ""
          }
         },
         "name": "Lysophosphatidylcholine",
         "offsetgroup": "Lysophosphatidylcholine",
         "orientation": "v",
         "showlegend": true,
         "textposition": "auto",
         "type": "bar",
         "x": [
          "Lysophosphatidylcholine",
          "Lysophosphatidylcholine",
          "Lysophosphatidylcholine",
          "Lysophosphatidylcholine",
          "Lysophosphatidylcholine",
          "Lysophosphatidylcholine",
          "Lysophosphatidylcholine",
          "Lysophosphatidylcholine",
          "Lysophosphatidylcholine",
          "Lysophosphatidylcholine",
          "Lysophosphatidylcholine",
          "Lysophosphatidylcholine",
          "Lysophosphatidylcholine",
          "Lysophosphatidylcholine",
          "Lysophosphatidylcholine"
         ],
         "xaxis": "x",
         "y": [
          1,
          1,
          1,
          1,
          1,
          1,
          1,
          1,
          1,
          1,
          1,
          1,
          1,
          1,
          1
         ],
         "yaxis": "y"
        },
        {
         "alignmentgroup": "True",
         "hovertemplate": "SUPER_PATHWAY=%{x}<br>count=%{y}<extra></extra>",
         "legendgroup": "Lysophosphatidylethanolamine",
         "marker": {
          "color": "#FECB52",
          "line": {
           "width": 0
          },
          "pattern": {
           "shape": ""
          }
         },
         "name": "Lysophosphatidylethanolamine",
         "offsetgroup": "Lysophosphatidylethanolamine",
         "orientation": "v",
         "showlegend": true,
         "textposition": "auto",
         "type": "bar",
         "x": [
          "Lysophosphatidylethanolamine",
          "Lysophosphatidylethanolamine",
          "Lysophosphatidylethanolamine",
          "Lysophosphatidylethanolamine",
          "Lysophosphatidylethanolamine",
          "Lysophosphatidylethanolamine"
         ],
         "xaxis": "x",
         "y": [
          1,
          1,
          1,
          1,
          1,
          1
         ],
         "yaxis": "y"
        },
        {
         "alignmentgroup": "True",
         "hovertemplate": "SUPER_PATHWAY=%{x}<br>count=%{y}<extra></extra>",
         "legendgroup": "Phosphatidylcholine",
         "marker": {
          "color": "#636efa",
          "line": {
           "width": 0
          },
          "pattern": {
           "shape": ""
          }
         },
         "name": "Phosphatidylcholine",
         "offsetgroup": "Phosphatidylcholine",
         "orientation": "v",
         "showlegend": true,
         "textposition": "auto",
         "type": "bar",
         "x": [
          "Phosphatidylcholine",
          "Phosphatidylcholine",
          "Phosphatidylcholine",
          "Phosphatidylcholine",
          "Phosphatidylcholine",
          "Phosphatidylcholine",
          "Phosphatidylcholine",
          "Phosphatidylcholine",
          "Phosphatidylcholine",
          "Phosphatidylcholine",
          "Phosphatidylcholine",
          "Phosphatidylcholine",
          "Phosphatidylcholine",
          "Phosphatidylcholine",
          "Phosphatidylcholine",
          "Phosphatidylcholine",
          "Phosphatidylcholine",
          "Phosphatidylcholine",
          "Phosphatidylcholine",
          "Phosphatidylcholine",
          "Phosphatidylcholine",
          "Phosphatidylcholine",
          "Phosphatidylcholine",
          "Phosphatidylcholine",
          "Phosphatidylcholine",
          "Phosphatidylcholine",
          "Phosphatidylcholine",
          "Phosphatidylcholine",
          "Phosphatidylcholine",
          "Phosphatidylcholine",
          "Phosphatidylcholine",
          "Phosphatidylcholine",
          "Phosphatidylcholine",
          "Phosphatidylcholine",
          "Phosphatidylcholine",
          "Phosphatidylcholine",
          "Phosphatidylcholine",
          "Phosphatidylcholine",
          "Phosphatidylcholine",
          "Phosphatidylcholine",
          "Phosphatidylcholine"
         ],
         "xaxis": "x",
         "y": [
          1,
          1,
          1,
          1,
          1,
          1,
          1,
          1,
          1,
          1,
          1,
          1,
          1,
          1,
          1,
          1,
          1,
          1,
          1,
          1,
          1,
          1,
          1,
          1,
          1,
          1,
          1,
          1,
          1,
          1,
          1,
          1,
          1,
          1,
          1,
          1,
          1,
          1,
          1,
          1,
          1
         ],
         "yaxis": "y"
        },
        {
         "alignmentgroup": "True",
         "hovertemplate": "SUPER_PATHWAY=%{x}<br>count=%{y}<extra></extra>",
         "legendgroup": "Phosphatidylethanolamine",
         "marker": {
          "color": "#EF553B",
          "line": {
           "width": 0
          },
          "pattern": {
           "shape": ""
          }
         },
         "name": "Phosphatidylethanolamine",
         "offsetgroup": "Phosphatidylethanolamine",
         "orientation": "v",
         "showlegend": true,
         "textposition": "auto",
         "type": "bar",
         "x": [
          "Phosphatidylethanolamine",
          "Phosphatidylethanolamine",
          "Phosphatidylethanolamine",
          "Phosphatidylethanolamine",
          "Phosphatidylethanolamine",
          "Phosphatidylethanolamine",
          "Phosphatidylethanolamine",
          "Phosphatidylethanolamine",
          "Phosphatidylethanolamine",
          "Phosphatidylethanolamine",
          "Phosphatidylethanolamine",
          "Phosphatidylethanolamine",
          "Phosphatidylethanolamine",
          "Phosphatidylethanolamine",
          "Phosphatidylethanolamine",
          "Phosphatidylethanolamine",
          "Phosphatidylethanolamine",
          "Phosphatidylethanolamine",
          "Phosphatidylethanolamine",
          "Phosphatidylethanolamine",
          "Phosphatidylethanolamine",
          "Phosphatidylethanolamine",
          "Phosphatidylethanolamine",
          "Phosphatidylethanolamine",
          "Phosphatidylethanolamine",
          "Phosphatidylethanolamine",
          "Phosphatidylethanolamine",
          "Phosphatidylethanolamine",
          "Phosphatidylethanolamine",
          "Phosphatidylethanolamine",
          "Phosphatidylethanolamine",
          "Phosphatidylethanolamine",
          "Phosphatidylethanolamine",
          "Phosphatidylethanolamine",
          "Phosphatidylethanolamine",
          "Phosphatidylethanolamine",
          "Phosphatidylethanolamine"
         ],
         "xaxis": "x",
         "y": [
          1,
          1,
          1,
          1,
          1,
          1,
          1,
          1,
          1,
          1,
          1,
          1,
          1,
          1,
          1,
          1,
          1,
          1,
          1,
          1,
          1,
          1,
          1,
          1,
          1,
          1,
          1,
          1,
          1,
          1,
          1,
          1,
          1,
          1,
          1,
          1,
          1
         ],
         "yaxis": "y"
        },
        {
         "alignmentgroup": "True",
         "hovertemplate": "SUPER_PATHWAY=%{x}<br>count=%{y}<extra></extra>",
         "legendgroup": "PI",
         "marker": {
          "color": "#00cc96",
          "line": {
           "width": 0
          },
          "pattern": {
           "shape": ""
          }
         },
         "name": "PI",
         "offsetgroup": "PI",
         "orientation": "v",
         "showlegend": true,
         "textposition": "auto",
         "type": "bar",
         "x": [
          "PI",
          "PI",
          "PI",
          "PI",
          "PI"
         ],
         "xaxis": "x",
         "y": [
          1,
          1,
          1,
          1,
          1
         ],
         "yaxis": "y"
        },
        {
         "alignmentgroup": "True",
         "hovertemplate": "SUPER_PATHWAY=%{x}<br>count=%{y}<extra></extra>",
         "legendgroup": "Sphingomyelin",
         "marker": {
          "color": "#ab63fa",
          "line": {
           "width": 0
          },
          "pattern": {
           "shape": ""
          }
         },
         "name": "Sphingomyelin",
         "offsetgroup": "Sphingomyelin",
         "orientation": "v",
         "showlegend": true,
         "textposition": "auto",
         "type": "bar",
         "x": [
          "Sphingomyelin",
          "Sphingomyelin",
          "Sphingomyelin",
          "Sphingomyelin",
          "Sphingomyelin",
          "Sphingomyelin",
          "Sphingomyelin",
          "Sphingomyelin",
          "Sphingomyelin",
          "Sphingomyelin",
          "Sphingomyelin",
          "Sphingomyelin"
         ],
         "xaxis": "x",
         "y": [
          1,
          1,
          1,
          1,
          1,
          1,
          1,
          1,
          1,
          1,
          1,
          1
         ],
         "yaxis": "y"
        },
        {
         "alignmentgroup": "True",
         "hovertemplate": "SUPER_PATHWAY=%{x}<br>count=%{y}<extra></extra>",
         "legendgroup": "Triacylglycerol",
         "marker": {
          "color": "#FFA15A",
          "line": {
           "width": 0
          },
          "pattern": {
           "shape": ""
          }
         },
         "name": "Triacylglycerol",
         "offsetgroup": "Triacylglycerol",
         "orientation": "v",
         "showlegend": true,
         "textposition": "auto",
         "type": "bar",
         "x": [
          "Triacylglycerol",
          "Triacylglycerol",
          "Triacylglycerol",
          "Triacylglycerol",
          "Triacylglycerol",
          "Triacylglycerol",
          "Triacylglycerol",
          "Triacylglycerol",
          "Triacylglycerol",
          "Triacylglycerol",
          "Triacylglycerol",
          "Triacylglycerol",
          "Triacylglycerol",
          "Triacylglycerol",
          "Triacylglycerol",
          "Triacylglycerol",
          "Triacylglycerol",
          "Triacylglycerol",
          "Triacylglycerol",
          "Triacylglycerol",
          "Triacylglycerol",
          "Triacylglycerol",
          "Triacylglycerol",
          "Triacylglycerol",
          "Triacylglycerol",
          "Triacylglycerol",
          "Triacylglycerol",
          "Triacylglycerol",
          "Triacylglycerol",
          "Triacylglycerol",
          "Triacylglycerol",
          "Triacylglycerol",
          "Triacylglycerol",
          "Triacylglycerol",
          "Triacylglycerol",
          "Triacylglycerol",
          "Triacylglycerol",
          "Triacylglycerol",
          "Triacylglycerol",
          "Triacylglycerol",
          "Triacylglycerol",
          "Triacylglycerol",
          "Triacylglycerol",
          "Triacylglycerol",
          "Triacylglycerol",
          "Triacylglycerol",
          "Triacylglycerol",
          "Triacylglycerol",
          "Triacylglycerol",
          "Triacylglycerol",
          "Triacylglycerol",
          "Triacylglycerol",
          "Triacylglycerol",
          "Triacylglycerol",
          "Triacylglycerol",
          "Triacylglycerol",
          "Triacylglycerol",
          "Triacylglycerol",
          "Triacylglycerol",
          "Triacylglycerol",
          "Triacylglycerol",
          "Triacylglycerol",
          "Triacylglycerol",
          "Triacylglycerol",
          "Triacylglycerol",
          "Triacylglycerol",
          "Triacylglycerol",
          "Triacylglycerol",
          "Triacylglycerol",
          "Triacylglycerol",
          "Triacylglycerol",
          "Triacylglycerol",
          "Triacylglycerol",
          "Triacylglycerol",
          "Triacylglycerol",
          "Triacylglycerol",
          "Triacylglycerol",
          "Triacylglycerol",
          "Triacylglycerol",
          "Triacylglycerol",
          "Triacylglycerol",
          "Triacylglycerol",
          "Triacylglycerol",
          "Triacylglycerol",
          "Triacylglycerol",
          "Triacylglycerol",
          "Triacylglycerol",
          "Triacylglycerol",
          "Triacylglycerol",
          "Triacylglycerol",
          "Triacylglycerol",
          "Triacylglycerol",
          "Triacylglycerol",
          "Triacylglycerol",
          "Triacylglycerol",
          "Triacylglycerol",
          "Triacylglycerol",
          "Triacylglycerol",
          "Triacylglycerol",
          "Triacylglycerol",
          "Triacylglycerol",
          "Triacylglycerol",
          "Triacylglycerol",
          "Triacylglycerol",
          "Triacylglycerol",
          "Triacylglycerol",
          "Triacylglycerol",
          "Triacylglycerol",
          "Triacylglycerol",
          "Triacylglycerol",
          "Triacylglycerol",
          "Triacylglycerol",
          "Triacylglycerol",
          "Triacylglycerol",
          "Triacylglycerol",
          "Triacylglycerol",
          "Triacylglycerol",
          "Triacylglycerol",
          "Triacylglycerol",
          "Triacylglycerol",
          "Triacylglycerol",
          "Triacylglycerol",
          "Triacylglycerol",
          "Triacylglycerol",
          "Triacylglycerol",
          "Triacylglycerol",
          "Triacylglycerol",
          "Triacylglycerol",
          "Triacylglycerol",
          "Triacylglycerol",
          "Triacylglycerol",
          "Triacylglycerol",
          "Triacylglycerol",
          "Triacylglycerol",
          "Triacylglycerol",
          "Triacylglycerol",
          "Triacylglycerol",
          "Triacylglycerol",
          "Triacylglycerol",
          "Triacylglycerol",
          "Triacylglycerol",
          "Triacylglycerol",
          "Triacylglycerol",
          "Triacylglycerol",
          "Triacylglycerol",
          "Triacylglycerol",
          "Triacylglycerol",
          "Triacylglycerol",
          "Triacylglycerol",
          "Triacylglycerol",
          "Triacylglycerol",
          "Triacylglycerol",
          "Triacylglycerol",
          "Triacylglycerol",
          "Triacylglycerol",
          "Triacylglycerol",
          "Triacylglycerol",
          "Triacylglycerol",
          "Triacylglycerol",
          "Triacylglycerol",
          "Triacylglycerol",
          "Triacylglycerol",
          "Triacylglycerol",
          "Triacylglycerol",
          "Triacylglycerol",
          "Triacylglycerol",
          "Triacylglycerol",
          "Triacylglycerol",
          "Triacylglycerol",
          "Triacylglycerol",
          "Triacylglycerol",
          "Triacylglycerol",
          "Triacylglycerol",
          "Triacylglycerol",
          "Triacylglycerol",
          "Triacylglycerol",
          "Triacylglycerol",
          "Triacylglycerol",
          "Triacylglycerol",
          "Triacylglycerol",
          "Triacylglycerol",
          "Triacylglycerol",
          "Triacylglycerol",
          "Triacylglycerol",
          "Triacylglycerol",
          "Triacylglycerol",
          "Triacylglycerol",
          "Triacylglycerol",
          "Triacylglycerol",
          "Triacylglycerol",
          "Triacylglycerol",
          "Triacylglycerol",
          "Triacylglycerol",
          "Triacylglycerol",
          "Triacylglycerol",
          "Triacylglycerol",
          "Triacylglycerol",
          "Triacylglycerol",
          "Triacylglycerol",
          "Triacylglycerol",
          "Triacylglycerol",
          "Triacylglycerol",
          "Triacylglycerol",
          "Triacylglycerol",
          "Triacylglycerol",
          "Triacylglycerol",
          "Triacylglycerol",
          "Triacylglycerol",
          "Triacylglycerol",
          "Triacylglycerol",
          "Triacylglycerol",
          "Triacylglycerol",
          "Triacylglycerol",
          "Triacylglycerol",
          "Triacylglycerol",
          "Triacylglycerol",
          "Triacylglycerol",
          "Triacylglycerol",
          "Triacylglycerol",
          "Triacylglycerol",
          "Triacylglycerol",
          "Triacylglycerol",
          "Triacylglycerol",
          "Triacylglycerol",
          "Triacylglycerol",
          "Triacylglycerol",
          "Triacylglycerol",
          "Triacylglycerol",
          "Triacylglycerol",
          "Triacylglycerol",
          "Triacylglycerol",
          "Triacylglycerol",
          "Triacylglycerol",
          "Triacylglycerol",
          "Triacylglycerol",
          "Triacylglycerol",
          "Triacylglycerol",
          "Triacylglycerol",
          "Triacylglycerol",
          "Triacylglycerol",
          "Triacylglycerol",
          "Triacylglycerol",
          "Triacylglycerol",
          "Triacylglycerol",
          "Triacylglycerol",
          "Triacylglycerol",
          "Triacylglycerol",
          "Triacylglycerol",
          "Triacylglycerol",
          "Triacylglycerol",
          "Triacylglycerol",
          "Triacylglycerol",
          "Triacylglycerol",
          "Triacylglycerol",
          "Triacylglycerol",
          "Triacylglycerol",
          "Triacylglycerol",
          "Triacylglycerol",
          "Triacylglycerol",
          "Triacylglycerol",
          "Triacylglycerol",
          "Triacylglycerol",
          "Triacylglycerol",
          "Triacylglycerol",
          "Triacylglycerol",
          "Triacylglycerol",
          "Triacylglycerol",
          "Triacylglycerol",
          "Triacylglycerol",
          "Triacylglycerol",
          "Triacylglycerol",
          "Triacylglycerol",
          "Triacylglycerol",
          "Triacylglycerol",
          "Triacylglycerol",
          "Triacylglycerol",
          "Triacylglycerol",
          "Triacylglycerol",
          "Triacylglycerol",
          "Triacylglycerol",
          "Triacylglycerol",
          "Triacylglycerol",
          "Triacylglycerol",
          "Triacylglycerol",
          "Triacylglycerol",
          "Triacylglycerol",
          "Triacylglycerol",
          "Triacylglycerol",
          "Triacylglycerol",
          "Triacylglycerol",
          "Triacylglycerol",
          "Triacylglycerol",
          "Triacylglycerol",
          "Triacylglycerol",
          "Triacylglycerol",
          "Triacylglycerol",
          "Triacylglycerol",
          "Triacylglycerol",
          "Triacylglycerol",
          "Triacylglycerol",
          "Triacylglycerol",
          "Triacylglycerol",
          "Triacylglycerol",
          "Triacylglycerol",
          "Triacylglycerol",
          "Triacylglycerol",
          "Triacylglycerol",
          "Triacylglycerol",
          "Triacylglycerol",
          "Triacylglycerol",
          "Triacylglycerol",
          "Triacylglycerol",
          "Triacylglycerol",
          "Triacylglycerol",
          "Triacylglycerol",
          "Triacylglycerol",
          "Triacylglycerol",
          "Triacylglycerol",
          "Triacylglycerol",
          "Triacylglycerol",
          "Triacylglycerol",
          "Triacylglycerol",
          "Triacylglycerol",
          "Triacylglycerol",
          "Triacylglycerol",
          "Triacylglycerol",
          "Triacylglycerol",
          "Triacylglycerol",
          "Triacylglycerol",
          "Triacylglycerol",
          "Triacylglycerol",
          "Triacylglycerol",
          "Triacylglycerol",
          "Triacylglycerol",
          "Triacylglycerol",
          "Triacylglycerol",
          "Triacylglycerol",
          "Triacylglycerol",
          "Triacylglycerol",
          "Triacylglycerol",
          "Triacylglycerol",
          "Triacylglycerol",
          "Triacylglycerol",
          "Triacylglycerol",
          "Triacylglycerol",
          "Triacylglycerol",
          "Triacylglycerol",
          "Triacylglycerol",
          "Triacylglycerol",
          "Triacylglycerol",
          "Triacylglycerol",
          "Triacylglycerol",
          "Triacylglycerol",
          "Triacylglycerol",
          "Triacylglycerol",
          "Triacylglycerol",
          "Triacylglycerol",
          "Triacylglycerol",
          "Triacylglycerol",
          "Triacylglycerol",
          "Triacylglycerol",
          "Triacylglycerol",
          "Triacylglycerol",
          "Triacylglycerol",
          "Triacylglycerol",
          "Triacylglycerol",
          "Triacylglycerol",
          "Triacylglycerol",
          "Triacylglycerol",
          "Triacylglycerol",
          "Triacylglycerol",
          "Triacylglycerol",
          "Triacylglycerol",
          "Triacylglycerol",
          "Triacylglycerol",
          "Triacylglycerol",
          "Triacylglycerol",
          "Triacylglycerol",
          "Triacylglycerol",
          "Triacylglycerol",
          "Triacylglycerol",
          "Triacylglycerol",
          "Triacylglycerol",
          "Triacylglycerol",
          "Triacylglycerol",
          "Triacylglycerol",
          "Triacylglycerol",
          "Triacylglycerol",
          "Triacylglycerol",
          "Triacylglycerol",
          "Triacylglycerol",
          "Triacylglycerol",
          "Triacylglycerol",
          "Triacylglycerol",
          "Triacylglycerol",
          "Triacylglycerol",
          "Triacylglycerol",
          "Triacylglycerol",
          "Triacylglycerol",
          "Triacylglycerol",
          "Triacylglycerol",
          "Triacylglycerol",
          "Triacylglycerol",
          "Triacylglycerol",
          "Triacylglycerol",
          "Triacylglycerol",
          "Triacylglycerol",
          "Triacylglycerol",
          "Triacylglycerol",
          "Triacylglycerol",
          "Triacylglycerol",
          "Triacylglycerol",
          "Triacylglycerol",
          "Triacylglycerol",
          "Triacylglycerol",
          "Triacylglycerol",
          "Triacylglycerol",
          "Triacylglycerol",
          "Triacylglycerol",
          "Triacylglycerol",
          "Triacylglycerol",
          "Triacylglycerol",
          "Triacylglycerol",
          "Triacylglycerol",
          "Triacylglycerol",
          "Triacylglycerol",
          "Triacylglycerol",
          "Triacylglycerol",
          "Triacylglycerol",
          "Triacylglycerol",
          "Triacylglycerol",
          "Triacylglycerol",
          "Triacylglycerol",
          "Triacylglycerol",
          "Triacylglycerol",
          "Triacylglycerol",
          "Triacylglycerol",
          "Triacylglycerol",
          "Triacylglycerol",
          "Triacylglycerol",
          "Triacylglycerol",
          "Triacylglycerol",
          "Triacylglycerol",
          "Triacylglycerol",
          "Triacylglycerol",
          "Triacylglycerol",
          "Triacylglycerol",
          "Triacylglycerol",
          "Triacylglycerol",
          "Triacylglycerol",
          "Triacylglycerol",
          "Triacylglycerol",
          "Triacylglycerol",
          "Triacylglycerol",
          "Triacylglycerol",
          "Triacylglycerol",
          "Triacylglycerol",
          "Triacylglycerol",
          "Triacylglycerol",
          "Triacylglycerol",
          "Triacylglycerol",
          "Triacylglycerol",
          "Triacylglycerol",
          "Triacylglycerol",
          "Triacylglycerol",
          "Triacylglycerol",
          "Triacylglycerol",
          "Triacylglycerol",
          "Triacylglycerol",
          "Triacylglycerol",
          "Triacylglycerol",
          "Triacylglycerol",
          "Triacylglycerol",
          "Triacylglycerol",
          "Triacylglycerol",
          "Triacylglycerol",
          "Triacylglycerol",
          "Triacylglycerol",
          "Triacylglycerol",
          "Triacylglycerol",
          "Triacylglycerol",
          "Triacylglycerol",
          "Triacylglycerol",
          "Triacylglycerol",
          "Triacylglycerol",
          "Triacylglycerol",
          "Triacylglycerol",
          "Triacylglycerol",
          "Triacylglycerol",
          "Triacylglycerol"
         ],
         "xaxis": "x",
         "y": [
          1,
          1,
          1,
          1,
          1,
          1,
          1,
          1,
          1,
          1,
          1,
          1,
          1,
          1,
          1,
          1,
          1,
          1,
          1,
          1,
          1,
          1,
          1,
          1,
          1,
          1,
          1,
          1,
          1,
          1,
          1,
          1,
          1,
          1,
          1,
          1,
          1,
          1,
          1,
          1,
          1,
          1,
          1,
          1,
          1,
          1,
          1,
          1,
          1,
          1,
          1,
          1,
          1,
          1,
          1,
          1,
          1,
          1,
          1,
          1,
          1,
          1,
          1,
          1,
          1,
          1,
          1,
          1,
          1,
          1,
          1,
          1,
          1,
          1,
          1,
          1,
          1,
          1,
          1,
          1,
          1,
          1,
          1,
          1,
          1,
          1,
          1,
          1,
          1,
          1,
          1,
          1,
          1,
          1,
          1,
          1,
          1,
          1,
          1,
          1,
          1,
          1,
          1,
          1,
          1,
          1,
          1,
          1,
          1,
          1,
          1,
          1,
          1,
          1,
          1,
          1,
          1,
          1,
          1,
          1,
          1,
          1,
          1,
          1,
          1,
          1,
          1,
          1,
          1,
          1,
          1,
          1,
          1,
          1,
          1,
          1,
          1,
          1,
          1,
          1,
          1,
          1,
          1,
          1,
          1,
          1,
          1,
          1,
          1,
          1,
          1,
          1,
          1,
          1,
          1,
          1,
          1,
          1,
          1,
          1,
          1,
          1,
          1,
          1,
          1,
          1,
          1,
          1,
          1,
          1,
          1,
          1,
          1,
          1,
          1,
          1,
          1,
          1,
          1,
          1,
          1,
          1,
          1,
          1,
          1,
          1,
          1,
          1,
          1,
          1,
          1,
          1,
          1,
          1,
          1,
          1,
          1,
          1,
          1,
          1,
          1,
          1,
          1,
          1,
          1,
          1,
          1,
          1,
          1,
          1,
          1,
          1,
          1,
          1,
          1,
          1,
          1,
          1,
          1,
          1,
          1,
          1,
          1,
          1,
          1,
          1,
          1,
          1,
          1,
          1,
          1,
          1,
          1,
          1,
          1,
          1,
          1,
          1,
          1,
          1,
          1,
          1,
          1,
          1,
          1,
          1,
          1,
          1,
          1,
          1,
          1,
          1,
          1,
          1,
          1,
          1,
          1,
          1,
          1,
          1,
          1,
          1,
          1,
          1,
          1,
          1,
          1,
          1,
          1,
          1,
          1,
          1,
          1,
          1,
          1,
          1,
          1,
          1,
          1,
          1,
          1,
          1,
          1,
          1,
          1,
          1,
          1,
          1,
          1,
          1,
          1,
          1,
          1,
          1,
          1,
          1,
          1,
          1,
          1,
          1,
          1,
          1,
          1,
          1,
          1,
          1,
          1,
          1,
          1,
          1,
          1,
          1,
          1,
          1,
          1,
          1,
          1,
          1,
          1,
          1,
          1,
          1,
          1,
          1,
          1,
          1,
          1,
          1,
          1,
          1,
          1,
          1,
          1,
          1,
          1,
          1,
          1,
          1,
          1,
          1,
          1,
          1,
          1,
          1,
          1,
          1,
          1,
          1,
          1,
          1,
          1,
          1,
          1,
          1,
          1,
          1,
          1,
          1,
          1,
          1,
          1,
          1,
          1,
          1,
          1,
          1,
          1,
          1,
          1,
          1,
          1,
          1,
          1,
          1,
          1,
          1,
          1,
          1,
          1,
          1,
          1,
          1,
          1,
          1,
          1,
          1,
          1,
          1,
          1,
          1,
          1,
          1,
          1,
          1,
          1,
          1,
          1,
          1,
          1,
          1,
          1,
          1,
          1,
          1,
          1,
          1,
          1,
          1,
          1,
          1,
          1,
          1,
          1,
          1,
          1,
          1,
          1,
          1,
          1,
          1,
          1,
          1,
          1,
          1,
          1,
          1,
          1,
          1,
          1,
          1,
          1,
          1,
          1,
          1,
          1,
          1,
          1,
          1,
          1,
          1,
          1,
          1,
          1,
          1,
          1,
          1,
          1,
          1,
          1,
          1,
          1,
          1,
          1,
          1,
          1,
          1,
          1,
          1,
          1,
          1,
          1,
          1,
          1,
          1,
          1,
          1,
          1,
          1,
          1,
          1,
          1,
          1,
          1,
          1,
          1,
          1,
          1,
          1,
          1,
          1,
          1,
          1,
          1,
          1,
          1,
          1,
          1,
          1,
          1,
          1
         ],
         "yaxis": "y"
        },
        {
         "alignmentgroup": "True",
         "hovertemplate": "SUPER_PATHWAY=%{x}<br>count=%{y}<extra></extra>",
         "legendgroup": ".",
         "marker": {
          "color": "#19d3f3",
          "line": {
           "width": 0
          },
          "pattern": {
           "shape": ""
          }
         },
         "name": ".",
         "offsetgroup": ".",
         "orientation": "v",
         "showlegend": true,
         "textposition": "auto",
         "type": "bar",
         "x": [
          ".",
          ".",
          ".",
          ".",
          ".",
          ".",
          ".",
          ".",
          ".",
          ".",
          ".",
          ".",
          ".",
          ".",
          ".",
          ".",
          ".",
          ".",
          ".",
          ".",
          ".",
          ".",
          ".",
          ".",
          ".",
          ".",
          ".",
          ".",
          ".",
          ".",
          ".",
          ".",
          ".",
          ".",
          ".",
          ".",
          ".",
          ".",
          ".",
          ".",
          ".",
          ".",
          ".",
          ".",
          ".",
          ".",
          ".",
          ".",
          ".",
          ".",
          ".",
          ".",
          ".",
          ".",
          ".",
          ".",
          ".",
          ".",
          ".",
          ".",
          ".",
          ".",
          ".",
          ".",
          ".",
          ".",
          ".",
          ".",
          ".",
          ".",
          ".",
          ".",
          ".",
          ".",
          ".",
          ".",
          ".",
          ".",
          ".",
          ".",
          ".",
          ".",
          ".",
          ".",
          ".",
          ".",
          ".",
          ".",
          ".",
          ".",
          ".",
          ".",
          ".",
          ".",
          ".",
          ".",
          ".",
          ".",
          ".",
          ".",
          ".",
          ".",
          ".",
          ".",
          ".",
          ".",
          ".",
          ".",
          ".",
          ".",
          ".",
          ".",
          ".",
          ".",
          ".",
          ".",
          ".",
          ".",
          ".",
          ".",
          ".",
          ".",
          ".",
          ".",
          ".",
          ".",
          ".",
          ".",
          ".",
          ".",
          ".",
          ".",
          ".",
          ".",
          ".",
          ".",
          ".",
          ".",
          ".",
          ".",
          ".",
          ".",
          ".",
          ".",
          ".",
          ".",
          ".",
          ".",
          ".",
          ".",
          ".",
          ".",
          ".",
          ".",
          ".",
          ".",
          ".",
          ".",
          ".",
          ".",
          ".",
          ".",
          ".",
          ".",
          ".",
          ".",
          ".",
          ".",
          ".",
          ".",
          ".",
          ".",
          ".",
          ".",
          ".",
          ".",
          ".",
          ".",
          ".",
          ".",
          ".",
          ".",
          ".",
          ".",
          ".",
          ".",
          ".",
          ".",
          ".",
          ".",
          ".",
          ".",
          ".",
          ".",
          ".",
          ".",
          ".",
          ".",
          ".",
          ".",
          ".",
          ".",
          ".",
          ".",
          ".",
          ".",
          ".",
          ".",
          ".",
          ".",
          ".",
          ".",
          ".",
          ".",
          ".",
          ".",
          ".",
          ".",
          ".",
          ".",
          ".",
          ".",
          ".",
          ".",
          ".",
          ".",
          ".",
          ".",
          ".",
          ".",
          ".",
          ".",
          ".",
          ".",
          ".",
          ".",
          ".",
          ".",
          ".",
          ".",
          ".",
          ".",
          ".",
          ".",
          ".",
          ".",
          ".",
          ".",
          ".",
          ".",
          ".",
          ".",
          ".",
          ".",
          ".",
          ".",
          ".",
          ".",
          ".",
          "."
         ],
         "xaxis": "x",
         "y": [
          1,
          1,
          1,
          1,
          1,
          1,
          1,
          1,
          1,
          1,
          1,
          1,
          1,
          1,
          1,
          1,
          1,
          1,
          1,
          1,
          1,
          1,
          1,
          1,
          1,
          1,
          1,
          1,
          1,
          1,
          1,
          1,
          1,
          1,
          1,
          1,
          1,
          1,
          1,
          1,
          1,
          1,
          1,
          1,
          1,
          1,
          1,
          1,
          1,
          1,
          1,
          1,
          1,
          1,
          1,
          1,
          1,
          1,
          1,
          1,
          1,
          1,
          1,
          1,
          1,
          1,
          1,
          1,
          1,
          1,
          1,
          1,
          1,
          1,
          1,
          1,
          1,
          1,
          1,
          1,
          1,
          1,
          1,
          1,
          1,
          1,
          1,
          1,
          1,
          1,
          1,
          1,
          1,
          1,
          1,
          1,
          1,
          1,
          1,
          1,
          1,
          1,
          1,
          1,
          1,
          1,
          1,
          1,
          1,
          1,
          1,
          1,
          1,
          1,
          1,
          1,
          1,
          1,
          1,
          1,
          1,
          1,
          1,
          1,
          1,
          1,
          1,
          1,
          1,
          1,
          1,
          1,
          1,
          1,
          1,
          1,
          1,
          1,
          1,
          1,
          1,
          1,
          1,
          1,
          1,
          1,
          1,
          1,
          1,
          1,
          1,
          1,
          1,
          1,
          1,
          1,
          1,
          1,
          1,
          1,
          1,
          1,
          1,
          1,
          1,
          1,
          1,
          1,
          1,
          1,
          1,
          1,
          1,
          1,
          1,
          1,
          1,
          1,
          1,
          1,
          1,
          1,
          1,
          1,
          1,
          1,
          1,
          1,
          1,
          1,
          1,
          1,
          1,
          1,
          1,
          1,
          1,
          1,
          1,
          1,
          1,
          1,
          1,
          1,
          1,
          1,
          1,
          1,
          1,
          1,
          1,
          1,
          1,
          1,
          1,
          1,
          1,
          1,
          1,
          1,
          1,
          1,
          1,
          1,
          1,
          1,
          1,
          1,
          1,
          1,
          1,
          1,
          1,
          1,
          1,
          1,
          1,
          1,
          1,
          1,
          1,
          1,
          1,
          1,
          1,
          1,
          1,
          1,
          1,
          1,
          1,
          1,
          1,
          1,
          1,
          1,
          1,
          1,
          1,
          1
         ],
         "yaxis": "y"
        }
       ],
       "layout": {
        "barmode": "relative",
        "legend": {
         "title": {
          "text": "SUPER_PATHWAY"
         },
         "tracegroupgap": 0
        },
        "margin": {
         "t": 60
        },
        "template": {
         "data": {
          "bar": [
           {
            "error_x": {
             "color": "#2a3f5f"
            },
            "error_y": {
             "color": "#2a3f5f"
            },
            "marker": {
             "line": {
              "color": "#E5ECF6",
              "width": 0.5
             },
             "pattern": {
              "fillmode": "overlay",
              "size": 10,
              "solidity": 0.2
             }
            },
            "type": "bar"
           }
          ],
          "barpolar": [
           {
            "marker": {
             "line": {
              "color": "#E5ECF6",
              "width": 0.5
             },
             "pattern": {
              "fillmode": "overlay",
              "size": 10,
              "solidity": 0.2
             }
            },
            "type": "barpolar"
           }
          ],
          "carpet": [
           {
            "aaxis": {
             "endlinecolor": "#2a3f5f",
             "gridcolor": "white",
             "linecolor": "white",
             "minorgridcolor": "white",
             "startlinecolor": "#2a3f5f"
            },
            "baxis": {
             "endlinecolor": "#2a3f5f",
             "gridcolor": "white",
             "linecolor": "white",
             "minorgridcolor": "white",
             "startlinecolor": "#2a3f5f"
            },
            "type": "carpet"
           }
          ],
          "choropleth": [
           {
            "colorbar": {
             "outlinewidth": 0,
             "ticks": ""
            },
            "type": "choropleth"
           }
          ],
          "contour": [
           {
            "colorbar": {
             "outlinewidth": 0,
             "ticks": ""
            },
            "colorscale": [
             [
              0,
              "#0d0887"
             ],
             [
              0.1111111111111111,
              "#46039f"
             ],
             [
              0.2222222222222222,
              "#7201a8"
             ],
             [
              0.3333333333333333,
              "#9c179e"
             ],
             [
              0.4444444444444444,
              "#bd3786"
             ],
             [
              0.5555555555555556,
              "#d8576b"
             ],
             [
              0.6666666666666666,
              "#ed7953"
             ],
             [
              0.7777777777777778,
              "#fb9f3a"
             ],
             [
              0.8888888888888888,
              "#fdca26"
             ],
             [
              1,
              "#f0f921"
             ]
            ],
            "type": "contour"
           }
          ],
          "contourcarpet": [
           {
            "colorbar": {
             "outlinewidth": 0,
             "ticks": ""
            },
            "type": "contourcarpet"
           }
          ],
          "heatmap": [
           {
            "colorbar": {
             "outlinewidth": 0,
             "ticks": ""
            },
            "colorscale": [
             [
              0,
              "#0d0887"
             ],
             [
              0.1111111111111111,
              "#46039f"
             ],
             [
              0.2222222222222222,
              "#7201a8"
             ],
             [
              0.3333333333333333,
              "#9c179e"
             ],
             [
              0.4444444444444444,
              "#bd3786"
             ],
             [
              0.5555555555555556,
              "#d8576b"
             ],
             [
              0.6666666666666666,
              "#ed7953"
             ],
             [
              0.7777777777777778,
              "#fb9f3a"
             ],
             [
              0.8888888888888888,
              "#fdca26"
             ],
             [
              1,
              "#f0f921"
             ]
            ],
            "type": "heatmap"
           }
          ],
          "heatmapgl": [
           {
            "colorbar": {
             "outlinewidth": 0,
             "ticks": ""
            },
            "colorscale": [
             [
              0,
              "#0d0887"
             ],
             [
              0.1111111111111111,
              "#46039f"
             ],
             [
              0.2222222222222222,
              "#7201a8"
             ],
             [
              0.3333333333333333,
              "#9c179e"
             ],
             [
              0.4444444444444444,
              "#bd3786"
             ],
             [
              0.5555555555555556,
              "#d8576b"
             ],
             [
              0.6666666666666666,
              "#ed7953"
             ],
             [
              0.7777777777777778,
              "#fb9f3a"
             ],
             [
              0.8888888888888888,
              "#fdca26"
             ],
             [
              1,
              "#f0f921"
             ]
            ],
            "type": "heatmapgl"
           }
          ],
          "histogram": [
           {
            "marker": {
             "pattern": {
              "fillmode": "overlay",
              "size": 10,
              "solidity": 0.2
             }
            },
            "type": "histogram"
           }
          ],
          "histogram2d": [
           {
            "colorbar": {
             "outlinewidth": 0,
             "ticks": ""
            },
            "colorscale": [
             [
              0,
              "#0d0887"
             ],
             [
              0.1111111111111111,
              "#46039f"
             ],
             [
              0.2222222222222222,
              "#7201a8"
             ],
             [
              0.3333333333333333,
              "#9c179e"
             ],
             [
              0.4444444444444444,
              "#bd3786"
             ],
             [
              0.5555555555555556,
              "#d8576b"
             ],
             [
              0.6666666666666666,
              "#ed7953"
             ],
             [
              0.7777777777777778,
              "#fb9f3a"
             ],
             [
              0.8888888888888888,
              "#fdca26"
             ],
             [
              1,
              "#f0f921"
             ]
            ],
            "type": "histogram2d"
           }
          ],
          "histogram2dcontour": [
           {
            "colorbar": {
             "outlinewidth": 0,
             "ticks": ""
            },
            "colorscale": [
             [
              0,
              "#0d0887"
             ],
             [
              0.1111111111111111,
              "#46039f"
             ],
             [
              0.2222222222222222,
              "#7201a8"
             ],
             [
              0.3333333333333333,
              "#9c179e"
             ],
             [
              0.4444444444444444,
              "#bd3786"
             ],
             [
              0.5555555555555556,
              "#d8576b"
             ],
             [
              0.6666666666666666,
              "#ed7953"
             ],
             [
              0.7777777777777778,
              "#fb9f3a"
             ],
             [
              0.8888888888888888,
              "#fdca26"
             ],
             [
              1,
              "#f0f921"
             ]
            ],
            "type": "histogram2dcontour"
           }
          ],
          "mesh3d": [
           {
            "colorbar": {
             "outlinewidth": 0,
             "ticks": ""
            },
            "type": "mesh3d"
           }
          ],
          "parcoords": [
           {
            "line": {
             "colorbar": {
              "outlinewidth": 0,
              "ticks": ""
             }
            },
            "type": "parcoords"
           }
          ],
          "pie": [
           {
            "automargin": true,
            "type": "pie"
           }
          ],
          "scatter": [
           {
            "fillpattern": {
             "fillmode": "overlay",
             "size": 10,
             "solidity": 0.2
            },
            "type": "scatter"
           }
          ],
          "scatter3d": [
           {
            "line": {
             "colorbar": {
              "outlinewidth": 0,
              "ticks": ""
             }
            },
            "marker": {
             "colorbar": {
              "outlinewidth": 0,
              "ticks": ""
             }
            },
            "type": "scatter3d"
           }
          ],
          "scattercarpet": [
           {
            "marker": {
             "colorbar": {
              "outlinewidth": 0,
              "ticks": ""
             }
            },
            "type": "scattercarpet"
           }
          ],
          "scattergeo": [
           {
            "marker": {
             "colorbar": {
              "outlinewidth": 0,
              "ticks": ""
             }
            },
            "type": "scattergeo"
           }
          ],
          "scattergl": [
           {
            "marker": {
             "colorbar": {
              "outlinewidth": 0,
              "ticks": ""
             }
            },
            "type": "scattergl"
           }
          ],
          "scattermapbox": [
           {
            "marker": {
             "colorbar": {
              "outlinewidth": 0,
              "ticks": ""
             }
            },
            "type": "scattermapbox"
           }
          ],
          "scatterpolar": [
           {
            "marker": {
             "colorbar": {
              "outlinewidth": 0,
              "ticks": ""
             }
            },
            "type": "scatterpolar"
           }
          ],
          "scatterpolargl": [
           {
            "marker": {
             "colorbar": {
              "outlinewidth": 0,
              "ticks": ""
             }
            },
            "type": "scatterpolargl"
           }
          ],
          "scatterternary": [
           {
            "marker": {
             "colorbar": {
              "outlinewidth": 0,
              "ticks": ""
             }
            },
            "type": "scatterternary"
           }
          ],
          "surface": [
           {
            "colorbar": {
             "outlinewidth": 0,
             "ticks": ""
            },
            "colorscale": [
             [
              0,
              "#0d0887"
             ],
             [
              0.1111111111111111,
              "#46039f"
             ],
             [
              0.2222222222222222,
              "#7201a8"
             ],
             [
              0.3333333333333333,
              "#9c179e"
             ],
             [
              0.4444444444444444,
              "#bd3786"
             ],
             [
              0.5555555555555556,
              "#d8576b"
             ],
             [
              0.6666666666666666,
              "#ed7953"
             ],
             [
              0.7777777777777778,
              "#fb9f3a"
             ],
             [
              0.8888888888888888,
              "#fdca26"
             ],
             [
              1,
              "#f0f921"
             ]
            ],
            "type": "surface"
           }
          ],
          "table": [
           {
            "cells": {
             "fill": {
              "color": "#EBF0F8"
             },
             "line": {
              "color": "white"
             }
            },
            "header": {
             "fill": {
              "color": "#C8D4E3"
             },
             "line": {
              "color": "white"
             }
            },
            "type": "table"
           }
          ]
         },
         "layout": {
          "annotationdefaults": {
           "arrowcolor": "#2a3f5f",
           "arrowhead": 0,
           "arrowwidth": 1
          },
          "autotypenumbers": "strict",
          "coloraxis": {
           "colorbar": {
            "outlinewidth": 0,
            "ticks": ""
           }
          },
          "colorscale": {
           "diverging": [
            [
             0,
             "#8e0152"
            ],
            [
             0.1,
             "#c51b7d"
            ],
            [
             0.2,
             "#de77ae"
            ],
            [
             0.3,
             "#f1b6da"
            ],
            [
             0.4,
             "#fde0ef"
            ],
            [
             0.5,
             "#f7f7f7"
            ],
            [
             0.6,
             "#e6f5d0"
            ],
            [
             0.7,
             "#b8e186"
            ],
            [
             0.8,
             "#7fbc41"
            ],
            [
             0.9,
             "#4d9221"
            ],
            [
             1,
             "#276419"
            ]
           ],
           "sequential": [
            [
             0,
             "#0d0887"
            ],
            [
             0.1111111111111111,
             "#46039f"
            ],
            [
             0.2222222222222222,
             "#7201a8"
            ],
            [
             0.3333333333333333,
             "#9c179e"
            ],
            [
             0.4444444444444444,
             "#bd3786"
            ],
            [
             0.5555555555555556,
             "#d8576b"
            ],
            [
             0.6666666666666666,
             "#ed7953"
            ],
            [
             0.7777777777777778,
             "#fb9f3a"
            ],
            [
             0.8888888888888888,
             "#fdca26"
            ],
            [
             1,
             "#f0f921"
            ]
           ],
           "sequentialminus": [
            [
             0,
             "#0d0887"
            ],
            [
             0.1111111111111111,
             "#46039f"
            ],
            [
             0.2222222222222222,
             "#7201a8"
            ],
            [
             0.3333333333333333,
             "#9c179e"
            ],
            [
             0.4444444444444444,
             "#bd3786"
            ],
            [
             0.5555555555555556,
             "#d8576b"
            ],
            [
             0.6666666666666666,
             "#ed7953"
            ],
            [
             0.7777777777777778,
             "#fb9f3a"
            ],
            [
             0.8888888888888888,
             "#fdca26"
            ],
            [
             1,
             "#f0f921"
            ]
           ]
          },
          "colorway": [
           "#636efa",
           "#EF553B",
           "#00cc96",
           "#ab63fa",
           "#FFA15A",
           "#19d3f3",
           "#FF6692",
           "#B6E880",
           "#FF97FF",
           "#FECB52"
          ],
          "font": {
           "color": "#2a3f5f"
          },
          "geo": {
           "bgcolor": "white",
           "lakecolor": "white",
           "landcolor": "#E5ECF6",
           "showlakes": true,
           "showland": true,
           "subunitcolor": "white"
          },
          "hoverlabel": {
           "align": "left"
          },
          "hovermode": "closest",
          "mapbox": {
           "style": "light"
          },
          "paper_bgcolor": "white",
          "plot_bgcolor": "#E5ECF6",
          "polar": {
           "angularaxis": {
            "gridcolor": "white",
            "linecolor": "white",
            "ticks": ""
           },
           "bgcolor": "#E5ECF6",
           "radialaxis": {
            "gridcolor": "white",
            "linecolor": "white",
            "ticks": ""
           }
          },
          "scene": {
           "xaxis": {
            "backgroundcolor": "#E5ECF6",
            "gridcolor": "white",
            "gridwidth": 2,
            "linecolor": "white",
            "showbackground": true,
            "ticks": "",
            "zerolinecolor": "white"
           },
           "yaxis": {
            "backgroundcolor": "#E5ECF6",
            "gridcolor": "white",
            "gridwidth": 2,
            "linecolor": "white",
            "showbackground": true,
            "ticks": "",
            "zerolinecolor": "white"
           },
           "zaxis": {
            "backgroundcolor": "#E5ECF6",
            "gridcolor": "white",
            "gridwidth": 2,
            "linecolor": "white",
            "showbackground": true,
            "ticks": "",
            "zerolinecolor": "white"
           }
          },
          "shapedefaults": {
           "line": {
            "color": "#2a3f5f"
           }
          },
          "ternary": {
           "aaxis": {
            "gridcolor": "white",
            "linecolor": "white",
            "ticks": ""
           },
           "baxis": {
            "gridcolor": "white",
            "linecolor": "white",
            "ticks": ""
           },
           "bgcolor": "#E5ECF6",
           "caxis": {
            "gridcolor": "white",
            "linecolor": "white",
            "ticks": ""
           }
          },
          "title": {
           "x": 0.05
          },
          "xaxis": {
           "automargin": true,
           "gridcolor": "white",
           "linecolor": "white",
           "ticks": "",
           "title": {
            "standoff": 15
           },
           "zerolinecolor": "white",
           "zerolinewidth": 2
          },
          "yaxis": {
           "automargin": true,
           "gridcolor": "white",
           "linecolor": "white",
           "ticks": "",
           "title": {
            "standoff": 15
           },
           "zerolinecolor": "white",
           "zerolinewidth": 2
          }
         }
        },
        "xaxis": {
         "anchor": "y",
         "categoryarray": [
          "Amino Acid",
          "Peptide",
          "Carbohydrate",
          "Energy",
          "Lipid",
          "Nucleotide",
          "Cofactors and Vitamins",
          "Xenobiotics",
          "Neutral Complex Lipids",
          "Phospholipids",
          "Sphingolipids",
          "Cholesterol Ester",
          "Ceramides",
          "Diacylglycerol",
          "Dihydroceramides",
          "Free Fatty Acids",
          "Hexosylceramides",
          "Lactosylceramide",
          "Lysophosphatidylcholine",
          "Lysophosphatidylethanolamine",
          "Phosphatidylcholine",
          "Phosphatidylethanolamine",
          "PI",
          "Sphingomyelin",
          "Triacylglycerol",
          "."
         ],
         "categoryorder": "array",
         "domain": [
          0,
          1
         ],
         "title": {
          "text": "SUPER_PATHWAY"
         }
        },
        "yaxis": {
         "anchor": "x",
         "domain": [
          0,
          1
         ],
         "title": {
          "text": "count"
         }
        }
       }
      },
      "text/html": [
       "<div>                            <div id=\"91f20e07-477f-427e-9dbe-86be04d3ad88\" class=\"plotly-graph-div\" style=\"height:525px; width:100%;\"></div>            <script type=\"text/javascript\">                require([\"plotly\"], function(Plotly) {                    window.PLOTLYENV=window.PLOTLYENV || {};                                    if (document.getElementById(\"91f20e07-477f-427e-9dbe-86be04d3ad88\")) {                    Plotly.newPlot(                        \"91f20e07-477f-427e-9dbe-86be04d3ad88\",                        [{\"alignmentgroup\":\"True\",\"hovertemplate\":\"SUPER_PATHWAY=%{x}<br>count=%{y}<extra></extra>\",\"legendgroup\":\"Amino Acid\",\"marker\":{\"color\":\"#636efa\",\"pattern\":{\"shape\":\"\"},\"line\":{\"width\":0}},\"name\":\"Amino Acid\",\"offsetgroup\":\"Amino Acid\",\"orientation\":\"v\",\"showlegend\":true,\"textposition\":\"auto\",\"x\":[\"Amino Acid\",\"Amino Acid\",\"Amino Acid\",\"Amino Acid\",\"Amino Acid\",\"Amino Acid\",\"Amino Acid\",\"Amino Acid\",\"Amino Acid\",\"Amino Acid\",\"Amino Acid\",\"Amino Acid\",\"Amino Acid\",\"Amino Acid\",\"Amino Acid\",\"Amino Acid\",\"Amino Acid\",\"Amino Acid\",\"Amino Acid\",\"Amino Acid\",\"Amino Acid\",\"Amino Acid\",\"Amino Acid\",\"Amino Acid\",\"Amino Acid\",\"Amino Acid\",\"Amino Acid\",\"Amino Acid\",\"Amino Acid\",\"Amino Acid\",\"Amino Acid\",\"Amino Acid\",\"Amino Acid\",\"Amino Acid\",\"Amino Acid\",\"Amino Acid\",\"Amino Acid\",\"Amino Acid\",\"Amino Acid\",\"Amino Acid\",\"Amino Acid\",\"Amino Acid\",\"Amino Acid\",\"Amino Acid\",\"Amino Acid\",\"Amino Acid\",\"Amino Acid\",\"Amino Acid\",\"Amino Acid\",\"Amino Acid\",\"Amino Acid\",\"Amino Acid\",\"Amino Acid\",\"Amino Acid\",\"Amino Acid\",\"Amino Acid\",\"Amino Acid\",\"Amino Acid\",\"Amino Acid\",\"Amino Acid\",\"Amino Acid\",\"Amino Acid\",\"Amino Acid\",\"Amino Acid\",\"Amino Acid\",\"Amino Acid\",\"Amino Acid\",\"Amino Acid\",\"Amino Acid\",\"Amino Acid\",\"Amino Acid\",\"Amino Acid\",\"Amino Acid\",\"Amino Acid\",\"Amino Acid\",\"Amino Acid\",\"Amino Acid\",\"Amino Acid\",\"Amino Acid\",\"Amino Acid\",\"Amino Acid\",\"Amino Acid\",\"Amino Acid\",\"Amino Acid\",\"Amino Acid\",\"Amino Acid\",\"Amino Acid\",\"Amino Acid\",\"Amino Acid\",\"Amino Acid\",\"Amino Acid\",\"Amino Acid\",\"Amino Acid\",\"Amino Acid\",\"Amino Acid\",\"Amino Acid\",\"Amino Acid\",\"Amino Acid\",\"Amino Acid\",\"Amino Acid\",\"Amino Acid\",\"Amino Acid\",\"Amino Acid\",\"Amino Acid\",\"Amino Acid\",\"Amino Acid\",\"Amino Acid\",\"Amino Acid\",\"Amino Acid\",\"Amino Acid\",\"Amino Acid\",\"Amino Acid\",\"Amino Acid\",\"Amino Acid\",\"Amino Acid\",\"Amino Acid\",\"Amino Acid\",\"Amino Acid\",\"Amino Acid\",\"Amino Acid\",\"Amino Acid\",\"Amino Acid\",\"Amino Acid\",\"Amino Acid\",\"Amino Acid\",\"Amino Acid\",\"Amino Acid\",\"Amino Acid\",\"Amino Acid\",\"Amino Acid\",\"Amino Acid\",\"Amino Acid\",\"Amino Acid\",\"Amino Acid\",\"Amino Acid\",\"Amino Acid\",\"Amino Acid\",\"Amino Acid\",\"Amino Acid\",\"Amino Acid\",\"Amino Acid\",\"Amino Acid\",\"Amino Acid\",\"Amino Acid\",\"Amino Acid\",\"Amino Acid\",\"Amino Acid\",\"Amino Acid\",\"Amino Acid\"],\"xaxis\":\"x\",\"y\":[1,1,1,1,1,1,1,1,1,1,1,1,1,1,1,1,1,1,1,1,1,1,1,1,1,1,1,1,1,1,1,1,1,1,1,1,1,1,1,1,1,1,1,1,1,1,1,1,1,1,1,1,1,1,1,1,1,1,1,1,1,1,1,1,1,1,1,1,1,1,1,1,1,1,1,1,1,1,1,1,1,1,1,1,1,1,1,1,1,1,1,1,1,1,1,1,1,1,1,1,1,1,1,1,1,1,1,1,1,1,1,1,1,1,1,1,1,1,1,1,1,1,1,1,1,1,1,1,1,1,1,1,1,1,1,1,1,1,1,1,1,1,1,1,1,1,1,1,1],\"yaxis\":\"y\",\"type\":\"bar\"},{\"alignmentgroup\":\"True\",\"hovertemplate\":\"SUPER_PATHWAY=%{x}<br>count=%{y}<extra></extra>\",\"legendgroup\":\"Peptide\",\"marker\":{\"color\":\"#EF553B\",\"pattern\":{\"shape\":\"\"},\"line\":{\"width\":0}},\"name\":\"Peptide\",\"offsetgroup\":\"Peptide\",\"orientation\":\"v\",\"showlegend\":true,\"textposition\":\"auto\",\"x\":[\"Peptide\",\"Peptide\",\"Peptide\",\"Peptide\",\"Peptide\",\"Peptide\",\"Peptide\",\"Peptide\",\"Peptide\",\"Peptide\",\"Peptide\",\"Peptide\",\"Peptide\",\"Peptide\",\"Peptide\",\"Peptide\",\"Peptide\",\"Peptide\",\"Peptide\",\"Peptide\",\"Peptide\",\"Peptide\",\"Peptide\",\"Peptide\"],\"xaxis\":\"x\",\"y\":[1,1,1,1,1,1,1,1,1,1,1,1,1,1,1,1,1,1,1,1,1,1,1,1],\"yaxis\":\"y\",\"type\":\"bar\"},{\"alignmentgroup\":\"True\",\"hovertemplate\":\"SUPER_PATHWAY=%{x}<br>count=%{y}<extra></extra>\",\"legendgroup\":\"Carbohydrate\",\"marker\":{\"color\":\"#00cc96\",\"pattern\":{\"shape\":\"\"},\"line\":{\"width\":0}},\"name\":\"Carbohydrate\",\"offsetgroup\":\"Carbohydrate\",\"orientation\":\"v\",\"showlegend\":true,\"textposition\":\"auto\",\"x\":[\"Carbohydrate\",\"Carbohydrate\",\"Carbohydrate\",\"Carbohydrate\",\"Carbohydrate\",\"Carbohydrate\",\"Carbohydrate\",\"Carbohydrate\",\"Carbohydrate\",\"Carbohydrate\",\"Carbohydrate\",\"Carbohydrate\",\"Carbohydrate\",\"Carbohydrate\",\"Carbohydrate\",\"Carbohydrate\",\"Carbohydrate\",\"Carbohydrate\",\"Carbohydrate\",\"Carbohydrate\",\"Carbohydrate\"],\"xaxis\":\"x\",\"y\":[1,1,1,1,1,1,1,1,1,1,1,1,1,1,1,1,1,1,1,1,1],\"yaxis\":\"y\",\"type\":\"bar\"},{\"alignmentgroup\":\"True\",\"hovertemplate\":\"SUPER_PATHWAY=%{x}<br>count=%{y}<extra></extra>\",\"legendgroup\":\"Energy\",\"marker\":{\"color\":\"#ab63fa\",\"pattern\":{\"shape\":\"\"},\"line\":{\"width\":0}},\"name\":\"Energy\",\"offsetgroup\":\"Energy\",\"orientation\":\"v\",\"showlegend\":true,\"textposition\":\"auto\",\"x\":[\"Energy\",\"Energy\",\"Energy\",\"Energy\",\"Energy\",\"Energy\",\"Energy\",\"Energy\"],\"xaxis\":\"x\",\"y\":[1,1,1,1,1,1,1,1],\"yaxis\":\"y\",\"type\":\"bar\"},{\"alignmentgroup\":\"True\",\"hovertemplate\":\"SUPER_PATHWAY=%{x}<br>count=%{y}<extra></extra>\",\"legendgroup\":\"Lipid\",\"marker\":{\"color\":\"#FFA15A\",\"pattern\":{\"shape\":\"\"},\"line\":{\"width\":0}},\"name\":\"Lipid\",\"offsetgroup\":\"Lipid\",\"orientation\":\"v\",\"showlegend\":true,\"textposition\":\"auto\",\"x\":[\"Lipid\",\"Lipid\",\"Lipid\",\"Lipid\",\"Lipid\",\"Lipid\",\"Lipid\",\"Lipid\",\"Lipid\",\"Lipid\",\"Lipid\",\"Lipid\",\"Lipid\",\"Lipid\",\"Lipid\",\"Lipid\",\"Lipid\",\"Lipid\",\"Lipid\",\"Lipid\",\"Lipid\",\"Lipid\",\"Lipid\",\"Lipid\",\"Lipid\",\"Lipid\",\"Lipid\",\"Lipid\",\"Lipid\",\"Lipid\",\"Lipid\",\"Lipid\",\"Lipid\",\"Lipid\",\"Lipid\",\"Lipid\",\"Lipid\",\"Lipid\",\"Lipid\",\"Lipid\",\"Lipid\",\"Lipid\",\"Lipid\",\"Lipid\",\"Lipid\",\"Lipid\",\"Lipid\",\"Lipid\",\"Lipid\",\"Lipid\",\"Lipid\",\"Lipid\",\"Lipid\",\"Lipid\",\"Lipid\",\"Lipid\",\"Lipid\",\"Lipid\",\"Lipid\",\"Lipid\",\"Lipid\",\"Lipid\",\"Lipid\",\"Lipid\",\"Lipid\",\"Lipid\",\"Lipid\",\"Lipid\",\"Lipid\",\"Lipid\",\"Lipid\",\"Lipid\",\"Lipid\",\"Lipid\",\"Lipid\",\"Lipid\",\"Lipid\",\"Lipid\",\"Lipid\",\"Lipid\",\"Lipid\",\"Lipid\",\"Lipid\",\"Lipid\",\"Lipid\",\"Lipid\",\"Lipid\",\"Lipid\",\"Lipid\",\"Lipid\",\"Lipid\",\"Lipid\",\"Lipid\",\"Lipid\",\"Lipid\",\"Lipid\",\"Lipid\",\"Lipid\",\"Lipid\",\"Lipid\",\"Lipid\",\"Lipid\",\"Lipid\",\"Lipid\",\"Lipid\",\"Lipid\",\"Lipid\",\"Lipid\",\"Lipid\",\"Lipid\",\"Lipid\",\"Lipid\",\"Lipid\",\"Lipid\",\"Lipid\",\"Lipid\",\"Lipid\",\"Lipid\",\"Lipid\",\"Lipid\",\"Lipid\",\"Lipid\",\"Lipid\",\"Lipid\",\"Lipid\",\"Lipid\",\"Lipid\",\"Lipid\",\"Lipid\",\"Lipid\",\"Lipid\",\"Lipid\",\"Lipid\",\"Lipid\",\"Lipid\",\"Lipid\",\"Lipid\",\"Lipid\",\"Lipid\",\"Lipid\",\"Lipid\",\"Lipid\"],\"xaxis\":\"x\",\"y\":[1,1,1,1,1,1,1,1,1,1,1,1,1,1,1,1,1,1,1,1,1,1,1,1,1,1,1,1,1,1,1,1,1,1,1,1,1,1,1,1,1,1,1,1,1,1,1,1,1,1,1,1,1,1,1,1,1,1,1,1,1,1,1,1,1,1,1,1,1,1,1,1,1,1,1,1,1,1,1,1,1,1,1,1,1,1,1,1,1,1,1,1,1,1,1,1,1,1,1,1,1,1,1,1,1,1,1,1,1,1,1,1,1,1,1,1,1,1,1,1,1,1,1,1,1,1,1,1,1,1,1,1,1,1,1,1,1,1,1,1,1,1],\"yaxis\":\"y\",\"type\":\"bar\"},{\"alignmentgroup\":\"True\",\"hovertemplate\":\"SUPER_PATHWAY=%{x}<br>count=%{y}<extra></extra>\",\"legendgroup\":\"Nucleotide\",\"marker\":{\"color\":\"#19d3f3\",\"pattern\":{\"shape\":\"\"},\"line\":{\"width\":0}},\"name\":\"Nucleotide\",\"offsetgroup\":\"Nucleotide\",\"orientation\":\"v\",\"showlegend\":true,\"textposition\":\"auto\",\"x\":[\"Nucleotide\",\"Nucleotide\",\"Nucleotide\",\"Nucleotide\",\"Nucleotide\",\"Nucleotide\",\"Nucleotide\",\"Nucleotide\",\"Nucleotide\",\"Nucleotide\",\"Nucleotide\",\"Nucleotide\",\"Nucleotide\",\"Nucleotide\",\"Nucleotide\",\"Nucleotide\",\"Nucleotide\",\"Nucleotide\",\"Nucleotide\",\"Nucleotide\",\"Nucleotide\",\"Nucleotide\",\"Nucleotide\",\"Nucleotide\",\"Nucleotide\",\"Nucleotide\",\"Nucleotide\"],\"xaxis\":\"x\",\"y\":[1,1,1,1,1,1,1,1,1,1,1,1,1,1,1,1,1,1,1,1,1,1,1,1,1,1,1],\"yaxis\":\"y\",\"type\":\"bar\"},{\"alignmentgroup\":\"True\",\"hovertemplate\":\"SUPER_PATHWAY=%{x}<br>count=%{y}<extra></extra>\",\"legendgroup\":\"Cofactors and Vitamins\",\"marker\":{\"color\":\"#FF6692\",\"pattern\":{\"shape\":\"\"},\"line\":{\"width\":0}},\"name\":\"Cofactors and Vitamins\",\"offsetgroup\":\"Cofactors and Vitamins\",\"orientation\":\"v\",\"showlegend\":true,\"textposition\":\"auto\",\"x\":[\"Cofactors and Vitamins\",\"Cofactors and Vitamins\",\"Cofactors and Vitamins\",\"Cofactors and Vitamins\",\"Cofactors and Vitamins\",\"Cofactors and Vitamins\",\"Cofactors and Vitamins\",\"Cofactors and Vitamins\",\"Cofactors and Vitamins\",\"Cofactors and Vitamins\",\"Cofactors and Vitamins\",\"Cofactors and Vitamins\",\"Cofactors and Vitamins\",\"Cofactors and Vitamins\",\"Cofactors and Vitamins\",\"Cofactors and Vitamins\",\"Cofactors and Vitamins\",\"Cofactors and Vitamins\"],\"xaxis\":\"x\",\"y\":[1,1,1,1,1,1,1,1,1,1,1,1,1,1,1,1,1,1],\"yaxis\":\"y\",\"type\":\"bar\"},{\"alignmentgroup\":\"True\",\"hovertemplate\":\"SUPER_PATHWAY=%{x}<br>count=%{y}<extra></extra>\",\"legendgroup\":\"Xenobiotics\",\"marker\":{\"color\":\"#B6E880\",\"pattern\":{\"shape\":\"\"},\"line\":{\"width\":0}},\"name\":\"Xenobiotics\",\"offsetgroup\":\"Xenobiotics\",\"orientation\":\"v\",\"showlegend\":true,\"textposition\":\"auto\",\"x\":[\"Xenobiotics\",\"Xenobiotics\",\"Xenobiotics\",\"Xenobiotics\",\"Xenobiotics\",\"Xenobiotics\",\"Xenobiotics\",\"Xenobiotics\",\"Xenobiotics\",\"Xenobiotics\",\"Xenobiotics\",\"Xenobiotics\",\"Xenobiotics\",\"Xenobiotics\",\"Xenobiotics\",\"Xenobiotics\",\"Xenobiotics\",\"Xenobiotics\",\"Xenobiotics\",\"Xenobiotics\",\"Xenobiotics\",\"Xenobiotics\",\"Xenobiotics\",\"Xenobiotics\",\"Xenobiotics\",\"Xenobiotics\",\"Xenobiotics\",\"Xenobiotics\",\"Xenobiotics\",\"Xenobiotics\",\"Xenobiotics\",\"Xenobiotics\",\"Xenobiotics\",\"Xenobiotics\",\"Xenobiotics\",\"Xenobiotics\",\"Xenobiotics\",\"Xenobiotics\",\"Xenobiotics\",\"Xenobiotics\",\"Xenobiotics\",\"Xenobiotics\",\"Xenobiotics\",\"Xenobiotics\",\"Xenobiotics\",\"Xenobiotics\",\"Xenobiotics\",\"Xenobiotics\",\"Xenobiotics\",\"Xenobiotics\",\"Xenobiotics\",\"Xenobiotics\",\"Xenobiotics\",\"Xenobiotics\",\"Xenobiotics\",\"Xenobiotics\",\"Xenobiotics\",\"Xenobiotics\",\"Xenobiotics\",\"Xenobiotics\",\"Xenobiotics\",\"Xenobiotics\",\"Xenobiotics\",\"Xenobiotics\",\"Xenobiotics\",\"Xenobiotics\",\"Xenobiotics\",\"Xenobiotics\",\"Xenobiotics\",\"Xenobiotics\",\"Xenobiotics\",\"Xenobiotics\",\"Xenobiotics\",\"Xenobiotics\",\"Xenobiotics\",\"Xenobiotics\",\"Xenobiotics\",\"Xenobiotics\",\"Xenobiotics\",\"Xenobiotics\",\"Xenobiotics\",\"Xenobiotics\",\"Xenobiotics\",\"Xenobiotics\",\"Xenobiotics\",\"Xenobiotics\",\"Xenobiotics\",\"Xenobiotics\",\"Xenobiotics\"],\"xaxis\":\"x\",\"y\":[1,1,1,1,1,1,1,1,1,1,1,1,1,1,1,1,1,1,1,1,1,1,1,1,1,1,1,1,1,1,1,1,1,1,1,1,1,1,1,1,1,1,1,1,1,1,1,1,1,1,1,1,1,1,1,1,1,1,1,1,1,1,1,1,1,1,1,1,1,1,1,1,1,1,1,1,1,1,1,1,1,1,1,1,1,1,1,1,1],\"yaxis\":\"y\",\"type\":\"bar\"},{\"alignmentgroup\":\"True\",\"hovertemplate\":\"SUPER_PATHWAY=%{x}<br>count=%{y}<extra></extra>\",\"legendgroup\":\"Neutral Complex Lipids\",\"marker\":{\"color\":\"#FF97FF\",\"pattern\":{\"shape\":\"\"},\"line\":{\"width\":0}},\"name\":\"Neutral Complex Lipids\",\"offsetgroup\":\"Neutral Complex Lipids\",\"orientation\":\"v\",\"showlegend\":true,\"textposition\":\"auto\",\"x\":[\"Neutral Complex Lipids\",\"Neutral Complex Lipids\",\"Neutral Complex Lipids\",\"Neutral Complex Lipids\"],\"xaxis\":\"x\",\"y\":[1,1,1,1],\"yaxis\":\"y\",\"type\":\"bar\"},{\"alignmentgroup\":\"True\",\"hovertemplate\":\"SUPER_PATHWAY=%{x}<br>count=%{y}<extra></extra>\",\"legendgroup\":\"Phospholipids\",\"marker\":{\"color\":\"#FECB52\",\"pattern\":{\"shape\":\"\"},\"line\":{\"width\":0}},\"name\":\"Phospholipids\",\"offsetgroup\":\"Phospholipids\",\"orientation\":\"v\",\"showlegend\":true,\"textposition\":\"auto\",\"x\":[\"Phospholipids\",\"Phospholipids\",\"Phospholipids\",\"Phospholipids\",\"Phospholipids\"],\"xaxis\":\"x\",\"y\":[1,1,1,1,1],\"yaxis\":\"y\",\"type\":\"bar\"},{\"alignmentgroup\":\"True\",\"hovertemplate\":\"SUPER_PATHWAY=%{x}<br>count=%{y}<extra></extra>\",\"legendgroup\":\"Sphingolipids\",\"marker\":{\"color\":\"#636efa\",\"pattern\":{\"shape\":\"\"},\"line\":{\"width\":0}},\"name\":\"Sphingolipids\",\"offsetgroup\":\"Sphingolipids\",\"orientation\":\"v\",\"showlegend\":true,\"textposition\":\"auto\",\"x\":[\"Sphingolipids\",\"Sphingolipids\",\"Sphingolipids\",\"Sphingolipids\",\"Sphingolipids\"],\"xaxis\":\"x\",\"y\":[1,1,1,1,1],\"yaxis\":\"y\",\"type\":\"bar\"},{\"alignmentgroup\":\"True\",\"hovertemplate\":\"SUPER_PATHWAY=%{x}<br>count=%{y}<extra></extra>\",\"legendgroup\":\"Cholesterol Ester\",\"marker\":{\"color\":\"#EF553B\",\"pattern\":{\"shape\":\"\"},\"line\":{\"width\":0}},\"name\":\"Cholesterol Ester\",\"offsetgroup\":\"Cholesterol Ester\",\"orientation\":\"v\",\"showlegend\":true,\"textposition\":\"auto\",\"x\":[\"Cholesterol Ester\",\"Cholesterol Ester\",\"Cholesterol Ester\",\"Cholesterol Ester\",\"Cholesterol Ester\",\"Cholesterol Ester\",\"Cholesterol Ester\",\"Cholesterol Ester\",\"Cholesterol Ester\",\"Cholesterol Ester\",\"Cholesterol Ester\",\"Cholesterol Ester\",\"Cholesterol Ester\",\"Cholesterol Ester\",\"Cholesterol Ester\",\"Cholesterol Ester\",\"Cholesterol Ester\",\"Cholesterol Ester\",\"Cholesterol Ester\",\"Cholesterol Ester\",\"Cholesterol Ester\",\"Cholesterol Ester\",\"Cholesterol Ester\",\"Cholesterol Ester\",\"Cholesterol Ester\",\"Cholesterol Ester\"],\"xaxis\":\"x\",\"y\":[1,1,1,1,1,1,1,1,1,1,1,1,1,1,1,1,1,1,1,1,1,1,1,1,1,1],\"yaxis\":\"y\",\"type\":\"bar\"},{\"alignmentgroup\":\"True\",\"hovertemplate\":\"SUPER_PATHWAY=%{x}<br>count=%{y}<extra></extra>\",\"legendgroup\":\"Ceramides\",\"marker\":{\"color\":\"#00cc96\",\"pattern\":{\"shape\":\"\"},\"line\":{\"width\":0}},\"name\":\"Ceramides\",\"offsetgroup\":\"Ceramides\",\"orientation\":\"v\",\"showlegend\":true,\"textposition\":\"auto\",\"x\":[\"Ceramides\",\"Ceramides\",\"Ceramides\",\"Ceramides\",\"Ceramides\",\"Ceramides\",\"Ceramides\",\"Ceramides\",\"Ceramides\"],\"xaxis\":\"x\",\"y\":[1,1,1,1,1,1,1,1,1],\"yaxis\":\"y\",\"type\":\"bar\"},{\"alignmentgroup\":\"True\",\"hovertemplate\":\"SUPER_PATHWAY=%{x}<br>count=%{y}<extra></extra>\",\"legendgroup\":\"Diacylglycerol\",\"marker\":{\"color\":\"#ab63fa\",\"pattern\":{\"shape\":\"\"},\"line\":{\"width\":0}},\"name\":\"Diacylglycerol\",\"offsetgroup\":\"Diacylglycerol\",\"orientation\":\"v\",\"showlegend\":true,\"textposition\":\"auto\",\"x\":[\"Diacylglycerol\",\"Diacylglycerol\",\"Diacylglycerol\",\"Diacylglycerol\",\"Diacylglycerol\",\"Diacylglycerol\",\"Diacylglycerol\",\"Diacylglycerol\",\"Diacylglycerol\",\"Diacylglycerol\",\"Diacylglycerol\",\"Diacylglycerol\",\"Diacylglycerol\",\"Diacylglycerol\",\"Diacylglycerol\",\"Diacylglycerol\",\"Diacylglycerol\",\"Diacylglycerol\",\"Diacylglycerol\",\"Diacylglycerol\",\"Diacylglycerol\",\"Diacylglycerol\",\"Diacylglycerol\",\"Diacylglycerol\",\"Diacylglycerol\",\"Diacylglycerol\",\"Diacylglycerol\",\"Diacylglycerol\",\"Diacylglycerol\",\"Diacylglycerol\",\"Diacylglycerol\",\"Diacylglycerol\",\"Diacylglycerol\",\"Diacylglycerol\",\"Diacylglycerol\",\"Diacylglycerol\",\"Diacylglycerol\",\"Diacylglycerol\",\"Diacylglycerol\",\"Diacylglycerol\",\"Diacylglycerol\",\"Diacylglycerol\",\"Diacylglycerol\",\"Diacylglycerol\",\"Diacylglycerol\",\"Diacylglycerol\",\"Diacylglycerol\",\"Diacylglycerol\",\"Diacylglycerol\",\"Diacylglycerol\",\"Diacylglycerol\",\"Diacylglycerol\"],\"xaxis\":\"x\",\"y\":[1,1,1,1,1,1,1,1,1,1,1,1,1,1,1,1,1,1,1,1,1,1,1,1,1,1,1,1,1,1,1,1,1,1,1,1,1,1,1,1,1,1,1,1,1,1,1,1,1,1,1,1],\"yaxis\":\"y\",\"type\":\"bar\"},{\"alignmentgroup\":\"True\",\"hovertemplate\":\"SUPER_PATHWAY=%{x}<br>count=%{y}<extra></extra>\",\"legendgroup\":\"Dihydroceramides\",\"marker\":{\"color\":\"#FFA15A\",\"pattern\":{\"shape\":\"\"},\"line\":{\"width\":0}},\"name\":\"Dihydroceramides\",\"offsetgroup\":\"Dihydroceramides\",\"orientation\":\"v\",\"showlegend\":true,\"textposition\":\"auto\",\"x\":[\"Dihydroceramides\",\"Dihydroceramides\",\"Dihydroceramides\",\"Dihydroceramides\"],\"xaxis\":\"x\",\"y\":[1,1,1,1],\"yaxis\":\"y\",\"type\":\"bar\"},{\"alignmentgroup\":\"True\",\"hovertemplate\":\"SUPER_PATHWAY=%{x}<br>count=%{y}<extra></extra>\",\"legendgroup\":\"Free Fatty Acids\",\"marker\":{\"color\":\"#19d3f3\",\"pattern\":{\"shape\":\"\"},\"line\":{\"width\":0}},\"name\":\"Free Fatty Acids\",\"offsetgroup\":\"Free Fatty Acids\",\"orientation\":\"v\",\"showlegend\":true,\"textposition\":\"auto\",\"x\":[\"Free Fatty Acids\",\"Free Fatty Acids\",\"Free Fatty Acids\",\"Free Fatty Acids\",\"Free Fatty Acids\",\"Free Fatty Acids\",\"Free Fatty Acids\",\"Free Fatty Acids\",\"Free Fatty Acids\",\"Free Fatty Acids\",\"Free Fatty Acids\",\"Free Fatty Acids\",\"Free Fatty Acids\",\"Free Fatty Acids\",\"Free Fatty Acids\",\"Free Fatty Acids\",\"Free Fatty Acids\",\"Free Fatty Acids\",\"Free Fatty Acids\",\"Free Fatty Acids\",\"Free Fatty Acids\",\"Free Fatty Acids\",\"Free Fatty Acids\",\"Free Fatty Acids\",\"Free Fatty Acids\",\"Free Fatty Acids\"],\"xaxis\":\"x\",\"y\":[1,1,1,1,1,1,1,1,1,1,1,1,1,1,1,1,1,1,1,1,1,1,1,1,1,1],\"yaxis\":\"y\",\"type\":\"bar\"},{\"alignmentgroup\":\"True\",\"hovertemplate\":\"SUPER_PATHWAY=%{x}<br>count=%{y}<extra></extra>\",\"legendgroup\":\"Hexosylceramides\",\"marker\":{\"color\":\"#FF6692\",\"pattern\":{\"shape\":\"\"},\"line\":{\"width\":0}},\"name\":\"Hexosylceramides\",\"offsetgroup\":\"Hexosylceramides\",\"orientation\":\"v\",\"showlegend\":true,\"textposition\":\"auto\",\"x\":[\"Hexosylceramides\",\"Hexosylceramides\",\"Hexosylceramides\",\"Hexosylceramides\",\"Hexosylceramides\",\"Hexosylceramides\",\"Hexosylceramides\"],\"xaxis\":\"x\",\"y\":[1,1,1,1,1,1,1],\"yaxis\":\"y\",\"type\":\"bar\"},{\"alignmentgroup\":\"True\",\"hovertemplate\":\"SUPER_PATHWAY=%{x}<br>count=%{y}<extra></extra>\",\"legendgroup\":\"Lactosylceramide\",\"marker\":{\"color\":\"#B6E880\",\"pattern\":{\"shape\":\"\"},\"line\":{\"width\":0}},\"name\":\"Lactosylceramide\",\"offsetgroup\":\"Lactosylceramide\",\"orientation\":\"v\",\"showlegend\":true,\"textposition\":\"auto\",\"x\":[\"Lactosylceramide\",\"Lactosylceramide\",\"Lactosylceramide\",\"Lactosylceramide\"],\"xaxis\":\"x\",\"y\":[1,1,1,1],\"yaxis\":\"y\",\"type\":\"bar\"},{\"alignmentgroup\":\"True\",\"hovertemplate\":\"SUPER_PATHWAY=%{x}<br>count=%{y}<extra></extra>\",\"legendgroup\":\"Lysophosphatidylcholine\",\"marker\":{\"color\":\"#FF97FF\",\"pattern\":{\"shape\":\"\"},\"line\":{\"width\":0}},\"name\":\"Lysophosphatidylcholine\",\"offsetgroup\":\"Lysophosphatidylcholine\",\"orientation\":\"v\",\"showlegend\":true,\"textposition\":\"auto\",\"x\":[\"Lysophosphatidylcholine\",\"Lysophosphatidylcholine\",\"Lysophosphatidylcholine\",\"Lysophosphatidylcholine\",\"Lysophosphatidylcholine\",\"Lysophosphatidylcholine\",\"Lysophosphatidylcholine\",\"Lysophosphatidylcholine\",\"Lysophosphatidylcholine\",\"Lysophosphatidylcholine\",\"Lysophosphatidylcholine\",\"Lysophosphatidylcholine\",\"Lysophosphatidylcholine\",\"Lysophosphatidylcholine\",\"Lysophosphatidylcholine\"],\"xaxis\":\"x\",\"y\":[1,1,1,1,1,1,1,1,1,1,1,1,1,1,1],\"yaxis\":\"y\",\"type\":\"bar\"},{\"alignmentgroup\":\"True\",\"hovertemplate\":\"SUPER_PATHWAY=%{x}<br>count=%{y}<extra></extra>\",\"legendgroup\":\"Lysophosphatidylethanolamine\",\"marker\":{\"color\":\"#FECB52\",\"pattern\":{\"shape\":\"\"},\"line\":{\"width\":0}},\"name\":\"Lysophosphatidylethanolamine\",\"offsetgroup\":\"Lysophosphatidylethanolamine\",\"orientation\":\"v\",\"showlegend\":true,\"textposition\":\"auto\",\"x\":[\"Lysophosphatidylethanolamine\",\"Lysophosphatidylethanolamine\",\"Lysophosphatidylethanolamine\",\"Lysophosphatidylethanolamine\",\"Lysophosphatidylethanolamine\",\"Lysophosphatidylethanolamine\"],\"xaxis\":\"x\",\"y\":[1,1,1,1,1,1],\"yaxis\":\"y\",\"type\":\"bar\"},{\"alignmentgroup\":\"True\",\"hovertemplate\":\"SUPER_PATHWAY=%{x}<br>count=%{y}<extra></extra>\",\"legendgroup\":\"Phosphatidylcholine\",\"marker\":{\"color\":\"#636efa\",\"pattern\":{\"shape\":\"\"},\"line\":{\"width\":0}},\"name\":\"Phosphatidylcholine\",\"offsetgroup\":\"Phosphatidylcholine\",\"orientation\":\"v\",\"showlegend\":true,\"textposition\":\"auto\",\"x\":[\"Phosphatidylcholine\",\"Phosphatidylcholine\",\"Phosphatidylcholine\",\"Phosphatidylcholine\",\"Phosphatidylcholine\",\"Phosphatidylcholine\",\"Phosphatidylcholine\",\"Phosphatidylcholine\",\"Phosphatidylcholine\",\"Phosphatidylcholine\",\"Phosphatidylcholine\",\"Phosphatidylcholine\",\"Phosphatidylcholine\",\"Phosphatidylcholine\",\"Phosphatidylcholine\",\"Phosphatidylcholine\",\"Phosphatidylcholine\",\"Phosphatidylcholine\",\"Phosphatidylcholine\",\"Phosphatidylcholine\",\"Phosphatidylcholine\",\"Phosphatidylcholine\",\"Phosphatidylcholine\",\"Phosphatidylcholine\",\"Phosphatidylcholine\",\"Phosphatidylcholine\",\"Phosphatidylcholine\",\"Phosphatidylcholine\",\"Phosphatidylcholine\",\"Phosphatidylcholine\",\"Phosphatidylcholine\",\"Phosphatidylcholine\",\"Phosphatidylcholine\",\"Phosphatidylcholine\",\"Phosphatidylcholine\",\"Phosphatidylcholine\",\"Phosphatidylcholine\",\"Phosphatidylcholine\",\"Phosphatidylcholine\",\"Phosphatidylcholine\",\"Phosphatidylcholine\"],\"xaxis\":\"x\",\"y\":[1,1,1,1,1,1,1,1,1,1,1,1,1,1,1,1,1,1,1,1,1,1,1,1,1,1,1,1,1,1,1,1,1,1,1,1,1,1,1,1,1],\"yaxis\":\"y\",\"type\":\"bar\"},{\"alignmentgroup\":\"True\",\"hovertemplate\":\"SUPER_PATHWAY=%{x}<br>count=%{y}<extra></extra>\",\"legendgroup\":\"Phosphatidylethanolamine\",\"marker\":{\"color\":\"#EF553B\",\"pattern\":{\"shape\":\"\"},\"line\":{\"width\":0}},\"name\":\"Phosphatidylethanolamine\",\"offsetgroup\":\"Phosphatidylethanolamine\",\"orientation\":\"v\",\"showlegend\":true,\"textposition\":\"auto\",\"x\":[\"Phosphatidylethanolamine\",\"Phosphatidylethanolamine\",\"Phosphatidylethanolamine\",\"Phosphatidylethanolamine\",\"Phosphatidylethanolamine\",\"Phosphatidylethanolamine\",\"Phosphatidylethanolamine\",\"Phosphatidylethanolamine\",\"Phosphatidylethanolamine\",\"Phosphatidylethanolamine\",\"Phosphatidylethanolamine\",\"Phosphatidylethanolamine\",\"Phosphatidylethanolamine\",\"Phosphatidylethanolamine\",\"Phosphatidylethanolamine\",\"Phosphatidylethanolamine\",\"Phosphatidylethanolamine\",\"Phosphatidylethanolamine\",\"Phosphatidylethanolamine\",\"Phosphatidylethanolamine\",\"Phosphatidylethanolamine\",\"Phosphatidylethanolamine\",\"Phosphatidylethanolamine\",\"Phosphatidylethanolamine\",\"Phosphatidylethanolamine\",\"Phosphatidylethanolamine\",\"Phosphatidylethanolamine\",\"Phosphatidylethanolamine\",\"Phosphatidylethanolamine\",\"Phosphatidylethanolamine\",\"Phosphatidylethanolamine\",\"Phosphatidylethanolamine\",\"Phosphatidylethanolamine\",\"Phosphatidylethanolamine\",\"Phosphatidylethanolamine\",\"Phosphatidylethanolamine\",\"Phosphatidylethanolamine\"],\"xaxis\":\"x\",\"y\":[1,1,1,1,1,1,1,1,1,1,1,1,1,1,1,1,1,1,1,1,1,1,1,1,1,1,1,1,1,1,1,1,1,1,1,1,1],\"yaxis\":\"y\",\"type\":\"bar\"},{\"alignmentgroup\":\"True\",\"hovertemplate\":\"SUPER_PATHWAY=%{x}<br>count=%{y}<extra></extra>\",\"legendgroup\":\"PI\",\"marker\":{\"color\":\"#00cc96\",\"pattern\":{\"shape\":\"\"},\"line\":{\"width\":0}},\"name\":\"PI\",\"offsetgroup\":\"PI\",\"orientation\":\"v\",\"showlegend\":true,\"textposition\":\"auto\",\"x\":[\"PI\",\"PI\",\"PI\",\"PI\",\"PI\"],\"xaxis\":\"x\",\"y\":[1,1,1,1,1],\"yaxis\":\"y\",\"type\":\"bar\"},{\"alignmentgroup\":\"True\",\"hovertemplate\":\"SUPER_PATHWAY=%{x}<br>count=%{y}<extra></extra>\",\"legendgroup\":\"Sphingomyelin\",\"marker\":{\"color\":\"#ab63fa\",\"pattern\":{\"shape\":\"\"},\"line\":{\"width\":0}},\"name\":\"Sphingomyelin\",\"offsetgroup\":\"Sphingomyelin\",\"orientation\":\"v\",\"showlegend\":true,\"textposition\":\"auto\",\"x\":[\"Sphingomyelin\",\"Sphingomyelin\",\"Sphingomyelin\",\"Sphingomyelin\",\"Sphingomyelin\",\"Sphingomyelin\",\"Sphingomyelin\",\"Sphingomyelin\",\"Sphingomyelin\",\"Sphingomyelin\",\"Sphingomyelin\",\"Sphingomyelin\"],\"xaxis\":\"x\",\"y\":[1,1,1,1,1,1,1,1,1,1,1,1],\"yaxis\":\"y\",\"type\":\"bar\"},{\"alignmentgroup\":\"True\",\"hovertemplate\":\"SUPER_PATHWAY=%{x}<br>count=%{y}<extra></extra>\",\"legendgroup\":\"Triacylglycerol\",\"marker\":{\"color\":\"#FFA15A\",\"pattern\":{\"shape\":\"\"},\"line\":{\"width\":0}},\"name\":\"Triacylglycerol\",\"offsetgroup\":\"Triacylglycerol\",\"orientation\":\"v\",\"showlegend\":true,\"textposition\":\"auto\",\"x\":[\"Triacylglycerol\",\"Triacylglycerol\",\"Triacylglycerol\",\"Triacylglycerol\",\"Triacylglycerol\",\"Triacylglycerol\",\"Triacylglycerol\",\"Triacylglycerol\",\"Triacylglycerol\",\"Triacylglycerol\",\"Triacylglycerol\",\"Triacylglycerol\",\"Triacylglycerol\",\"Triacylglycerol\",\"Triacylglycerol\",\"Triacylglycerol\",\"Triacylglycerol\",\"Triacylglycerol\",\"Triacylglycerol\",\"Triacylglycerol\",\"Triacylglycerol\",\"Triacylglycerol\",\"Triacylglycerol\",\"Triacylglycerol\",\"Triacylglycerol\",\"Triacylglycerol\",\"Triacylglycerol\",\"Triacylglycerol\",\"Triacylglycerol\",\"Triacylglycerol\",\"Triacylglycerol\",\"Triacylglycerol\",\"Triacylglycerol\",\"Triacylglycerol\",\"Triacylglycerol\",\"Triacylglycerol\",\"Triacylglycerol\",\"Triacylglycerol\",\"Triacylglycerol\",\"Triacylglycerol\",\"Triacylglycerol\",\"Triacylglycerol\",\"Triacylglycerol\",\"Triacylglycerol\",\"Triacylglycerol\",\"Triacylglycerol\",\"Triacylglycerol\",\"Triacylglycerol\",\"Triacylglycerol\",\"Triacylglycerol\",\"Triacylglycerol\",\"Triacylglycerol\",\"Triacylglycerol\",\"Triacylglycerol\",\"Triacylglycerol\",\"Triacylglycerol\",\"Triacylglycerol\",\"Triacylglycerol\",\"Triacylglycerol\",\"Triacylglycerol\",\"Triacylglycerol\",\"Triacylglycerol\",\"Triacylglycerol\",\"Triacylglycerol\",\"Triacylglycerol\",\"Triacylglycerol\",\"Triacylglycerol\",\"Triacylglycerol\",\"Triacylglycerol\",\"Triacylglycerol\",\"Triacylglycerol\",\"Triacylglycerol\",\"Triacylglycerol\",\"Triacylglycerol\",\"Triacylglycerol\",\"Triacylglycerol\",\"Triacylglycerol\",\"Triacylglycerol\",\"Triacylglycerol\",\"Triacylglycerol\",\"Triacylglycerol\",\"Triacylglycerol\",\"Triacylglycerol\",\"Triacylglycerol\",\"Triacylglycerol\",\"Triacylglycerol\",\"Triacylglycerol\",\"Triacylglycerol\",\"Triacylglycerol\",\"Triacylglycerol\",\"Triacylglycerol\",\"Triacylglycerol\",\"Triacylglycerol\",\"Triacylglycerol\",\"Triacylglycerol\",\"Triacylglycerol\",\"Triacylglycerol\",\"Triacylglycerol\",\"Triacylglycerol\",\"Triacylglycerol\",\"Triacylglycerol\",\"Triacylglycerol\",\"Triacylglycerol\",\"Triacylglycerol\",\"Triacylglycerol\",\"Triacylglycerol\",\"Triacylglycerol\",\"Triacylglycerol\",\"Triacylglycerol\",\"Triacylglycerol\",\"Triacylglycerol\",\"Triacylglycerol\",\"Triacylglycerol\",\"Triacylglycerol\",\"Triacylglycerol\",\"Triacylglycerol\",\"Triacylglycerol\",\"Triacylglycerol\",\"Triacylglycerol\",\"Triacylglycerol\",\"Triacylglycerol\",\"Triacylglycerol\",\"Triacylglycerol\",\"Triacylglycerol\",\"Triacylglycerol\",\"Triacylglycerol\",\"Triacylglycerol\",\"Triacylglycerol\",\"Triacylglycerol\",\"Triacylglycerol\",\"Triacylglycerol\",\"Triacylglycerol\",\"Triacylglycerol\",\"Triacylglycerol\",\"Triacylglycerol\",\"Triacylglycerol\",\"Triacylglycerol\",\"Triacylglycerol\",\"Triacylglycerol\",\"Triacylglycerol\",\"Triacylglycerol\",\"Triacylglycerol\",\"Triacylglycerol\",\"Triacylglycerol\",\"Triacylglycerol\",\"Triacylglycerol\",\"Triacylglycerol\",\"Triacylglycerol\",\"Triacylglycerol\",\"Triacylglycerol\",\"Triacylglycerol\",\"Triacylglycerol\",\"Triacylglycerol\",\"Triacylglycerol\",\"Triacylglycerol\",\"Triacylglycerol\",\"Triacylglycerol\",\"Triacylglycerol\",\"Triacylglycerol\",\"Triacylglycerol\",\"Triacylglycerol\",\"Triacylglycerol\",\"Triacylglycerol\",\"Triacylglycerol\",\"Triacylglycerol\",\"Triacylglycerol\",\"Triacylglycerol\",\"Triacylglycerol\",\"Triacylglycerol\",\"Triacylglycerol\",\"Triacylglycerol\",\"Triacylglycerol\",\"Triacylglycerol\",\"Triacylglycerol\",\"Triacylglycerol\",\"Triacylglycerol\",\"Triacylglycerol\",\"Triacylglycerol\",\"Triacylglycerol\",\"Triacylglycerol\",\"Triacylglycerol\",\"Triacylglycerol\",\"Triacylglycerol\",\"Triacylglycerol\",\"Triacylglycerol\",\"Triacylglycerol\",\"Triacylglycerol\",\"Triacylglycerol\",\"Triacylglycerol\",\"Triacylglycerol\",\"Triacylglycerol\",\"Triacylglycerol\",\"Triacylglycerol\",\"Triacylglycerol\",\"Triacylglycerol\",\"Triacylglycerol\",\"Triacylglycerol\",\"Triacylglycerol\",\"Triacylglycerol\",\"Triacylglycerol\",\"Triacylglycerol\",\"Triacylglycerol\",\"Triacylglycerol\",\"Triacylglycerol\",\"Triacylglycerol\",\"Triacylglycerol\",\"Triacylglycerol\",\"Triacylglycerol\",\"Triacylglycerol\",\"Triacylglycerol\",\"Triacylglycerol\",\"Triacylglycerol\",\"Triacylglycerol\",\"Triacylglycerol\",\"Triacylglycerol\",\"Triacylglycerol\",\"Triacylglycerol\",\"Triacylglycerol\",\"Triacylglycerol\",\"Triacylglycerol\",\"Triacylglycerol\",\"Triacylglycerol\",\"Triacylglycerol\",\"Triacylglycerol\",\"Triacylglycerol\",\"Triacylglycerol\",\"Triacylglycerol\",\"Triacylglycerol\",\"Triacylglycerol\",\"Triacylglycerol\",\"Triacylglycerol\",\"Triacylglycerol\",\"Triacylglycerol\",\"Triacylglycerol\",\"Triacylglycerol\",\"Triacylglycerol\",\"Triacylglycerol\",\"Triacylglycerol\",\"Triacylglycerol\",\"Triacylglycerol\",\"Triacylglycerol\",\"Triacylglycerol\",\"Triacylglycerol\",\"Triacylglycerol\",\"Triacylglycerol\",\"Triacylglycerol\",\"Triacylglycerol\",\"Triacylglycerol\",\"Triacylglycerol\",\"Triacylglycerol\",\"Triacylglycerol\",\"Triacylglycerol\",\"Triacylglycerol\",\"Triacylglycerol\",\"Triacylglycerol\",\"Triacylglycerol\",\"Triacylglycerol\",\"Triacylglycerol\",\"Triacylglycerol\",\"Triacylglycerol\",\"Triacylglycerol\",\"Triacylglycerol\",\"Triacylglycerol\",\"Triacylglycerol\",\"Triacylglycerol\",\"Triacylglycerol\",\"Triacylglycerol\",\"Triacylglycerol\",\"Triacylglycerol\",\"Triacylglycerol\",\"Triacylglycerol\",\"Triacylglycerol\",\"Triacylglycerol\",\"Triacylglycerol\",\"Triacylglycerol\",\"Triacylglycerol\",\"Triacylglycerol\",\"Triacylglycerol\",\"Triacylglycerol\",\"Triacylglycerol\",\"Triacylglycerol\",\"Triacylglycerol\",\"Triacylglycerol\",\"Triacylglycerol\",\"Triacylglycerol\",\"Triacylglycerol\",\"Triacylglycerol\",\"Triacylglycerol\",\"Triacylglycerol\",\"Triacylglycerol\",\"Triacylglycerol\",\"Triacylglycerol\",\"Triacylglycerol\",\"Triacylglycerol\",\"Triacylglycerol\",\"Triacylglycerol\",\"Triacylglycerol\",\"Triacylglycerol\",\"Triacylglycerol\",\"Triacylglycerol\",\"Triacylglycerol\",\"Triacylglycerol\",\"Triacylglycerol\",\"Triacylglycerol\",\"Triacylglycerol\",\"Triacylglycerol\",\"Triacylglycerol\",\"Triacylglycerol\",\"Triacylglycerol\",\"Triacylglycerol\",\"Triacylglycerol\",\"Triacylglycerol\",\"Triacylglycerol\",\"Triacylglycerol\",\"Triacylglycerol\",\"Triacylglycerol\",\"Triacylglycerol\",\"Triacylglycerol\",\"Triacylglycerol\",\"Triacylglycerol\",\"Triacylglycerol\",\"Triacylglycerol\",\"Triacylglycerol\",\"Triacylglycerol\",\"Triacylglycerol\",\"Triacylglycerol\",\"Triacylglycerol\",\"Triacylglycerol\",\"Triacylglycerol\",\"Triacylglycerol\",\"Triacylglycerol\",\"Triacylglycerol\",\"Triacylglycerol\",\"Triacylglycerol\",\"Triacylglycerol\",\"Triacylglycerol\",\"Triacylglycerol\",\"Triacylglycerol\",\"Triacylglycerol\",\"Triacylglycerol\",\"Triacylglycerol\",\"Triacylglycerol\",\"Triacylglycerol\",\"Triacylglycerol\",\"Triacylglycerol\",\"Triacylglycerol\",\"Triacylglycerol\",\"Triacylglycerol\",\"Triacylglycerol\",\"Triacylglycerol\",\"Triacylglycerol\",\"Triacylglycerol\",\"Triacylglycerol\",\"Triacylglycerol\",\"Triacylglycerol\",\"Triacylglycerol\",\"Triacylglycerol\",\"Triacylglycerol\",\"Triacylglycerol\",\"Triacylglycerol\",\"Triacylglycerol\",\"Triacylglycerol\",\"Triacylglycerol\",\"Triacylglycerol\",\"Triacylglycerol\",\"Triacylglycerol\",\"Triacylglycerol\",\"Triacylglycerol\",\"Triacylglycerol\",\"Triacylglycerol\",\"Triacylglycerol\",\"Triacylglycerol\",\"Triacylglycerol\",\"Triacylglycerol\",\"Triacylglycerol\",\"Triacylglycerol\",\"Triacylglycerol\",\"Triacylglycerol\",\"Triacylglycerol\",\"Triacylglycerol\",\"Triacylglycerol\",\"Triacylglycerol\",\"Triacylglycerol\",\"Triacylglycerol\",\"Triacylglycerol\",\"Triacylglycerol\",\"Triacylglycerol\",\"Triacylglycerol\",\"Triacylglycerol\",\"Triacylglycerol\",\"Triacylglycerol\",\"Triacylglycerol\",\"Triacylglycerol\",\"Triacylglycerol\",\"Triacylglycerol\",\"Triacylglycerol\",\"Triacylglycerol\",\"Triacylglycerol\",\"Triacylglycerol\",\"Triacylglycerol\",\"Triacylglycerol\",\"Triacylglycerol\",\"Triacylglycerol\",\"Triacylglycerol\",\"Triacylglycerol\",\"Triacylglycerol\",\"Triacylglycerol\",\"Triacylglycerol\",\"Triacylglycerol\",\"Triacylglycerol\",\"Triacylglycerol\",\"Triacylglycerol\",\"Triacylglycerol\",\"Triacylglycerol\",\"Triacylglycerol\",\"Triacylglycerol\",\"Triacylglycerol\",\"Triacylglycerol\",\"Triacylglycerol\",\"Triacylglycerol\",\"Triacylglycerol\",\"Triacylglycerol\",\"Triacylglycerol\",\"Triacylglycerol\",\"Triacylglycerol\",\"Triacylglycerol\",\"Triacylglycerol\",\"Triacylglycerol\",\"Triacylglycerol\",\"Triacylglycerol\",\"Triacylglycerol\",\"Triacylglycerol\",\"Triacylglycerol\",\"Triacylglycerol\",\"Triacylglycerol\",\"Triacylglycerol\",\"Triacylglycerol\",\"Triacylglycerol\",\"Triacylglycerol\",\"Triacylglycerol\",\"Triacylglycerol\",\"Triacylglycerol\",\"Triacylglycerol\",\"Triacylglycerol\",\"Triacylglycerol\",\"Triacylglycerol\",\"Triacylglycerol\",\"Triacylglycerol\",\"Triacylglycerol\",\"Triacylglycerol\",\"Triacylglycerol\",\"Triacylglycerol\",\"Triacylglycerol\",\"Triacylglycerol\",\"Triacylglycerol\",\"Triacylglycerol\",\"Triacylglycerol\",\"Triacylglycerol\",\"Triacylglycerol\",\"Triacylglycerol\",\"Triacylglycerol\",\"Triacylglycerol\",\"Triacylglycerol\",\"Triacylglycerol\",\"Triacylglycerol\",\"Triacylglycerol\",\"Triacylglycerol\",\"Triacylglycerol\",\"Triacylglycerol\",\"Triacylglycerol\",\"Triacylglycerol\",\"Triacylglycerol\",\"Triacylglycerol\",\"Triacylglycerol\",\"Triacylglycerol\",\"Triacylglycerol\",\"Triacylglycerol\",\"Triacylglycerol\",\"Triacylglycerol\",\"Triacylglycerol\",\"Triacylglycerol\",\"Triacylglycerol\",\"Triacylglycerol\",\"Triacylglycerol\",\"Triacylglycerol\",\"Triacylglycerol\",\"Triacylglycerol\",\"Triacylglycerol\",\"Triacylglycerol\",\"Triacylglycerol\"],\"xaxis\":\"x\",\"y\":[1,1,1,1,1,1,1,1,1,1,1,1,1,1,1,1,1,1,1,1,1,1,1,1,1,1,1,1,1,1,1,1,1,1,1,1,1,1,1,1,1,1,1,1,1,1,1,1,1,1,1,1,1,1,1,1,1,1,1,1,1,1,1,1,1,1,1,1,1,1,1,1,1,1,1,1,1,1,1,1,1,1,1,1,1,1,1,1,1,1,1,1,1,1,1,1,1,1,1,1,1,1,1,1,1,1,1,1,1,1,1,1,1,1,1,1,1,1,1,1,1,1,1,1,1,1,1,1,1,1,1,1,1,1,1,1,1,1,1,1,1,1,1,1,1,1,1,1,1,1,1,1,1,1,1,1,1,1,1,1,1,1,1,1,1,1,1,1,1,1,1,1,1,1,1,1,1,1,1,1,1,1,1,1,1,1,1,1,1,1,1,1,1,1,1,1,1,1,1,1,1,1,1,1,1,1,1,1,1,1,1,1,1,1,1,1,1,1,1,1,1,1,1,1,1,1,1,1,1,1,1,1,1,1,1,1,1,1,1,1,1,1,1,1,1,1,1,1,1,1,1,1,1,1,1,1,1,1,1,1,1,1,1,1,1,1,1,1,1,1,1,1,1,1,1,1,1,1,1,1,1,1,1,1,1,1,1,1,1,1,1,1,1,1,1,1,1,1,1,1,1,1,1,1,1,1,1,1,1,1,1,1,1,1,1,1,1,1,1,1,1,1,1,1,1,1,1,1,1,1,1,1,1,1,1,1,1,1,1,1,1,1,1,1,1,1,1,1,1,1,1,1,1,1,1,1,1,1,1,1,1,1,1,1,1,1,1,1,1,1,1,1,1,1,1,1,1,1,1,1,1,1,1,1,1,1,1,1,1,1,1,1,1,1,1,1,1,1,1,1,1,1,1,1,1,1,1,1,1,1,1,1,1,1,1,1,1,1,1,1,1,1,1,1,1,1,1,1,1,1,1,1,1,1,1,1,1,1,1,1,1,1,1,1,1,1,1,1,1,1,1,1,1,1,1,1,1,1,1,1,1,1,1,1,1,1,1,1,1,1,1,1,1,1,1,1,1,1,1,1,1,1,1,1,1,1,1,1,1,1],\"yaxis\":\"y\",\"type\":\"bar\"},{\"alignmentgroup\":\"True\",\"hovertemplate\":\"SUPER_PATHWAY=%{x}<br>count=%{y}<extra></extra>\",\"legendgroup\":\".\",\"marker\":{\"color\":\"#19d3f3\",\"pattern\":{\"shape\":\"\"},\"line\":{\"width\":0}},\"name\":\".\",\"offsetgroup\":\".\",\"orientation\":\"v\",\"showlegend\":true,\"textposition\":\"auto\",\"x\":[\".\",\".\",\".\",\".\",\".\",\".\",\".\",\".\",\".\",\".\",\".\",\".\",\".\",\".\",\".\",\".\",\".\",\".\",\".\",\".\",\".\",\".\",\".\",\".\",\".\",\".\",\".\",\".\",\".\",\".\",\".\",\".\",\".\",\".\",\".\",\".\",\".\",\".\",\".\",\".\",\".\",\".\",\".\",\".\",\".\",\".\",\".\",\".\",\".\",\".\",\".\",\".\",\".\",\".\",\".\",\".\",\".\",\".\",\".\",\".\",\".\",\".\",\".\",\".\",\".\",\".\",\".\",\".\",\".\",\".\",\".\",\".\",\".\",\".\",\".\",\".\",\".\",\".\",\".\",\".\",\".\",\".\",\".\",\".\",\".\",\".\",\".\",\".\",\".\",\".\",\".\",\".\",\".\",\".\",\".\",\".\",\".\",\".\",\".\",\".\",\".\",\".\",\".\",\".\",\".\",\".\",\".\",\".\",\".\",\".\",\".\",\".\",\".\",\".\",\".\",\".\",\".\",\".\",\".\",\".\",\".\",\".\",\".\",\".\",\".\",\".\",\".\",\".\",\".\",\".\",\".\",\".\",\".\",\".\",\".\",\".\",\".\",\".\",\".\",\".\",\".\",\".\",\".\",\".\",\".\",\".\",\".\",\".\",\".\",\".\",\".\",\".\",\".\",\".\",\".\",\".\",\".\",\".\",\".\",\".\",\".\",\".\",\".\",\".\",\".\",\".\",\".\",\".\",\".\",\".\",\".\",\".\",\".\",\".\",\".\",\".\",\".\",\".\",\".\",\".\",\".\",\".\",\".\",\".\",\".\",\".\",\".\",\".\",\".\",\".\",\".\",\".\",\".\",\".\",\".\",\".\",\".\",\".\",\".\",\".\",\".\",\".\",\".\",\".\",\".\",\".\",\".\",\".\",\".\",\".\",\".\",\".\",\".\",\".\",\".\",\".\",\".\",\".\",\".\",\".\",\".\",\".\",\".\",\".\",\".\",\".\",\".\",\".\",\".\",\".\",\".\",\".\",\".\",\".\",\".\",\".\",\".\",\".\",\".\",\".\",\".\",\".\",\".\",\".\",\".\",\".\",\".\",\".\",\".\",\".\",\".\",\".\",\".\",\".\",\".\",\".\",\".\",\".\",\".\",\".\"],\"xaxis\":\"x\",\"y\":[1,1,1,1,1,1,1,1,1,1,1,1,1,1,1,1,1,1,1,1,1,1,1,1,1,1,1,1,1,1,1,1,1,1,1,1,1,1,1,1,1,1,1,1,1,1,1,1,1,1,1,1,1,1,1,1,1,1,1,1,1,1,1,1,1,1,1,1,1,1,1,1,1,1,1,1,1,1,1,1,1,1,1,1,1,1,1,1,1,1,1,1,1,1,1,1,1,1,1,1,1,1,1,1,1,1,1,1,1,1,1,1,1,1,1,1,1,1,1,1,1,1,1,1,1,1,1,1,1,1,1,1,1,1,1,1,1,1,1,1,1,1,1,1,1,1,1,1,1,1,1,1,1,1,1,1,1,1,1,1,1,1,1,1,1,1,1,1,1,1,1,1,1,1,1,1,1,1,1,1,1,1,1,1,1,1,1,1,1,1,1,1,1,1,1,1,1,1,1,1,1,1,1,1,1,1,1,1,1,1,1,1,1,1,1,1,1,1,1,1,1,1,1,1,1,1,1,1,1,1,1,1,1,1,1,1,1,1,1,1,1,1,1,1,1,1,1,1,1,1,1,1,1,1,1,1,1,1,1,1],\"yaxis\":\"y\",\"type\":\"bar\"}],                        {\"template\":{\"data\":{\"histogram2dcontour\":[{\"type\":\"histogram2dcontour\",\"colorbar\":{\"outlinewidth\":0,\"ticks\":\"\"},\"colorscale\":[[0.0,\"#0d0887\"],[0.1111111111111111,\"#46039f\"],[0.2222222222222222,\"#7201a8\"],[0.3333333333333333,\"#9c179e\"],[0.4444444444444444,\"#bd3786\"],[0.5555555555555556,\"#d8576b\"],[0.6666666666666666,\"#ed7953\"],[0.7777777777777778,\"#fb9f3a\"],[0.8888888888888888,\"#fdca26\"],[1.0,\"#f0f921\"]]}],\"choropleth\":[{\"type\":\"choropleth\",\"colorbar\":{\"outlinewidth\":0,\"ticks\":\"\"}}],\"histogram2d\":[{\"type\":\"histogram2d\",\"colorbar\":{\"outlinewidth\":0,\"ticks\":\"\"},\"colorscale\":[[0.0,\"#0d0887\"],[0.1111111111111111,\"#46039f\"],[0.2222222222222222,\"#7201a8\"],[0.3333333333333333,\"#9c179e\"],[0.4444444444444444,\"#bd3786\"],[0.5555555555555556,\"#d8576b\"],[0.6666666666666666,\"#ed7953\"],[0.7777777777777778,\"#fb9f3a\"],[0.8888888888888888,\"#fdca26\"],[1.0,\"#f0f921\"]]}],\"heatmap\":[{\"type\":\"heatmap\",\"colorbar\":{\"outlinewidth\":0,\"ticks\":\"\"},\"colorscale\":[[0.0,\"#0d0887\"],[0.1111111111111111,\"#46039f\"],[0.2222222222222222,\"#7201a8\"],[0.3333333333333333,\"#9c179e\"],[0.4444444444444444,\"#bd3786\"],[0.5555555555555556,\"#d8576b\"],[0.6666666666666666,\"#ed7953\"],[0.7777777777777778,\"#fb9f3a\"],[0.8888888888888888,\"#fdca26\"],[1.0,\"#f0f921\"]]}],\"heatmapgl\":[{\"type\":\"heatmapgl\",\"colorbar\":{\"outlinewidth\":0,\"ticks\":\"\"},\"colorscale\":[[0.0,\"#0d0887\"],[0.1111111111111111,\"#46039f\"],[0.2222222222222222,\"#7201a8\"],[0.3333333333333333,\"#9c179e\"],[0.4444444444444444,\"#bd3786\"],[0.5555555555555556,\"#d8576b\"],[0.6666666666666666,\"#ed7953\"],[0.7777777777777778,\"#fb9f3a\"],[0.8888888888888888,\"#fdca26\"],[1.0,\"#f0f921\"]]}],\"contourcarpet\":[{\"type\":\"contourcarpet\",\"colorbar\":{\"outlinewidth\":0,\"ticks\":\"\"}}],\"contour\":[{\"type\":\"contour\",\"colorbar\":{\"outlinewidth\":0,\"ticks\":\"\"},\"colorscale\":[[0.0,\"#0d0887\"],[0.1111111111111111,\"#46039f\"],[0.2222222222222222,\"#7201a8\"],[0.3333333333333333,\"#9c179e\"],[0.4444444444444444,\"#bd3786\"],[0.5555555555555556,\"#d8576b\"],[0.6666666666666666,\"#ed7953\"],[0.7777777777777778,\"#fb9f3a\"],[0.8888888888888888,\"#fdca26\"],[1.0,\"#f0f921\"]]}],\"surface\":[{\"type\":\"surface\",\"colorbar\":{\"outlinewidth\":0,\"ticks\":\"\"},\"colorscale\":[[0.0,\"#0d0887\"],[0.1111111111111111,\"#46039f\"],[0.2222222222222222,\"#7201a8\"],[0.3333333333333333,\"#9c179e\"],[0.4444444444444444,\"#bd3786\"],[0.5555555555555556,\"#d8576b\"],[0.6666666666666666,\"#ed7953\"],[0.7777777777777778,\"#fb9f3a\"],[0.8888888888888888,\"#fdca26\"],[1.0,\"#f0f921\"]]}],\"mesh3d\":[{\"type\":\"mesh3d\",\"colorbar\":{\"outlinewidth\":0,\"ticks\":\"\"}}],\"scatter\":[{\"fillpattern\":{\"fillmode\":\"overlay\",\"size\":10,\"solidity\":0.2},\"type\":\"scatter\"}],\"parcoords\":[{\"type\":\"parcoords\",\"line\":{\"colorbar\":{\"outlinewidth\":0,\"ticks\":\"\"}}}],\"scatterpolargl\":[{\"type\":\"scatterpolargl\",\"marker\":{\"colorbar\":{\"outlinewidth\":0,\"ticks\":\"\"}}}],\"bar\":[{\"error_x\":{\"color\":\"#2a3f5f\"},\"error_y\":{\"color\":\"#2a3f5f\"},\"marker\":{\"line\":{\"color\":\"#E5ECF6\",\"width\":0.5},\"pattern\":{\"fillmode\":\"overlay\",\"size\":10,\"solidity\":0.2}},\"type\":\"bar\"}],\"scattergeo\":[{\"type\":\"scattergeo\",\"marker\":{\"colorbar\":{\"outlinewidth\":0,\"ticks\":\"\"}}}],\"scatterpolar\":[{\"type\":\"scatterpolar\",\"marker\":{\"colorbar\":{\"outlinewidth\":0,\"ticks\":\"\"}}}],\"histogram\":[{\"marker\":{\"pattern\":{\"fillmode\":\"overlay\",\"size\":10,\"solidity\":0.2}},\"type\":\"histogram\"}],\"scattergl\":[{\"type\":\"scattergl\",\"marker\":{\"colorbar\":{\"outlinewidth\":0,\"ticks\":\"\"}}}],\"scatter3d\":[{\"type\":\"scatter3d\",\"line\":{\"colorbar\":{\"outlinewidth\":0,\"ticks\":\"\"}},\"marker\":{\"colorbar\":{\"outlinewidth\":0,\"ticks\":\"\"}}}],\"scattermapbox\":[{\"type\":\"scattermapbox\",\"marker\":{\"colorbar\":{\"outlinewidth\":0,\"ticks\":\"\"}}}],\"scatterternary\":[{\"type\":\"scatterternary\",\"marker\":{\"colorbar\":{\"outlinewidth\":0,\"ticks\":\"\"}}}],\"scattercarpet\":[{\"type\":\"scattercarpet\",\"marker\":{\"colorbar\":{\"outlinewidth\":0,\"ticks\":\"\"}}}],\"carpet\":[{\"aaxis\":{\"endlinecolor\":\"#2a3f5f\",\"gridcolor\":\"white\",\"linecolor\":\"white\",\"minorgridcolor\":\"white\",\"startlinecolor\":\"#2a3f5f\"},\"baxis\":{\"endlinecolor\":\"#2a3f5f\",\"gridcolor\":\"white\",\"linecolor\":\"white\",\"minorgridcolor\":\"white\",\"startlinecolor\":\"#2a3f5f\"},\"type\":\"carpet\"}],\"table\":[{\"cells\":{\"fill\":{\"color\":\"#EBF0F8\"},\"line\":{\"color\":\"white\"}},\"header\":{\"fill\":{\"color\":\"#C8D4E3\"},\"line\":{\"color\":\"white\"}},\"type\":\"table\"}],\"barpolar\":[{\"marker\":{\"line\":{\"color\":\"#E5ECF6\",\"width\":0.5},\"pattern\":{\"fillmode\":\"overlay\",\"size\":10,\"solidity\":0.2}},\"type\":\"barpolar\"}],\"pie\":[{\"automargin\":true,\"type\":\"pie\"}]},\"layout\":{\"autotypenumbers\":\"strict\",\"colorway\":[\"#636efa\",\"#EF553B\",\"#00cc96\",\"#ab63fa\",\"#FFA15A\",\"#19d3f3\",\"#FF6692\",\"#B6E880\",\"#FF97FF\",\"#FECB52\"],\"font\":{\"color\":\"#2a3f5f\"},\"hovermode\":\"closest\",\"hoverlabel\":{\"align\":\"left\"},\"paper_bgcolor\":\"white\",\"plot_bgcolor\":\"#E5ECF6\",\"polar\":{\"bgcolor\":\"#E5ECF6\",\"angularaxis\":{\"gridcolor\":\"white\",\"linecolor\":\"white\",\"ticks\":\"\"},\"radialaxis\":{\"gridcolor\":\"white\",\"linecolor\":\"white\",\"ticks\":\"\"}},\"ternary\":{\"bgcolor\":\"#E5ECF6\",\"aaxis\":{\"gridcolor\":\"white\",\"linecolor\":\"white\",\"ticks\":\"\"},\"baxis\":{\"gridcolor\":\"white\",\"linecolor\":\"white\",\"ticks\":\"\"},\"caxis\":{\"gridcolor\":\"white\",\"linecolor\":\"white\",\"ticks\":\"\"}},\"coloraxis\":{\"colorbar\":{\"outlinewidth\":0,\"ticks\":\"\"}},\"colorscale\":{\"sequential\":[[0.0,\"#0d0887\"],[0.1111111111111111,\"#46039f\"],[0.2222222222222222,\"#7201a8\"],[0.3333333333333333,\"#9c179e\"],[0.4444444444444444,\"#bd3786\"],[0.5555555555555556,\"#d8576b\"],[0.6666666666666666,\"#ed7953\"],[0.7777777777777778,\"#fb9f3a\"],[0.8888888888888888,\"#fdca26\"],[1.0,\"#f0f921\"]],\"sequentialminus\":[[0.0,\"#0d0887\"],[0.1111111111111111,\"#46039f\"],[0.2222222222222222,\"#7201a8\"],[0.3333333333333333,\"#9c179e\"],[0.4444444444444444,\"#bd3786\"],[0.5555555555555556,\"#d8576b\"],[0.6666666666666666,\"#ed7953\"],[0.7777777777777778,\"#fb9f3a\"],[0.8888888888888888,\"#fdca26\"],[1.0,\"#f0f921\"]],\"diverging\":[[0,\"#8e0152\"],[0.1,\"#c51b7d\"],[0.2,\"#de77ae\"],[0.3,\"#f1b6da\"],[0.4,\"#fde0ef\"],[0.5,\"#f7f7f7\"],[0.6,\"#e6f5d0\"],[0.7,\"#b8e186\"],[0.8,\"#7fbc41\"],[0.9,\"#4d9221\"],[1,\"#276419\"]]},\"xaxis\":{\"gridcolor\":\"white\",\"linecolor\":\"white\",\"ticks\":\"\",\"title\":{\"standoff\":15},\"zerolinecolor\":\"white\",\"automargin\":true,\"zerolinewidth\":2},\"yaxis\":{\"gridcolor\":\"white\",\"linecolor\":\"white\",\"ticks\":\"\",\"title\":{\"standoff\":15},\"zerolinecolor\":\"white\",\"automargin\":true,\"zerolinewidth\":2},\"scene\":{\"xaxis\":{\"backgroundcolor\":\"#E5ECF6\",\"gridcolor\":\"white\",\"linecolor\":\"white\",\"showbackground\":true,\"ticks\":\"\",\"zerolinecolor\":\"white\",\"gridwidth\":2},\"yaxis\":{\"backgroundcolor\":\"#E5ECF6\",\"gridcolor\":\"white\",\"linecolor\":\"white\",\"showbackground\":true,\"ticks\":\"\",\"zerolinecolor\":\"white\",\"gridwidth\":2},\"zaxis\":{\"backgroundcolor\":\"#E5ECF6\",\"gridcolor\":\"white\",\"linecolor\":\"white\",\"showbackground\":true,\"ticks\":\"\",\"zerolinecolor\":\"white\",\"gridwidth\":2}},\"shapedefaults\":{\"line\":{\"color\":\"#2a3f5f\"}},\"annotationdefaults\":{\"arrowcolor\":\"#2a3f5f\",\"arrowhead\":0,\"arrowwidth\":1},\"geo\":{\"bgcolor\":\"white\",\"landcolor\":\"#E5ECF6\",\"subunitcolor\":\"white\",\"showland\":true,\"showlakes\":true,\"lakecolor\":\"white\"},\"title\":{\"x\":0.05},\"mapbox\":{\"style\":\"light\"}}},\"xaxis\":{\"anchor\":\"y\",\"domain\":[0.0,1.0],\"title\":{\"text\":\"SUPER_PATHWAY\"},\"categoryorder\":\"array\",\"categoryarray\":[\"Amino Acid\",\"Peptide\",\"Carbohydrate\",\"Energy\",\"Lipid\",\"Nucleotide\",\"Cofactors and Vitamins\",\"Xenobiotics\",\"Neutral Complex Lipids\",\"Phospholipids\",\"Sphingolipids\",\"Cholesterol Ester\",\"Ceramides\",\"Diacylglycerol\",\"Dihydroceramides\",\"Free Fatty Acids\",\"Hexosylceramides\",\"Lactosylceramide\",\"Lysophosphatidylcholine\",\"Lysophosphatidylethanolamine\",\"Phosphatidylcholine\",\"Phosphatidylethanolamine\",\"PI\",\"Sphingomyelin\",\"Triacylglycerol\",\".\"]},\"yaxis\":{\"anchor\":\"x\",\"domain\":[0.0,1.0],\"title\":{\"text\":\"count\"}},\"legend\":{\"title\":{\"text\":\"SUPER_PATHWAY\"},\"tracegroupgap\":0},\"margin\":{\"t\":60},\"barmode\":\"relative\"},                        {\"responsive\": true}                    ).then(function(){\n",
       "                            \n",
       "var gd = document.getElementById('91f20e07-477f-427e-9dbe-86be04d3ad88');\n",
       "var x = new MutationObserver(function (mutations, observer) {{\n",
       "        var display = window.getComputedStyle(gd).display;\n",
       "        if (!display || display === 'none') {{\n",
       "            console.log([gd, 'removed!']);\n",
       "            Plotly.purge(gd);\n",
       "            observer.disconnect();\n",
       "        }}\n",
       "}});\n",
       "\n",
       "// Listen for the removal of the full notebook cells\n",
       "var notebookContainer = gd.closest('#notebook-container');\n",
       "if (notebookContainer) {{\n",
       "    x.observe(notebookContainer, {childList: true});\n",
       "}}\n",
       "\n",
       "// Listen for the clearing of the current output cell\n",
       "var outputEl = gd.closest('.output');\n",
       "if (outputEl) {{\n",
       "    x.observe(outputEl, {childList: true});\n",
       "}}\n",
       "\n",
       "                        })                };                });            </script>        </div>"
      ]
     },
     "metadata": {},
     "output_type": "display_data"
    }
   ],
   "source": [
    "# GRAFICO DE BARRAS IDENTIFICACION DEL GRUPO DE BIOQUIMICO AL QUE PERTENECEN LOS COMPUESTOS IDENTIFICADOS\n",
    "fig = px.bar(data_dictionary, x=\"SUPER_PATHWAY\", color=\"SUPER_PATHWAY\")\n",
    "fig.update_traces(marker_line_width=0)\n",
    "fig.show()"
   ]
  },
  {
   "cell_type": "code",
   "execution_count": null,
   "metadata": {},
   "outputs": [
    {
     "data": {
      "text/plain": [
       "Triacylglycerol                 490\n",
       ".                               260\n",
       "Amino Acid                      149\n",
       "Lipid                           142\n",
       "Xenobiotics                      89\n",
       "Diacylglycerol                   52\n",
       "Phosphatidylcholine              41\n",
       "Phosphatidylethanolamine         37\n",
       "Nucleotide                       27\n",
       "Cholesterol Ester                26\n",
       "Free Fatty Acids                 26\n",
       "Peptide                          24\n",
       "Carbohydrate                     21\n",
       "Cofactors and Vitamins           18\n",
       "Lysophosphatidylcholine          15\n",
       "Sphingomyelin                    12\n",
       "Ceramides                         9\n",
       "Energy                            8\n",
       "Hexosylceramides                  7\n",
       "Lysophosphatidylethanolamine      6\n",
       "Sphingolipids                     5\n",
       "PI                                5\n",
       "Phospholipids                     5\n",
       "Lactosylceramide                  4\n",
       "Neutral Complex Lipids            4\n",
       "Dihydroceramides                  4\n",
       "Name: SUPER_PATHWAY, dtype: int64"
      ]
     },
     "execution_count": 445,
     "metadata": {},
     "output_type": "execute_result"
    }
   ],
   "source": [
    "#sacar la clase a la que pertenecen los compuestos\n",
    "grupo_compuestos= data_dictionary[\"SUPER_PATHWAY\"].value_counts()\n",
    "grupo_compuestos"
   ]
  },
  {
   "cell_type": "code",
   "execution_count": null,
   "metadata": {},
   "outputs": [
    {
     "data": {
      "application/vnd.plotly.v1+json": {
       "config": {
        "plotlyServerURL": "https://plot.ly"
       },
       "data": [
        {
         "alignmentgroup": "True",
         "hovertemplate": "SUPER_PATHWAY=%{marker.color}<br>index=%{y}<extra></extra>",
         "legendgroup": "",
         "marker": {
          "color": [
           490,
           260,
           149,
           142,
           89,
           52,
           41,
           37,
           27,
           26,
           26,
           24,
           21,
           18,
           15,
           12,
           9,
           8,
           7,
           6,
           5,
           5,
           5,
           4,
           4,
           4
          ],
          "coloraxis": "coloraxis",
          "line": {
           "width": 0
          },
          "pattern": {
           "shape": ""
          }
         },
         "name": "",
         "offsetgroup": "",
         "orientation": "h",
         "showlegend": false,
         "textposition": "auto",
         "type": "bar",
         "x": [
          490,
          260,
          149,
          142,
          89,
          52,
          41,
          37,
          27,
          26,
          26,
          24,
          21,
          18,
          15,
          12,
          9,
          8,
          7,
          6,
          5,
          5,
          5,
          4,
          4,
          4
         ],
         "xaxis": "x",
         "y": [
          "Triacylglycerol",
          ".",
          "Amino Acid",
          "Lipid",
          "Xenobiotics",
          "Diacylglycerol",
          "Phosphatidylcholine",
          "Phosphatidylethanolamine",
          "Nucleotide",
          "Cholesterol Ester",
          "Free Fatty Acids",
          "Peptide",
          "Carbohydrate",
          "Cofactors and Vitamins",
          "Lysophosphatidylcholine",
          "Sphingomyelin",
          "Ceramides",
          "Energy",
          "Hexosylceramides",
          "Lysophosphatidylethanolamine",
          "Sphingolipids",
          "PI",
          "Phospholipids",
          "Lactosylceramide",
          "Neutral Complex Lipids",
          "Dihydroceramides"
         ],
         "yaxis": "y"
        }
       ],
       "layout": {
        "barmode": "relative",
        "coloraxis": {
         "colorbar": {
          "title": {
           "text": "SUPER_PATHWAY"
          }
         },
         "colorscale": [
          [
           0,
           "#0d0887"
          ],
          [
           0.1111111111111111,
           "#46039f"
          ],
          [
           0.2222222222222222,
           "#7201a8"
          ],
          [
           0.3333333333333333,
           "#9c179e"
          ],
          [
           0.4444444444444444,
           "#bd3786"
          ],
          [
           0.5555555555555556,
           "#d8576b"
          ],
          [
           0.6666666666666666,
           "#ed7953"
          ],
          [
           0.7777777777777778,
           "#fb9f3a"
          ],
          [
           0.8888888888888888,
           "#fdca26"
          ],
          [
           1,
           "#f0f921"
          ]
         ]
        },
        "legend": {
         "tracegroupgap": 0
        },
        "margin": {
         "t": 60
        },
        "template": {
         "data": {
          "bar": [
           {
            "error_x": {
             "color": "#2a3f5f"
            },
            "error_y": {
             "color": "#2a3f5f"
            },
            "marker": {
             "line": {
              "color": "#E5ECF6",
              "width": 0.5
             },
             "pattern": {
              "fillmode": "overlay",
              "size": 10,
              "solidity": 0.2
             }
            },
            "type": "bar"
           }
          ],
          "barpolar": [
           {
            "marker": {
             "line": {
              "color": "#E5ECF6",
              "width": 0.5
             },
             "pattern": {
              "fillmode": "overlay",
              "size": 10,
              "solidity": 0.2
             }
            },
            "type": "barpolar"
           }
          ],
          "carpet": [
           {
            "aaxis": {
             "endlinecolor": "#2a3f5f",
             "gridcolor": "white",
             "linecolor": "white",
             "minorgridcolor": "white",
             "startlinecolor": "#2a3f5f"
            },
            "baxis": {
             "endlinecolor": "#2a3f5f",
             "gridcolor": "white",
             "linecolor": "white",
             "minorgridcolor": "white",
             "startlinecolor": "#2a3f5f"
            },
            "type": "carpet"
           }
          ],
          "choropleth": [
           {
            "colorbar": {
             "outlinewidth": 0,
             "ticks": ""
            },
            "type": "choropleth"
           }
          ],
          "contour": [
           {
            "colorbar": {
             "outlinewidth": 0,
             "ticks": ""
            },
            "colorscale": [
             [
              0,
              "#0d0887"
             ],
             [
              0.1111111111111111,
              "#46039f"
             ],
             [
              0.2222222222222222,
              "#7201a8"
             ],
             [
              0.3333333333333333,
              "#9c179e"
             ],
             [
              0.4444444444444444,
              "#bd3786"
             ],
             [
              0.5555555555555556,
              "#d8576b"
             ],
             [
              0.6666666666666666,
              "#ed7953"
             ],
             [
              0.7777777777777778,
              "#fb9f3a"
             ],
             [
              0.8888888888888888,
              "#fdca26"
             ],
             [
              1,
              "#f0f921"
             ]
            ],
            "type": "contour"
           }
          ],
          "contourcarpet": [
           {
            "colorbar": {
             "outlinewidth": 0,
             "ticks": ""
            },
            "type": "contourcarpet"
           }
          ],
          "heatmap": [
           {
            "colorbar": {
             "outlinewidth": 0,
             "ticks": ""
            },
            "colorscale": [
             [
              0,
              "#0d0887"
             ],
             [
              0.1111111111111111,
              "#46039f"
             ],
             [
              0.2222222222222222,
              "#7201a8"
             ],
             [
              0.3333333333333333,
              "#9c179e"
             ],
             [
              0.4444444444444444,
              "#bd3786"
             ],
             [
              0.5555555555555556,
              "#d8576b"
             ],
             [
              0.6666666666666666,
              "#ed7953"
             ],
             [
              0.7777777777777778,
              "#fb9f3a"
             ],
             [
              0.8888888888888888,
              "#fdca26"
             ],
             [
              1,
              "#f0f921"
             ]
            ],
            "type": "heatmap"
           }
          ],
          "heatmapgl": [
           {
            "colorbar": {
             "outlinewidth": 0,
             "ticks": ""
            },
            "colorscale": [
             [
              0,
              "#0d0887"
             ],
             [
              0.1111111111111111,
              "#46039f"
             ],
             [
              0.2222222222222222,
              "#7201a8"
             ],
             [
              0.3333333333333333,
              "#9c179e"
             ],
             [
              0.4444444444444444,
              "#bd3786"
             ],
             [
              0.5555555555555556,
              "#d8576b"
             ],
             [
              0.6666666666666666,
              "#ed7953"
             ],
             [
              0.7777777777777778,
              "#fb9f3a"
             ],
             [
              0.8888888888888888,
              "#fdca26"
             ],
             [
              1,
              "#f0f921"
             ]
            ],
            "type": "heatmapgl"
           }
          ],
          "histogram": [
           {
            "marker": {
             "pattern": {
              "fillmode": "overlay",
              "size": 10,
              "solidity": 0.2
             }
            },
            "type": "histogram"
           }
          ],
          "histogram2d": [
           {
            "colorbar": {
             "outlinewidth": 0,
             "ticks": ""
            },
            "colorscale": [
             [
              0,
              "#0d0887"
             ],
             [
              0.1111111111111111,
              "#46039f"
             ],
             [
              0.2222222222222222,
              "#7201a8"
             ],
             [
              0.3333333333333333,
              "#9c179e"
             ],
             [
              0.4444444444444444,
              "#bd3786"
             ],
             [
              0.5555555555555556,
              "#d8576b"
             ],
             [
              0.6666666666666666,
              "#ed7953"
             ],
             [
              0.7777777777777778,
              "#fb9f3a"
             ],
             [
              0.8888888888888888,
              "#fdca26"
             ],
             [
              1,
              "#f0f921"
             ]
            ],
            "type": "histogram2d"
           }
          ],
          "histogram2dcontour": [
           {
            "colorbar": {
             "outlinewidth": 0,
             "ticks": ""
            },
            "colorscale": [
             [
              0,
              "#0d0887"
             ],
             [
              0.1111111111111111,
              "#46039f"
             ],
             [
              0.2222222222222222,
              "#7201a8"
             ],
             [
              0.3333333333333333,
              "#9c179e"
             ],
             [
              0.4444444444444444,
              "#bd3786"
             ],
             [
              0.5555555555555556,
              "#d8576b"
             ],
             [
              0.6666666666666666,
              "#ed7953"
             ],
             [
              0.7777777777777778,
              "#fb9f3a"
             ],
             [
              0.8888888888888888,
              "#fdca26"
             ],
             [
              1,
              "#f0f921"
             ]
            ],
            "type": "histogram2dcontour"
           }
          ],
          "mesh3d": [
           {
            "colorbar": {
             "outlinewidth": 0,
             "ticks": ""
            },
            "type": "mesh3d"
           }
          ],
          "parcoords": [
           {
            "line": {
             "colorbar": {
              "outlinewidth": 0,
              "ticks": ""
             }
            },
            "type": "parcoords"
           }
          ],
          "pie": [
           {
            "automargin": true,
            "type": "pie"
           }
          ],
          "scatter": [
           {
            "fillpattern": {
             "fillmode": "overlay",
             "size": 10,
             "solidity": 0.2
            },
            "type": "scatter"
           }
          ],
          "scatter3d": [
           {
            "line": {
             "colorbar": {
              "outlinewidth": 0,
              "ticks": ""
             }
            },
            "marker": {
             "colorbar": {
              "outlinewidth": 0,
              "ticks": ""
             }
            },
            "type": "scatter3d"
           }
          ],
          "scattercarpet": [
           {
            "marker": {
             "colorbar": {
              "outlinewidth": 0,
              "ticks": ""
             }
            },
            "type": "scattercarpet"
           }
          ],
          "scattergeo": [
           {
            "marker": {
             "colorbar": {
              "outlinewidth": 0,
              "ticks": ""
             }
            },
            "type": "scattergeo"
           }
          ],
          "scattergl": [
           {
            "marker": {
             "colorbar": {
              "outlinewidth": 0,
              "ticks": ""
             }
            },
            "type": "scattergl"
           }
          ],
          "scattermapbox": [
           {
            "marker": {
             "colorbar": {
              "outlinewidth": 0,
              "ticks": ""
             }
            },
            "type": "scattermapbox"
           }
          ],
          "scatterpolar": [
           {
            "marker": {
             "colorbar": {
              "outlinewidth": 0,
              "ticks": ""
             }
            },
            "type": "scatterpolar"
           }
          ],
          "scatterpolargl": [
           {
            "marker": {
             "colorbar": {
              "outlinewidth": 0,
              "ticks": ""
             }
            },
            "type": "scatterpolargl"
           }
          ],
          "scatterternary": [
           {
            "marker": {
             "colorbar": {
              "outlinewidth": 0,
              "ticks": ""
             }
            },
            "type": "scatterternary"
           }
          ],
          "surface": [
           {
            "colorbar": {
             "outlinewidth": 0,
             "ticks": ""
            },
            "colorscale": [
             [
              0,
              "#0d0887"
             ],
             [
              0.1111111111111111,
              "#46039f"
             ],
             [
              0.2222222222222222,
              "#7201a8"
             ],
             [
              0.3333333333333333,
              "#9c179e"
             ],
             [
              0.4444444444444444,
              "#bd3786"
             ],
             [
              0.5555555555555556,
              "#d8576b"
             ],
             [
              0.6666666666666666,
              "#ed7953"
             ],
             [
              0.7777777777777778,
              "#fb9f3a"
             ],
             [
              0.8888888888888888,
              "#fdca26"
             ],
             [
              1,
              "#f0f921"
             ]
            ],
            "type": "surface"
           }
          ],
          "table": [
           {
            "cells": {
             "fill": {
              "color": "#EBF0F8"
             },
             "line": {
              "color": "white"
             }
            },
            "header": {
             "fill": {
              "color": "#C8D4E3"
             },
             "line": {
              "color": "white"
             }
            },
            "type": "table"
           }
          ]
         },
         "layout": {
          "annotationdefaults": {
           "arrowcolor": "#2a3f5f",
           "arrowhead": 0,
           "arrowwidth": 1
          },
          "autotypenumbers": "strict",
          "coloraxis": {
           "colorbar": {
            "outlinewidth": 0,
            "ticks": ""
           }
          },
          "colorscale": {
           "diverging": [
            [
             0,
             "#8e0152"
            ],
            [
             0.1,
             "#c51b7d"
            ],
            [
             0.2,
             "#de77ae"
            ],
            [
             0.3,
             "#f1b6da"
            ],
            [
             0.4,
             "#fde0ef"
            ],
            [
             0.5,
             "#f7f7f7"
            ],
            [
             0.6,
             "#e6f5d0"
            ],
            [
             0.7,
             "#b8e186"
            ],
            [
             0.8,
             "#7fbc41"
            ],
            [
             0.9,
             "#4d9221"
            ],
            [
             1,
             "#276419"
            ]
           ],
           "sequential": [
            [
             0,
             "#0d0887"
            ],
            [
             0.1111111111111111,
             "#46039f"
            ],
            [
             0.2222222222222222,
             "#7201a8"
            ],
            [
             0.3333333333333333,
             "#9c179e"
            ],
            [
             0.4444444444444444,
             "#bd3786"
            ],
            [
             0.5555555555555556,
             "#d8576b"
            ],
            [
             0.6666666666666666,
             "#ed7953"
            ],
            [
             0.7777777777777778,
             "#fb9f3a"
            ],
            [
             0.8888888888888888,
             "#fdca26"
            ],
            [
             1,
             "#f0f921"
            ]
           ],
           "sequentialminus": [
            [
             0,
             "#0d0887"
            ],
            [
             0.1111111111111111,
             "#46039f"
            ],
            [
             0.2222222222222222,
             "#7201a8"
            ],
            [
             0.3333333333333333,
             "#9c179e"
            ],
            [
             0.4444444444444444,
             "#bd3786"
            ],
            [
             0.5555555555555556,
             "#d8576b"
            ],
            [
             0.6666666666666666,
             "#ed7953"
            ],
            [
             0.7777777777777778,
             "#fb9f3a"
            ],
            [
             0.8888888888888888,
             "#fdca26"
            ],
            [
             1,
             "#f0f921"
            ]
           ]
          },
          "colorway": [
           "#636efa",
           "#EF553B",
           "#00cc96",
           "#ab63fa",
           "#FFA15A",
           "#19d3f3",
           "#FF6692",
           "#B6E880",
           "#FF97FF",
           "#FECB52"
          ],
          "font": {
           "color": "#2a3f5f"
          },
          "geo": {
           "bgcolor": "white",
           "lakecolor": "white",
           "landcolor": "#E5ECF6",
           "showlakes": true,
           "showland": true,
           "subunitcolor": "white"
          },
          "hoverlabel": {
           "align": "left"
          },
          "hovermode": "closest",
          "mapbox": {
           "style": "light"
          },
          "paper_bgcolor": "white",
          "plot_bgcolor": "#E5ECF6",
          "polar": {
           "angularaxis": {
            "gridcolor": "white",
            "linecolor": "white",
            "ticks": ""
           },
           "bgcolor": "#E5ECF6",
           "radialaxis": {
            "gridcolor": "white",
            "linecolor": "white",
            "ticks": ""
           }
          },
          "scene": {
           "xaxis": {
            "backgroundcolor": "#E5ECF6",
            "gridcolor": "white",
            "gridwidth": 2,
            "linecolor": "white",
            "showbackground": true,
            "ticks": "",
            "zerolinecolor": "white"
           },
           "yaxis": {
            "backgroundcolor": "#E5ECF6",
            "gridcolor": "white",
            "gridwidth": 2,
            "linecolor": "white",
            "showbackground": true,
            "ticks": "",
            "zerolinecolor": "white"
           },
           "zaxis": {
            "backgroundcolor": "#E5ECF6",
            "gridcolor": "white",
            "gridwidth": 2,
            "linecolor": "white",
            "showbackground": true,
            "ticks": "",
            "zerolinecolor": "white"
           }
          },
          "shapedefaults": {
           "line": {
            "color": "#2a3f5f"
           }
          },
          "ternary": {
           "aaxis": {
            "gridcolor": "white",
            "linecolor": "white",
            "ticks": ""
           },
           "baxis": {
            "gridcolor": "white",
            "linecolor": "white",
            "ticks": ""
           },
           "bgcolor": "#E5ECF6",
           "caxis": {
            "gridcolor": "white",
            "linecolor": "white",
            "ticks": ""
           }
          },
          "title": {
           "x": 0.05
          },
          "xaxis": {
           "automargin": true,
           "gridcolor": "white",
           "linecolor": "white",
           "ticks": "",
           "title": {
            "standoff": 15
           },
           "zerolinecolor": "white",
           "zerolinewidth": 2
          },
          "yaxis": {
           "automargin": true,
           "gridcolor": "white",
           "linecolor": "white",
           "ticks": "",
           "title": {
            "standoff": 15
           },
           "zerolinecolor": "white",
           "zerolinewidth": 2
          }
         }
        },
        "xaxis": {
         "anchor": "y",
         "domain": [
          0,
          1
         ],
         "title": {
          "text": "SUPER_PATHWAY"
         }
        },
        "yaxis": {
         "anchor": "x",
         "domain": [
          0,
          1
         ],
         "title": {
          "text": "index"
         }
        }
       }
      },
      "text/html": [
       "<div>                            <div id=\"c3bc3e90-01a1-4f80-ae38-fd4a0359bbd1\" class=\"plotly-graph-div\" style=\"height:525px; width:100%;\"></div>            <script type=\"text/javascript\">                require([\"plotly\"], function(Plotly) {                    window.PLOTLYENV=window.PLOTLYENV || {};                                    if (document.getElementById(\"c3bc3e90-01a1-4f80-ae38-fd4a0359bbd1\")) {                    Plotly.newPlot(                        \"c3bc3e90-01a1-4f80-ae38-fd4a0359bbd1\",                        [{\"alignmentgroup\":\"True\",\"hovertemplate\":\"SUPER_PATHWAY=%{marker.color}<br>index=%{y}<extra></extra>\",\"legendgroup\":\"\",\"marker\":{\"color\":[490,260,149,142,89,52,41,37,27,26,26,24,21,18,15,12,9,8,7,6,5,5,5,4,4,4],\"coloraxis\":\"coloraxis\",\"pattern\":{\"shape\":\"\"},\"line\":{\"width\":0}},\"name\":\"\",\"offsetgroup\":\"\",\"orientation\":\"h\",\"showlegend\":false,\"textposition\":\"auto\",\"x\":[490,260,149,142,89,52,41,37,27,26,26,24,21,18,15,12,9,8,7,6,5,5,5,4,4,4],\"xaxis\":\"x\",\"y\":[\"Triacylglycerol\",\".\",\"Amino Acid\",\"Lipid\",\"Xenobiotics\",\"Diacylglycerol\",\"Phosphatidylcholine\",\"Phosphatidylethanolamine\",\"Nucleotide\",\"Cholesterol Ester\",\"Free Fatty Acids\",\"Peptide\",\"Carbohydrate\",\"Cofactors and Vitamins\",\"Lysophosphatidylcholine\",\"Sphingomyelin\",\"Ceramides\",\"Energy\",\"Hexosylceramides\",\"Lysophosphatidylethanolamine\",\"Sphingolipids\",\"PI\",\"Phospholipids\",\"Lactosylceramide\",\"Neutral Complex Lipids\",\"Dihydroceramides\"],\"yaxis\":\"y\",\"type\":\"bar\"}],                        {\"template\":{\"data\":{\"histogram2dcontour\":[{\"type\":\"histogram2dcontour\",\"colorbar\":{\"outlinewidth\":0,\"ticks\":\"\"},\"colorscale\":[[0.0,\"#0d0887\"],[0.1111111111111111,\"#46039f\"],[0.2222222222222222,\"#7201a8\"],[0.3333333333333333,\"#9c179e\"],[0.4444444444444444,\"#bd3786\"],[0.5555555555555556,\"#d8576b\"],[0.6666666666666666,\"#ed7953\"],[0.7777777777777778,\"#fb9f3a\"],[0.8888888888888888,\"#fdca26\"],[1.0,\"#f0f921\"]]}],\"choropleth\":[{\"type\":\"choropleth\",\"colorbar\":{\"outlinewidth\":0,\"ticks\":\"\"}}],\"histogram2d\":[{\"type\":\"histogram2d\",\"colorbar\":{\"outlinewidth\":0,\"ticks\":\"\"},\"colorscale\":[[0.0,\"#0d0887\"],[0.1111111111111111,\"#46039f\"],[0.2222222222222222,\"#7201a8\"],[0.3333333333333333,\"#9c179e\"],[0.4444444444444444,\"#bd3786\"],[0.5555555555555556,\"#d8576b\"],[0.6666666666666666,\"#ed7953\"],[0.7777777777777778,\"#fb9f3a\"],[0.8888888888888888,\"#fdca26\"],[1.0,\"#f0f921\"]]}],\"heatmap\":[{\"type\":\"heatmap\",\"colorbar\":{\"outlinewidth\":0,\"ticks\":\"\"},\"colorscale\":[[0.0,\"#0d0887\"],[0.1111111111111111,\"#46039f\"],[0.2222222222222222,\"#7201a8\"],[0.3333333333333333,\"#9c179e\"],[0.4444444444444444,\"#bd3786\"],[0.5555555555555556,\"#d8576b\"],[0.6666666666666666,\"#ed7953\"],[0.7777777777777778,\"#fb9f3a\"],[0.8888888888888888,\"#fdca26\"],[1.0,\"#f0f921\"]]}],\"heatmapgl\":[{\"type\":\"heatmapgl\",\"colorbar\":{\"outlinewidth\":0,\"ticks\":\"\"},\"colorscale\":[[0.0,\"#0d0887\"],[0.1111111111111111,\"#46039f\"],[0.2222222222222222,\"#7201a8\"],[0.3333333333333333,\"#9c179e\"],[0.4444444444444444,\"#bd3786\"],[0.5555555555555556,\"#d8576b\"],[0.6666666666666666,\"#ed7953\"],[0.7777777777777778,\"#fb9f3a\"],[0.8888888888888888,\"#fdca26\"],[1.0,\"#f0f921\"]]}],\"contourcarpet\":[{\"type\":\"contourcarpet\",\"colorbar\":{\"outlinewidth\":0,\"ticks\":\"\"}}],\"contour\":[{\"type\":\"contour\",\"colorbar\":{\"outlinewidth\":0,\"ticks\":\"\"},\"colorscale\":[[0.0,\"#0d0887\"],[0.1111111111111111,\"#46039f\"],[0.2222222222222222,\"#7201a8\"],[0.3333333333333333,\"#9c179e\"],[0.4444444444444444,\"#bd3786\"],[0.5555555555555556,\"#d8576b\"],[0.6666666666666666,\"#ed7953\"],[0.7777777777777778,\"#fb9f3a\"],[0.8888888888888888,\"#fdca26\"],[1.0,\"#f0f921\"]]}],\"surface\":[{\"type\":\"surface\",\"colorbar\":{\"outlinewidth\":0,\"ticks\":\"\"},\"colorscale\":[[0.0,\"#0d0887\"],[0.1111111111111111,\"#46039f\"],[0.2222222222222222,\"#7201a8\"],[0.3333333333333333,\"#9c179e\"],[0.4444444444444444,\"#bd3786\"],[0.5555555555555556,\"#d8576b\"],[0.6666666666666666,\"#ed7953\"],[0.7777777777777778,\"#fb9f3a\"],[0.8888888888888888,\"#fdca26\"],[1.0,\"#f0f921\"]]}],\"mesh3d\":[{\"type\":\"mesh3d\",\"colorbar\":{\"outlinewidth\":0,\"ticks\":\"\"}}],\"scatter\":[{\"fillpattern\":{\"fillmode\":\"overlay\",\"size\":10,\"solidity\":0.2},\"type\":\"scatter\"}],\"parcoords\":[{\"type\":\"parcoords\",\"line\":{\"colorbar\":{\"outlinewidth\":0,\"ticks\":\"\"}}}],\"scatterpolargl\":[{\"type\":\"scatterpolargl\",\"marker\":{\"colorbar\":{\"outlinewidth\":0,\"ticks\":\"\"}}}],\"bar\":[{\"error_x\":{\"color\":\"#2a3f5f\"},\"error_y\":{\"color\":\"#2a3f5f\"},\"marker\":{\"line\":{\"color\":\"#E5ECF6\",\"width\":0.5},\"pattern\":{\"fillmode\":\"overlay\",\"size\":10,\"solidity\":0.2}},\"type\":\"bar\"}],\"scattergeo\":[{\"type\":\"scattergeo\",\"marker\":{\"colorbar\":{\"outlinewidth\":0,\"ticks\":\"\"}}}],\"scatterpolar\":[{\"type\":\"scatterpolar\",\"marker\":{\"colorbar\":{\"outlinewidth\":0,\"ticks\":\"\"}}}],\"histogram\":[{\"marker\":{\"pattern\":{\"fillmode\":\"overlay\",\"size\":10,\"solidity\":0.2}},\"type\":\"histogram\"}],\"scattergl\":[{\"type\":\"scattergl\",\"marker\":{\"colorbar\":{\"outlinewidth\":0,\"ticks\":\"\"}}}],\"scatter3d\":[{\"type\":\"scatter3d\",\"line\":{\"colorbar\":{\"outlinewidth\":0,\"ticks\":\"\"}},\"marker\":{\"colorbar\":{\"outlinewidth\":0,\"ticks\":\"\"}}}],\"scattermapbox\":[{\"type\":\"scattermapbox\",\"marker\":{\"colorbar\":{\"outlinewidth\":0,\"ticks\":\"\"}}}],\"scatterternary\":[{\"type\":\"scatterternary\",\"marker\":{\"colorbar\":{\"outlinewidth\":0,\"ticks\":\"\"}}}],\"scattercarpet\":[{\"type\":\"scattercarpet\",\"marker\":{\"colorbar\":{\"outlinewidth\":0,\"ticks\":\"\"}}}],\"carpet\":[{\"aaxis\":{\"endlinecolor\":\"#2a3f5f\",\"gridcolor\":\"white\",\"linecolor\":\"white\",\"minorgridcolor\":\"white\",\"startlinecolor\":\"#2a3f5f\"},\"baxis\":{\"endlinecolor\":\"#2a3f5f\",\"gridcolor\":\"white\",\"linecolor\":\"white\",\"minorgridcolor\":\"white\",\"startlinecolor\":\"#2a3f5f\"},\"type\":\"carpet\"}],\"table\":[{\"cells\":{\"fill\":{\"color\":\"#EBF0F8\"},\"line\":{\"color\":\"white\"}},\"header\":{\"fill\":{\"color\":\"#C8D4E3\"},\"line\":{\"color\":\"white\"}},\"type\":\"table\"}],\"barpolar\":[{\"marker\":{\"line\":{\"color\":\"#E5ECF6\",\"width\":0.5},\"pattern\":{\"fillmode\":\"overlay\",\"size\":10,\"solidity\":0.2}},\"type\":\"barpolar\"}],\"pie\":[{\"automargin\":true,\"type\":\"pie\"}]},\"layout\":{\"autotypenumbers\":\"strict\",\"colorway\":[\"#636efa\",\"#EF553B\",\"#00cc96\",\"#ab63fa\",\"#FFA15A\",\"#19d3f3\",\"#FF6692\",\"#B6E880\",\"#FF97FF\",\"#FECB52\"],\"font\":{\"color\":\"#2a3f5f\"},\"hovermode\":\"closest\",\"hoverlabel\":{\"align\":\"left\"},\"paper_bgcolor\":\"white\",\"plot_bgcolor\":\"#E5ECF6\",\"polar\":{\"bgcolor\":\"#E5ECF6\",\"angularaxis\":{\"gridcolor\":\"white\",\"linecolor\":\"white\",\"ticks\":\"\"},\"radialaxis\":{\"gridcolor\":\"white\",\"linecolor\":\"white\",\"ticks\":\"\"}},\"ternary\":{\"bgcolor\":\"#E5ECF6\",\"aaxis\":{\"gridcolor\":\"white\",\"linecolor\":\"white\",\"ticks\":\"\"},\"baxis\":{\"gridcolor\":\"white\",\"linecolor\":\"white\",\"ticks\":\"\"},\"caxis\":{\"gridcolor\":\"white\",\"linecolor\":\"white\",\"ticks\":\"\"}},\"coloraxis\":{\"colorbar\":{\"outlinewidth\":0,\"ticks\":\"\"}},\"colorscale\":{\"sequential\":[[0.0,\"#0d0887\"],[0.1111111111111111,\"#46039f\"],[0.2222222222222222,\"#7201a8\"],[0.3333333333333333,\"#9c179e\"],[0.4444444444444444,\"#bd3786\"],[0.5555555555555556,\"#d8576b\"],[0.6666666666666666,\"#ed7953\"],[0.7777777777777778,\"#fb9f3a\"],[0.8888888888888888,\"#fdca26\"],[1.0,\"#f0f921\"]],\"sequentialminus\":[[0.0,\"#0d0887\"],[0.1111111111111111,\"#46039f\"],[0.2222222222222222,\"#7201a8\"],[0.3333333333333333,\"#9c179e\"],[0.4444444444444444,\"#bd3786\"],[0.5555555555555556,\"#d8576b\"],[0.6666666666666666,\"#ed7953\"],[0.7777777777777778,\"#fb9f3a\"],[0.8888888888888888,\"#fdca26\"],[1.0,\"#f0f921\"]],\"diverging\":[[0,\"#8e0152\"],[0.1,\"#c51b7d\"],[0.2,\"#de77ae\"],[0.3,\"#f1b6da\"],[0.4,\"#fde0ef\"],[0.5,\"#f7f7f7\"],[0.6,\"#e6f5d0\"],[0.7,\"#b8e186\"],[0.8,\"#7fbc41\"],[0.9,\"#4d9221\"],[1,\"#276419\"]]},\"xaxis\":{\"gridcolor\":\"white\",\"linecolor\":\"white\",\"ticks\":\"\",\"title\":{\"standoff\":15},\"zerolinecolor\":\"white\",\"automargin\":true,\"zerolinewidth\":2},\"yaxis\":{\"gridcolor\":\"white\",\"linecolor\":\"white\",\"ticks\":\"\",\"title\":{\"standoff\":15},\"zerolinecolor\":\"white\",\"automargin\":true,\"zerolinewidth\":2},\"scene\":{\"xaxis\":{\"backgroundcolor\":\"#E5ECF6\",\"gridcolor\":\"white\",\"linecolor\":\"white\",\"showbackground\":true,\"ticks\":\"\",\"zerolinecolor\":\"white\",\"gridwidth\":2},\"yaxis\":{\"backgroundcolor\":\"#E5ECF6\",\"gridcolor\":\"white\",\"linecolor\":\"white\",\"showbackground\":true,\"ticks\":\"\",\"zerolinecolor\":\"white\",\"gridwidth\":2},\"zaxis\":{\"backgroundcolor\":\"#E5ECF6\",\"gridcolor\":\"white\",\"linecolor\":\"white\",\"showbackground\":true,\"ticks\":\"\",\"zerolinecolor\":\"white\",\"gridwidth\":2}},\"shapedefaults\":{\"line\":{\"color\":\"#2a3f5f\"}},\"annotationdefaults\":{\"arrowcolor\":\"#2a3f5f\",\"arrowhead\":0,\"arrowwidth\":1},\"geo\":{\"bgcolor\":\"white\",\"landcolor\":\"#E5ECF6\",\"subunitcolor\":\"white\",\"showland\":true,\"showlakes\":true,\"lakecolor\":\"white\"},\"title\":{\"x\":0.05},\"mapbox\":{\"style\":\"light\"}}},\"xaxis\":{\"anchor\":\"y\",\"domain\":[0.0,1.0],\"title\":{\"text\":\"SUPER_PATHWAY\"}},\"yaxis\":{\"anchor\":\"x\",\"domain\":[0.0,1.0],\"title\":{\"text\":\"index\"}},\"coloraxis\":{\"colorbar\":{\"title\":{\"text\":\"SUPER_PATHWAY\"}},\"colorscale\":[[0.0,\"#0d0887\"],[0.1111111111111111,\"#46039f\"],[0.2222222222222222,\"#7201a8\"],[0.3333333333333333,\"#9c179e\"],[0.4444444444444444,\"#bd3786\"],[0.5555555555555556,\"#d8576b\"],[0.6666666666666666,\"#ed7953\"],[0.7777777777777778,\"#fb9f3a\"],[0.8888888888888888,\"#fdca26\"],[1.0,\"#f0f921\"]]},\"legend\":{\"tracegroupgap\":0},\"margin\":{\"t\":60},\"barmode\":\"relative\"},                        {\"responsive\": true}                    ).then(function(){\n",
       "                            \n",
       "var gd = document.getElementById('c3bc3e90-01a1-4f80-ae38-fd4a0359bbd1');\n",
       "var x = new MutationObserver(function (mutations, observer) {{\n",
       "        var display = window.getComputedStyle(gd).display;\n",
       "        if (!display || display === 'none') {{\n",
       "            console.log([gd, 'removed!']);\n",
       "            Plotly.purge(gd);\n",
       "            observer.disconnect();\n",
       "        }}\n",
       "}});\n",
       "\n",
       "// Listen for the removal of the full notebook cells\n",
       "var notebookContainer = gd.closest('#notebook-container');\n",
       "if (notebookContainer) {{\n",
       "    x.observe(notebookContainer, {childList: true});\n",
       "}}\n",
       "\n",
       "// Listen for the clearing of the current output cell\n",
       "var outputEl = gd.closest('.output');\n",
       "if (outputEl) {{\n",
       "    x.observe(outputEl, {childList: true});\n",
       "}}\n",
       "\n",
       "                        })                };                });            </script>        </div>"
      ]
     },
     "metadata": {},
     "output_type": "display_data"
    }
   ],
   "source": [
    "# GRAFICO IDENTIFICACION DEL GRUPO DE BIOQUIMICO AL QUE PERTENECEN LOS COMPUESTOS IDENTIFICADOS (Final para presentación)\n",
    "fig = px.bar(grupo_compuestos, x=\"SUPER_PATHWAY\", color=\"SUPER_PATHWAY\")\n",
    "fig.update_traces(marker_line_width=0)\n",
    "fig.show()"
   ]
  }
 ],
 "metadata": {
  "interpreter": {
   "hash": "5ab71e38473c3d05dca6d8b30e7ae23eca3decdcb13edbaa061da232a838878a"
  },
  "kernelspec": {
   "display_name": "Python 3.7.4 64-bit",
   "language": "python",
   "name": "python3"
  },
  "language_info": {
   "codemirror_mode": {
    "name": "ipython",
    "version": 3
   },
   "file_extension": ".py",
   "mimetype": "text/x-python",
   "name": "python",
   "nbconvert_exporter": "python",
   "pygments_lexer": "ipython3",
   "version": "3.7.4"
  },
  "orig_nbformat": 4
 },
 "nbformat": 4,
 "nbformat_minor": 2
}
